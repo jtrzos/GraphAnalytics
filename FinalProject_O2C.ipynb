{
 "cells": [
  {
   "cell_type": "code",
   "execution_count": null,
   "metadata": {},
   "outputs": [],
   "source": [
    "!pip install seaborn\n",
    "\n",
    "import pandas as pd\n",
    "import networkx as nx\n",
    "import numpy as np\n",
    "import plotly.graph_objects as go\n",
    "import matplotlib.pyplot as plt\n",
    "import seaborn as sns\n",
    "\n",
    "df_br = pd.read_csv('./O2C_Data/ACTIVITY_TABLE_BR.csv', sep = ',')\n",
    "df_de = pd.read_csv('./O2C_Data/ACTIVITY_TABLE_DE.csv', sep = ',')\n",
    "df_pt = pd.read_csv('./O2C_Data/ACTIVITY_TABLE_PT.csv', sep = ',')\n",
    "df_th = pd.read_csv('./O2C_Data/ACTIVITY_TABLE_TH.csv', sep = ',')"
   ]
  },
  {
   "cell_type": "code",
   "execution_count": 60,
   "metadata": {},
   "outputs": [
    {
     "data": {
      "text/html": [
       "<div>\n",
       "<style scoped>\n",
       "    .dataframe tbody tr th:only-of-type {\n",
       "        vertical-align: middle;\n",
       "    }\n",
       "\n",
       "    .dataframe tbody tr th {\n",
       "        vertical-align: top;\n",
       "    }\n",
       "\n",
       "    .dataframe thead th {\n",
       "        text-align: right;\n",
       "    }\n",
       "</style>\n",
       "<table border=\"1\" class=\"dataframe\">\n",
       "  <thead>\n",
       "    <tr style=\"text-align: right;\">\n",
       "      <th></th>\n",
       "      <th>ACTIVITY</th>\n",
       "      <th>TIMESTAMP</th>\n",
       "      <th>SALES_DOC</th>\n",
       "      <th>SALES_DOC_ITEM</th>\n",
       "      <th>COUNTRY</th>\n",
       "    </tr>\n",
       "  </thead>\n",
       "  <tbody>\n",
       "    <tr>\n",
       "      <th>0</th>\n",
       "      <td>Create Sales Order</td>\n",
       "      <td>2021-10-04 16:22:36</td>\n",
       "      <td>50043243</td>\n",
       "      <td>10</td>\n",
       "      <td>BR</td>\n",
       "    </tr>\n",
       "    <tr>\n",
       "      <th>1</th>\n",
       "      <td>Create Sales Order Item</td>\n",
       "      <td>2021-10-04 16:22:36</td>\n",
       "      <td>50043243</td>\n",
       "      <td>10</td>\n",
       "      <td>BR</td>\n",
       "    </tr>\n",
       "    <tr>\n",
       "      <th>2</th>\n",
       "      <td>Material Availability Date passed</td>\n",
       "      <td>2021-10-04 00:00:00</td>\n",
       "      <td>50043243</td>\n",
       "      <td>10</td>\n",
       "      <td>BR</td>\n",
       "    </tr>\n",
       "  </tbody>\n",
       "</table>\n",
       "</div>"
      ],
      "text/plain": [
       "                            ACTIVITY            TIMESTAMP  SALES_DOC  \\\n",
       "0                 Create Sales Order  2021-10-04 16:22:36   50043243   \n",
       "1            Create Sales Order Item  2021-10-04 16:22:36   50043243   \n",
       "2  Material Availability Date passed  2021-10-04 00:00:00   50043243   \n",
       "\n",
       "   SALES_DOC_ITEM COUNTRY  \n",
       "0              10      BR  \n",
       "1              10      BR  \n",
       "2              10      BR  "
      ]
     },
     "execution_count": 60,
     "metadata": {},
     "output_type": "execute_result"
    }
   ],
   "source": [
    "df_br.head(3)"
   ]
  },
  {
   "cell_type": "code",
   "execution_count": 61,
   "metadata": {},
   "outputs": [
    {
     "data": {
      "text/html": [
       "<div>\n",
       "<style scoped>\n",
       "    .dataframe tbody tr th:only-of-type {\n",
       "        vertical-align: middle;\n",
       "    }\n",
       "\n",
       "    .dataframe tbody tr th {\n",
       "        vertical-align: top;\n",
       "    }\n",
       "\n",
       "    .dataframe thead th {\n",
       "        text-align: right;\n",
       "    }\n",
       "</style>\n",
       "<table border=\"1\" class=\"dataframe\">\n",
       "  <thead>\n",
       "    <tr style=\"text-align: right;\">\n",
       "      <th></th>\n",
       "      <th>ACTIVITY</th>\n",
       "      <th>TIMESTAMP</th>\n",
       "      <th>SALES_DOC</th>\n",
       "      <th>SALES_DOC_ITEM</th>\n",
       "      <th>COUNTRY</th>\n",
       "    </tr>\n",
       "  </thead>\n",
       "  <tbody>\n",
       "    <tr>\n",
       "      <th>0</th>\n",
       "      <td>Set Initial Delivery Block</td>\n",
       "      <td>2022-02-01 18:27:42</td>\n",
       "      <td>1129257591</td>\n",
       "      <td>5450</td>\n",
       "      <td>DE</td>\n",
       "    </tr>\n",
       "    <tr>\n",
       "      <th>1</th>\n",
       "      <td>Material Availability Date passed</td>\n",
       "      <td>2022-03-08 00:00:00</td>\n",
       "      <td>1129257591</td>\n",
       "      <td>5450</td>\n",
       "      <td>DE</td>\n",
       "    </tr>\n",
       "    <tr>\n",
       "      <th>2</th>\n",
       "      <td>Create Sales Order Item</td>\n",
       "      <td>2022-02-01 18:27:42</td>\n",
       "      <td>1129257591</td>\n",
       "      <td>5450</td>\n",
       "      <td>DE</td>\n",
       "    </tr>\n",
       "  </tbody>\n",
       "</table>\n",
       "</div>"
      ],
      "text/plain": [
       "                            ACTIVITY            TIMESTAMP   SALES_DOC  \\\n",
       "0         Set Initial Delivery Block  2022-02-01 18:27:42  1129257591   \n",
       "1  Material Availability Date passed  2022-03-08 00:00:00  1129257591   \n",
       "2            Create Sales Order Item  2022-02-01 18:27:42  1129257591   \n",
       "\n",
       "   SALES_DOC_ITEM COUNTRY  \n",
       "0            5450      DE  \n",
       "1            5450      DE  \n",
       "2            5450      DE  "
      ]
     },
     "execution_count": 61,
     "metadata": {},
     "output_type": "execute_result"
    }
   ],
   "source": [
    "df_de.head(3)"
   ]
  },
  {
   "cell_type": "code",
   "execution_count": 62,
   "metadata": {},
   "outputs": [
    {
     "data": {
      "text/html": [
       "<div>\n",
       "<style scoped>\n",
       "    .dataframe tbody tr th:only-of-type {\n",
       "        vertical-align: middle;\n",
       "    }\n",
       "\n",
       "    .dataframe tbody tr th {\n",
       "        vertical-align: top;\n",
       "    }\n",
       "\n",
       "    .dataframe thead th {\n",
       "        text-align: right;\n",
       "    }\n",
       "</style>\n",
       "<table border=\"1\" class=\"dataframe\">\n",
       "  <thead>\n",
       "    <tr style=\"text-align: right;\">\n",
       "      <th></th>\n",
       "      <th>ACTIVITY</th>\n",
       "      <th>TIMESTAMP</th>\n",
       "      <th>SALES_DOC</th>\n",
       "      <th>SALES_DOC_ITEM</th>\n",
       "      <th>COUNTRY</th>\n",
       "    </tr>\n",
       "  </thead>\n",
       "  <tbody>\n",
       "    <tr>\n",
       "      <th>0</th>\n",
       "      <td>Record Goods Issue</td>\n",
       "      <td>2021-04-08 15:17:29</td>\n",
       "      <td>1127382723</td>\n",
       "      <td>10</td>\n",
       "      <td>PT</td>\n",
       "    </tr>\n",
       "    <tr>\n",
       "      <th>1</th>\n",
       "      <td>Create Delivery</td>\n",
       "      <td>2021-04-06 11:44:53</td>\n",
       "      <td>1127382723</td>\n",
       "      <td>10</td>\n",
       "      <td>PT</td>\n",
       "    </tr>\n",
       "    <tr>\n",
       "      <th>2</th>\n",
       "      <td>Create Intercompany invoice</td>\n",
       "      <td>2021-04-09 14:10:22</td>\n",
       "      <td>1127382723</td>\n",
       "      <td>10</td>\n",
       "      <td>PT</td>\n",
       "    </tr>\n",
       "  </tbody>\n",
       "</table>\n",
       "</div>"
      ],
      "text/plain": [
       "                      ACTIVITY            TIMESTAMP   SALES_DOC  \\\n",
       "0           Record Goods Issue  2021-04-08 15:17:29  1127382723   \n",
       "1              Create Delivery  2021-04-06 11:44:53  1127382723   \n",
       "2  Create Intercompany invoice  2021-04-09 14:10:22  1127382723   \n",
       "\n",
       "   SALES_DOC_ITEM COUNTRY  \n",
       "0              10      PT  \n",
       "1              10      PT  \n",
       "2              10      PT  "
      ]
     },
     "execution_count": 62,
     "metadata": {},
     "output_type": "execute_result"
    }
   ],
   "source": [
    "df_pt.head(3)"
   ]
  },
  {
   "cell_type": "code",
   "execution_count": 63,
   "metadata": {},
   "outputs": [
    {
     "data": {
      "text/html": [
       "<div>\n",
       "<style scoped>\n",
       "    .dataframe tbody tr th:only-of-type {\n",
       "        vertical-align: middle;\n",
       "    }\n",
       "\n",
       "    .dataframe tbody tr th {\n",
       "        vertical-align: top;\n",
       "    }\n",
       "\n",
       "    .dataframe thead th {\n",
       "        text-align: right;\n",
       "    }\n",
       "</style>\n",
       "<table border=\"1\" class=\"dataframe\">\n",
       "  <thead>\n",
       "    <tr style=\"text-align: right;\">\n",
       "      <th></th>\n",
       "      <th>ACTIVITY</th>\n",
       "      <th>TIMESTAMP</th>\n",
       "      <th>SALES_DOC</th>\n",
       "      <th>SALES_DOC_ITEM</th>\n",
       "      <th>COUNTRY</th>\n",
       "    </tr>\n",
       "  </thead>\n",
       "  <tbody>\n",
       "    <tr>\n",
       "      <th>0</th>\n",
       "      <td>Record Goods Issue</td>\n",
       "      <td>2021-07-15 17:04:53</td>\n",
       "      <td>1128218301</td>\n",
       "      <td>10</td>\n",
       "      <td>TH</td>\n",
       "    </tr>\n",
       "    <tr>\n",
       "      <th>1</th>\n",
       "      <td>Create Delivery</td>\n",
       "      <td>2021-07-09 07:08:23</td>\n",
       "      <td>1128218301</td>\n",
       "      <td>10</td>\n",
       "      <td>TH</td>\n",
       "    </tr>\n",
       "    <tr>\n",
       "      <th>2</th>\n",
       "      <td>Create Intercompany invoice</td>\n",
       "      <td>2021-07-09 13:53:58</td>\n",
       "      <td>1128218301</td>\n",
       "      <td>10</td>\n",
       "      <td>TH</td>\n",
       "    </tr>\n",
       "  </tbody>\n",
       "</table>\n",
       "</div>"
      ],
      "text/plain": [
       "                      ACTIVITY            TIMESTAMP   SALES_DOC  \\\n",
       "0           Record Goods Issue  2021-07-15 17:04:53  1128218301   \n",
       "1              Create Delivery  2021-07-09 07:08:23  1128218301   \n",
       "2  Create Intercompany invoice  2021-07-09 13:53:58  1128218301   \n",
       "\n",
       "   SALES_DOC_ITEM COUNTRY  \n",
       "0              10      TH  \n",
       "1              10      TH  \n",
       "2              10      TH  "
      ]
     },
     "execution_count": 63,
     "metadata": {},
     "output_type": "execute_result"
    }
   ],
   "source": [
    "df_th.head(3)"
   ]
  },
  {
   "cell_type": "code",
   "execution_count": 64,
   "metadata": {},
   "outputs": [
    {
     "data": {
      "text/html": [
       "<div>\n",
       "<style scoped>\n",
       "    .dataframe tbody tr th:only-of-type {\n",
       "        vertical-align: middle;\n",
       "    }\n",
       "\n",
       "    .dataframe tbody tr th {\n",
       "        vertical-align: top;\n",
       "    }\n",
       "\n",
       "    .dataframe thead th {\n",
       "        text-align: right;\n",
       "    }\n",
       "</style>\n",
       "<table border=\"1\" class=\"dataframe\">\n",
       "  <thead>\n",
       "    <tr style=\"text-align: right;\">\n",
       "      <th></th>\n",
       "      <th>ACTIVITY</th>\n",
       "      <th>TIMESTAMP</th>\n",
       "      <th>SALES_DOC</th>\n",
       "      <th>SALES_DOC_ITEM</th>\n",
       "      <th>COUNTRY</th>\n",
       "    </tr>\n",
       "  </thead>\n",
       "  <tbody>\n",
       "    <tr>\n",
       "      <th>0</th>\n",
       "      <td>Create Sales Order</td>\n",
       "      <td>2021-10-04 16:22:36</td>\n",
       "      <td>50043243</td>\n",
       "      <td>10</td>\n",
       "      <td>BR</td>\n",
       "    </tr>\n",
       "    <tr>\n",
       "      <th>1</th>\n",
       "      <td>Create Sales Order Item</td>\n",
       "      <td>2021-10-04 16:22:36</td>\n",
       "      <td>50043243</td>\n",
       "      <td>10</td>\n",
       "      <td>BR</td>\n",
       "    </tr>\n",
       "    <tr>\n",
       "      <th>2</th>\n",
       "      <td>Material Availability Date passed</td>\n",
       "      <td>2021-10-04 00:00:00</td>\n",
       "      <td>50043243</td>\n",
       "      <td>10</td>\n",
       "      <td>BR</td>\n",
       "    </tr>\n",
       "  </tbody>\n",
       "</table>\n",
       "</div>"
      ],
      "text/plain": [
       "                            ACTIVITY            TIMESTAMP  SALES_DOC  \\\n",
       "0                 Create Sales Order  2021-10-04 16:22:36   50043243   \n",
       "1            Create Sales Order Item  2021-10-04 16:22:36   50043243   \n",
       "2  Material Availability Date passed  2021-10-04 00:00:00   50043243   \n",
       "\n",
       "   SALES_DOC_ITEM COUNTRY  \n",
       "0              10      BR  \n",
       "1              10      BR  \n",
       "2              10      BR  "
      ]
     },
     "execution_count": 64,
     "metadata": {},
     "output_type": "execute_result"
    }
   ],
   "source": [
    "df = pd.concat([df_br, df_de, df_pt, df_th])\n",
    "\n",
    "df.head(3)"
   ]
  },
  {
   "cell_type": "code",
   "execution_count": 65,
   "metadata": {},
   "outputs": [],
   "source": [
    "br = df.loc[df['COUNTRY']=='BR']\n",
    "de = df.loc[df['COUNTRY']=='DE']\n",
    "pt = df.loc[df['COUNTRY']=='PT']\n",
    "th = df.loc[df['COUNTRY']=='TH']"
   ]
  },
  {
   "attachments": {},
   "cell_type": "markdown",
   "metadata": {},
   "source": [
    "## Data Understanding"
   ]
  },
  {
   "cell_type": "code",
   "execution_count": 66,
   "metadata": {},
   "outputs": [
    {
     "data": {
      "text/plain": [
       "(12633391, 5)"
      ]
     },
     "execution_count": 66,
     "metadata": {},
     "output_type": "execute_result"
    }
   ],
   "source": [
    "df.shape"
   ]
  },
  {
   "cell_type": "code",
   "execution_count": 67,
   "metadata": {},
   "outputs": [
    {
     "name": "stdout",
     "output_type": "stream",
     "text": [
      "<class 'pandas.core.frame.DataFrame'>\n",
      "Int64Index: 12633391 entries, 0 to 2755591\n",
      "Data columns (total 5 columns):\n",
      " #   Column          Dtype \n",
      "---  ------          ----- \n",
      " 0   ACTIVITY        object\n",
      " 1   TIMESTAMP       object\n",
      " 2   SALES_DOC       int64 \n",
      " 3   SALES_DOC_ITEM  int64 \n",
      " 4   COUNTRY         object\n",
      "dtypes: int64(2), object(3)\n",
      "memory usage: 578.3+ MB\n"
     ]
    }
   ],
   "source": [
    "df.info()"
   ]
  },
  {
   "cell_type": "code",
   "execution_count": 73,
   "metadata": {},
   "outputs": [
    {
     "data": {
      "text/html": [
       "<div>\n",
       "<style scoped>\n",
       "    .dataframe tbody tr th:only-of-type {\n",
       "        vertical-align: middle;\n",
       "    }\n",
       "\n",
       "    .dataframe tbody tr th {\n",
       "        vertical-align: top;\n",
       "    }\n",
       "\n",
       "    .dataframe thead th {\n",
       "        text-align: right;\n",
       "    }\n",
       "</style>\n",
       "<table border=\"1\" class=\"dataframe\">\n",
       "  <thead>\n",
       "    <tr style=\"text-align: right;\">\n",
       "      <th></th>\n",
       "      <th>count</th>\n",
       "      <th>unique</th>\n",
       "      <th>top</th>\n",
       "      <th>freq</th>\n",
       "      <th>mean</th>\n",
       "      <th>std</th>\n",
       "      <th>min</th>\n",
       "      <th>25%</th>\n",
       "      <th>50%</th>\n",
       "      <th>75%</th>\n",
       "      <th>max</th>\n",
       "    </tr>\n",
       "  </thead>\n",
       "  <tbody>\n",
       "    <tr>\n",
       "      <th>ACTIVITY</th>\n",
       "      <td>12633391</td>\n",
       "      <td>51</td>\n",
       "      <td>Create Sales Order</td>\n",
       "      <td>1727974</td>\n",
       "      <td>NaN</td>\n",
       "      <td>NaN</td>\n",
       "      <td>NaN</td>\n",
       "      <td>NaN</td>\n",
       "      <td>NaN</td>\n",
       "      <td>NaN</td>\n",
       "      <td>NaN</td>\n",
       "    </tr>\n",
       "    <tr>\n",
       "      <th>TIMESTAMP</th>\n",
       "      <td>12633391</td>\n",
       "      <td>890463</td>\n",
       "      <td>2022-02-07 03:38:34</td>\n",
       "      <td>35848</td>\n",
       "      <td>NaN</td>\n",
       "      <td>NaN</td>\n",
       "      <td>NaN</td>\n",
       "      <td>NaN</td>\n",
       "      <td>NaN</td>\n",
       "      <td>NaN</td>\n",
       "      <td>NaN</td>\n",
       "    </tr>\n",
       "    <tr>\n",
       "      <th>SALES_DOC</th>\n",
       "      <td>12633391.0</td>\n",
       "      <td>NaN</td>\n",
       "      <td>NaN</td>\n",
       "      <td>NaN</td>\n",
       "      <td>1123642096.20738</td>\n",
       "      <td>68974588.9535</td>\n",
       "      <td>50041900.0</td>\n",
       "      <td>1127535886.0</td>\n",
       "      <td>1128130506.0</td>\n",
       "      <td>1128700978.0</td>\n",
       "      <td>1129527285.0</td>\n",
       "    </tr>\n",
       "    <tr>\n",
       "      <th>SALES_DOC_ITEM</th>\n",
       "      <td>12633391.0</td>\n",
       "      <td>NaN</td>\n",
       "      <td>NaN</td>\n",
       "      <td>NaN</td>\n",
       "      <td>1106.678832</td>\n",
       "      <td>1594.64564</td>\n",
       "      <td>10.0</td>\n",
       "      <td>40.0</td>\n",
       "      <td>220.0</td>\n",
       "      <td>1690.0</td>\n",
       "      <td>15550.0</td>\n",
       "    </tr>\n",
       "    <tr>\n",
       "      <th>COUNTRY</th>\n",
       "      <td>12633391</td>\n",
       "      <td>4</td>\n",
       "      <td>DE</td>\n",
       "      <td>6291969</td>\n",
       "      <td>NaN</td>\n",
       "      <td>NaN</td>\n",
       "      <td>NaN</td>\n",
       "      <td>NaN</td>\n",
       "      <td>NaN</td>\n",
       "      <td>NaN</td>\n",
       "      <td>NaN</td>\n",
       "    </tr>\n",
       "  </tbody>\n",
       "</table>\n",
       "</div>"
      ],
      "text/plain": [
       "                     count  unique                  top     freq  \\\n",
       "ACTIVITY          12633391      51   Create Sales Order  1727974   \n",
       "TIMESTAMP         12633391  890463  2022-02-07 03:38:34    35848   \n",
       "SALES_DOC       12633391.0     NaN                  NaN      NaN   \n",
       "SALES_DOC_ITEM  12633391.0     NaN                  NaN      NaN   \n",
       "COUNTRY           12633391       4                   DE  6291969   \n",
       "\n",
       "                            mean            std         min           25%  \\\n",
       "ACTIVITY                     NaN            NaN         NaN           NaN   \n",
       "TIMESTAMP                    NaN            NaN         NaN           NaN   \n",
       "SALES_DOC       1123642096.20738  68974588.9535  50041900.0  1127535886.0   \n",
       "SALES_DOC_ITEM       1106.678832     1594.64564        10.0          40.0   \n",
       "COUNTRY                      NaN            NaN         NaN           NaN   \n",
       "\n",
       "                         50%           75%           max  \n",
       "ACTIVITY                 NaN           NaN           NaN  \n",
       "TIMESTAMP                NaN           NaN           NaN  \n",
       "SALES_DOC       1128130506.0  1128700978.0  1129527285.0  \n",
       "SALES_DOC_ITEM         220.0        1690.0       15550.0  \n",
       "COUNTRY                  NaN           NaN           NaN  "
      ]
     },
     "execution_count": 73,
     "metadata": {},
     "output_type": "execute_result"
    }
   ],
   "source": [
    "df.describe(include='all').T"
   ]
  },
  {
   "cell_type": "code",
   "execution_count": 74,
   "metadata": {},
   "outputs": [
    {
     "name": "stdout",
     "output_type": "stream",
     "text": [
      "ACTIVITY              51\n",
      "TIMESTAMP         890463\n",
      "SALES_DOC         177871\n",
      "SALES_DOC_ITEM      1811\n",
      "COUNTRY                4\n",
      "dtype: int64\n"
     ]
    }
   ],
   "source": [
    "print(df.nunique())"
   ]
  },
  {
   "cell_type": "code",
   "execution_count": 75,
   "metadata": {},
   "outputs": [
    {
     "name": "stdout",
     "output_type": "stream",
     "text": [
      "Create Sales Order                   1727974\n",
      "Create Sales Order Item              1727974\n",
      "Material Availability Date passed    1626797\n",
      "Set Initial Delivery Block            872581\n",
      "Create Invoice                        837088\n",
      "Change Material Availability Date     709234\n",
      "Create Picking                        552685\n",
      "Change Requested Goods Issue Date     515774\n",
      "Change Delivery Grouping              379103\n",
      "Create Delivery                       375096\n",
      "Clear Invoice                         373487\n",
      "Record Goods Issue                    373049\n",
      "Remove Delivery Block                 341586\n",
      "Cancel Reason for Rejection           304670\n",
      "Change WBS element                    257835\n",
      "Change Requested Quantity             245685\n",
      "Change Confirmed Delivery Date        196429\n",
      "Change Confirmed Goods Issue Date     194108\n",
      "Customer Acceptance (L650)            163206\n",
      "Change Inco Terms (Part 2)            142328\n",
      "Change Payment Terms                  117793\n",
      "Change Requested Delivery Date         98841\n",
      "Create Pro forma invoice               93943\n",
      "Set Reason for Rejection               91233\n",
      "Create Intercompany invoice            79097\n",
      "Change Confirmed Quantity              54655\n",
      "Change Price                           38048\n",
      "Create Invoice cancellation            19590\n",
      "Create Returns delivery for order      16922\n",
      "Record Return Goods Receipt            16204\n",
      "Create Credit memo                     15806\n",
      "Create Purchase Order                  11690\n",
      "Set Delivery Block                     10561\n",
      "Change Route                            8634\n",
      "Change Material                         8037\n",
      "Create Debit memo                       4434\n",
      "Change Shipping Point                   4148\n",
      "Change Plant                            3873\n",
      "Change Inco Terms (Part 1)              3723\n",
      "Create Shipment                         3692\n",
      "Cancel Goods Issue                      3616\n",
      "Change Reason for Rejection             3317\n",
      "Clear Credit Memo                       3198\n",
      "Create Intercompany credit memo         2399\n",
      "Change Item Category                    2344\n",
      "Create Credit memo cancellation          620\n",
      "Change Delivery Block                    146\n",
      "Send Order Confirmation                  123\n",
      "Remove Billing Block                       6\n",
      "Set Billing Block                          6\n",
      "Change Billing Block                       3\n",
      "Name: ACTIVITY, dtype: int64\n"
     ]
    }
   ],
   "source": [
    "print(df['ACTIVITY'].value_counts())"
   ]
  },
  {
   "cell_type": "code",
   "execution_count": 78,
   "metadata": {},
   "outputs": [
    {
     "name": "stdout",
     "output_type": "stream",
     "text": [
      "DE    6291969\n",
      "TH    2755592\n",
      "BR    1837252\n",
      "PT    1748578\n",
      "Name: COUNTRY, dtype: int64\n"
     ]
    }
   ],
   "source": [
    "print(df['COUNTRY'].value_counts())"
   ]
  },
  {
   "cell_type": "code",
   "execution_count": 79,
   "metadata": {},
   "outputs": [
    {
     "name": "stdout",
     "output_type": "stream",
     "text": [
      "ACTIVITY          0\n",
      "TIMESTAMP         0\n",
      "SALES_DOC         0\n",
      "SALES_DOC_ITEM    0\n",
      "COUNTRY           0\n",
      "dtype: int64\n"
     ]
    }
   ],
   "source": [
    "print(df.isnull().sum())"
   ]
  },
  {
   "cell_type": "code",
   "execution_count": 80,
   "metadata": {},
   "outputs": [
    {
     "name": "stdout",
     "output_type": "stream",
     "text": [
      "ACTIVITY          object\n",
      "TIMESTAMP         object\n",
      "SALES_DOC          int64\n",
      "SALES_DOC_ITEM     int64\n",
      "COUNTRY           object\n",
      "dtype: object\n"
     ]
    }
   ],
   "source": [
    "print(df.dtypes)"
   ]
  },
  {
   "cell_type": "code",
   "execution_count": null,
   "metadata": {},
   "outputs": [],
   "source": [
    "# Plot distribution\n",
    "plt.figure(figsize=(10, 6))\n",
    "sns.histplot(data=df, x='ACTIVITY', kde=True)\n",
    "plt.title('Distribution of ACTIVITY')\n",
    "plt.xlabel('ACTIVITY')\n",
    "plt.ylabel('Frequency')\n",
    "plt.show()\n"
   ]
  },
  {
   "cell_type": "code",
   "execution_count": null,
   "metadata": {},
   "outputs": [],
   "source": [
    "# Plot distribution\n",
    "plt.figure(figsize=(10, 6))\n",
    "sns.histplot(data=df, x='COUNTRY', kde=True)\n",
    "plt.title('Distribution of ACTIVITY')\n",
    "plt.xlabel('ACTIVITY')\n",
    "plt.ylabel('Frequency')\n",
    "plt.show()"
   ]
  },
  {
   "cell_type": "code",
   "execution_count": 84,
   "metadata": {},
   "outputs": [
    {
     "data": {
      "image/png": "[encoded data removed]",
      "text/plain": [
       "<Figure size 1000x600 with 1 Axes>"
      ]
     },
     "metadata": {},
     "output_type": "display_data"
    }
   ],
   "source": [
    "# Box plot\n",
    "plt.figure(figsize=(10, 6))\n",
    "sns.boxplot(data=df, x='COUNTRY', y='SALES_DOC')\n",
    "plt.title('Box Plot of SALES_DOC by COUNTRY')\n",
    "plt.xlabel('COUNTRY')\n",
    "plt.ylabel('SALES_DOC')\n",
    "plt.show()"
   ]
  },
  {
   "attachments": {},
   "cell_type": "markdown",
   "metadata": {},
   "source": [
    "## Defining Classes"
   ]
  },
  {
   "cell_type": "code",
   "execution_count": 68,
   "metadata": {},
   "outputs": [],
   "source": [
    "class PlotGraph:\n",
    "    def __init__(self, graph_input) -> None:\n",
    "        # constructor for the PlotGraph class\n",
    "        self.graph_input = graph_input\n",
    "        self.pos_ = nx.spring_layout(self.graph_input, iterations = 300, scale = -1)\n",
    "        #self.pos_ = nx.kamada_kawai_layout(self.graph_input, dim=2)\n",
    "        #self.pos_ =  nx.spiral_layout(self.graph_input)\n",
    "        # dictionary mapping houses to colors\n",
    "        self.color_dict = {'BR':'#b5446e', 'PT':'#2a9d8f', 'TH':'#e76f51', 'DE':'#e9c46a'}\n",
    "        \n",
    "    def make_edge(self, x, y, text, width):\n",
    "        # helper function to create an edge trace for a single edge\n",
    "        return  go.Scatter(x         = x,\n",
    "                            y         = y,\n",
    "                            line      = dict(width = width,\n",
    "                                            color = 'cornflowerblue'),\n",
    "                            hoverinfo = 'text',\n",
    "                            text      = ([text]),\n",
    "                            mode      = 'lines')\n",
    "    \n",
    "    def populate_edges(self):\n",
    "            # function to create edge traces for all edges in the graph\n",
    "            edge_trace = []\n",
    "            for edge in self.graph_input.edges():\n",
    "                # get the nodes connected by the edge\n",
    "                char_1 = edge[0]\n",
    "                char_2 = edge[1]\n",
    "                # get the coordinates for the nodes\n",
    "                x0, y0 = self.pos_[char_1]\n",
    "                x1, y1 = self.pos_[char_2]\n",
    "                # create a label for the edge\n",
    "                text   = str(char_1) + '--' + str(char_2)\n",
    "                # create the trace for the edge\n",
    "                \n",
    "                weight = self.graph_input.edges()[edge]['Weight']\n",
    "                \n",
    "                if  np.isnan(weight):\n",
    "                    weight = 1\n",
    "                    \n",
    "                trace = self.make_edge([x0, x1, None], [y0, y1, None], text, width=np.log(weight+1))\n",
    "                                                   \n",
    "                # add the trace to the list of edge traces\n",
    "                edge_trace.append(trace)\n",
    "            return(edge_trace)\n",
    "\n",
    "    def populate_nodes(self):\n",
    "        # Get dictionary of nodes with their weighted degrees\n",
    "        weighted_degrees = dict(nx.degree(self.graph_input))\n",
    "        \n",
    "        # Add 'size' attribute to each node in graph_input using weighted_degrees dictionary\n",
    "        nx.set_node_attributes(self.graph_input, weighted_degrees, \"size\")\n",
    "\n",
    "        # Initialize node trace\n",
    "        node_trace = go.Scatter(x = [],\n",
    "                                y = [],\n",
    "                                text = [],\n",
    "                                textposition = \"top center\",\n",
    "                                textfont_size = 10,\n",
    "                                mode = 'markers',\n",
    "                                hoverinfo = 'text',\n",
    "                                marker = dict(color = [],\n",
    "                                            size  = [],\n",
    "                                            line  = None))\n",
    "\n",
    "        # Loop through all nodes and add them to the node trace\n",
    "        for node in self.graph_input.nodes():\n",
    "            # Add color of house to node's marker color\n",
    "            #node_trace['marker']['color'] += tuple([self.color_dict[self.graph_input.nodes()[node]['house']]])\n",
    "            # Get x, y coordinates of node\n",
    "            x, y = self.pos_[node]\n",
    "            # Add x, y coordinates to node trace\n",
    "            node_trace['x'] += tuple([x])\n",
    "            node_trace['y'] += tuple([y])\n",
    "            # Add size of node to node's marker size (using logarithmic scale)\n",
    "            node_trace['marker']['size'] += tuple([5*(np.log(self.graph_input.nodes()[node]['size']+1))])\n",
    "            # Add node name to node's text\n",
    "            node_trace['text'] += tuple(['<b>' + node + '</b>'])\n",
    "                        \n",
    "        return(node_trace)\n",
    "\n",
    "    def populate_nodes(self):\n",
    "        # Get dictionary of nodes with their weighted degrees\n",
    "        weighted_degrees = dict(nx.degree(self.graph_input,weight='weight'))\n",
    "        \n",
    "        # Add 'size' attribute to each node in graph_input using weighted_degrees dictionary\n",
    "        nx.set_node_attributes(self.graph_input, weighted_degrees, \"size\")\n",
    "\n",
    "        # Initialize node trace\n",
    "        node_trace = go.Scatter(x = [],\n",
    "                                y = [],\n",
    "                                text = [],\n",
    "                                textposition = \"top center\",\n",
    "                                textfont_size = 10,\n",
    "                                mode = 'markers',\n",
    "                                hoverinfo = 'text',\n",
    "                                marker = dict(color = [],\n",
    "                                            size  = [],\n",
    "                                            line  = None))\n",
    "\n",
    "        # Loop through all nodes and add them to the node trace\n",
    "        \n",
    "        for node in self.graph_input.nodes():\n",
    "            # Add color of house to node's marker color\n",
    "            #node_trace['marker']['color'] += tuple([self.color_dict[self.graph_input.nodes()[node]['house']]])\n",
    "            # Get x, y coordinates of node\n",
    "            x, y = self.pos_[node]\n",
    "            # Add x, y coordinates to node trace\n",
    "            node_trace['x'] += tuple([x])\n",
    "            node_trace['y'] += tuple([y])\n",
    "            node_trace['marker']['size'] += tuple([10])\n",
    "            # Add node name to node's text\n",
    "            node_trace['text'] += tuple(['<b>' + node + '</b>'])\n",
    "                        \n",
    "        return(node_trace)\n",
    "    \n",
    "    def create_arrows(self):\n",
    "        annotations = []\n",
    "        for edge in self.graph_input.edges():\n",
    "            x0, y0 = self.pos_[edge[0]]\n",
    "            x1, y1 = self.pos_[edge[1]]\n",
    "            annotations.append(dict(ax=(x0 + x1) / 2, ay=(y0 + y1) / 2, axref='x', ayref='y',\n",
    "                                    x=(x0 * 3 + x1) / 4, y=(y0 * 3 + y1) / 4, xref='x', yref='y',\n",
    "                                    showarrow=True, arrowhead=4, arrowsize=1, arrowwidth=1, opacity=.6))\n",
    "        return(annotations)\n",
    "\n",
    "\n",
    "    def draw_graph(self):\n",
    "        # Set layout of graph\n",
    "        layout = go.Layout(\n",
    "            plot_bgcolor='rgba(0,0,0,0)', # transparent 2nd background\n",
    "            xaxis =  {'showgrid': False, 'zeroline': False}, # no gridlines\n",
    "            yaxis = {'showgrid': False, 'zeroline': False}, # no gridlines\n",
    "        )\n",
    "        \n",
    "        # Create figure\n",
    "        fig = go.Figure(layout = layout)\n",
    "        \n",
    "        # Add all edge traces to figure\n",
    "        for trace in self.populate_edges():\n",
    "            fig.add_trace(trace)\n",
    "        \n",
    "        # Add node trace to figure\n",
    "        fig.add_trace(self.populate_nodes())\n",
    "        \n",
    "        # Remove legend from figure\n",
    "        fig.update_layout(showlegend = False)\n",
    "        \n",
    "        # Remove tick labels from x and y axes\n",
    "        fig.update_xaxes(showticklabels = False)\n",
    "        fig.update_yaxes(showticklabels = False)\n",
    "        \n",
    "\n",
    "        # Set size of figure\n",
    "        fig.update_layout(\n",
    "            autosize=False,\n",
    "            width=800,\n",
    "            height=800, annotations=self.create_arrows())\n",
    "        \n",
    "        # Return the figure\n",
    "        return(fig)\n",
    "\n",
    "\n",
    "class PM_Data:\n",
    "    def __init__(self, df) -> None:\n",
    "        self.PM_df = df  # initializes the object with a dataframe containingthe eventlog\n",
    "        \n",
    "    def header_level_df(self):\n",
    "        header_level = df.drop_duplicates(['SALES_DOC', 'ACTIVITY'])\n",
    "        header_level = header_level.drop(['SALES_DOC_ITEM', 'COUNTRY'], axis=1)\n",
    "        header_level['TIMESTAMP'] =  pd.to_datetime(header_level['TIMESTAMP'], infer_datetime_format=True)\n",
    "        header_level['Delta'] = header_level['TIMESTAMP'].shift(-1) - header_level['TIMESTAMP']\n",
    "        header_level['Delta'] = header_level['Delta'].dt.seconds/60\n",
    "        header_level = header_level.sort_values(['SALES_DOC', 'TIMESTAMP'], ascending=[1,1])\n",
    "        header_level = header_level.query('TIMESTAMP != \"NaT\"')\n",
    "        return(header_level)\n",
    "    \n",
    "    \n",
    "    def from_df_to_edge_list(self):\n",
    "        header_level = self.header_level_df()\n",
    "        # sort the event log by SALES_DOC and TIMESTAMP\n",
    "        header_level = header_level.sort_values(['SALES_DOC', 'TIMESTAMP'])\n",
    "\n",
    "        # create a list of activities for each SALES_DOC\n",
    "        activities_by_doc = header_level.groupby('SALES_DOC')['ACTIVITY'].apply(list).reset_index()\n",
    "\n",
    "        # create a list of deltas for each SALES_DOC\n",
    "        deltas_by_doc = header_level.groupby('SALES_DOC')['Delta'].apply(list).reset_index()\n",
    "\n",
    "        # combine the activities and deltas into a single DataFrame\n",
    "        doc_data = pd.merge(activities_by_doc, deltas_by_doc, on='SALES_DOC')\n",
    "        edges = []\n",
    "\n",
    "        # iterate over each SALES_DOC\n",
    "        for doc in doc_data['SALES_DOC']:\n",
    "            # get the list of activities for this SALES_DOC\n",
    "            activities = doc_data.loc[doc_data['SALES_DOC'] == doc, 'ACTIVITY'].iloc[0]\n",
    "            # get the list of deltas for this SALES_DOC\n",
    "            deltas = doc_data.loc[doc_data['SALES_DOC'] == doc, 'Delta'].iloc[0]\n",
    "            # iterate over each pair of adjacent activities\n",
    "            for i in range(len(activities) - 1):\n",
    "                # get the source and target activities\n",
    "                source = activities[i]\n",
    "                target = activities[i+1]\n",
    "                # compute the average delta time between the two activities\n",
    "                delta = sum(deltas[i:i+2])/2\n",
    "                # add the edge to the list\n",
    "                edges.append((source, target, delta))\n",
    "\n",
    "        # create a DataFrame from the edges\n",
    "        edge_list = pd.DataFrame(edges, columns=['Source', 'Target', 'Weight'])\n",
    "        return(edge_list)\n",
    "            \n",
    "\n",
    "    def from_df_to_path(self):\n",
    "        header_level = self.header_level_df()\n",
    "\n",
    "        group = header_level.sort_values(['SALES_DOC','TIMESTAMP']).groupby('SALES_DOC')\n",
    "\n",
    "        variants = list(group.apply(lambda x: x['ACTIVITY'].tolist()).values)\n",
    "\n",
    "        return(variants)\n",
    "\n",
    "\n",
    "\n",
    "    def multidigraph(self):\n",
    "        G = nx.MultiDiGraph()\n",
    "        \n",
    "        variants = self.from_df_to_path()\n",
    "\n",
    "        for path in variants:\n",
    "            edges = [(path[i], path[i+1]) for i in range(len(path)-1)]\n",
    "            print(edges)\n",
    "            G.add_edges_from(edges)\n",
    "\n",
    "        return(G)\n",
    "        \n",
    "\n",
    "\n",
    "    def net(self):\n",
    "        # calls the houses_edge_list method to get a filtered edge list dataframe\n",
    "        edge_list = self.from_df_to_edge_list()\n",
    "        # creates a new networkx graph object from the filtered edge list dataframe and stores it in a variable\n",
    "        PM_Net = nx.from_pandas_edgelist(edge_list,'Source','Target', edge_attr='Weight')\n",
    "        # sets the weight attribute of each edge in the graph to the corresponding weight from the edge list dataframe\n",
    "        nx.set_edge_attributes(PM_Net,dict(zip(list(zip(edge_list.Source, edge_list.Target)), edge_list.Weight)) , \"Weight\")\n",
    "        \n",
    "        return(PM_Net)"
   ]
  },
  {
   "cell_type": "code",
   "execution_count": 69,
   "metadata": {},
   "outputs": [
    {
     "data": {
      "application/vnd.plotly.v1+json": {
       "config": {
        "plotlyServerURL": "https://plot.ly"
       },
       "data": [
        {
         "hoverinfo": "text",
         "line": {
          "color": "cornflowerblue",
          "width": 6.454923368244721
         },
         "mode": "lines",
         "text": [
          "Material Availability Date passed--Create Sales Order"
         ],
         "type": "scatter",
         "x": [
          0.00033244457775494116,
          -0.10255036805201083,
          null
         ],
         "y": [
          -0.07274611955361339,
          -0.009551241773920307,
          null
         ]
        },
        {
         "hoverinfo": "text",
         "line": {
          "color": "cornflowerblue",
          "width": 6.520424741069456
         },
         "mode": "lines",
         "text": [
          "Material Availability Date passed--Create Sales Order Item"
         ],
         "type": "scatter",
         "x": [
          0.00033244457775494116,
          -0.12556775007719934,
          null
         ],
         "y": [
          -0.07274611955361339,
          -0.029180252454778694,
          null
         ]
        },
        {
         "hoverinfo": "text",
         "line": {
          "color": "cornflowerblue",
          "width": 7.151217664204246
         },
         "mode": "lines",
         "text": [
          "Material Availability Date passed--Create Picking"
         ],
         "type": "scatter",
         "x": [
          0.00033244457775494116,
          0.034876309299064864,
          null
         ],
         "y": [
          -0.07274611955361339,
          -0.042224385974545725,
          null
         ]
        },
        {
         "hoverinfo": "text",
         "line": {
          "color": "cornflowerblue",
          "width": 7.0895002807112695
         },
         "mode": "lines",
         "text": [
          "Material Availability Date passed--Change Inco Terms (Part 2)"
         ],
         "type": "scatter",
         "x": [
          0.00033244457775494116,
          -0.13239457224717427,
          null
         ],
         "y": [
          -0.07274611955361339,
          -0.12176702996987479,
          null
         ]
        },
        {
         "hoverinfo": "text",
         "line": {
          "color": "cornflowerblue",
          "width": 6.9653321237861565
         },
         "mode": "lines",
         "text": [
          "Material Availability Date passed--Create Invoice"
         ],
         "type": "scatter",
         "x": [
          0.00033244457775494116,
          0.042953018299347084,
          null
         ],
         "y": [
          -0.07274611955361339,
          -0.1030570125999229,
          null
         ]
        },
        {
         "hoverinfo": "text",
         "line": {
          "color": "cornflowerblue",
          "width": 6.06359139145665
         },
         "mode": "lines",
         "text": [
          "Material Availability Date passed--Change Material Availability Date"
         ],
         "type": "scatter",
         "x": [
          0.00033244457775494116,
          -0.057483588782378345,
          null
         ],
         "y": [
          -0.07274611955361339,
          -0.07205714767902631,
          null
         ]
        },
        {
         "hoverinfo": "text",
         "line": {
          "color": "cornflowerblue",
          "width": 6.762305524964034
         },
         "mode": "lines",
         "text": [
          "Material Availability Date passed--Customer Acceptance (L650)"
         ],
         "type": "scatter",
         "x": [
          0.00033244457775494116,
          -0.1725870841102398,
          null
         ],
         "y": [
          -0.07274611955361339,
          -0.24369615140160536,
          null
         ]
        },
        {
         "hoverinfo": "text",
         "line": {
          "color": "cornflowerblue",
          "width": 6.173195651841644
         },
         "mode": "lines",
         "text": [
          "Material Availability Date passed--Set Initial Delivery Block"
         ],
         "type": "scatter",
         "x": [
          0.00033244457775494116,
          -0.175647569371099,
          null
         ],
         "y": [
          -0.07274611955361339,
          -0.1063361366010542,
          null
         ]
        },
        {
         "hoverinfo": "text",
         "line": {
          "color": "cornflowerblue",
          "width": 7.014567240782201
         },
         "mode": "lines",
         "text": [
          "Material Availability Date passed--Set Reason for Rejection"
         ],
         "type": "scatter",
         "x": [
          0.00033244457775494116,
          -0.03870879685324301,
          null
         ],
         "y": [
          -0.07274611955361339,
          -0.037176102343799346,
          null
         ]
        },
        {
         "hoverinfo": "text",
         "line": {
          "color": "cornflowerblue",
          "width": 6.962267138228401
         },
         "mode": "lines",
         "text": [
          "Material Availability Date passed--Create Debit memo"
         ],
         "type": "scatter",
         "x": [
          0.00033244457775494116,
          0.29544192826388105,
          null
         ],
         "y": [
          -0.07274611955361339,
          -0.15655576538459473,
          null
         ]
        },
        {
         "hoverinfo": "text",
         "line": {
          "color": "cornflowerblue",
          "width": 6.540103644329773
         },
         "mode": "lines",
         "text": [
          "Material Availability Date passed--Create Returns delivery for order"
         ],
         "type": "scatter",
         "x": [
          0.00033244457775494116,
          0.08383999610658,
          null
         ],
         "y": [
          -0.07274611955361339,
          -0.028146529453390672,
          null
         ]
        },
        {
         "hoverinfo": "text",
         "line": {
          "color": "cornflowerblue",
          "width": 6.457776474567103
         },
         "mode": "lines",
         "text": [
          "Material Availability Date passed--Change Confirmed Goods Issue Date"
         ],
         "type": "scatter",
         "x": [
          0.00033244457775494116,
          -0.06032875122517457,
          null
         ],
         "y": [
          -0.07274611955361339,
          0.02292633874076355,
          null
         ]
        },
        {
         "hoverinfo": "text",
         "line": {
          "color": "cornflowerblue",
          "width": 6.1123907858698985
         },
         "mode": "lines",
         "text": [
          "Material Availability Date passed--Change Requested Quantity"
         ],
         "type": "scatter",
         "x": [
          0.00033244457775494116,
          -0.03191216289795912,
          null
         ],
         "y": [
          -0.07274611955361339,
          -0.11649828164252744,
          null
         ]
        },
        {
         "hoverinfo": "text",
         "line": {
          "color": "cornflowerblue",
          "width": 6.974416545500687
         },
         "mode": "lines",
         "text": [
          "Material Availability Date passed--Change Confirmed Delivery Date"
         ],
         "type": "scatter",
         "x": [
          0.00033244457775494116,
          0.04129574492817072,
          null
         ],
         "y": [
          -0.07274611955361339,
          0.007345246826011747,
          null
         ]
        },
        {
         "hoverinfo": "text",
         "line": {
          "color": "cornflowerblue",
          "width": 6.4153969687196035
         },
         "mode": "lines",
         "text": [
          "Material Availability Date passed--Change Price"
         ],
         "type": "scatter",
         "x": [
          0.00033244457775494116,
          0.01347428135292946,
          null
         ],
         "y": [
          -0.07274611955361339,
          -0.12155578350748211,
          null
         ]
        },
        {
         "hoverinfo": "text",
         "line": {
          "color": "cornflowerblue",
          "width": 6.803162986683686
         },
         "mode": "lines",
         "text": [
          "Material Availability Date passed--Change Delivery Grouping"
         ],
         "type": "scatter",
         "x": [
          0.00033244457775494116,
          -0.1589274296008866,
          null
         ],
         "y": [
          -0.07274611955361339,
          0.0016237800191684357,
          null
         ]
        },
        {
         "hoverinfo": "text",
         "line": {
          "color": "cornflowerblue",
          "width": 6.32186182083263
         },
         "mode": "lines",
         "text": [
          "Material Availability Date passed--Create Delivery"
         ],
         "type": "scatter",
         "x": [
          0.00033244457775494116,
          -0.012615544154824417,
          null
         ],
         "y": [
          -0.07274611955361339,
          0.014383872923265805,
          null
         ]
        },
        {
         "hoverinfo": "text",
         "line": {
          "color": "cornflowerblue",
          "width": 7.013750593112772
         },
         "mode": "lines",
         "text": [
          "Material Availability Date passed--Clear Invoice"
         ],
         "type": "scatter",
         "x": [
          0.00033244457775494116,
          0.08028618362315233,
          null
         ],
         "y": [
          -0.07274611955361339,
          0.08527563812700825,
          null
         ]
        },
        {
         "hoverinfo": "text",
         "line": {
          "color": "cornflowerblue",
          "width": 6.580292336518512
         },
         "mode": "lines",
         "text": [
          "Material Availability Date passed--Create Credit memo"
         ],
         "type": "scatter",
         "x": [
          0.00033244457775494116,
          0.13059550114804544,
          null
         ],
         "y": [
          -0.07274611955361339,
          -0.08633072544484394,
          null
         ]
        },
        {
         "hoverinfo": "text",
         "line": {
          "color": "cornflowerblue",
          "width": 6.574436398636254
         },
         "mode": "lines",
         "text": [
          "Material Availability Date passed--Create Credit memo cancellation"
         ],
         "type": "scatter",
         "x": [
          0.00033244457775494116,
          0.13269682438952626,
          null
         ],
         "y": [
          -0.07274611955361339,
          -0.2135544141778976,
          null
         ]
        },
        {
         "hoverinfo": "text",
         "line": {
          "color": "cornflowerblue",
          "width": 7.179923887511168
         },
         "mode": "lines",
         "text": [
          "Material Availability Date passed--Change Payment Terms"
         ],
         "type": "scatter",
         "x": [
          0.00033244457775494116,
          -0.04811715829223775,
          null
         ],
         "y": [
          -0.07274611955361339,
          -0.16151611140258565,
          null
         ]
        },
        {
         "hoverinfo": "text",
         "line": {
          "color": "cornflowerblue",
          "width": 6.8521280452285955
         },
         "mode": "lines",
         "text": [
          "Material Availability Date passed--Change Confirmed Quantity"
         ],
         "type": "scatter",
         "x": [
          0.00033244457775494116,
          -0.11035131812659899,
          null
         ],
         "y": [
          -0.07274611955361339,
          -0.05866993943082722,
          null
         ]
        },
        {
         "hoverinfo": "text",
         "line": {
          "color": "cornflowerblue",
          "width": 7.154927808095708
         },
         "mode": "lines",
         "text": [
          "Material Availability Date passed--Change Route"
         ],
         "type": "scatter",
         "x": [
          0.00033244457775494116,
          -0.13499318315779704,
          null
         ],
         "y": [
          -0.07274611955361339,
          0.042392265010211275,
          null
         ]
        },
        {
         "hoverinfo": "text",
         "line": {
          "color": "cornflowerblue",
          "width": 6.742064658318728
         },
         "mode": "lines",
         "text": [
          "Material Availability Date passed--Create Intercompany invoice"
         ],
         "type": "scatter",
         "x": [
          0.00033244457775494116,
          0.07495999171979624,
          null
         ],
         "y": [
          -0.07274611955361339,
          -0.07204009369815284,
          null
         ]
        },
        {
         "hoverinfo": "text",
         "line": {
          "color": "cornflowerblue",
          "width": 5.479353375156677
         },
         "mode": "lines",
         "text": [
          "Material Availability Date passed--Change Requested Goods Issue Date"
         ],
         "type": "scatter",
         "x": [
          0.00033244457775494116,
          -0.06728640707088565,
          null
         ],
         "y": [
          -0.07274611955361339,
          -0.11583308886210894,
          null
         ]
        },
        {
         "hoverinfo": "text",
         "line": {
          "color": "cornflowerblue",
          "width": 6.5925307035239555
         },
         "mode": "lines",
         "text": [
          "Material Availability Date passed--Create Invoice cancellation"
         ],
         "type": "scatter",
         "x": [
          0.00033244457775494116,
          0.08656877822062127,
          null
         ],
         "y": [
          -0.07274611955361339,
          -0.11495218044397325,
          null
         ]
        },
        {
         "hoverinfo": "text",
         "line": {
          "color": "cornflowerblue",
          "width": 6.337666085914045
         },
         "mode": "lines",
         "text": [
          "Material Availability Date passed--Cancel Reason for Rejection"
         ],
         "type": "scatter",
         "x": [
          0.00033244457775494116,
          -0.1713416255106839,
          null
         ],
         "y": [
          -0.07274611955361339,
          -0.03347457892650524,
          null
         ]
        },
        {
         "hoverinfo": "text",
         "line": {
          "color": "cornflowerblue",
          "width": 5.766679023494767
         },
         "mode": "lines",
         "text": [
          "Material Availability Date passed--Create Purchase Order"
         ],
         "type": "scatter",
         "x": [
          0.00033244457775494116,
          -0.10545432009503505,
          null
         ],
         "y": [
          -0.07274611955361339,
          -0.09850709740293291,
          null
         ]
        },
        {
         "hoverinfo": "text",
         "line": {
          "color": "cornflowerblue",
          "width": 6.81584099326365
         },
         "mode": "lines",
         "text": [
          "Material Availability Date passed--Record Goods Issue"
         ],
         "type": "scatter",
         "x": [
          0.00033244457775494116,
          -0.00230069740355961,
          null
         ],
         "y": [
          -0.07274611955361339,
          -0.013244841929723427,
          null
         ]
        },
        {
         "hoverinfo": "text",
         "line": {
          "color": "cornflowerblue",
          "width": 6.4732603536951565
         },
         "mode": "lines",
         "text": [
          "Material Availability Date passed--Change Requested Delivery Date"
         ],
         "type": "scatter",
         "x": [
          0.00033244457775494116,
          -0.10705315947754912,
          null
         ],
         "y": [
          -0.07274611955361339,
          -0.15443925700666747,
          null
         ]
        },
        {
         "hoverinfo": "text",
         "line": {
          "color": "cornflowerblue",
          "width": 6.626640483570952
         },
         "mode": "lines",
         "text": [
          "Material Availability Date passed--Create Pro forma invoice"
         ],
         "type": "scatter",
         "x": [
          0.00033244457775494116,
          0.020153840383762067,
          null
         ],
         "y": [
          -0.07274611955361339,
          0.04841294718093922,
          null
         ]
        },
        {
         "hoverinfo": "text",
         "line": {
          "color": "cornflowerblue",
          "width": 5.946597925767875
         },
         "mode": "lines",
         "text": [
          "Material Availability Date passed--Set Delivery Block"
         ],
         "type": "scatter",
         "x": [
          0.00033244457775494116,
          0.060439448504209126,
          null
         ],
         "y": [
          -0.07274611955361339,
          -0.1641885374509435,
          null
         ]
        },
        {
         "hoverinfo": "text",
         "line": {
          "color": "cornflowerblue",
          "width": 6.516612120381521
         },
         "mode": "lines",
         "text": [
          "Material Availability Date passed--Create Intercompany credit memo"
         ],
         "type": "scatter",
         "x": [
          0.00033244457775494116,
          0.008571203167793716,
          null
         ],
         "y": [
          -0.07274611955361339,
          -0.2258729994276078,
          null
         ]
        },
        {
         "hoverinfo": "text",
         "line": {
          "color": "cornflowerblue",
          "width": 5.763177582760399
         },
         "mode": "lines",
         "text": [
          "Material Availability Date passed--Change Material"
         ],
         "type": "scatter",
         "x": [
          0.00033244457775494116,
          -0.09746144469076383,
          null
         ],
         "y": [
          -0.07274611955361339,
          0.07981998593333302,
          null
         ]
        },
        {
         "hoverinfo": "text",
         "line": {
          "color": "cornflowerblue",
          "width": 6.156590492052618
         },
         "mode": "lines",
         "text": [
          "Material Availability Date passed--Remove Delivery Block"
         ],
         "type": "scatter",
         "x": [
          0.00033244457775494116,
          -0.15543868292748345,
          null
         ],
         "y": [
          -0.07274611955361339,
          -0.06736765946384478,
          null
         ]
        },
        {
         "hoverinfo": "text",
         "line": {
          "color": "cornflowerblue",
          "width": 6.27204332579759
         },
         "mode": "lines",
         "text": [
          "Material Availability Date passed--Change Plant"
         ],
         "type": "scatter",
         "x": [
          0.00033244457775494116,
          -0.03477416256721846,
          null
         ],
         "y": [
          -0.07274611955361339,
          0.10220224726971819,
          null
         ]
        },
        {
         "hoverinfo": "text",
         "line": {
          "color": "cornflowerblue",
          "width": 6.537596984706117
         },
         "mode": "lines",
         "text": [
          "Material Availability Date passed--Change Item Category"
         ],
         "type": "scatter",
         "x": [
          0.00033244457775494116,
          -0.19046702188185693,
          null
         ],
         "y": [
          -0.07274611955361339,
          0.06648488050147651,
          null
         ]
        },
        {
         "hoverinfo": "text",
         "line": {
          "color": "cornflowerblue",
          "width": 6.873620941593274
         },
         "mode": "lines",
         "text": [
          "Material Availability Date passed--Change Inco Terms (Part 1)"
         ],
         "type": "scatter",
         "x": [
          0.00033244457775494116,
          -0.06405663485270553,
          null
         ],
         "y": [
          -0.07274611955361339,
          -0.20742830658080527,
          null
         ]
        },
        {
         "hoverinfo": "text",
         "line": {
          "color": "cornflowerblue",
          "width": 6.610224870475542
         },
         "mode": "lines",
         "text": [
          "Material Availability Date passed--Record Return Goods Receipt"
         ],
         "type": "scatter",
         "x": [
          0.00033244457775494116,
          0.022926828201015118,
          null
         ],
         "y": [
          -0.07274611955361339,
          -0.18102982957917835,
          null
         ]
        },
        {
         "hoverinfo": "text",
         "line": {
          "color": "cornflowerblue",
          "width": 5.933239388027003
         },
         "mode": "lines",
         "text": [
          "Material Availability Date passed--Change Shipping Point"
         ],
         "type": "scatter",
         "x": [
          0.00033244457775494116,
          -0.04021834781634519,
          null
         ],
         "y": [
          -0.07274611955361339,
          0.05546257685434959,
          null
         ]
        },
        {
         "hoverinfo": "text",
         "line": {
          "color": "cornflowerblue",
          "width": 6.401765167481994
         },
         "mode": "lines",
         "text": [
          "Material Availability Date passed--Create Shipment"
         ],
         "type": "scatter",
         "x": [
          0.00033244457775494116,
          0.13549968408565216,
          null
         ],
         "y": [
          -0.07274611955361339,
          -0.03621926643088185,
          null
         ]
        },
        {
         "hoverinfo": "text",
         "line": {
          "color": "cornflowerblue",
          "width": 6.5783132722821245
         },
         "mode": "lines",
         "text": [
          "Material Availability Date passed--Cancel Goods Issue"
         ],
         "type": "scatter",
         "x": [
          0.00033244457775494116,
          0.12202006477317892,
          null
         ],
         "y": [
          -0.07274611955361339,
          0.027268284269077726,
          null
         ]
        },
        {
         "hoverinfo": "text",
         "line": {
          "color": "cornflowerblue",
          "width": 6.301931926593866
         },
         "mode": "lines",
         "text": [
          "Material Availability Date passed--Change Reason for Rejection"
         ],
         "type": "scatter",
         "x": [
          0.00033244457775494116,
          -0.1329923460541953,
          null
         ],
         "y": [
          -0.07274611955361339,
          0.16637033138116322,
          null
         ]
        },
        {
         "hoverinfo": "text",
         "line": {
          "color": "cornflowerblue",
          "width": 6.503077360958542
         },
         "mode": "lines",
         "text": [
          "Material Availability Date passed--Change WBS element"
         ],
         "type": "scatter",
         "x": [
          0.00033244457775494116,
          -0.2947669953276553,
          null
         ],
         "y": [
          -0.07274611955361339,
          -0.1309282510652095,
          null
         ]
        },
        {
         "hoverinfo": "text",
         "line": {
          "color": "cornflowerblue",
          "width": 5.3699013227183325
         },
         "mode": "lines",
         "text": [
          "Material Availability Date passed--Clear Credit Memo"
         ],
         "type": "scatter",
         "x": [
          0.00033244457775494116,
          0.3088639038075001,
          null
         ],
         "y": [
          -0.07274611955361339,
          -0.07361643744726096,
          null
         ]
        },
        {
         "hoverinfo": "text",
         "line": {
          "color": "cornflowerblue",
          "width": 2.2318049109329983
         },
         "mode": "lines",
         "text": [
          "Create Sales Order--Create Sales Order Item"
         ],
         "type": "scatter",
         "x": [
          -0.10255036805201083,
          -0.12556775007719934,
          null
         ],
         "y": [
          -0.009551241773920307,
          -0.029180252454778694,
          null
         ]
        },
        {
         "hoverinfo": "text",
         "line": {
          "color": "cornflowerblue",
          "width": 6.583858637062704
         },
         "mode": "lines",
         "text": [
          "Create Sales Order--Create Picking"
         ],
         "type": "scatter",
         "x": [
          -0.10255036805201083,
          0.034876309299064864,
          null
         ],
         "y": [
          -0.009551241773920307,
          -0.042224385974545725,
          null
         ]
        },
        {
         "hoverinfo": "text",
         "line": {
          "color": "cornflowerblue",
          "width": 4.438328200042523
         },
         "mode": "lines",
         "text": [
          "Create Sales Order--Customer Acceptance (L650)"
         ],
         "type": "scatter",
         "x": [
          -0.10255036805201083,
          -0.1725870841102398,
          null
         ],
         "y": [
          -0.009551241773920307,
          -0.24369615140160536,
          null
         ]
        },
        {
         "hoverinfo": "text",
         "line": {
          "color": "cornflowerblue",
          "width": 5.848051154629009
         },
         "mode": "lines",
         "text": [
          "Create Sales Order--Set Initial Delivery Block"
         ],
         "type": "scatter",
         "x": [
          -0.10255036805201083,
          -0.175647569371099,
          null
         ],
         "y": [
          -0.009551241773920307,
          -0.1063361366010542,
          null
         ]
        },
        {
         "hoverinfo": "text",
         "line": {
          "color": "cornflowerblue",
          "width": 6.669476939041986
         },
         "mode": "lines",
         "text": [
          "Create Sales Order--Create Invoice"
         ],
         "type": "scatter",
         "x": [
          -0.10255036805201083,
          0.042953018299347084,
          null
         ],
         "y": [
          -0.009551241773920307,
          -0.1030570125999229,
          null
         ]
        },
        {
         "hoverinfo": "text",
         "line": {
          "color": "cornflowerblue",
          "width": 6.576504387383563
         },
         "mode": "lines",
         "text": [
          "Create Sales Order--Set Reason for Rejection"
         ],
         "type": "scatter",
         "x": [
          -0.10255036805201083,
          -0.03870879685324301,
          null
         ],
         "y": [
          -0.009551241773920307,
          -0.037176102343799346,
          null
         ]
        },
        {
         "hoverinfo": "text",
         "line": {
          "color": "cornflowerblue",
          "width": 6.583835595057127
         },
         "mode": "lines",
         "text": [
          "Create Sales Order--Change Confirmed Quantity"
         ],
         "type": "scatter",
         "x": [
          -0.10255036805201083,
          -0.11035131812659899,
          null
         ],
         "y": [
          -0.009551241773920307,
          -0.05866993943082722,
          null
         ]
        },
        {
         "hoverinfo": "text",
         "line": {
          "color": "cornflowerblue",
          "width": 5.28961292591789
         },
         "mode": "lines",
         "text": [
          "Create Sales Order--Send Order Confirmation"
         ],
         "type": "scatter",
         "x": [
          -0.10255036805201083,
          -0.4632339089403814,
          null
         ],
         "y": [
          -0.009551241773920307,
          0.22686427372465331,
          null
         ]
        },
        {
         "hoverinfo": "text",
         "line": {
          "color": "cornflowerblue",
          "width": 6.76177529459062
         },
         "mode": "lines",
         "text": [
          "Create Sales Order--Create Returns delivery for order"
         ],
         "type": "scatter",
         "x": [
          -0.10255036805201083,
          0.08383999610658,
          null
         ],
         "y": [
          -0.009551241773920307,
          -0.028146529453390672,
          null
         ]
        },
        {
         "hoverinfo": "text",
         "line": {
          "color": "cornflowerblue",
          "width": 6.580639137284949
         },
         "mode": "lines",
         "text": [
          "Create Sales Order--Change Confirmed Goods Issue Date"
         ],
         "type": "scatter",
         "x": [
          -0.10255036805201083,
          -0.06032875122517457,
          null
         ],
         "y": [
          -0.009551241773920307,
          0.02292633874076355,
          null
         ]
        },
        {
         "hoverinfo": "text",
         "line": {
          "color": "cornflowerblue",
          "width": 6.581032032814461
         },
         "mode": "lines",
         "text": [
          "Create Sales Order--Change Price"
         ],
         "type": "scatter",
         "x": [
          -0.10255036805201083,
          0.01347428135292946,
          null
         ],
         "y": [
          -0.009551241773920307,
          -0.12155578350748211,
          null
         ]
        },
        {
         "hoverinfo": "text",
         "line": {
          "color": "cornflowerblue",
          "width": 0.03278982282299097
         },
         "mode": "lines",
         "text": [
          "Create Sales Order--Change Requested Quantity"
         ],
         "type": "scatter",
         "x": [
          -0.10255036805201083,
          -0.03191216289795912,
          null
         ],
         "y": [
          -0.009551241773920307,
          -0.11649828164252744,
          null
         ]
        },
        {
         "hoverinfo": "text",
         "line": {
          "color": "cornflowerblue",
          "width": 6.853633426589979
         },
         "mode": "lines",
         "text": [
          "Create Sales Order--Change Requested Goods Issue Date"
         ],
         "type": "scatter",
         "x": [
          -0.10255036805201083,
          -0.06728640707088565,
          null
         ],
         "y": [
          -0.009551241773920307,
          -0.11583308886210894,
          null
         ]
        },
        {
         "hoverinfo": "text",
         "line": {
          "color": "cornflowerblue",
          "width": 5.452360897777946
         },
         "mode": "lines",
         "text": [
          "Create Sales Order--Change Payment Terms"
         ],
         "type": "scatter",
         "x": [
          -0.10255036805201083,
          -0.04811715829223775,
          null
         ],
         "y": [
          -0.009551241773920307,
          -0.16151611140258565,
          null
         ]
        },
        {
         "hoverinfo": "text",
         "line": {
          "color": "cornflowerblue",
          "width": 2.536338823420271
         },
         "mode": "lines",
         "text": [
          "Create Sales Order--Remove Delivery Block"
         ],
         "type": "scatter",
         "x": [
          -0.10255036805201083,
          -0.15543868292748345,
          null
         ],
         "y": [
          -0.009551241773920307,
          -0.06736765946384478,
          null
         ]
        },
        {
         "hoverinfo": "text",
         "line": {
          "color": "cornflowerblue",
          "width": 0.024692612590371414
         },
         "mode": "lines",
         "text": [
          "Create Sales Order--Change Confirmed Delivery Date"
         ],
         "type": "scatter",
         "x": [
          -0.10255036805201083,
          0.04129574492817072,
          null
         ],
         "y": [
          -0.009551241773920307,
          0.007345246826011747,
          null
         ]
        },
        {
         "hoverinfo": "text",
         "line": {
          "color": "cornflowerblue",
          "width": 4.671191981530089
         },
         "mode": "lines",
         "text": [
          "Create Sales Order--Change Inco Terms (Part 2)"
         ],
         "type": "scatter",
         "x": [
          -0.10255036805201083,
          -0.13239457224717427,
          null
         ],
         "y": [
          -0.009551241773920307,
          -0.12176702996987479,
          null
         ]
        },
        {
         "hoverinfo": "text",
         "line": {
          "color": "cornflowerblue",
          "width": 6.652884534498454
         },
         "mode": "lines",
         "text": [
          "Create Sales Order--Create Pro forma invoice"
         ],
         "type": "scatter",
         "x": [
          -0.10255036805201083,
          0.020153840383762067,
          null
         ],
         "y": [
          -0.009551241773920307,
          0.04841294718093922,
          null
         ]
        },
        {
         "hoverinfo": "text",
         "line": {
          "color": "cornflowerblue",
          "width": 5.9308959133075225
         },
         "mode": "lines",
         "text": [
          "Create Sales Order--Set Delivery Block"
         ],
         "type": "scatter",
         "x": [
          -0.10255036805201083,
          0.060439448504209126,
          null
         ],
         "y": [
          -0.009551241773920307,
          -0.1641885374509435,
          null
         ]
        },
        {
         "hoverinfo": "text",
         "line": {
          "color": "cornflowerblue",
          "width": 6.272829835622316
         },
         "mode": "lines",
         "text": [
          "Create Sales Order--Create Delivery"
         ],
         "type": "scatter",
         "x": [
          -0.10255036805201083,
          -0.012615544154824417,
          null
         ],
         "y": [
          -0.009551241773920307,
          0.014383872923265805,
          null
         ]
        },
        {
         "hoverinfo": "text",
         "line": {
          "color": "cornflowerblue",
          "width": 6.968293622566908
         },
         "mode": "lines",
         "text": [
          "Create Sales Order--Create Intercompany invoice"
         ],
         "type": "scatter",
         "x": [
          -0.10255036805201083,
          0.07495999171979624,
          null
         ],
         "y": [
          -0.009551241773920307,
          -0.07204009369815284,
          null
         ]
        },
        {
         "hoverinfo": "text",
         "line": {
          "color": "cornflowerblue",
          "width": 5.516247350809359
         },
         "mode": "lines",
         "text": [
          "Create Sales Order--Change Requested Delivery Date"
         ],
         "type": "scatter",
         "x": [
          -0.10255036805201083,
          -0.10705315947754912,
          null
         ],
         "y": [
          -0.009551241773920307,
          -0.15443925700666747,
          null
         ]
        },
        {
         "hoverinfo": "text",
         "line": {
          "color": "cornflowerblue",
          "width": 6.056256942266817
         },
         "mode": "lines",
         "text": [
          "Create Sales Order--Create Intercompany credit memo"
         ],
         "type": "scatter",
         "x": [
          -0.10255036805201083,
          0.008571203167793716,
          null
         ],
         "y": [
          -0.009551241773920307,
          -0.2258729994276078,
          null
         ]
        },
        {
         "hoverinfo": "text",
         "line": {
          "color": "cornflowerblue",
          "width": 6.58193279852617
         },
         "mode": "lines",
         "text": [
          "Create Sales Order--Change Delivery Grouping"
         ],
         "type": "scatter",
         "x": [
          -0.10255036805201083,
          -0.1589274296008866,
          null
         ],
         "y": [
          -0.009551241773920307,
          0.0016237800191684357,
          null
         ]
        },
        {
         "hoverinfo": "text",
         "line": {
          "color": "cornflowerblue",
          "width": 6.580639137284949
         },
         "mode": "lines",
         "text": [
          "Create Sales Order--Change Material Availability Date"
         ],
         "type": "scatter",
         "x": [
          -0.10255036805201083,
          -0.057483588782378345,
          null
         ],
         "y": [
          -0.009551241773920307,
          -0.07205714767902631,
          null
         ]
        },
        {
         "hoverinfo": "text",
         "line": {
          "color": "cornflowerblue",
          "width": 6.746461089380258
         },
         "mode": "lines",
         "text": [
          "Create Sales Order--Create Shipment"
         ],
         "type": "scatter",
         "x": [
          -0.10255036805201083,
          0.13549968408565216,
          null
         ],
         "y": [
          -0.009551241773920307,
          -0.03621926643088185,
          null
         ]
        },
        {
         "hoverinfo": "text",
         "line": {
          "color": "cornflowerblue",
          "width": 3.9355767583818815
         },
         "mode": "lines",
         "text": [
          "Create Sales Order--Create Credit memo"
         ],
         "type": "scatter",
         "x": [
          -0.10255036805201083,
          0.13059550114804544,
          null
         ],
         "y": [
          -0.009551241773920307,
          -0.08633072544484394,
          null
         ]
        },
        {
         "hoverinfo": "text",
         "line": {
          "color": "cornflowerblue",
          "width": 4.6898942267954755
         },
         "mode": "lines",
         "text": [
          "Create Sales Order--Create Purchase Order"
         ],
         "type": "scatter",
         "x": [
          -0.10255036805201083,
          -0.10545432009503505,
          null
         ],
         "y": [
          -0.009551241773920307,
          -0.09850709740293291,
          null
         ]
        },
        {
         "hoverinfo": "text",
         "line": {
          "color": "cornflowerblue",
          "width": 6.580997371770582
         },
         "mode": "lines",
         "text": [
          "Create Sales Order--Change Material"
         ],
         "type": "scatter",
         "x": [
          -0.10255036805201083,
          -0.09746144469076383,
          null
         ],
         "y": [
          -0.009551241773920307,
          0.07981998593333302,
          null
         ]
        },
        {
         "hoverinfo": "text",
         "line": {
          "color": "cornflowerblue",
          "width": 1.4834966890762533
         },
         "mode": "lines",
         "text": [
          "Create Sales Order--Change Route"
         ],
         "type": "scatter",
         "x": [
          -0.10255036805201083,
          -0.13499318315779704,
          null
         ],
         "y": [
          -0.009551241773920307,
          0.042392265010211275,
          null
         ]
        },
        {
         "hoverinfo": "text",
         "line": {
          "color": "cornflowerblue",
          "width": 6.344129377946854
         },
         "mode": "lines",
         "text": [
          "Create Sales Order--Change Shipping Point"
         ],
         "type": "scatter",
         "x": [
          -0.10255036805201083,
          -0.04021834781634519,
          null
         ],
         "y": [
          -0.009551241773920307,
          0.05546257685434959,
          null
         ]
        },
        {
         "hoverinfo": "text",
         "line": {
          "color": "cornflowerblue",
          "width": 6.580639137284949
         },
         "mode": "lines",
         "text": [
          "Create Sales Order--Change Inco Terms (Part 1)"
         ],
         "type": "scatter",
         "x": [
          -0.10255036805201083,
          -0.06405663485270553,
          null
         ],
         "y": [
          -0.009551241773920307,
          -0.20742830658080527,
          null
         ]
        },
        {
         "hoverinfo": "text",
         "line": {
          "color": "cornflowerblue",
          "width": 3.539508997459668
         },
         "mode": "lines",
         "text": [
          "Create Sales Order--Cancel Reason for Rejection"
         ],
         "type": "scatter",
         "x": [
          -0.10255036805201083,
          -0.1713416255106839,
          null
         ],
         "y": [
          -0.009551241773920307,
          -0.03347457892650524,
          null
         ]
        },
        {
         "hoverinfo": "text",
         "line": {
          "color": "cornflowerblue",
          "width": 6.0296229975419955
         },
         "mode": "lines",
         "text": [
          "Create Sales Order--Change WBS element"
         ],
         "type": "scatter",
         "x": [
          -0.10255036805201083,
          -0.2947669953276553,
          null
         ],
         "y": [
          -0.009551241773920307,
          -0.1309282510652095,
          null
         ]
        },
        {
         "hoverinfo": "text",
         "line": {
          "color": "cornflowerblue",
          "width": 6.586125676786206
         },
         "mode": "lines",
         "text": [
          "Create Sales Order--Change Plant"
         ],
         "type": "scatter",
         "x": [
          -0.10255036805201083,
          -0.03477416256721846,
          null
         ],
         "y": [
          -0.009551241773920307,
          0.10220224726971819,
          null
         ]
        },
        {
         "hoverinfo": "text",
         "line": {
          "color": "cornflowerblue",
          "width": 6.42651542581033
         },
         "mode": "lines",
         "text": [
          "Create Sales Order--Create Invoice cancellation"
         ],
         "type": "scatter",
         "x": [
          -0.10255036805201083,
          0.08656877822062127,
          null
         ],
         "y": [
          -0.009551241773920307,
          -0.11495218044397325,
          null
         ]
        },
        {
         "hoverinfo": "text",
         "line": {
          "color": "cornflowerblue",
          "width": 6.721405620267746
         },
         "mode": "lines",
         "text": [
          "Create Sales Order--Create Credit memo cancellation"
         ],
         "type": "scatter",
         "x": [
          -0.10255036805201083,
          0.13269682438952626,
          null
         ],
         "y": [
          -0.009551241773920307,
          -0.2135544141778976,
          null
         ]
        },
        {
         "hoverinfo": "text",
         "line": {
          "color": "cornflowerblue",
          "width": 6.048533836606104
         },
         "mode": "lines",
         "text": [
          "Create Sales Order--Clear Invoice"
         ],
         "type": "scatter",
         "x": [
          -0.10255036805201083,
          0.08028618362315233,
          null
         ],
         "y": [
          -0.009551241773920307,
          0.08527563812700825,
          null
         ]
        },
        {
         "hoverinfo": "text",
         "line": {
          "color": "cornflowerblue",
          "width": 6.812161725698006
         },
         "mode": "lines",
         "text": [
          "Create Sales Order--Change Delivery Block"
         ],
         "type": "scatter",
         "x": [
          -0.10255036805201083,
          -0.4097001313894779,
          null
         ],
         "y": [
          -0.009551241773920307,
          -0.050566752625627306,
          null
         ]
        },
        {
         "hoverinfo": "text",
         "line": {
          "color": "cornflowerblue",
          "width": 4.654832985173829
         },
         "mode": "lines",
         "text": [
          "Create Sales Order--Change Item Category"
         ],
         "type": "scatter",
         "x": [
          -0.10255036805201083,
          -0.19046702188185693,
          null
         ],
         "y": [
          -0.009551241773920307,
          0.06648488050147651,
          null
         ]
        },
        {
         "hoverinfo": "text",
         "line": {
          "color": "cornflowerblue",
          "width": 7.029316354036671
         },
         "mode": "lines",
         "text": [
          "Create Sales Order--Record Return Goods Receipt"
         ],
         "type": "scatter",
         "x": [
          -0.10255036805201083,
          0.022926828201015118,
          null
         ],
         "y": [
          -0.009551241773920307,
          -0.18102982957917835,
          null
         ]
        },
        {
         "hoverinfo": "text",
         "line": {
          "color": "cornflowerblue",
          "width": 6.891126110933363
         },
         "mode": "lines",
         "text": [
          "Create Sales Order Item--Set Reason for Rejection"
         ],
         "type": "scatter",
         "x": [
          -0.12556775007719934,
          -0.03870879685324301,
          null
         ],
         "y": [
          -0.029180252454778694,
          -0.037176102343799346,
          null
         ]
        },
        {
         "hoverinfo": "text",
         "line": {
          "color": "cornflowerblue",
          "width": 7.267664985430799
         },
         "mode": "lines",
         "text": [
          "Create Sales Order Item--Change Shipping Point"
         ],
         "type": "scatter",
         "x": [
          -0.12556775007719934,
          -0.04021834781634519,
          null
         ],
         "y": [
          -0.029180252454778694,
          0.05546257685434959,
          null
         ]
        },
        {
         "hoverinfo": "text",
         "line": {
          "color": "cornflowerblue",
          "width": 6.4388976594829765
         },
         "mode": "lines",
         "text": [
          "Create Sales Order Item--Create Picking"
         ],
         "type": "scatter",
         "x": [
          -0.12556775007719934,
          0.034876309299064864,
          null
         ],
         "y": [
          -0.029180252454778694,
          -0.042224385974545725,
          null
         ]
        },
        {
         "hoverinfo": "text",
         "line": {
          "color": "cornflowerblue",
          "width": 7.00320181312615
         },
         "mode": "lines",
         "text": [
          "Create Sales Order Item--Create Invoice"
         ],
         "type": "scatter",
         "x": [
          -0.12556775007719934,
          0.042953018299347084,
          null
         ],
         "y": [
          -0.029180252454778694,
          -0.1030570125999229,
          null
         ]
        },
        {
         "hoverinfo": "text",
         "line": {
          "color": "cornflowerblue",
          "width": 6.27204332579759
         },
         "mode": "lines",
         "text": [
          "Create Sales Order Item--Customer Acceptance (L650)"
         ],
         "type": "scatter",
         "x": [
          -0.12556775007719934,
          -0.1725870841102398,
          null
         ],
         "y": [
          -0.029180252454778694,
          -0.24369615140160536,
          null
         ]
        },
        {
         "hoverinfo": "text",
         "line": {
          "color": "cornflowerblue",
          "width": 0
         },
         "mode": "lines",
         "text": [
          "Create Sales Order Item--Set Initial Delivery Block"
         ],
         "type": "scatter",
         "x": [
          -0.12556775007719934,
          -0.175647569371099,
          null
         ],
         "y": [
          -0.029180252454778694,
          -0.1063361366010542,
          null
         ]
        },
        {
         "hoverinfo": "text",
         "line": {
          "color": "cornflowerblue",
          "width": 6.4742892794589135
         },
         "mode": "lines",
         "text": [
          "Create Sales Order Item--Change Requested Quantity"
         ],
         "type": "scatter",
         "x": [
          -0.12556775007719934,
          -0.03191216289795912,
          null
         ],
         "y": [
          -0.029180252454778694,
          -0.11649828164252744,
          null
         ]
        },
        {
         "hoverinfo": "text",
         "line": {
          "color": "cornflowerblue",
          "width": 7.226166584958314
         },
         "mode": "lines",
         "text": [
          "Create Sales Order Item--Change Confirmed Quantity"
         ],
         "type": "scatter",
         "x": [
          -0.12556775007719934,
          -0.11035131812659899,
          null
         ],
         "y": [
          -0.029180252454778694,
          -0.05866993943082722,
          null
         ]
        },
        {
         "hoverinfo": "text",
         "line": {
          "color": "cornflowerblue",
          "width": 6.856286530606944
         },
         "mode": "lines",
         "text": [
          "Create Sales Order Item--Create Credit memo cancellation"
         ],
         "type": "scatter",
         "x": [
          -0.12556775007719934,
          0.13269682438952626,
          null
         ],
         "y": [
          -0.029180252454778694,
          -0.2135544141778976,
          null
         ]
        },
        {
         "hoverinfo": "text",
         "line": {
          "color": "cornflowerblue",
          "width": 5.4283948847426995
         },
         "mode": "lines",
         "text": [
          "Create Sales Order Item--Send Order Confirmation"
         ],
         "type": "scatter",
         "x": [
          -0.12556775007719934,
          -0.4632339089403814,
          null
         ],
         "y": [
          -0.029180252454778694,
          0.22686427372465331,
          null
         ]
        },
        {
         "hoverinfo": "text",
         "line": {
          "color": "cornflowerblue",
          "width": 6.498432740546668
         },
         "mode": "lines",
         "text": [
          "Create Sales Order Item--Change Payment Terms"
         ],
         "type": "scatter",
         "x": [
          -0.12556775007719934,
          -0.04811715829223775,
          null
         ],
         "y": [
          -0.029180252454778694,
          -0.16151611140258565,
          null
         ]
        },
        {
         "hoverinfo": "text",
         "line": {
          "color": "cornflowerblue",
          "width": 6.909736648106606
         },
         "mode": "lines",
         "text": [
          "Create Sales Order Item--Change Requested Goods Issue Date"
         ],
         "type": "scatter",
         "x": [
          -0.12556775007719934,
          -0.06728640707088565,
          null
         ],
         "y": [
          -0.029180252454778694,
          -0.11583308886210894,
          null
         ]
        },
        {
         "hoverinfo": "text",
         "line": {
          "color": "cornflowerblue",
          "width": 6.546665843593526
         },
         "mode": "lines",
         "text": [
          "Create Sales Order Item--Create Returns delivery for order"
         ],
         "type": "scatter",
         "x": [
          -0.12556775007719934,
          0.08383999610658,
          null
         ],
         "y": [
          -0.029180252454778694,
          -0.028146529453390672,
          null
         ]
        },
        {
         "hoverinfo": "text",
         "line": {
          "color": "cornflowerblue",
          "width": 7.218140180840032
         },
         "mode": "lines",
         "text": [
          "Create Sales Order Item--Create Credit memo"
         ],
         "type": "scatter",
         "x": [
          -0.12556775007719934,
          0.13059550114804544,
          null
         ],
         "y": [
          -0.029180252454778694,
          -0.08633072544484394,
          null
         ]
        },
        {
         "hoverinfo": "text",
         "line": {
          "color": "cornflowerblue",
          "width": 4.242525075062855
         },
         "mode": "lines",
         "text": [
          "Create Sales Order Item--Change Material Availability Date"
         ],
         "type": "scatter",
         "x": [
          -0.12556775007719934,
          -0.057483588782378345,
          null
         ],
         "y": [
          -0.029180252454778694,
          -0.07205714767902631,
          null
         ]
        },
        {
         "hoverinfo": "text",
         "line": {
          "color": "cornflowerblue",
          "width": 5.878389163050842
         },
         "mode": "lines",
         "text": [
          "Create Sales Order Item--Change Price"
         ],
         "type": "scatter",
         "x": [
          -0.12556775007719934,
          0.01347428135292946,
          null
         ],
         "y": [
          -0.029180252454778694,
          -0.12155578350748211,
          null
         ]
        },
        {
         "hoverinfo": "text",
         "line": {
          "color": "cornflowerblue",
          "width": 6.31026670236826
         },
         "mode": "lines",
         "text": [
          "Create Sales Order Item--Create Delivery"
         ],
         "type": "scatter",
         "x": [
          -0.12556775007719934,
          -0.012615544154824417,
          null
         ],
         "y": [
          -0.029180252454778694,
          0.014383872923265805,
          null
         ]
        },
        {
         "hoverinfo": "text",
         "line": {
          "color": "cornflowerblue",
          "width": 6.551651600411697
         },
         "mode": "lines",
         "text": [
          "Create Sales Order Item--Create Purchase Order"
         ],
         "type": "scatter",
         "x": [
          -0.12556775007719934,
          -0.10545432009503505,
          null
         ],
         "y": [
          -0.029180252454778694,
          -0.09850709740293291,
          null
         ]
        },
        {
         "hoverinfo": "text",
         "line": {
          "color": "cornflowerblue",
          "width": 7.146765617751319
         },
         "mode": "lines",
         "text": [
          "Create Sales Order Item--Create Invoice cancellation"
         ],
         "type": "scatter",
         "x": [
          -0.12556775007719934,
          0.08656877822062127,
          null
         ],
         "y": [
          -0.029180252454778694,
          -0.11495218044397325,
          null
         ]
        },
        {
         "hoverinfo": "text",
         "line": {
          "color": "cornflowerblue",
          "width": 6.438551329906966
         },
         "mode": "lines",
         "text": [
          "Create Sales Order Item--Change Confirmed Delivery Date"
         ],
         "type": "scatter",
         "x": [
          -0.12556775007719934,
          0.04129574492817072,
          null
         ],
         "y": [
          -0.029180252454778694,
          0.007345246826011747,
          null
         ]
        },
        {
         "hoverinfo": "text",
         "line": {
          "color": "cornflowerblue",
          "width": 6.34273742613272
         },
         "mode": "lines",
         "text": [
          "Create Sales Order Item--Change Confirmed Goods Issue Date"
         ],
         "type": "scatter",
         "x": [
          -0.12556775007719934,
          -0.06032875122517457,
          null
         ],
         "y": [
          -0.029180252454778694,
          0.02292633874076355,
          null
         ]
        },
        {
         "hoverinfo": "text",
         "line": {
          "color": "cornflowerblue",
          "width": 7.136516355747053
         },
         "mode": "lines",
         "text": [
          "Create Sales Order Item--Clear Invoice"
         ],
         "type": "scatter",
         "x": [
          -0.12556775007719934,
          0.08028618362315233,
          null
         ],
         "y": [
          -0.029180252454778694,
          0.08527563812700825,
          null
         ]
        },
        {
         "hoverinfo": "text",
         "line": {
          "color": "cornflowerblue",
          "width": 6.058363561338355
         },
         "mode": "lines",
         "text": [
          "Create Sales Order Item--Create Intercompany invoice"
         ],
         "type": "scatter",
         "x": [
          -0.12556775007719934,
          0.07495999171979624,
          null
         ],
         "y": [
          -0.029180252454778694,
          -0.07204009369815284,
          null
         ]
        },
        {
         "hoverinfo": "text",
         "line": {
          "color": "cornflowerblue",
          "width": 6.69222847975708
         },
         "mode": "lines",
         "text": [
          "Create Sales Order Item--Change Inco Terms (Part 2)"
         ],
         "type": "scatter",
         "x": [
          -0.12556775007719934,
          -0.13239457224717427,
          null
         ],
         "y": [
          -0.029180252454778694,
          -0.12176702996987479,
          null
         ]
        },
        {
         "hoverinfo": "text",
         "line": {
          "color": "cornflowerblue",
          "width": 7.147231391583906
         },
         "mode": "lines",
         "text": [
          "Create Sales Order Item--Create Pro forma invoice"
         ],
         "type": "scatter",
         "x": [
          -0.12556775007719934,
          0.020153840383762067,
          null
         ],
         "y": [
          -0.029180252454778694,
          0.04841294718093922,
          null
         ]
        },
        {
         "hoverinfo": "text",
         "line": {
          "color": "cornflowerblue",
          "width": 6.579598373964638
         },
         "mode": "lines",
         "text": [
          "Create Sales Order Item--Change WBS element"
         ],
         "type": "scatter",
         "x": [
          -0.12556775007719934,
          -0.2947669953276553,
          null
         ],
         "y": [
          -0.029180252454778694,
          -0.1309282510652095,
          null
         ]
        },
        {
         "hoverinfo": "text",
         "line": {
          "color": "cornflowerblue",
          "width": 6.7889905115848075
         },
         "mode": "lines",
         "text": [
          "Create Sales Order Item--Change Route"
         ],
         "type": "scatter",
         "x": [
          -0.12556775007719934,
          -0.13499318315779704,
          null
         ],
         "y": [
          -0.029180252454778694,
          0.042392265010211275,
          null
         ]
        },
        {
         "hoverinfo": "text",
         "line": {
          "color": "cornflowerblue",
          "width": 6.737125110777766
         },
         "mode": "lines",
         "text": [
          "Create Sales Order Item--Cancel Reason for Rejection"
         ],
         "type": "scatter",
         "x": [
          -0.12556775007719934,
          -0.1713416255106839,
          null
         ],
         "y": [
          -0.029180252454778694,
          -0.03347457892650524,
          null
         ]
        },
        {
         "hoverinfo": "text",
         "line": {
          "color": "cornflowerblue",
          "width": 6.572969952061688
         },
         "mode": "lines",
         "text": [
          "Create Sales Order Item--Remove Delivery Block"
         ],
         "type": "scatter",
         "x": [
          -0.12556775007719934,
          -0.15543868292748345,
          null
         ],
         "y": [
          -0.029180252454778694,
          -0.06736765946384478,
          null
         ]
        },
        {
         "hoverinfo": "text",
         "line": {
          "color": "cornflowerblue",
          "width": 6.632243294121837
         },
         "mode": "lines",
         "text": [
          "Create Sales Order Item--Create Intercompany credit memo"
         ],
         "type": "scatter",
         "x": [
          -0.12556775007719934,
          0.008571203167793716,
          null
         ],
         "y": [
          -0.029180252454778694,
          -0.2258729994276078,
          null
         ]
        },
        {
         "hoverinfo": "text",
         "line": {
          "color": "cornflowerblue",
          "width": 2.6649107084415924
         },
         "mode": "lines",
         "text": [
          "Create Sales Order Item--Set Delivery Block"
         ],
         "type": "scatter",
         "x": [
          -0.12556775007719934,
          0.060439448504209126,
          null
         ],
         "y": [
          -0.029180252454778694,
          -0.1641885374509435,
          null
         ]
        },
        {
         "hoverinfo": "text",
         "line": {
          "color": "cornflowerblue",
          "width": 6.580616020975236
         },
         "mode": "lines",
         "text": [
          "Create Sales Order Item--Change Item Category"
         ],
         "type": "scatter",
         "x": [
          -0.12556775007719934,
          -0.19046702188185693,
          null
         ],
         "y": [
          -0.029180252454778694,
          0.06648488050147651,
          null
         ]
        },
        {
         "hoverinfo": "text",
         "line": {
          "color": "cornflowerblue",
          "width": 5.101440391744884
         },
         "mode": "lines",
         "text": [
          "Create Sales Order Item--Change Delivery Grouping"
         ],
         "type": "scatter",
         "x": [
          -0.12556775007719934,
          -0.1589274296008866,
          null
         ],
         "y": [
          -0.029180252454778694,
          0.0016237800191684357,
          null
         ]
        },
        {
         "hoverinfo": "text",
         "line": {
          "color": "cornflowerblue",
          "width": 6.269285659712888
         },
         "mode": "lines",
         "text": [
          "Create Sales Order Item--Change Inco Terms (Part 1)"
         ],
         "type": "scatter",
         "x": [
          -0.12556775007719934,
          -0.06405663485270553,
          null
         ],
         "y": [
          -0.029180252454778694,
          -0.20742830658080527,
          null
         ]
        },
        {
         "hoverinfo": "text",
         "line": {
          "color": "cornflowerblue",
          "width": 2.7552518025865043
         },
         "mode": "lines",
         "text": [
          "Create Sales Order Item--Change Material"
         ],
         "type": "scatter",
         "x": [
          -0.12556775007719934,
          -0.09746144469076383,
          null
         ],
         "y": [
          -0.029180252454778694,
          0.07981998593333302,
          null
         ]
        },
        {
         "hoverinfo": "text",
         "line": {
          "color": "cornflowerblue",
          "width": 6.45704434311681
         },
         "mode": "lines",
         "text": [
          "Create Sales Order Item--Change Plant"
         ],
         "type": "scatter",
         "x": [
          -0.12556775007719934,
          -0.03477416256721846,
          null
         ],
         "y": [
          -0.029180252454778694,
          0.10220224726971819,
          null
         ]
        },
        {
         "hoverinfo": "text",
         "line": {
          "color": "cornflowerblue",
          "width": 6.907163437211676
         },
         "mode": "lines",
         "text": [
          "Create Sales Order Item--Create Shipment"
         ],
         "type": "scatter",
         "x": [
          -0.12556775007719934,
          0.13549968408565216,
          null
         ],
         "y": [
          -0.029180252454778694,
          -0.03621926643088185,
          null
         ]
        },
        {
         "hoverinfo": "text",
         "line": {
          "color": "cornflowerblue",
          "width": 6.40549013178026
         },
         "mode": "lines",
         "text": [
          "Create Sales Order Item--Record Return Goods Receipt"
         ],
         "type": "scatter",
         "x": [
          -0.12556775007719934,
          0.022926828201015118,
          null
         ],
         "y": [
          -0.029180252454778694,
          -0.18102982957917835,
          null
         ]
        },
        {
         "hoverinfo": "text",
         "line": {
          "color": "cornflowerblue",
          "width": 6.007009758443444
         },
         "mode": "lines",
         "text": [
          "Create Sales Order Item--Change Requested Delivery Date"
         ],
         "type": "scatter",
         "x": [
          -0.12556775007719934,
          -0.10705315947754912,
          null
         ],
         "y": [
          -0.029180252454778694,
          -0.15443925700666747,
          null
         ]
        },
        {
         "hoverinfo": "text",
         "line": {
          "color": "cornflowerblue",
          "width": 7.064566701605999
         },
         "mode": "lines",
         "text": [
          "Create Sales Order Item--Record Goods Issue"
         ],
         "type": "scatter",
         "x": [
          -0.12556775007719934,
          -0.00230069740355961,
          null
         ],
         "y": [
          -0.029180252454778694,
          -0.013244841929723427,
          null
         ]
        },
        {
         "hoverinfo": "text",
         "line": {
          "color": "cornflowerblue",
          "width": 6.580627579196888
         },
         "mode": "lines",
         "text": [
          "Create Sales Order Item--Change Reason for Rejection"
         ],
         "type": "scatter",
         "x": [
          -0.12556775007719934,
          -0.1329923460541953,
          null
         ],
         "y": [
          -0.029180252454778694,
          0.16637033138116322,
          null
         ]
        },
        {
         "hoverinfo": "text",
         "line": {
          "color": "cornflowerblue",
          "width": 6.931740324232598
         },
         "mode": "lines",
         "text": [
          "Create Sales Order Item--Change Delivery Block"
         ],
         "type": "scatter",
         "x": [
          -0.12556775007719934,
          -0.4097001313894779,
          null
         ],
         "y": [
          -0.029180252454778694,
          -0.050566752625627306,
          null
         ]
        },
        {
         "hoverinfo": "text",
         "line": {
          "color": "cornflowerblue",
          "width": 7.267676614351926
         },
         "mode": "lines",
         "text": [
          "Set Reason for Rejection--Change Requested Quantity"
         ],
         "type": "scatter",
         "x": [
          -0.03870879685324301,
          -0.03191216289795912,
          null
         ],
         "y": [
          -0.037176102343799346,
          -0.11649828164252744,
          null
         ]
        },
        {
         "hoverinfo": "text",
         "line": {
          "color": "cornflowerblue",
          "width": 6.897410286927148
         },
         "mode": "lines",
         "text": [
          "Set Reason for Rejection--Change Inco Terms (Part 2)"
         ],
         "type": "scatter",
         "x": [
          -0.03870879685324301,
          -0.13239457224717427,
          null
         ],
         "y": [
          -0.037176102343799346,
          -0.12176702996987479,
          null
         ]
        },
        {
         "hoverinfo": "text",
         "line": {
          "color": "cornflowerblue",
          "width": 5.370793054870086
         },
         "mode": "lines",
         "text": [
          "Set Reason for Rejection--Change Confirmed Quantity"
         ],
         "type": "scatter",
         "x": [
          -0.03870879685324301,
          -0.11035131812659899,
          null
         ],
         "y": [
          -0.037176102343799346,
          -0.05866993943082722,
          null
         ]
        },
        {
         "hoverinfo": "text",
         "line": {
          "color": "cornflowerblue",
          "width": 0
         },
         "mode": "lines",
         "text": [
          "Set Reason for Rejection--Change Requested Goods Issue Date"
         ],
         "type": "scatter",
         "x": [
          -0.03870879685324301,
          -0.06728640707088565,
          null
         ],
         "y": [
          -0.037176102343799346,
          -0.11583308886210894,
          null
         ]
        },
        {
         "hoverinfo": "text",
         "line": {
          "color": "cornflowerblue",
          "width": 3.3675831450293927
         },
         "mode": "lines",
         "text": [
          "Set Reason for Rejection--Change Price"
         ],
         "type": "scatter",
         "x": [
          -0.03870879685324301,
          0.01347428135292946,
          null
         ],
         "y": [
          -0.037176102343799346,
          -0.12155578350748211,
          null
         ]
        },
        {
         "hoverinfo": "text",
         "line": {
          "color": "cornflowerblue",
          "width": 6.508172834032128
         },
         "mode": "lines",
         "text": [
          "Set Reason for Rejection--Create Invoice"
         ],
         "type": "scatter",
         "x": [
          -0.03870879685324301,
          0.042953018299347084,
          null
         ],
         "y": [
          -0.037176102343799346,
          -0.1030570125999229,
          null
         ]
        },
        {
         "hoverinfo": "text",
         "line": {
          "color": "cornflowerblue",
          "width": 7.077505085893309
         },
         "mode": "lines",
         "text": [
          "Set Reason for Rejection--Cancel Reason for Rejection"
         ],
         "type": "scatter",
         "x": [
          -0.03870879685324301,
          -0.1713416255106839,
          null
         ],
         "y": [
          -0.037176102343799346,
          -0.03347457892650524,
          null
         ]
        },
        {
         "hoverinfo": "text",
         "line": {
          "color": "cornflowerblue",
          "width": 7.164578579597922
         },
         "mode": "lines",
         "text": [
          "Set Reason for Rejection--Create Returns delivery for order"
         ],
         "type": "scatter",
         "x": [
          -0.03870879685324301,
          0.08383999610658,
          null
         ],
         "y": [
          -0.037176102343799346,
          -0.028146529453390672,
          null
         ]
        },
        {
         "hoverinfo": "text",
         "line": {
          "color": "cornflowerblue",
          "width": 6.319283379360323
         },
         "mode": "lines",
         "text": [
          "Set Reason for Rejection--Create Picking"
         ],
         "type": "scatter",
         "x": [
          -0.03870879685324301,
          0.034876309299064864,
          null
         ],
         "y": [
          -0.037176102343799346,
          -0.042224385974545725,
          null
         ]
        },
        {
         "hoverinfo": "text",
         "line": {
          "color": "cornflowerblue",
          "width": 5.173887288169859
         },
         "mode": "lines",
         "text": [
          "Set Reason for Rejection--Change Material Availability Date"
         ],
         "type": "scatter",
         "x": [
          -0.03870879685324301,
          -0.057483588782378345,
          null
         ],
         "y": [
          -0.037176102343799346,
          -0.07205714767902631,
          null
         ]
        },
        {
         "hoverinfo": "text",
         "line": {
          "color": "cornflowerblue",
          "width": 6.908629896392798
         },
         "mode": "lines",
         "text": [
          "Set Reason for Rejection--Create Invoice cancellation"
         ],
         "type": "scatter",
         "x": [
          -0.03870879685324301,
          0.08656877822062127,
          null
         ],
         "y": [
          -0.037176102343799346,
          -0.11495218044397325,
          null
         ]
        },
        {
         "hoverinfo": "text",
         "line": {
          "color": "cornflowerblue",
          "width": 6.926118962999095
         },
         "mode": "lines",
         "text": [
          "Set Reason for Rejection--Change Confirmed Goods Issue Date"
         ],
         "type": "scatter",
         "x": [
          -0.03870879685324301,
          -0.06032875122517457,
          null
         ],
         "y": [
          -0.037176102343799346,
          0.02292633874076355,
          null
         ]
        },
        {
         "hoverinfo": "text",
         "line": {
          "color": "cornflowerblue",
          "width": 5.390022571382862
         },
         "mode": "lines",
         "text": [
          "Set Reason for Rejection--Change Payment Terms"
         ],
         "type": "scatter",
         "x": [
          -0.03870879685324301,
          -0.04811715829223775,
          null
         ],
         "y": [
          -0.037176102343799346,
          -0.16151611140258565,
          null
         ]
        },
        {
         "hoverinfo": "text",
         "line": {
          "color": "cornflowerblue",
          "width": 4.795859413748691
         },
         "mode": "lines",
         "text": [
          "Set Reason for Rejection--Change Route"
         ],
         "type": "scatter",
         "x": [
          -0.03870879685324301,
          -0.13499318315779704,
          null
         ],
         "y": [
          -0.037176102343799346,
          0.042392265010211275,
          null
         ]
        },
        {
         "hoverinfo": "text",
         "line": {
          "color": "cornflowerblue",
          "width": 6.156254853408627
         },
         "mode": "lines",
         "text": [
          "Set Reason for Rejection--Clear Invoice"
         ],
         "type": "scatter",
         "x": [
          -0.03870879685324301,
          0.08028618362315233,
          null
         ],
         "y": [
          -0.037176102343799346,
          0.08527563812700825,
          null
         ]
        },
        {
         "hoverinfo": "text",
         "line": {
          "color": "cornflowerblue",
          "width": 7.264222701389766
         },
         "mode": "lines",
         "text": [
          "Set Reason for Rejection--Change Delivery Grouping"
         ],
         "type": "scatter",
         "x": [
          -0.03870879685324301,
          -0.1589274296008866,
          null
         ],
         "y": [
          -0.037176102343799346,
          0.0016237800191684357,
          null
         ]
        },
        {
         "hoverinfo": "text",
         "line": {
          "color": "cornflowerblue",
          "width": 6.815658264761149
         },
         "mode": "lines",
         "text": [
          "Set Reason for Rejection--Create Delivery"
         ],
         "type": "scatter",
         "x": [
          -0.03870879685324301,
          -0.012615544154824417,
          null
         ],
         "y": [
          -0.037176102343799346,
          0.014383872923265805,
          null
         ]
        },
        {
         "hoverinfo": "text",
         "line": {
          "color": "cornflowerblue",
          "width": 6.107709363274097
         },
         "mode": "lines",
         "text": [
          "Set Reason for Rejection--Change Confirmed Delivery Date"
         ],
         "type": "scatter",
         "x": [
          -0.03870879685324301,
          0.04129574492817072,
          null
         ],
         "y": [
          -0.037176102343799346,
          0.007345246826011747,
          null
         ]
        },
        {
         "hoverinfo": "text",
         "line": {
          "color": "cornflowerblue",
          "width": 6.75622477460627
         },
         "mode": "lines",
         "text": [
          "Set Reason for Rejection--Create Purchase Order"
         ],
         "type": "scatter",
         "x": [
          -0.03870879685324301,
          -0.10545432009503505,
          null
         ],
         "y": [
          -0.037176102343799346,
          -0.09850709740293291,
          null
         ]
        },
        {
         "hoverinfo": "text",
         "line": {
          "color": "cornflowerblue",
          "width": 7.235679177689107
         },
         "mode": "lines",
         "text": [
          "Set Reason for Rejection--Change Requested Delivery Date"
         ],
         "type": "scatter",
         "x": [
          -0.03870879685324301,
          -0.10705315947754912,
          null
         ],
         "y": [
          -0.037176102343799346,
          -0.15443925700666747,
          null
         ]
        },
        {
         "hoverinfo": "text",
         "line": {
          "color": "cornflowerblue",
          "width": 6.3510456806504845
         },
         "mode": "lines",
         "text": [
          "Set Reason for Rejection--Create Intercompany credit memo"
         ],
         "type": "scatter",
         "x": [
          -0.03870879685324301,
          0.008571203167793716,
          null
         ],
         "y": [
          -0.037176102343799346,
          -0.2258729994276078,
          null
         ]
        },
        {
         "hoverinfo": "text",
         "line": {
          "color": "cornflowerblue",
          "width": 5.804959250667697
         },
         "mode": "lines",
         "text": [
          "Set Reason for Rejection--Change Item Category"
         ],
         "type": "scatter",
         "x": [
          -0.03870879685324301,
          -0.19046702188185693,
          null
         ],
         "y": [
          -0.037176102343799346,
          0.06648488050147651,
          null
         ]
        },
        {
         "hoverinfo": "text",
         "line": {
          "color": "cornflowerblue",
          "width": 7.2051091781618775
         },
         "mode": "lines",
         "text": [
          "Set Reason for Rejection--Change Inco Terms (Part 1)"
         ],
         "type": "scatter",
         "x": [
          -0.03870879685324301,
          -0.06405663485270553,
          null
         ],
         "y": [
          -0.037176102343799346,
          -0.20742830658080527,
          null
         ]
        },
        {
         "hoverinfo": "text",
         "line": {
          "color": "cornflowerblue",
          "width": 7.0724572405971
         },
         "mode": "lines",
         "text": [
          "Set Reason for Rejection--Create Pro forma invoice"
         ],
         "type": "scatter",
         "x": [
          -0.03870879685324301,
          0.020153840383762067,
          null
         ],
         "y": [
          -0.037176102343799346,
          0.04841294718093922,
          null
         ]
        },
        {
         "hoverinfo": "text",
         "line": {
          "color": "cornflowerblue",
          "width": 6.934072587299511
         },
         "mode": "lines",
         "text": [
          "Set Reason for Rejection--Record Goods Issue"
         ],
         "type": "scatter",
         "x": [
          -0.03870879685324301,
          -0.00230069740355961,
          null
         ],
         "y": [
          -0.037176102343799346,
          -0.013244841929723427,
          null
         ]
        },
        {
         "hoverinfo": "text",
         "line": {
          "color": "cornflowerblue",
          "width": 6.751734796607553
         },
         "mode": "lines",
         "text": [
          "Set Reason for Rejection--Create Credit memo"
         ],
         "type": "scatter",
         "x": [
          -0.03870879685324301,
          0.13059550114804544,
          null
         ],
         "y": [
          -0.037176102343799346,
          -0.08633072544484394,
          null
         ]
        },
        {
         "hoverinfo": "text",
         "line": {
          "color": "cornflowerblue",
          "width": 6.711831631769897
         },
         "mode": "lines",
         "text": [
          "Set Reason for Rejection--Change Shipping Point"
         ],
         "type": "scatter",
         "x": [
          -0.03870879685324301,
          -0.04021834781634519,
          null
         ],
         "y": [
          -0.037176102343799346,
          0.05546257685434959,
          null
         ]
        },
        {
         "hoverinfo": "text",
         "line": {
          "color": "cornflowerblue",
          "width": 6.826274037114254
         },
         "mode": "lines",
         "text": [
          "Set Reason for Rejection--Create Credit memo cancellation"
         ],
         "type": "scatter",
         "x": [
          -0.03870879685324301,
          0.13269682438952626,
          null
         ],
         "y": [
          -0.037176102343799346,
          -0.2135544141778976,
          null
         ]
        },
        {
         "hoverinfo": "text",
         "line": {
          "color": "cornflowerblue",
          "width": 6.468112719072386
         },
         "mode": "lines",
         "text": [
          "Set Reason for Rejection--Remove Delivery Block"
         ],
         "type": "scatter",
         "x": [
          -0.03870879685324301,
          -0.15543868292748345,
          null
         ],
         "y": [
          -0.037176102343799346,
          -0.06736765946384478,
          null
         ]
        },
        {
         "hoverinfo": "text",
         "line": {
          "color": "cornflowerblue",
          "width": 6.2223116828072245
         },
         "mode": "lines",
         "text": [
          "Set Reason for Rejection--Set Initial Delivery Block"
         ],
         "type": "scatter",
         "x": [
          -0.03870879685324301,
          -0.175647569371099,
          null
         ],
         "y": [
          -0.037176102343799346,
          -0.1063361366010542,
          null
         ]
        },
        {
         "hoverinfo": "text",
         "line": {
          "color": "cornflowerblue",
          "width": 7.174194562602767
         },
         "mode": "lines",
         "text": [
          "Set Reason for Rejection--Record Return Goods Receipt"
         ],
         "type": "scatter",
         "x": [
          -0.03870879685324301,
          0.022926828201015118,
          null
         ],
         "y": [
          -0.037176102343799346,
          -0.18102982957917835,
          null
         ]
        },
        {
         "hoverinfo": "text",
         "line": {
          "color": "cornflowerblue",
          "width": 4.0663165321951515
         },
         "mode": "lines",
         "text": [
          "Set Reason for Rejection--Change Material"
         ],
         "type": "scatter",
         "x": [
          -0.03870879685324301,
          -0.09746144469076383,
          null
         ],
         "y": [
          -0.037176102343799346,
          0.07981998593333302,
          null
         ]
        },
        {
         "hoverinfo": "text",
         "line": {
          "color": "cornflowerblue",
          "width": 6.497842795946693
         },
         "mode": "lines",
         "text": [
          "Set Reason for Rejection--Create Intercompany invoice"
         ],
         "type": "scatter",
         "x": [
          -0.03870879685324301,
          0.07495999171979624,
          null
         ],
         "y": [
          -0.037176102343799346,
          -0.07204009369815284,
          null
         ]
        },
        {
         "hoverinfo": "text",
         "line": {
          "color": "cornflowerblue",
          "width": 6.430162928087726
         },
         "mode": "lines",
         "text": [
          "Set Reason for Rejection--Change Plant"
         ],
         "type": "scatter",
         "x": [
          -0.03870879685324301,
          -0.03477416256721846,
          null
         ],
         "y": [
          -0.037176102343799346,
          0.10220224726971819,
          null
         ]
        },
        {
         "hoverinfo": "text",
         "line": {
          "color": "cornflowerblue",
          "width": 7.065342902887604
         },
         "mode": "lines",
         "text": [
          "Set Reason for Rejection--Customer Acceptance (L650)"
         ],
         "type": "scatter",
         "x": [
          -0.03870879685324301,
          -0.1725870841102398,
          null
         ],
         "y": [
          -0.037176102343799346,
          -0.24369615140160536,
          null
         ]
        },
        {
         "hoverinfo": "text",
         "line": {
          "color": "cornflowerblue",
          "width": 7.179066578582972
         },
         "mode": "lines",
         "text": [
          "Set Reason for Rejection--Cancel Goods Issue"
         ],
         "type": "scatter",
         "x": [
          -0.03870879685324301,
          0.12202006477317892,
          null
         ],
         "y": [
          -0.037176102343799346,
          0.027268284269077726,
          null
         ]
        },
        {
         "hoverinfo": "text",
         "line": {
          "color": "cornflowerblue",
          "width": 6.512995167390412
         },
         "mode": "lines",
         "text": [
          "Set Reason for Rejection--Change Reason for Rejection"
         ],
         "type": "scatter",
         "x": [
          -0.03870879685324301,
          -0.1329923460541953,
          null
         ],
         "y": [
          -0.037176102343799346,
          0.16637033138116322,
          null
         ]
        },
        {
         "hoverinfo": "text",
         "line": {
          "color": "cornflowerblue",
          "width": 6.5327102525932785
         },
         "mode": "lines",
         "text": [
          "Set Reason for Rejection--Set Delivery Block"
         ],
         "type": "scatter",
         "x": [
          -0.03870879685324301,
          0.060439448504209126,
          null
         ],
         "y": [
          -0.037176102343799346,
          -0.1641885374509435,
          null
         ]
        },
        {
         "hoverinfo": "text",
         "line": {
          "color": "cornflowerblue",
          "width": 7.108946293600249
         },
         "mode": "lines",
         "text": [
          "Set Reason for Rejection--Create Shipment"
         ],
         "type": "scatter",
         "x": [
          -0.03870879685324301,
          0.13549968408565216,
          null
         ],
         "y": [
          -0.037176102343799346,
          -0.03621926643088185,
          null
         ]
        },
        {
         "hoverinfo": "text",
         "line": {
          "color": "cornflowerblue",
          "width": 5.273939287820037
         },
         "mode": "lines",
         "text": [
          "Change Shipping Point--Change Plant"
         ],
         "type": "scatter",
         "x": [
          -0.04021834781634519,
          -0.03477416256721846,
          null
         ],
         "y": [
          0.05546257685434959,
          0.10220224726971819,
          null
         ]
        },
        {
         "hoverinfo": "text",
         "line": {
          "color": "cornflowerblue",
          "width": 5.740007251479165
         },
         "mode": "lines",
         "text": [
          "Change Shipping Point--Create Purchase Order"
         ],
         "type": "scatter",
         "x": [
          -0.04021834781634519,
          -0.10545432009503505,
          null
         ],
         "y": [
          0.05546257685434959,
          -0.09850709740293291,
          null
         ]
        },
        {
         "hoverinfo": "text",
         "line": {
          "color": "cornflowerblue",
          "width": 5.962357517801675
         },
         "mode": "lines",
         "text": [
          "Change Shipping Point--Change Route"
         ],
         "type": "scatter",
         "x": [
          -0.04021834781634519,
          -0.13499318315779704,
          null
         ],
         "y": [
          0.05546257685434959,
          0.042392265010211275,
          null
         ]
        },
        {
         "hoverinfo": "text",
         "line": {
          "color": "cornflowerblue",
          "width": 6.772613065873104
         },
         "mode": "lines",
         "text": [
          "Change Shipping Point--Change Confirmed Quantity"
         ],
         "type": "scatter",
         "x": [
          -0.04021834781634519,
          -0.11035131812659899,
          null
         ],
         "y": [
          0.05546257685434959,
          -0.05866993943082722,
          null
         ]
        },
        {
         "hoverinfo": "text",
         "line": {
          "color": "cornflowerblue",
          "width": 5.024209414123374
         },
         "mode": "lines",
         "text": [
          "Change Shipping Point--Create Delivery"
         ],
         "type": "scatter",
         "x": [
          -0.04021834781634519,
          -0.012615544154824417,
          null
         ],
         "y": [
          0.05546257685434959,
          0.014383872923265805,
          null
         ]
        },
        {
         "hoverinfo": "text",
         "line": {
          "color": "cornflowerblue",
          "width": 6.305773336174283
         },
         "mode": "lines",
         "text": [
          "Change Shipping Point--Change Material Availability Date"
         ],
         "type": "scatter",
         "x": [
          -0.04021834781634519,
          -0.057483588782378345,
          null
         ],
         "y": [
          0.05546257685434959,
          -0.07205714767902631,
          null
         ]
        },
        {
         "hoverinfo": "text",
         "line": {
          "color": "cornflowerblue",
          "width": 5.040571587107241
         },
         "mode": "lines",
         "text": [
          "Change Shipping Point--Record Goods Issue"
         ],
         "type": "scatter",
         "x": [
          -0.04021834781634519,
          -0.00230069740355961,
          null
         ],
         "y": [
          0.05546257685434959,
          -0.013244841929723427,
          null
         ]
        },
        {
         "hoverinfo": "text",
         "line": {
          "color": "cornflowerblue",
          "width": 5.371993697939239
         },
         "mode": "lines",
         "text": [
          "Change Shipping Point--Change Payment Terms"
         ],
         "type": "scatter",
         "x": [
          -0.04021834781634519,
          -0.04811715829223775,
          null
         ],
         "y": [
          0.05546257685434959,
          -0.16151611140258565,
          null
         ]
        },
        {
         "hoverinfo": "text",
         "line": {
          "color": "cornflowerblue",
          "width": 0
         },
         "mode": "lines",
         "text": [
          "Change Shipping Point--Change Price"
         ],
         "type": "scatter",
         "x": [
          -0.04021834781634519,
          0.01347428135292946,
          null
         ],
         "y": [
          0.05546257685434959,
          -0.12155578350748211,
          null
         ]
        },
        {
         "hoverinfo": "text",
         "line": {
          "color": "cornflowerblue",
          "width": 6.580639137284949
         },
         "mode": "lines",
         "text": [
          "Change Shipping Point--Create Picking"
         ],
         "type": "scatter",
         "x": [
          -0.04021834781634519,
          0.034876309299064864,
          null
         ],
         "y": [
          0.05546257685434959,
          -0.042224385974545725,
          null
         ]
        },
        {
         "hoverinfo": "text",
         "line": {
          "color": "cornflowerblue",
          "width": 6.63165037617968
         },
         "mode": "lines",
         "text": [
          "Change Shipping Point--Change Requested Quantity"
         ],
         "type": "scatter",
         "x": [
          -0.04021834781634519,
          -0.03191216289795912,
          null
         ],
         "y": [
          0.05546257685434959,
          -0.11649828164252744,
          null
         ]
        },
        {
         "hoverinfo": "text",
         "line": {
          "color": "cornflowerblue",
          "width": 5.9963484348226075
         },
         "mode": "lines",
         "text": [
          "Change Shipping Point--Change Requested Goods Issue Date"
         ],
         "type": "scatter",
         "x": [
          -0.04021834781634519,
          -0.06728640707088565,
          null
         ],
         "y": [
          0.05546257685434959,
          -0.11583308886210894,
          null
         ]
        },
        {
         "hoverinfo": "text",
         "line": {
          "color": "cornflowerblue",
          "width": 2.3009170358933484
         },
         "mode": "lines",
         "text": [
          "Change Shipping Point--Change Delivery Grouping"
         ],
         "type": "scatter",
         "x": [
          -0.04021834781634519,
          -0.1589274296008866,
          null
         ],
         "y": [
          0.05546257685434959,
          0.0016237800191684357,
          null
         ]
        },
        {
         "hoverinfo": "text",
         "line": {
          "color": "cornflowerblue",
          "width": 5.92992153495021
         },
         "mode": "lines",
         "text": [
          "Change Shipping Point--Change Requested Delivery Date"
         ],
         "type": "scatter",
         "x": [
          -0.04021834781634519,
          -0.10705315947754912,
          null
         ],
         "y": [
          0.05546257685434959,
          -0.15443925700666747,
          null
         ]
        },
        {
         "hoverinfo": "text",
         "line": {
          "color": "cornflowerblue",
          "width": 6.726103497838387
         },
         "mode": "lines",
         "text": [
          "Change Shipping Point--Change Item Category"
         ],
         "type": "scatter",
         "x": [
          -0.04021834781634519,
          -0.19046702188185693,
          null
         ],
         "y": [
          0.05546257685434959,
          0.06648488050147651,
          null
         ]
        },
        {
         "hoverinfo": "text",
         "line": {
          "color": "cornflowerblue",
          "width": 1.7903696149390007
         },
         "mode": "lines",
         "text": [
          "Change Shipping Point--Remove Delivery Block"
         ],
         "type": "scatter",
         "x": [
          -0.04021834781634519,
          -0.15543868292748345,
          null
         ],
         "y": [
          0.05546257685434959,
          -0.06736765946384478,
          null
         ]
        },
        {
         "hoverinfo": "text",
         "line": {
          "color": "cornflowerblue",
          "width": 6.491115465780479
         },
         "mode": "lines",
         "text": [
          "Change Shipping Point--Create Returns delivery for order"
         ],
         "type": "scatter",
         "x": [
          -0.04021834781634519,
          0.08383999610658,
          null
         ],
         "y": [
          0.05546257685434959,
          -0.028146529453390672,
          null
         ]
        },
        {
         "hoverinfo": "text",
         "line": {
          "color": "cornflowerblue",
          "width": 6.7082265238504615
         },
         "mode": "lines",
         "text": [
          "Change Shipping Point--Set Initial Delivery Block"
         ],
         "type": "scatter",
         "x": [
          -0.04021834781634519,
          -0.175647569371099,
          null
         ],
         "y": [
          0.05546257685434959,
          -0.1063361366010542,
          null
         ]
        },
        {
         "hoverinfo": "text",
         "line": {
          "color": "cornflowerblue",
          "width": 4.729524178138451
         },
         "mode": "lines",
         "text": [
          "Change Shipping Point--Create Pro forma invoice"
         ],
         "type": "scatter",
         "x": [
          -0.04021834781634519,
          0.020153840383762067,
          null
         ],
         "y": [
          0.05546257685434959,
          0.04841294718093922,
          null
         ]
        },
        {
         "hoverinfo": "text",
         "line": {
          "color": "cornflowerblue",
          "width": 6.335408798567896
         },
         "mode": "lines",
         "text": [
          "Change Shipping Point--Cancel Reason for Rejection"
         ],
         "type": "scatter",
         "x": [
          -0.04021834781634519,
          -0.1713416255106839,
          null
         ],
         "y": [
          0.05546257685434959,
          -0.03347457892650524,
          null
         ]
        },
        {
         "hoverinfo": "text",
         "line": {
          "color": "cornflowerblue",
          "width": 5.528932932700948
         },
         "mode": "lines",
         "text": [
          "Change Shipping Point--Change Confirmed Goods Issue Date"
         ],
         "type": "scatter",
         "x": [
          -0.04021834781634519,
          -0.06032875122517457,
          null
         ],
         "y": [
          0.05546257685434959,
          0.02292633874076355,
          null
         ]
        },
        {
         "hoverinfo": "text",
         "line": {
          "color": "cornflowerblue",
          "width": 0
         },
         "mode": "lines",
         "text": [
          "Change Shipping Point--Change Confirmed Delivery Date"
         ],
         "type": "scatter",
         "x": [
          -0.04021834781634519,
          0.04129574492817072,
          null
         ],
         "y": [
          0.05546257685434959,
          0.007345246826011747,
          null
         ]
        },
        {
         "hoverinfo": "text",
         "line": {
          "color": "cornflowerblue",
          "width": 6.389317422214005
         },
         "mode": "lines",
         "text": [
          "Change Shipping Point--Change Material"
         ],
         "type": "scatter",
         "x": [
          -0.04021834781634519,
          -0.09746144469076383,
          null
         ],
         "y": [
          0.05546257685434959,
          0.07981998593333302,
          null
         ]
        },
        {
         "hoverinfo": "text",
         "line": {
          "color": "cornflowerblue",
          "width": 6.827547974429944
         },
         "mode": "lines",
         "text": [
          "Change Shipping Point--Create Invoice"
         ],
         "type": "scatter",
         "x": [
          -0.04021834781634519,
          0.042953018299347084,
          null
         ],
         "y": [
          0.05546257685434959,
          -0.1030570125999229,
          null
         ]
        },
        {
         "hoverinfo": "text",
         "line": {
          "color": "cornflowerblue",
          "width": 4.957468901525845
         },
         "mode": "lines",
         "text": [
          "Change Shipping Point--Cancel Goods Issue"
         ],
         "type": "scatter",
         "x": [
          -0.04021834781634519,
          0.12202006477317892,
          null
         ],
         "y": [
          0.05546257685434959,
          0.027268284269077726,
          null
         ]
        },
        {
         "hoverinfo": "text",
         "line": {
          "color": "cornflowerblue",
          "width": 6.20507951195569
         },
         "mode": "lines",
         "text": [
          "Change Shipping Point--Change Reason for Rejection"
         ],
         "type": "scatter",
         "x": [
          -0.04021834781634519,
          -0.1329923460541953,
          null
         ],
         "y": [
          0.05546257685434959,
          0.16637033138116322,
          null
         ]
        },
        {
         "hoverinfo": "text",
         "line": {
          "color": "cornflowerblue",
          "width": 7.083604546739424
         },
         "mode": "lines",
         "text": [
          "Change Shipping Point--Create Credit memo"
         ],
         "type": "scatter",
         "x": [
          -0.04021834781634519,
          0.13059550114804544,
          null
         ],
         "y": [
          0.05546257685434959,
          -0.08633072544484394,
          null
         ]
        },
        {
         "hoverinfo": "text",
         "line": {
          "color": "cornflowerblue",
          "width": 4.664067827235577
         },
         "mode": "lines",
         "text": [
          "Change Shipping Point--Create Intercompany invoice"
         ],
         "type": "scatter",
         "x": [
          -0.04021834781634519,
          0.07495999171979624,
          null
         ],
         "y": [
          0.05546257685434959,
          -0.07204009369815284,
          null
         ]
        },
        {
         "hoverinfo": "text",
         "line": {
          "color": "cornflowerblue",
          "width": 6.628338950947389
         },
         "mode": "lines",
         "text": [
          "Change Shipping Point--Record Return Goods Receipt"
         ],
         "type": "scatter",
         "x": [
          -0.04021834781634519,
          0.022926828201015118,
          null
         ],
         "y": [
          0.05546257685434959,
          -0.18102982957917835,
          null
         ]
        },
        {
         "hoverinfo": "text",
         "line": {
          "color": "cornflowerblue",
          "width": 6.790781290958439
         },
         "mode": "lines",
         "text": [
          "Change Shipping Point--Change Inco Terms (Part 1)"
         ],
         "type": "scatter",
         "x": [
          -0.04021834781634519,
          -0.06405663485270553,
          null
         ],
         "y": [
          0.05546257685434959,
          -0.20742830658080527,
          null
         ]
        },
        {
         "hoverinfo": "text",
         "line": {
          "color": "cornflowerblue",
          "width": 5.831955788379184
         },
         "mode": "lines",
         "text": [
          "Change Shipping Point--Change Inco Terms (Part 2)"
         ],
         "type": "scatter",
         "x": [
          -0.04021834781634519,
          -0.13239457224717427,
          null
         ],
         "y": [
          0.05546257685434959,
          -0.12176702996987479,
          null
         ]
        },
        {
         "hoverinfo": "text",
         "line": {
          "color": "cornflowerblue",
          "width": 7.149092320488311
         },
         "mode": "lines",
         "text": [
          "Change Shipping Point--Set Delivery Block"
         ],
         "type": "scatter",
         "x": [
          -0.04021834781634519,
          0.060439448504209126,
          null
         ],
         "y": [
          0.05546257685434959,
          -0.1641885374509435,
          null
         ]
        },
        {
         "hoverinfo": "text",
         "line": {
          "color": "cornflowerblue",
          "width": 0
         },
         "mode": "lines",
         "text": [
          "Change Plant--Change Route"
         ],
         "type": "scatter",
         "x": [
          -0.03477416256721846,
          -0.13499318315779704,
          null
         ],
         "y": [
          0.10220224726971819,
          0.042392265010211275,
          null
         ]
        },
        {
         "hoverinfo": "text",
         "line": {
          "color": "cornflowerblue",
          "width": 4.766792880654051
         },
         "mode": "lines",
         "text": [
          "Change Plant--Change Confirmed Quantity"
         ],
         "type": "scatter",
         "x": [
          -0.03477416256721846,
          -0.11035131812659899,
          null
         ],
         "y": [
          0.10220224726971819,
          -0.05866993943082722,
          null
         ]
        },
        {
         "hoverinfo": "text",
         "line": {
          "color": "cornflowerblue",
          "width": 3.7190448684456627
         },
         "mode": "lines",
         "text": [
          "Change Plant--Change Delivery Grouping"
         ],
         "type": "scatter",
         "x": [
          -0.03477416256721846,
          -0.1589274296008866,
          null
         ],
         "y": [
          0.10220224726971819,
          0.0016237800191684357,
          null
         ]
        },
        {
         "hoverinfo": "text",
         "line": {
          "color": "cornflowerblue",
          "width": 5.330381119394392
         },
         "mode": "lines",
         "text": [
          "Change Plant--Create Delivery"
         ],
         "type": "scatter",
         "x": [
          -0.03477416256721846,
          -0.012615544154824417,
          null
         ],
         "y": [
          0.10220224726971819,
          0.014383872923265805,
          null
         ]
        },
        {
         "hoverinfo": "text",
         "line": {
          "color": "cornflowerblue",
          "width": 0
         },
         "mode": "lines",
         "text": [
          "Change Plant--Change Material Availability Date"
         ],
         "type": "scatter",
         "x": [
          -0.03477416256721846,
          -0.057483588782378345,
          null
         ],
         "y": [
          0.10220224726971819,
          -0.07205714767902631,
          null
         ]
        },
        {
         "hoverinfo": "text",
         "line": {
          "color": "cornflowerblue",
          "width": 4.694020149518928
         },
         "mode": "lines",
         "text": [
          "Change Plant--Change Confirmed Goods Issue Date"
         ],
         "type": "scatter",
         "x": [
          -0.03477416256721846,
          -0.06032875122517457,
          null
         ],
         "y": [
          0.10220224726971819,
          0.02292633874076355,
          null
         ]
        },
        {
         "hoverinfo": "text",
         "line": {
          "color": "cornflowerblue",
          "width": 5.070004225903089
         },
         "mode": "lines",
         "text": [
          "Change Plant--Create Purchase Order"
         ],
         "type": "scatter",
         "x": [
          -0.03477416256721846,
          -0.10545432009503505,
          null
         ],
         "y": [
          0.10220224726971819,
          -0.09850709740293291,
          null
         ]
        },
        {
         "hoverinfo": "text",
         "line": {
          "color": "cornflowerblue",
          "width": 7.041448116906999
         },
         "mode": "lines",
         "text": [
          "Change Plant--Create Picking"
         ],
         "type": "scatter",
         "x": [
          -0.03477416256721846,
          0.034876309299064864,
          null
         ],
         "y": [
          0.10220224726971819,
          -0.042224385974545725,
          null
         ]
        },
        {
         "hoverinfo": "text",
         "line": {
          "color": "cornflowerblue",
          "width": 5.689796232681461
         },
         "mode": "lines",
         "text": [
          "Change Plant--Change Confirmed Delivery Date"
         ],
         "type": "scatter",
         "x": [
          -0.03477416256721846,
          0.04129574492817072,
          null
         ],
         "y": [
          0.10220224726971819,
          0.007345246826011747,
          null
         ]
        },
        {
         "hoverinfo": "text",
         "line": {
          "color": "cornflowerblue",
          "width": 5.309504555938601
         },
         "mode": "lines",
         "text": [
          "Change Plant--Change Item Category"
         ],
         "type": "scatter",
         "x": [
          -0.03477416256721846,
          -0.19046702188185693,
          null
         ],
         "y": [
          0.10220224726971819,
          0.06648488050147651,
          null
         ]
        },
        {
         "hoverinfo": "text",
         "line": {
          "color": "cornflowerblue",
          "width": 5.011856770012937
         },
         "mode": "lines",
         "text": [
          "Change Plant--Change Requested Quantity"
         ],
         "type": "scatter",
         "x": [
          -0.03477416256721846,
          -0.03191216289795912,
          null
         ],
         "y": [
          0.10220224726971819,
          -0.11649828164252744,
          null
         ]
        },
        {
         "hoverinfo": "text",
         "line": {
          "color": "cornflowerblue",
          "width": 6.574052537100863
         },
         "mode": "lines",
         "text": [
          "Change Plant--Change Requested Goods Issue Date"
         ],
         "type": "scatter",
         "x": [
          -0.03477416256721846,
          -0.06728640707088565,
          null
         ],
         "y": [
          0.10220224726971819,
          -0.11583308886210894,
          null
         ]
        },
        {
         "hoverinfo": "text",
         "line": {
          "color": "cornflowerblue",
          "width": 4.453280836314339
         },
         "mode": "lines",
         "text": [
          "Change Plant--Record Goods Issue"
         ],
         "type": "scatter",
         "x": [
          -0.03477416256721846,
          -0.00230069740355961,
          null
         ],
         "y": [
          0.10220224726971819,
          -0.013244841929723427,
          null
         ]
        },
        {
         "hoverinfo": "text",
         "line": {
          "color": "cornflowerblue",
          "width": 4.444316535809378
         },
         "mode": "lines",
         "text": [
          "Change Plant--Change Material"
         ],
         "type": "scatter",
         "x": [
          -0.03477416256721846,
          -0.09746144469076383,
          null
         ],
         "y": [
          0.10220224726971819,
          0.07981998593333302,
          null
         ]
        },
        {
         "hoverinfo": "text",
         "line": {
          "color": "cornflowerblue",
          "width": 0
         },
         "mode": "lines",
         "text": [
          "Change Plant--Change Price"
         ],
         "type": "scatter",
         "x": [
          -0.03477416256721846,
          0.01347428135292946,
          null
         ],
         "y": [
          0.10220224726971819,
          -0.12155578350748211,
          null
         ]
        },
        {
         "hoverinfo": "text",
         "line": {
          "color": "cornflowerblue",
          "width": 6.511832002461091
         },
         "mode": "lines",
         "text": [
          "Change Plant--Cancel Reason for Rejection"
         ],
         "type": "scatter",
         "x": [
          -0.03477416256721846,
          -0.1713416255106839,
          null
         ],
         "y": [
          0.10220224726971819,
          -0.03347457892650524,
          null
         ]
        },
        {
         "hoverinfo": "text",
         "line": {
          "color": "cornflowerblue",
          "width": 6.504562586979637
         },
         "mode": "lines",
         "text": [
          "Change Plant--Create Returns delivery for order"
         ],
         "type": "scatter",
         "x": [
          -0.03477416256721846,
          0.08383999610658,
          null
         ],
         "y": [
          0.10220224726971819,
          -0.028146529453390672,
          null
         ]
        },
        {
         "hoverinfo": "text",
         "line": {
          "color": "cornflowerblue",
          "width": 6.276674817171725
         },
         "mode": "lines",
         "text": [
          "Change Plant--Change Inco Terms (Part 2)"
         ],
         "type": "scatter",
         "x": [
          -0.03477416256721846,
          -0.13239457224717427,
          null
         ],
         "y": [
          0.10220224726971819,
          -0.12176702996987479,
          null
         ]
        },
        {
         "hoverinfo": "text",
         "line": {
          "color": "cornflowerblue",
          "width": 3.3211315255725484
         },
         "mode": "lines",
         "text": [
          "Change Plant--Change Requested Delivery Date"
         ],
         "type": "scatter",
         "x": [
          -0.03477416256721846,
          -0.10705315947754912,
          null
         ],
         "y": [
          0.10220224726971819,
          -0.15443925700666747,
          null
         ]
        },
        {
         "hoverinfo": "text",
         "line": {
          "color": "cornflowerblue",
          "width": 7.229802545610801
         },
         "mode": "lines",
         "text": [
          "Change Plant--Create Invoice"
         ],
         "type": "scatter",
         "x": [
          -0.03477416256721846,
          0.042953018299347084,
          null
         ],
         "y": [
          0.10220224726971819,
          -0.1030570125999229,
          null
         ]
        },
        {
         "hoverinfo": "text",
         "line": {
          "color": "cornflowerblue",
          "width": 6.288446986757062
         },
         "mode": "lines",
         "text": [
          "Change Plant--Change Inco Terms (Part 1)"
         ],
         "type": "scatter",
         "x": [
          -0.03477416256721846,
          -0.06405663485270553,
          null
         ],
         "y": [
          0.10220224726971819,
          -0.20742830658080527,
          null
         ]
        },
        {
         "hoverinfo": "text",
         "line": {
          "color": "cornflowerblue",
          "width": 2.187922184673906
         },
         "mode": "lines",
         "text": [
          "Change Plant--Create Credit memo"
         ],
         "type": "scatter",
         "x": [
          -0.03477416256721846,
          0.13059550114804544,
          null
         ],
         "y": [
          0.10220224726971819,
          -0.08633072544484394,
          null
         ]
        },
        {
         "hoverinfo": "text",
         "line": {
          "color": "cornflowerblue",
          "width": 6.329631774990974
         },
         "mode": "lines",
         "text": [
          "Change Plant--Cancel Goods Issue"
         ],
         "type": "scatter",
         "x": [
          -0.03477416256721846,
          0.12202006477317892,
          null
         ],
         "y": [
          0.10220224726971819,
          0.027268284269077726,
          null
         ]
        },
        {
         "hoverinfo": "text",
         "line": {
          "color": "cornflowerblue",
          "width": 0
         },
         "mode": "lines",
         "text": [
          "Change Route--Change Material Availability Date"
         ],
         "type": "scatter",
         "x": [
          -0.13499318315779704,
          -0.057483588782378345,
          null
         ],
         "y": [
          0.042392265010211275,
          -0.07205714767902631,
          null
         ]
        },
        {
         "hoverinfo": "text",
         "line": {
          "color": "cornflowerblue",
          "width": 6.037592440418418
         },
         "mode": "lines",
         "text": [
          "Change Route--Change Confirmed Quantity"
         ],
         "type": "scatter",
         "x": [
          -0.13499318315779704,
          -0.11035131812659899,
          null
         ],
         "y": [
          0.042392265010211275,
          -0.05866993943082722,
          null
         ]
        },
        {
         "hoverinfo": "text",
         "line": {
          "color": "cornflowerblue",
          "width": 6.257507932737413
         },
         "mode": "lines",
         "text": [
          "Change Route--Change Requested Quantity"
         ],
         "type": "scatter",
         "x": [
          -0.13499318315779704,
          -0.03191216289795912,
          null
         ],
         "y": [
          0.042392265010211275,
          -0.11649828164252744,
          null
         ]
        },
        {
         "hoverinfo": "text",
         "line": {
          "color": "cornflowerblue",
          "width": 4.89235213339819
         },
         "mode": "lines",
         "text": [
          "Change Route--Change Requested Goods Issue Date"
         ],
         "type": "scatter",
         "x": [
          -0.13499318315779704,
          -0.06728640707088565,
          null
         ],
         "y": [
          0.042392265010211275,
          -0.11583308886210894,
          null
         ]
        },
        {
         "hoverinfo": "text",
         "line": {
          "color": "cornflowerblue",
          "width": 6.57541283634388
         },
         "mode": "lines",
         "text": [
          "Change Route--Change Inco Terms (Part 2)"
         ],
         "type": "scatter",
         "x": [
          -0.13499318315779704,
          -0.13239457224717427,
          null
         ],
         "y": [
          0.042392265010211275,
          -0.12176702996987479,
          null
         ]
        },
        {
         "hoverinfo": "text",
         "line": {
          "color": "cornflowerblue",
          "width": 6.531399843145536
         },
         "mode": "lines",
         "text": [
          "Change Route--Create Invoice"
         ],
         "type": "scatter",
         "x": [
          -0.13499318315779704,
          0.042953018299347084,
          null
         ],
         "y": [
          0.042392265010211275,
          -0.1030570125999229,
          null
         ]
        },
        {
         "hoverinfo": "text",
         "line": {
          "color": "cornflowerblue",
          "width": 5.761710653879138
         },
         "mode": "lines",
         "text": [
          "Change Route--Create Purchase Order"
         ],
         "type": "scatter",
         "x": [
          -0.13499318315779704,
          -0.10545432009503505,
          null
         ],
         "y": [
          0.042392265010211275,
          -0.09850709740293291,
          null
         ]
        },
        {
         "hoverinfo": "text",
         "line": {
          "color": "cornflowerblue",
          "width": 6.4355358633605775
         },
         "mode": "lines",
         "text": [
          "Change Route--Create Delivery"
         ],
         "type": "scatter",
         "x": [
          -0.13499318315779704,
          -0.012615544154824417,
          null
         ],
         "y": [
          0.042392265010211275,
          0.014383872923265805,
          null
         ]
        },
        {
         "hoverinfo": "text",
         "line": {
          "color": "cornflowerblue",
          "width": 6.3578422665081
         },
         "mode": "lines",
         "text": [
          "Change Route--Cancel Goods Issue"
         ],
         "type": "scatter",
         "x": [
          -0.13499318315779704,
          0.12202006477317892,
          null
         ],
         "y": [
          0.042392265010211275,
          0.027268284269077726,
          null
         ]
        },
        {
         "hoverinfo": "text",
         "line": {
          "color": "cornflowerblue",
          "width": 6.544559118053139
         },
         "mode": "lines",
         "text": [
          "Change Route--Remove Delivery Block"
         ],
         "type": "scatter",
         "x": [
          -0.13499318315779704,
          -0.15543868292748345,
          null
         ],
         "y": [
          0.042392265010211275,
          -0.06736765946384478,
          null
         ]
        },
        {
         "hoverinfo": "text",
         "line": {
          "color": "cornflowerblue",
          "width": 4.73765936903417
         },
         "mode": "lines",
         "text": [
          "Change Route--Change Delivery Grouping"
         ],
         "type": "scatter",
         "x": [
          -0.13499318315779704,
          -0.1589274296008866,
          null
         ],
         "y": [
          0.042392265010211275,
          0.0016237800191684357,
          null
         ]
        },
        {
         "hoverinfo": "text",
         "line": {
          "color": "cornflowerblue",
          "width": 5.301811255802293
         },
         "mode": "lines",
         "text": [
          "Change Route--Cancel Reason for Rejection"
         ],
         "type": "scatter",
         "x": [
          -0.13499318315779704,
          -0.1713416255106839,
          null
         ],
         "y": [
          0.042392265010211275,
          -0.03347457892650524,
          null
         ]
        },
        {
         "hoverinfo": "text",
         "line": {
          "color": "cornflowerblue",
          "width": 6.42355806232342
         },
         "mode": "lines",
         "text": [
          "Change Route--Change Confirmed Goods Issue Date"
         ],
         "type": "scatter",
         "x": [
          -0.13499318315779704,
          -0.06032875122517457,
          null
         ],
         "y": [
          0.042392265010211275,
          0.02292633874076355,
          null
         ]
        },
        {
         "hoverinfo": "text",
         "line": {
          "color": "cornflowerblue",
          "width": 4.373133036948204
         },
         "mode": "lines",
         "text": [
          "Change Route--Change Item Category"
         ],
         "type": "scatter",
         "x": [
          -0.13499318315779704,
          -0.19046702188185693,
          null
         ],
         "y": [
          0.042392265010211275,
          0.06648488050147651,
          null
         ]
        },
        {
         "hoverinfo": "text",
         "line": {
          "color": "cornflowerblue",
          "width": 5.361096528420334
         },
         "mode": "lines",
         "text": [
          "Change Route--Change Material"
         ],
         "type": "scatter",
         "x": [
          -0.13499318315779704,
          -0.09746144469076383,
          null
         ],
         "y": [
          0.042392265010211275,
          0.07981998593333302,
          null
         ]
        },
        {
         "hoverinfo": "text",
         "line": {
          "color": "cornflowerblue",
          "width": 3.6016407785666735
         },
         "mode": "lines",
         "text": [
          "Change Route--Set Initial Delivery Block"
         ],
         "type": "scatter",
         "x": [
          -0.13499318315779704,
          -0.175647569371099,
          null
         ],
         "y": [
          0.042392265010211275,
          -0.1063361366010542,
          null
         ]
        },
        {
         "hoverinfo": "text",
         "line": {
          "color": "cornflowerblue",
          "width": 7.19148580434529
         },
         "mode": "lines",
         "text": [
          "Change Route--Record Goods Issue"
         ],
         "type": "scatter",
         "x": [
          -0.13499318315779704,
          -0.00230069740355961,
          null
         ],
         "y": [
          0.042392265010211275,
          -0.013244841929723427,
          null
         ]
        },
        {
         "hoverinfo": "text",
         "line": {
          "color": "cornflowerblue",
          "width": 5.423921588682905
         },
         "mode": "lines",
         "text": [
          "Change Route--Change Confirmed Delivery Date"
         ],
         "type": "scatter",
         "x": [
          -0.13499318315779704,
          0.04129574492817072,
          null
         ],
         "y": [
          0.042392265010211275,
          0.007345246826011747,
          null
         ]
        },
        {
         "hoverinfo": "text",
         "line": {
          "color": "cornflowerblue",
          "width": 5.271288694160117
         },
         "mode": "lines",
         "text": [
          "Change Route--Change WBS element"
         ],
         "type": "scatter",
         "x": [
          -0.13499318315779704,
          -0.2947669953276553,
          null
         ],
         "y": [
          0.042392265010211275,
          -0.1309282510652095,
          null
         ]
        },
        {
         "hoverinfo": "text",
         "line": {
          "color": "cornflowerblue",
          "width": 6.332346688646447
         },
         "mode": "lines",
         "text": [
          "Change Route--Create Picking"
         ],
         "type": "scatter",
         "x": [
          -0.13499318315779704,
          0.034876309299064864,
          null
         ],
         "y": [
          0.042392265010211275,
          -0.042224385974545725,
          null
         ]
        },
        {
         "hoverinfo": "text",
         "line": {
          "color": "cornflowerblue",
          "width": 6.436844571798903
         },
         "mode": "lines",
         "text": [
          "Change Route--Record Return Goods Receipt"
         ],
         "type": "scatter",
         "x": [
          -0.13499318315779704,
          0.022926828201015118,
          null
         ],
         "y": [
          0.042392265010211275,
          -0.18102982957917835,
          null
         ]
        },
        {
         "hoverinfo": "text",
         "line": {
          "color": "cornflowerblue",
          "width": 5.212668697014343
         },
         "mode": "lines",
         "text": [
          "Change Route--Change Requested Delivery Date"
         ],
         "type": "scatter",
         "x": [
          -0.13499318315779704,
          -0.10705315947754912,
          null
         ],
         "y": [
          0.042392265010211275,
          -0.15443925700666747,
          null
         ]
        },
        {
         "hoverinfo": "text",
         "line": {
          "color": "cornflowerblue",
          "width": 5.5450797834608805
         },
         "mode": "lines",
         "text": [
          "Change Route--Create Pro forma invoice"
         ],
         "type": "scatter",
         "x": [
          -0.13499318315779704,
          0.020153840383762067,
          null
         ],
         "y": [
          0.042392265010211275,
          0.04841294718093922,
          null
         ]
        },
        {
         "hoverinfo": "text",
         "line": {
          "color": "cornflowerblue",
          "width": 3.9598603348423063
         },
         "mode": "lines",
         "text": [
          "Change Route--Change Inco Terms (Part 1)"
         ],
         "type": "scatter",
         "x": [
          -0.13499318315779704,
          -0.06405663485270553,
          null
         ],
         "y": [
          0.042392265010211275,
          -0.20742830658080527,
          null
         ]
        },
        {
         "hoverinfo": "text",
         "line": {
          "color": "cornflowerblue",
          "width": 5.088264836015771
         },
         "mode": "lines",
         "text": [
          "Change Route--Clear Invoice"
         ],
         "type": "scatter",
         "x": [
          -0.13499318315779704,
          0.08028618362315233,
          null
         ],
         "y": [
          0.042392265010211275,
          0.08527563812700825,
          null
         ]
        },
        {
         "hoverinfo": "text",
         "line": {
          "color": "cornflowerblue",
          "width": 7.041178332404847
         },
         "mode": "lines",
         "text": [
          "Change Route--Change Payment Terms"
         ],
         "type": "scatter",
         "x": [
          -0.13499318315779704,
          -0.04811715829223775,
          null
         ],
         "y": [
          0.042392265010211275,
          -0.16151611140258565,
          null
         ]
        },
        {
         "hoverinfo": "text",
         "line": {
          "color": "cornflowerblue",
          "width": 6.512846753562918
         },
         "mode": "lines",
         "text": [
          "Change Route--Change Price"
         ],
         "type": "scatter",
         "x": [
          -0.13499318315779704,
          0.01347428135292946,
          null
         ],
         "y": [
          0.042392265010211275,
          -0.12155578350748211,
          null
         ]
        },
        {
         "hoverinfo": "text",
         "line": {
          "color": "cornflowerblue",
          "width": 6.915872247084085
         },
         "mode": "lines",
         "text": [
          "Create Picking--Create Invoice"
         ],
         "type": "scatter",
         "x": [
          0.034876309299064864,
          0.042953018299347084,
          null
         ],
         "y": [
          -0.042224385974545725,
          -0.1030570125999229,
          null
         ]
        },
        {
         "hoverinfo": "text",
         "line": {
          "color": "cornflowerblue",
          "width": 6.580639137284949
         },
         "mode": "lines",
         "text": [
          "Create Picking--Change Price"
         ],
         "type": "scatter",
         "x": [
          0.034876309299064864,
          0.01347428135292946,
          null
         ],
         "y": [
          -0.042224385974545725,
          -0.12155578350748211,
          null
         ]
        },
        {
         "hoverinfo": "text",
         "line": {
          "color": "cornflowerblue",
          "width": 6.516759976468533
         },
         "mode": "lines",
         "text": [
          "Create Picking--Create Delivery"
         ],
         "type": "scatter",
         "x": [
          0.034876309299064864,
          -0.012615544154824417,
          null
         ],
         "y": [
          -0.042224385974545725,
          0.014383872923265805,
          null
         ]
        },
        {
         "hoverinfo": "text",
         "line": {
          "color": "cornflowerblue",
          "width": 2.1756982430881915
         },
         "mode": "lines",
         "text": [
          "Create Picking--Change Requested Quantity"
         ],
         "type": "scatter",
         "x": [
          0.034876309299064864,
          -0.03191216289795912,
          null
         ],
         "y": [
          -0.042224385974545725,
          -0.11649828164252744,
          null
         ]
        },
        {
         "hoverinfo": "text",
         "line": {
          "color": "cornflowerblue",
          "width": 6.5775367802485105
         },
         "mode": "lines",
         "text": [
          "Create Picking--Change Inco Terms (Part 1)"
         ],
         "type": "scatter",
         "x": [
          0.034876309299064864,
          -0.06405663485270553,
          null
         ],
         "y": [
          -0.042224385974545725,
          -0.20742830658080527,
          null
         ]
        },
        {
         "hoverinfo": "text",
         "line": {
          "color": "cornflowerblue",
          "width": 6.6011508583414775
         },
         "mode": "lines",
         "text": [
          "Create Picking--Create Intercompany invoice"
         ],
         "type": "scatter",
         "x": [
          0.034876309299064864,
          0.07495999171979624,
          null
         ],
         "y": [
          -0.042224385974545725,
          -0.07204009369815284,
          null
         ]
        },
        {
         "hoverinfo": "text",
         "line": {
          "color": "cornflowerblue",
          "width": 6.571664636211396
         },
         "mode": "lines",
         "text": [
          "Create Picking--Change Payment Terms"
         ],
         "type": "scatter",
         "x": [
          0.034876309299064864,
          -0.04811715829223775,
          null
         ],
         "y": [
          -0.042224385974545725,
          -0.16151611140258565,
          null
         ]
        },
        {
         "hoverinfo": "text",
         "line": {
          "color": "cornflowerblue",
          "width": 6.496422992595925
         },
         "mode": "lines",
         "text": [
          "Create Picking--Create Returns delivery for order"
         ],
         "type": "scatter",
         "x": [
          0.034876309299064864,
          0.08383999610658,
          null
         ],
         "y": [
          -0.042224385974545725,
          -0.028146529453390672,
          null
         ]
        },
        {
         "hoverinfo": "text",
         "line": {
          "color": "cornflowerblue",
          "width": 7.097162782165578
         },
         "mode": "lines",
         "text": [
          "Create Picking--Change Requested Goods Issue Date"
         ],
         "type": "scatter",
         "x": [
          0.034876309299064864,
          -0.06728640707088565,
          null
         ],
         "y": [
          -0.042224385974545725,
          -0.11583308886210894,
          null
         ]
        },
        {
         "hoverinfo": "text",
         "line": {
          "color": "cornflowerblue",
          "width": 6.318352308561721
         },
         "mode": "lines",
         "text": [
          "Create Picking--Create Pro forma invoice"
         ],
         "type": "scatter",
         "x": [
          0.034876309299064864,
          0.020153840383762067,
          null
         ],
         "y": [
          -0.042224385974545725,
          0.04841294718093922,
          null
         ]
        },
        {
         "hoverinfo": "text",
         "line": {
          "color": "cornflowerblue",
          "width": 6.939229720941881
         },
         "mode": "lines",
         "text": [
          "Create Picking--Create Credit memo cancellation"
         ],
         "type": "scatter",
         "x": [
          0.034876309299064864,
          0.13269682438952626,
          null
         ],
         "y": [
          -0.042224385974545725,
          -0.2135544141778976,
          null
         ]
        },
        {
         "hoverinfo": "text",
         "line": {
          "color": "cornflowerblue",
          "width": 6.1095068084217505
         },
         "mode": "lines",
         "text": [
          "Create Picking--Change Inco Terms (Part 2)"
         ],
         "type": "scatter",
         "x": [
          0.034876309299064864,
          -0.13239457224717427,
          null
         ],
         "y": [
          -0.042224385974545725,
          -0.12176702996987479,
          null
         ]
        },
        {
         "hoverinfo": "text",
         "line": {
          "color": "cornflowerblue",
          "width": 6.668810459247092
         },
         "mode": "lines",
         "text": [
          "Create Picking--Record Goods Issue"
         ],
         "type": "scatter",
         "x": [
          0.034876309299064864,
          -0.00230069740355961,
          null
         ],
         "y": [
          -0.042224385974545725,
          -0.013244841929723427,
          null
         ]
        },
        {
         "hoverinfo": "text",
         "line": {
          "color": "cornflowerblue",
          "width": 6.6300785413713275
         },
         "mode": "lines",
         "text": [
          "Create Picking--Set Initial Delivery Block"
         ],
         "type": "scatter",
         "x": [
          0.034876309299064864,
          -0.175647569371099,
          null
         ],
         "y": [
          -0.042224385974545725,
          -0.1063361366010542,
          null
         ]
        },
        {
         "hoverinfo": "text",
         "line": {
          "color": "cornflowerblue",
          "width": 6.624928069256538
         },
         "mode": "lines",
         "text": [
          "Create Picking--Change Material Availability Date"
         ],
         "type": "scatter",
         "x": [
          0.034876309299064864,
          -0.057483588782378345,
          null
         ],
         "y": [
          -0.042224385974545725,
          -0.07205714767902631,
          null
         ]
        },
        {
         "hoverinfo": "text",
         "line": {
          "color": "cornflowerblue",
          "width": 7.022890367474338
         },
         "mode": "lines",
         "text": [
          "Create Picking--Change Confirmed Goods Issue Date"
         ],
         "type": "scatter",
         "x": [
          0.034876309299064864,
          -0.06032875122517457,
          null
         ],
         "y": [
          -0.042224385974545725,
          0.02292633874076355,
          null
         ]
        },
        {
         "hoverinfo": "text",
         "line": {
          "color": "cornflowerblue",
          "width": 7.140466249564402
         },
         "mode": "lines",
         "text": [
          "Create Picking--Create Invoice cancellation"
         ],
         "type": "scatter",
         "x": [
          0.034876309299064864,
          0.08656877822062127,
          null
         ],
         "y": [
          -0.042224385974545725,
          -0.11495218044397325,
          null
         ]
        },
        {
         "hoverinfo": "text",
         "line": {
          "color": "cornflowerblue",
          "width": 6.381562178085025
         },
         "mode": "lines",
         "text": [
          "Create Picking--Clear Invoice"
         ],
         "type": "scatter",
         "x": [
          0.034876309299064864,
          0.08028618362315233,
          null
         ],
         "y": [
          -0.042224385974545725,
          0.08527563812700825,
          null
         ]
        },
        {
         "hoverinfo": "text",
         "line": {
          "color": "cornflowerblue",
          "width": 6.440321677716815
         },
         "mode": "lines",
         "text": [
          "Create Picking--Change Confirmed Delivery Date"
         ],
         "type": "scatter",
         "x": [
          0.034876309299064864,
          0.04129574492817072,
          null
         ],
         "y": [
          -0.042224385974545725,
          0.007345246826011747,
          null
         ]
        },
        {
         "hoverinfo": "text",
         "line": {
          "color": "cornflowerblue",
          "width": 7.065485259748021
         },
         "mode": "lines",
         "text": [
          "Create Picking--Change Delivery Grouping"
         ],
         "type": "scatter",
         "x": [
          0.034876309299064864,
          -0.1589274296008866,
          null
         ],
         "y": [
          -0.042224385974545725,
          0.0016237800191684357,
          null
         ]
        },
        {
         "hoverinfo": "text",
         "line": {
          "color": "cornflowerblue",
          "width": 6.776440475526767
         },
         "mode": "lines",
         "text": [
          "Create Picking--Remove Delivery Block"
         ],
         "type": "scatter",
         "x": [
          0.034876309299064864,
          -0.15543868292748345,
          null
         ],
         "y": [
          -0.042224385974545725,
          -0.06736765946384478,
          null
         ]
        },
        {
         "hoverinfo": "text",
         "line": {
          "color": "cornflowerblue",
          "width": 6.562420552926996
         },
         "mode": "lines",
         "text": [
          "Create Picking--Set Delivery Block"
         ],
         "type": "scatter",
         "x": [
          0.034876309299064864,
          0.060439448504209126,
          null
         ],
         "y": [
          -0.042224385974545725,
          -0.1641885374509435,
          null
         ]
        },
        {
         "hoverinfo": "text",
         "line": {
          "color": "cornflowerblue",
          "width": 6.179671528541295
         },
         "mode": "lines",
         "text": [
          "Create Picking--Change Requested Delivery Date"
         ],
         "type": "scatter",
         "x": [
          0.034876309299064864,
          -0.10705315947754912,
          null
         ],
         "y": [
          -0.042224385974545725,
          -0.15443925700666747,
          null
         ]
        },
        {
         "hoverinfo": "text",
         "line": {
          "color": "cornflowerblue",
          "width": 6.434212059437869
         },
         "mode": "lines",
         "text": [
          "Create Picking--Create Intercompany credit memo"
         ],
         "type": "scatter",
         "x": [
          0.034876309299064864,
          0.008571203167793716,
          null
         ],
         "y": [
          -0.042224385974545725,
          -0.2258729994276078,
          null
         ]
        },
        {
         "hoverinfo": "text",
         "line": {
          "color": "cornflowerblue",
          "width": 5.881812428273403
         },
         "mode": "lines",
         "text": [
          "Create Picking--Create Purchase Order"
         ],
         "type": "scatter",
         "x": [
          0.034876309299064864,
          -0.10545432009503505,
          null
         ],
         "y": [
          -0.042224385974545725,
          -0.09850709740293291,
          null
         ]
        },
        {
         "hoverinfo": "text",
         "line": {
          "color": "cornflowerblue",
          "width": 4.4034619153939465
         },
         "mode": "lines",
         "text": [
          "Create Picking--Change Confirmed Quantity"
         ],
         "type": "scatter",
         "x": [
          0.034876309299064864,
          -0.11035131812659899,
          null
         ],
         "y": [
          -0.042224385974545725,
          -0.05866993943082722,
          null
         ]
        },
        {
         "hoverinfo": "text",
         "line": {
          "color": "cornflowerblue",
          "width": 6.6046098177732615
         },
         "mode": "lines",
         "text": [
          "Create Picking--Record Return Goods Receipt"
         ],
         "type": "scatter",
         "x": [
          0.034876309299064864,
          0.022926828201015118,
          null
         ],
         "y": [
          -0.042224385974545725,
          -0.18102982957917835,
          null
         ]
        },
        {
         "hoverinfo": "text",
         "line": {
          "color": "cornflowerblue",
          "width": 6.119747817398232
         },
         "mode": "lines",
         "text": [
          "Create Picking--Create Shipment"
         ],
         "type": "scatter",
         "x": [
          0.034876309299064864,
          0.13549968408565216,
          null
         ],
         "y": [
          -0.042224385974545725,
          -0.03621926643088185,
          null
         ]
        },
        {
         "hoverinfo": "text",
         "line": {
          "color": "cornflowerblue",
          "width": 6.063533238961407
         },
         "mode": "lines",
         "text": [
          "Create Picking--Change Material"
         ],
         "type": "scatter",
         "x": [
          0.034876309299064864,
          -0.09746144469076383,
          null
         ],
         "y": [
          -0.042224385974545725,
          0.07981998593333302,
          null
         ]
        },
        {
         "hoverinfo": "text",
         "line": {
          "color": "cornflowerblue",
          "width": 7.093916676365365
         },
         "mode": "lines",
         "text": [
          "Create Picking--Create Credit memo"
         ],
         "type": "scatter",
         "x": [
          0.034876309299064864,
          0.13059550114804544,
          null
         ],
         "y": [
          -0.042224385974545725,
          -0.08633072544484394,
          null
         ]
        },
        {
         "hoverinfo": "text",
         "line": {
          "color": "cornflowerblue",
          "width": 2.9806186357439426
         },
         "mode": "lines",
         "text": [
          "Create Picking--Cancel Goods Issue"
         ],
         "type": "scatter",
         "x": [
          0.034876309299064864,
          0.12202006477317892,
          null
         ],
         "y": [
          -0.042224385974545725,
          0.027268284269077726,
          null
         ]
        },
        {
         "hoverinfo": "text",
         "line": {
          "color": "cornflowerblue",
          "width": 7.097293786382032
         },
         "mode": "lines",
         "text": [
          "Create Picking--Change Item Category"
         ],
         "type": "scatter",
         "x": [
          0.034876309299064864,
          -0.19046702188185693,
          null
         ],
         "y": [
          -0.042224385974545725,
          0.06648488050147651,
          null
         ]
        },
        {
         "hoverinfo": "text",
         "line": {
          "color": "cornflowerblue",
          "width": 6.317555705355728
         },
         "mode": "lines",
         "text": [
          "Create Picking--Cancel Reason for Rejection"
         ],
         "type": "scatter",
         "x": [
          0.034876309299064864,
          -0.1713416255106839,
          null
         ],
         "y": [
          -0.042224385974545725,
          -0.03347457892650524,
          null
         ]
        },
        {
         "hoverinfo": "text",
         "line": {
          "color": "cornflowerblue",
          "width": 5.371954990009915
         },
         "mode": "lines",
         "text": [
          "Create Picking--Clear Credit Memo"
         ],
         "type": "scatter",
         "x": [
          0.034876309299064864,
          0.3088639038075001,
          null
         ],
         "y": [
          -0.042224385974545725,
          -0.07361643744726096,
          null
         ]
        },
        {
         "hoverinfo": "text",
         "line": {
          "color": "cornflowerblue",
          "width": 7.1349174116381295
         },
         "mode": "lines",
         "text": [
          "Create Invoice--Change Price"
         ],
         "type": "scatter",
         "x": [
          0.042953018299347084,
          0.01347428135292946,
          null
         ],
         "y": [
          -0.1030570125999229,
          -0.12155578350748211,
          null
         ]
        },
        {
         "hoverinfo": "text",
         "line": {
          "color": "cornflowerblue",
          "width": 5.385908436594286
         },
         "mode": "lines",
         "text": [
          "Create Invoice--Create Invoice cancellation"
         ],
         "type": "scatter",
         "x": [
          0.042953018299347084,
          0.08656877822062127,
          null
         ],
         "y": [
          -0.1030570125999229,
          -0.11495218044397325,
          null
         ]
        },
        {
         "hoverinfo": "text",
         "line": {
          "color": "cornflowerblue",
          "width": 4.640698192047237
         },
         "mode": "lines",
         "text": [
          "Create Invoice--Change Confirmed Delivery Date"
         ],
         "type": "scatter",
         "x": [
          0.042953018299347084,
          0.04129574492817072,
          null
         ],
         "y": [
          -0.1030570125999229,
          0.007345246826011747,
          null
         ]
        },
        {
         "hoverinfo": "text",
         "line": {
          "color": "cornflowerblue",
          "width": 4.509851672815711
         },
         "mode": "lines",
         "text": [
          "Create Invoice--Change Inco Terms (Part 2)"
         ],
         "type": "scatter",
         "x": [
          0.042953018299347084,
          -0.13239457224717427,
          null
         ],
         "y": [
          -0.1030570125999229,
          -0.12176702996987479,
          null
         ]
        },
        {
         "hoverinfo": "text",
         "line": {
          "color": "cornflowerblue",
          "width": 6.814076268098149
         },
         "mode": "lines",
         "text": [
          "Create Invoice--Clear Invoice"
         ],
         "type": "scatter",
         "x": [
          0.042953018299347084,
          0.08028618362315233,
          null
         ],
         "y": [
          -0.1030570125999229,
          0.08527563812700825,
          null
         ]
        },
        {
         "hoverinfo": "text",
         "line": {
          "color": "cornflowerblue",
          "width": 6.869863016380887
         },
         "mode": "lines",
         "text": [
          "Create Invoice--Create Credit memo"
         ],
         "type": "scatter",
         "x": [
          0.042953018299347084,
          0.13059550114804544,
          null
         ],
         "y": [
          -0.1030570125999229,
          -0.08633072544484394,
          null
         ]
        },
        {
         "hoverinfo": "text",
         "line": {
          "color": "cornflowerblue",
          "width": 7.039017432162616
         },
         "mode": "lines",
         "text": [
          "Create Invoice--Change Material Availability Date"
         ],
         "type": "scatter",
         "x": [
          0.042953018299347084,
          -0.057483588782378345,
          null
         ],
         "y": [
          -0.1030570125999229,
          -0.07205714767902631,
          null
         ]
        },
        {
         "hoverinfo": "text",
         "line": {
          "color": "cornflowerblue",
          "width": 6.688333958231156
         },
         "mode": "lines",
         "text": [
          "Create Invoice--Customer Acceptance (L650)"
         ],
         "type": "scatter",
         "x": [
          0.042953018299347084,
          -0.1725870841102398,
          null
         ],
         "y": [
          -0.1030570125999229,
          -0.24369615140160536,
          null
         ]
        },
        {
         "hoverinfo": "text",
         "line": {
          "color": "cornflowerblue",
          "width": 6.459317427650962
         },
         "mode": "lines",
         "text": [
          "Create Invoice--Record Goods Issue"
         ],
         "type": "scatter",
         "x": [
          0.042953018299347084,
          -0.00230069740355961,
          null
         ],
         "y": [
          -0.1030570125999229,
          -0.013244841929723427,
          null
         ]
        },
        {
         "hoverinfo": "text",
         "line": {
          "color": "cornflowerblue",
          "width": 6.501677483219218
         },
         "mode": "lines",
         "text": [
          "Create Invoice--Cancel Goods Issue"
         ],
         "type": "scatter",
         "x": [
          0.042953018299347084,
          0.12202006477317892,
          null
         ],
         "y": [
          -0.1030570125999229,
          0.027268284269077726,
          null
         ]
        },
        {
         "hoverinfo": "text",
         "line": {
          "color": "cornflowerblue",
          "width": 4.103744686734016
         },
         "mode": "lines",
         "text": [
          "Create Invoice--Create Debit memo"
         ],
         "type": "scatter",
         "x": [
          0.042953018299347084,
          0.29544192826388105,
          null
         ],
         "y": [
          -0.1030570125999229,
          -0.15655576538459473,
          null
         ]
        },
        {
         "hoverinfo": "text",
         "line": {
          "color": "cornflowerblue",
          "width": 7.182966158375847
         },
         "mode": "lines",
         "text": [
          "Create Invoice--Change Confirmed Goods Issue Date"
         ],
         "type": "scatter",
         "x": [
          0.042953018299347084,
          -0.06032875122517457,
          null
         ],
         "y": [
          -0.1030570125999229,
          0.02292633874076355,
          null
         ]
        },
        {
         "hoverinfo": "text",
         "line": {
          "color": "cornflowerblue",
          "width": 6.771228929758616
         },
         "mode": "lines",
         "text": [
          "Create Invoice--Change Confirmed Quantity"
         ],
         "type": "scatter",
         "x": [
          0.042953018299347084,
          -0.11035131812659899,
          null
         ],
         "y": [
          -0.1030570125999229,
          -0.05866993943082722,
          null
         ]
        },
        {
         "hoverinfo": "text",
         "line": {
          "color": "cornflowerblue",
          "width": 7.067149331132387
         },
         "mode": "lines",
         "text": [
          "Create Invoice--Create Intercompany invoice"
         ],
         "type": "scatter",
         "x": [
          0.042953018299347084,
          0.07495999171979624,
          null
         ],
         "y": [
          -0.1030570125999229,
          -0.07204009369815284,
          null
         ]
        },
        {
         "hoverinfo": "text",
         "line": {
          "color": "cornflowerblue",
          "width": 7.136748355085238
         },
         "mode": "lines",
         "text": [
          "Create Invoice--Change Requested Quantity"
         ],
         "type": "scatter",
         "x": [
          0.042953018299347084,
          -0.03191216289795912,
          null
         ],
         "y": [
          -0.1030570125999229,
          -0.11649828164252744,
          null
         ]
        },
        {
         "hoverinfo": "text",
         "line": {
          "color": "cornflowerblue",
          "width": 6.470193024761735
         },
         "mode": "lines",
         "text": [
          "Create Invoice--Create Delivery"
         ],
         "type": "scatter",
         "x": [
          0.042953018299347084,
          -0.012615544154824417,
          null
         ],
         "y": [
          -0.1030570125999229,
          0.014383872923265805,
          null
         ]
        },
        {
         "hoverinfo": "text",
         "line": {
          "color": "cornflowerblue",
          "width": 7.257108484290134
         },
         "mode": "lines",
         "text": [
          "Create Invoice--Change Payment Terms"
         ],
         "type": "scatter",
         "x": [
          0.042953018299347084,
          -0.04811715829223775,
          null
         ],
         "y": [
          -0.1030570125999229,
          -0.16151611140258565,
          null
         ]
        },
        {
         "hoverinfo": "text",
         "line": {
          "color": "cornflowerblue",
          "width": 6.617937594399935
         },
         "mode": "lines",
         "text": [
          "Create Invoice--Change Delivery Grouping"
         ],
         "type": "scatter",
         "x": [
          0.042953018299347084,
          -0.1589274296008866,
          null
         ],
         "y": [
          -0.1030570125999229,
          0.0016237800191684357,
          null
         ]
        },
        {
         "hoverinfo": "text",
         "line": {
          "color": "cornflowerblue",
          "width": 6.992418066860846
         },
         "mode": "lines",
         "text": [
          "Create Invoice--Create Pro forma invoice"
         ],
         "type": "scatter",
         "x": [
          0.042953018299347084,
          0.020153840383762067,
          null
         ],
         "y": [
          -0.1030570125999229,
          0.04841294718093922,
          null
         ]
        },
        {
         "hoverinfo": "text",
         "line": {
          "color": "cornflowerblue",
          "width": 7.229270984136491
         },
         "mode": "lines",
         "text": [
          "Create Invoice--Change Inco Terms (Part 1)"
         ],
         "type": "scatter",
         "x": [
          0.042953018299347084,
          -0.06405663485270553,
          null
         ],
         "y": [
          -0.1030570125999229,
          -0.20742830658080527,
          null
         ]
        },
        {
         "hoverinfo": "text",
         "line": {
          "color": "cornflowerblue",
          "width": 6.849790657891499
         },
         "mode": "lines",
         "text": [
          "Create Invoice--Create Returns delivery for order"
         ],
         "type": "scatter",
         "x": [
          0.042953018299347084,
          0.08383999610658,
          null
         ],
         "y": [
          -0.1030570125999229,
          -0.028146529453390672,
          null
         ]
        },
        {
         "hoverinfo": "text",
         "line": {
          "color": "cornflowerblue",
          "width": 5.877945843748692
         },
         "mode": "lines",
         "text": [
          "Create Invoice--Change Requested Delivery Date"
         ],
         "type": "scatter",
         "x": [
          0.042953018299347084,
          -0.10705315947754912,
          null
         ],
         "y": [
          -0.1030570125999229,
          -0.15443925700666747,
          null
         ]
        },
        {
         "hoverinfo": "text",
         "line": {
          "color": "cornflowerblue",
          "width": 6.7385572310045605
         },
         "mode": "lines",
         "text": [
          "Create Invoice--Cancel Reason for Rejection"
         ],
         "type": "scatter",
         "x": [
          0.042953018299347084,
          -0.1713416255106839,
          null
         ],
         "y": [
          -0.1030570125999229,
          -0.03347457892650524,
          null
         ]
        },
        {
         "hoverinfo": "text",
         "line": {
          "color": "cornflowerblue",
          "width": 6.7071780976659205
         },
         "mode": "lines",
         "text": [
          "Create Invoice--Change Requested Goods Issue Date"
         ],
         "type": "scatter",
         "x": [
          0.042953018299347084,
          -0.06728640707088565,
          null
         ],
         "y": [
          -0.1030570125999229,
          -0.11583308886210894,
          null
         ]
        },
        {
         "hoverinfo": "text",
         "line": {
          "color": "cornflowerblue",
          "width": 6.553541589384741
         },
         "mode": "lines",
         "text": [
          "Create Invoice--Create Credit memo cancellation"
         ],
         "type": "scatter",
         "x": [
          0.042953018299347084,
          0.13269682438952626,
          null
         ],
         "y": [
          -0.1030570125999229,
          -0.2135544141778976,
          null
         ]
        },
        {
         "hoverinfo": "text",
         "line": {
          "color": "cornflowerblue",
          "width": 5.946641503499661
         },
         "mode": "lines",
         "text": [
          "Create Invoice--Remove Delivery Block"
         ],
         "type": "scatter",
         "x": [
          0.042953018299347084,
          -0.15543868292748345,
          null
         ],
         "y": [
          -0.1030570125999229,
          -0.06736765946384478,
          null
         ]
        },
        {
         "hoverinfo": "text",
         "line": {
          "color": "cornflowerblue",
          "width": 6.616254814630811
         },
         "mode": "lines",
         "text": [
          "Create Invoice--Set Delivery Block"
         ],
         "type": "scatter",
         "x": [
          0.042953018299347084,
          0.060439448504209126,
          null
         ],
         "y": [
          -0.1030570125999229,
          -0.1641885374509435,
          null
         ]
        },
        {
         "hoverinfo": "text",
         "line": {
          "color": "cornflowerblue",
          "width": 6.53469685579288
         },
         "mode": "lines",
         "text": [
          "Create Invoice--Create Intercompany credit memo"
         ],
         "type": "scatter",
         "x": [
          0.042953018299347084,
          0.008571203167793716,
          null
         ],
         "y": [
          -0.1030570125999229,
          -0.2258729994276078,
          null
         ]
        },
        {
         "hoverinfo": "text",
         "line": {
          "color": "cornflowerblue",
          "width": 6.08633902594782
         },
         "mode": "lines",
         "text": [
          "Create Invoice--Record Return Goods Receipt"
         ],
         "type": "scatter",
         "x": [
          0.042953018299347084,
          0.022926828201015118,
          null
         ],
         "y": [
          -0.1030570125999229,
          -0.18102982957917835,
          null
         ]
        },
        {
         "hoverinfo": "text",
         "line": {
          "color": "cornflowerblue",
          "width": 6.7230909801097045
         },
         "mode": "lines",
         "text": [
          "Create Invoice--Create Shipment"
         ],
         "type": "scatter",
         "x": [
          0.042953018299347084,
          0.13549968408565216,
          null
         ],
         "y": [
          -0.1030570125999229,
          -0.03621926643088185,
          null
         ]
        },
        {
         "hoverinfo": "text",
         "line": {
          "color": "cornflowerblue",
          "width": 6.777637102322041
         },
         "mode": "lines",
         "text": [
          "Create Invoice--Set Initial Delivery Block"
         ],
         "type": "scatter",
         "x": [
          0.042953018299347084,
          -0.175647569371099,
          null
         ],
         "y": [
          -0.1030570125999229,
          -0.1063361366010542,
          null
         ]
        },
        {
         "hoverinfo": "text",
         "line": {
          "color": "cornflowerblue",
          "width": 6.121432305858649
         },
         "mode": "lines",
         "text": [
          "Create Invoice--Change Material"
         ],
         "type": "scatter",
         "x": [
          0.042953018299347084,
          -0.09746144469076383,
          null
         ],
         "y": [
          -0.1030570125999229,
          0.07981998593333302,
          null
         ]
        },
        {
         "hoverinfo": "text",
         "line": {
          "color": "cornflowerblue",
          "width": 6.506157682400462
         },
         "mode": "lines",
         "text": [
          "Create Invoice--Create Purchase Order"
         ],
         "type": "scatter",
         "x": [
          0.042953018299347084,
          -0.10545432009503505,
          null
         ],
         "y": [
          -0.1030570125999229,
          -0.09850709740293291,
          null
         ]
        },
        {
         "hoverinfo": "text",
         "line": {
          "color": "cornflowerblue",
          "width": 6.230153309757654
         },
         "mode": "lines",
         "text": [
          "Create Invoice--Clear Credit Memo"
         ],
         "type": "scatter",
         "x": [
          0.042953018299347084,
          0.3088639038075001,
          null
         ],
         "y": [
          -0.1030570125999229,
          -0.07361643744726096,
          null
         ]
        },
        {
         "hoverinfo": "text",
         "line": {
          "color": "cornflowerblue",
          "width": 3.9044947390073546
         },
         "mode": "lines",
         "text": [
          "Change Inco Terms (Part 2)--Change Price"
         ],
         "type": "scatter",
         "x": [
          -0.13239457224717427,
          0.01347428135292946,
          null
         ],
         "y": [
          -0.12176702996987479,
          -0.12155578350748211,
          null
         ]
        },
        {
         "hoverinfo": "text",
         "line": {
          "color": "cornflowerblue",
          "width": 6.836966152337259
         },
         "mode": "lines",
         "text": [
          "Change Inco Terms (Part 2)--Change Requested Quantity"
         ],
         "type": "scatter",
         "x": [
          -0.13239457224717427,
          -0.03191216289795912,
          null
         ],
         "y": [
          -0.12176702996987479,
          -0.11649828164252744,
          null
         ]
        },
        {
         "hoverinfo": "text",
         "line": {
          "color": "cornflowerblue",
          "width": 0
         },
         "mode": "lines",
         "text": [
          "Change Inco Terms (Part 2)--Change Material Availability Date"
         ],
         "type": "scatter",
         "x": [
          -0.13239457224717427,
          -0.057483588782378345,
          null
         ],
         "y": [
          -0.12176702996987479,
          -0.07205714767902631,
          null
         ]
        },
        {
         "hoverinfo": "text",
         "line": {
          "color": "cornflowerblue",
          "width": 6.5806044626199895
         },
         "mode": "lines",
         "text": [
          "Change Inco Terms (Part 2)--Change Inco Terms (Part 1)"
         ],
         "type": "scatter",
         "x": [
          -0.13239457224717427,
          -0.06405663485270553,
          null
         ],
         "y": [
          -0.12176702996987479,
          -0.20742830658080527,
          null
         ]
        },
        {
         "hoverinfo": "text",
         "line": {
          "color": "cornflowerblue",
          "width": 6.493993347223985
         },
         "mode": "lines",
         "text": [
          "Change Inco Terms (Part 2)--Change Requested Goods Issue Date"
         ],
         "type": "scatter",
         "x": [
          -0.13239457224717427,
          -0.06728640707088565,
          null
         ],
         "y": [
          -0.12176702996987479,
          -0.11583308886210894,
          null
         ]
        },
        {
         "hoverinfo": "text",
         "line": {
          "color": "cornflowerblue",
          "width": 6.7010385653534605
         },
         "mode": "lines",
         "text": [
          "Change Inco Terms (Part 2)--Create Delivery"
         ],
         "type": "scatter",
         "x": [
          -0.13239457224717427,
          -0.012615544154824417,
          null
         ],
         "y": [
          -0.12176702996987479,
          0.014383872923265805,
          null
         ]
        },
        {
         "hoverinfo": "text",
         "line": {
          "color": "cornflowerblue",
          "width": 7.069328344625034
         },
         "mode": "lines",
         "text": [
          "Change Inco Terms (Part 2)--Change Payment Terms"
         ],
         "type": "scatter",
         "x": [
          -0.13239457224717427,
          -0.04811715829223775,
          null
         ],
         "y": [
          -0.12176702996987479,
          -0.16151611140258565,
          null
         ]
        },
        {
         "hoverinfo": "text",
         "line": {
          "color": "cornflowerblue",
          "width": 6.576980116505417
         },
         "mode": "lines",
         "text": [
          "Change Inco Terms (Part 2)--Customer Acceptance (L650)"
         ],
         "type": "scatter",
         "x": [
          -0.13239457224717427,
          -0.1725870841102398,
          null
         ],
         "y": [
          -0.12176702996987479,
          -0.24369615140160536,
          null
         ]
        },
        {
         "hoverinfo": "text",
         "line": {
          "color": "cornflowerblue",
          "width": 6.53473315936334
         },
         "mode": "lines",
         "text": [
          "Change Inco Terms (Part 2)--Create Invoice cancellation"
         ],
         "type": "scatter",
         "x": [
          -0.13239457224717427,
          0.08656877822062127,
          null
         ],
         "y": [
          -0.12176702996987479,
          -0.11495218044397325,
          null
         ]
        },
        {
         "hoverinfo": "text",
         "line": {
          "color": "cornflowerblue",
          "width": 5.545893334002831
         },
         "mode": "lines",
         "text": [
          "Change Inco Terms (Part 2)--Change Confirmed Goods Issue Date"
         ],
         "type": "scatter",
         "x": [
          -0.13239457224717427,
          -0.06032875122517457,
          null
         ],
         "y": [
          -0.12176702996987479,
          0.02292633874076355,
          null
         ]
        },
        {
         "hoverinfo": "text",
         "line": {
          "color": "cornflowerblue",
          "width": 6.566531772935438
         },
         "mode": "lines",
         "text": [
          "Change Inco Terms (Part 2)--Change Confirmed Quantity"
         ],
         "type": "scatter",
         "x": [
          -0.13239457224717427,
          -0.11035131812659899,
          null
         ],
         "y": [
          -0.12176702996987479,
          -0.05866993943082722,
          null
         ]
        },
        {
         "hoverinfo": "text",
         "line": {
          "color": "cornflowerblue",
          "width": 6.54021196387253
         },
         "mode": "lines",
         "text": [
          "Change Inco Terms (Part 2)--Record Return Goods Receipt"
         ],
         "type": "scatter",
         "x": [
          -0.13239457224717427,
          0.022926828201015118,
          null
         ],
         "y": [
          -0.12176702996987479,
          -0.18102982957917835,
          null
         ]
        },
        {
         "hoverinfo": "text",
         "line": {
          "color": "cornflowerblue",
          "width": 6.572014441490026
         },
         "mode": "lines",
         "text": [
          "Change Inco Terms (Part 2)--Cancel Reason for Rejection"
         ],
         "type": "scatter",
         "x": [
          -0.13239457224717427,
          -0.1713416255106839,
          null
         ],
         "y": [
          -0.12176702996987479,
          -0.03347457892650524,
          null
         ]
        },
        {
         "hoverinfo": "text",
         "line": {
          "color": "cornflowerblue",
          "width": 0
         },
         "mode": "lines",
         "text": [
          "Change Inco Terms (Part 2)--Change Delivery Block"
         ],
         "type": "scatter",
         "x": [
          -0.13239457224717427,
          -0.4097001313894779,
          null
         ],
         "y": [
          -0.12176702996987479,
          -0.050566752625627306,
          null
         ]
        },
        {
         "hoverinfo": "text",
         "line": {
          "color": "cornflowerblue",
          "width": 5.612945607984424
         },
         "mode": "lines",
         "text": [
          "Change Inco Terms (Part 2)--Create Credit memo"
         ],
         "type": "scatter",
         "x": [
          -0.13239457224717427,
          0.13059550114804544,
          null
         ],
         "y": [
          -0.12176702996987479,
          -0.08633072544484394,
          null
         ]
        },
        {
         "hoverinfo": "text",
         "line": {
          "color": "cornflowerblue",
          "width": 6.514934888407051
         },
         "mode": "lines",
         "text": [
          "Change Inco Terms (Part 2)--Change Delivery Grouping"
         ],
         "type": "scatter",
         "x": [
          -0.13239457224717427,
          -0.1589274296008866,
          null
         ],
         "y": [
          -0.12176702996987479,
          0.0016237800191684357,
          null
         ]
        },
        {
         "hoverinfo": "text",
         "line": {
          "color": "cornflowerblue",
          "width": 6.1005618223751945
         },
         "mode": "lines",
         "text": [
          "Change Inco Terms (Part 2)--Remove Delivery Block"
         ],
         "type": "scatter",
         "x": [
          -0.13239457224717427,
          -0.15543868292748345,
          null
         ],
         "y": [
          -0.12176702996987479,
          -0.06736765946384478,
          null
         ]
        },
        {
         "hoverinfo": "text",
         "line": {
          "color": "cornflowerblue",
          "width": 3.7137752980839323
         },
         "mode": "lines",
         "text": [
          "Change Inco Terms (Part 2)--Change Confirmed Delivery Date"
         ],
         "type": "scatter",
         "x": [
          -0.13239457224717427,
          0.04129574492817072,
          null
         ],
         "y": [
          -0.12176702996987479,
          0.007345246826011747,
          null
         ]
        },
        {
         "hoverinfo": "text",
         "line": {
          "color": "cornflowerblue",
          "width": 5.461993959028699
         },
         "mode": "lines",
         "text": [
          "Change Inco Terms (Part 2)--Set Initial Delivery Block"
         ],
         "type": "scatter",
         "x": [
          -0.13239457224717427,
          -0.175647569371099,
          null
         ],
         "y": [
          -0.12176702996987479,
          -0.1063361366010542,
          null
         ]
        },
        {
         "hoverinfo": "text",
         "line": {
          "color": "cornflowerblue",
          "width": 6.279084117606557
         },
         "mode": "lines",
         "text": [
          "Change Inco Terms (Part 2)--Change Material"
         ],
         "type": "scatter",
         "x": [
          -0.13239457224717427,
          -0.09746144469076383,
          null
         ],
         "y": [
          -0.12176702996987479,
          0.07981998593333302,
          null
         ]
        },
        {
         "hoverinfo": "text",
         "line": {
          "color": "cornflowerblue",
          "width": 7.062669952606084
         },
         "mode": "lines",
         "text": [
          "Change Inco Terms (Part 2)--Record Goods Issue"
         ],
         "type": "scatter",
         "x": [
          -0.13239457224717427,
          -0.00230069740355961,
          null
         ],
         "y": [
          -0.12176702996987479,
          -0.013244841929723427,
          null
         ]
        },
        {
         "hoverinfo": "text",
         "line": {
          "color": "cornflowerblue",
          "width": 6.077948006996119
         },
         "mode": "lines",
         "text": [
          "Change Inco Terms (Part 2)--Cancel Goods Issue"
         ],
         "type": "scatter",
         "x": [
          -0.13239457224717427,
          0.12202006477317892,
          null
         ],
         "y": [
          -0.12176702996987479,
          0.027268284269077726,
          null
         ]
        },
        {
         "hoverinfo": "text",
         "line": {
          "color": "cornflowerblue",
          "width": 6.664589701305532
         },
         "mode": "lines",
         "text": [
          "Change Inco Terms (Part 2)--Create Intercompany credit memo"
         ],
         "type": "scatter",
         "x": [
          -0.13239457224717427,
          0.008571203167793716,
          null
         ],
         "y": [
          -0.12176702996987479,
          -0.2258729994276078,
          null
         ]
        },
        {
         "hoverinfo": "text",
         "line": {
          "color": "cornflowerblue",
          "width": 7.170215692673297
         },
         "mode": "lines",
         "text": [
          "Change Inco Terms (Part 2)--Create Purchase Order"
         ],
         "type": "scatter",
         "x": [
          -0.13239457224717427,
          -0.10545432009503505,
          null
         ],
         "y": [
          -0.12176702996987479,
          -0.09850709740293291,
          null
         ]
        },
        {
         "hoverinfo": "text",
         "line": {
          "color": "cornflowerblue",
          "width": 5.407657453198693
         },
         "mode": "lines",
         "text": [
          "Change Inco Terms (Part 2)--Create Intercompany invoice"
         ],
         "type": "scatter",
         "x": [
          -0.13239457224717427,
          0.07495999171979624,
          null
         ],
         "y": [
          -0.12176702996987479,
          -0.07204009369815284,
          null
         ]
        },
        {
         "hoverinfo": "text",
         "line": {
          "color": "cornflowerblue",
          "width": 6.688665997995968
         },
         "mode": "lines",
         "text": [
          "Change Inco Terms (Part 2)--Create Pro forma invoice"
         ],
         "type": "scatter",
         "x": [
          -0.13239457224717427,
          0.020153840383762067,
          null
         ],
         "y": [
          -0.12176702996987479,
          0.04841294718093922,
          null
         ]
        },
        {
         "hoverinfo": "text",
         "line": {
          "color": "cornflowerblue",
          "width": 0
         },
         "mode": "lines",
         "text": [
          "Change Inco Terms (Part 2)--Change WBS element"
         ],
         "type": "scatter",
         "x": [
          -0.13239457224717427,
          -0.2947669953276553,
          null
         ],
         "y": [
          -0.12176702996987479,
          -0.1309282510652095,
          null
         ]
        },
        {
         "hoverinfo": "text",
         "line": {
          "color": "cornflowerblue",
          "width": 6.112464624753488
         },
         "mode": "lines",
         "text": [
          "Change Inco Terms (Part 2)--Clear Invoice"
         ],
         "type": "scatter",
         "x": [
          -0.13239457224717427,
          0.08028618362315233,
          null
         ],
         "y": [
          -0.12176702996987479,
          0.08527563812700825,
          null
         ]
        },
        {
         "hoverinfo": "text",
         "line": {
          "color": "cornflowerblue",
          "width": 6.57435498577414
         },
         "mode": "lines",
         "text": [
          "Change Inco Terms (Part 2)--Set Delivery Block"
         ],
         "type": "scatter",
         "x": [
          -0.13239457224717427,
          0.060439448504209126,
          null
         ],
         "y": [
          -0.12176702996987479,
          -0.1641885374509435,
          null
         ]
        },
        {
         "hoverinfo": "text",
         "line": {
          "color": "cornflowerblue",
          "width": 6.606289760892457
         },
         "mode": "lines",
         "text": [
          "Change Inco Terms (Part 2)--Change Item Category"
         ],
         "type": "scatter",
         "x": [
          -0.13239457224717427,
          -0.19046702188185693,
          null
         ],
         "y": [
          -0.12176702996987479,
          0.06648488050147651,
          null
         ]
        },
        {
         "hoverinfo": "text",
         "line": {
          "color": "cornflowerblue",
          "width": 5.41872658040738
         },
         "mode": "lines",
         "text": [
          "Change Inco Terms (Part 2)--Change Requested Delivery Date"
         ],
         "type": "scatter",
         "x": [
          -0.13239457224717427,
          -0.10705315947754912,
          null
         ],
         "y": [
          -0.12176702996987479,
          -0.15443925700666747,
          null
         ]
        },
        {
         "hoverinfo": "text",
         "line": {
          "color": "cornflowerblue",
          "width": 6.14540091825849
         },
         "mode": "lines",
         "text": [
          "Change Price--Customer Acceptance (L650)"
         ],
         "type": "scatter",
         "x": [
          0.01347428135292946,
          -0.1725870841102398,
          null
         ],
         "y": [
          -0.12155578350748211,
          -0.24369615140160536,
          null
         ]
        },
        {
         "hoverinfo": "text",
         "line": {
          "color": "cornflowerblue",
          "width": 6.531739743849247
         },
         "mode": "lines",
         "text": [
          "Change Price--Create Delivery"
         ],
         "type": "scatter",
         "x": [
          0.01347428135292946,
          -0.012615544154824417,
          null
         ],
         "y": [
          -0.12155578350748211,
          0.014383872923265805,
          null
         ]
        },
        {
         "hoverinfo": "text",
         "line": {
          "color": "cornflowerblue",
          "width": 4.310799125385514
         },
         "mode": "lines",
         "text": [
          "Change Price--Clear Invoice"
         ],
         "type": "scatter",
         "x": [
          0.01347428135292946,
          0.08028618362315233,
          null
         ],
         "y": [
          -0.12155578350748211,
          0.08527563812700825,
          null
         ]
        },
        {
         "hoverinfo": "text",
         "line": {
          "color": "cornflowerblue",
          "width": 3.9627161197436642
         },
         "mode": "lines",
         "text": [
          "Change Price--Change Requested Goods Issue Date"
         ],
         "type": "scatter",
         "x": [
          0.01347428135292946,
          -0.06728640707088565,
          null
         ],
         "y": [
          -0.12155578350748211,
          -0.11583308886210894,
          null
         ]
        },
        {
         "hoverinfo": "text",
         "line": {
          "color": "cornflowerblue",
          "width": 6.387356197781713
         },
         "mode": "lines",
         "text": [
          "Change Price--Change Payment Terms"
         ],
         "type": "scatter",
         "x": [
          0.01347428135292946,
          -0.04811715829223775,
          null
         ],
         "y": [
          -0.12155578350748211,
          -0.16151611140258565,
          null
         ]
        },
        {
         "hoverinfo": "text",
         "line": {
          "color": "cornflowerblue",
          "width": 0
         },
         "mode": "lines",
         "text": [
          "Change Price--Change Material Availability Date"
         ],
         "type": "scatter",
         "x": [
          0.01347428135292946,
          -0.057483588782378345,
          null
         ],
         "y": [
          -0.12155578350748211,
          -0.07205714767902631,
          null
         ]
        },
        {
         "hoverinfo": "text",
         "line": {
          "color": "cornflowerblue",
          "width": 6.521859927920725
         },
         "mode": "lines",
         "text": [
          "Change Price--Change Requested Quantity"
         ],
         "type": "scatter",
         "x": [
          0.01347428135292946,
          -0.03191216289795912,
          null
         ],
         "y": [
          -0.12155578350748211,
          -0.11649828164252744,
          null
         ]
        },
        {
         "hoverinfo": "text",
         "line": {
          "color": "cornflowerblue",
          "width": 6.606503779084821
         },
         "mode": "lines",
         "text": [
          "Change Price--Change Inco Terms (Part 1)"
         ],
         "type": "scatter",
         "x": [
          0.01347428135292946,
          -0.06405663485270553,
          null
         ],
         "y": [
          -0.12155578350748211,
          -0.20742830658080527,
          null
         ]
        },
        {
         "hoverinfo": "text",
         "line": {
          "color": "cornflowerblue",
          "width": 6.580130454992309
         },
         "mode": "lines",
         "text": [
          "Change Price--Create Credit memo"
         ],
         "type": "scatter",
         "x": [
          0.01347428135292946,
          0.13059550114804544,
          null
         ],
         "y": [
          -0.12155578350748211,
          -0.08633072544484394,
          null
         ]
        },
        {
         "hoverinfo": "text",
         "line": {
          "color": "cornflowerblue",
          "width": 7.001632614573481
         },
         "mode": "lines",
         "text": [
          "Change Price--Create Invoice cancellation"
         ],
         "type": "scatter",
         "x": [
          0.01347428135292946,
          0.08656877822062127,
          null
         ],
         "y": [
          -0.12155578350748211,
          -0.11495218044397325,
          null
         ]
        },
        {
         "hoverinfo": "text",
         "line": {
          "color": "cornflowerblue",
          "width": 7.101682835956126
         },
         "mode": "lines",
         "text": [
          "Change Price--Record Goods Issue"
         ],
         "type": "scatter",
         "x": [
          0.01347428135292946,
          -0.00230069740355961,
          null
         ],
         "y": [
          -0.12155578350748211,
          -0.013244841929723427,
          null
         ]
        },
        {
         "hoverinfo": "text",
         "line": {
          "color": "cornflowerblue",
          "width": 6.506692964338764
         },
         "mode": "lines",
         "text": [
          "Change Price--Create Debit memo"
         ],
         "type": "scatter",
         "x": [
          0.01347428135292946,
          0.29544192826388105,
          null
         ],
         "y": [
          -0.12155578350748211,
          -0.15655576538459473,
          null
         ]
        },
        {
         "hoverinfo": "text",
         "line": {
          "color": "cornflowerblue",
          "width": 7.2022081279066255
         },
         "mode": "lines",
         "text": [
          "Change Price--Clear Credit Memo"
         ],
         "type": "scatter",
         "x": [
          0.01347428135292946,
          0.3088639038075001,
          null
         ],
         "y": [
          -0.12155578350748211,
          -0.07361643744726096,
          null
         ]
        },
        {
         "hoverinfo": "text",
         "line": {
          "color": "cornflowerblue",
          "width": 6.861641530016113
         },
         "mode": "lines",
         "text": [
          "Change Price--Cancel Reason for Rejection"
         ],
         "type": "scatter",
         "x": [
          0.01347428135292946,
          -0.1713416255106839,
          null
         ],
         "y": [
          -0.12155578350748211,
          -0.03347457892650524,
          null
         ]
        },
        {
         "hoverinfo": "text",
         "line": {
          "color": "cornflowerblue",
          "width": 6.56372622809352
         },
         "mode": "lines",
         "text": [
          "Change Price--Cancel Goods Issue"
         ],
         "type": "scatter",
         "x": [
          0.01347428135292946,
          0.12202006477317892,
          null
         ],
         "y": [
          -0.12155578350748211,
          0.027268284269077726,
          null
         ]
        },
        {
         "hoverinfo": "text",
         "line": {
          "color": "cornflowerblue",
          "width": 4.614542792234756
         },
         "mode": "lines",
         "text": [
          "Change Price--Change Confirmed Delivery Date"
         ],
         "type": "scatter",
         "x": [
          0.01347428135292946,
          0.04129574492817072,
          null
         ],
         "y": [
          -0.12155578350748211,
          0.007345246826011747,
          null
         ]
        },
        {
         "hoverinfo": "text",
         "line": {
          "color": "cornflowerblue",
          "width": 6.3835066348840055
         },
         "mode": "lines",
         "text": [
          "Change Price--Create Intercompany invoice"
         ],
         "type": "scatter",
         "x": [
          0.01347428135292946,
          0.07495999171979624,
          null
         ],
         "y": [
          -0.12155578350748211,
          -0.07204009369815284,
          null
         ]
        },
        {
         "hoverinfo": "text",
         "line": {
          "color": "cornflowerblue",
          "width": 3.428326049050408
         },
         "mode": "lines",
         "text": [
          "Change Price--Remove Delivery Block"
         ],
         "type": "scatter",
         "x": [
          0.01347428135292946,
          -0.15543868292748345,
          null
         ],
         "y": [
          -0.12155578350748211,
          -0.06736765946384478,
          null
         ]
        },
        {
         "hoverinfo": "text",
         "line": {
          "color": "cornflowerblue",
          "width": 6.703607248295378
         },
         "mode": "lines",
         "text": [
          "Change Price--Create Purchase Order"
         ],
         "type": "scatter",
         "x": [
          0.01347428135292946,
          -0.10545432009503505,
          null
         ],
         "y": [
          -0.12155578350748211,
          -0.09850709740293291,
          null
         ]
        },
        {
         "hoverinfo": "text",
         "line": {
          "color": "cornflowerblue",
          "width": 7.131392041980798
         },
         "mode": "lines",
         "text": [
          "Change Price--Create Pro forma invoice"
         ],
         "type": "scatter",
         "x": [
          0.01347428135292946,
          0.020153840383762067,
          null
         ],
         "y": [
          -0.12155578350748211,
          0.04841294718093922,
          null
         ]
        },
        {
         "hoverinfo": "text",
         "line": {
          "color": "cornflowerblue",
          "width": 6.96246439945419
         },
         "mode": "lines",
         "text": [
          "Change Price--Change Confirmed Goods Issue Date"
         ],
         "type": "scatter",
         "x": [
          0.01347428135292946,
          -0.06032875122517457,
          null
         ],
         "y": [
          -0.12155578350748211,
          0.02292633874076355,
          null
         ]
        },
        {
         "hoverinfo": "text",
         "line": {
          "color": "cornflowerblue",
          "width": 0
         },
         "mode": "lines",
         "text": [
          "Change Price--Change Material"
         ],
         "type": "scatter",
         "x": [
          0.01347428135292946,
          -0.09746144469076383,
          null
         ],
         "y": [
          -0.12155578350748211,
          0.07981998593333302,
          null
         ]
        },
        {
         "hoverinfo": "text",
         "line": {
          "color": "cornflowerblue",
          "width": 7.170228511871328
         },
         "mode": "lines",
         "text": [
          "Change Price--Change Delivery Grouping"
         ],
         "type": "scatter",
         "x": [
          0.01347428135292946,
          -0.1589274296008866,
          null
         ],
         "y": [
          -0.12155578350748211,
          0.0016237800191684357,
          null
         ]
        },
        {
         "hoverinfo": "text",
         "line": {
          "color": "cornflowerblue",
          "width": 5.488731093239328
         },
         "mode": "lines",
         "text": [
          "Change Price--Change Confirmed Quantity"
         ],
         "type": "scatter",
         "x": [
          0.01347428135292946,
          -0.11035131812659899,
          null
         ],
         "y": [
          -0.12155578350748211,
          -0.05866993943082722,
          null
         ]
        },
        {
         "hoverinfo": "text",
         "line": {
          "color": "cornflowerblue",
          "width": 6.756467164768355
         },
         "mode": "lines",
         "text": [
          "Change Price--Create Returns delivery for order"
         ],
         "type": "scatter",
         "x": [
          0.01347428135292946,
          0.08383999610658,
          null
         ],
         "y": [
          -0.12155578350748211,
          -0.028146529453390672,
          null
         ]
        },
        {
         "hoverinfo": "text",
         "line": {
          "color": "cornflowerblue",
          "width": 6.864995644560674
         },
         "mode": "lines",
         "text": [
          "Change Price--Create Credit memo cancellation"
         ],
         "type": "scatter",
         "x": [
          0.01347428135292946,
          0.13269682438952626,
          null
         ],
         "y": [
          -0.12155578350748211,
          -0.2135544141778976,
          null
         ]
        },
        {
         "hoverinfo": "text",
         "line": {
          "color": "cornflowerblue",
          "width": 6.167830906863263
         },
         "mode": "lines",
         "text": [
          "Change Price--Create Intercompany credit memo"
         ],
         "type": "scatter",
         "x": [
          0.01347428135292946,
          0.008571203167793716,
          null
         ],
         "y": [
          -0.12155578350748211,
          -0.2258729994276078,
          null
         ]
        },
        {
         "hoverinfo": "text",
         "line": {
          "color": "cornflowerblue",
          "width": 6.505023930745028
         },
         "mode": "lines",
         "text": [
          "Change Price--Change Item Category"
         ],
         "type": "scatter",
         "x": [
          0.01347428135292946,
          -0.19046702188185693,
          null
         ],
         "y": [
          -0.12155578350748211,
          0.06648488050147651,
          null
         ]
        },
        {
         "hoverinfo": "text",
         "line": {
          "color": "cornflowerblue",
          "width": 6.795491359943618
         },
         "mode": "lines",
         "text": [
          "Change Price--Change Requested Delivery Date"
         ],
         "type": "scatter",
         "x": [
          0.01347428135292946,
          -0.10705315947754912,
          null
         ],
         "y": [
          -0.12155578350748211,
          -0.15443925700666747,
          null
         ]
        },
        {
         "hoverinfo": "text",
         "line": {
          "color": "cornflowerblue",
          "width": 6.188127221172595
         },
         "mode": "lines",
         "text": [
          "Change Price--Set Delivery Block"
         ],
         "type": "scatter",
         "x": [
          0.01347428135292946,
          0.060439448504209126,
          null
         ],
         "y": [
          -0.12155578350748211,
          -0.1641885374509435,
          null
         ]
        },
        {
         "hoverinfo": "text",
         "line": {
          "color": "cornflowerblue",
          "width": 2.7631695003232895
         },
         "mode": "lines",
         "text": [
          "Change Price--Record Return Goods Receipt"
         ],
         "type": "scatter",
         "x": [
          0.01347428135292946,
          0.022926828201015118,
          null
         ],
         "y": [
          -0.12155578350748211,
          -0.18102982957917835,
          null
         ]
        },
        {
         "hoverinfo": "text",
         "line": {
          "color": "cornflowerblue",
          "width": 5.9121281871343845
         },
         "mode": "lines",
         "text": [
          "Change Price--Set Initial Delivery Block"
         ],
         "type": "scatter",
         "x": [
          0.01347428135292946,
          -0.175647569371099,
          null
         ],
         "y": [
          -0.12155578350748211,
          -0.1063361366010542,
          null
         ]
        },
        {
         "hoverinfo": "text",
         "line": {
          "color": "cornflowerblue",
          "width": 6.7089485859283196
         },
         "mode": "lines",
         "text": [
          "Create Invoice cancellation--Change Requested Quantity"
         ],
         "type": "scatter",
         "x": [
          0.08656877822062127,
          -0.03191216289795912,
          null
         ],
         "y": [
          -0.11495218044397325,
          -0.11649828164252744,
          null
         ]
        },
        {
         "hoverinfo": "text",
         "line": {
          "color": "cornflowerblue",
          "width": 7.145491832599247
         },
         "mode": "lines",
         "text": [
          "Create Invoice cancellation--Create Credit memo cancellation"
         ],
         "type": "scatter",
         "x": [
          0.08656877822062127,
          0.13269682438952626,
          null
         ],
         "y": [
          -0.11495218044397325,
          -0.2135544141778976,
          null
         ]
        },
        {
         "hoverinfo": "text",
         "line": {
          "color": "cornflowerblue",
          "width": 6.694324819160942
         },
         "mode": "lines",
         "text": [
          "Create Invoice cancellation--Create Credit memo"
         ],
         "type": "scatter",
         "x": [
          0.08656877822062127,
          0.13059550114804544,
          null
         ],
         "y": [
          -0.11495218044397325,
          -0.08633072544484394,
          null
         ]
        },
        {
         "hoverinfo": "text",
         "line": {
          "color": "cornflowerblue",
          "width": 6.578602853723137
         },
         "mode": "lines",
         "text": [
          "Create Invoice cancellation--Create Debit memo"
         ],
         "type": "scatter",
         "x": [
          0.08656877822062127,
          0.29544192826388105,
          null
         ],
         "y": [
          -0.11495218044397325,
          -0.15655576538459473,
          null
         ]
        },
        {
         "hoverinfo": "text",
         "line": {
          "color": "cornflowerblue",
          "width": 5.103467659176812
         },
         "mode": "lines",
         "text": [
          "Create Invoice cancellation--Create Delivery"
         ],
         "type": "scatter",
         "x": [
          0.08656877822062127,
          -0.012615544154824417,
          null
         ],
         "y": [
          -0.11495218044397325,
          0.014383872923265805,
          null
         ]
        },
        {
         "hoverinfo": "text",
         "line": {
          "color": "cornflowerblue",
          "width": 5.34185566856252
         },
         "mode": "lines",
         "text": [
          "Create Invoice cancellation--Clear Invoice"
         ],
         "type": "scatter",
         "x": [
          0.08656877822062127,
          0.08028618362315233,
          null
         ],
         "y": [
          -0.11495218044397325,
          0.08527563812700825,
          null
         ]
        },
        {
         "hoverinfo": "text",
         "line": {
          "color": "cornflowerblue",
          "width": 6.564255070587174
         },
         "mode": "lines",
         "text": [
          "Create Invoice cancellation--Change Confirmed Delivery Date"
         ],
         "type": "scatter",
         "x": [
          0.08656877822062127,
          0.04129574492817072,
          null
         ],
         "y": [
          -0.11495218044397325,
          0.007345246826011747,
          null
         ]
        },
        {
         "hoverinfo": "text",
         "line": {
          "color": "cornflowerblue",
          "width": 5.471535109092521
         },
         "mode": "lines",
         "text": [
          "Create Invoice cancellation--Change Payment Terms"
         ],
         "type": "scatter",
         "x": [
          0.08656877822062127,
          -0.04811715829223775,
          null
         ],
         "y": [
          -0.11495218044397325,
          -0.16151611140258565,
          null
         ]
        },
        {
         "hoverinfo": "text",
         "line": {
          "color": "cornflowerblue",
          "width": 5.1116865381659835
         },
         "mode": "lines",
         "text": [
          "Create Invoice cancellation--Change Confirmed Goods Issue Date"
         ],
         "type": "scatter",
         "x": [
          0.08656877822062127,
          -0.06032875122517457,
          null
         ],
         "y": [
          -0.11495218044397325,
          0.02292633874076355,
          null
         ]
        },
        {
         "hoverinfo": "text",
         "line": {
          "color": "cornflowerblue",
          "width": 5.863702195803375
         },
         "mode": "lines",
         "text": [
          "Create Invoice cancellation--Change Material Availability Date"
         ],
         "type": "scatter",
         "x": [
          0.08656877822062127,
          -0.057483588782378345,
          null
         ],
         "y": [
          -0.11495218044397325,
          -0.07205714767902631,
          null
         ]
        },
        {
         "hoverinfo": "text",
         "line": {
          "color": "cornflowerblue",
          "width": 6.558835897059167
         },
         "mode": "lines",
         "text": [
          "Create Invoice cancellation--Change Confirmed Quantity"
         ],
         "type": "scatter",
         "x": [
          0.08656877822062127,
          -0.11035131812659899,
          null
         ],
         "y": [
          -0.11495218044397325,
          -0.05866993943082722,
          null
         ]
        },
        {
         "hoverinfo": "text",
         "line": {
          "color": "cornflowerblue",
          "width": 3.8318969609488613
         },
         "mode": "lines",
         "text": [
          "Create Invoice cancellation--Record Goods Issue"
         ],
         "type": "scatter",
         "x": [
          0.08656877822062127,
          -0.00230069740355961,
          null
         ],
         "y": [
          -0.11495218044397325,
          -0.013244841929723427,
          null
         ]
        },
        {
         "hoverinfo": "text",
         "line": {
          "color": "cornflowerblue",
          "width": 4.177715059988312
         },
         "mode": "lines",
         "text": [
          "Create Invoice cancellation--Create Intercompany invoice"
         ],
         "type": "scatter",
         "x": [
          0.08656877822062127,
          0.07495999171979624,
          null
         ],
         "y": [
          -0.11495218044397325,
          -0.07204009369815284,
          null
         ]
        },
        {
         "hoverinfo": "text",
         "line": {
          "color": "cornflowerblue",
          "width": 4.652133285265109
         },
         "mode": "lines",
         "text": [
          "Create Invoice cancellation--Change Material"
         ],
         "type": "scatter",
         "x": [
          0.08656877822062127,
          -0.09746144469076383,
          null
         ],
         "y": [
          -0.11495218044397325,
          0.07981998593333302,
          null
         ]
        },
        {
         "hoverinfo": "text",
         "line": {
          "color": "cornflowerblue",
          "width": 4.337072852172732
         },
         "mode": "lines",
         "text": [
          "Create Invoice cancellation--Cancel Goods Issue"
         ],
         "type": "scatter",
         "x": [
          0.08656877822062127,
          0.12202006477317892,
          null
         ],
         "y": [
          -0.11495218044397325,
          0.027268284269077726,
          null
         ]
        },
        {
         "hoverinfo": "text",
         "line": {
          "color": "cornflowerblue",
          "width": 5.31566600488265
         },
         "mode": "lines",
         "text": [
          "Create Invoice cancellation--Clear Credit Memo"
         ],
         "type": "scatter",
         "x": [
          0.08656877822062127,
          0.3088639038075001,
          null
         ],
         "y": [
          -0.11495218044397325,
          -0.07361643744726096,
          null
         ]
        },
        {
         "hoverinfo": "text",
         "line": {
          "color": "cornflowerblue",
          "width": 6.457214349982881
         },
         "mode": "lines",
         "text": [
          "Create Invoice cancellation--Cancel Reason for Rejection"
         ],
         "type": "scatter",
         "x": [
          0.08656877822062127,
          -0.1713416255106839,
          null
         ],
         "y": [
          -0.11495218044397325,
          -0.03347457892650524,
          null
         ]
        },
        {
         "hoverinfo": "text",
         "line": {
          "color": "cornflowerblue",
          "width": 6.238910390945157
         },
         "mode": "lines",
         "text": [
          "Create Invoice cancellation--Change Requested Goods Issue Date"
         ],
         "type": "scatter",
         "x": [
          0.08656877822062127,
          -0.06728640707088565,
          null
         ],
         "y": [
          -0.11495218044397325,
          -0.11583308886210894,
          null
         ]
        },
        {
         "hoverinfo": "text",
         "line": {
          "color": "cornflowerblue",
          "width": 6.304265970352727
         },
         "mode": "lines",
         "text": [
          "Create Invoice cancellation--Change Reason for Rejection"
         ],
         "type": "scatter",
         "x": [
          0.08656877822062127,
          -0.1329923460541953,
          null
         ],
         "y": [
          -0.11495218044397325,
          0.16637033138116322,
          null
         ]
        },
        {
         "hoverinfo": "text",
         "line": {
          "color": "cornflowerblue",
          "width": 6.558008659630317
         },
         "mode": "lines",
         "text": [
          "Create Invoice cancellation--Change Delivery Grouping"
         ],
         "type": "scatter",
         "x": [
          0.08656877822062127,
          -0.1589274296008866,
          null
         ],
         "y": [
          -0.11495218044397325,
          0.0016237800191684357,
          null
         ]
        },
        {
         "hoverinfo": "text",
         "line": {
          "color": "cornflowerblue",
          "width": 6.702144624210229
         },
         "mode": "lines",
         "text": [
          "Create Invoice cancellation--Customer Acceptance (L650)"
         ],
         "type": "scatter",
         "x": [
          0.08656877822062127,
          -0.1725870841102398,
          null
         ],
         "y": [
          -0.11495218044397325,
          -0.24369615140160536,
          null
         ]
        },
        {
         "hoverinfo": "text",
         "line": {
          "color": "cornflowerblue",
          "width": 2.192584197779717
         },
         "mode": "lines",
         "text": [
          "Create Invoice cancellation--Create Returns delivery for order"
         ],
         "type": "scatter",
         "x": [
          0.08656877822062127,
          0.08383999610658,
          null
         ],
         "y": [
          -0.11495218044397325,
          -0.028146529453390672,
          null
         ]
        },
        {
         "hoverinfo": "text",
         "line": {
          "color": "cornflowerblue",
          "width": 6.579309080706046
         },
         "mode": "lines",
         "text": [
          "Create Invoice cancellation--Change Inco Terms (Part 1)"
         ],
         "type": "scatter",
         "x": [
          0.08656877822062127,
          -0.06405663485270553,
          null
         ],
         "y": [
          -0.11495218044397325,
          -0.20742830658080527,
          null
         ]
        },
        {
         "hoverinfo": "text",
         "line": {
          "color": "cornflowerblue",
          "width": 6.255606077456264
         },
         "mode": "lines",
         "text": [
          "Create Invoice cancellation--Create Pro forma invoice"
         ],
         "type": "scatter",
         "x": [
          0.08656877822062127,
          0.020153840383762067,
          null
         ],
         "y": [
          -0.11495218044397325,
          0.04841294718093922,
          null
         ]
        },
        {
         "hoverinfo": "text",
         "line": {
          "color": "cornflowerblue",
          "width": 6.569960501522542
         },
         "mode": "lines",
         "text": [
          "Create Invoice cancellation--Create Intercompany credit memo"
         ],
         "type": "scatter",
         "x": [
          0.08656877822062127,
          0.008571203167793716,
          null
         ],
         "y": [
          -0.11495218044397325,
          -0.2258729994276078,
          null
         ]
        },
        {
         "hoverinfo": "text",
         "line": {
          "color": "cornflowerblue",
          "width": 6.759554916407341
         },
         "mode": "lines",
         "text": [
          "Create Invoice cancellation--Create Shipment"
         ],
         "type": "scatter",
         "x": [
          0.08656877822062127,
          0.13549968408565216,
          null
         ],
         "y": [
          -0.11495218044397325,
          -0.03621926643088185,
          null
         ]
        },
        {
         "hoverinfo": "text",
         "line": {
          "color": "cornflowerblue",
          "width": 6.348614378269926
         },
         "mode": "lines",
         "text": [
          "Create Invoice cancellation--Set Delivery Block"
         ],
         "type": "scatter",
         "x": [
          0.08656877822062127,
          0.060439448504209126,
          null
         ],
         "y": [
          -0.11495218044397325,
          -0.1641885374509435,
          null
         ]
        },
        {
         "hoverinfo": "text",
         "line": {
          "color": "cornflowerblue",
          "width": 6.793877109402965
         },
         "mode": "lines",
         "text": [
          "Change Requested Quantity--Change Material Availability Date"
         ],
         "type": "scatter",
         "x": [
          -0.03191216289795912,
          -0.057483588782378345,
          null
         ],
         "y": [
          -0.11649828164252744,
          -0.07205714767902631,
          null
         ]
        },
        {
         "hoverinfo": "text",
         "line": {
          "color": "cornflowerblue",
          "width": 5.012633296758929
         },
         "mode": "lines",
         "text": [
          "Change Requested Quantity--Change Requested Goods Issue Date"
         ],
         "type": "scatter",
         "x": [
          -0.03191216289795912,
          -0.06728640707088565,
          null
         ],
         "y": [
          -0.11649828164252744,
          -0.11583308886210894,
          null
         ]
        },
        {
         "hoverinfo": "text",
         "line": {
          "color": "cornflowerblue",
          "width": 6.157702593774488
         },
         "mode": "lines",
         "text": [
          "Change Requested Quantity--Change Confirmed Quantity"
         ],
         "type": "scatter",
         "x": [
          -0.03191216289795912,
          -0.11035131812659899,
          null
         ],
         "y": [
          -0.11649828164252744,
          -0.05866993943082722,
          null
         ]
        },
        {
         "hoverinfo": "text",
         "line": {
          "color": "cornflowerblue",
          "width": 6.951987452227608
         },
         "mode": "lines",
         "text": [
          "Change Requested Quantity--Change Payment Terms"
         ],
         "type": "scatter",
         "x": [
          -0.03191216289795912,
          -0.04811715829223775,
          null
         ],
         "y": [
          -0.11649828164252744,
          -0.16151611140258565,
          null
         ]
        },
        {
         "hoverinfo": "text",
         "line": {
          "color": "cornflowerblue",
          "width": 6.6565979812127285
         },
         "mode": "lines",
         "text": [
          "Change Requested Quantity--Customer Acceptance (L650)"
         ],
         "type": "scatter",
         "x": [
          -0.03191216289795912,
          -0.1725870841102398,
          null
         ],
         "y": [
          -0.11649828164252744,
          -0.24369615140160536,
          null
         ]
        },
        {
         "hoverinfo": "text",
         "line": {
          "color": "cornflowerblue",
          "width": 6.406591165486778
         },
         "mode": "lines",
         "text": [
          "Change Requested Quantity--Change Inco Terms (Part 1)"
         ],
         "type": "scatter",
         "x": [
          -0.03191216289795912,
          -0.06405663485270553,
          null
         ],
         "y": [
          -0.11649828164252744,
          -0.20742830658080527,
          null
         ]
        },
        {
         "hoverinfo": "text",
         "line": {
          "color": "cornflowerblue",
          "width": 6.35561564152616
         },
         "mode": "lines",
         "text": [
          "Change Requested Quantity--Cancel Reason for Rejection"
         ],
         "type": "scatter",
         "x": [
          -0.03191216289795912,
          -0.1713416255106839,
          null
         ],
         "y": [
          -0.11649828164252744,
          -0.03347457892650524,
          null
         ]
        },
        {
         "hoverinfo": "text",
         "line": {
          "color": "cornflowerblue",
          "width": 6.570544436325297
         },
         "mode": "lines",
         "text": [
          "Change Requested Quantity--Change Confirmed Goods Issue Date"
         ],
         "type": "scatter",
         "x": [
          -0.03191216289795912,
          -0.06032875122517457,
          null
         ],
         "y": [
          -0.11649828164252744,
          0.02292633874076355,
          null
         ]
        },
        {
         "hoverinfo": "text",
         "line": {
          "color": "cornflowerblue",
          "width": 6.232366153343895
         },
         "mode": "lines",
         "text": [
          "Change Requested Quantity--Create Delivery"
         ],
         "type": "scatter",
         "x": [
          -0.03191216289795912,
          -0.012615544154824417,
          null
         ],
         "y": [
          -0.11649828164252744,
          0.014383872923265805,
          null
         ]
        },
        {
         "hoverinfo": "text",
         "line": {
          "color": "cornflowerblue",
          "width": 5.188595502168425
         },
         "mode": "lines",
         "text": [
          "Change Requested Quantity--Change Requested Delivery Date"
         ],
         "type": "scatter",
         "x": [
          -0.03191216289795912,
          -0.10705315947754912,
          null
         ],
         "y": [
          -0.11649828164252744,
          -0.15443925700666747,
          null
         ]
        },
        {
         "hoverinfo": "text",
         "line": {
          "color": "cornflowerblue",
          "width": 6.948793250177751
         },
         "mode": "lines",
         "text": [
          "Change Requested Quantity--Create Purchase Order"
         ],
         "type": "scatter",
         "x": [
          -0.03191216289795912,
          -0.10545432009503505,
          null
         ],
         "y": [
          -0.11649828164252744,
          -0.09850709740293291,
          null
         ]
        },
        {
         "hoverinfo": "text",
         "line": {
          "color": "cornflowerblue",
          "width": 3.4457457579232242
         },
         "mode": "lines",
         "text": [
          "Change Requested Quantity--Change Delivery Grouping"
         ],
         "type": "scatter",
         "x": [
          -0.03191216289795912,
          -0.1589274296008866,
          null
         ],
         "y": [
          -0.11649828164252744,
          0.0016237800191684357,
          null
         ]
        },
        {
         "hoverinfo": "text",
         "line": {
          "color": "cornflowerblue",
          "width": 6.355253708219279
         },
         "mode": "lines",
         "text": [
          "Change Requested Quantity--Change WBS element"
         ],
         "type": "scatter",
         "x": [
          -0.03191216289795912,
          -0.2947669953276553,
          null
         ],
         "y": [
          -0.11649828164252744,
          -0.1309282510652095,
          null
         ]
        },
        {
         "hoverinfo": "text",
         "line": {
          "color": "cornflowerblue",
          "width": 3.3059705317191344
         },
         "mode": "lines",
         "text": [
          "Change Requested Quantity--Remove Delivery Block"
         ],
         "type": "scatter",
         "x": [
          -0.03191216289795912,
          -0.15543868292748345,
          null
         ],
         "y": [
          -0.11649828164252744,
          -0.06736765946384478,
          null
         ]
        },
        {
         "hoverinfo": "text",
         "line": {
          "color": "cornflowerblue",
          "width": 0.056695343676545294
         },
         "mode": "lines",
         "text": [
          "Change Requested Quantity--Set Delivery Block"
         ],
         "type": "scatter",
         "x": [
          -0.03191216289795912,
          0.060439448504209126,
          null
         ],
         "y": [
          -0.11649828164252744,
          -0.1641885374509435,
          null
         ]
        },
        {
         "hoverinfo": "text",
         "line": {
          "color": "cornflowerblue",
          "width": 4.387221451550985
         },
         "mode": "lines",
         "text": [
          "Change Requested Quantity--Change Material"
         ],
         "type": "scatter",
         "x": [
          -0.03191216289795912,
          -0.09746144469076383,
          null
         ],
         "y": [
          -0.11649828164252744,
          0.07981998593333302,
          null
         ]
        },
        {
         "hoverinfo": "text",
         "line": {
          "color": "cornflowerblue",
          "width": 6.34671764737257
         },
         "mode": "lines",
         "text": [
          "Change Requested Quantity--Set Initial Delivery Block"
         ],
         "type": "scatter",
         "x": [
          -0.03191216289795912,
          -0.175647569371099,
          null
         ],
         "y": [
          -0.11649828164252744,
          -0.1063361366010542,
          null
         ]
        },
        {
         "hoverinfo": "text",
         "line": {
          "color": "cornflowerblue",
          "width": 6.886991189629409
         },
         "mode": "lines",
         "text": [
          "Change Requested Quantity--Change Confirmed Delivery Date"
         ],
         "type": "scatter",
         "x": [
          -0.03191216289795912,
          0.04129574492817072,
          null
         ],
         "y": [
          -0.11649828164252744,
          0.007345246826011747,
          null
         ]
        },
        {
         "hoverinfo": "text",
         "line": {
          "color": "cornflowerblue",
          "width": 6.386430284779438
         },
         "mode": "lines",
         "text": [
          "Change Requested Quantity--Change Item Category"
         ],
         "type": "scatter",
         "x": [
          -0.03191216289795912,
          -0.19046702188185693,
          null
         ],
         "y": [
          -0.11649828164252744,
          0.06648488050147651,
          null
         ]
        },
        {
         "hoverinfo": "text",
         "line": {
          "color": "cornflowerblue",
          "width": 6.092572282501599
         },
         "mode": "lines",
         "text": [
          "Change Requested Quantity--Create Intercompany invoice"
         ],
         "type": "scatter",
         "x": [
          -0.03191216289795912,
          0.07495999171979624,
          null
         ],
         "y": [
          -0.11649828164252744,
          -0.07204009369815284,
          null
         ]
        },
        {
         "hoverinfo": "text",
         "line": {
          "color": "cornflowerblue",
          "width": 6.934372866886407
         },
         "mode": "lines",
         "text": [
          "Change Requested Quantity--Record Goods Issue"
         ],
         "type": "scatter",
         "x": [
          -0.03191216289795912,
          -0.00230069740355961,
          null
         ],
         "y": [
          -0.11649828164252744,
          -0.013244841929723427,
          null
         ]
        },
        {
         "hoverinfo": "text",
         "line": {
          "color": "cornflowerblue",
          "width": 6.660564479701668
         },
         "mode": "lines",
         "text": [
          "Change Requested Quantity--Create Returns delivery for order"
         ],
         "type": "scatter",
         "x": [
          -0.03191216289795912,
          0.08383999610658,
          null
         ],
         "y": [
          -0.11649828164252744,
          -0.028146529453390672,
          null
         ]
        },
        {
         "hoverinfo": "text",
         "line": {
          "color": "cornflowerblue",
          "width": 6.547132074721105
         },
         "mode": "lines",
         "text": [
          "Change Requested Quantity--Create Credit memo"
         ],
         "type": "scatter",
         "x": [
          -0.03191216289795912,
          0.13059550114804544,
          null
         ],
         "y": [
          -0.11649828164252744,
          -0.08633072544484394,
          null
         ]
        },
        {
         "hoverinfo": "text",
         "line": {
          "color": "cornflowerblue",
          "width": 5.497748657902495
         },
         "mode": "lines",
         "text": [
          "Change Requested Quantity--Create Credit memo cancellation"
         ],
         "type": "scatter",
         "x": [
          -0.03191216289795912,
          0.13269682438952626,
          null
         ],
         "y": [
          -0.11649828164252744,
          -0.2135544141778976,
          null
         ]
        },
        {
         "hoverinfo": "text",
         "line": {
          "color": "cornflowerblue",
          "width": 6.5900606346842885
         },
         "mode": "lines",
         "text": [
          "Change Requested Quantity--Create Pro forma invoice"
         ],
         "type": "scatter",
         "x": [
          -0.03191216289795912,
          0.020153840383762067,
          null
         ],
         "y": [
          -0.11649828164252744,
          0.04841294718093922,
          null
         ]
        },
        {
         "hoverinfo": "text",
         "line": {
          "color": "cornflowerblue",
          "width": 6.21410797338051
         },
         "mode": "lines",
         "text": [
          "Change Requested Quantity--Create Intercompany credit memo"
         ],
         "type": "scatter",
         "x": [
          -0.03191216289795912,
          0.008571203167793716,
          null
         ],
         "y": [
          -0.11649828164252744,
          -0.2258729994276078,
          null
         ]
        },
        {
         "hoverinfo": "text",
         "line": {
          "color": "cornflowerblue",
          "width": 6.220291914890489
         },
         "mode": "lines",
         "text": [
          "Change Requested Quantity--Record Return Goods Receipt"
         ],
         "type": "scatter",
         "x": [
          -0.03191216289795912,
          0.022926828201015118,
          null
         ],
         "y": [
          -0.11649828164252744,
          -0.18102982957917835,
          null
         ]
        },
        {
         "hoverinfo": "text",
         "line": {
          "color": "cornflowerblue",
          "width": 6.6051964272999255
         },
         "mode": "lines",
         "text": [
          "Change Requested Quantity--Create Shipment"
         ],
         "type": "scatter",
         "x": [
          -0.03191216289795912,
          0.13549968408565216,
          null
         ],
         "y": [
          -0.11649828164252744,
          -0.03621926643088185,
          null
         ]
        },
        {
         "hoverinfo": "text",
         "line": {
          "color": "cornflowerblue",
          "width": 6.775166299289872
         },
         "mode": "lines",
         "text": [
          "Change Requested Quantity--Clear Invoice"
         ],
         "type": "scatter",
         "x": [
          -0.03191216289795912,
          0.08028618362315233,
          null
         ],
         "y": [
          -0.11649828164252744,
          0.08527563812700825,
          null
         ]
        },
        {
         "hoverinfo": "text",
         "line": {
          "color": "cornflowerblue",
          "width": 6.544882597254451
         },
         "mode": "lines",
         "text": [
          "Change Requested Quantity--Cancel Goods Issue"
         ],
         "type": "scatter",
         "x": [
          -0.03191216289795912,
          0.12202006477317892,
          null
         ],
         "y": [
          -0.11649828164252744,
          0.027268284269077726,
          null
         ]
        },
        {
         "hoverinfo": "text",
         "line": {
          "color": "cornflowerblue",
          "width": 0
         },
         "mode": "lines",
         "text": [
          "Change Material Availability Date--Change Confirmed Goods Issue Date"
         ],
         "type": "scatter",
         "x": [
          -0.057483588782378345,
          -0.06032875122517457,
          null
         ],
         "y": [
          -0.07205714767902631,
          0.02292633874076355,
          null
         ]
        },
        {
         "hoverinfo": "text",
         "line": {
          "color": "cornflowerblue",
          "width": 5.81780536339268
         },
         "mode": "lines",
         "text": [
          "Change Material Availability Date--Change Confirmed Delivery Date"
         ],
         "type": "scatter",
         "x": [
          -0.057483588782378345,
          0.04129574492817072,
          null
         ],
         "y": [
          -0.07205714767902631,
          0.007345246826011747,
          null
         ]
        },
        {
         "hoverinfo": "text",
         "line": {
          "color": "cornflowerblue",
          "width": 4.980519670191632
         },
         "mode": "lines",
         "text": [
          "Change Material Availability Date--Change Confirmed Quantity"
         ],
         "type": "scatter",
         "x": [
          -0.057483588782378345,
          -0.11035131812659899,
          null
         ],
         "y": [
          -0.07205714767902631,
          -0.05866993943082722,
          null
         ]
        },
        {
         "hoverinfo": "text",
         "line": {
          "color": "cornflowerblue",
          "width": 4.295696843533653
         },
         "mode": "lines",
         "text": [
          "Change Material Availability Date--Change Requested Goods Issue Date"
         ],
         "type": "scatter",
         "x": [
          -0.057483588782378345,
          -0.06728640707088565,
          null
         ],
         "y": [
          -0.07205714767902631,
          -0.11583308886210894,
          null
         ]
        },
        {
         "hoverinfo": "text",
         "line": {
          "color": "cornflowerblue",
          "width": 6.728369408840276
         },
         "mode": "lines",
         "text": [
          "Change Material Availability Date--Create Delivery"
         ],
         "type": "scatter",
         "x": [
          -0.057483588782378345,
          -0.012615544154824417,
          null
         ],
         "y": [
          -0.07205714767902631,
          0.014383872923265805,
          null
         ]
        },
        {
         "hoverinfo": "text",
         "line": {
          "color": "cornflowerblue",
          "width": 5.147833566602833
         },
         "mode": "lines",
         "text": [
          "Change Material Availability Date--Cancel Reason for Rejection"
         ],
         "type": "scatter",
         "x": [
          -0.057483588782378345,
          -0.1713416255106839,
          null
         ],
         "y": [
          -0.07205714767902631,
          -0.03347457892650524,
          null
         ]
        },
        {
         "hoverinfo": "text",
         "line": {
          "color": "cornflowerblue",
          "width": 6.4735434138344585
         },
         "mode": "lines",
         "text": [
          "Change Material Availability Date--Change Payment Terms"
         ],
         "type": "scatter",
         "x": [
          -0.057483588782378345,
          -0.04811715829223775,
          null
         ],
         "y": [
          -0.07205714767902631,
          -0.16151611140258565,
          null
         ]
        },
        {
         "hoverinfo": "text",
         "line": {
          "color": "cornflowerblue",
          "width": 6.580639137284949
         },
         "mode": "lines",
         "text": [
          "Change Material Availability Date--Change Inco Terms (Part 1)"
         ],
         "type": "scatter",
         "x": [
          -0.057483588782378345,
          -0.06405663485270553,
          null
         ],
         "y": [
          -0.07205714767902631,
          -0.20742830658080527,
          null
         ]
        },
        {
         "hoverinfo": "text",
         "line": {
          "color": "cornflowerblue",
          "width": 5.925124404023783
         },
         "mode": "lines",
         "text": [
          "Change Material Availability Date--Record Return Goods Receipt"
         ],
         "type": "scatter",
         "x": [
          -0.057483588782378345,
          0.022926828201015118,
          null
         ],
         "y": [
          -0.07205714767902631,
          -0.18102982957917835,
          null
         ]
        },
        {
         "hoverinfo": "text",
         "line": {
          "color": "cornflowerblue",
          "width": 5.727607502331509
         },
         "mode": "lines",
         "text": [
          "Change Material Availability Date--Change Requested Delivery Date"
         ],
         "type": "scatter",
         "x": [
          -0.057483588782378345,
          -0.10705315947754912,
          null
         ],
         "y": [
          -0.07205714767902631,
          -0.15443925700666747,
          null
         ]
        },
        {
         "hoverinfo": "text",
         "line": {
          "color": "cornflowerblue",
          "width": 2.3345681388470965
         },
         "mode": "lines",
         "text": [
          "Change Material Availability Date--Change Delivery Grouping"
         ],
         "type": "scatter",
         "x": [
          -0.057483588782378345,
          -0.1589274296008866,
          null
         ],
         "y": [
          -0.07205714767902631,
          0.0016237800191684357,
          null
         ]
        },
        {
         "hoverinfo": "text",
         "line": {
          "color": "cornflowerblue",
          "width": 6.338594078203183
         },
         "mode": "lines",
         "text": [
          "Change Material Availability Date--Change WBS element"
         ],
         "type": "scatter",
         "x": [
          -0.057483588782378345,
          -0.2947669953276553,
          null
         ],
         "y": [
          -0.07205714767902631,
          -0.1309282510652095,
          null
         ]
        },
        {
         "hoverinfo": "text",
         "line": {
          "color": "cornflowerblue",
          "width": 6.108061694691796
         },
         "mode": "lines",
         "text": [
          "Change Material Availability Date--Remove Delivery Block"
         ],
         "type": "scatter",
         "x": [
          -0.057483588782378345,
          -0.15543868292748345,
          null
         ],
         "y": [
          -0.07205714767902631,
          -0.06736765946384478,
          null
         ]
        },
        {
         "hoverinfo": "text",
         "line": {
          "color": "cornflowerblue",
          "width": 5.411125082840913
         },
         "mode": "lines",
         "text": [
          "Change Material Availability Date--Set Initial Delivery Block"
         ],
         "type": "scatter",
         "x": [
          -0.057483588782378345,
          -0.175647569371099,
          null
         ],
         "y": [
          -0.07205714767902631,
          -0.1063361366010542,
          null
         ]
        },
        {
         "hoverinfo": "text",
         "line": {
          "color": "cornflowerblue",
          "width": 3.20172966603323
         },
         "mode": "lines",
         "text": [
          "Change Material Availability Date--Change Material"
         ],
         "type": "scatter",
         "x": [
          -0.057483588782378345,
          -0.09746144469076383,
          null
         ],
         "y": [
          -0.07205714767902631,
          0.07981998593333302,
          null
         ]
        },
        {
         "hoverinfo": "text",
         "line": {
          "color": "cornflowerblue",
          "width": 6.298719441040844
         },
         "mode": "lines",
         "text": [
          "Change Material Availability Date--Change Item Category"
         ],
         "type": "scatter",
         "x": [
          -0.057483588782378345,
          -0.19046702188185693,
          null
         ],
         "y": [
          -0.07205714767902631,
          0.06648488050147651,
          null
         ]
        },
        {
         "hoverinfo": "text",
         "line": {
          "color": "cornflowerblue",
          "width": 6.2794434505011
         },
         "mode": "lines",
         "text": [
          "Change Material Availability Date--Create Intercompany invoice"
         ],
         "type": "scatter",
         "x": [
          -0.057483588782378345,
          0.07495999171979624,
          null
         ],
         "y": [
          -0.07205714767902631,
          -0.07204009369815284,
          null
         ]
        },
        {
         "hoverinfo": "text",
         "line": {
          "color": "cornflowerblue",
          "width": 6.526604663205401
         },
         "mode": "lines",
         "text": [
          "Change Material Availability Date--Create Purchase Order"
         ],
         "type": "scatter",
         "x": [
          -0.057483588782378345,
          -0.10545432009503505,
          null
         ],
         "y": [
          -0.07205714767902631,
          -0.09850709740293291,
          null
         ]
        },
        {
         "hoverinfo": "text",
         "line": {
          "color": "cornflowerblue",
          "width": 6.5407533856593325
         },
         "mode": "lines",
         "text": [
          "Change Material Availability Date--Cancel Goods Issue"
         ],
         "type": "scatter",
         "x": [
          -0.057483588782378345,
          0.12202006477317892,
          null
         ],
         "y": [
          -0.07205714767902631,
          0.027268284269077726,
          null
         ]
        },
        {
         "hoverinfo": "text",
         "line": {
          "color": "cornflowerblue",
          "width": 5.482477509883198
         },
         "mode": "lines",
         "text": [
          "Change Material Availability Date--Create Returns delivery for order"
         ],
         "type": "scatter",
         "x": [
          -0.057483588782378345,
          0.08383999610658,
          null
         ],
         "y": [
          -0.07205714767902631,
          -0.028146529453390672,
          null
         ]
        },
        {
         "hoverinfo": "text",
         "line": {
          "color": "cornflowerblue",
          "width": 6.861135258346911
         },
         "mode": "lines",
         "text": [
          "Change Material Availability Date--Create Intercompany credit memo"
         ],
         "type": "scatter",
         "x": [
          -0.057483588782378345,
          0.008571203167793716,
          null
         ],
         "y": [
          -0.07205714767902631,
          -0.2258729994276078,
          null
         ]
        },
        {
         "hoverinfo": "text",
         "line": {
          "color": "cornflowerblue",
          "width": 6.20089787468894
         },
         "mode": "lines",
         "text": [
          "Change Material Availability Date--Customer Acceptance (L650)"
         ],
         "type": "scatter",
         "x": [
          -0.057483588782378345,
          -0.1725870841102398,
          null
         ],
         "y": [
          -0.07205714767902631,
          -0.24369615140160536,
          null
         ]
        },
        {
         "hoverinfo": "text",
         "line": {
          "color": "cornflowerblue",
          "width": 7.249528914513193
         },
         "mode": "lines",
         "text": [
          "Change Material Availability Date--Set Delivery Block"
         ],
         "type": "scatter",
         "x": [
          -0.057483588782378345,
          0.060439448504209126,
          null
         ],
         "y": [
          -0.07205714767902631,
          -0.1641885374509435,
          null
         ]
        },
        {
         "hoverinfo": "text",
         "line": {
          "color": "cornflowerblue",
          "width": 6.705567692882138
         },
         "mode": "lines",
         "text": [
          "Change Material Availability Date--Create Pro forma invoice"
         ],
         "type": "scatter",
         "x": [
          -0.057483588782378345,
          0.020153840383762067,
          null
         ],
         "y": [
          -0.07205714767902631,
          0.04841294718093922,
          null
         ]
        },
        {
         "hoverinfo": "text",
         "line": {
          "color": "cornflowerblue",
          "width": 5.881603177043288
         },
         "mode": "lines",
         "text": [
          "Change Material Availability Date--Record Goods Issue"
         ],
         "type": "scatter",
         "x": [
          -0.057483588782378345,
          -0.00230069740355961,
          null
         ],
         "y": [
          -0.07205714767902631,
          -0.013244841929723427,
          null
         ]
        },
        {
         "hoverinfo": "text",
         "line": {
          "color": "cornflowerblue",
          "width": 6.087342747376315
         },
         "mode": "lines",
         "text": [
          "Change Material Availability Date--Create Shipment"
         ],
         "type": "scatter",
         "x": [
          -0.057483588782378345,
          0.13549968408565216,
          null
         ],
         "y": [
          -0.07205714767902631,
          -0.03621926643088185,
          null
         ]
        },
        {
         "hoverinfo": "text",
         "line": {
          "color": "cornflowerblue",
          "width": 6.580142018827571
         },
         "mode": "lines",
         "text": [
          "Change Material Availability Date--Create Credit memo"
         ],
         "type": "scatter",
         "x": [
          -0.057483588782378345,
          0.13059550114804544,
          null
         ],
         "y": [
          -0.07205714767902631,
          -0.08633072544484394,
          null
         ]
        },
        {
         "hoverinfo": "text",
         "line": {
          "color": "cornflowerblue",
          "width": 6.226520200113641
         },
         "mode": "lines",
         "text": [
          "Change Material Availability Date--Clear Invoice"
         ],
         "type": "scatter",
         "x": [
          -0.057483588782378345,
          0.08028618362315233,
          null
         ],
         "y": [
          -0.07205714767902631,
          0.08527563812700825,
          null
         ]
        },
        {
         "hoverinfo": "text",
         "line": {
          "color": "cornflowerblue",
          "width": 0
         },
         "mode": "lines",
         "text": [
          "Change Confirmed Goods Issue Date--Change Confirmed Delivery Date"
         ],
         "type": "scatter",
         "x": [
          -0.06032875122517457,
          0.04129574492817072,
          null
         ],
         "y": [
          0.02292633874076355,
          0.007345246826011747,
          null
         ]
        },
        {
         "hoverinfo": "text",
         "line": {
          "color": "cornflowerblue",
          "width": 7.013982918579311
         },
         "mode": "lines",
         "text": [
          "Change Confirmed Goods Issue Date--Change Confirmed Quantity"
         ],
         "type": "scatter",
         "x": [
          -0.06032875122517457,
          -0.11035131812659899,
          null
         ],
         "y": [
          0.02292633874076355,
          -0.05866993943082722,
          null
         ]
        },
        {
         "hoverinfo": "text",
         "line": {
          "color": "cornflowerblue",
          "width": 6.573319301111518
         },
         "mode": "lines",
         "text": [
          "Change Confirmed Goods Issue Date--Cancel Reason for Rejection"
         ],
         "type": "scatter",
         "x": [
          -0.06032875122517457,
          -0.1713416255106839,
          null
         ],
         "y": [
          0.02292633874076355,
          -0.03347457892650524,
          null
         ]
        },
        {
         "hoverinfo": "text",
         "line": {
          "color": "cornflowerblue",
          "width": 6.577954074794962
         },
         "mode": "lines",
         "text": [
          "Change Confirmed Goods Issue Date--Create Delivery"
         ],
         "type": "scatter",
         "x": [
          -0.06032875122517457,
          -0.012615544154824417,
          null
         ],
         "y": [
          0.02292633874076355,
          0.014383872923265805,
          null
         ]
        },
        {
         "hoverinfo": "text",
         "line": {
          "color": "cornflowerblue",
          "width": 0
         },
         "mode": "lines",
         "text": [
          "Change Confirmed Goods Issue Date--Change Requested Goods Issue Date"
         ],
         "type": "scatter",
         "x": [
          -0.06032875122517457,
          -0.06728640707088565,
          null
         ],
         "y": [
          0.02292633874076355,
          -0.11583308886210894,
          null
         ]
        },
        {
         "hoverinfo": "text",
         "line": {
          "color": "cornflowerblue",
          "width": 6.40491160343001
         },
         "mode": "lines",
         "text": [
          "Change Confirmed Goods Issue Date--Change Payment Terms"
         ],
         "type": "scatter",
         "x": [
          -0.06032875122517457,
          -0.04811715829223775,
          null
         ],
         "y": [
          0.02292633874076355,
          -0.16151611140258565,
          null
         ]
        },
        {
         "hoverinfo": "text",
         "line": {
          "color": "cornflowerblue",
          "width": 6.571652973927804
         },
         "mode": "lines",
         "text": [
          "Change Confirmed Goods Issue Date--Change Material"
         ],
         "type": "scatter",
         "x": [
          -0.06032875122517457,
          -0.09746144469076383,
          null
         ],
         "y": [
          0.02292633874076355,
          0.07981998593333302,
          null
         ]
        },
        {
         "hoverinfo": "text",
         "line": {
          "color": "cornflowerblue",
          "width": 6.279568405595525
         },
         "mode": "lines",
         "text": [
          "Change Confirmed Goods Issue Date--Change Item Category"
         ],
         "type": "scatter",
         "x": [
          -0.06032875122517457,
          -0.19046702188185693,
          null
         ],
         "y": [
          0.02292633874076355,
          0.06648488050147651,
          null
         ]
        },
        {
         "hoverinfo": "text",
         "line": {
          "color": "cornflowerblue",
          "width": 0
         },
         "mode": "lines",
         "text": [
          "Change Confirmed Goods Issue Date--Change Requested Delivery Date"
         ],
         "type": "scatter",
         "x": [
          -0.06032875122517457,
          -0.10705315947754912,
          null
         ],
         "y": [
          0.02292633874076355,
          -0.15443925700666747,
          null
         ]
        },
        {
         "hoverinfo": "text",
         "line": {
          "color": "cornflowerblue",
          "width": 6.5774788088979355
         },
         "mode": "lines",
         "text": [
          "Change Confirmed Goods Issue Date--Remove Delivery Block"
         ],
         "type": "scatter",
         "x": [
          -0.06032875122517457,
          -0.15543868292748345,
          null
         ],
         "y": [
          0.02292633874076355,
          -0.06736765946384478,
          null
         ]
        },
        {
         "hoverinfo": "text",
         "line": {
          "color": "cornflowerblue",
          "width": 6.916417652060789
         },
         "mode": "lines",
         "text": [
          "Change Confirmed Goods Issue Date--Create Intercompany invoice"
         ],
         "type": "scatter",
         "x": [
          -0.06032875122517457,
          0.07495999171979624,
          null
         ],
         "y": [
          0.02292633874076355,
          -0.07204009369815284,
          null
         ]
        },
        {
         "hoverinfo": "text",
         "line": {
          "color": "cornflowerblue",
          "width": 2.5617390818312886
         },
         "mode": "lines",
         "text": [
          "Change Confirmed Goods Issue Date--Set Initial Delivery Block"
         ],
         "type": "scatter",
         "x": [
          -0.06032875122517457,
          -0.175647569371099,
          null
         ],
         "y": [
          0.02292633874076355,
          -0.1063361366010542,
          null
         ]
        },
        {
         "hoverinfo": "text",
         "line": {
          "color": "cornflowerblue",
          "width": 3.3244363205286933
         },
         "mode": "lines",
         "text": [
          "Change Confirmed Goods Issue Date--Change Delivery Grouping"
         ],
         "type": "scatter",
         "x": [
          -0.06032875122517457,
          -0.1589274296008866,
          null
         ],
         "y": [
          0.02292633874076355,
          0.0016237800191684357,
          null
         ]
        },
        {
         "hoverinfo": "text",
         "line": {
          "color": "cornflowerblue",
          "width": 5.257278334587971
         },
         "mode": "lines",
         "text": [
          "Change Confirmed Goods Issue Date--Create Pro forma invoice"
         ],
         "type": "scatter",
         "x": [
          -0.06032875122517457,
          0.020153840383762067,
          null
         ],
         "y": [
          0.02292633874076355,
          0.04841294718093922,
          null
         ]
        },
        {
         "hoverinfo": "text",
         "line": {
          "color": "cornflowerblue",
          "width": 6.4530867963448975
         },
         "mode": "lines",
         "text": [
          "Change Confirmed Goods Issue Date--Record Goods Issue"
         ],
         "type": "scatter",
         "x": [
          -0.06032875122517457,
          -0.00230069740355961,
          null
         ],
         "y": [
          0.02292633874076355,
          -0.013244841929723427,
          null
         ]
        },
        {
         "hoverinfo": "text",
         "line": {
          "color": "cornflowerblue",
          "width": 7.060526436277022
         },
         "mode": "lines",
         "text": [
          "Change Confirmed Goods Issue Date--Create Purchase Order"
         ],
         "type": "scatter",
         "x": [
          -0.06032875122517457,
          -0.10545432009503505,
          null
         ],
         "y": [
          0.02292633874076355,
          -0.09850709740293291,
          null
         ]
        },
        {
         "hoverinfo": "text",
         "line": {
          "color": "cornflowerblue",
          "width": 6.856812800244562
         },
         "mode": "lines",
         "text": [
          "Change Confirmed Goods Issue Date--Create Credit memo"
         ],
         "type": "scatter",
         "x": [
          -0.06032875122517457,
          0.13059550114804544,
          null
         ],
         "y": [
          0.02292633874076355,
          -0.08633072544484394,
          null
         ]
        },
        {
         "hoverinfo": "text",
         "line": {
          "color": "cornflowerblue",
          "width": 4.33990170837321
         },
         "mode": "lines",
         "text": [
          "Change Confirmed Goods Issue Date--Clear Invoice"
         ],
         "type": "scatter",
         "x": [
          -0.06032875122517457,
          0.08028618362315233,
          null
         ],
         "y": [
          0.02292633874076355,
          0.08527563812700825,
          null
         ]
        },
        {
         "hoverinfo": "text",
         "line": {
          "color": "cornflowerblue",
          "width": 7.236393336976975
         },
         "mode": "lines",
         "text": [
          "Change Confirmed Goods Issue Date--Create Returns delivery for order"
         ],
         "type": "scatter",
         "x": [
          -0.06032875122517457,
          0.08383999610658,
          null
         ],
         "y": [
          0.02292633874076355,
          -0.028146529453390672,
          null
         ]
        },
        {
         "hoverinfo": "text",
         "line": {
          "color": "cornflowerblue",
          "width": 0
         },
         "mode": "lines",
         "text": [
          "Change Confirmed Goods Issue Date--Change Inco Terms (Part 1)"
         ],
         "type": "scatter",
         "x": [
          -0.06032875122517457,
          -0.06405663485270553,
          null
         ],
         "y": [
          0.02292633874076355,
          -0.20742830658080527,
          null
         ]
        },
        {
         "hoverinfo": "text",
         "line": {
          "color": "cornflowerblue",
          "width": 6.554823321322239
         },
         "mode": "lines",
         "text": [
          "Change Confirmed Goods Issue Date--Change Reason for Rejection"
         ],
         "type": "scatter",
         "x": [
          -0.06032875122517457,
          -0.1329923460541953,
          null
         ],
         "y": [
          0.02292633874076355,
          0.16637033138116322,
          null
         ]
        },
        {
         "hoverinfo": "text",
         "line": {
          "color": "cornflowerblue",
          "width": 6.057681346648179
         },
         "mode": "lines",
         "text": [
          "Change Confirmed Goods Issue Date--Record Return Goods Receipt"
         ],
         "type": "scatter",
         "x": [
          -0.06032875122517457,
          0.022926828201015118,
          null
         ],
         "y": [
          0.02292633874076355,
          -0.18102982957917835,
          null
         ]
        },
        {
         "hoverinfo": "text",
         "line": {
          "color": "cornflowerblue",
          "width": 6.394732799450172
         },
         "mode": "lines",
         "text": [
          "Change Confirmed Goods Issue Date--Create Shipment"
         ],
         "type": "scatter",
         "x": [
          -0.06032875122517457,
          0.13549968408565216,
          null
         ],
         "y": [
          0.02292633874076355,
          -0.03621926643088185,
          null
         ]
        },
        {
         "hoverinfo": "text",
         "line": {
          "color": "cornflowerblue",
          "width": 0
         },
         "mode": "lines",
         "text": [
          "Change Confirmed Goods Issue Date--Set Delivery Block"
         ],
         "type": "scatter",
         "x": [
          -0.06032875122517457,
          0.060439448504209126,
          null
         ],
         "y": [
          0.02292633874076355,
          -0.1641885374509435,
          null
         ]
        },
        {
         "hoverinfo": "text",
         "line": {
          "color": "cornflowerblue",
          "width": 6.670142974937396
         },
         "mode": "lines",
         "text": [
          "Change Confirmed Delivery Date--Change Requested Goods Issue Date"
         ],
         "type": "scatter",
         "x": [
          0.04129574492817072,
          -0.06728640707088565,
          null
         ],
         "y": [
          0.007345246826011747,
          -0.11583308886210894,
          null
         ]
        },
        {
         "hoverinfo": "text",
         "line": {
          "color": "cornflowerblue",
          "width": 6.53957391315595
         },
         "mode": "lines",
         "text": [
          "Change Confirmed Delivery Date--Change Confirmed Quantity"
         ],
         "type": "scatter",
         "x": [
          0.04129574492817072,
          -0.11035131812659899,
          null
         ],
         "y": [
          0.007345246826011747,
          -0.05866993943082722,
          null
         ]
        },
        {
         "hoverinfo": "text",
         "line": {
          "color": "cornflowerblue",
          "width": 5.555926754743525
         },
         "mode": "lines",
         "text": [
          "Change Confirmed Delivery Date--Create Debit memo"
         ],
         "type": "scatter",
         "x": [
          0.04129574492817072,
          0.29544192826388105,
          null
         ],
         "y": [
          0.007345246826011747,
          -0.15655576538459473,
          null
         ]
        },
        {
         "hoverinfo": "text",
         "line": {
          "color": "cornflowerblue",
          "width": 6.5353259311937935
         },
         "mode": "lines",
         "text": [
          "Change Confirmed Delivery Date--Clear Invoice"
         ],
         "type": "scatter",
         "x": [
          0.04129574492817072,
          0.08028618362315233,
          null
         ],
         "y": [
          0.007345246826011747,
          0.08527563812700825,
          null
         ]
        },
        {
         "hoverinfo": "text",
         "line": {
          "color": "cornflowerblue",
          "width": 3.943844617751102
         },
         "mode": "lines",
         "text": [
          "Change Confirmed Delivery Date--Create Delivery"
         ],
         "type": "scatter",
         "x": [
          0.04129574492817072,
          -0.012615544154824417,
          null
         ],
         "y": [
          0.007345246826011747,
          0.014383872923265805,
          null
         ]
        },
        {
         "hoverinfo": "text",
         "line": {
          "color": "cornflowerblue",
          "width": 0.16833531481921474
         },
         "mode": "lines",
         "text": [
          "Change Confirmed Delivery Date--Change Requested Delivery Date"
         ],
         "type": "scatter",
         "x": [
          0.04129574492817072,
          -0.10705315947754912,
          null
         ],
         "y": [
          0.007345246826011747,
          -0.15443925700666747,
          null
         ]
        },
        {
         "hoverinfo": "text",
         "line": {
          "color": "cornflowerblue",
          "width": 6.518618632986081
         },
         "mode": "lines",
         "text": [
          "Change Confirmed Delivery Date--Change Payment Terms"
         ],
         "type": "scatter",
         "x": [
          0.04129574492817072,
          -0.04811715829223775,
          null
         ],
         "y": [
          0.007345246826011747,
          -0.16151611140258565,
          null
         ]
        },
        {
         "hoverinfo": "text",
         "line": {
          "color": "cornflowerblue",
          "width": 6.461285868069906
         },
         "mode": "lines",
         "text": [
          "Change Confirmed Delivery Date--Change Material"
         ],
         "type": "scatter",
         "x": [
          0.04129574492817072,
          -0.09746144469076383,
          null
         ],
         "y": [
          0.007345246826011747,
          0.07981998593333302,
          null
         ]
        },
        {
         "hoverinfo": "text",
         "line": {
          "color": "cornflowerblue",
          "width": 3.2135282185416054
         },
         "mode": "lines",
         "text": [
          "Change Confirmed Delivery Date--Set Initial Delivery Block"
         ],
         "type": "scatter",
         "x": [
          0.04129574492817072,
          -0.175647569371099,
          null
         ],
         "y": [
          0.007345246826011747,
          -0.1063361366010542,
          null
         ]
        },
        {
         "hoverinfo": "text",
         "line": {
          "color": "cornflowerblue",
          "width": 6.285641109630367
         },
         "mode": "lines",
         "text": [
          "Change Confirmed Delivery Date--Record Goods Issue"
         ],
         "type": "scatter",
         "x": [
          0.04129574492817072,
          -0.00230069740355961,
          null
         ],
         "y": [
          0.007345246826011747,
          -0.013244841929723427,
          null
         ]
        },
        {
         "hoverinfo": "text",
         "line": {
          "color": "cornflowerblue",
          "width": 6.728827955256198
         },
         "mode": "lines",
         "text": [
          "Change Confirmed Delivery Date--Change Delivery Grouping"
         ],
         "type": "scatter",
         "x": [
          0.04129574492817072,
          -0.1589274296008866,
          null
         ],
         "y": [
          0.007345246826011747,
          0.0016237800191684357,
          null
         ]
        },
        {
         "hoverinfo": "text",
         "line": {
          "color": "cornflowerblue",
          "width": 6.908904618238658
         },
         "mode": "lines",
         "text": [
          "Change Confirmed Delivery Date--Create Purchase Order"
         ],
         "type": "scatter",
         "x": [
          0.04129574492817072,
          -0.10545432009503505,
          null
         ],
         "y": [
          0.007345246826011747,
          -0.09850709740293291,
          null
         ]
        },
        {
         "hoverinfo": "text",
         "line": {
          "color": "cornflowerblue",
          "width": 5.784363498949805
         },
         "mode": "lines",
         "text": [
          "Change Confirmed Delivery Date--Change Item Category"
         ],
         "type": "scatter",
         "x": [
          0.04129574492817072,
          -0.19046702188185693,
          null
         ],
         "y": [
          0.007345246826011747,
          0.06648488050147651,
          null
         ]
        },
        {
         "hoverinfo": "text",
         "line": {
          "color": "cornflowerblue",
          "width": 6.221732658364488
         },
         "mode": "lines",
         "text": [
          "Change Confirmed Delivery Date--Cancel Reason for Rejection"
         ],
         "type": "scatter",
         "x": [
          0.04129574492817072,
          -0.1713416255106839,
          null
         ],
         "y": [
          0.007345246826011747,
          -0.03347457892650524,
          null
         ]
        },
        {
         "hoverinfo": "text",
         "line": {
          "color": "cornflowerblue",
          "width": 6.244053625639949
         },
         "mode": "lines",
         "text": [
          "Change Confirmed Delivery Date--Create Intercompany invoice"
         ],
         "type": "scatter",
         "x": [
          0.04129574492817072,
          0.07495999171979624,
          null
         ],
         "y": [
          0.007345246826011747,
          -0.07204009369815284,
          null
         ]
        },
        {
         "hoverinfo": "text",
         "line": {
          "color": "cornflowerblue",
          "width": 6.577849767482346
         },
         "mode": "lines",
         "text": [
          "Change Confirmed Delivery Date--Remove Delivery Block"
         ],
         "type": "scatter",
         "x": [
          0.04129574492817072,
          -0.15543868292748345,
          null
         ],
         "y": [
          0.007345246826011747,
          -0.06736765946384478,
          null
         ]
        },
        {
         "hoverinfo": "text",
         "line": {
          "color": "cornflowerblue",
          "width": 5.981435254804107
         },
         "mode": "lines",
         "text": [
          "Change Confirmed Delivery Date--Create Shipment"
         ],
         "type": "scatter",
         "x": [
          0.04129574492817072,
          0.13549968408565216,
          null
         ],
         "y": [
          0.007345246826011747,
          -0.03621926643088185,
          null
         ]
        },
        {
         "hoverinfo": "text",
         "line": {
          "color": "cornflowerblue",
          "width": 6.467414006486543
         },
         "mode": "lines",
         "text": [
          "Change Confirmed Delivery Date--Set Delivery Block"
         ],
         "type": "scatter",
         "x": [
          0.04129574492817072,
          0.060439448504209126,
          null
         ],
         "y": [
          0.007345246826011747,
          -0.1641885374509435,
          null
         ]
        },
        {
         "hoverinfo": "text",
         "line": {
          "color": "cornflowerblue",
          "width": 6.750750530171972
         },
         "mode": "lines",
         "text": [
          "Change Confirmed Delivery Date--Create Pro forma invoice"
         ],
         "type": "scatter",
         "x": [
          0.04129574492817072,
          0.020153840383762067,
          null
         ],
         "y": [
          0.007345246826011747,
          0.04841294718093922,
          null
         ]
        },
        {
         "hoverinfo": "text",
         "line": {
          "color": "cornflowerblue",
          "width": 6.3611585409048805
         },
         "mode": "lines",
         "text": [
          "Change Confirmed Delivery Date--Create Credit memo"
         ],
         "type": "scatter",
         "x": [
          0.04129574492817072,
          0.13059550114804544,
          null
         ],
         "y": [
          0.007345246826011747,
          -0.08633072544484394,
          null
         ]
        },
        {
         "hoverinfo": "text",
         "line": {
          "color": "cornflowerblue",
          "width": 5.701000831694325
         },
         "mode": "lines",
         "text": [
          "Change Confirmed Delivery Date--Change Inco Terms (Part 1)"
         ],
         "type": "scatter",
         "x": [
          0.04129574492817072,
          -0.06405663485270553,
          null
         ],
         "y": [
          0.007345246826011747,
          -0.20742830658080527,
          null
         ]
        },
        {
         "hoverinfo": "text",
         "line": {
          "color": "cornflowerblue",
          "width": 6.545158071101149
         },
         "mode": "lines",
         "text": [
          "Change Confirmed Delivery Date--Create Returns delivery for order"
         ],
         "type": "scatter",
         "x": [
          0.04129574492817072,
          0.08383999610658,
          null
         ],
         "y": [
          0.007345246826011747,
          -0.028146529453390672,
          null
         ]
        },
        {
         "hoverinfo": "text",
         "line": {
          "color": "cornflowerblue",
          "width": 6.248171815260332
         },
         "mode": "lines",
         "text": [
          "Change Confirmed Delivery Date--Record Return Goods Receipt"
         ],
         "type": "scatter",
         "x": [
          0.04129574492817072,
          0.022926828201015118,
          null
         ],
         "y": [
          0.007345246826011747,
          -0.18102982957917835,
          null
         ]
        },
        {
         "hoverinfo": "text",
         "line": {
          "color": "cornflowerblue",
          "width": 3.840347968721255
         },
         "mode": "lines",
         "text": [
          "Change Confirmed Delivery Date--Cancel Goods Issue"
         ],
         "type": "scatter",
         "x": [
          0.04129574492817072,
          0.12202006477317892,
          null
         ],
         "y": [
          0.007345246826011747,
          0.027268284269077726,
          null
         ]
        },
        {
         "hoverinfo": "text",
         "line": {
          "color": "cornflowerblue",
          "width": 6.68420539512604
         },
         "mode": "lines",
         "text": [
          "Customer Acceptance (L650)--Change Payment Terms"
         ],
         "type": "scatter",
         "x": [
          -0.1725870841102398,
          -0.04811715829223775,
          null
         ],
         "y": [
          -0.24369615140160536,
          -0.16151611140258565,
          null
         ]
        },
        {
         "hoverinfo": "text",
         "line": {
          "color": "cornflowerblue",
          "width": 6.524235109624539
         },
         "mode": "lines",
         "text": [
          "Customer Acceptance (L650)--Change Confirmed Quantity"
         ],
         "type": "scatter",
         "x": [
          -0.1725870841102398,
          -0.11035131812659899,
          null
         ],
         "y": [
          -0.24369615140160536,
          -0.05866993943082722,
          null
         ]
        },
        {
         "hoverinfo": "text",
         "line": {
          "color": "cornflowerblue",
          "width": 5.745324210100805
         },
         "mode": "lines",
         "text": [
          "Customer Acceptance (L650)--Cancel Reason for Rejection"
         ],
         "type": "scatter",
         "x": [
          -0.1725870841102398,
          -0.1713416255106839,
          null
         ],
         "y": [
          -0.24369615140160536,
          -0.03347457892650524,
          null
         ]
        },
        {
         "hoverinfo": "text",
         "line": {
          "color": "cornflowerblue",
          "width": 5.653716496982717
         },
         "mode": "lines",
         "text": [
          "Customer Acceptance (L650)--Set Initial Delivery Block"
         ],
         "type": "scatter",
         "x": [
          -0.1725870841102398,
          -0.175647569371099,
          null
         ],
         "y": [
          -0.24369615140160536,
          -0.1063361366010542,
          null
         ]
        },
        {
         "hoverinfo": "text",
         "line": {
          "color": "cornflowerblue",
          "width": 5.7253265042209165
         },
         "mode": "lines",
         "text": [
          "Customer Acceptance (L650)--Change Delivery Grouping"
         ],
         "type": "scatter",
         "x": [
          -0.1725870841102398,
          -0.1589274296008866,
          null
         ],
         "y": [
          -0.24369615140160536,
          0.0016237800191684357,
          null
         ]
        },
        {
         "hoverinfo": "text",
         "line": {
          "color": "cornflowerblue",
          "width": 5.805059664876391
         },
         "mode": "lines",
         "text": [
          "Customer Acceptance (L650)--Change Requested Goods Issue Date"
         ],
         "type": "scatter",
         "x": [
          -0.1725870841102398,
          -0.06728640707088565,
          null
         ],
         "y": [
          -0.24369615140160536,
          -0.11583308886210894,
          null
         ]
        },
        {
         "hoverinfo": "text",
         "line": {
          "color": "cornflowerblue",
          "width": 6.164349356420026
         },
         "mode": "lines",
         "text": [
          "Clear Invoice--Clear Credit Memo"
         ],
         "type": "scatter",
         "x": [
          0.08028618362315233,
          0.3088639038075001,
          null
         ],
         "y": [
          0.08527563812700825,
          -0.07361643744726096,
          null
         ]
        },
        {
         "hoverinfo": "text",
         "line": {
          "color": "cornflowerblue",
          "width": 5.454466049037968
         },
         "mode": "lines",
         "text": [
          "Clear Invoice--Create Credit memo"
         ],
         "type": "scatter",
         "x": [
          0.08028618362315233,
          0.13059550114804544,
          null
         ],
         "y": [
          0.08527563812700825,
          -0.08633072544484394,
          null
         ]
        },
        {
         "hoverinfo": "text",
         "line": {
          "color": "cornflowerblue",
          "width": 6.381858317695862
         },
         "mode": "lines",
         "text": [
          "Clear Invoice--Change Payment Terms"
         ],
         "type": "scatter",
         "x": [
          0.08028618362315233,
          -0.04811715829223775,
          null
         ],
         "y": [
          0.08527563812700825,
          -0.16151611140258565,
          null
         ]
        },
        {
         "hoverinfo": "text",
         "line": {
          "color": "cornflowerblue",
          "width": 6.71014748065048
         },
         "mode": "lines",
         "text": [
          "Clear Invoice--Create Debit memo"
         ],
         "type": "scatter",
         "x": [
          0.08028618362315233,
          0.29544192826388105,
          null
         ],
         "y": [
          0.08527563812700825,
          -0.15655576538459473,
          null
         ]
        },
        {
         "hoverinfo": "text",
         "line": {
          "color": "cornflowerblue",
          "width": 5.4305875475127205
         },
         "mode": "lines",
         "text": [
          "Clear Invoice--Change Requested Goods Issue Date"
         ],
         "type": "scatter",
         "x": [
          0.08028618362315233,
          -0.06728640707088565,
          null
         ],
         "y": [
          0.08527563812700825,
          -0.11583308886210894,
          null
         ]
        },
        {
         "hoverinfo": "text",
         "line": {
          "color": "cornflowerblue",
          "width": 6.2820019143231685
         },
         "mode": "lines",
         "text": [
          "Clear Invoice--Create Delivery"
         ],
         "type": "scatter",
         "x": [
          0.08028618362315233,
          -0.012615544154824417,
          null
         ],
         "y": [
          0.08527563812700825,
          0.014383872923265805,
          null
         ]
        },
        {
         "hoverinfo": "text",
         "line": {
          "color": "cornflowerblue",
          "width": 5.834347666899202
         },
         "mode": "lines",
         "text": [
          "Clear Invoice--Record Goods Issue"
         ],
         "type": "scatter",
         "x": [
          0.08028618362315233,
          -0.00230069740355961,
          null
         ],
         "y": [
          0.08527563812700825,
          -0.013244841929723427,
          null
         ]
        },
        {
         "hoverinfo": "text",
         "line": {
          "color": "cornflowerblue",
          "width": 5.403615380252656
         },
         "mode": "lines",
         "text": [
          "Clear Invoice--Change Delivery Grouping"
         ],
         "type": "scatter",
         "x": [
          0.08028618362315233,
          -0.1589274296008866,
          null
         ],
         "y": [
          0.08527563812700825,
          0.0016237800191684357,
          null
         ]
        },
        {
         "hoverinfo": "text",
         "line": {
          "color": "cornflowerblue",
          "width": 6.170307839525612
         },
         "mode": "lines",
         "text": [
          "Clear Invoice--Change Confirmed Quantity"
         ],
         "type": "scatter",
         "x": [
          0.08028618362315233,
          -0.11035131812659899,
          null
         ],
         "y": [
          0.08527563812700825,
          -0.05866993943082722,
          null
         ]
        },
        {
         "hoverinfo": "text",
         "line": {
          "color": "cornflowerblue",
          "width": 7.046669035662531
         },
         "mode": "lines",
         "text": [
          "Clear Invoice--Set Initial Delivery Block"
         ],
         "type": "scatter",
         "x": [
          0.08028618362315233,
          -0.175647569371099,
          null
         ],
         "y": [
          0.08527563812700825,
          -0.1063361366010542,
          null
         ]
        },
        {
         "hoverinfo": "text",
         "line": {
          "color": "cornflowerblue",
          "width": 7.029508201975632
         },
         "mode": "lines",
         "text": [
          "Clear Invoice--Create Pro forma invoice"
         ],
         "type": "scatter",
         "x": [
          0.08028618362315233,
          0.020153840383762067,
          null
         ],
         "y": [
          0.08527563812700825,
          0.04841294718093922,
          null
         ]
        },
        {
         "hoverinfo": "text",
         "line": {
          "color": "cornflowerblue",
          "width": 6.602486123103304
         },
         "mode": "lines",
         "text": [
          "Clear Invoice--Create Purchase Order"
         ],
         "type": "scatter",
         "x": [
          0.08028618362315233,
          -0.10545432009503505,
          null
         ],
         "y": [
          0.08527563812700825,
          -0.09850709740293291,
          null
         ]
        },
        {
         "hoverinfo": "text",
         "line": {
          "color": "cornflowerblue",
          "width": 6.095599311839989
         },
         "mode": "lines",
         "text": [
          "Clear Invoice--Cancel Reason for Rejection"
         ],
         "type": "scatter",
         "x": [
          0.08028618362315233,
          -0.1713416255106839,
          null
         ],
         "y": [
          0.08527563812700825,
          -0.03347457892650524,
          null
         ]
        },
        {
         "hoverinfo": "text",
         "line": {
          "color": "cornflowerblue",
          "width": 5.330138978870993
         },
         "mode": "lines",
         "text": [
          "Clear Invoice--Change Material"
         ],
         "type": "scatter",
         "x": [
          0.08028618362315233,
          -0.09746144469076383,
          null
         ],
         "y": [
          0.08527563812700825,
          0.07981998593333302,
          null
         ]
        },
        {
         "hoverinfo": "text",
         "line": {
          "color": "cornflowerblue",
          "width": 5.668097724831912
         },
         "mode": "lines",
         "text": [
          "Clear Invoice--Change Reason for Rejection"
         ],
         "type": "scatter",
         "x": [
          0.08028618362315233,
          -0.1329923460541953,
          null
         ],
         "y": [
          0.08527563812700825,
          0.16637033138116322,
          null
         ]
        },
        {
         "hoverinfo": "text",
         "line": {
          "color": "cornflowerblue",
          "width": 6.93762147733835
         },
         "mode": "lines",
         "text": [
          "Clear Invoice--Create Intercompany invoice"
         ],
         "type": "scatter",
         "x": [
          0.08028618362315233,
          0.07495999171979624,
          null
         ],
         "y": [
          0.08527563812700825,
          -0.07204009369815284,
          null
         ]
        },
        {
         "hoverinfo": "text",
         "line": {
          "color": "cornflowerblue",
          "width": 6.009979581105696
         },
         "mode": "lines",
         "text": [
          "Clear Invoice--Set Billing Block"
         ],
         "type": "scatter",
         "x": [
          0.08028618362315233,
          0.5092044324325731,
          null
         ],
         "y": [
          0.08527563812700825,
          0.6491631944234448,
          null
         ]
        },
        {
         "hoverinfo": "text",
         "line": {
          "color": "cornflowerblue",
          "width": 6.888563964796017
         },
         "mode": "lines",
         "text": [
          "Clear Invoice--Set Delivery Block"
         ],
         "type": "scatter",
         "x": [
          0.08028618362315233,
          0.060439448504209126,
          null
         ],
         "y": [
          0.08527563812700825,
          -0.1641885374509435,
          null
         ]
        },
        {
         "hoverinfo": "text",
         "line": {
          "color": "cornflowerblue",
          "width": 7.206334016549754
         },
         "mode": "lines",
         "text": [
          "Clear Invoice--Remove Delivery Block"
         ],
         "type": "scatter",
         "x": [
          0.08028618362315233,
          -0.15543868292748345,
          null
         ],
         "y": [
          0.08527563812700825,
          -0.06736765946384478,
          null
         ]
        },
        {
         "hoverinfo": "text",
         "line": {
          "color": "cornflowerblue",
          "width": 6.5910448191495306
         },
         "mode": "lines",
         "text": [
          "Clear Invoice--Create Shipment"
         ],
         "type": "scatter",
         "x": [
          0.08028618362315233,
          0.13549968408565216,
          null
         ],
         "y": [
          0.08527563812700825,
          -0.03621926643088185,
          null
         ]
        },
        {
         "hoverinfo": "text",
         "line": {
          "color": "cornflowerblue",
          "width": 5.444507876694118
         },
         "mode": "lines",
         "text": [
          "Clear Invoice--Cancel Goods Issue"
         ],
         "type": "scatter",
         "x": [
          0.08028618362315233,
          0.12202006477317892,
          null
         ],
         "y": [
          0.08527563812700825,
          0.027268284269077726,
          null
         ]
        },
        {
         "hoverinfo": "text",
         "line": {
          "color": "cornflowerblue",
          "width": 5.907607281584011
         },
         "mode": "lines",
         "text": [
          "Set Initial Delivery Block--Change Payment Terms"
         ],
         "type": "scatter",
         "x": [
          -0.175647569371099,
          -0.04811715829223775,
          null
         ],
         "y": [
          -0.1063361366010542,
          -0.16151611140258565,
          null
         ]
        },
        {
         "hoverinfo": "text",
         "line": {
          "color": "cornflowerblue",
          "width": 6.772889663344478
         },
         "mode": "lines",
         "text": [
          "Set Initial Delivery Block--Change Confirmed Quantity"
         ],
         "type": "scatter",
         "x": [
          -0.175647569371099,
          -0.11035131812659899,
          null
         ],
         "y": [
          -0.1063361366010542,
          -0.05866993943082722,
          null
         ]
        },
        {
         "hoverinfo": "text",
         "line": {
          "color": "cornflowerblue",
          "width": 3.7242868159326927
         },
         "mode": "lines",
         "text": [
          "Set Initial Delivery Block--Change Requested Goods Issue Date"
         ],
         "type": "scatter",
         "x": [
          -0.175647569371099,
          -0.06728640707088565,
          null
         ],
         "y": [
          -0.1063361366010542,
          -0.11583308886210894,
          null
         ]
        },
        {
         "hoverinfo": "text",
         "line": {
          "color": "cornflowerblue",
          "width": 6.623002246036236
         },
         "mode": "lines",
         "text": [
          "Set Initial Delivery Block--Create Delivery"
         ],
         "type": "scatter",
         "x": [
          -0.175647569371099,
          -0.012615544154824417,
          null
         ],
         "y": [
          -0.1063361366010542,
          0.014383872923265805,
          null
         ]
        },
        {
         "hoverinfo": "text",
         "line": {
          "color": "cornflowerblue",
          "width": 4.94455484405634
         },
         "mode": "lines",
         "text": [
          "Set Initial Delivery Block--Change Requested Delivery Date"
         ],
         "type": "scatter",
         "x": [
          -0.175647569371099,
          -0.10705315947754912,
          null
         ],
         "y": [
          -0.1063361366010542,
          -0.15443925700666747,
          null
         ]
        },
        {
         "hoverinfo": "text",
         "line": {
          "color": "cornflowerblue",
          "width": 6.564537005603021
         },
         "mode": "lines",
         "text": [
          "Set Initial Delivery Block--Remove Delivery Block"
         ],
         "type": "scatter",
         "x": [
          -0.175647569371099,
          -0.15543868292748345,
          null
         ],
         "y": [
          -0.1063361366010542,
          -0.06736765946384478,
          null
         ]
        },
        {
         "hoverinfo": "text",
         "line": {
          "color": "cornflowerblue",
          "width": 3.1252974779086347
         },
         "mode": "lines",
         "text": [
          "Set Initial Delivery Block--Change Delivery Grouping"
         ],
         "type": "scatter",
         "x": [
          -0.175647569371099,
          -0.1589274296008866,
          null
         ],
         "y": [
          -0.1063361366010542,
          0.0016237800191684357,
          null
         ]
        },
        {
         "hoverinfo": "text",
         "line": {
          "color": "cornflowerblue",
          "width": 6.2504577513158885
         },
         "mode": "lines",
         "text": [
          "Set Initial Delivery Block--Change WBS element"
         ],
         "type": "scatter",
         "x": [
          -0.175647569371099,
          -0.2947669953276553,
          null
         ],
         "y": [
          -0.1063361366010542,
          -0.1309282510652095,
          null
         ]
        },
        {
         "hoverinfo": "text",
         "line": {
          "color": "cornflowerblue",
          "width": 0.08004270767353636
         },
         "mode": "lines",
         "text": [
          "Set Initial Delivery Block--Cancel Reason for Rejection"
         ],
         "type": "scatter",
         "x": [
          -0.175647569371099,
          -0.1713416255106839,
          null
         ],
         "y": [
          -0.1063361366010542,
          -0.03347457892650524,
          null
         ]
        },
        {
         "hoverinfo": "text",
         "line": {
          "color": "cornflowerblue",
          "width": 6.527811708104051
         },
         "mode": "lines",
         "text": [
          "Set Initial Delivery Block--Create Purchase Order"
         ],
         "type": "scatter",
         "x": [
          -0.175647569371099,
          -0.10545432009503505,
          null
         ],
         "y": [
          -0.1063361366010542,
          -0.09850709740293291,
          null
         ]
        },
        {
         "hoverinfo": "text",
         "line": {
          "color": "cornflowerblue",
          "width": 5.735684807001802
         },
         "mode": "lines",
         "text": [
          "Set Initial Delivery Block--Create Returns delivery for order"
         ],
         "type": "scatter",
         "x": [
          -0.175647569371099,
          0.08383999610658,
          null
         ],
         "y": [
          -0.1063361366010542,
          -0.028146529453390672,
          null
         ]
        },
        {
         "hoverinfo": "text",
         "line": {
          "color": "cornflowerblue",
          "width": 6.26346175263958
         },
         "mode": "lines",
         "text": [
          "Set Initial Delivery Block--Create Credit memo cancellation"
         ],
         "type": "scatter",
         "x": [
          -0.175647569371099,
          0.13269682438952626,
          null
         ],
         "y": [
          -0.1063361366010542,
          -0.2135544141778976,
          null
         ]
        },
        {
         "hoverinfo": "text",
         "line": {
          "color": "cornflowerblue",
          "width": 6.580431071257912
         },
         "mode": "lines",
         "text": [
          "Set Initial Delivery Block--Change Reason for Rejection"
         ],
         "type": "scatter",
         "x": [
          -0.175647569371099,
          -0.1329923460541953,
          null
         ],
         "y": [
          -0.1063361366010542,
          0.16637033138116322,
          null
         ]
        },
        {
         "hoverinfo": "text",
         "line": {
          "color": "cornflowerblue",
          "width": 6.668387066808907
         },
         "mode": "lines",
         "text": [
          "Set Initial Delivery Block--Change Material"
         ],
         "type": "scatter",
         "x": [
          -0.175647569371099,
          -0.09746144469076383,
          null
         ],
         "y": [
          -0.1063361366010542,
          0.07981998593333302,
          null
         ]
        },
        {
         "hoverinfo": "text",
         "line": {
          "color": "cornflowerblue",
          "width": 6.921041623307871
         },
         "mode": "lines",
         "text": [
          "Set Initial Delivery Block--Create Credit memo"
         ],
         "type": "scatter",
         "x": [
          -0.175647569371099,
          0.13059550114804544,
          null
         ],
         "y": [
          -0.1063361366010542,
          -0.08633072544484394,
          null
         ]
        },
        {
         "hoverinfo": "text",
         "line": {
          "color": "cornflowerblue",
          "width": 6.546737585609268
         },
         "mode": "lines",
         "text": [
          "Change Confirmed Quantity--Cancel Reason for Rejection"
         ],
         "type": "scatter",
         "x": [
          -0.11035131812659899,
          -0.1713416255106839,
          null
         ],
         "y": [
          -0.05866993943082722,
          -0.03347457892650524,
          null
         ]
        },
        {
         "hoverinfo": "text",
         "line": {
          "color": "cornflowerblue",
          "width": 5.984670687686574
         },
         "mode": "lines",
         "text": [
          "Change Confirmed Quantity--Create Delivery"
         ],
         "type": "scatter",
         "x": [
          -0.11035131812659899,
          -0.012615544154824417,
          null
         ],
         "y": [
          -0.05866993943082722,
          0.014383872923265805,
          null
         ]
        },
        {
         "hoverinfo": "text",
         "line": {
          "color": "cornflowerblue",
          "width": 3.9650897263648384
         },
         "mode": "lines",
         "text": [
          "Change Confirmed Quantity--Change Payment Terms"
         ],
         "type": "scatter",
         "x": [
          -0.11035131812659899,
          -0.04811715829223775,
          null
         ],
         "y": [
          -0.05866993943082722,
          -0.16151611140258565,
          null
         ]
        },
        {
         "hoverinfo": "text",
         "line": {
          "color": "cornflowerblue",
          "width": 6.53957391315595
         },
         "mode": "lines",
         "text": [
          "Change Confirmed Quantity--Change Material"
         ],
         "type": "scatter",
         "x": [
          -0.11035131812659899,
          -0.09746144469076383,
          null
         ],
         "y": [
          -0.05866993943082722,
          0.07981998593333302,
          null
         ]
        },
        {
         "hoverinfo": "text",
         "line": {
          "color": "cornflowerblue",
          "width": 7.03091641926547
         },
         "mode": "lines",
         "text": [
          "Change Confirmed Quantity--Change Requested Goods Issue Date"
         ],
         "type": "scatter",
         "x": [
          -0.11035131812659899,
          -0.06728640707088565,
          null
         ],
         "y": [
          -0.05866993943082722,
          -0.11583308886210894,
          null
         ]
        },
        {
         "hoverinfo": "text",
         "line": {
          "color": "cornflowerblue",
          "width": 6.576632044242102
         },
         "mode": "lines",
         "text": [
          "Change Confirmed Quantity--Remove Delivery Block"
         ],
         "type": "scatter",
         "x": [
          -0.11035131812659899,
          -0.15543868292748345,
          null
         ],
         "y": [
          -0.05866993943082722,
          -0.06736765946384478,
          null
         ]
        },
        {
         "hoverinfo": "text",
         "line": {
          "color": "cornflowerblue",
          "width": 0
         },
         "mode": "lines",
         "text": [
          "Change Confirmed Quantity--Change Delivery Grouping"
         ],
         "type": "scatter",
         "x": [
          -0.11035131812659899,
          -0.1589274296008866,
          null
         ],
         "y": [
          -0.05866993943082722,
          0.0016237800191684357,
          null
         ]
        },
        {
         "hoverinfo": "text",
         "line": {
          "color": "cornflowerblue",
          "width": 7.112293485970778
         },
         "mode": "lines",
         "text": [
          "Change Confirmed Quantity--Create Purchase Order"
         ],
         "type": "scatter",
         "x": [
          -0.11035131812659899,
          -0.10545432009503505,
          null
         ],
         "y": [
          -0.05866993943082722,
          -0.09850709740293291,
          null
         ]
        },
        {
         "hoverinfo": "text",
         "line": {
          "color": "cornflowerblue",
          "width": 5.890008436368581
         },
         "mode": "lines",
         "text": [
          "Change Confirmed Quantity--Create Pro forma invoice"
         ],
         "type": "scatter",
         "x": [
          -0.11035131812659899,
          0.020153840383762067,
          null
         ],
         "y": [
          -0.05866993943082722,
          0.04841294718093922,
          null
         ]
        },
        {
         "hoverinfo": "text",
         "line": {
          "color": "cornflowerblue",
          "width": 5.28982305851233
         },
         "mode": "lines",
         "text": [
          "Change Confirmed Quantity--Set Delivery Block"
         ],
         "type": "scatter",
         "x": [
          -0.11035131812659899,
          0.060439448504209126,
          null
         ],
         "y": [
          -0.05866993943082722,
          -0.1641885374509435,
          null
         ]
        },
        {
         "hoverinfo": "text",
         "line": {
          "color": "cornflowerblue",
          "width": 6.740893600050225
         },
         "mode": "lines",
         "text": [
          "Change Confirmed Quantity--Create Intercompany credit memo"
         ],
         "type": "scatter",
         "x": [
          -0.11035131812659899,
          0.008571203167793716,
          null
         ],
         "y": [
          -0.05866993943082722,
          -0.2258729994276078,
          null
         ]
        },
        {
         "hoverinfo": "text",
         "line": {
          "color": "cornflowerblue",
          "width": 7.06319084727227
         },
         "mode": "lines",
         "text": [
          "Change Confirmed Quantity--Create Shipment"
         ],
         "type": "scatter",
         "x": [
          -0.11035131812659899,
          0.13549968408565216,
          null
         ],
         "y": [
          -0.05866993943082722,
          -0.03621926643088185,
          null
         ]
        },
        {
         "hoverinfo": "text",
         "line": {
          "color": "cornflowerblue",
          "width": 0
         },
         "mode": "lines",
         "text": [
          "Change Confirmed Quantity--Change Delivery Block"
         ],
         "type": "scatter",
         "x": [
          -0.11035131812659899,
          -0.4097001313894779,
          null
         ],
         "y": [
          -0.05866993943082722,
          -0.050566752625627306,
          null
         ]
        },
        {
         "hoverinfo": "text",
         "line": {
          "color": "cornflowerblue",
          "width": 5.819390306765577
         },
         "mode": "lines",
         "text": [
          "Change Confirmed Quantity--Create Returns delivery for order"
         ],
         "type": "scatter",
         "x": [
          -0.11035131812659899,
          0.08383999610658,
          null
         ],
         "y": [
          -0.05866993943082722,
          -0.028146529453390672,
          null
         ]
        },
        {
         "hoverinfo": "text",
         "line": {
          "color": "cornflowerblue",
          "width": 5.987351935234357
         },
         "mode": "lines",
         "text": [
          "Change Confirmed Quantity--Change WBS element"
         ],
         "type": "scatter",
         "x": [
          -0.11035131812659899,
          -0.2947669953276553,
          null
         ],
         "y": [
          -0.05866993943082722,
          -0.1309282510652095,
          null
         ]
        },
        {
         "hoverinfo": "text",
         "line": {
          "color": "cornflowerblue",
          "width": 7.0008205165458115
         },
         "mode": "lines",
         "text": [
          "Change Confirmed Quantity--Record Return Goods Receipt"
         ],
         "type": "scatter",
         "x": [
          -0.11035131812659899,
          0.022926828201015118,
          null
         ],
         "y": [
          -0.05866993943082722,
          -0.18102982957917835,
          null
         ]
        },
        {
         "hoverinfo": "text",
         "line": {
          "color": "cornflowerblue",
          "width": 0
         },
         "mode": "lines",
         "text": [
          "Change Confirmed Quantity--Change Requested Delivery Date"
         ],
         "type": "scatter",
         "x": [
          -0.11035131812659899,
          -0.10705315947754912,
          null
         ],
         "y": [
          -0.05866993943082722,
          -0.15443925700666747,
          null
         ]
        },
        {
         "hoverinfo": "text",
         "line": {
          "color": "cornflowerblue",
          "width": 6.552400891296485
         },
         "mode": "lines",
         "text": [
          "Change Confirmed Quantity--Change Item Category"
         ],
         "type": "scatter",
         "x": [
          -0.11035131812659899,
          -0.19046702188185693,
          null
         ],
         "y": [
          -0.05866993943082722,
          0.06648488050147651,
          null
         ]
        },
        {
         "hoverinfo": "text",
         "line": {
          "color": "cornflowerblue",
          "width": 6.2858118574285236
         },
         "mode": "lines",
         "text": [
          "Change Confirmed Quantity--Record Goods Issue"
         ],
         "type": "scatter",
         "x": [
          -0.11035131812659899,
          -0.00230069740355961,
          null
         ],
         "y": [
          -0.05866993943082722,
          -0.013244841929723427,
          null
         ]
        },
        {
         "hoverinfo": "text",
         "line": {
          "color": "cornflowerblue",
          "width": 6.743303109430428
         },
         "mode": "lines",
         "text": [
          "Change Confirmed Quantity--Create Intercompany invoice"
         ],
         "type": "scatter",
         "x": [
          -0.11035131812659899,
          0.07495999171979624,
          null
         ],
         "y": [
          -0.05866993943082722,
          -0.07204009369815284,
          null
         ]
        },
        {
         "hoverinfo": "text",
         "line": {
          "color": "cornflowerblue",
          "width": 4.589125488819236
         },
         "mode": "lines",
         "text": [
          "Change Confirmed Quantity--Change Reason for Rejection"
         ],
         "type": "scatter",
         "x": [
          -0.11035131812659899,
          -0.1329923460541953,
          null
         ],
         "y": [
          -0.05866993943082722,
          0.16637033138116322,
          null
         ]
        },
        {
         "hoverinfo": "text",
         "line": {
          "color": "cornflowerblue",
          "width": 7.19433048908774
         },
         "mode": "lines",
         "text": [
          "Create Debit memo--Create Credit memo"
         ],
         "type": "scatter",
         "x": [
          0.29544192826388105,
          0.13059550114804544,
          null
         ],
         "y": [
          -0.15655576538459473,
          -0.08633072544484394,
          null
         ]
        },
        {
         "hoverinfo": "text",
         "line": {
          "color": "cornflowerblue",
          "width": 7.014417447122686
         },
         "mode": "lines",
         "text": [
          "Create Debit memo--Clear Credit Memo"
         ],
         "type": "scatter",
         "x": [
          0.29544192826388105,
          0.3088639038075001,
          null
         ],
         "y": [
          -0.15655576538459473,
          -0.07361643744726096,
          null
         ]
        },
        {
         "hoverinfo": "text",
         "line": {
          "color": "cornflowerblue",
          "width": 5.960919425279821
         },
         "mode": "lines",
         "text": [
          "Create Debit memo--Create Credit memo cancellation"
         ],
         "type": "scatter",
         "x": [
          0.29544192826388105,
          0.13269682438952626,
          null
         ],
         "y": [
          -0.15655576538459473,
          -0.2135544141778976,
          null
         ]
        },
        {
         "hoverinfo": "text",
         "line": {
          "color": "cornflowerblue",
          "width": 6.815941479709483
         },
         "mode": "lines",
         "text": [
          "Create Credit memo--Clear Credit Memo"
         ],
         "type": "scatter",
         "x": [
          0.13059550114804544,
          0.3088639038075001,
          null
         ],
         "y": [
          -0.08633072544484394,
          -0.07361643744726096,
          null
         ]
        },
        {
         "hoverinfo": "text",
         "line": {
          "color": "cornflowerblue",
          "width": 6.698843309914651
         },
         "mode": "lines",
         "text": [
          "Create Credit memo--Record Return Goods Receipt"
         ],
         "type": "scatter",
         "x": [
          0.13059550114804544,
          0.022926828201015118,
          null
         ],
         "y": [
          -0.08633072544484394,
          -0.18102982957917835,
          null
         ]
        },
        {
         "hoverinfo": "text",
         "line": {
          "color": "cornflowerblue",
          "width": 7.271280870226343
         },
         "mode": "lines",
         "text": [
          "Create Credit memo--Create Returns delivery for order"
         ],
         "type": "scatter",
         "x": [
          0.13059550114804544,
          0.08383999610658,
          null
         ],
         "y": [
          -0.08633072544484394,
          -0.028146529453390672,
          null
         ]
        },
        {
         "hoverinfo": "text",
         "line": {
          "color": "cornflowerblue",
          "width": 5.448746845573441
         },
         "mode": "lines",
         "text": [
          "Create Credit memo--Create Credit memo cancellation"
         ],
         "type": "scatter",
         "x": [
          0.13059550114804544,
          0.13269682438952626,
          null
         ],
         "y": [
          -0.08633072544484394,
          -0.2135544141778976,
          null
         ]
        },
        {
         "hoverinfo": "text",
         "line": {
          "color": "cornflowerblue",
          "width": 6.40108766536481
         },
         "mode": "lines",
         "text": [
          "Create Credit memo--Cancel Reason for Rejection"
         ],
         "type": "scatter",
         "x": [
          0.13059550114804544,
          -0.1713416255106839,
          null
         ],
         "y": [
          -0.08633072544484394,
          -0.03347457892650524,
          null
         ]
        },
        {
         "hoverinfo": "text",
         "line": {
          "color": "cornflowerblue",
          "width": 7.251303611358011
         },
         "mode": "lines",
         "text": [
          "Create Credit memo--Cancel Goods Issue"
         ],
         "type": "scatter",
         "x": [
          0.13059550114804544,
          0.12202006477317892,
          null
         ],
         "y": [
          -0.08633072544484394,
          0.027268284269077726,
          null
         ]
        },
        {
         "hoverinfo": "text",
         "line": {
          "color": "cornflowerblue",
          "width": 6.863455020085557
         },
         "mode": "lines",
         "text": [
          "Create Credit memo--Create Delivery"
         ],
         "type": "scatter",
         "x": [
          0.13059550114804544,
          -0.012615544154824417,
          null
         ],
         "y": [
          -0.08633072544484394,
          0.014383872923265805,
          null
         ]
        },
        {
         "hoverinfo": "text",
         "line": {
          "color": "cornflowerblue",
          "width": 6.884742504673064
         },
         "mode": "lines",
         "text": [
          "Create Credit memo--Change Payment Terms"
         ],
         "type": "scatter",
         "x": [
          0.13059550114804544,
          -0.04811715829223775,
          null
         ],
         "y": [
          -0.08633072544484394,
          -0.16151611140258565,
          null
         ]
        },
        {
         "hoverinfo": "text",
         "line": {
          "color": "cornflowerblue",
          "width": 6.379288856151188
         },
         "mode": "lines",
         "text": [
          "Create Credit memo--Change Inco Terms (Part 1)"
         ],
         "type": "scatter",
         "x": [
          0.13059550114804544,
          -0.06405663485270553,
          null
         ],
         "y": [
          -0.08633072544484394,
          -0.20742830658080527,
          null
         ]
        },
        {
         "hoverinfo": "text",
         "line": {
          "color": "cornflowerblue",
          "width": 7.034527420920395
         },
         "mode": "lines",
         "text": [
          "Create Credit memo--Record Goods Issue"
         ],
         "type": "scatter",
         "x": [
          0.13059550114804544,
          -0.00230069740355961,
          null
         ],
         "y": [
          -0.08633072544484394,
          -0.013244841929723427,
          null
         ]
        },
        {
         "hoverinfo": "text",
         "line": {
          "color": "cornflowerblue",
          "width": 6.177511793781016
         },
         "mode": "lines",
         "text": [
          "Create Credit memo--Create Pro forma invoice"
         ],
         "type": "scatter",
         "x": [
          0.13059550114804544,
          0.020153840383762067,
          null
         ],
         "y": [
          -0.08633072544484394,
          0.04841294718093922,
          null
         ]
        },
        {
         "hoverinfo": "text",
         "line": {
          "color": "cornflowerblue",
          "width": 7.140578497460697
         },
         "mode": "lines",
         "text": [
          "Clear Credit Memo--Create Credit memo cancellation"
         ],
         "type": "scatter",
         "x": [
          0.3088639038075001,
          0.13269682438952626,
          null
         ],
         "y": [
          -0.07361643744726096,
          -0.2135544141778976,
          null
         ]
        },
        {
         "hoverinfo": "text",
         "line": {
          "color": "cornflowerblue",
          "width": 6.324986005891801
         },
         "mode": "lines",
         "text": [
          "Create Returns delivery for order--Record Return Goods Receipt"
         ],
         "type": "scatter",
         "x": [
          0.08383999610658,
          0.022926828201015118,
          null
         ],
         "y": [
          -0.028146529453390672,
          -0.18102982957917835,
          null
         ]
        },
        {
         "hoverinfo": "text",
         "line": {
          "color": "cornflowerblue",
          "width": 6.495278143974597
         },
         "mode": "lines",
         "text": [
          "Create Returns delivery for order--Create Credit memo cancellation"
         ],
         "type": "scatter",
         "x": [
          0.08383999610658,
          0.13269682438952626,
          null
         ],
         "y": [
          -0.028146529453390672,
          -0.2135544141778976,
          null
         ]
        },
        {
         "hoverinfo": "text",
         "line": {
          "color": "cornflowerblue",
          "width": 6.5525910980279995
         },
         "mode": "lines",
         "text": [
          "Create Returns delivery for order--Set Delivery Block"
         ],
         "type": "scatter",
         "x": [
          0.08383999610658,
          0.060439448504209126,
          null
         ],
         "y": [
          -0.028146529453390672,
          -0.1641885374509435,
          null
         ]
        },
        {
         "hoverinfo": "text",
         "line": {
          "color": "cornflowerblue",
          "width": 7.266705133348832
         },
         "mode": "lines",
         "text": [
          "Create Returns delivery for order--Record Goods Issue"
         ],
         "type": "scatter",
         "x": [
          0.08383999610658,
          -0.00230069740355961,
          null
         ],
         "y": [
          -0.028146529453390672,
          -0.013244841929723427,
          null
         ]
        },
        {
         "hoverinfo": "text",
         "line": {
          "color": "cornflowerblue",
          "width": 5.683636455074305
         },
         "mode": "lines",
         "text": [
          "Create Returns delivery for order--Cancel Goods Issue"
         ],
         "type": "scatter",
         "x": [
          0.08383999610658,
          0.12202006477317892,
          null
         ],
         "y": [
          -0.028146529453390672,
          0.027268284269077726,
          null
         ]
        },
        {
         "hoverinfo": "text",
         "line": {
          "color": "cornflowerblue",
          "width": 5.365313802037755
         },
         "mode": "lines",
         "text": [
          "Create Returns delivery for order--Change Payment Terms"
         ],
         "type": "scatter",
         "x": [
          0.08383999610658,
          -0.04811715829223775,
          null
         ],
         "y": [
          -0.028146529453390672,
          -0.16151611140258565,
          null
         ]
        },
        {
         "hoverinfo": "text",
         "line": {
          "color": "cornflowerblue",
          "width": 6.6047452197480805
         },
         "mode": "lines",
         "text": [
          "Create Returns delivery for order--Create Intercompany invoice"
         ],
         "type": "scatter",
         "x": [
          0.08383999610658,
          0.07495999171979624,
          null
         ],
         "y": [
          -0.028146529453390672,
          -0.07204009369815284,
          null
         ]
        },
        {
         "hoverinfo": "text",
         "line": {
          "color": "cornflowerblue",
          "width": 6.552436557814545
         },
         "mode": "lines",
         "text": [
          "Create Returns delivery for order--Create Shipment"
         ],
         "type": "scatter",
         "x": [
          0.08383999610658,
          0.13549968408565216,
          null
         ],
         "y": [
          -0.028146529453390672,
          -0.03621926643088185,
          null
         ]
        },
        {
         "hoverinfo": "text",
         "line": {
          "color": "cornflowerblue",
          "width": 6.261443973259223
         },
         "mode": "lines",
         "text": [
          "Create Returns delivery for order--Create Delivery"
         ],
         "type": "scatter",
         "x": [
          0.08383999610658,
          -0.012615544154824417,
          null
         ],
         "y": [
          -0.028146529453390672,
          0.014383872923265805,
          null
         ]
        },
        {
         "hoverinfo": "text",
         "line": {
          "color": "cornflowerblue",
          "width": 6.55292387277822
         },
         "mode": "lines",
         "text": [
          "Create Returns delivery for order--Change Requested Goods Issue Date"
         ],
         "type": "scatter",
         "x": [
          0.08383999610658,
          -0.06728640707088565,
          null
         ],
         "y": [
          -0.028146529453390672,
          -0.11583308886210894,
          null
         ]
        },
        {
         "hoverinfo": "text",
         "line": {
          "color": "cornflowerblue",
          "width": 5.611149264125777
         },
         "mode": "lines",
         "text": [
          "Create Returns delivery for order--Remove Delivery Block"
         ],
         "type": "scatter",
         "x": [
          0.08383999610658,
          -0.15543868292748345,
          null
         ],
         "y": [
          -0.028146529453390672,
          -0.06736765946384478,
          null
         ]
        },
        {
         "hoverinfo": "text",
         "line": {
          "color": "cornflowerblue",
          "width": 6.901670135326189
         },
         "mode": "lines",
         "text": [
          "Create Returns delivery for order--Create Purchase Order"
         ],
         "type": "scatter",
         "x": [
          0.08383999610658,
          -0.10545432009503505,
          null
         ],
         "y": [
          -0.028146529453390672,
          -0.09850709740293291,
          null
         ]
        },
        {
         "hoverinfo": "text",
         "line": {
          "color": "cornflowerblue",
          "width": 7.015704939908681
         },
         "mode": "lines",
         "text": [
          "Create Returns delivery for order--Create Pro forma invoice"
         ],
         "type": "scatter",
         "x": [
          0.08383999610658,
          0.020153840383762067,
          null
         ],
         "y": [
          -0.028146529453390672,
          0.04841294718093922,
          null
         ]
        },
        {
         "hoverinfo": "text",
         "line": {
          "color": "cornflowerblue",
          "width": 6.72099388066212
         },
         "mode": "lines",
         "text": [
          "Create Returns delivery for order--Cancel Reason for Rejection"
         ],
         "type": "scatter",
         "x": [
          0.08383999610658,
          -0.1713416255106839,
          null
         ],
         "y": [
          -0.028146529453390672,
          -0.03347457892650524,
          null
         ]
        },
        {
         "hoverinfo": "text",
         "line": {
          "color": "cornflowerblue",
          "width": 6.0659533990987216
         },
         "mode": "lines",
         "text": [
          "Create Returns delivery for order--Create Intercompany credit memo"
         ],
         "type": "scatter",
         "x": [
          0.08383999610658,
          0.008571203167793716,
          null
         ],
         "y": [
          -0.028146529453390672,
          -0.2258729994276078,
          null
         ]
        },
        {
         "hoverinfo": "text",
         "line": {
          "color": "cornflowerblue",
          "width": 6.8558126510161435
         },
         "mode": "lines",
         "text": [
          "Create Returns delivery for order--Change Requested Delivery Date"
         ],
         "type": "scatter",
         "x": [
          0.08383999610658,
          -0.10705315947754912,
          null
         ],
         "y": [
          -0.028146529453390672,
          -0.15443925700666747,
          null
         ]
        },
        {
         "hoverinfo": "text",
         "line": {
          "color": "cornflowerblue",
          "width": 6.862836361857059
         },
         "mode": "lines",
         "text": [
          "Record Return Goods Receipt--Cancel Goods Issue"
         ],
         "type": "scatter",
         "x": [
          0.022926828201015118,
          0.12202006477317892,
          null
         ],
         "y": [
          -0.18102982957917835,
          0.027268284269077726,
          null
         ]
        },
        {
         "hoverinfo": "text",
         "line": {
          "color": "cornflowerblue",
          "width": 6.559426362244782
         },
         "mode": "lines",
         "text": [
          "Record Return Goods Receipt--Create Delivery"
         ],
         "type": "scatter",
         "x": [
          0.022926828201015118,
          -0.012615544154824417,
          null
         ],
         "y": [
          -0.18102982957917835,
          0.014383872923265805,
          null
         ]
        },
        {
         "hoverinfo": "text",
         "line": {
          "color": "cornflowerblue",
          "width": 7.154745556770627
         },
         "mode": "lines",
         "text": [
          "Record Return Goods Receipt--Create Intercompany credit memo"
         ],
         "type": "scatter",
         "x": [
          0.022926828201015118,
          0.008571203167793716,
          null
         ],
         "y": [
          -0.18102982957917835,
          -0.2258729994276078,
          null
         ]
        },
        {
         "hoverinfo": "text",
         "line": {
          "color": "cornflowerblue",
          "width": 6.208489417414015
         },
         "mode": "lines",
         "text": [
          "Record Return Goods Receipt--Create Pro forma invoice"
         ],
         "type": "scatter",
         "x": [
          0.022926828201015118,
          0.020153840383762067,
          null
         ],
         "y": [
          -0.18102982957917835,
          0.04841294718093922,
          null
         ]
        },
        {
         "hoverinfo": "text",
         "line": {
          "color": "cornflowerblue",
          "width": 5.199371418675133
         },
         "mode": "lines",
         "text": [
          "Record Return Goods Receipt--Create Credit memo cancellation"
         ],
         "type": "scatter",
         "x": [
          0.022926828201015118,
          0.13269682438952626,
          null
         ],
         "y": [
          -0.18102982957917835,
          -0.2135544141778976,
          null
         ]
        },
        {
         "hoverinfo": "text",
         "line": {
          "color": "cornflowerblue",
          "width": 6.85813602120957
         },
         "mode": "lines",
         "text": [
          "Record Return Goods Receipt--Create Intercompany invoice"
         ],
         "type": "scatter",
         "x": [
          0.022926828201015118,
          0.07495999171979624,
          null
         ],
         "y": [
          -0.18102982957917835,
          -0.07204009369815284,
          null
         ]
        },
        {
         "hoverinfo": "text",
         "line": {
          "color": "cornflowerblue",
          "width": 0
         },
         "mode": "lines",
         "text": [
          "Record Return Goods Receipt--Change Payment Terms"
         ],
         "type": "scatter",
         "x": [
          0.022926828201015118,
          -0.04811715829223775,
          null
         ],
         "y": [
          -0.18102982957917835,
          -0.16151611140258565,
          null
         ]
        },
        {
         "hoverinfo": "text",
         "line": {
          "color": "cornflowerblue",
          "width": 6.755079899253213
         },
         "mode": "lines",
         "text": [
          "Record Return Goods Receipt--Set Delivery Block"
         ],
         "type": "scatter",
         "x": [
          0.022926828201015118,
          0.060439448504209126,
          null
         ],
         "y": [
          -0.18102982957917835,
          -0.1641885374509435,
          null
         ]
        },
        {
         "hoverinfo": "text",
         "line": {
          "color": "cornflowerblue",
          "width": 6.842265194140282
         },
         "mode": "lines",
         "text": [
          "Record Return Goods Receipt--Record Goods Issue"
         ],
         "type": "scatter",
         "x": [
          0.022926828201015118,
          -0.00230069740355961,
          null
         ],
         "y": [
          -0.18102982957917835,
          -0.013244841929723427,
          null
         ]
        },
        {
         "hoverinfo": "text",
         "line": {
          "color": "cornflowerblue",
          "width": 6.9864047088023975
         },
         "mode": "lines",
         "text": [
          "Record Return Goods Receipt--Create Shipment"
         ],
         "type": "scatter",
         "x": [
          0.022926828201015118,
          0.13549968408565216,
          null
         ],
         "y": [
          -0.18102982957917835,
          -0.03621926643088185,
          null
         ]
        },
        {
         "hoverinfo": "text",
         "line": {
          "color": "cornflowerblue",
          "width": 6.939520383412137
         },
         "mode": "lines",
         "text": [
          "Record Return Goods Receipt--Remove Delivery Block"
         ],
         "type": "scatter",
         "x": [
          0.022926828201015118,
          -0.15543868292748345,
          null
         ],
         "y": [
          -0.18102982957917835,
          -0.06736765946384478,
          null
         ]
        },
        {
         "hoverinfo": "text",
         "line": {
          "color": "cornflowerblue",
          "width": 6.265760549558464
         },
         "mode": "lines",
         "text": [
          "Record Return Goods Receipt--Change Requested Goods Issue Date"
         ],
         "type": "scatter",
         "x": [
          0.022926828201015118,
          -0.06728640707088565,
          null
         ],
         "y": [
          -0.18102982957917835,
          -0.11583308886210894,
          null
         ]
        },
        {
         "hoverinfo": "text",
         "line": {
          "color": "cornflowerblue",
          "width": 6.802616960858832
         },
         "mode": "lines",
         "text": [
          "Record Return Goods Receipt--Create Purchase Order"
         ],
         "type": "scatter",
         "x": [
          0.022926828201015118,
          -0.10545432009503505,
          null
         ],
         "y": [
          -0.18102982957917835,
          -0.09850709740293291,
          null
         ]
        },
        {
         "hoverinfo": "text",
         "line": {
          "color": "cornflowerblue",
          "width": 7.050483831108702
         },
         "mode": "lines",
         "text": [
          "Record Return Goods Receipt--Change Requested Delivery Date"
         ],
         "type": "scatter",
         "x": [
          0.022926828201015118,
          -0.10705315947754912,
          null
         ],
         "y": [
          -0.18102982957917835,
          -0.15443925700666747,
          null
         ]
        },
        {
         "hoverinfo": "text",
         "line": {
          "color": "cornflowerblue",
          "width": 6.599144612237855
         },
         "mode": "lines",
         "text": [
          "Change Delivery Grouping--Change Requested Goods Issue Date"
         ],
         "type": "scatter",
         "x": [
          -0.1589274296008866,
          -0.06728640707088565,
          null
         ],
         "y": [
          0.0016237800191684357,
          -0.11583308886210894,
          null
         ]
        },
        {
         "hoverinfo": "text",
         "line": {
          "color": "cornflowerblue",
          "width": 6.391274807772687
         },
         "mode": "lines",
         "text": [
          "Change Delivery Grouping--Create Delivery"
         ],
         "type": "scatter",
         "x": [
          -0.1589274296008866,
          -0.012615544154824417,
          null
         ],
         "y": [
          0.0016237800191684357,
          0.014383872923265805,
          null
         ]
        },
        {
         "hoverinfo": "text",
         "line": {
          "color": "cornflowerblue",
          "width": 6.358073320113563
         },
         "mode": "lines",
         "text": [
          "Change Delivery Grouping--Remove Delivery Block"
         ],
         "type": "scatter",
         "x": [
          -0.1589274296008866,
          -0.15543868292748345,
          null
         ],
         "y": [
          0.0016237800191684357,
          -0.06736765946384478,
          null
         ]
        },
        {
         "hoverinfo": "text",
         "line": {
          "color": "cornflowerblue",
          "width": 6.496624149247346
         },
         "mode": "lines",
         "text": [
          "Change Delivery Grouping--Cancel Reason for Rejection"
         ],
         "type": "scatter",
         "x": [
          -0.1589274296008866,
          -0.1713416255106839,
          null
         ],
         "y": [
          0.0016237800191684357,
          -0.03347457892650524,
          null
         ]
        },
        {
         "hoverinfo": "text",
         "line": {
          "color": "cornflowerblue",
          "width": 6.401184479488683
         },
         "mode": "lines",
         "text": [
          "Change Delivery Grouping--Record Goods Issue"
         ],
         "type": "scatter",
         "x": [
          -0.1589274296008866,
          -0.00230069740355961,
          null
         ],
         "y": [
          0.0016237800191684357,
          -0.013244841929723427,
          null
         ]
        },
        {
         "hoverinfo": "text",
         "line": {
          "color": "cornflowerblue",
          "width": 4.805113344131866
         },
         "mode": "lines",
         "text": [
          "Change Delivery Grouping--Change Item Category"
         ],
         "type": "scatter",
         "x": [
          -0.1589274296008866,
          -0.19046702188185693,
          null
         ],
         "y": [
          0.0016237800191684357,
          0.06648488050147651,
          null
         ]
        },
        {
         "hoverinfo": "text",
         "line": {
          "color": "cornflowerblue",
          "width": 5.49638239748571
         },
         "mode": "lines",
         "text": [
          "Change Delivery Grouping--Create Pro forma invoice"
         ],
         "type": "scatter",
         "x": [
          -0.1589274296008866,
          0.020153840383762067,
          null
         ],
         "y": [
          0.0016237800191684357,
          0.04841294718093922,
          null
         ]
        },
        {
         "hoverinfo": "text",
         "line": {
          "color": "cornflowerblue",
          "width": 6.800290699481794
         },
         "mode": "lines",
         "text": [
          "Change Delivery Grouping--Create Intercompany invoice"
         ],
         "type": "scatter",
         "x": [
          -0.1589274296008866,
          0.07495999171979624,
          null
         ],
         "y": [
          0.0016237800191684357,
          -0.07204009369815284,
          null
         ]
        },
        {
         "hoverinfo": "text",
         "line": {
          "color": "cornflowerblue",
          "width": 5.208620568859904
         },
         "mode": "lines",
         "text": [
          "Change Delivery Grouping--Change WBS element"
         ],
         "type": "scatter",
         "x": [
          -0.1589274296008866,
          -0.2947669953276553,
          null
         ],
         "y": [
          0.0016237800191684357,
          -0.1309282510652095,
          null
         ]
        },
        {
         "hoverinfo": "text",
         "line": {
          "color": "cornflowerblue",
          "width": 6.971058662651376
         },
         "mode": "lines",
         "text": [
          "Change Delivery Grouping--Cancel Goods Issue"
         ],
         "type": "scatter",
         "x": [
          -0.1589274296008866,
          0.12202006477317892,
          null
         ],
         "y": [
          0.0016237800191684357,
          0.027268284269077726,
          null
         ]
        },
        {
         "hoverinfo": "text",
         "line": {
          "color": "cornflowerblue",
          "width": 7.151988211069416
         },
         "mode": "lines",
         "text": [
          "Change Delivery Grouping--Create Purchase Order"
         ],
         "type": "scatter",
         "x": [
          -0.1589274296008866,
          -0.10545432009503505,
          null
         ],
         "y": [
          0.0016237800191684357,
          -0.09850709740293291,
          null
         ]
        },
        {
         "hoverinfo": "text",
         "line": {
          "color": "cornflowerblue",
          "width": 6.28400977522575
         },
         "mode": "lines",
         "text": [
          "Change Delivery Grouping--Change Material"
         ],
         "type": "scatter",
         "x": [
          -0.1589274296008866,
          -0.09746144469076383,
          null
         ],
         "y": [
          0.0016237800191684357,
          0.07981998593333302,
          null
         ]
        },
        {
         "hoverinfo": "text",
         "line": {
          "color": "cornflowerblue",
          "width": 6.570544436325297
         },
         "mode": "lines",
         "text": [
          "Change Delivery Grouping--Change Requested Delivery Date"
         ],
         "type": "scatter",
         "x": [
          -0.1589274296008866,
          -0.10705315947754912,
          null
         ],
         "y": [
          0.0016237800191684357,
          -0.15443925700666747,
          null
         ]
        },
        {
         "hoverinfo": "text",
         "line": {
          "color": "cornflowerblue",
          "width": 4.673840783328086
         },
         "mode": "lines",
         "text": [
          "Change Delivery Grouping--Change Delivery Block"
         ],
         "type": "scatter",
         "x": [
          -0.1589274296008866,
          -0.4097001313894779,
          null
         ],
         "y": [
          0.0016237800191684357,
          -0.050566752625627306,
          null
         ]
        },
        {
         "hoverinfo": "text",
         "line": {
          "color": "cornflowerblue",
          "width": 0
         },
         "mode": "lines",
         "text": [
          "Change Delivery Grouping--Change Payment Terms"
         ],
         "type": "scatter",
         "x": [
          -0.1589274296008866,
          -0.04811715829223775,
          null
         ],
         "y": [
          0.0016237800191684357,
          -0.16151611140258565,
          null
         ]
        },
        {
         "hoverinfo": "text",
         "line": {
          "color": "cornflowerblue",
          "width": 6.778813338691422
         },
         "mode": "lines",
         "text": [
          "Change Delivery Grouping--Change Inco Terms (Part 1)"
         ],
         "type": "scatter",
         "x": [
          -0.1589274296008866,
          -0.06405663485270553,
          null
         ],
         "y": [
          0.0016237800191684357,
          -0.20742830658080527,
          null
         ]
        },
        {
         "hoverinfo": "text",
         "line": {
          "color": "cornflowerblue",
          "width": 6.606278495508167
         },
         "mode": "lines",
         "text": [
          "Change Delivery Grouping--Set Delivery Block"
         ],
         "type": "scatter",
         "x": [
          -0.1589274296008866,
          0.060439448504209126,
          null
         ],
         "y": [
          0.0016237800191684357,
          -0.1641885374509435,
          null
         ]
        },
        {
         "hoverinfo": "text",
         "line": {
          "color": "cornflowerblue",
          "width": 0
         },
         "mode": "lines",
         "text": [
          "Change Delivery Grouping--Change Reason for Rejection"
         ],
         "type": "scatter",
         "x": [
          -0.1589274296008866,
          -0.1329923460541953,
          null
         ],
         "y": [
          0.0016237800191684357,
          0.16637033138116322,
          null
         ]
        },
        {
         "hoverinfo": "text",
         "line": {
          "color": "cornflowerblue",
          "width": 6.8073915179862015
         },
         "mode": "lines",
         "text": [
          "Change Requested Goods Issue Date--Change Inco Terms (Part 1)"
         ],
         "type": "scatter",
         "x": [
          -0.06728640707088565,
          -0.06405663485270553,
          null
         ],
         "y": [
          -0.11583308886210894,
          -0.20742830658080527,
          null
         ]
        },
        {
         "hoverinfo": "text",
         "line": {
          "color": "cornflowerblue",
          "width": 6.500776525891178
         },
         "mode": "lines",
         "text": [
          "Change Requested Goods Issue Date--Change Payment Terms"
         ],
         "type": "scatter",
         "x": [
          -0.06728640707088565,
          -0.04811715829223775,
          null
         ],
         "y": [
          -0.11583308886210894,
          -0.16151611140258565,
          null
         ]
        },
        {
         "hoverinfo": "text",
         "line": {
          "color": "cornflowerblue",
          "width": 6.488343364741348
         },
         "mode": "lines",
         "text": [
          "Change Requested Goods Issue Date--Create Delivery"
         ],
         "type": "scatter",
         "x": [
          -0.06728640707088565,
          -0.012615544154824417,
          null
         ],
         "y": [
          -0.11583308886210894,
          0.014383872923265805,
          null
         ]
        },
        {
         "hoverinfo": "text",
         "line": {
          "color": "cornflowerblue",
          "width": 5.433612827289052
         },
         "mode": "lines",
         "text": [
          "Change Requested Goods Issue Date--Cancel Reason for Rejection"
         ],
         "type": "scatter",
         "x": [
          -0.06728640707088565,
          -0.1713416255106839,
          null
         ],
         "y": [
          -0.11583308886210894,
          -0.03347457892650524,
          null
         ]
        },
        {
         "hoverinfo": "text",
         "line": {
          "color": "cornflowerblue",
          "width": 3.2796572971280598
         },
         "mode": "lines",
         "text": [
          "Change Requested Goods Issue Date--Change Requested Delivery Date"
         ],
         "type": "scatter",
         "x": [
          -0.06728640707088565,
          -0.10705315947754912,
          null
         ],
         "y": [
          -0.11583308886210894,
          -0.15443925700666747,
          null
         ]
        },
        {
         "hoverinfo": "text",
         "line": {
          "color": "cornflowerblue",
          "width": 6.402966949579187
         },
         "mode": "lines",
         "text": [
          "Change Requested Goods Issue Date--Change WBS element"
         ],
         "type": "scatter",
         "x": [
          -0.06728640707088565,
          -0.2947669953276553,
          null
         ],
         "y": [
          -0.11583308886210894,
          -0.1309282510652095,
          null
         ]
        },
        {
         "hoverinfo": "text",
         "line": {
          "color": "cornflowerblue",
          "width": 6.770101113683341
         },
         "mode": "lines",
         "text": [
          "Change Requested Goods Issue Date--Remove Delivery Block"
         ],
         "type": "scatter",
         "x": [
          -0.06728640707088565,
          -0.15543868292748345,
          null
         ],
         "y": [
          -0.11583308886210894,
          -0.06736765946384478,
          null
         ]
        },
        {
         "hoverinfo": "text",
         "line": {
          "color": "cornflowerblue",
          "width": 3.5234150143864045
         },
         "mode": "lines",
         "text": [
          "Change Requested Goods Issue Date--Change Material"
         ],
         "type": "scatter",
         "x": [
          -0.06728640707088565,
          -0.09746144469076383,
          null
         ],
         "y": [
          -0.11583308886210894,
          0.07981998593333302,
          null
         ]
        },
        {
         "hoverinfo": "text",
         "line": {
          "color": "cornflowerblue",
          "width": 5.574559248857262
         },
         "mode": "lines",
         "text": [
          "Change Requested Goods Issue Date--Change Item Category"
         ],
         "type": "scatter",
         "x": [
          -0.06728640707088565,
          -0.19046702188185693,
          null
         ],
         "y": [
          -0.11583308886210894,
          0.06648488050147651,
          null
         ]
        },
        {
         "hoverinfo": "text",
         "line": {
          "color": "cornflowerblue",
          "width": 6.609629976444539
         },
         "mode": "lines",
         "text": [
          "Change Requested Goods Issue Date--Create Purchase Order"
         ],
         "type": "scatter",
         "x": [
          -0.06728640707088565,
          -0.10545432009503505,
          null
         ],
         "y": [
          -0.11583308886210894,
          -0.09850709740293291,
          null
         ]
        },
        {
         "hoverinfo": "text",
         "line": {
          "color": "cornflowerblue",
          "width": 6.404966715790349
         },
         "mode": "lines",
         "text": [
          "Change Requested Goods Issue Date--Record Goods Issue"
         ],
         "type": "scatter",
         "x": [
          -0.06728640707088565,
          -0.00230069740355961,
          null
         ],
         "y": [
          -0.11583308886210894,
          -0.013244841929723427,
          null
         ]
        },
        {
         "hoverinfo": "text",
         "line": {
          "color": "cornflowerblue",
          "width": 7.033704877304914
         },
         "mode": "lines",
         "text": [
          "Change Requested Goods Issue Date--Create Intercompany invoice"
         ],
         "type": "scatter",
         "x": [
          -0.06728640707088565,
          0.07495999171979624,
          null
         ],
         "y": [
          -0.11583308886210894,
          -0.07204009369815284,
          null
         ]
        },
        {
         "hoverinfo": "text",
         "line": {
          "color": "cornflowerblue",
          "width": 6.386823201065259
         },
         "mode": "lines",
         "text": [
          "Change Requested Goods Issue Date--Create Pro forma invoice"
         ],
         "type": "scatter",
         "x": [
          -0.06728640707088565,
          0.020153840383762067,
          null
         ],
         "y": [
          -0.11583308886210894,
          0.04841294718093922,
          null
         ]
        },
        {
         "hoverinfo": "text",
         "line": {
          "color": "cornflowerblue",
          "width": 6.631035126764535
         },
         "mode": "lines",
         "text": [
          "Change Requested Goods Issue Date--Set Delivery Block"
         ],
         "type": "scatter",
         "x": [
          -0.06728640707088565,
          0.060439448504209126,
          null
         ],
         "y": [
          -0.11583308886210894,
          -0.1641885374509435,
          null
         ]
        },
        {
         "hoverinfo": "text",
         "line": {
          "color": "cornflowerblue",
          "width": 4.503598778879246
         },
         "mode": "lines",
         "text": [
          "Change Requested Goods Issue Date--Create Credit memo cancellation"
         ],
         "type": "scatter",
         "x": [
          -0.06728640707088565,
          0.13269682438952626,
          null
         ],
         "y": [
          -0.11583308886210894,
          -0.2135544141778976,
          null
         ]
        },
        {
         "hoverinfo": "text",
         "line": {
          "color": "cornflowerblue",
          "width": 5.675754444629252
         },
         "mode": "lines",
         "text": [
          "Change Requested Goods Issue Date--Create Shipment"
         ],
         "type": "scatter",
         "x": [
          -0.06728640707088565,
          0.13549968408565216,
          null
         ],
         "y": [
          -0.11583308886210894,
          -0.03621926643088185,
          null
         ]
        },
        {
         "hoverinfo": "text",
         "line": {
          "color": "cornflowerblue",
          "width": 6.4457198193855785
         },
         "mode": "lines",
         "text": [
          "Change Requested Goods Issue Date--Cancel Goods Issue"
         ],
         "type": "scatter",
         "x": [
          -0.06728640707088565,
          0.12202006477317892,
          null
         ],
         "y": [
          -0.11583308886210894,
          0.027268284269077726,
          null
         ]
        },
        {
         "hoverinfo": "text",
         "line": {
          "color": "cornflowerblue",
          "width": 5.682785801437505
         },
         "mode": "lines",
         "text": [
          "Create Credit memo cancellation--Change Payment Terms"
         ],
         "type": "scatter",
         "x": [
          0.13269682438952626,
          -0.04811715829223775,
          null
         ],
         "y": [
          -0.2135544141778976,
          -0.16151611140258565,
          null
         ]
        },
        {
         "hoverinfo": "text",
         "line": {
          "color": "cornflowerblue",
          "width": 6.677912252884965
         },
         "mode": "lines",
         "text": [
          "Create Credit memo cancellation--Create Delivery"
         ],
         "type": "scatter",
         "x": [
          0.13269682438952626,
          -0.012615544154824417,
          null
         ],
         "y": [
          -0.2135544141778976,
          0.014383872923265805,
          null
         ]
        },
        {
         "hoverinfo": "text",
         "line": {
          "color": "cornflowerblue",
          "width": 6.02094243992758
         },
         "mode": "lines",
         "text": [
          "Create Delivery--Record Goods Issue"
         ],
         "type": "scatter",
         "x": [
          -0.012615544154824417,
          -0.00230069740355961,
          null
         ],
         "y": [
          0.014383872923265805,
          -0.013244841929723427,
          null
         ]
        },
        {
         "hoverinfo": "text",
         "line": {
          "color": "cornflowerblue",
          "width": 4.273187854639731
         },
         "mode": "lines",
         "text": [
          "Create Delivery--Cancel Goods Issue"
         ],
         "type": "scatter",
         "x": [
          -0.012615544154824417,
          0.12202006477317892,
          null
         ],
         "y": [
          0.014383872923265805,
          0.027268284269077726,
          null
         ]
        },
        {
         "hoverinfo": "text",
         "line": {
          "color": "cornflowerblue",
          "width": 6.621572082654092
         },
         "mode": "lines",
         "text": [
          "Create Delivery--Change Payment Terms"
         ],
         "type": "scatter",
         "x": [
          -0.012615544154824417,
          -0.04811715829223775,
          null
         ],
         "y": [
          0.014383872923265805,
          -0.16151611140258565,
          null
         ]
        },
        {
         "hoverinfo": "text",
         "line": {
          "color": "cornflowerblue",
          "width": 6.6507963791731965
         },
         "mode": "lines",
         "text": [
          "Create Delivery--Create Pro forma invoice"
         ],
         "type": "scatter",
         "x": [
          -0.012615544154824417,
          0.020153840383762067,
          null
         ],
         "y": [
          0.014383872923265805,
          0.04841294718093922,
          null
         ]
        },
        {
         "hoverinfo": "text",
         "line": {
          "color": "cornflowerblue",
          "width": 6.274526588633435
         },
         "mode": "lines",
         "text": [
          "Create Delivery--Change Inco Terms (Part 1)"
         ],
         "type": "scatter",
         "x": [
          -0.012615544154824417,
          -0.06405663485270553,
          null
         ],
         "y": [
          0.014383872923265805,
          -0.20742830658080527,
          null
         ]
        },
        {
         "hoverinfo": "text",
         "line": {
          "color": "cornflowerblue",
          "width": 4.102230056496091
         },
         "mode": "lines",
         "text": [
          "Create Delivery--Create Intercompany invoice"
         ],
         "type": "scatter",
         "x": [
          -0.012615544154824417,
          0.07495999171979624,
          null
         ],
         "y": [
          0.014383872923265805,
          -0.07204009369815284,
          null
         ]
        },
        {
         "hoverinfo": "text",
         "line": {
          "color": "cornflowerblue",
          "width": 6.048514158732888
         },
         "mode": "lines",
         "text": [
          "Create Delivery--Create Purchase Order"
         ],
         "type": "scatter",
         "x": [
          -0.012615544154824417,
          -0.10545432009503505,
          null
         ],
         "y": [
          0.014383872923265805,
          -0.09850709740293291,
          null
         ]
        },
        {
         "hoverinfo": "text",
         "line": {
          "color": "cornflowerblue",
          "width": 6.751968539316332
         },
         "mode": "lines",
         "text": [
          "Create Delivery--Remove Delivery Block"
         ],
         "type": "scatter",
         "x": [
          -0.012615544154824417,
          -0.15543868292748345,
          null
         ],
         "y": [
          0.014383872923265805,
          -0.06736765946384478,
          null
         ]
        },
        {
         "hoverinfo": "text",
         "line": {
          "color": "cornflowerblue",
          "width": 6.56159627677138
         },
         "mode": "lines",
         "text": [
          "Create Delivery--Change Material"
         ],
         "type": "scatter",
         "x": [
          -0.012615544154824417,
          -0.09746144469076383,
          null
         ],
         "y": [
          0.014383872923265805,
          0.07981998593333302,
          null
         ]
        },
        {
         "hoverinfo": "text",
         "line": {
          "color": "cornflowerblue",
          "width": 6.6647172211509815
         },
         "mode": "lines",
         "text": [
          "Create Delivery--Create Intercompany credit memo"
         ],
         "type": "scatter",
         "x": [
          -0.012615544154824417,
          0.008571203167793716,
          null
         ],
         "y": [
          0.014383872923265805,
          -0.2258729994276078,
          null
         ]
        },
        {
         "hoverinfo": "text",
         "line": {
          "color": "cornflowerblue",
          "width": 6.579123889090067
         },
         "mode": "lines",
         "text": [
          "Create Delivery--Change Requested Delivery Date"
         ],
         "type": "scatter",
         "x": [
          -0.012615544154824417,
          -0.10705315947754912,
          null
         ],
         "y": [
          0.014383872923265805,
          -0.15443925700666747,
          null
         ]
        },
        {
         "hoverinfo": "text",
         "line": {
          "color": "cornflowerblue",
          "width": 7.067163542036414
         },
         "mode": "lines",
         "text": [
          "Create Delivery--Cancel Reason for Rejection"
         ],
         "type": "scatter",
         "x": [
          -0.012615544154824417,
          -0.1713416255106839,
          null
         ],
         "y": [
          0.014383872923265805,
          -0.03347457892650524,
          null
         ]
        },
        {
         "hoverinfo": "text",
         "line": {
          "color": "cornflowerblue",
          "width": 3.8781214537524646
         },
         "mode": "lines",
         "text": [
          "Create Delivery--Create Shipment"
         ],
         "type": "scatter",
         "x": [
          -0.012615544154824417,
          0.13549968408565216,
          null
         ],
         "y": [
          0.014383872923265805,
          -0.03621926643088185,
          null
         ]
        },
        {
         "hoverinfo": "text",
         "line": {
          "color": "cornflowerblue",
          "width": 3.530762586016799
         },
         "mode": "lines",
         "text": [
          "Create Delivery--Change Item Category"
         ],
         "type": "scatter",
         "x": [
          -0.012615544154824417,
          -0.19046702188185693,
          null
         ],
         "y": [
          0.014383872923265805,
          0.06648488050147651,
          null
         ]
        },
        {
         "hoverinfo": "text",
         "line": {
          "color": "cornflowerblue",
          "width": 5.957218108379391
         },
         "mode": "lines",
         "text": [
          "Create Delivery--Set Delivery Block"
         ],
         "type": "scatter",
         "x": [
          -0.012615544154824417,
          0.060439448504209126,
          null
         ],
         "y": [
          0.014383872923265805,
          -0.1641885374509435,
          null
         ]
        },
        {
         "hoverinfo": "text",
         "line": {
          "color": "cornflowerblue",
          "width": 6.933341800859615
         },
         "mode": "lines",
         "text": [
          "Create Delivery--Change Reason for Rejection"
         ],
         "type": "scatter",
         "x": [
          -0.012615544154824417,
          -0.1329923460541953,
          null
         ],
         "y": [
          0.014383872923265805,
          0.16637033138116322,
          null
         ]
        },
        {
         "hoverinfo": "text",
         "line": {
          "color": "cornflowerblue",
          "width": 5.218732887205194
         },
         "mode": "lines",
         "text": [
          "Record Goods Issue--Cancel Goods Issue"
         ],
         "type": "scatter",
         "x": [
          -0.00230069740355961,
          0.12202006477317892,
          null
         ],
         "y": [
          -0.013244841929723427,
          0.027268284269077726,
          null
         ]
        },
        {
         "hoverinfo": "text",
         "line": {
          "color": "cornflowerblue",
          "width": 6.835318985717425
         },
         "mode": "lines",
         "text": [
          "Record Goods Issue--Create Pro forma invoice"
         ],
         "type": "scatter",
         "x": [
          -0.00230069740355961,
          0.020153840383762067,
          null
         ],
         "y": [
          -0.013244841929723427,
          0.04841294718093922,
          null
         ]
        },
        {
         "hoverinfo": "text",
         "line": {
          "color": "cornflowerblue",
          "width": 6.890524342053775
         },
         "mode": "lines",
         "text": [
          "Record Goods Issue--Create Intercompany invoice"
         ],
         "type": "scatter",
         "x": [
          -0.00230069740355961,
          0.07495999171979624,
          null
         ],
         "y": [
          -0.013244841929723427,
          -0.07204009369815284,
          null
         ]
        },
        {
         "hoverinfo": "text",
         "line": {
          "color": "cornflowerblue",
          "width": 7.214357236286429
         },
         "mode": "lines",
         "text": [
          "Record Goods Issue--Change Payment Terms"
         ],
         "type": "scatter",
         "x": [
          -0.00230069740355961,
          -0.04811715829223775,
          null
         ],
         "y": [
          -0.013244841929723427,
          -0.16151611140258565,
          null
         ]
        },
        {
         "hoverinfo": "text",
         "line": {
          "color": "cornflowerblue",
          "width": 6.37097061604605
         },
         "mode": "lines",
         "text": [
          "Record Goods Issue--Create Intercompany credit memo"
         ],
         "type": "scatter",
         "x": [
          -0.00230069740355961,
          0.008571203167793716,
          null
         ],
         "y": [
          -0.013244841929723427,
          -0.2258729994276078,
          null
         ]
        },
        {
         "hoverinfo": "text",
         "line": {
          "color": "cornflowerblue",
          "width": 6.9903025399497025
         },
         "mode": "lines",
         "text": [
          "Record Goods Issue--Create Shipment"
         ],
         "type": "scatter",
         "x": [
          -0.00230069740355961,
          0.13549968408565216,
          null
         ],
         "y": [
          -0.013244841929723427,
          -0.03621926643088185,
          null
         ]
        },
        {
         "hoverinfo": "text",
         "line": {
          "color": "cornflowerblue",
          "width": 6.80211694695914
         },
         "mode": "lines",
         "text": [
          "Record Goods Issue--Cancel Reason for Rejection"
         ],
         "type": "scatter",
         "x": [
          -0.00230069740355961,
          -0.1713416255106839,
          null
         ],
         "y": [
          -0.013244841929723427,
          -0.03347457892650524,
          null
         ]
        },
        {
         "hoverinfo": "text",
         "line": {
          "color": "cornflowerblue",
          "width": 7.073354459631703
         },
         "mode": "lines",
         "text": [
          "Record Goods Issue--Change Material"
         ],
         "type": "scatter",
         "x": [
          -0.00230069740355961,
          -0.09746144469076383,
          null
         ],
         "y": [
          -0.013244841929723427,
          0.07981998593333302,
          null
         ]
        },
        {
         "hoverinfo": "text",
         "line": {
          "color": "cornflowerblue",
          "width": 7.232185057300767
         },
         "mode": "lines",
         "text": [
          "Record Goods Issue--Remove Delivery Block"
         ],
         "type": "scatter",
         "x": [
          -0.00230069740355961,
          -0.15543868292748345,
          null
         ],
         "y": [
          -0.013244841929723427,
          -0.06736765946384478,
          null
         ]
        },
        {
         "hoverinfo": "text",
         "line": {
          "color": "cornflowerblue",
          "width": 6.468888494239942
         },
         "mode": "lines",
         "text": [
          "Record Goods Issue--Change Requested Delivery Date"
         ],
         "type": "scatter",
         "x": [
          -0.00230069740355961,
          -0.10705315947754912,
          null
         ],
         "y": [
          -0.013244841929723427,
          -0.15443925700666747,
          null
         ]
        },
        {
         "hoverinfo": "text",
         "line": {
          "color": "cornflowerblue",
          "width": 6.303808743880494
         },
         "mode": "lines",
         "text": [
          "Record Goods Issue--Change Reason for Rejection"
         ],
         "type": "scatter",
         "x": [
          -0.00230069740355961,
          -0.1329923460541953,
          null
         ],
         "y": [
          -0.013244841929723427,
          0.16637033138116322,
          null
         ]
        },
        {
         "hoverinfo": "text",
         "line": {
          "color": "cornflowerblue",
          "width": 6.707738073652493
         },
         "mode": "lines",
         "text": [
          "Record Goods Issue--Change Inco Terms (Part 1)"
         ],
         "type": "scatter",
         "x": [
          -0.00230069740355961,
          -0.06405663485270553,
          null
         ],
         "y": [
          -0.013244841929723427,
          -0.20742830658080527,
          null
         ]
        },
        {
         "hoverinfo": "text",
         "line": {
          "color": "cornflowerblue",
          "width": 7.0049802909912335
         },
         "mode": "lines",
         "text": [
          "Record Goods Issue--Create Purchase Order"
         ],
         "type": "scatter",
         "x": [
          -0.00230069740355961,
          -0.10545432009503505,
          null
         ],
         "y": [
          -0.013244841929723427,
          -0.09850709740293291,
          null
         ]
        },
        {
         "hoverinfo": "text",
         "line": {
          "color": "cornflowerblue",
          "width": 3.9398002864275927
         },
         "mode": "lines",
         "text": [
          "Record Goods Issue--Change Item Category"
         ],
         "type": "scatter",
         "x": [
          -0.00230069740355961,
          -0.19046702188185693,
          null
         ],
         "y": [
          -0.013244841929723427,
          0.06648488050147651,
          null
         ]
        },
        {
         "hoverinfo": "text",
         "line": {
          "color": "cornflowerblue",
          "width": 6.37723702187041
         },
         "mode": "lines",
         "text": [
          "Record Goods Issue--Set Delivery Block"
         ],
         "type": "scatter",
         "x": [
          -0.00230069740355961,
          0.060439448504209126,
          null
         ],
         "y": [
          -0.013244841929723427,
          -0.1641885374509435,
          null
         ]
        },
        {
         "hoverinfo": "text",
         "line": {
          "color": "cornflowerblue",
          "width": 7.24947562491679
         },
         "mode": "lines",
         "text": [
          "Cancel Goods Issue--Change Payment Terms"
         ],
         "type": "scatter",
         "x": [
          0.12202006477317892,
          -0.04811715829223775,
          null
         ],
         "y": [
          0.027268284269077726,
          -0.16151611140258565,
          null
         ]
        },
        {
         "hoverinfo": "text",
         "line": {
          "color": "cornflowerblue",
          "width": 7.1069954062147875
         },
         "mode": "lines",
         "text": [
          "Cancel Goods Issue--Create Pro forma invoice"
         ],
         "type": "scatter",
         "x": [
          0.12202006477317892,
          0.020153840383762067,
          null
         ],
         "y": [
          0.027268284269077726,
          0.04841294718093922,
          null
         ]
        },
        {
         "hoverinfo": "text",
         "line": {
          "color": "cornflowerblue",
          "width": 6.675350222020196
         },
         "mode": "lines",
         "text": [
          "Cancel Goods Issue--Create Intercompany invoice"
         ],
         "type": "scatter",
         "x": [
          0.12202006477317892,
          0.07495999171979624,
          null
         ],
         "y": [
          0.027268284269077726,
          -0.07204009369815284,
          null
         ]
        },
        {
         "hoverinfo": "text",
         "line": {
          "color": "cornflowerblue",
          "width": 6.680457276540708
         },
         "mode": "lines",
         "text": [
          "Cancel Goods Issue--Create Intercompany credit memo"
         ],
         "type": "scatter",
         "x": [
          0.12202006477317892,
          0.008571203167793716,
          null
         ],
         "y": [
          0.027268284269077726,
          -0.2258729994276078,
          null
         ]
        },
        {
         "hoverinfo": "text",
         "line": {
          "color": "cornflowerblue",
          "width": 6.521896700512891
         },
         "mode": "lines",
         "text": [
          "Cancel Goods Issue--Create Shipment"
         ],
         "type": "scatter",
         "x": [
          0.12202006477317892,
          0.13549968408565216,
          null
         ],
         "y": [
          0.027268284269077726,
          -0.03621926643088185,
          null
         ]
        },
        {
         "hoverinfo": "text",
         "line": {
          "color": "cornflowerblue",
          "width": 6.0744452423585455
         },
         "mode": "lines",
         "text": [
          "Change Inco Terms (Part 1)--Change Payment Terms"
         ],
         "type": "scatter",
         "x": [
          -0.06405663485270553,
          -0.04811715829223775,
          null
         ],
         "y": [
          -0.20742830658080527,
          -0.16151611140258565,
          null
         ]
        },
        {
         "hoverinfo": "text",
         "line": {
          "color": "cornflowerblue",
          "width": 6.580731597180535
         },
         "mode": "lines",
         "text": [
          "Change Inco Terms (Part 1)--Create Intercompany invoice"
         ],
         "type": "scatter",
         "x": [
          -0.06405663485270553,
          0.07495999171979624,
          null
         ],
         "y": [
          -0.20742830658080527,
          -0.07204009369815284,
          null
         ]
        },
        {
         "hoverinfo": "text",
         "line": {
          "color": "cornflowerblue",
          "width": 6.115910521193155
         },
         "mode": "lines",
         "text": [
          "Change Inco Terms (Part 1)--Create Purchase Order"
         ],
         "type": "scatter",
         "x": [
          -0.06405663485270553,
          -0.10545432009503505,
          null
         ],
         "y": [
          -0.20742830658080527,
          -0.09850709740293291,
          null
         ]
        },
        {
         "hoverinfo": "text",
         "line": {
          "color": "cornflowerblue",
          "width": 6.44313712201274
         },
         "mode": "lines",
         "text": [
          "Change Inco Terms (Part 1)--Change Requested Delivery Date"
         ],
         "type": "scatter",
         "x": [
          -0.06405663485270553,
          -0.10705315947754912,
          null
         ],
         "y": [
          -0.20742830658080527,
          -0.15443925700666747,
          null
         ]
        },
        {
         "hoverinfo": "text",
         "line": {
          "color": "cornflowerblue",
          "width": 6.29769232981559
         },
         "mode": "lines",
         "text": [
          "Change Inco Terms (Part 1)--Set Delivery Block"
         ],
         "type": "scatter",
         "x": [
          -0.06405663485270553,
          0.060439448504209126,
          null
         ],
         "y": [
          -0.20742830658080527,
          -0.1641885374509435,
          null
         ]
        },
        {
         "hoverinfo": "text",
         "line": {
          "color": "cornflowerblue",
          "width": 5.8402782192447384
         },
         "mode": "lines",
         "text": [
          "Change Payment Terms--Cancel Reason for Rejection"
         ],
         "type": "scatter",
         "x": [
          -0.04811715829223775,
          -0.1713416255106839,
          null
         ],
         "y": [
          -0.16151611140258565,
          -0.03347457892650524,
          null
         ]
        },
        {
         "hoverinfo": "text",
         "line": {
          "color": "cornflowerblue",
          "width": 5.422892101129667
         },
         "mode": "lines",
         "text": [
          "Change Payment Terms--Create Pro forma invoice"
         ],
         "type": "scatter",
         "x": [
          -0.04811715829223775,
          0.020153840383762067,
          null
         ],
         "y": [
          -0.16151611140258565,
          0.04841294718093922,
          null
         ]
        },
        {
         "hoverinfo": "text",
         "line": {
          "color": "cornflowerblue",
          "width": 6.394496141065444
         },
         "mode": "lines",
         "text": [
          "Change Payment Terms--Create Intercompany invoice"
         ],
         "type": "scatter",
         "x": [
          -0.04811715829223775,
          0.07495999171979624,
          null
         ],
         "y": [
          -0.16151611140258565,
          -0.07204009369815284,
          null
         ]
        },
        {
         "hoverinfo": "text",
         "line": {
          "color": "cornflowerblue",
          "width": 6.580731597180535
         },
         "mode": "lines",
         "text": [
          "Change Payment Terms--Remove Delivery Block"
         ],
         "type": "scatter",
         "x": [
          -0.04811715829223775,
          -0.15543868292748345,
          null
         ],
         "y": [
          -0.16151611140258565,
          -0.06736765946384478,
          null
         ]
        },
        {
         "hoverinfo": "text",
         "line": {
          "color": "cornflowerblue",
          "width": 6.363789308003696
         },
         "mode": "lines",
         "text": [
          "Change Payment Terms--Create Purchase Order"
         ],
         "type": "scatter",
         "x": [
          -0.04811715829223775,
          -0.10545432009503505,
          null
         ],
         "y": [
          -0.16151611140258565,
          -0.09850709740293291,
          null
         ]
        },
        {
         "hoverinfo": "text",
         "line": {
          "color": "cornflowerblue",
          "width": 7.154224655599844
         },
         "mode": "lines",
         "text": [
          "Change Payment Terms--Change WBS element"
         ],
         "type": "scatter",
         "x": [
          -0.04811715829223775,
          -0.2947669953276553,
          null
         ],
         "y": [
          -0.16151611140258565,
          -0.1309282510652095,
          null
         ]
        },
        {
         "hoverinfo": "text",
         "line": {
          "color": "cornflowerblue",
          "width": 3.8640575011332703
         },
         "mode": "lines",
         "text": [
          "Change Payment Terms--Create Intercompany credit memo"
         ],
         "type": "scatter",
         "x": [
          -0.04811715829223775,
          0.008571203167793716,
          null
         ],
         "y": [
          -0.16151611140258565,
          -0.2258729994276078,
          null
         ]
        },
        {
         "hoverinfo": "text",
         "line": {
          "color": "cornflowerblue",
          "width": 5.457881936219375
         },
         "mode": "lines",
         "text": [
          "Change Payment Terms--Change Requested Delivery Date"
         ],
         "type": "scatter",
         "x": [
          -0.04811715829223775,
          -0.10705315947754912,
          null
         ],
         "y": [
          -0.16151611140258565,
          -0.15443925700666747,
          null
         ]
        },
        {
         "hoverinfo": "text",
         "line": {
          "color": "cornflowerblue",
          "width": 6.405614058608512
         },
         "mode": "lines",
         "text": [
          "Change Payment Terms--Change Material"
         ],
         "type": "scatter",
         "x": [
          -0.04811715829223775,
          -0.09746144469076383,
          null
         ],
         "y": [
          -0.16151611140258565,
          0.07981998593333302,
          null
         ]
        },
        {
         "hoverinfo": "text",
         "line": {
          "color": "cornflowerblue",
          "width": 5.575917536991545
         },
         "mode": "lines",
         "text": [
          "Cancel Reason for Rejection--Remove Delivery Block"
         ],
         "type": "scatter",
         "x": [
          -0.1713416255106839,
          -0.15543868292748345,
          null
         ],
         "y": [
          -0.03347457892650524,
          -0.06736765946384478,
          null
         ]
        },
        {
         "hoverinfo": "text",
         "line": {
          "color": "cornflowerblue",
          "width": 5.636395455954346
         },
         "mode": "lines",
         "text": [
          "Cancel Reason for Rejection--Create Pro forma invoice"
         ],
         "type": "scatter",
         "x": [
          -0.1713416255106839,
          0.020153840383762067,
          null
         ],
         "y": [
          -0.03347457892650524,
          0.04841294718093922,
          null
         ]
        },
        {
         "hoverinfo": "text",
         "line": {
          "color": "cornflowerblue",
          "width": 0
         },
         "mode": "lines",
         "text": [
          "Cancel Reason for Rejection--Change WBS element"
         ],
         "type": "scatter",
         "x": [
          -0.1713416255106839,
          -0.2947669953276553,
          null
         ],
         "y": [
          -0.03347457892650524,
          -0.1309282510652095,
          null
         ]
        },
        {
         "hoverinfo": "text",
         "line": {
          "color": "cornflowerblue",
          "width": 5.718041441783734
         },
         "mode": "lines",
         "text": [
          "Cancel Reason for Rejection--Change Delivery Block"
         ],
         "type": "scatter",
         "x": [
          -0.1713416255106839,
          -0.4097001313894779,
          null
         ],
         "y": [
          -0.03347457892650524,
          -0.050566752625627306,
          null
         ]
        },
        {
         "hoverinfo": "text",
         "line": {
          "color": "cornflowerblue",
          "width": 6.879570116199113
         },
         "mode": "lines",
         "text": [
          "Cancel Reason for Rejection--Create Purchase Order"
         ],
         "type": "scatter",
         "x": [
          -0.1713416255106839,
          -0.10545432009503505,
          null
         ],
         "y": [
          -0.03347457892650524,
          -0.09850709740293291,
          null
         ]
        },
        {
         "hoverinfo": "text",
         "line": {
          "color": "cornflowerblue",
          "width": 7.14458474940091
         },
         "mode": "lines",
         "text": [
          "Cancel Reason for Rejection--Create Intercompany credit memo"
         ],
         "type": "scatter",
         "x": [
          -0.1713416255106839,
          0.008571203167793716,
          null
         ],
         "y": [
          -0.03347457892650524,
          -0.2258729994276078,
          null
         ]
        },
        {
         "hoverinfo": "text",
         "line": {
          "color": "cornflowerblue",
          "width": 6.775356577953548
         },
         "mode": "lines",
         "text": [
          "Cancel Reason for Rejection--Create Intercompany invoice"
         ],
         "type": "scatter",
         "x": [
          -0.1713416255106839,
          0.07495999171979624,
          null
         ],
         "y": [
          -0.03347457892650524,
          -0.07204009369815284,
          null
         ]
        },
        {
         "hoverinfo": "text",
         "line": {
          "color": "cornflowerblue",
          "width": 6.243373705909034
         },
         "mode": "lines",
         "text": [
          "Cancel Reason for Rejection--Change Requested Delivery Date"
         ],
         "type": "scatter",
         "x": [
          -0.1713416255106839,
          -0.10705315947754912,
          null
         ],
         "y": [
          -0.03347457892650524,
          -0.15443925700666747,
          null
         ]
        },
        {
         "hoverinfo": "text",
         "line": {
          "color": "cornflowerblue",
          "width": 0
         },
         "mode": "lines",
         "text": [
          "Cancel Reason for Rejection--Change Reason for Rejection"
         ],
         "type": "scatter",
         "x": [
          -0.1713416255106839,
          -0.1329923460541953,
          null
         ],
         "y": [
          -0.03347457892650524,
          0.16637033138116322,
          null
         ]
        },
        {
         "hoverinfo": "text",
         "line": {
          "color": "cornflowerblue",
          "width": 6.580107326920611
         },
         "mode": "lines",
         "text": [
          "Cancel Reason for Rejection--Change Material"
         ],
         "type": "scatter",
         "x": [
          -0.1713416255106839,
          -0.09746144469076383,
          null
         ],
         "y": [
          -0.03347457892650524,
          0.07981998593333302,
          null
         ]
        },
        {
         "hoverinfo": "text",
         "line": {
          "color": "cornflowerblue",
          "width": 2.0347056478384444
         },
         "mode": "lines",
         "text": [
          "Cancel Reason for Rejection--Change Item Category"
         ],
         "type": "scatter",
         "x": [
          -0.1713416255106839,
          -0.19046702188185693,
          null
         ],
         "y": [
          -0.03347457892650524,
          0.06648488050147651,
          null
         ]
        },
        {
         "hoverinfo": "text",
         "line": {
          "color": "cornflowerblue",
          "width": 7.145511542664193
         },
         "mode": "lines",
         "text": [
          "Create Intercompany invoice--Create Intercompany credit memo"
         ],
         "type": "scatter",
         "x": [
          0.07495999171979624,
          0.008571203167793716,
          null
         ],
         "y": [
          -0.07204009369815284,
          -0.2258729994276078,
          null
         ]
        },
        {
         "hoverinfo": "text",
         "line": {
          "color": "cornflowerblue",
          "width": 6.712206628607088
         },
         "mode": "lines",
         "text": [
          "Create Intercompany invoice--Create Pro forma invoice"
         ],
         "type": "scatter",
         "x": [
          0.07495999171979624,
          0.020153840383762067,
          null
         ],
         "y": [
          -0.07204009369815284,
          0.04841294718093922,
          null
         ]
        },
        {
         "hoverinfo": "text",
         "line": {
          "color": "cornflowerblue",
          "width": 6.586068201227671
         },
         "mode": "lines",
         "text": [
          "Create Intercompany invoice--Create Shipment"
         ],
         "type": "scatter",
         "x": [
          0.07495999171979624,
          0.13549968408565216,
          null
         ],
         "y": [
          -0.07204009369815284,
          -0.03621926643088185,
          null
         ]
        },
        {
         "hoverinfo": "text",
         "line": {
          "color": "cornflowerblue",
          "width": 6.535930438417928
         },
         "mode": "lines",
         "text": [
          "Create Intercompany invoice--Change Material"
         ],
         "type": "scatter",
         "x": [
          0.07495999171979624,
          -0.09746144469076383,
          null
         ],
         "y": [
          -0.07204009369815284,
          0.07981998593333302,
          null
         ]
        },
        {
         "hoverinfo": "text",
         "line": {
          "color": "cornflowerblue",
          "width": 6.376712775462598
         },
         "mode": "lines",
         "text": [
          "Create Intercompany invoice--Create Purchase Order"
         ],
         "type": "scatter",
         "x": [
          0.07495999171979624,
          -0.10545432009503505,
          null
         ],
         "y": [
          -0.07204009369815284,
          -0.09850709740293291,
          null
         ]
        },
        {
         "hoverinfo": "text",
         "line": {
          "color": "cornflowerblue",
          "width": 6.918175796310021
         },
         "mode": "lines",
         "text": [
          "Create Intercompany invoice--Change Requested Delivery Date"
         ],
         "type": "scatter",
         "x": [
          0.07495999171979624,
          -0.10705315947754912,
          null
         ],
         "y": [
          -0.07204009369815284,
          -0.15443925700666747,
          null
         ]
        },
        {
         "hoverinfo": "text",
         "line": {
          "color": "cornflowerblue",
          "width": 6.695087910335801
         },
         "mode": "lines",
         "text": [
          "Create Intercompany invoice--Set Delivery Block"
         ],
         "type": "scatter",
         "x": [
          0.07495999171979624,
          0.060439448504209126,
          null
         ],
         "y": [
          -0.07204009369815284,
          -0.1641885374509435,
          null
         ]
        },
        {
         "hoverinfo": "text",
         "line": {
          "color": "cornflowerblue",
          "width": 6.2688437265638655
         },
         "mode": "lines",
         "text": [
          "Create Pro forma invoice--Create Intercompany credit memo"
         ],
         "type": "scatter",
         "x": [
          0.020153840383762067,
          0.008571203167793716,
          null
         ],
         "y": [
          0.04841294718093922,
          -0.2258729994276078,
          null
         ]
        },
        {
         "hoverinfo": "text",
         "line": {
          "color": "cornflowerblue",
          "width": 6.746079131498712
         },
         "mode": "lines",
         "text": [
          "Create Pro forma invoice--Create Purchase Order"
         ],
         "type": "scatter",
         "x": [
          0.020153840383762067,
          -0.10545432009503505,
          null
         ],
         "y": [
          0.04841294718093922,
          -0.09850709740293291,
          null
         ]
        },
        {
         "hoverinfo": "text",
         "line": {
          "color": "cornflowerblue",
          "width": 7.040893886143215
         },
         "mode": "lines",
         "text": [
          "Create Pro forma invoice--Create Shipment"
         ],
         "type": "scatter",
         "x": [
          0.020153840383762067,
          0.13549968408565216,
          null
         ],
         "y": [
          0.04841294718093922,
          -0.03621926643088185,
          null
         ]
        },
        {
         "hoverinfo": "text",
         "line": {
          "color": "cornflowerblue",
          "width": 6.4892429245245395
         },
         "mode": "lines",
         "text": [
          "Create Pro forma invoice--Remove Delivery Block"
         ],
         "type": "scatter",
         "x": [
          0.020153840383762067,
          -0.15543868292748345,
          null
         ],
         "y": [
          0.04841294718093922,
          -0.06736765946384478,
          null
         ]
        },
        {
         "hoverinfo": "text",
         "line": {
          "color": "cornflowerblue",
          "width": 7.002337921468085
         },
         "mode": "lines",
         "text": [
          "Create Pro forma invoice--Change Material"
         ],
         "type": "scatter",
         "x": [
          0.020153840383762067,
          -0.09746144469076383,
          null
         ],
         "y": [
          0.04841294718093922,
          0.07981998593333302,
          null
         ]
        },
        {
         "hoverinfo": "text",
         "line": {
          "color": "cornflowerblue",
          "width": 6.180378906871532
         },
         "mode": "lines",
         "text": [
          "Create Pro forma invoice--Set Delivery Block"
         ],
         "type": "scatter",
         "x": [
          0.020153840383762067,
          0.060439448504209126,
          null
         ],
         "y": [
          0.04841294718093922,
          -0.1641885374509435,
          null
         ]
        },
        {
         "hoverinfo": "text",
         "line": {
          "color": "cornflowerblue",
          "width": 7.004178475517111
         },
         "mode": "lines",
         "text": [
          "Create Pro forma invoice--Change Requested Delivery Date"
         ],
         "type": "scatter",
         "x": [
          0.020153840383762067,
          -0.10705315947754912,
          null
         ],
         "y": [
          0.04841294718093922,
          -0.15443925700666747,
          null
         ]
        },
        {
         "hoverinfo": "text",
         "line": {
          "color": "cornflowerblue",
          "width": 6.123113961588727
         },
         "mode": "lines",
         "text": [
          "Create Pro forma invoice--Change Item Category"
         ],
         "type": "scatter",
         "x": [
          0.020153840383762067,
          -0.19046702188185693,
          null
         ],
         "y": [
          0.04841294718093922,
          0.06648488050147651,
          null
         ]
        },
        {
         "hoverinfo": "text",
         "line": {
          "color": "cornflowerblue",
          "width": 6.1276512653995585
         },
         "mode": "lines",
         "text": [
          "Create Purchase Order--Change Requested Delivery Date"
         ],
         "type": "scatter",
         "x": [
          -0.10545432009503505,
          -0.10705315947754912,
          null
         ],
         "y": [
          -0.09850709740293291,
          -0.15443925700666747,
          null
         ]
        },
        {
         "hoverinfo": "text",
         "line": {
          "color": "cornflowerblue",
          "width": 6.714726605044494
         },
         "mode": "lines",
         "text": [
          "Create Purchase Order--Change Item Category"
         ],
         "type": "scatter",
         "x": [
          -0.10545432009503505,
          -0.19046702188185693,
          null
         ],
         "y": [
          -0.09850709740293291,
          0.06648488050147651,
          null
         ]
        },
        {
         "hoverinfo": "text",
         "line": {
          "color": "cornflowerblue",
          "width": 6.863306925496402
         },
         "mode": "lines",
         "text": [
          "Create Purchase Order--Create Intercompany credit memo"
         ],
         "type": "scatter",
         "x": [
          -0.10545432009503505,
          0.008571203167793716,
          null
         ],
         "y": [
          -0.09850709740293291,
          -0.2258729994276078,
          null
         ]
        },
        {
         "hoverinfo": "text",
         "line": {
          "color": "cornflowerblue",
          "width": 6.204658767568524
         },
         "mode": "lines",
         "text": [
          "Create Purchase Order--Set Delivery Block"
         ],
         "type": "scatter",
         "x": [
          -0.10545432009503505,
          0.060439448504209126,
          null
         ],
         "y": [
          -0.09850709740293291,
          -0.1641885374509435,
          null
         ]
        },
        {
         "hoverinfo": "text",
         "line": {
          "color": "cornflowerblue",
          "width": 5.981877067083156
         },
         "mode": "lines",
         "text": [
          "Create Purchase Order--Remove Delivery Block"
         ],
         "type": "scatter",
         "x": [
          -0.10545432009503505,
          -0.15543868292748345,
          null
         ],
         "y": [
          -0.09850709740293291,
          -0.06736765946384478,
          null
         ]
        },
        {
         "hoverinfo": "text",
         "line": {
          "color": "cornflowerblue",
          "width": 6.488837589294092
         },
         "mode": "lines",
         "text": [
          "Create Purchase Order--Change Material"
         ],
         "type": "scatter",
         "x": [
          -0.10545432009503505,
          -0.09746144469076383,
          null
         ],
         "y": [
          -0.09850709740293291,
          0.07981998593333302,
          null
         ]
        },
        {
         "hoverinfo": "text",
         "line": {
          "color": "cornflowerblue",
          "width": 5.411162303915489
         },
         "mode": "lines",
         "text": [
          "Create Purchase Order--Create Shipment"
         ],
         "type": "scatter",
         "x": [
          -0.10545432009503505,
          0.13549968408565216,
          null
         ],
         "y": [
          -0.09850709740293291,
          -0.03621926643088185,
          null
         ]
        },
        {
         "hoverinfo": "text",
         "line": {
          "color": "cornflowerblue",
          "width": 5.550793157223531
         },
         "mode": "lines",
         "text": [
          "Change Requested Delivery Date--Change Material"
         ],
         "type": "scatter",
         "x": [
          -0.10705315947754912,
          -0.09746144469076383,
          null
         ],
         "y": [
          -0.15443925700666747,
          0.07981998593333302,
          null
         ]
        },
        {
         "hoverinfo": "text",
         "line": {
          "color": "cornflowerblue",
          "width": 6.581597993200791
         },
         "mode": "lines",
         "text": [
          "Change Requested Delivery Date--Change Item Category"
         ],
         "type": "scatter",
         "x": [
          -0.10705315947754912,
          -0.19046702188185693,
          null
         ],
         "y": [
          -0.15443925700666747,
          0.06648488050147651,
          null
         ]
        },
        {
         "hoverinfo": "text",
         "line": {
          "color": "cornflowerblue",
          "width": 6.481934390616899
         },
         "mode": "lines",
         "text": [
          "Change Requested Delivery Date--Remove Delivery Block"
         ],
         "type": "scatter",
         "x": [
          -0.10705315947754912,
          -0.15543868292748345,
          null
         ],
         "y": [
          -0.15443925700666747,
          -0.06736765946384478,
          null
         ]
        },
        {
         "hoverinfo": "text",
         "line": {
          "color": "cornflowerblue",
          "width": 3.8717217086546203
         },
         "mode": "lines",
         "text": [
          "Change Requested Delivery Date--Create Shipment"
         ],
         "type": "scatter",
         "x": [
          -0.10705315947754912,
          0.13549968408565216,
          null
         ],
         "y": [
          -0.15443925700666747,
          -0.03621926643088185,
          null
         ]
        },
        {
         "hoverinfo": "text",
         "line": {
          "color": "cornflowerblue",
          "width": 6.6941287963597675
         },
         "mode": "lines",
         "text": [
          "Change Requested Delivery Date--Set Delivery Block"
         ],
         "type": "scatter",
         "x": [
          -0.10705315947754912,
          0.060439448504209126,
          null
         ],
         "y": [
          -0.15443925700666747,
          -0.1641885374509435,
          null
         ]
        },
        {
         "hoverinfo": "text",
         "line": {
          "color": "cornflowerblue",
          "width": 6.41500148270988
         },
         "mode": "lines",
         "text": [
          "Remove Delivery Block--Set Delivery Block"
         ],
         "type": "scatter",
         "x": [
          -0.15543868292748345,
          0.060439448504209126,
          null
         ],
         "y": [
          -0.06736765946384478,
          -0.1641885374509435,
          null
         ]
        },
        {
         "hoverinfo": "text",
         "line": {
          "color": "cornflowerblue",
          "width": 0
         },
         "mode": "lines",
         "text": [
          "Remove Delivery Block--Change WBS element"
         ],
         "type": "scatter",
         "x": [
          -0.15543868292748345,
          -0.2947669953276553,
          null
         ],
         "y": [
          -0.06736765946384478,
          -0.1309282510652095,
          null
         ]
        },
        {
         "hoverinfo": "text",
         "line": {
          "color": "cornflowerblue",
          "width": 6.443601174525293
         },
         "mode": "lines",
         "text": [
          "Remove Delivery Block--Change Material"
         ],
         "type": "scatter",
         "x": [
          -0.15543868292748345,
          -0.09746144469076383,
          null
         ],
         "y": [
          -0.06736765946384478,
          0.07981998593333302,
          null
         ]
        },
        {
         "hoverinfo": "text",
         "line": {
          "color": "cornflowerblue",
          "width": 6.918151055164257
         },
         "mode": "lines",
         "text": [
          "Remove Delivery Block--Create Intercompany credit memo"
         ],
         "type": "scatter",
         "x": [
          -0.15543868292748345,
          0.008571203167793716,
          null
         ],
         "y": [
          -0.06736765946384478,
          -0.2258729994276078,
          null
         ]
        },
        {
         "hoverinfo": "text",
         "line": {
          "color": "cornflowerblue",
          "width": 4.942177993451348
         },
         "mode": "lines",
         "text": [
          "Remove Delivery Block--Change Item Category"
         ],
         "type": "scatter",
         "x": [
          -0.15543868292748345,
          -0.19046702188185693,
          null
         ],
         "y": [
          -0.06736765946384478,
          0.06648488050147651,
          null
         ]
        },
        {
         "hoverinfo": "text",
         "line": {
          "color": "cornflowerblue",
          "width": 5.587030157626824
         },
         "mode": "lines",
         "text": [
          "Remove Delivery Block--Create Shipment"
         ],
         "type": "scatter",
         "x": [
          -0.15543868292748345,
          0.13549968408565216,
          null
         ],
         "y": [
          -0.06736765946384478,
          -0.03621926643088185,
          null
         ]
        },
        {
         "hoverinfo": "text",
         "line": {
          "color": "cornflowerblue",
          "width": 6.573156286742605
         },
         "mode": "lines",
         "text": [
          "Remove Delivery Block--Change Reason for Rejection"
         ],
         "type": "scatter",
         "x": [
          -0.15543868292748345,
          -0.1329923460541953,
          null
         ],
         "y": [
          -0.06736765946384478,
          0.16637033138116322,
          null
         ]
        },
        {
         "hoverinfo": "text",
         "line": {
          "color": "cornflowerblue",
          "width": 0
         },
         "mode": "lines",
         "text": [
          "Change WBS element--Change Delivery Block"
         ],
         "type": "scatter",
         "x": [
          -0.2947669953276553,
          -0.4097001313894779,
          null
         ],
         "y": [
          -0.1309282510652095,
          -0.050566752625627306,
          null
         ]
        },
        {
         "hoverinfo": "text",
         "line": {
          "color": "cornflowerblue",
          "width": 6.821207430910015
         },
         "mode": "lines",
         "text": [
          "Set Delivery Block--Create Intercompany credit memo"
         ],
         "type": "scatter",
         "x": [
          0.060439448504209126,
          0.008571203167793716,
          null
         ],
         "y": [
          -0.1641885374509435,
          -0.2258729994276078,
          null
         ]
        },
        {
         "hoverinfo": "text",
         "line": {
          "color": "cornflowerblue",
          "width": 6.686973519773285
         },
         "mode": "lines",
         "text": [
          "Set Delivery Block--Create Shipment"
         ],
         "type": "scatter",
         "x": [
          0.060439448504209126,
          0.13549968408565216,
          null
         ],
         "y": [
          -0.1641885374509435,
          -0.03621926643088185,
          null
         ]
        },
        {
         "hoverinfo": "text",
         "line": {
          "color": "cornflowerblue",
          "width": 6.012165463632015
         },
         "mode": "lines",
         "text": [
          "Create Intercompany credit memo--Create Shipment"
         ],
         "type": "scatter",
         "x": [
          0.008571203167793716,
          0.13549968408565216,
          null
         ],
         "y": [
          -0.2258729994276078,
          -0.03621926643088185,
          null
         ]
        },
        {
         "hoverinfo": "text",
         "line": {
          "color": "cornflowerblue",
          "width": 3.107944264160919
         },
         "mode": "lines",
         "text": [
          "Change Material--Change Item Category"
         ],
         "type": "scatter",
         "x": [
          -0.09746144469076383,
          -0.19046702188185693,
          null
         ],
         "y": [
          0.07981998593333302,
          0.06648488050147651,
          null
         ]
        },
        {
         "hoverinfo": "text",
         "line": {
          "color": "cornflowerblue",
          "width": 6.958472157273845
         },
         "mode": "lines",
         "text": [
          "Set Billing Block--Remove Billing Block"
         ],
         "type": "scatter",
         "x": [
          0.5092044324325731,
          0.7962403407606097,
          null
         ],
         "y": [
          0.6491631944234448,
          0.9243324459531308,
          null
         ]
        },
        {
         "hoverinfo": "text",
         "line": {
          "color": "cornflowerblue",
          "width": 6.922988659622726
         },
         "mode": "lines",
         "text": [
          "Set Billing Block--Change Billing Block"
         ],
         "type": "scatter",
         "x": [
          0.5092044324325731,
          0.6974904149094611,
          null
         ],
         "y": [
          0.6491631944234448,
          1,
          null
         ]
        },
        {
         "hoverinfo": "text",
         "line": {
          "color": "cornflowerblue",
          "width": 6.875498924950475
         },
         "mode": "lines",
         "text": [
          "Remove Billing Block--Change Billing Block"
         ],
         "type": "scatter",
         "x": [
          0.7962403407606097,
          0.6974904149094611,
          null
         ],
         "y": [
          0.9243324459531308,
          1,
          null
         ]
        },
        {
         "hoverinfo": "text",
         "marker": {
          "color": [],
          "size": [
           10,
           10,
           10,
           10,
           10,
           10,
           10,
           10,
           10,
           10,
           10,
           10,
           10,
           10,
           10,
           10,
           10,
           10,
           10,
           10,
           10,
           10,
           10,
           10,
           10,
           10,
           10,
           10,
           10,
           10,
           10,
           10,
           10,
           10,
           10,
           10,
           10,
           10,
           10,
           10,
           10,
           10,
           10,
           10,
           10,
           10,
           10,
           10,
           10,
           10,
           10
          ]
         },
         "mode": "markers",
         "text": [
          "<b>Material Availability Date passed</b>",
          "<b>Create Sales Order</b>",
          "<b>Create Sales Order Item</b>",
          "<b>Set Reason for Rejection</b>",
          "<b>Change Shipping Point</b>",
          "<b>Change Plant</b>",
          "<b>Change Route</b>",
          "<b>Create Picking</b>",
          "<b>Create Invoice</b>",
          "<b>Change Inco Terms (Part 2)</b>",
          "<b>Change Price</b>",
          "<b>Create Invoice cancellation</b>",
          "<b>Change Requested Quantity</b>",
          "<b>Change Material Availability Date</b>",
          "<b>Change Confirmed Goods Issue Date</b>",
          "<b>Change Confirmed Delivery Date</b>",
          "<b>Customer Acceptance (L650)</b>",
          "<b>Clear Invoice</b>",
          "<b>Set Initial Delivery Block</b>",
          "<b>Change Confirmed Quantity</b>",
          "<b>Create Debit memo</b>",
          "<b>Create Credit memo</b>",
          "<b>Clear Credit Memo</b>",
          "<b>Create Returns delivery for order</b>",
          "<b>Record Return Goods Receipt</b>",
          "<b>Change Delivery Grouping</b>",
          "<b>Change Requested Goods Issue Date</b>",
          "<b>Create Credit memo cancellation</b>",
          "<b>Create Delivery</b>",
          "<b>Record Goods Issue</b>",
          "<b>Cancel Goods Issue</b>",
          "<b>Change Inco Terms (Part 1)</b>",
          "<b>Change Payment Terms</b>",
          "<b>Cancel Reason for Rejection</b>",
          "<b>Create Intercompany invoice</b>",
          "<b>Send Order Confirmation</b>",
          "<b>Create Pro forma invoice</b>",
          "<b>Create Purchase Order</b>",
          "<b>Change Requested Delivery Date</b>",
          "<b>Remove Delivery Block</b>",
          "<b>Change WBS element</b>",
          "<b>Set Delivery Block</b>",
          "<b>Create Intercompany credit memo</b>",
          "<b>Change Material</b>",
          "<b>Change Item Category</b>",
          "<b>Create Shipment</b>",
          "<b>Change Delivery Block</b>",
          "<b>Change Reason for Rejection</b>",
          "<b>Set Billing Block</b>",
          "<b>Remove Billing Block</b>",
          "<b>Change Billing Block</b>"
         ],
         "textfont": {
          "size": 10
         },
         "textposition": "top center",
         "type": "scatter",
         "x": [
          0.00033244457775494116,
          -0.10255036805201083,
          -0.12556775007719934,
          -0.03870879685324301,
          -0.04021834781634519,
          -0.03477416256721846,
          -0.13499318315779704,
          0.034876309299064864,
          0.042953018299347084,
          -0.13239457224717427,
          0.01347428135292946,
          0.08656877822062127,
          -0.03191216289795912,
          -0.057483588782378345,
          -0.06032875122517457,
          0.04129574492817072,
          -0.1725870841102398,
          0.08028618362315233,
          -0.175647569371099,
          -0.11035131812659899,
          0.29544192826388105,
          0.13059550114804544,
          0.3088639038075001,
          0.08383999610658,
          0.022926828201015118,
          -0.1589274296008866,
          -0.06728640707088565,
          0.13269682438952626,
          -0.012615544154824417,
          -0.00230069740355961,
          0.12202006477317892,
          -0.06405663485270553,
          -0.04811715829223775,
          -0.1713416255106839,
          0.07495999171979624,
          -0.4632339089403814,
          0.020153840383762067,
          -0.10545432009503505,
          -0.10705315947754912,
          -0.15543868292748345,
          -0.2947669953276553,
          0.060439448504209126,
          0.008571203167793716,
          -0.09746144469076383,
          -0.19046702188185693,
          0.13549968408565216,
          -0.4097001313894779,
          -0.1329923460541953,
          0.5092044324325731,
          0.7962403407606097,
          0.6974904149094611
         ],
         "y": [
          -0.07274611955361339,
          -0.009551241773920307,
          -0.029180252454778694,
          -0.037176102343799346,
          0.05546257685434959,
          0.10220224726971819,
          0.042392265010211275,
          -0.042224385974545725,
          -0.1030570125999229,
          -0.12176702996987479,
          -0.12155578350748211,
          -0.11495218044397325,
          -0.11649828164252744,
          -0.07205714767902631,
          0.02292633874076355,
          0.007345246826011747,
          -0.24369615140160536,
          0.08527563812700825,
          -0.1063361366010542,
          -0.05866993943082722,
          -0.15655576538459473,
          -0.08633072544484394,
          -0.07361643744726096,
          -0.028146529453390672,
          -0.18102982957917835,
          0.0016237800191684357,
          -0.11583308886210894,
          -0.2135544141778976,
          0.014383872923265805,
          -0.013244841929723427,
          0.027268284269077726,
          -0.20742830658080527,
          -0.16151611140258565,
          -0.03347457892650524,
          -0.07204009369815284,
          0.22686427372465331,
          0.04841294718093922,
          -0.09850709740293291,
          -0.15443925700666747,
          -0.06736765946384478,
          -0.1309282510652095,
          -0.1641885374509435,
          -0.2258729994276078,
          0.07981998593333302,
          0.06648488050147651,
          -0.03621926643088185,
          -0.050566752625627306,
          0.16637033138116322,
          0.6491631944234448,
          0.9243324459531308,
          1
         ]
        }
       ],
       "layout": {
        "annotations": [
         {
          "arrowhead": 4,
          "arrowsize": 1,
          "arrowwidth": 1,
          "ax": -0.05110896173712794,
          "axref": "x",
          "ay": -0.04114868066376685,
          "ayref": "y",
          "opacity": 0.6,
          "showarrow": true,
          "x": -0.0253882585796865,
          "xref": "x",
          "y": -0.05694740010869012,
          "yref": "y"
         },
         {
          "arrowhead": 4,
          "arrowsize": 1,
          "arrowwidth": 1,
          "ax": -0.0626176527497222,
          "axref": "x",
          "ay": -0.05096318600419604,
          "ayref": "y",
          "opacity": 0.6,
          "showarrow": true,
          "x": -0.031142604085983627,
          "xref": "x",
          "y": -0.06185465277890472,
          "yref": "y"
         },
         {
          "arrowhead": 4,
          "arrowsize": 1,
          "arrowwidth": 1,
          "ax": 0.017604376938409903,
          "axref": "x",
          "ay": -0.05748525276407956,
          "ayref": "y",
          "opacity": 0.6,
          "showarrow": true,
          "x": 0.008968410758082423,
          "xref": "x",
          "y": -0.06511568615884647,
          "yref": "y"
         },
         {
          "arrowhead": 4,
          "arrowsize": 1,
          "arrowwidth": 1,
          "ax": -0.06603106383470966,
          "axref": "x",
          "ay": -0.0972565747617441,
          "ayref": "y",
          "opacity": 0.6,
          "showarrow": true,
          "x": -0.03284930962847736,
          "xref": "x",
          "y": -0.08500134715767874,
          "yref": "y"
         },
         {
          "arrowhead": 4,
          "arrowsize": 1,
          "arrowwidth": 1,
          "ax": 0.021642731438551013,
          "axref": "x",
          "ay": -0.08790156607676815,
          "ayref": "y",
          "opacity": 0.6,
          "showarrow": true,
          "x": 0.010987588008152978,
          "xref": "x",
          "y": -0.08032384281519077,
          "yref": "y"
         },
         {
          "arrowhead": 4,
          "arrowsize": 1,
          "arrowwidth": 1,
          "ax": -0.0285755721023117,
          "axref": "x",
          "ay": -0.07240163361631985,
          "ayref": "y",
          "opacity": 0.6,
          "showarrow": true,
          "x": -0.01412156376227838,
          "xref": "x",
          "y": -0.07257387658496663,
          "yref": "y"
         },
         {
          "arrowhead": 4,
          "arrowsize": 1,
          "arrowwidth": 1,
          "ax": -0.08612731976624242,
          "axref": "x",
          "ay": -0.15822113547760938,
          "ayref": "y",
          "opacity": 0.6,
          "showarrow": true,
          "x": -0.04289743759424374,
          "xref": "x",
          "y": -0.11548362751561139,
          "yref": "y"
         },
         {
          "arrowhead": 4,
          "arrowsize": 1,
          "arrowwidth": 1,
          "ax": -0.08765756239667202,
          "axref": "x",
          "ay": -0.0895411280773338,
          "ayref": "y",
          "opacity": 0.6,
          "showarrow": true,
          "x": -0.04366255890945854,
          "xref": "x",
          "y": -0.0811436238154736,
          "yref": "y"
         },
         {
          "arrowhead": 4,
          "arrowsize": 1,
          "arrowwidth": 1,
          "ax": -0.019188176137744033,
          "axref": "x",
          "ay": -0.05496111094870637,
          "ayref": "y",
          "opacity": 0.6,
          "showarrow": true,
          "x": -0.009427865779994545,
          "xref": "x",
          "y": -0.06385361525115989,
          "yref": "y"
         },
         {
          "arrowhead": 4,
          "arrowsize": 1,
          "arrowwidth": 1,
          "ax": 0.147887186420818,
          "axref": "x",
          "ay": -0.11465094246910407,
          "ayref": "y",
          "opacity": 0.6,
          "showarrow": true,
          "x": 0.07410981549928647,
          "xref": "x",
          "y": -0.09369853101135872,
          "yref": "y"
         },
         {
          "arrowhead": 4,
          "arrowsize": 1,
          "arrowwidth": 1,
          "ax": 0.04208622034216747,
          "axref": "x",
          "ay": -0.05044632450350203,
          "ayref": "y",
          "opacity": 0.6,
          "showarrow": true,
          "x": 0.021209332459961205,
          "xref": "x",
          "y": -0.06159622202855771,
          "yref": "y"
         },
         {
          "arrowhead": 4,
          "arrowsize": 1,
          "arrowwidth": 1,
          "ax": -0.029998153323709816,
          "axref": "x",
          "ay": -0.02490989040642492,
          "ayref": "y",
          "opacity": 0.6,
          "showarrow": true,
          "x": -0.014832854372977437,
          "xref": "x",
          "y": -0.04882800498001916,
          "yref": "y"
         },
         {
          "arrowhead": 4,
          "arrowsize": 1,
          "arrowwidth": 1,
          "ax": -0.015789859160102088,
          "axref": "x",
          "ay": -0.09462220059807042,
          "ayref": "y",
          "opacity": 0.6,
          "showarrow": true,
          "x": -0.0077287072911735736,
          "xref": "x",
          "y": -0.08368416007584191,
          "yref": "y"
         },
         {
          "arrowhead": 4,
          "arrowsize": 1,
          "arrowwidth": 1,
          "ax": 0.020814094752962833,
          "axref": "x",
          "ay": -0.03270043636380082,
          "ayref": "y",
          "opacity": 0.6,
          "showarrow": true,
          "x": 0.010573269665358886,
          "xref": "x",
          "y": -0.052723277958707106,
          "yref": "y"
         },
         {
          "arrowhead": 4,
          "arrowsize": 1,
          "arrowwidth": 1,
          "ax": 0.0069033629653422,
          "axref": "x",
          "ay": -0.09715095153054776,
          "ayref": "y",
          "opacity": 0.6,
          "showarrow": true,
          "x": 0.0036179037715485707,
          "xref": "x",
          "y": -0.08494853554208057,
          "yref": "y"
         },
         {
          "arrowhead": 4,
          "arrowsize": 1,
          "arrowwidth": 1,
          "ax": -0.07929749251156583,
          "axref": "x",
          "ay": -0.03556116976722248,
          "ayref": "y",
          "opacity": 0.6,
          "showarrow": true,
          "x": -0.03948252396690544,
          "xref": "x",
          "y": -0.054153644660417936,
          "yref": "y"
         },
         {
          "arrowhead": 4,
          "arrowsize": 1,
          "arrowwidth": 1,
          "ax": -0.006141549788534738,
          "axref": "x",
          "ay": -0.029181123315173793,
          "ayref": "y",
          "opacity": 0.6,
          "showarrow": true,
          "x": -0.0029045526053898983,
          "xref": "x",
          "y": -0.05096362143439359,
          "yref": "y"
         },
         {
          "arrowhead": 4,
          "arrowsize": 1,
          "arrowwidth": 1,
          "ax": 0.04030931410045364,
          "axref": "x",
          "ay": 0.006264759286697431,
          "ayref": "y",
          "opacity": 0.6,
          "showarrow": true,
          "x": 0.02032087933910429,
          "xref": "x",
          "y": -0.03324068013345798,
          "yref": "y"
         },
         {
          "arrowhead": 4,
          "arrowsize": 1,
          "arrowwidth": 1,
          "ax": 0.06546397286290019,
          "axref": "x",
          "ay": -0.07953842249922866,
          "ayref": "y",
          "opacity": 0.6,
          "showarrow": true,
          "x": 0.03289820872032757,
          "xref": "x",
          "y": -0.07614227102642103,
          "yref": "y"
         },
         {
          "arrowhead": 4,
          "arrowsize": 1,
          "arrowwidth": 1,
          "ax": 0.0665146344836406,
          "axref": "x",
          "ay": -0.1431502668657555,
          "ayref": "y",
          "opacity": 0.6,
          "showarrow": true,
          "x": 0.03342353953069777,
          "xref": "x",
          "y": -0.10794819320968445,
          "yref": "y"
         },
         {
          "arrowhead": 4,
          "arrowsize": 1,
          "arrowwidth": 1,
          "ax": -0.023892356857241403,
          "axref": "x",
          "ay": -0.11713111547809951,
          "ayref": "y",
          "opacity": 0.6,
          "showarrow": true,
          "x": -0.011779956139743232,
          "xref": "x",
          "y": -0.09493861751585646,
          "yref": "y"
         },
         {
          "arrowhead": 4,
          "arrowsize": 1,
          "arrowwidth": 1,
          "ax": -0.05500943677442202,
          "axref": "x",
          "ay": -0.06570802949222031,
          "ayref": "y",
          "opacity": 0.6,
          "showarrow": true,
          "x": -0.02733849609833354,
          "xref": "x",
          "y": -0.06922707452291685,
          "yref": "y"
         },
         {
          "arrowhead": 4,
          "arrowsize": 1,
          "arrowwidth": 1,
          "ax": -0.06733036929002105,
          "axref": "x",
          "ay": -0.015176927271701057,
          "ayref": "y",
          "opacity": 0.6,
          "showarrow": true,
          "x": -0.033498962356133054,
          "xref": "x",
          "y": -0.04396152341265723,
          "yref": "y"
         },
         {
          "arrowhead": 4,
          "arrowsize": 1,
          "arrowwidth": 1,
          "ax": 0.03764621814877559,
          "axref": "x",
          "ay": -0.07239310662588311,
          "ayref": "y",
          "opacity": 0.6,
          "showarrow": true,
          "x": 0.018989331363265267,
          "xref": "x",
          "y": -0.07256961308974826,
          "yref": "y"
         },
         {
          "arrowhead": 4,
          "arrowsize": 1,
          "arrowwidth": 1,
          "ax": -0.033476981246565354,
          "axref": "x",
          "ay": -0.09428960420786117,
          "ayref": "y",
          "opacity": 0.6,
          "showarrow": true,
          "x": -0.016572268334405206,
          "xref": "x",
          "y": -0.08351786188073729,
          "yref": "y"
         },
         {
          "arrowhead": 4,
          "arrowsize": 1,
          "arrowwidth": 1,
          "ax": 0.043450611399188106,
          "axref": "x",
          "ay": -0.09384914999879332,
          "ayref": "y",
          "opacity": 0.6,
          "showarrow": true,
          "x": 0.021891527988471524,
          "xref": "x",
          "y": -0.08329763477620336,
          "yref": "y"
         },
         {
          "arrowhead": 4,
          "arrowsize": 1,
          "arrowwidth": 1,
          "ax": -0.08550459046646448,
          "axref": "x",
          "ay": -0.053110349240059314,
          "ayref": "y",
          "opacity": 0.6,
          "showarrow": true,
          "x": -0.04258607294435477,
          "xref": "x",
          "y": -0.06292823439683636,
          "yref": "y"
         },
         {
          "arrowhead": 4,
          "arrowsize": 1,
          "arrowwidth": 1,
          "ax": -0.052560937758640056,
          "axref": "x",
          "ay": -0.08562660847827315,
          "ayref": "y",
          "opacity": 0.6,
          "showarrow": true,
          "x": -0.026114246590442557,
          "xref": "x",
          "y": -0.07918636401594327,
          "yref": "y"
         },
         {
          "arrowhead": 4,
          "arrowsize": 1,
          "arrowwidth": 1,
          "ax": -0.0009841264129023346,
          "axref": "x",
          "ay": -0.04299548074166841,
          "ayref": "y",
          "opacity": 0.6,
          "showarrow": true,
          "x": -0.0003258409175736967,
          "xref": "x",
          "y": -0.0578708001476409,
          "yref": "y"
         },
         {
          "arrowhead": 4,
          "arrowsize": 1,
          "arrowwidth": 1,
          "ax": -0.05336035744989709,
          "axref": "x",
          "ay": -0.11359268828014044,
          "ayref": "y",
          "opacity": 0.6,
          "showarrow": true,
          "x": -0.026513956436071073,
          "xref": "x",
          "y": -0.09316940391687692,
          "yref": "y"
         },
         {
          "arrowhead": 4,
          "arrowsize": 1,
          "arrowwidth": 1,
          "ax": 0.010243142480758504,
          "axref": "x",
          "ay": -0.012166586186337085,
          "ayref": "y",
          "opacity": 0.6,
          "showarrow": true,
          "x": 0.0052877935292567225,
          "xref": "x",
          "y": -0.04245635286997524,
          "yref": "y"
         },
         {
          "arrowhead": 4,
          "arrowsize": 1,
          "arrowwidth": 1,
          "ax": 0.030385946540982034,
          "axref": "x",
          "ay": -0.11846732850227845,
          "ayref": "y",
          "opacity": 0.6,
          "showarrow": true,
          "x": 0.015359195559368488,
          "xref": "x",
          "y": -0.09560672402794593,
          "yref": "y"
         },
         {
          "arrowhead": 4,
          "arrowsize": 1,
          "arrowwidth": 1,
          "ax": 0.004451823872774328,
          "axref": "x",
          "ay": -0.1493095594906106,
          "ayref": "y",
          "opacity": 0.6,
          "showarrow": true,
          "x": 0.002392134225264635,
          "xref": "x",
          "y": -0.111027839522112,
          "yref": "y"
         },
         {
          "arrowhead": 4,
          "arrowsize": 1,
          "arrowwidth": 1,
          "ax": -0.048564500056504444,
          "axref": "x",
          "ay": 0.0035369331898598144,
          "ayref": "y",
          "opacity": 0.6,
          "showarrow": true,
          "x": -0.02411602773937475,
          "xref": "x",
          "y": -0.034604593181876794,
          "yref": "y"
         },
         {
          "arrowhead": 4,
          "arrowsize": 1,
          "arrowwidth": 1,
          "ax": -0.07755311917486425,
          "axref": "x",
          "ay": -0.07005688950872908,
          "ayref": "y",
          "opacity": 0.6,
          "showarrow": true,
          "x": -0.038610337298554655,
          "xref": "x",
          "y": -0.07140150453117124,
          "yref": "y"
         },
         {
          "arrowhead": 4,
          "arrowsize": 1,
          "arrowwidth": 1,
          "ax": -0.017220858994731757,
          "axref": "x",
          "ay": 0.0147280638580524,
          "ayref": "y",
          "opacity": 0.6,
          "showarrow": true,
          "x": -0.00844420720848841,
          "xref": "x",
          "y": -0.0290090278477805,
          "yref": "y"
         },
         {
          "arrowhead": 4,
          "arrowsize": 1,
          "arrowwidth": 1,
          "ax": -0.095067288652051,
          "axref": "x",
          "ay": -0.00313061952606844,
          "ayref": "y",
          "opacity": 0.6,
          "showarrow": true,
          "x": -0.04736742203714803,
          "xref": "x",
          "y": -0.03793836953984092,
          "yref": "y"
         },
         {
          "arrowhead": 4,
          "arrowsize": 1,
          "arrowwidth": 1,
          "ax": -0.031862095137475295,
          "axref": "x",
          "ay": -0.14008721306720934,
          "ayref": "y",
          "opacity": 0.6,
          "showarrow": true,
          "x": -0.015764825279860176,
          "xref": "x",
          "y": -0.10641666631041136,
          "yref": "y"
         },
         {
          "arrowhead": 4,
          "arrowsize": 1,
          "arrowwidth": 1,
          "ax": 0.01162963638938503,
          "axref": "x",
          "ay": -0.12688797456639586,
          "ayref": "y",
          "opacity": 0.6,
          "showarrow": true,
          "x": 0.005981040483569985,
          "xref": "x",
          "y": -0.09981704706000463,
          "yref": "y"
         },
         {
          "arrowhead": 4,
          "arrowsize": 1,
          "arrowwidth": 1,
          "ax": -0.019942951619295123,
          "axref": "x",
          "ay": -0.0086417713496319,
          "ayref": "y",
          "opacity": 0.6,
          "showarrow": true,
          "x": -0.00980525352077009,
          "xref": "x",
          "y": -0.04069394545162265,
          "yref": "y"
         },
         {
          "arrowhead": 4,
          "arrowsize": 1,
          "arrowwidth": 1,
          "ax": 0.06791606433170355,
          "axref": "x",
          "ay": -0.05448269299224762,
          "ayref": "y",
          "opacity": 0.6,
          "showarrow": true,
          "x": 0.03412425445472925,
          "xref": "x",
          "y": -0.06361440627293051,
          "yref": "y"
         },
         {
          "arrowhead": 4,
          "arrowsize": 1,
          "arrowwidth": 1,
          "ax": 0.06117625467546693,
          "axref": "x",
          "ay": -0.022738917642267834,
          "ayref": "y",
          "opacity": 0.6,
          "showarrow": true,
          "x": 0.030754349626610937,
          "xref": "x",
          "y": -0.04774251859794061,
          "yref": "y"
         },
         {
          "arrowhead": 4,
          "arrowsize": 1,
          "arrowwidth": 1,
          "ax": -0.06632995073822018,
          "axref": "x",
          "ay": 0.04681210591377492,
          "ayref": "y",
          "opacity": 0.6,
          "showarrow": true,
          "x": -0.03299875308023262,
          "xref": "x",
          "y": -0.01296700681991924,
          "yref": "y"
         },
         {
          "arrowhead": 4,
          "arrowsize": 1,
          "arrowwidth": 1,
          "ax": -0.1472172753749502,
          "axref": "x",
          "ay": -0.10183718530941144,
          "ayref": "y",
          "opacity": 0.6,
          "showarrow": true,
          "x": -0.07344241539859762,
          "xref": "x",
          "y": -0.08729165243151242,
          "yref": "y"
         },
         {
          "arrowhead": 4,
          "arrowsize": 1,
          "arrowwidth": 1,
          "ax": 0.15459817419262753,
          "axref": "x",
          "ay": -0.07318127850043718,
          "ayref": "y",
          "opacity": 0.6,
          "showarrow": true,
          "x": 0.07746530938519124,
          "xref": "x",
          "y": -0.07296369902702529,
          "yref": "y"
         },
         {
          "arrowhead": 4,
          "arrowsize": 1,
          "arrowwidth": 1,
          "ax": -0.11405905906460509,
          "axref": "x",
          "ay": -0.0193657471143495,
          "ayref": "y",
          "opacity": 0.6,
          "showarrow": true,
          "x": -0.10830471355830795,
          "xref": "x",
          "y": -0.014458494444134905,
          "yref": "y"
         },
         {
          "arrowhead": 4,
          "arrowsize": 1,
          "arrowwidth": 1,
          "ax": -0.03383702937647298,
          "axref": "x",
          "ay": -0.025887813874233015,
          "ayref": "y",
          "opacity": 0.6,
          "showarrow": true,
          "x": -0.0681936987142419,
          "xref": "x",
          "y": -0.01771952782407666,
          "yref": "y"
         },
         {
          "arrowhead": 4,
          "arrowsize": 1,
          "arrowwidth": 1,
          "ax": -0.1375687260811253,
          "axref": "x",
          "ay": -0.12662369658776285,
          "ayref": "y",
          "opacity": 0.6,
          "showarrow": true,
          "x": -0.12005954706656807,
          "xref": "x",
          "y": -0.06808746918084158,
          "yref": "y"
         },
         {
          "arrowhead": 4,
          "arrowsize": 1,
          "arrowwidth": 1,
          "ax": -0.13909896871155492,
          "axref": "x",
          "ay": -0.057943689187487254,
          "ayref": "y",
          "opacity": 0.6,
          "showarrow": true,
          "x": -0.12082466838178287,
          "xref": "x",
          "y": -0.03374746548070378,
          "yref": "y"
         },
         {
          "arrowhead": 4,
          "arrowsize": 1,
          "arrowwidth": 1,
          "ax": -0.029798674876331872,
          "axref": "x",
          "ay": -0.056304127186921606,
          "ayref": "y",
          "opacity": 0.6,
          "showarrow": true,
          "x": -0.06617452146417135,
          "xref": "x",
          "y": -0.03292768448042096,
          "yref": "y"
         },
         {
          "arrowhead": 4,
          "arrowsize": 1,
          "arrowwidth": 1,
          "ax": -0.07062958245262692,
          "axref": "x",
          "ay": -0.023363672058859825,
          "ayref": "y",
          "opacity": 0.6,
          "showarrow": true,
          "x": -0.08658997525231887,
          "xref": "x",
          "y": -0.016457456916390067,
          "yref": "y"
         },
         {
          "arrowhead": 4,
          "arrowsize": 1,
          "arrowwidth": 1,
          "ax": -0.10645084308930491,
          "axref": "x",
          "ay": -0.034110590602373765,
          "ayref": "y",
          "opacity": 0.6,
          "showarrow": true,
          "x": -0.10450060557065786,
          "xref": "x",
          "y": -0.021830916188147035,
          "yref": "y"
         },
         {
          "arrowhead": 4,
          "arrowsize": 1,
          "arrowwidth": 1,
          "ax": -0.2828921384961961,
          "axref": "x",
          "ay": 0.1086565159753665,
          "ayref": "y",
          "opacity": 0.6,
          "showarrow": true,
          "x": -0.19272125327410347,
          "xref": "x",
          "y": 0.0495526371007231,
          "yref": "y"
         },
         {
          "arrowhead": 4,
          "arrowsize": 1,
          "arrowwidth": 1,
          "ax": -0.009355185972715417,
          "axref": "x",
          "ay": -0.01884888561365549,
          "ayref": "y",
          "opacity": 0.6,
          "showarrow": true,
          "x": -0.05595277701236312,
          "xref": "x",
          "y": -0.014200063693787898,
          "yref": "y"
         },
         {
          "arrowhead": 4,
          "arrowsize": 1,
          "arrowwidth": 1,
          "ax": -0.0814395596385927,
          "axref": "x",
          "ay": 0.006687548483421621,
          "ayref": "y",
          "opacity": 0.6,
          "showarrow": true,
          "x": -0.09199496384530176,
          "xref": "x",
          "y": -0.0014318466452493432,
          "yref": "y"
         },
         {
          "arrowhead": 4,
          "arrowsize": 1,
          "arrowwidth": 1,
          "ax": -0.04453804334954069,
          "axref": "x",
          "ay": -0.06555351264070121,
          "ayref": "y",
          "opacity": 0.6,
          "showarrow": true,
          "x": -0.07354420570077576,
          "xref": "x",
          "y": -0.03755237720731076,
          "yref": "y"
         },
         {
          "arrowhead": 4,
          "arrowsize": 1,
          "arrowwidth": 1,
          "ax": -0.06723126547498498,
          "axref": "x",
          "ay": -0.06302476170822388,
          "ayref": "y",
          "opacity": 0.6,
          "showarrow": true,
          "x": -0.0848908167634979,
          "xref": "x",
          "y": -0.03628800174107209,
          "yref": "y"
         },
         {
          "arrowhead": 4,
          "arrowsize": 1,
          "arrowwidth": 1,
          "ax": -0.08491838756144823,
          "axref": "x",
          "ay": -0.06269216531801462,
          "ayref": "y",
          "opacity": 0.6,
          "showarrow": true,
          "x": -0.09373437780672952,
          "xref": "x",
          "y": -0.036121703545967464,
          "yref": "y"
         },
         {
          "arrowhead": 4,
          "arrowsize": 1,
          "arrowwidth": 1,
          "ax": -0.07533376317212429,
          "axref": "x",
          "ay": -0.08553367658825298,
          "ayref": "y",
          "opacity": 0.6,
          "showarrow": true,
          "x": -0.08894206561206755,
          "xref": "x",
          "y": -0.04754245918108664,
          "yref": "y"
         },
         {
          "arrowhead": 4,
          "arrowsize": 1,
          "arrowwidth": 1,
          "ax": -0.12899452548974713,
          "axref": "x",
          "ay": -0.03845945061888254,
          "ayref": "y",
          "opacity": 0.6,
          "showarrow": true,
          "x": -0.11577244677087897,
          "xref": "x",
          "y": -0.024005346196401427,
          "yref": "y"
         },
         {
          "arrowhead": 4,
          "arrowsize": 1,
          "arrowwidth": 1,
          "ax": -0.030627311561920053,
          "axref": "x",
          "ay": -0.00110299747395428,
          "ayref": "y",
          "opacity": 0.6,
          "showarrow": true,
          "x": -0.06658883980696544,
          "xref": "x",
          "y": -0.005327119623937294,
          "yref": "y"
         },
         {
          "arrowhead": 4,
          "arrowsize": 1,
          "arrowwidth": 1,
          "ax": -0.11747247014959256,
          "axref": "x",
          "ay": -0.06565913587189755,
          "ayref": "y",
          "opacity": 0.6,
          "showarrow": true,
          "x": -0.11001141910080169,
          "xref": "x",
          "y": -0.037605188822908926,
          "yref": "y"
         },
         {
          "arrowhead": 4,
          "arrowsize": 1,
          "arrowwidth": 1,
          "ax": -0.04119826383412438,
          "axref": "x",
          "ay": 0.019430852703509457,
          "ayref": "y",
          "opacity": 0.6,
          "showarrow": true,
          "x": -0.0718743159430676,
          "xref": "x",
          "y": 0.004939805464794575,
          "yref": "y"
         },
         {
          "arrowhead": 4,
          "arrowsize": 1,
          "arrowwidth": 1,
          "ax": -0.02105545977390085,
          "axref": "x",
          "ay": -0.0868698896124319,
          "ayref": "y",
          "opacity": 0.6,
          "showarrow": true,
          "x": -0.06180291391295584,
          "xref": "x",
          "y": -0.048210565693176104,
          "yref": "y"
         },
         {
          "arrowhead": 4,
          "arrowsize": 1,
          "arrowwidth": 1,
          "ax": -0.057582956103417626,
          "axref": "x",
          "ay": 0.002416315574672749,
          "ayref": "y",
          "opacity": 0.6,
          "showarrow": true,
          "x": -0.08006666207771422,
          "xref": "x",
          "y": -0.003567463099623779,
          "yref": "y"
         },
         {
          "arrowhead": 4,
          "arrowsize": 1,
          "arrowwidth": 1,
          "ax": -0.013795188166107294,
          "axref": "x",
          "ay": -0.04079566773603657,
          "ayref": "y",
          "opacity": 0.6,
          "showarrow": true,
          "x": -0.05817277810905906,
          "xref": "x",
          "y": -0.02517345475497844,
          "yref": "y"
         },
         {
          "arrowhead": 4,
          "arrowsize": 1,
          "arrowwidth": 1,
          "ax": -0.10480176376477998,
          "axref": "x",
          "ay": -0.08199524939029389,
          "ayref": "y",
          "opacity": 0.6,
          "showarrow": true,
          "x": -0.1036760659083954,
          "xref": "x",
          "y": -0.045773245582107096,
          "yref": "y"
         },
         {
          "arrowhead": 4,
          "arrowsize": 1,
          "arrowwidth": 1,
          "ax": -0.04698958244210856,
          "axref": "x",
          "ay": -0.11771212060076405,
          "ayref": "y",
          "opacity": 0.6,
          "showarrow": true,
          "x": -0.0747699752470597,
          "xref": "x",
          "y": -0.06363168118734218,
          "yref": "y"
         },
         {
          "arrowhead": 4,
          "arrowsize": 1,
          "arrowwidth": 1,
          "ax": -0.1307388988264487,
          "axref": "x",
          "ay": -0.003963730877375935,
          "ayref": "y",
          "opacity": 0.6,
          "showarrow": true,
          "x": -0.11664463343922976,
          "xref": "x",
          "y": -0.006757486325648121,
          "yref": "y"
         },
         {
          "arrowhead": 4,
          "arrowsize": 1,
          "arrowwidth": 1,
          "ax": -0.08001697841719459,
          "axref": "x",
          "ay": -0.04080419472647331,
          "ayref": "y",
          "opacity": 0.6,
          "showarrow": true,
          "x": -0.09128367323460271,
          "xref": "x",
          "y": -0.02517771825019681,
          "yref": "y"
         },
         {
          "arrowhead": 4,
          "arrowsize": 1,
          "arrowwidth": 1,
          "ax": 0.016474658016820666,
          "axref": "x",
          "ay": -0.022885254102401078,
          "ayref": "y",
          "opacity": 0.6,
          "showarrow": true,
          "x": -0.04303785501759508,
          "xref": "x",
          "y": -0.016218247938160693,
          "yref": "y"
         },
         {
          "arrowhead": 4,
          "arrowsize": 1,
          "arrowwidth": 1,
          "ax": 0.014022566548017305,
          "axref": "x",
          "ay": -0.04794098360938212,
          "ayref": "y",
          "opacity": 0.6,
          "showarrow": true,
          "x": -0.04426390075199676,
          "xref": "x",
          "y": -0.028746112691651213,
          "yref": "y"
         },
         {
          "arrowhead": 4,
          "arrowsize": 1,
          "arrowwidth": 1,
          "ax": -0.10400234407352293,
          "axref": "x",
          "ay": -0.05402916958842661,
          "ayref": "y",
          "opacity": 0.6,
          "showarrow": true,
          "x": -0.10327635606276689,
          "xref": "x",
          "y": -0.03179020568117346,
          "yref": "y"
         },
         {
          "arrowhead": 4,
          "arrowsize": 1,
          "arrowwidth": 1,
          "ax": -0.10000590637138733,
          "axref": "x",
          "ay": 0.03513437207970636,
          "ayref": "y",
          "opacity": 0.6,
          "showarrow": true,
          "x": -0.10127813721169908,
          "xref": "x",
          "y": 0.012791565152893024,
          "yref": "y"
         },
         {
          "arrowhead": 4,
          "arrowsize": 1,
          "arrowwidth": 1,
          "ax": -0.11877177560490393,
          "axref": "x",
          "ay": 0.016420511618145485,
          "ayref": "y",
          "opacity": 0.6,
          "showarrow": true,
          "x": -0.11066107182845739,
          "xref": "x",
          "y": 0.0034346349221125883,
          "yref": "y"
         },
         {
          "arrowhead": 4,
          "arrowsize": 1,
          "arrowwidth": 1,
          "ax": -0.07138435793417801,
          "axref": "x",
          "ay": 0.022955667540214643,
          "ayref": "y",
          "opacity": 0.6,
          "showarrow": true,
          "x": -0.08696736299309442,
          "xref": "x",
          "y": 0.006702212883147167,
          "yref": "y"
         },
         {
          "arrowhead": 4,
          "arrowsize": 1,
          "arrowwidth": 1,
          "ax": -0.08330350145235818,
          "axref": "x",
          "ay": -0.10848977417736279,
          "ayref": "y",
          "opacity": 0.6,
          "showarrow": true,
          "x": -0.0929269347521845,
          "xref": "x",
          "y": -0.05902050797564155,
          "yref": "y"
         },
         {
          "arrowhead": 4,
          "arrowsize": 1,
          "arrowwidth": 1,
          "ax": -0.13694599678134736,
          "axref": "x",
          "ay": -0.02151291035021277,
          "ayref": "y",
          "opacity": 0.6,
          "showarrow": true,
          "x": -0.11974818241667909,
          "xref": "x",
          "y": -0.01553207606206654,
          "yref": "y"
         },
         {
          "arrowhead": 4,
          "arrowsize": 1,
          "arrowwidth": 1,
          "ax": -0.19865868168983308,
          "axref": "x",
          "ay": -0.0702397464195649,
          "ayref": "y",
          "opacity": 0.6,
          "showarrow": true,
          "x": -0.15060452487092196,
          "xref": "x",
          "y": -0.039895494096742604,
          "yref": "y"
         },
         {
          "arrowhead": 4,
          "arrowsize": 1,
          "arrowwidth": 1,
          "ax": -0.06866226530961464,
          "axref": "x",
          "ay": 0.04632550274789894,
          "ayref": "y",
          "opacity": 0.6,
          "showarrow": true,
          "x": -0.08560631668081273,
          "xref": "x",
          "y": 0.01838713048698932,
          "yref": "y"
         },
         {
          "arrowhead": 4,
          "arrowsize": 1,
          "arrowwidth": 1,
          "ax": -0.00799079491569478,
          "axref": "x",
          "ay": -0.062251711108946776,
          "ayref": "y",
          "opacity": 0.6,
          "showarrow": true,
          "x": -0.055270581483852804,
          "xref": "x",
          "y": -0.035901476441433544,
          "yref": "y"
         },
         {
          "arrowhead": 4,
          "arrowsize": 1,
          "arrowwidth": 1,
          "ax": 0.015073228168757717,
          "axref": "x",
          "ay": -0.11155282797590896,
          "ayref": "y",
          "opacity": 0.6,
          "showarrow": true,
          "x": -0.04373856994162655,
          "xref": "x",
          "y": -0.06055203487491463,
          "yref": "y"
         },
         {
          "arrowhead": 4,
          "arrowsize": 1,
          "arrowwidth": 1,
          "ax": -0.011132092214429248,
          "axref": "x",
          "ay": 0.037862198176543974,
          "ayref": "y",
          "opacity": 0.6,
          "showarrow": true,
          "x": -0.05684123013322004,
          "xref": "x",
          "y": 0.014155478201311833,
          "yref": "y"
         },
         {
          "arrowhead": 4,
          "arrowsize": 1,
          "arrowwidth": 1,
          "ax": -0.25612524972074435,
          "axref": "x",
          "ay": -0.030058997199773806,
          "ayref": "y",
          "opacity": 0.6,
          "showarrow": true,
          "x": -0.1793378088863776,
          "xref": "x",
          "y": -0.01980511948684706,
          "yref": "y"
         },
         {
          "arrowhead": 4,
          "arrowsize": 1,
          "arrowwidth": 1,
          "ax": -0.1465086949669339,
          "axref": "x",
          "ay": 0.028466819363778102,
          "ayref": "y",
          "opacity": 0.6,
          "showarrow": true,
          "x": -0.12452953150947235,
          "xref": "x",
          "y": 0.009457788794928897,
          "yref": "y"
         },
         {
          "arrowhead": 4,
          "arrowsize": 1,
          "arrowwidth": 1,
          "ax": -0.039811769925497856,
          "axref": "x",
          "ay": -0.09529053567654933,
          "ayref": "y",
          "opacity": 0.6,
          "showarrow": true,
          "x": -0.07118106898875434,
          "xref": "x",
          "y": -0.052420888725234815,
          "yref": "y"
         },
         {
          "arrowhead": 4,
          "arrowsize": 1,
          "arrowwidth": 1,
          "ax": -0.08213827346522118,
          "axref": "x",
          "ay": -0.03317817739928902,
          "ayref": "y",
          "opacity": 0.6,
          "showarrow": true,
          "x": -0.10385301177121026,
          "xref": "x",
          "y": -0.031179214927033856,
          "yref": "y"
         },
         {
          "arrowhead": 4,
          "arrowsize": 1,
          "arrowwidth": 1,
          "ax": -0.08289304894677227,
          "axref": "x",
          "ay": 0.013141162199785448,
          "ayref": "y",
          "opacity": 0.6,
          "showarrow": true,
          "x": -0.1042303995119858,
          "xref": "x",
          "y": -0.008019545127496624,
          "yref": "y"
         },
         {
          "arrowhead": 4,
          "arrowsize": 1,
          "arrowwidth": 1,
          "ax": -0.045345720389067236,
          "axref": "x",
          "ay": -0.03570231921466221,
          "ayref": "y",
          "opacity": 0.6,
          "showarrow": true,
          "x": -0.08545673523313328,
          "xref": "x",
          "y": -0.03244128583472045,
          "yref": "y"
         },
         {
          "arrowhead": 4,
          "arrowsize": 1,
          "arrowwidth": 1,
          "ax": -0.041307365888926126,
          "axref": "x",
          "ay": -0.0661186325273508,
          "ayref": "y",
          "opacity": 0.6,
          "showarrow": true,
          "x": -0.08343755798306274,
          "xref": "x",
          "y": -0.047649442491064745,
          "yref": "y"
         },
         {
          "arrowhead": 4,
          "arrowsize": 1,
          "arrowwidth": 1,
          "ax": -0.14907741709371958,
          "axref": "x",
          "ay": -0.13643820192819203,
          "ayref": "y",
          "opacity": 0.6,
          "showarrow": true,
          "x": -0.13732258358545946,
          "xref": "x",
          "y": -0.08280922719148537,
          "yref": "y"
         },
         {
          "arrowhead": 4,
          "arrowsize": 1,
          "arrowwidth": 1,
          "ax": -0.15060765972414916,
          "axref": "x",
          "ay": -0.06775819452791645,
          "ayref": "y",
          "opacity": 0.6,
          "showarrow": true,
          "x": -0.13808770490067424,
          "xref": "x",
          "y": -0.04846922349134757,
          "yref": "y"
         },
         {
          "arrowhead": 4,
          "arrowsize": 1,
          "arrowwidth": 1,
          "ax": -0.07873995648757923,
          "axref": "x",
          "ay": -0.07283926704865307,
          "ayref": "y",
          "opacity": 0.6,
          "showarrow": true,
          "x": -0.10215385328238928,
          "xref": "x",
          "y": -0.051009759751715886,
          "yref": "y"
         },
         {
          "arrowhead": 4,
          "arrowsize": 1,
          "arrowwidth": 1,
          "ax": -0.11795953410189916,
          "axref": "x",
          "ay": -0.04392509594280296,
          "ayref": "y",
          "opacity": 0.6,
          "showarrow": true,
          "x": -0.12176364208954925,
          "xref": "x",
          "y": -0.036552674198790824,
          "yref": "y"
         },
         {
          "arrowhead": 4,
          "arrowsize": 1,
          "arrowwidth": 1,
          "ax": 0.0035645371561634637,
          "axref": "x",
          "ay": -0.12136733331633816,
          "ayref": "y",
          "opacity": 0.6,
          "showarrow": true,
          "x": -0.061001606460517936,
          "xref": "x",
          "y": -0.07527379288555842,
          "yref": "y"
         },
         {
          "arrowhead": 4,
          "arrowsize": 1,
          "arrowwidth": 1,
          "ax": -0.2944008295087904,
          "axref": "x",
          "ay": 0.0988420106349373,
          "ayref": "y",
          "opacity": 0.6,
          "showarrow": true,
          "x": -0.20998428979299485,
          "xref": "x",
          "y": 0.03483087909007931,
          "yref": "y"
         },
         {
          "arrowhead": 4,
          "arrowsize": 1,
          "arrowwidth": 1,
          "ax": -0.08684245418471855,
          "axref": "x",
          "ay": -0.09534818192868218,
          "ayref": "y",
          "opacity": 0.6,
          "showarrow": true,
          "x": -0.10620510213095893,
          "xref": "x",
          "y": -0.062264217191730434,
          "yref": "y"
         },
         {
          "arrowhead": 4,
          "arrowsize": 1,
          "arrowwidth": 1,
          "ax": -0.0964270785740425,
          "axref": "x",
          "ay": -0.07250667065844382,
          "ayref": "y",
          "opacity": 0.6,
          "showarrow": true,
          "x": -0.11099741432562091,
          "xref": "x",
          "y": -0.05084346155661126,
          "yref": "y"
         },
         {
          "arrowhead": 4,
          "arrowsize": 1,
          "arrowwidth": 1,
          "ax": -0.02086387698530967,
          "axref": "x",
          "ay": -0.028663390954084683,
          "ayref": "y",
          "opacity": 0.6,
          "showarrow": true,
          "x": -0.0732158135312545,
          "xref": "x",
          "y": -0.02892182170443169,
          "yref": "y"
         },
         {
          "arrowhead": 4,
          "arrowsize": 1,
          "arrowwidth": 1,
          "ax": 0.002513875535423052,
          "axref": "x",
          "ay": -0.057755488949811314,
          "ayref": "y",
          "opacity": 0.6,
          "showarrow": true,
          "x": -0.06152693727088814,
          "xref": "x",
          "y": -0.043467870702295006,
          "yref": "y"
         },
         {
          "arrowhead": 4,
          "arrowsize": 1,
          "arrowwidth": 1,
          "ax": -0.09152566942978885,
          "axref": "x",
          "ay": -0.0506187000669025,
          "ayref": "y",
          "opacity": 0.6,
          "showarrow": true,
          "x": -0.10854670975349409,
          "xref": "x",
          "y": -0.0398994762608406,
          "yref": "y"
         },
         {
          "arrowhead": 4,
          "arrowsize": 1,
          "arrowwidth": 1,
          "ax": -0.05604673436213494,
          "axref": "x",
          "ay": -0.07536801798113041,
          "ayref": "y",
          "opacity": 0.6,
          "showarrow": true,
          "x": -0.09080724221966714,
          "xref": "x",
          "y": -0.05227413521795455,
          "yref": "y"
         },
         {
          "arrowhead": 4,
          "arrowsize": 1,
          "arrowwidth": 1,
          "ax": -0.06909164711601187,
          "axref": "x",
          "ay": -0.007398189765756445,
          "ayref": "y",
          "opacity": 0.6,
          "showarrow": true,
          "x": -0.0973296985966056,
          "xref": "x",
          "y": -0.01828922111026757,
          "yref": "y"
         },
         {
          "arrowhead": 4,
          "arrowsize": 1,
          "arrowwidth": 1,
          "ax": -0.1155110350861172,
          "axref": "x",
          "ay": -0.0638436749288558,
          "ayref": "y",
          "opacity": 0.6,
          "showarrow": true,
          "x": -0.12053939258165827,
          "xref": "x",
          "y": -0.046511963691817246,
          "yref": "y"
         },
         {
          "arrowhead": 4,
          "arrowsize": 1,
          "arrowwidth": 1,
          "ax": -0.019499485928289033,
          "axref": "x",
          "ay": -0.07206621644937597,
          "ayref": "y",
          "opacity": 0.6,
          "showarrow": true,
          "x": -0.07253361800274419,
          "xref": "x",
          "y": -0.05062323445207734,
          "yref": "y"
         },
         {
          "arrowhead": 4,
          "arrowsize": 1,
          "arrowwidth": 1,
          "ax": -0.0421360025745143,
          "axref": "x",
          "ay": -0.010917502814383473,
          "ayref": "y",
          "opacity": 0.6,
          "showarrow": true,
          "x": -0.08385187632585682,
          "xref": "x",
          "y": -0.020048877634581085,
          "yref": "y"
         },
         {
          "arrowhead": 4,
          "arrowsize": 1,
          "arrowwidth": 1,
          "ax": -0.09294825065118695,
          "axref": "x",
          "ay": -0.0031269568570075727,
          "ayref": "y",
          "opacity": 0.6,
          "showarrow": true,
          "x": -0.10925800036419314,
          "xref": "x",
          "y": -0.016153604655893133,
          "yref": "y"
         },
         {
          "arrowhead": 4,
          "arrowsize": 1,
          "arrowwidth": 1,
          "ax": -0.022640783227023502,
          "axref": "x",
          "ay": 0.02804769283611478,
          "ayref": "y",
          "opacity": 0.6,
          "showarrow": true,
          "x": -0.07410426665211142,
          "xref": "x",
          "y": -0.0005662798093319585,
          "yref": "y"
         },
         {
          "arrowhead": 4,
          "arrowsize": 1,
          "arrowwidth": 1,
          "ax": -0.025303879178701548,
          "axref": "x",
          "ay": -0.050610173076465766,
          "ayref": "y",
          "opacity": 0.6,
          "showarrow": true,
          "x": -0.07543581462795045,
          "xref": "x",
          "y": -0.03989521276562223,
          "yref": "y"
         },
         {
          "arrowhead": 4,
          "arrowsize": 1,
          "arrowwidth": 1,
          "ax": -0.1289811611621868,
          "axref": "x",
          "ay": -0.07547364121232675,
          "ayref": "y",
          "opacity": 0.6,
          "showarrow": true,
          "x": -0.12727445561969308,
          "xref": "x",
          "y": -0.05232694683355272,
          "yref": "y"
         },
         {
          "arrowhead": 4,
          "arrowsize": 1,
          "arrowwidth": 1,
          "ax": -0.05270695484671863,
          "axref": "x",
          "ay": 0.009616347363080263,
          "ayref": "y",
          "opacity": 0.6,
          "showarrow": true,
          "x": -0.08913735246195899,
          "xref": "x",
          "y": -0.009781952545849217,
          "yref": "y"
         },
         {
          "arrowhead": 4,
          "arrowsize": 1,
          "arrowwidth": 1,
          "ax": -0.21016737270242733,
          "axref": "x",
          "ay": -0.0800542517599941,
          "ayref": "y",
          "opacity": 0.6,
          "showarrow": true,
          "x": -0.16786756138981335,
          "xref": "x",
          "y": -0.054617252107386396,
          "yref": "y"
         },
         {
          "arrowhead": 4,
          "arrowsize": 1,
          "arrowwidth": 1,
          "ax": -0.1302804666174982,
          "axref": "x",
          "ay": 0.00660600627771629,
          "ayref": "y",
          "opacity": 0.6,
          "showarrow": true,
          "x": -0.12792410834734877,
          "xref": "x",
          "y": -0.011287123088531203,
          "yref": "y"
         },
         {
          "arrowhead": 4,
          "arrowsize": 1,
          "arrowwidth": 1,
          "ax": -0.1484546877939416,
          "axref": "x",
          "ay": -0.031327415690641965,
          "ayref": "y",
          "opacity": 0.6,
          "showarrow": true,
          "x": -0.13701121893557047,
          "xref": "x",
          "y": -0.03025383407271033,
          "yref": "y"
         },
         {
          "arrowhead": 4,
          "arrowsize": 1,
          "arrowwidth": 1,
          "ax": -0.14050321650234138,
          "axref": "x",
          "ay": -0.048273955959311735,
          "ayref": "y",
          "opacity": 0.6,
          "showarrow": true,
          "x": -0.13303548328977036,
          "xref": "x",
          "y": -0.03872710420704521,
          "yref": "y"
         },
         {
          "arrowhead": 4,
          "arrowsize": 1,
          "arrowwidth": 1,
          "ax": -0.05849827345470281,
          "axref": "x",
          "ay": -0.12752662594119324,
          "ayref": "y",
          "opacity": 0.6,
          "showarrow": true,
          "x": -0.09203301176595108,
          "xref": "x",
          "y": -0.07835343919798597,
          "yref": "y"
         },
         {
          "arrowhead": 4,
          "arrowsize": 1,
          "arrowwidth": 1,
          "ax": -0.032564150786495105,
          "axref": "x",
          "ay": -0.0966843949528611,
          "ayref": "y",
          "opacity": 0.6,
          "showarrow": true,
          "x": -0.07906595043184722,
          "xref": "x",
          "y": -0.0629323237038199,
          "yref": "y"
         },
         {
          "arrowhead": 4,
          "arrowsize": 1,
          "arrowwidth": 1,
          "ax": -0.15801738597952814,
          "axref": "x",
          "ay": 0.01865231402334891,
          "ayref": "y",
          "opacity": 0.6,
          "showarrow": true,
          "x": -0.14179256802836374,
          "xref": "x",
          "y": -0.005263969215714894,
          "yref": "y"
         },
         {
          "arrowhead": 4,
          "arrowsize": 1,
          "arrowwidth": 1,
          "ax": -0.14224758983904295,
          "axref": "x",
          "ay": -0.013778236217805129,
          "ayref": "y",
          "opacity": 0.6,
          "showarrow": true,
          "x": -0.13390766995812114,
          "xref": "x",
          "y": -0.021479244336291912,
          "yref": "y"
         },
         {
          "arrowhead": 4,
          "arrowsize": 1,
          "arrowwidth": 1,
          "ax": -0.09481219246495243,
          "axref": "x",
          "ay": -0.11830427951779199,
          "ayref": "y",
          "opacity": 0.6,
          "showarrow": true,
          "x": -0.11018997127107588,
          "xref": "x",
          "y": -0.07374226598628533,
          "yref": "y"
         },
         {
          "arrowhead": 4,
          "arrowsize": 1,
          "arrowwidth": 1,
          "ax": -0.11151459738398159,
          "axref": "x",
          "ay": 0.025319866739277164,
          "ayref": "y",
          "opacity": 0.6,
          "showarrow": true,
          "x": -0.11854117373059046,
          "xref": "x",
          "y": -0.001930192857750767,
          "yref": "y"
         },
         {
          "arrowhead": 4,
          "arrowsize": 1,
          "arrowwidth": 1,
          "ax": -0.0801709563222089,
          "axref": "x",
          "ay": 0.03651099740746975,
          "ayref": "y",
          "opacity": 0.6,
          "showarrow": true,
          "x": -0.10286935319970411,
          "xref": "x",
          "y": 0.0036653724763455256,
          "yref": "y"
         },
         {
          "arrowhead": 4,
          "arrowsize": 1,
          "arrowwidth": 1,
          "ax": 0.004965967004226413,
          "axref": "x",
          "ay": -0.032699759442830274,
          "ayref": "y",
          "opacity": 0.6,
          "showarrow": true,
          "x": -0.06030089153648646,
          "xref": "x",
          "y": -0.030940005948804486,
          "yref": "y"
         },
         {
          "arrowhead": 4,
          "arrowsize": 1,
          "arrowwidth": 1,
          "ax": -0.05132046093809211,
          "axref": "x",
          "ay": -0.10510504101697853,
          "ayref": "y",
          "opacity": 0.6,
          "showarrow": true,
          "x": -0.08844410550764573,
          "xref": "x",
          "y": -0.06714264673587861,
          "yref": "y"
         },
         {
          "arrowhead": 4,
          "arrowsize": 1,
          "arrowwidth": 1,
          "ax": -0.11631045477737423,
          "axref": "x",
          "ay": -0.09180975473072309,
          "ayref": "y",
          "opacity": 0.6,
          "showarrow": true,
          "x": -0.12093910242728678,
          "xref": "x",
          "y": -0.06049500359275089,
          "yref": "y"
         },
         {
          "arrowhead": 4,
          "arrowsize": 1,
          "arrowwidth": 1,
          "ax": -0.06393422374037948,
          "axref": "x",
          "ay": -0.02121254719225106,
          "ayref": "y",
          "opacity": 0.6,
          "showarrow": true,
          "x": -0.0947509869087894,
          "xref": "x",
          "y": -0.02519639982351488,
          "yref": "y"
         },
         {
          "arrowhead": 4,
          "arrowsize": 1,
          "arrowwidth": 1,
          "ax": -0.12928004806569732,
          "axref": "x",
          "ay": 0.06859503946319226,
          "ayref": "y",
          "opacity": 0.6,
          "showarrow": true,
          "x": -0.12742389907144833,
          "xref": "x",
          "y": 0.019707393504206784,
          "yref": "y"
         },
         {
          "arrowhead": 4,
          "arrowsize": 1,
          "arrowwidth": 1,
          "ax": -0.2676339407333386,
          "axref": "x",
          "ay": -0.039873502540203,
          "ayref": "y",
          "opacity": 0.6,
          "showarrow": true,
          "x": -0.19660084540526898,
          "xref": "x",
          "y": -0.03452687749749085,
          "yref": "y"
         },
         {
          "arrowhead": 4,
          "arrowsize": 1,
          "arrowwidth": 1,
          "ax": -0.03531047987560106,
          "axref": "x",
          "ay": -0.0768371919931634,
          "ayref": "y",
          "opacity": 0.6,
          "showarrow": true,
          "x": -0.03700963836442203,
          "xref": "x",
          "y": -0.057006647168481375,
          "yref": "y"
         },
         {
          "arrowhead": 4,
          "arrowsize": 1,
          "arrowwidth": 1,
          "ax": -0.08555168455020865,
          "axref": "x",
          "ay": -0.07947156615683706,
          "ayref": "y",
          "opacity": 0.6,
          "showarrow": true,
          "x": -0.06213024070172582,
          "xref": "x",
          "y": -0.05832383425031821,
          "yref": "y"
         },
         {
          "arrowhead": 4,
          "arrowsize": 1,
          "arrowwidth": 1,
          "ax": -0.074530057489921,
          "axref": "x",
          "ay": -0.04792302088731328,
          "ayref": "y",
          "opacity": 0.6,
          "showarrow": true,
          "x": -0.056619427171582,
          "xref": "x",
          "y": -0.042549561615556314,
          "yref": "y"
         },
         {
          "arrowhead": 4,
          "arrowsize": 1,
          "arrowwidth": 1,
          "ax": -0.05299760196206433,
          "axref": "x",
          "ay": -0.07650459560295414,
          "ayref": "y",
          "opacity": 0.6,
          "showarrow": true,
          "x": -0.04585319940765367,
          "xref": "x",
          "y": -0.056840348973376746,
          "yref": "y"
         },
         {
          "arrowhead": 4,
          "arrowsize": 1,
          "arrowwidth": 1,
          "ax": -0.012617257750156773,
          "axref": "x",
          "ay": -0.07936594292564073,
          "ayref": "y",
          "opacity": 0.6,
          "showarrow": true,
          "x": -0.025663027301699892,
          "xref": "x",
          "y": -0.05827102263472004,
          "yref": "y"
         },
         {
          "arrowhead": 4,
          "arrowsize": 1,
          "arrowwidth": 1,
          "ax": 0.0021221107230520384,
          "axref": "x",
          "ay": -0.07011655747186113,
          "ayref": "y",
          "opacity": 0.6,
          "showarrow": true,
          "x": -0.018293343065095485,
          "xref": "x",
          "y": -0.053646329907830234,
          "yref": "y"
         },
         {
          "arrowhead": 4,
          "arrowsize": 1,
          "arrowwidth": 1,
          "ax": -0.10502521118196345,
          "axref": "x",
          "ay": -0.03532534063515229,
          "ayref": "y",
          "opacity": 0.6,
          "showarrow": true,
          "x": -0.07186700401760324,
          "xref": "x",
          "y": -0.03625072148947582,
          "yref": "y"
         },
         {
          "arrowhead": 4,
          "arrowsize": 1,
          "arrowwidth": 1,
          "ax": 0.022565599626668494,
          "axref": "x",
          "ay": -0.03266131589859501,
          "ayref": "y",
          "opacity": 0.6,
          "showarrow": true,
          "x": -0.008071598613287257,
          "xref": "x",
          "y": -0.034918709121197176,
          "yref": "y"
         },
         {
          "arrowhead": 4,
          "arrowsize": 1,
          "arrowwidth": 1,
          "ax": -0.0019162437770890717,
          "axref": "x",
          "ay": -0.03970024415917253,
          "ayref": "y",
          "opacity": 0.6,
          "showarrow": true,
          "x": -0.02031252031516604,
          "xref": "x",
          "y": -0.03843817325148594,
          "yref": "y"
         },
         {
          "arrowhead": 4,
          "arrowsize": 1,
          "arrowwidth": 1,
          "ax": -0.048096192817810676,
          "axref": "x",
          "ay": -0.05461662501141283,
          "ayref": "y",
          "opacity": 0.6,
          "showarrow": true,
          "x": -0.04340249483552684,
          "xref": "x",
          "y": -0.04589636367760609,
          "yref": "y"
         },
         {
          "arrowhead": 4,
          "arrowsize": 1,
          "arrowwidth": 1,
          "ax": 0.02392999068368913,
          "axref": "x",
          "ay": -0.0760641413938863,
          "ayref": "y",
          "opacity": 0.6,
          "showarrow": true,
          "x": -0.007389403084776938,
          "xref": "x",
          "y": -0.056620121868842826,
          "yref": "y"
         },
         {
          "arrowhead": 4,
          "arrowsize": 1,
          "arrowwidth": 1,
          "ax": -0.04951877403920879,
          "axref": "x",
          "ay": -0.0071248818015178985,
          "ayref": "y",
          "opacity": 0.6,
          "showarrow": true,
          "x": -0.0441137854462259,
          "xref": "x",
          "y": -0.022150492072658623,
          "yref": "y"
         },
         {
          "arrowhead": 4,
          "arrowsize": 1,
          "arrowwidth": 1,
          "ax": -0.043412977572740374,
          "axref": "x",
          "ay": -0.0993461068731925,
          "ayref": "y",
          "opacity": 0.6,
          "showarrow": true,
          "x": -0.04106088721299169,
          "xref": "x",
          "y": -0.06826110460849592,
          "yref": "y"
         },
         {
          "arrowhead": 4,
          "arrowsize": 1,
          "arrowwidth": 1,
          "ax": -0.08685099000552002,
          "axref": "x",
          "ay": 0.0026080813332059645,
          "ayref": "y",
          "opacity": 0.6,
          "showarrow": true,
          "x": -0.06277989342938152,
          "xref": "x",
          "y": -0.017284010505296692,
          "yref": "y"
         },
         {
          "arrowhead": 4,
          "arrowsize": 1,
          "arrowwidth": 1,
          "ax": 0.020788693384954662,
          "axref": "x",
          "ay": 0.024049767891604453,
          "ayref": "y",
          "opacity": 0.6,
          "showarrow": true,
          "x": -0.008960051734144173,
          "xref": "x",
          "y": -0.006563167226097448,
          "yref": "y"
         },
         {
          "arrowhead": 4,
          "arrowsize": 1,
          "arrowwidth": 1,
          "ax": -0.0988181132270648,
          "axref": "x",
          "ay": -0.017776161162315455,
          "ayref": "y",
          "opacity": 0.6,
          "showarrow": true,
          "x": -0.06876345504015391,
          "xref": "x",
          "y": -0.027476131753057402,
          "yref": "y"
         },
         {
          "arrowhead": 4,
          "arrowsize": 1,
          "arrowwidth": 1,
          "ax": -0.025662170504033712,
          "axref": "x",
          "ay": -0.011396114710266771,
          "ayref": "y",
          "opacity": 0.6,
          "showarrow": true,
          "x": -0.03218548367863836,
          "xref": "x",
          "y": -0.02428610852703306,
          "yref": "y"
         },
         {
          "arrowhead": 4,
          "arrowsize": 1,
          "arrowwidth": 1,
          "ax": 0.0012934740374638577,
          "axref": "x",
          "ay": -0.0149154277588938,
          "ayref": "y",
          "opacity": 0.6,
          "showarrow": true,
          "x": -0.018707661407889577,
          "xref": "x",
          "y": -0.026045765051346575,
          "yref": "y"
         },
         {
          "arrowhead": 4,
          "arrowsize": 1,
          "arrowwidth": 1,
          "ax": -0.07208155847413902,
          "axref": "x",
          "ay": -0.06784159987336613,
          "ayref": "y",
          "opacity": 0.6,
          "showarrow": true,
          "x": -0.05539517766369102,
          "xref": "x",
          "y": -0.052508851108582735,
          "yref": "y"
         },
         {
          "arrowhead": 4,
          "arrowsize": 1,
          "arrowwidth": 1,
          "ax": -0.07288097816539607,
          "axref": "x",
          "ay": -0.0958076796752334,
          "ayref": "y",
          "opacity": 0.6,
          "showarrow": true,
          "x": -0.05579488750931953,
          "xref": "x",
          "y": -0.06649189100951639,
          "yref": "y"
         },
         {
          "arrowhead": 4,
          "arrowsize": 1,
          "arrowwidth": 1,
          "ax": -0.015068796842724646,
          "axref": "x",
          "ay": -0.13152455088570358,
          "ayref": "y",
          "opacity": 0.6,
          "showarrow": true,
          "x": -0.02688879684798383,
          "xref": "x",
          "y": -0.08435032661475146,
          "yref": "y"
         },
         {
          "arrowhead": 4,
          "arrowsize": 1,
          "arrowwidth": 1,
          "ax": -0.11458790936754998,
          "axref": "x",
          "ay": 0.014654389078838582,
          "ayref": "y",
          "opacity": 0.6,
          "showarrow": true,
          "x": -0.07664835311039649,
          "xref": "x",
          "y": -0.011260856632480384,
          "yref": "y"
         },
         {
          "arrowhead": 4,
          "arrowsize": 1,
          "arrowwidth": 1,
          "ax": -0.05138271585297427,
          "axref": "x",
          "ay": -0.1223022044623023,
          "ayref": "y",
          "opacity": 0.6,
          "showarrow": true,
          "x": -0.04504575635310864,
          "xref": "x",
          "y": -0.07973915340305082,
          "yref": "y"
         },
         {
          "arrowhead": 4,
          "arrowsize": 1,
          "arrowwidth": 1,
          "ax": -0.00927747823474047,
          "axref": "x",
          "ay": 0.005618422418569937,
          "ayref": "y",
          "opacity": 0.6,
          "showarrow": true,
          "x": -0.023993137543991738,
          "xref": "x",
          "y": -0.015778839962614706,
          "yref": "y"
         },
         {
          "arrowhead": 4,
          "arrowsize": 1,
          "arrowwidth": 1,
          "ax": -0.020504747128401307,
          "axref": "x",
          "ay": -0.025210472136761385,
          "ayref": "y",
          "opacity": 0.6,
          "showarrow": true,
          "x": -0.029606771990822157,
          "xref": "x",
          "y": -0.03119328724028037,
          "yref": "y"
         },
         {
          "arrowhead": 4,
          "arrowsize": 1,
          "arrowwidth": 1,
          "ax": 0.045943352147401216,
          "axref": "x",
          "ay": -0.06175341389432164,
          "ayref": "y",
          "opacity": 0.6,
          "showarrow": true,
          "x": 0.003617277647079104,
          "xref": "x",
          "y": -0.049464758119060495,
          "yref": "y"
         },
         {
          "arrowhead": 4,
          "arrowsize": 1,
          "arrowwidth": 1,
          "ax": -0.0394635723347941,
          "axref": "x",
          "ay": 0.009143237255275122,
          "ayref": "y",
          "opacity": 0.6,
          "showarrow": true,
          "x": -0.03908618459401855,
          "xref": "x",
          "y": -0.014016432544262113,
          "yref": "y"
         },
         {
          "arrowhead": 4,
          "arrowsize": 1,
          "arrowwidth": 1,
          "ax": 0.04699401376814163,
          "axref": "x",
          "ay": -0.1253652582608485,
          "ayref": "y",
          "opacity": 0.6,
          "showarrow": true,
          "x": 0.00414260845744931,
          "xref": "x",
          "y": -0.08127068030232391,
          "yref": "y"
         },
         {
          "arrowhead": 4,
          "arrowsize": 1,
          "arrowwidth": 1,
          "ax": -0.09707373989036322,
          "axref": "x",
          "ay": -0.052271880903822066,
          "ayref": "y",
          "opacity": 0.6,
          "showarrow": true,
          "x": -0.06789126837180312,
          "xref": "x",
          "y": -0.0447239916238107,
          "yref": "y"
         },
         {
          "arrowhead": 4,
          "arrowsize": 1,
          "arrowwidth": 1,
          "ax": -0.107178183112171,
          "axref": "x",
          "ay": -0.07175611947242677,
          "ayref": "y",
          "opacity": 0.6,
          "showarrow": true,
          "x": -0.072943489982707,
          "xref": "x",
          "y": -0.05446611090811306,
          "yref": "y"
         },
         {
          "arrowhead": 4,
          "arrowsize": 1,
          "arrowwidth": 1,
          "ax": -0.007890984326113945,
          "axref": "x",
          "ay": -0.10910296596148884,
          "ayref": "y",
          "opacity": 0.6,
          "showarrow": true,
          "x": -0.023299890589678476,
          "xref": "x",
          "y": -0.0731395341526441,
          "yref": "y"
         },
         {
          "arrowhead": 4,
          "arrowsize": 1,
          "arrowwidth": 1,
          "ax": -0.06808512077200342,
          "axref": "x",
          "ay": 0.021321941794766836,
          "ayref": "y",
          "opacity": 0.6,
          "showarrow": true,
          "x": -0.05339695881262321,
          "xref": "x",
          "y": -0.007927080274516256,
          "yref": "y"
         },
         {
          "arrowhead": 4,
          "arrowsize": 1,
          "arrowwidth": 1,
          "ax": 0.018125597433276616,
          "axref": "x",
          "ay": -0.05460809802097609,
          "ayref": "y",
          "opacity": 0.6,
          "showarrow": true,
          "x": -0.010291599709983196,
          "xref": "x",
          "y": -0.04589210018238772,
          "yref": "y"
         },
         {
          "arrowhead": 4,
          "arrowsize": 1,
          "arrowwidth": 1,
          "ax": -0.03674147971023073,
          "axref": "x",
          "ay": 0.032513072462959425,
          "ayref": "y",
          "opacity": 0.6,
          "showarrow": true,
          "x": -0.03772513828173687,
          "xref": "x",
          "y": -0.002331514940419964,
          "yref": "y"
         },
         {
          "arrowhead": 4,
          "arrowsize": 1,
          "arrowwidth": 1,
          "ax": -0.10564794048174139,
          "axref": "x",
          "ay": -0.14043612687270235,
          "ayref": "y",
          "opacity": 0.6,
          "showarrow": true,
          "x": -0.07217836866749221,
          "xref": "x",
          "y": -0.08880611460825086,
          "yref": "y"
         },
         {
          "arrowhead": 4,
          "arrowsize": 1,
          "arrowwidth": 1,
          "ax": 0.04165563395996796,
          "axref": "x",
          "ay": -0.00495390903736081,
          "ayref": "y",
          "opacity": 0.6,
          "showarrow": true,
          "x": 0.0014734185533624745,
          "xref": "x",
          "y": -0.02106500569058008,
          "yref": "y"
         },
         {
          "arrowhead": 4,
          "arrowsize": 1,
          "arrowwidth": 1,
          "ax": -0.08585057145371916,
          "axref": "x",
          "ay": 0.06459711451868194,
          "ayref": "y",
          "opacity": 0.6,
          "showarrow": true,
          "x": -0.06227968415348108,
          "xref": "x",
          "y": 0.013710506087441295,
          "yref": "y"
         },
         {
          "arrowhead": 4,
          "arrowsize": 1,
          "arrowwidth": 1,
          "ax": 0.010865325825483059,
          "axref": "x",
          "ay": -0.10068231989737142,
          "ayref": "y",
          "opacity": 0.6,
          "showarrow": true,
          "x": -0.013921735513879974,
          "xref": "x",
          "y": -0.06892921112058539,
          "yref": "y"
         },
         {
          "arrowhead": 4,
          "arrowsize": 1,
          "arrowwidth": 1,
          "ax": 0.04839544361620458,
          "axref": "x",
          "ay": -0.0366976843873406,
          "ayref": "y",
          "opacity": 0.6,
          "showarrow": true,
          "x": 0.0048433233814807845,
          "xref": "x",
          "y": -0.036936893365569975,
          "yref": "y"
         },
         {
          "arrowhead": 4,
          "arrowsize": 1,
          "arrowwidth": 1,
          "ax": -0.03749625519178182,
          "axref": "x",
          "ay": 0.0788324120620339,
          "ayref": "y",
          "opacity": 0.6,
          "showarrow": true,
          "x": -0.0388573015040635,
          "xref": "x",
          "y": 0.06714749445819174,
          "yref": "y"
         },
         {
          "arrowhead": 4,
          "arrowsize": 1,
          "arrowwidth": 1,
          "ax": -0.07283633395569011,
          "axref": "x",
          "ay": -0.02152226027429166,
          "ayref": "y",
          "opacity": 0.6,
          "showarrow": true,
          "x": -0.05652734088601766,
          "xref": "x",
          "y": 0.01697015829002897,
          "yref": "y"
         },
         {
          "arrowhead": 4,
          "arrowsize": 1,
          "arrowwidth": 1,
          "ax": -0.08760576548707111,
          "axref": "x",
          "ay": 0.04892742093228043,
          "ayref": "y",
          "opacity": 0.6,
          "showarrow": true,
          "x": -0.06391205665170815,
          "xref": "x",
          "y": 0.05219499889331501,
          "yref": "y"
         },
         {
          "arrowhead": 4,
          "arrowsize": 1,
          "arrowwidth": 1,
          "ax": -0.0752848329714721,
          "axref": "x",
          "ay": -0.001603681288238814,
          "ayref": "y",
          "opacity": 0.6,
          "showarrow": true,
          "x": -0.05775159039390863,
          "xref": "x",
          "y": 0.026929447783055394,
          "yref": "y"
         },
         {
          "arrowhead": 4,
          "arrowsize": 1,
          "arrowwidth": 1,
          "ax": -0.026416945985584802,
          "axref": "x",
          "ay": 0.0349232248888077,
          "ayref": "y",
          "opacity": 0.6,
          "showarrow": true,
          "x": -0.033317646900964996,
          "xref": "x",
          "y": 0.04519290087157865,
          "yref": "y"
         },
         {
          "arrowhead": 4,
          "arrowsize": 1,
          "arrowwidth": 1,
          "ax": -0.048850968299361766,
          "axref": "x",
          "ay": -0.00829728541233836,
          "ayref": "y",
          "opacity": 0.6,
          "showarrow": true,
          "x": -0.04453465805785348,
          "xref": "x",
          "y": 0.02358264572100562,
          "yref": "y"
         },
         {
          "arrowhead": 4,
          "arrowsize": 1,
          "arrowwidth": 1,
          "ax": -0.021259522609952397,
          "axref": "x",
          "ay": 0.02110886746231308,
          "ayref": "y",
          "opacity": 0.6,
          "showarrow": true,
          "x": -0.030738935213148792,
          "xref": "x",
          "y": 0.03828572215833134,
          "yref": "y"
         },
         {
          "arrowhead": 4,
          "arrowsize": 1,
          "arrowwidth": 1,
          "ax": -0.044167753054291464,
          "axref": "x",
          "ay": -0.05302676727411803,
          "ayref": "y",
          "opacity": 0.6,
          "showarrow": true,
          "x": -0.042193050435318326,
          "xref": "x",
          "y": 0.0012179047901157841,
          "yref": "y"
         },
         {
          "arrowhead": 4,
          "arrowsize": 1,
          "arrowwidth": 1,
          "ax": -0.013372033231707863,
          "axref": "x",
          "ay": -0.03304660332656626,
          "ayref": "y",
          "opacity": 0.6,
          "showarrow": true,
          "x": -0.026795190524026527,
          "xref": "x",
          "y": 0.011207986763891668,
          "yref": "y"
         },
         {
          "arrowhead": 4,
          "arrowsize": 1,
          "arrowwidth": 1,
          "ax": -0.0026710192586401615,
          "axref": "x",
          "ay": 0.006619095439901933,
          "ayref": "y",
          "opacity": 0.6,
          "showarrow": true,
          "x": -0.021444683537492674,
          "xref": "x",
          "y": 0.031040836147125765,
          "yref": "y"
         },
         {
          "arrowhead": 4,
          "arrowsize": 1,
          "arrowwidth": 1,
          "ax": -0.03606525535715215,
          "axref": "x",
          "ay": -0.030517852394088926,
          "ayref": "y",
          "opacity": 0.6,
          "showarrow": true,
          "x": -0.038141801586748666,
          "xref": "x",
          "y": 0.012472362230130336,
          "yref": "y"
         },
         {
          "arrowhead": 4,
          "arrowsize": 1,
          "arrowwidth": 1,
          "ax": -0.05375237744361542,
          "axref": "x",
          "ay": -0.030185256003879675,
          "ayref": "y",
          "opacity": 0.6,
          "showarrow": true,
          "x": -0.04698536262998031,
          "xref": "x",
          "y": 0.012638660425234961,
          "yref": "y"
         },
         {
          "arrowhead": 4,
          "arrowsize": 1,
          "arrowwidth": 1,
          "ax": -0.09957288870861589,
          "axref": "x",
          "ay": 0.028543178436759013,
          "ayref": "y",
          "opacity": 0.6,
          "showarrow": true,
          "x": -0.06989561826248054,
          "xref": "x",
          "y": 0.042002877645554305,
          "yref": "y"
         },
         {
          "arrowhead": 4,
          "arrowsize": 1,
          "arrowwidth": 1,
          "ax": -0.07363575364694716,
          "axref": "x",
          "ay": -0.04948834007615894,
          "ayref": "y",
          "opacity": 0.6,
          "showarrow": true,
          "x": -0.05692705073164617,
          "xref": "x",
          "y": 0.0029871183890953293,
          "yref": "y"
         },
         {
          "arrowhead": 4,
          "arrowsize": 1,
          "arrowwidth": 1,
          "ax": -0.11534268484910107,
          "axref": "x",
          "ay": 0.06097372867791305,
          "ayref": "y",
          "opacity": 0.6,
          "showarrow": true,
          "x": -0.07778051633272312,
          "xref": "x",
          "y": 0.05821815276613132,
          "yref": "y"
         },
         {
          "arrowhead": 4,
          "arrowsize": 1,
          "arrowwidth": 1,
          "ax": -0.09782851537191431,
          "axref": "x",
          "ay": -0.005952541304747594,
          "ayref": "y",
          "opacity": 0.6,
          "showarrow": true,
          "x": -0.06902343159412976,
          "xref": "x",
          "y": 0.024755017774801002,
          "yref": "y"
         },
         {
          "arrowhead": 4,
          "arrowsize": 1,
          "arrowwidth": 1,
          "ax": 0.021810824145117404,
          "axref": "x",
          "ay": 0.01365802370047946,
          "ayref": "y",
          "opacity": 0.6,
          "showarrow": true,
          "x": -0.009203761835613892,
          "xref": "x",
          "y": 0.03456030027741453,
          "yref": "y"
         },
         {
          "arrowhead": 4,
          "arrowsize": 1,
          "arrowwidth": 1,
          "ax": -0.1079329585937221,
          "axref": "x",
          "ay": -0.025436779873352307,
          "ayref": "y",
          "opacity": 0.6,
          "showarrow": true,
          "x": -0.07407565320503363,
          "xref": "x",
          "y": 0.015012898490498645,
          "yref": "y"
         },
         {
          "arrowhead": 4,
          "arrowsize": 1,
          "arrowwidth": 1,
          "ax": -0.01003225371629156,
          "axref": "x",
          "ay": 0.051937762017644405,
          "ayref": "y",
          "opacity": 0.6,
          "showarrow": true,
          "x": -0.025125300766318373,
          "xref": "x",
          "y": 0.053700169435997,
          "yref": "y"
         },
         {
          "arrowhead": 4,
          "arrowsize": 1,
          "arrowwidth": 1,
          "ax": -0.10577998666351454,
          "axref": "x",
          "ay": 0.010993998963922176,
          "ayref": "y",
          "opacity": 0.6,
          "showarrow": true,
          "x": -0.07299916723992987,
          "xref": "x",
          "y": 0.03322828790913589,
          "yref": "y"
         },
         {
          "arrowhead": 4,
          "arrowsize": 1,
          "arrowwidth": 1,
          "ax": -0.05027354952075988,
          "axref": "x",
          "ay": 0.03919445779755657,
          "ayref": "y",
          "opacity": 0.6,
          "showarrow": true,
          "x": -0.045245948668552534,
          "xref": "x",
          "y": 0.047328517325953084,
          "yref": "y"
         },
         {
          "arrowhead": 4,
          "arrowsize": 1,
          "arrowwidth": 1,
          "ax": 0.0005386985559127679,
          "axref": "x",
          "ay": 0.03140391184018067,
          "ayref": "y",
          "opacity": 0.6,
          "showarrow": true,
          "x": -0.01983982463021621,
          "xref": "x",
          "y": 0.043433244347265136,
          "yref": "y"
         },
         {
          "arrowhead": 4,
          "arrowsize": 1,
          "arrowwidth": 1,
          "ax": -0.06883989625355451,
          "axref": "x",
          "ay": 0.0676412813938413,
          "ayref": "y",
          "opacity": 0.6,
          "showarrow": true,
          "x": -0.05452912203494985,
          "xref": "x",
          "y": 0.06155192912409545,
          "yref": "y"
         },
         {
          "arrowhead": 4,
          "arrowsize": 1,
          "arrowwidth": 1,
          "ax": 0.0013673352415009485,
          "axref": "x",
          "ay": -0.023797217872786658,
          "ayref": "y",
          "opacity": 0.6,
          "showarrow": true,
          "x": -0.01942550628742212,
          "xref": "x",
          "y": 0.01583267949078147,
          "yref": "y"
         },
         {
          "arrowhead": 4,
          "arrowsize": 1,
          "arrowwidth": 1,
          "ax": 0.04090085847841687,
          "axref": "x",
          "ay": 0.041365430561713656,
          "ayref": "y",
          "opacity": 0.6,
          "showarrow": true,
          "x": 0.00034125533103583974,
          "xref": "x",
          "y": 0.04841400370803163,
          "yref": "y"
         },
         {
          "arrowhead": 4,
          "arrowsize": 1,
          "arrowwidth": 1,
          "ax": -0.08660534693527025,
          "axref": "x",
          "ay": 0.11091645411775641,
          "ayref": "y",
          "opacity": 0.6,
          "showarrow": true,
          "x": -0.06341184737580771,
          "xref": "x",
          "y": 0.083189515486053,
          "yref": "y"
         },
         {
          "arrowhead": 4,
          "arrowsize": 1,
          "arrowwidth": 1,
          "ax": 0.045188576665850126,
          "axref": "x",
          "ay": -0.015434074295247173,
          "ayref": "y",
          "opacity": 0.6,
          "showarrow": true,
          "x": 0.0024851144247524694,
          "xref": "x",
          "y": 0.020014251279551212,
          "yref": "y"
         },
         {
          "arrowhead": 4,
          "arrowsize": 1,
          "arrowwidth": 1,
          "ax": 0.017370821951725526,
          "axref": "x",
          "ay": -0.008288758421901625,
          "ayref": "y",
          "opacity": 0.6,
          "showarrow": true,
          "x": -0.01142376293230983,
          "xref": "x",
          "y": 0.023586909216223986,
          "yref": "y"
         },
         {
          "arrowhead": 4,
          "arrowsize": 1,
          "arrowwidth": 1,
          "ax": -0.008645759807665035,
          "axref": "x",
          "ay": -0.06278362636241439,
          "ayref": "y",
          "opacity": 0.6,
          "showarrow": true,
          "x": -0.02443205381200511,
          "xref": "x",
          "y": -0.0036605247540323904,
          "yref": "y"
         },
         {
          "arrowhead": 4,
          "arrowsize": 1,
          "arrowwidth": 1,
          "ax": -0.05213749133452536,
          "axref": "x",
          "ay": -0.07598286486322783,
          "ayref": "y",
          "opacity": 0.6,
          "showarrow": true,
          "x": -0.046177919575435274,
          "xref": "x",
          "y": -0.010260144004439122,
          "yref": "y"
         },
         {
          "arrowhead": 4,
          "arrowsize": 1,
          "arrowwidth": 1,
          "ax": -0.08630646003175974,
          "axref": "x",
          "ay": -0.0331522265577626,
          "ayref": "y",
          "opacity": 0.6,
          "showarrow": true,
          "x": -0.06326240392405245,
          "xref": "x",
          "y": 0.011155175148293499,
          "yref": "y"
         },
         {
          "arrowhead": 4,
          "arrowsize": 1,
          "arrowwidth": 1,
          "ax": 0.010110550343931969,
          "axref": "x",
          "ay": -0.054362980298296955,
          "ayref": "y",
          "opacity": 0.6,
          "showarrow": true,
          "x": -0.01505389873620661,
          "xref": "x",
          "y": 0.0005497982780263214,
          "yref": "y"
         },
         {
          "arrowhead": 4,
          "arrowsize": 1,
          "arrowwidth": 1,
          "ax": -0.08488367286250775,
          "axref": "x",
          "ay": 0.07229725613996474,
          "ayref": "y",
          "opacity": 0.6,
          "showarrow": true,
          "x": -0.0598289177148631,
          "xref": "x",
          "y": 0.08724975170484146,
          "yref": "y"
         },
         {
          "arrowhead": 4,
          "arrowsize": 1,
          "arrowwidth": 1,
          "ax": -0.07256274034690872,
          "axref": "x",
          "ay": 0.021766153919445485,
          "ayref": "y",
          "opacity": 0.6,
          "showarrow": true,
          "x": -0.05366845145706359,
          "xref": "x",
          "y": 0.061984200594581845,
          "yref": "y"
         },
         {
          "arrowhead": 4,
          "arrowsize": 1,
          "arrowwidth": 1,
          "ax": -0.09685079608405253,
          "axref": "x",
          "ay": 0.05191301364444331,
          "ayref": "y",
          "opacity": 0.6,
          "showarrow": true,
          "x": -0.0658124793256355,
          "xref": "x",
          "y": 0.07705763045708075,
          "yref": "y"
         },
         {
          "arrowhead": 4,
          "arrowsize": 1,
          "arrowwidth": 1,
          "ax": -0.023694853361021437,
          "axref": "x",
          "ay": 0.058293060096491996,
          "ayref": "y",
          "opacity": 0.6,
          "showarrow": true,
          "x": -0.029234507964119943,
          "xref": "x",
          "y": 0.0802476536831051,
          "yref": "y"
         },
         {
          "arrowhead": 4,
          "arrowsize": 1,
          "arrowwidth": 1,
          "ax": -0.0461288756747984,
          "axref": "x",
          "ay": 0.01507254979534594,
          "ayref": "y",
          "opacity": 0.6,
          "showarrow": true,
          "x": -0.04045151912100843,
          "xref": "x",
          "y": 0.05863739853253207,
          "yref": "y"
         },
         {
          "arrowhead": 4,
          "arrowsize": 1,
          "arrowwidth": 1,
          "ax": -0.04755145689619651,
          "axref": "x",
          "ay": 0.06256429300524087,
          "ayref": "y",
          "opacity": 0.6,
          "showarrow": true,
          "x": -0.04116280973170748,
          "xref": "x",
          "y": 0.08238327013747954,
          "yref": "y"
         },
         {
          "arrowhead": 4,
          "arrowsize": 1,
          "arrowwidth": 1,
          "ax": -0.07011424133112676,
          "axref": "x",
          "ay": 0.0018475749333926386,
          "ayref": "y",
          "opacity": 0.6,
          "showarrow": true,
          "x": -0.052444201949172604,
          "xref": "x",
          "y": 0.052024911101555424,
          "yref": "y"
         },
         {
          "arrowhead": 4,
          "arrowsize": 1,
          "arrowwidth": 1,
          "ax": 0.000051073365923203634,
          "axref": "x",
          "ay": 0.02998893064758623,
          "ayref": "y",
          "opacity": 0.6,
          "showarrow": true,
          "x": -0.017361544600647625,
          "xref": "x",
          "y": 0.06609558895865222,
          "yref": "y"
         },
         {
          "arrowhead": 4,
          "arrowsize": 1,
          "arrowwidth": 1,
          "ax": 0.003260791180476133,
          "axref": "x",
          "ay": 0.05477374704786497,
          "ayref": "y",
          "opacity": 0.6,
          "showarrow": true,
          "x": -0.01575668569337116,
          "xref": "x",
          "y": 0.07848799715879158,
          "yref": "y"
         },
         {
          "arrowhead": 4,
          "arrowsize": 1,
          "arrowwidth": 1,
          "ax": -0.1126205922245377,
          "axref": "x",
          "ay": 0.08434356388559736,
          "ayref": "y",
          "opacity": 0.6,
          "showarrow": true,
          "x": -0.07369737739587807,
          "xref": "x",
          "y": 0.09327290557765777,
          "yref": "y"
         },
         {
          "arrowhead": 4,
          "arrowsize": 1,
          "arrowwidth": 1,
          "ax": -0.03334316273258879,
          "axref": "x",
          "ay": -0.007148017186404627,
          "ayref": "y",
          "opacity": 0.6,
          "showarrow": true,
          "x": -0.03405866264990362,
          "xref": "x",
          "y": 0.047527115041656784,
          "yref": "y"
         },
         {
          "arrowhead": 4,
          "arrowsize": 1,
          "arrowwidth": 1,
          "ax": -0.05103028481905206,
          "axref": "x",
          "ay": -0.006815420796195376,
          "ayref": "y",
          "opacity": 0.6,
          "showarrow": true,
          "x": -0.042902223693135254,
          "xref": "x",
          "y": 0.04769341323676141,
          "yref": "y"
         },
         {
          "arrowhead": 4,
          "arrowsize": 1,
          "arrowwidth": 1,
          "ax": -0.018537429985389035,
          "axref": "x",
          "ay": 0.04447870266999738,
          "ayref": "y",
          "opacity": 0.6,
          "showarrow": true,
          "x": -0.026655796276303743,
          "xref": "x",
          "y": 0.0733404749698578,
          "yref": "y"
         },
         {
          "arrowhead": 4,
          "arrowsize": 1,
          "arrowwidth": 1,
          "ax": -0.06611780362899114,
          "axref": "x",
          "ay": 0.09101111660152561,
          "ayref": "y",
          "opacity": 0.6,
          "showarrow": true,
          "x": -0.0504459830981048,
          "xref": "x",
          "y": 0.0966066819356219,
          "yref": "y"
         },
         {
          "arrowhead": 4,
          "arrowsize": 1,
          "arrowwidth": 1,
          "ax": -0.010649940607144498,
          "axref": "x",
          "ay": -0.009676768118881962,
          "ayref": "y",
          "opacity": 0.6,
          "showarrow": true,
          "x": -0.022712051587181478,
          "xref": "x",
          "y": 0.04626273957541812,
          "yref": "y"
         },
         {
          "arrowhead": 4,
          "arrowsize": 1,
          "arrowwidth": 1,
          "ax": -0.10305789403895119,
          "axref": "x",
          "ay": 0.034363834171606475,
          "ayref": "y",
          "opacity": 0.6,
          "showarrow": true,
          "x": -0.06891602830308483,
          "xref": "x",
          "y": 0.06828304072066234,
          "yref": "y"
         },
         {
          "arrowhead": 4,
          "arrowsize": 1,
          "arrowwidth": 1,
          "ax": 0.02453291676968077,
          "axref": "x",
          "ay": 0.037027858908163756,
          "ayref": "y",
          "opacity": 0.6,
          "showarrow": true,
          "x": -0.005120622898768842,
          "xref": "x",
          "y": 0.06961505308894098,
          "yref": "y"
         },
         {
          "arrowhead": 4,
          "arrowsize": 1,
          "arrowwidth": 1,
          "ax": -0.08358436740719637,
          "axref": "x",
          "ay": -0.009782391350078301,
          "ayref": "y",
          "opacity": 0.6,
          "showarrow": true,
          "x": -0.05917926498720741,
          "xref": "x",
          "y": 0.04620992795981995,
          "yref": "y"
         },
         {
          "arrowhead": 4,
          "arrowsize": 1,
          "arrowwidth": 1,
          "ax": -0.07091366102238379,
          "axref": "x",
          "ay": -0.02611850486847464,
          "ayref": "y",
          "opacity": 0.6,
          "showarrow": true,
          "x": -0.05284391179480112,
          "xref": "x",
          "y": 0.03804187120062178,
          "yref": "y"
         },
         {
          "arrowhead": 4,
          "arrowsize": 1,
          "arrowwidth": 1,
          "ax": 0.004089427866064314,
          "axref": "x",
          "ay": -0.00042738266510235906,
          "ayref": "y",
          "opacity": 0.6,
          "showarrow": true,
          "x": -0.01534236735057707,
          "xref": "x",
          "y": 0.050887432302307925,
          "yref": "y"
         },
         {
          "arrowhead": 4,
          "arrowsize": 1,
          "arrowwidth": 1,
          "ax": -0.04941539870996199,
          "axref": "x",
          "ay": -0.05261302965554354,
          "ayref": "y",
          "opacity": 0.6,
          "showarrow": true,
          "x": -0.04209478063859022,
          "xref": "x",
          "y": 0.02479460880708733,
          "yref": "y"
         },
         {
          "arrowhead": 4,
          "arrowsize": 1,
          "arrowwidth": 1,
          "ax": 0.04791066929041349,
          "axref": "x",
          "ay": 0.007935760912437126,
          "ayref": "y",
          "opacity": 0.6,
          "showarrow": true,
          "x": 0.006568253361597519,
          "xref": "x",
          "y": 0.055069004091077664,
          "yref": "y"
         },
         {
          "arrowhead": 4,
          "arrowsize": 1,
          "arrowwidth": 1,
          "ax": 0.04362295110298023,
          "axref": "x",
          "ay": 0.06473526576939796,
          "ayref": "y",
          "opacity": 0.6,
          "showarrow": true,
          "x": 0.004424394267880889,
          "xref": "x",
          "y": 0.08346875651955808,
          "yref": "y"
         },
         {
          "arrowhead": 4,
          "arrowsize": 1,
          "arrowwidth": 1,
          "ax": -0.09623838597008769,
          "axref": "x",
          "ay": -0.014832441334407517,
          "ayref": "y",
          "opacity": 0.6,
          "showarrow": true,
          "x": -0.11561578456394236,
          "xref": "x",
          "y": 0.013779911837901882,
          "yref": "y"
         },
         {
          "arrowhead": 4,
          "arrowsize": 1,
          "arrowwidth": 1,
          "ax": -0.12267225064219801,
          "axref": "x",
          "ay": -0.008138837210307972,
          "ayref": "y",
          "opacity": 0.6,
          "showarrow": true,
          "x": -0.12883271689999753,
          "xref": "x",
          "y": 0.017126713899951657,
          "yref": "y"
         },
         {
          "arrowhead": 4,
          "arrowsize": 1,
          "arrowwidth": 1,
          "ax": -0.08345267302787808,
          "axref": "x",
          "ay": -0.037053008316158084,
          "ayref": "y",
          "opacity": 0.6,
          "showarrow": true,
          "x": -0.10922292809283755,
          "xref": "x",
          "y": 0.0026696283470265987,
          "yref": "y"
         },
         {
          "arrowhead": 4,
          "arrowsize": 1,
          "arrowwidth": 1,
          "ax": -0.10113979511434135,
          "axref": "x",
          "ay": -0.03672041192594883,
          "ayref": "y",
          "opacity": 0.6,
          "showarrow": true,
          "x": -0.11806648913606918,
          "xref": "x",
          "y": 0.0028359265421312244,
          "yref": "y"
         },
         {
          "arrowhead": 4,
          "arrowsize": 1,
          "arrowwidth": 1,
          "ax": -0.13369387770248564,
          "axref": "x",
          "ay": -0.03968738247983176,
          "ayref": "y",
          "opacity": 0.6,
          "showarrow": true,
          "x": -0.13434353043014136,
          "xref": "x",
          "y": 0.0013524412651897619,
          "yref": "y"
         },
         {
          "arrowhead": 4,
          "arrowsize": 1,
          "arrowwidth": 1,
          "ax": -0.04602008242922498,
          "axref": "x",
          "ay": -0.030332373794855816,
          "ayref": "y",
          "opacity": 0.6,
          "showarrow": true,
          "x": -0.09050663279351101,
          "xref": "x",
          "y": 0.006029945607677733,
          "yref": "y"
         },
         {
          "arrowhead": 4,
          "arrowsize": 1,
          "arrowwidth": 1,
          "ax": -0.12022375162641605,
          "axref": "x",
          "ay": -0.028057416196360818,
          "ayref": "y",
          "opacity": 0.6,
          "showarrow": true,
          "x": -0.12760846739210654,
          "xref": "x",
          "y": 0.007167424406925232,
          "yref": "y"
         },
         {
          "arrowhead": 4,
          "arrowsize": 1,
          "arrowwidth": 1,
          "ax": -0.07380436365631073,
          "axref": "x",
          "ay": 0.02838806896673854,
          "ayref": "y",
          "opacity": 0.6,
          "showarrow": true,
          "x": -0.10439877340705388,
          "xref": "x",
          "y": 0.035390166988474914,
          "yref": "y"
         },
         {
          "arrowhead": 4,
          "arrowsize": 1,
          "arrowwidth": 1,
          "ax": -0.00648655919230906,
          "axref": "x",
          "ay": 0.0348302746396445,
          "ayref": "y",
          "opacity": 0.6,
          "showarrow": true,
          "x": -0.07073987117505304,
          "xref": "x",
          "y": 0.038611269824927894,
          "yref": "y"
         },
         {
          "arrowhead": 4,
          "arrowsize": 1,
          "arrowwidth": 1,
          "ax": -0.14521593304264024,
          "axref": "x",
          "ay": -0.012487697226816752,
          "ayref": "y",
          "opacity": 0.6,
          "showarrow": true,
          "x": -0.14010455810021863,
          "xref": "x",
          "y": 0.014952283891697265,
          "yref": "y"
         },
         {
          "arrowhead": 4,
          "arrowsize": 1,
          "arrowwidth": 1,
          "ax": -0.14696030637934182,
          "axref": "x",
          "ay": 0.022008022514689855,
          "ayref": "y",
          "opacity": 0.6,
          "showarrow": true,
          "x": -0.14097674476856942,
          "xref": "x",
          "y": 0.03220014376245057,
          "yref": "y"
         },
         {
          "arrowhead": 4,
          "arrowsize": 1,
          "arrowwidth": 1,
          "ax": -0.15316740433424048,
          "axref": "x",
          "ay": 0.004458843041853018,
          "ayref": "y",
          "opacity": 0.6,
          "showarrow": true,
          "x": -0.14408029374601874,
          "xref": "x",
          "y": 0.02342555402603215,
          "yref": "y"
         },
         {
          "arrowhead": 4,
          "arrowsize": 1,
          "arrowwidth": 1,
          "ax": -0.09766096719148581,
          "axref": "x",
          "ay": 0.03265930187548741,
          "ayref": "y",
          "opacity": 0.6,
          "showarrow": true,
          "x": -0.11632707517464141,
          "xref": "x",
          "y": 0.03752578344284935,
          "yref": "y"
         },
         {
          "arrowhead": 4,
          "arrowsize": 1,
          "arrowwidth": 1,
          "ax": -0.162730102519827,
          "axref": "x",
          "ay": 0.05443857275584389,
          "ayref": "y",
          "opacity": 0.6,
          "showarrow": true,
          "x": -0.148861642838812,
          "xref": "x",
          "y": 0.04841541888302758,
          "yref": "y"
         },
         {
          "arrowhead": 4,
          "arrowsize": 1,
          "arrowwidth": 1,
          "ax": -0.11622731392428043,
          "axref": "x",
          "ay": 0.061106125471772146,
          "ayref": "y",
          "opacity": 0.6,
          "showarrow": true,
          "x": -0.12561024854103872,
          "xref": "x",
          "y": 0.05174919524099171,
          "yref": "y"
         },
         {
          "arrowhead": 4,
          "arrowsize": 1,
          "arrowwidth": 1,
          "ax": -0.155320376264448,
          "axref": "x",
          "ay": -0.031971935795421465,
          "ayref": "y",
          "opacity": 0.6,
          "showarrow": true,
          "x": -0.1451567797111225,
          "xref": "x",
          "y": 0.0052101646073949084,
          "yref": "y"
         },
         {
          "arrowhead": 4,
          "arrowsize": 1,
          "arrowwidth": 1,
          "ax": -0.06864694028067833,
          "axref": "x",
          "ay": 0.014573711540243924,
          "ayref": "y",
          "opacity": 0.6,
          "showarrow": true,
          "x": -0.10182006171923767,
          "xref": "x",
          "y": 0.028482988275227602,
          "yref": "y"
         },
         {
          "arrowhead": 4,
          "arrowsize": 1,
          "arrowwidth": 1,
          "ax": -0.046848719114813156,
          "axref": "x",
          "ay": 0.02486875591811151,
          "ayref": "y",
          "opacity": 0.6,
          "showarrow": true,
          "x": -0.09092095113630509,
          "xref": "x",
          "y": 0.0336305104641614,
          "yref": "y"
         },
         {
          "arrowhead": 4,
          "arrowsize": 1,
          "arrowwidth": 1,
          "ax": -0.21488008924272617,
          "axref": "x",
          "ay": -0.04426799302749911,
          "ayref": "y",
          "opacity": 0.6,
          "showarrow": true,
          "x": -0.17493663620026162,
          "xref": "x",
          "y": -0.0009378640086439155,
          "yref": "y"
         },
         {
          "arrowhead": 4,
          "arrowsize": 1,
          "arrowwidth": 1,
          "ax": -0.05005843692936609,
          "axref": "x",
          "ay": 0.00008393951783277481,
          "ayref": "y",
          "opacity": 0.6,
          "showarrow": true,
          "x": -0.09252581004358156,
          "xref": "x",
          "y": 0.021238102264022028,
          "yref": "y"
         },
         {
          "arrowhead": 4,
          "arrowsize": 1,
          "arrowwidth": 1,
          "ax": -0.05603317747839096,
          "axref": "x",
          "ay": -0.06931878228448354,
          "ayref": "y",
          "opacity": 0.6,
          "showarrow": true,
          "x": -0.095513180318094,
          "xref": "x",
          "y": -0.013463258637136127,
          "yref": "y"
         },
         {
          "arrowhead": 4,
          "arrowsize": 1,
          "arrowwidth": 1,
          "ax": -0.12102317131767308,
          "axref": "x",
          "ay": -0.0560234959982281,
          "ayref": "y",
          "opacity": 0.6,
          "showarrow": true,
          "x": -0.12800817723773505,
          "xref": "x",
          "y": -0.006815615494008408,
          "yref": "y"
         },
         {
          "arrowhead": 4,
          "arrowsize": 1,
          "arrowwidth": 1,
          "ax": -0.057419671387017486,
          "axref": "x",
          "ay": 0.04540260609557525,
          "ayref": "y",
          "opacity": 0.6,
          "showarrow": true,
          "x": -0.09620642727240726,
          "xref": "x",
          "y": 0.043897435552893264,
          "yref": "y"
         },
         {
          "arrowhead": 4,
          "arrowsize": 1,
          "arrowwidth": 1,
          "ax": -0.0995249090052513,
          "axref": "x",
          "ay": -0.08251802078529699,
          "ayref": "y",
          "opacity": 0.6,
          "showarrow": true,
          "x": -0.11725904608152415,
          "xref": "x",
          "y": -0.02006287788754286,
          "yref": "y"
         },
         {
          "arrowhead": 4,
          "arrowsize": 1,
          "arrowwidth": 1,
          "ax": -0.027353499767322355,
          "axref": "x",
          "ay": 0.06383395156860977,
          "ayref": "y",
          "opacity": 0.6,
          "showarrow": true,
          "x": -0.0811733414625597,
          "xref": "x",
          "y": 0.05311310828941052,
          "yref": "y"
         },
         {
          "arrowhead": 4,
          "arrowsize": 1,
          "arrowwidth": 1,
          "ax": -0.0915551707250174,
          "axref": "x",
          "ay": -0.05956192319618719,
          "ayref": "y",
          "opacity": 0.6,
          "showarrow": true,
          "x": -0.1132741769414072,
          "xref": "x",
          "y": -0.008584829092987953,
          "yref": "y"
         },
         {
          "arrowhead": 4,
          "arrowsize": 1,
          "arrowwidth": 1,
          "ax": -0.060759450902433794,
          "axref": "x",
          "ay": -0.03958175924863542,
          "ayref": "y",
          "opacity": 0.6,
          "showarrow": true,
          "x": -0.09787631703011541,
          "xref": "x",
          "y": 0.0014052528807879314,
          "yref": "y"
         },
         {
          "arrowhead": 4,
          "arrowsize": 1,
          "arrowwidth": 1,
          "ax": 0.038914663799205974,
          "axref": "x",
          "ay": -0.07264069928723432,
          "ayref": "y",
          "opacity": 0.6,
          "showarrow": true,
          "x": 0.03689548654913542,
          "xref": "x",
          "y": -0.057432542630890024,
          "yref": "y"
         },
         {
          "arrowhead": 4,
          "arrowsize": 1,
          "arrowwidth": 1,
          "ax": 0.024175295325997163,
          "axref": "x",
          "ay": -0.08189008474101392,
          "ayref": "y",
          "opacity": 0.6,
          "showarrow": true,
          "x": 0.029525802312531012,
          "xref": "x",
          "y": -0.06205723535777982,
          "yref": "y"
         },
         {
          "arrowhead": 4,
          "arrowsize": 1,
          "arrowwidth": 1,
          "ax": 0.011130382572120224,
          "axref": "x",
          "ay": -0.013920256525639961,
          "ayref": "y",
          "opacity": 0.6,
          "showarrow": true,
          "x": 0.023003345935592542,
          "xref": "x",
          "y": -0.028072321250092843,
          "yref": "y"
         },
         {
          "arrowhead": 4,
          "arrowsize": 1,
          "arrowwidth": 1,
          "ax": 0.0014820732005528733,
          "axref": "x",
          "ay": -0.07936133380853658,
          "ayref": "y",
          "opacity": 0.6,
          "showarrow": true,
          "x": 0.01817919124980887,
          "xref": "x",
          "y": -0.06079285989154115,
          "yref": "y"
         },
         {
          "arrowhead": 4,
          "arrowsize": 1,
          "arrowwidth": 1,
          "ax": -0.014590162776820334,
          "axref": "x",
          "ay": -0.1248263462776755,
          "ayref": "y",
          "opacity": 0.6,
          "showarrow": true,
          "x": 0.010143073261122265,
          "xref": "x",
          "y": -0.08352536612611061,
          "yref": "y"
         },
         {
          "arrowhead": 4,
          "arrowsize": 1,
          "arrowwidth": 1,
          "ax": 0.05491815050943055,
          "axref": "x",
          "ay": -0.05713223983634928,
          "ayref": "y",
          "opacity": 0.6,
          "showarrow": true,
          "x": 0.04489722990424771,
          "xref": "x",
          "y": -0.049678312905447504,
          "yref": "y"
         },
         {
          "arrowhead": 4,
          "arrowsize": 1,
          "arrowwidth": 1,
          "ax": -0.006620424496586442,
          "axref": "x",
          "ay": -0.10187024868856569,
          "ayref": "y",
          "opacity": 0.6,
          "showarrow": true,
          "x": 0.014127942401239211,
          "xref": "x",
          "y": -0.0720473173315557,
          "yref": "y"
         },
         {
          "arrowhead": 4,
          "arrowsize": 1,
          "arrowwidth": 1,
          "ax": 0.05935815270282243,
          "axref": "x",
          "ay": -0.0351854577139682,
          "ayref": "y",
          "opacity": 0.6,
          "showarrow": true,
          "x": 0.047117231000943643,
          "xref": "x",
          "y": -0.03870492184425696,
          "yref": "y"
         },
         {
          "arrowhead": 4,
          "arrowsize": 1,
          "arrowwidth": 1,
          "ax": -0.016205048885910393,
          "axref": "x",
          "ay": -0.07902873741832733,
          "ayref": "y",
          "opacity": 0.6,
          "showarrow": true,
          "x": 0.009335630206577235,
          "xref": "x",
          "y": -0.06062656169643653,
          "yref": "y"
         },
         {
          "arrowhead": 4,
          "arrowsize": 1,
          "arrowwidth": 1,
          "ax": 0.027515074841413467,
          "axref": "x",
          "ay": 0.0030942806031967474,
          "ayref": "y",
          "opacity": 0.6,
          "showarrow": true,
          "x": 0.031195692070239166,
          "xref": "x",
          "y": -0.01956505268567449,
          "yref": "y"
         },
         {
          "arrowhead": 4,
          "arrowsize": 1,
          "arrowwidth": 1,
          "ax": 0.08378656684429556,
          "axref": "x",
          "ay": -0.12788940007622168,
          "ayref": "y",
          "opacity": 0.6,
          "showarrow": true,
          "x": 0.05933143807168022,
          "xref": "x",
          "y": -0.08505689302538369,
          "yref": "y"
         },
         {
          "arrowhead": 4,
          "arrowsize": 1,
          "arrowwidth": 1,
          "ax": -0.0487591314740547,
          "axref": "x",
          "ay": -0.08199570797221026,
          "ayref": "y",
          "opacity": 0.6,
          "showarrow": true,
          "x": -0.006941411087494919,
          "xref": "x",
          "y": -0.06211004697337799,
          "yref": "y"
         },
         {
          "arrowhead": 4,
          "arrowsize": 1,
          "arrowwidth": 1,
          "ax": 0.01628780594775263,
          "axref": "x",
          "ay": -0.027734613952134578,
          "ayref": "y",
          "opacity": 0.6,
          "showarrow": true,
          "x": 0.025582057623408747,
          "xref": "x",
          "y": -0.03497949996334015,
          "yref": "y"
         },
         {
          "arrowhead": 4,
          "arrowsize": 1,
          "arrowwidth": 1,
          "ax": -0.07038563003601706,
          "axref": "x",
          "ay": -0.07428026128779996,
          "ayref": "y",
          "opacity": 0.6,
          "showarrow": true,
          "x": -0.0177546603684761,
          "xref": "x",
          "y": -0.058252323631172845,
          "yref": "y"
         },
         {
          "arrowhead": 4,
          "arrowsize": 1,
          "arrowwidth": 1,
          "ax": -0.01130363974165674,
          "axref": "x",
          "ay": -0.05714076682678602,
          "ayref": "y",
          "opacity": 0.6,
          "showarrow": true,
          "x": 0.011786334778704062,
          "xref": "x",
          "y": -0.04968257640066587,
          "yref": "y"
         },
         {
          "arrowhead": 4,
          "arrowsize": 1,
          "arrowwidth": 1,
          "ax": -0.012726220963054855,
          "axref": "x",
          "ay": -0.009649023616891088,
          "ayref": "y",
          "opacity": 0.6,
          "showarrow": true,
          "x": 0.011075044168005005,
          "xref": "x",
          "y": -0.025936704795718406,
          "yref": "y"
         },
         {
          "arrowhead": 4,
          "arrowsize": 1,
          "arrowwidth": 1,
          "ax": 0.06072254375984307,
          "axref": "x",
          "ay": -0.07858828320925948,
          "ayref": "y",
          "opacity": 0.6,
          "showarrow": true,
          "x": 0.047799426529453966,
          "xref": "x",
          "y": -0.0604063345919026,
          "yref": "y"
         },
         {
          "arrowhead": 4,
          "arrowsize": 1,
          "arrowwidth": 1,
          "ax": 0.0575812464611086,
          "axref": "x",
          "ay": 0.021525626076231263,
          "ayref": "y",
          "opacity": 0.6,
          "showarrow": true,
          "x": 0.04622877788008673,
          "xref": "x",
          "y": -0.01034937994915723,
          "yref": "y"
         },
         {
          "arrowhead": 4,
          "arrowsize": 1,
          "arrowwidth": 1,
          "ax": 0.03808602711361779,
          "axref": "x",
          "ay": -0.01743956957426699,
          "ayref": "y",
          "opacity": 0.6,
          "showarrow": true,
          "x": 0.03648116820634133,
          "xref": "x",
          "y": -0.029831977774406358,
          "yref": "y"
         },
         {
          "arrowhead": 4,
          "arrowsize": 1,
          "arrowwidth": 1,
          "ax": -0.06202556015091087,
          "axref": "x",
          "ay": -0.020300302977688645,
          "ayref": "y",
          "opacity": 0.6,
          "showarrow": true,
          "x": -0.013574625425923002,
          "xref": "x",
          "y": -0.031262344476117185,
          "yref": "y"
         },
         {
          "arrowhead": 4,
          "arrowsize": 1,
          "arrowwidth": 1,
          "ax": -0.06028118681420929,
          "axref": "x",
          "ay": -0.05479602271919525,
          "ayref": "y",
          "opacity": 0.6,
          "showarrow": true,
          "x": -0.012702438757572213,
          "xref": "x",
          "y": -0.04851020434687049,
          "yref": "y"
         },
         {
          "arrowhead": 4,
          "arrowsize": 1,
          "arrowwidth": 1,
          "ax": 0.047657878901636995,
          "axref": "x",
          "ay": -0.10320646171274461,
          "ayref": "y",
          "opacity": 0.6,
          "showarrow": true,
          "x": 0.041267094100350926,
          "xref": "x",
          "y": -0.07271542384364517,
          "yref": "y"
         },
         {
          "arrowhead": 4,
          "arrowsize": 1,
          "arrowwidth": 1,
          "ax": -0.03608842508924213,
          "axref": "x",
          "ay": -0.0983318214906066,
          "ayref": "y",
          "opacity": 0.6,
          "showarrow": true,
          "x": -0.0006060578950886318,
          "xref": "x",
          "y": -0.07027810373257616,
          "yref": "y"
         },
         {
          "arrowhead": 4,
          "arrowsize": 1,
          "arrowwidth": 1,
          "ax": 0.02172375623342929,
          "axref": "x",
          "ay": -0.13404869270107678,
          "ayref": "y",
          "opacity": 0.6,
          "showarrow": true,
          "x": 0.028300032766247075,
          "xref": "x",
          "y": -0.08813653933781124,
          "yref": "y"
         },
         {
          "arrowhead": 4,
          "arrowsize": 1,
          "arrowwidth": 1,
          "ax": -0.035289005397985095,
          "axref": "x",
          "ay": -0.07036574168873932,
          "ayref": "y",
          "opacity": 0.6,
          "showarrow": true,
          "x": -0.00020634804946011512,
          "xref": "x",
          "y": -0.056295063831642525,
          "yref": "y"
         },
         {
          "arrowhead": 4,
          "arrowsize": 1,
          "arrowwidth": 1,
          "ax": -0.03773750441376706,
          "axref": "x",
          "ay": -0.05044716270268647,
          "ayref": "y",
          "opacity": 0.6,
          "showarrow": true,
          "x": -0.001430597557351098,
          "xref": "x",
          "y": -0.0463357743386161,
          "yref": "y"
         },
         {
          "arrowhead": 4,
          "arrowsize": 1,
          "arrowwidth": 1,
          "ax": 0.02890156875003999,
          "axref": "x",
          "ay": -0.11162710777686204,
          "ayref": "y",
          "opacity": 0.6,
          "showarrow": true,
          "x": 0.03188893902455243,
          "xref": "x",
          "y": -0.07692574687570389,
          "yref": "y"
         },
         {
          "arrowhead": 4,
          "arrowsize": 1,
          "arrowwidth": 1,
          "ax": 0.08518799669235852,
          "axref": "x",
          "ay": -0.03922182620271379,
          "ayref": "y",
          "opacity": 0.6,
          "showarrow": true,
          "x": 0.060032152995711685,
          "xref": "x",
          "y": -0.04072310608862976,
          "yref": "y"
         },
         {
          "arrowhead": 4,
          "arrowsize": 1,
          "arrowwidth": 1,
          "ax": -0.03129256769584948,
          "axref": "x",
          "ay": 0.018797799979393646,
          "ayref": "y",
          "opacity": 0.6,
          "showarrow": true,
          "x": 0.001791870801607691,
          "xref": "x",
          "y": -0.01171329299757604,
          "yref": "y"
         },
         {
          "arrowhead": 4,
          "arrowsize": 1,
          "arrowwidth": 1,
          "ax": 0.08273590522355515,
          "axref": "x",
          "ay": -0.06427755570969483,
          "ayref": "y",
          "opacity": 0.6,
          "showarrow": true,
          "x": 0.05880610726131001,
          "xref": "x",
          "y": -0.05325097084212028,
          "yref": "y"
         },
         {
          "arrowhead": 4,
          "arrowsize": 1,
          "arrowwidth": 1,
          "ax": 0.07844818703612189,
          "axref": "x",
          "ay": -0.007478050852734,
          "ayref": "y",
          "opacity": 0.6,
          "showarrow": true,
          "x": 0.05666224816759338,
          "xref": "x",
          "y": -0.024851218413639863,
          "yref": "y"
         },
         {
          "arrowhead": 4,
          "arrowsize": 1,
          "arrowwidth": 1,
          "ax": -0.07779535629139603,
          "axref": "x",
          "ay": 0.012130247263465392,
          "ayref": "y",
          "opacity": 0.6,
          "showarrow": true,
          "x": -0.021459523496165585,
          "xref": "x",
          "y": -0.015047069355540166,
          "yref": "y"
         },
         {
          "arrowhead": 4,
          "arrowsize": 1,
          "arrowwidth": 1,
          "ax": -0.06823265810580953,
          "axref": "x",
          "ay": -0.03784948245052548,
          "ayref": "y",
          "opacity": 0.6,
          "showarrow": true,
          "x": -0.01667817440337233,
          "xref": "x",
          "y": -0.0400369342125356,
          "yref": "y"
         },
         {
          "arrowhead": 4,
          "arrowsize": 1,
          "arrowwidth": 1,
          "ax": 0.1718701065532825,
          "axref": "x",
          "ay": -0.05792041171090334,
          "ayref": "y",
          "opacity": 0.6,
          "showarrow": true,
          "x": 0.10337320792617367,
          "xref": "x",
          "y": -0.05007239884272453,
          "yref": "y"
         },
         {
          "arrowhead": 4,
          "arrowsize": 1,
          "arrowwidth": 1,
          "ax": 0.028213649826138273,
          "axref": "x",
          "ay": -0.11230639805370252,
          "ayref": "y",
          "opacity": 0.6,
          "showarrow": true,
          "x": 0.03558333406274268,
          "xref": "x",
          "y": -0.1076817053268127,
          "yref": "y"
         },
         {
          "arrowhead": 4,
          "arrowsize": 1,
          "arrowwidth": 1,
          "ax": 0.06476089825998418,
          "axref": "x",
          "ay": -0.10900459652194808,
          "ayref": "y",
          "opacity": 0.6,
          "showarrow": true,
          "x": 0.053856958279665634,
          "xref": "x",
          "y": -0.1060308045609355,
          "yref": "y"
         },
         {
          "arrowhead": 4,
          "arrowsize": 1,
          "arrowwidth": 1,
          "ax": 0.04212438161375891,
          "axref": "x",
          "ay": -0.04785588288695558,
          "ayref": "y",
          "opacity": 0.6,
          "showarrow": true,
          "x": 0.042538699956552996,
          "xref": "x",
          "y": -0.07545644774343925,
          "yref": "y"
         },
         {
          "arrowhead": 4,
          "arrowsize": 1,
          "arrowwidth": 1,
          "ax": -0.04472077697391359,
          "axref": "x",
          "ay": -0.11241202128489886,
          "ayref": "y",
          "opacity": 0.6,
          "showarrow": true,
          "x": -0.000883879337283254,
          "xref": "x",
          "y": -0.10773451694241087,
          "yref": "y"
         },
         {
          "arrowhead": 4,
          "arrowsize": 1,
          "arrowwidth": 1,
          "ax": 0.06161960096124971,
          "axref": "x",
          "ay": -0.008890687236457327,
          "ayref": "y",
          "opacity": 0.6,
          "showarrow": true,
          "x": 0.0522863096302984,
          "xref": "x",
          "y": -0.05597384991819012,
          "yref": "y"
         },
         {
          "arrowhead": 4,
          "arrowsize": 1,
          "arrowwidth": 1,
          "ax": 0.08677425972369626,
          "axref": "x",
          "ay": -0.09469386902238341,
          "ayref": "y",
          "opacity": 0.6,
          "showarrow": true,
          "x": 0.06486363901152167,
          "xref": "x",
          "y": -0.09887544081115317,
          "yref": "y"
         },
         {
          "arrowhead": 4,
          "arrowsize": 1,
          "arrowwidth": 1,
          "ax": -0.00726528524151563,
          "axref": "x",
          "ay": -0.08755708013947461,
          "ayref": "y",
          "opacity": 0.6,
          "showarrow": true,
          "x": 0.017843866528915727,
          "xref": "x",
          "y": -0.09530704636969876,
          "yref": "y"
         },
         {
          "arrowhead": 4,
          "arrowsize": 1,
          "arrowwidth": 1,
          "ax": -0.06481703290544635,
          "axref": "x",
          "ay": -0.17337658200076414,
          "ayref": "y",
          "opacity": 0.6,
          "showarrow": true,
          "x": -0.010932007303049635,
          "xref": "x",
          "y": -0.13821679730034353,
          "yref": "y"
         },
         {
          "arrowhead": 4,
          "arrowsize": 1,
          "arrowwidth": 1,
          "ax": 0.02032616044789374,
          "axref": "x",
          "ay": -0.05815092726482317,
          "ayref": "y",
          "opacity": 0.6,
          "showarrow": true,
          "x": 0.03163958937362041,
          "xref": "x",
          "y": -0.08060396993237304,
          "yref": "y"
         },
         {
          "arrowhead": 4,
          "arrowsize": 1,
          "arrowwidth": 1,
          "ax": 0.082486541536263,
          "axref": "x",
          "ay": -0.03789436416542259,
          "ayref": "y",
          "opacity": 0.6,
          "showarrow": true,
          "x": 0.06271977991780504,
          "xref": "x",
          "y": -0.07047568838267275,
          "yref": "y"
         },
         {
          "arrowhead": 4,
          "arrowsize": 1,
          "arrowwidth": 1,
          "ax": 0.16919747328161405,
          "axref": "x",
          "ay": -0.12980638899225883,
          "ayref": "y",
          "opacity": 0.6,
          "showarrow": true,
          "x": 0.10607524579048058,
          "xref": "x",
          "y": -0.11643170079609086,
          "yref": "y"
         },
         {
          "arrowhead": 4,
          "arrowsize": 1,
          "arrowwidth": 1,
          "ax": -0.008687866462913744,
          "axref": "x",
          "ay": -0.04006533692957968,
          "ayref": "y",
          "opacity": 0.6,
          "showarrow": true,
          "x": 0.01713257591821667,
          "xref": "x",
          "y": -0.0715611747647513,
          "yref": "y"
         },
         {
          "arrowhead": 4,
          "arrowsize": 1,
          "arrowwidth": 1,
          "ax": -0.03369914991362595,
          "axref": "x",
          "ay": -0.08086347601537507,
          "ayref": "y",
          "opacity": 0.6,
          "showarrow": true,
          "x": 0.004626934192860567,
          "xref": "x",
          "y": -0.09196024430764899,
          "yref": "y"
         },
         {
          "arrowhead": 4,
          "arrowsize": 1,
          "arrowwidth": 1,
          "ax": 0.05895650500957166,
          "axref": "x",
          "ay": -0.08754855314903787,
          "ayref": "y",
          "opacity": 0.6,
          "showarrow": true,
          "x": 0.05095476165445938,
          "xref": "x",
          "y": -0.0953027828744804,
          "yref": "y"
         },
         {
          "arrowhead": 4,
          "arrowsize": 1,
          "arrowwidth": 1,
          "ax": 0.005520427700693983,
          "axref": "x",
          "ay": -0.10977764712122517,
          "ayref": "y",
          "opacity": 0.6,
          "showarrow": true,
          "x": 0.024236723000020534,
          "xref": "x",
          "y": -0.10641732986057405,
          "yref": "y"
         },
         {
          "arrowhead": 4,
          "arrowsize": 1,
          "arrowwidth": 1,
          "ax": 0.015168737072261334,
          "axref": "x",
          "ay": -0.04433656983832855,
          "ayref": "y",
          "opacity": 0.6,
          "showarrow": true,
          "x": 0.02906087768580421,
          "xref": "x",
          "y": -0.07369679121912573,
          "yref": "y"
         },
         {
          "arrowhead": 4,
          "arrowsize": 1,
          "arrowwidth": 1,
          "ax": -0.002582069996445332,
          "axref": "x",
          "ay": -0.13228656200125427,
          "ayref": "y",
          "opacity": 0.6,
          "showarrow": true,
          "x": 0.020185474151450875,
          "xref": "x",
          "y": -0.1176717873005886,
          "yref": "y"
         },
         {
          "arrowhead": 4,
          "arrowsize": 1,
          "arrowwidth": 1,
          "ax": -0.05798720565076976,
          "axref": "x",
          "ay": -0.050716616290377235,
          "ayref": "y",
          "opacity": 0.6,
          "showarrow": true,
          "x": -0.007517093675711337,
          "xref": "x",
          "y": -0.07688681444515008,
          "yref": "y"
         },
         {
          "arrowhead": 4,
          "arrowsize": 1,
          "arrowwidth": 1,
          "ax": 0.03155342934155458,
          "axref": "x",
          "ay": -0.027322032709491843,
          "ayref": "y",
          "opacity": 0.6,
          "showarrow": true,
          "x": 0.03725322382045083,
          "xref": "x",
          "y": -0.06518952265470737,
          "yref": "y"
         },
         {
          "arrowhead": 4,
          "arrowsize": 1,
          "arrowwidth": 1,
          "ax": -0.010551808276679224,
          "axref": "x",
          "ay": -0.1552426595903641,
          "ayref": "y",
          "opacity": 0.6,
          "showarrow": true,
          "x": 0.01620060501133393,
          "xref": "x",
          "y": -0.1291498360951435,
          "yref": "y"
         },
         {
          "arrowhead": 4,
          "arrowsize": 1,
          "arrowwidth": 1,
          "ax": 0.06339650720296354,
          "axref": "x",
          "ay": -0.06560177102665679,
          "ayref": "y",
          "opacity": 0.6,
          "showarrow": true,
          "x": 0.05317476275115531,
          "xref": "x",
          "y": -0.08432939181328986,
          "yref": "y"
         },
         {
          "arrowhead": 4,
          "arrowsize": 1,
          "arrowwidth": 1,
          "ax": -0.03205007058910102,
          "axref": "x",
          "ay": -0.1287481348032952,
          "ayref": "y",
          "opacity": 0.6,
          "showarrow": true,
          "x": 0.005451473855123033,
          "xref": "x",
          "y": -0.11590257370160906,
          "yref": "y"
         },
         {
          "arrowhead": 4,
          "arrowsize": 1,
          "arrowwidth": 1,
          "ax": -0.06419430360566841,
          "axref": "x",
          "ay": -0.06826579576321407,
          "ayref": "y",
          "opacity": 0.6,
          "showarrow": true,
          "x": -0.010620642653160664,
          "xref": "x",
          "y": -0.08566140418156849,
          "yref": "y"
         },
         {
          "arrowhead": 4,
          "arrowsize": 1,
          "arrowwidth": 1,
          "ax": -0.012166694385769283,
          "axref": "x",
          "ay": -0.10944505073101593,
          "ayref": "y",
          "opacity": 0.6,
          "showarrow": true,
          "x": 0.0153931619567889,
          "xref": "x",
          "y": -0.10625103166546943,
          "yref": "y"
         },
         {
          "arrowhead": 4,
          "arrowsize": 1,
          "arrowwidth": 1,
          "ax": 0.08782492134443667,
          "axref": "x",
          "ay": -0.15830571338891025,
          "ayref": "y",
          "opacity": 0.6,
          "showarrow": true,
          "x": 0.06538896982189188,
          "xref": "x",
          "y": -0.13068136299441657,
          "yref": "y"
         },
         {
          "arrowhead": 4,
          "arrowsize": 1,
          "arrowwidth": 1,
          "ax": -0.05624283231406818,
          "axref": "x",
          "ay": -0.08521233603188384,
          "ayref": "y",
          "opacity": 0.6,
          "showarrow": true,
          "x": -0.006644907007360548,
          "xref": "x",
          "y": -0.09413467431590337,
          "yref": "y"
         },
         {
          "arrowhead": 4,
          "arrowsize": 1,
          "arrowwidth": 1,
          "ax": 0.051696233401778105,
          "axref": "x",
          "ay": -0.1336227750254332,
          "ayref": "y",
          "opacity": 0.6,
          "showarrow": true,
          "x": 0.047324625850562595,
          "xref": "x",
          "y": -0.11833989381267807,
          "yref": "y"
         },
         {
          "arrowhead": 4,
          "arrowsize": 1,
          "arrowwidth": 1,
          "ax": 0.0257621107335704,
          "axref": "x",
          "ay": -0.16446500601376535,
          "ayref": "y",
          "opacity": 0.6,
          "showarrow": true,
          "x": 0.034357564516458744,
          "xref": "x",
          "y": -0.13376100930684415,
          "yref": "y"
         },
         {
          "arrowhead": 4,
          "arrowsize": 1,
          "arrowwidth": 1,
          "ax": 0.0329399232501811,
          "axref": "x",
          "ay": -0.14204342108955062,
          "ayref": "y",
          "opacity": 0.6,
          "showarrow": true,
          "x": 0.037946470774764096,
          "xref": "x",
          "y": -0.12255021684473677,
          "yref": "y"
         },
         {
          "arrowhead": 4,
          "arrowsize": 1,
          "arrowwidth": 1,
          "ax": 0.08922635119249962,
          "axref": "x",
          "ay": -0.06963813951540238,
          "ayref": "y",
          "opacity": 0.6,
          "showarrow": true,
          "x": 0.06608968474592336,
          "xref": "x",
          "y": -0.08634757605766265,
          "yref": "y"
         },
         {
          "arrowhead": 4,
          "arrowsize": 1,
          "arrowwidth": 1,
          "ax": -0.06634727553587595,
          "axref": "x",
          "ay": -0.10469657460048856,
          "ayref": "y",
          "opacity": 0.6,
          "showarrow": true,
          "x": -0.011697128618264434,
          "xref": "x",
          "y": -0.10387679360020574,
          "yref": "y"
         },
         {
          "arrowhead": 4,
          "arrowsize": 1,
          "arrowwidth": 1,
          "ax": -0.027254213195708372,
          "axref": "x",
          "ay": -0.011618513333294944,
          "ayref": "y",
          "opacity": 0.6,
          "showarrow": true,
          "x": 0.007849402551819356,
          "xref": "x",
          "y": -0.05733776296660893,
          "yref": "y"
         },
         {
          "arrowhead": 4,
          "arrowsize": 1,
          "arrowwidth": 1,
          "ax": -0.031250650897843985,
          "axref": "x",
          "ay": -0.10078205500142791,
          "ayref": "y",
          "opacity": 0.6,
          "showarrow": true,
          "x": 0.00585118370075155,
          "xref": "x",
          "y": -0.10191953380067541,
          "yref": "y"
         },
         {
          "arrowhead": 4,
          "arrowsize": 1,
          "arrowwidth": 1,
          "ax": 0.17590846105342361,
          "axref": "x",
          "ay": -0.08833672502359194,
          "ayref": "y",
          "opacity": 0.6,
          "showarrow": true,
          "x": 0.10943073967638534,
          "xref": "x",
          "y": -0.09569686881175743,
          "yref": "y"
         },
         {
          "arrowhead": 4,
          "arrowsize": 1,
          "arrowwidth": 1,
          "ax": -0.05946014544712241,
          "axref": "x",
          "ay": -0.12166140673867845,
          "ayref": "y",
          "opacity": 0.6,
          "showarrow": true,
          "x": -0.09592735884714834,
          "xref": "x",
          "y": -0.12171421835427662,
          "yref": "y"
         },
         {
          "arrowhead": 4,
          "arrowsize": 1,
          "arrowwidth": 1,
          "ax": -0.0821533675725667,
          "axref": "x",
          "ay": -0.11913265580620111,
          "ayref": "y",
          "opacity": 0.6,
          "showarrow": true,
          "x": -0.10727396990987048,
          "xref": "x",
          "y": -0.12044984288803796,
          "yref": "y"
         },
         {
          "arrowhead": 4,
          "arrowsize": 1,
          "arrowwidth": 1,
          "ax": -0.09493908051477631,
          "axref": "x",
          "ay": -0.09691208882445054,
          "ayref": "y",
          "opacity": 0.6,
          "showarrow": true,
          "x": -0.11366682638097529,
          "xref": "x",
          "y": -0.10933955939716268,
          "yref": "y"
         },
         {
          "arrowhead": 4,
          "arrowsize": 1,
          "arrowwidth": 1,
          "ax": -0.0982256035499399,
          "axref": "x",
          "ay": -0.16459766827534003,
          "ayref": "y",
          "opacity": 0.6,
          "showarrow": true,
          "x": -0.11531008789855708,
          "xref": "x",
          "y": -0.1431823491226074,
          "yref": "y"
         },
         {
          "arrowhead": 4,
          "arrowsize": 1,
          "arrowwidth": 1,
          "ax": -0.09984048965902996,
          "axref": "x",
          "ay": -0.11880005941599187,
          "ayref": "y",
          "opacity": 0.6,
          "showarrow": true,
          "x": -0.11611753095310212,
          "xref": "x",
          "y": -0.12028354469293334,
          "yref": "y"
         },
         {
          "arrowhead": 4,
          "arrowsize": 1,
          "arrowwidth": 1,
          "ax": -0.07250505820099934,
          "axref": "x",
          "ay": -0.053691578523304494,
          "ayref": "y",
          "opacity": 0.6,
          "showarrow": true,
          "x": -0.1024498152240868,
          "xref": "x",
          "y": -0.08772930424658965,
          "yref": "y"
         },
         {
          "arrowhead": 4,
          "arrowsize": 1,
          "arrowwidth": 1,
          "ax": -0.09025586526970601,
          "axref": "x",
          "ay": -0.14164157068623023,
          "ayref": "y",
          "opacity": 0.6,
          "showarrow": true,
          "x": -0.11132521875844013,
          "xref": "x",
          "y": -0.13170430032805253,
          "yref": "y"
         },
         {
          "arrowhead": 4,
          "arrowsize": 1,
          "arrowwidth": 1,
          "ax": -0.15249082817870702,
          "axref": "x",
          "ay": -0.18273159068574008,
          "ayref": "y",
          "opacity": 0.6,
          "showarrow": true,
          "x": -0.14244270021294064,
          "xref": "x",
          "y": -0.15224931032780745,
          "yref": "y"
         },
         {
          "arrowhead": 4,
          "arrowsize": 1,
          "arrowwidth": 1,
          "ax": -0.0229128970132765,
          "axref": "x",
          "ay": -0.11835960520692401,
          "ayref": "y",
          "opacity": 0.6,
          "showarrow": true,
          "x": -0.07765373463022539,
          "xref": "x",
          "y": -0.12006331758839942,
          "yref": "y"
         },
         {
          "arrowhead": 4,
          "arrowsize": 1,
          "arrowwidth": 1,
          "ax": -0.09636166173617441,
          "axref": "x",
          "ay": -0.04942034561455562,
          "ayref": "y",
          "opacity": 0.6,
          "showarrow": true,
          "x": -0.11437811699167434,
          "xref": "x",
          "y": -0.08559368779221521,
          "yref": "y"
         },
         {
          "arrowhead": 4,
          "arrowsize": 1,
          "arrowwidth": 1,
          "ax": -0.12137294518688663,
          "axref": "x",
          "ay": -0.090218484700351,
          "ayref": "y",
          "opacity": 0.6,
          "showarrow": true,
          "x": -0.12688375871703045,
          "xref": "x",
          "y": -0.1059927573351129,
          "yref": "y"
         },
         {
          "arrowhead": 4,
          "arrowsize": 1,
          "arrowwidth": 1,
          "ax": -0.054733872023079576,
          "axref": "x",
          "ay": -0.15139842977452656,
          "ayref": "y",
          "opacity": 0.6,
          "showarrow": true,
          "x": -0.09356422213512693,
          "xref": "x",
          "y": -0.1365827298722007,
          "yref": "y"
         },
         {
          "arrowhead": 4,
          "arrowsize": 1,
          "arrowwidth": 1,
          "ax": -0.1518680988789291,
          "axref": "x",
          "ay": -0.07762080444819001,
          "ayref": "y",
          "opacity": 0.6,
          "showarrow": true,
          "x": -0.1421313355630517,
          "xref": "x",
          "y": -0.09969391720903241,
          "yref": "y"
         },
         {
          "arrowhead": 4,
          "arrowsize": 1,
          "arrowwidth": 1,
          "ax": -0.27104735181832607,
          "axref": "x",
          "ay": -0.08616689129775104,
          "ayref": "y",
          "opacity": 0.6,
          "showarrow": true,
          "x": -0.2017209620327502,
          "xref": "x",
          "y": -0.10396696063381293,
          "yref": "y"
         },
         {
          "arrowhead": 4,
          "arrowsize": 1,
          "arrowwidth": 1,
          "ax": -0.0008995355495644147,
          "axref": "x",
          "ay": -0.10404887770735936,
          "ayref": "y",
          "opacity": 0.6,
          "showarrow": true,
          "x": -0.06664705389836934,
          "xref": "x",
          "y": -0.11290795383861708,
          "yref": "y"
         },
         {
          "arrowhead": 4,
          "arrowsize": 1,
          "arrowwidth": 1,
          "ax": -0.14566100092403045,
          "axref": "x",
          "ay": -0.06007162497535318,
          "ayref": "y",
          "opacity": 0.6,
          "showarrow": true,
          "x": -0.13902778658560236,
          "xref": "x",
          "y": -0.090919327472614,
          "yref": "y"
         },
         {
          "arrowhead": 4,
          "arrowsize": 1,
          "arrowwidth": 1,
          "ax": -0.14391662758732887,
          "axref": "x",
          "ay": -0.09456734471685979,
          "ayref": "y",
          "opacity": 0.6,
          "showarrow": true,
          "x": -0.13815559991725157,
          "xref": "x",
          "y": -0.10816718734336729,
          "yref": "y"
         },
         {
          "arrowhead": 4,
          "arrowsize": 1,
          "arrowwidth": 1,
          "ax": -0.04554941365950177,
          "axref": "x",
          "ay": -0.05721089157193152,
          "ayref": "y",
          "opacity": 0.6,
          "showarrow": true,
          "x": -0.08897199295333802,
          "xref": "x",
          "y": -0.08948896077090317,
          "yref": "y"
         },
         {
          "arrowhead": 4,
          "arrowsize": 1,
          "arrowwidth": 1,
          "ax": -0.15402107080913663,
          "axref": "x",
          "ay": -0.1140515832854645,
          "ayref": "y",
          "opacity": 0.6,
          "showarrow": true,
          "x": -0.14320782152815545,
          "xref": "x",
          "y": -0.11790930662766966,
          "yref": "y"
         },
         {
          "arrowhead": 4,
          "arrowsize": 1,
          "arrowwidth": 1,
          "ax": -0.11492800846896906,
          "axref": "x",
          "ay": -0.020973522018270886,
          "ayref": "y",
          "opacity": 0.6,
          "showarrow": true,
          "x": -0.12366129035807166,
          "xref": "x",
          "y": -0.07137027599407285,
          "yref": "y"
         },
         {
          "arrowhead": 4,
          "arrowsize": 1,
          "arrowwidth": 1,
          "ax": -0.06734763482536694,
          "axref": "x",
          "ay": -0.0675059359497991,
          "ayref": "y",
          "opacity": 0.6,
          "showarrow": true,
          "x": -0.0998711035362706,
          "xref": "x",
          "y": -0.09463648295983695,
          "yref": "y"
         },
         {
          "arrowhead": 4,
          "arrowsize": 1,
          "arrowwidth": 1,
          "ax": -0.005187253736997674,
          "axref": "x",
          "ay": -0.047249372850398534,
          "ayref": "y",
          "opacity": 0.6,
          "showarrow": true,
          "x": -0.06879091299208598,
          "xref": "x",
          "y": -0.08450820141013667,
          "yref": "y"
         },
         {
          "arrowhead": 4,
          "arrowsize": 1,
          "arrowwidth": 1,
          "ax": -0.06191168453969027,
          "axref": "x",
          "ay": -0.1738200146987413,
          "ayref": "y",
          "opacity": 0.6,
          "showarrow": true,
          "x": -0.09715312839343228,
          "xref": "x",
          "y": -0.14779352233430804,
          "yref": "y"
         },
         {
          "arrowhead": 4,
          "arrowsize": 1,
          "arrowwidth": 1,
          "ax": -0.11892444617110466,
          "axref": "x",
          "ay": -0.11013706368640386,
          "ayref": "y",
          "opacity": 0.6,
          "showarrow": true,
          "x": -0.12565950920913946,
          "xref": "x",
          "y": -0.11595204682813932,
          "yref": "y"
         },
         {
          "arrowhead": 4,
          "arrowsize": 1,
          "arrowwidth": 1,
          "ax": -0.028717290263689015,
          "axref": "x",
          "ay": -0.09690356183401382,
          "ayref": "y",
          "opacity": 0.6,
          "showarrow": true,
          "x": -0.08055593125543165,
          "xref": "x",
          "y": -0.10933529590194431,
          "yref": "y"
         },
         {
          "arrowhead": 4,
          "arrowsize": 1,
          "arrowwidth": 1,
          "ax": -0.0561203659317061,
          "axref": "x",
          "ay": -0.036677041394467785,
          "ayref": "y",
          "opacity": 0.6,
          "showarrow": true,
          "x": -0.09425746908944019,
          "xref": "x",
          "y": -0.07922203568217129,
          "yref": "y"
         },
         {
          "arrowhead": 4,
          "arrowsize": 1,
          "arrowwidth": 1,
          "ax": -0.2135807837874148,
          "axref": "x",
          "ay": -0.12634764051754216,
          "ayref": "y",
          "opacity": 0.6,
          "showarrow": true,
          "x": -0.17298767801729453,
          "xref": "x",
          "y": -0.12405733524370847,
          "yref": "y"
         },
         {
          "arrowhead": 4,
          "arrowsize": 1,
          "arrowwidth": 1,
          "ax": -0.02605419431201097,
          "axref": "x",
          "ay": -0.01824569592143327,
          "ayref": "y",
          "opacity": 0.6,
          "showarrow": true,
          "x": -0.07922438327959262,
          "xref": "x",
          "y": -0.07000636294565404,
          "yref": "y"
         },
         {
          "arrowhead": 4,
          "arrowsize": 1,
          "arrowwidth": 1,
          "ax": -0.03597756187148257,
          "axref": "x",
          "ay": -0.14297778371040915,
          "ayref": "y",
          "opacity": 0.6,
          "showarrow": true,
          "x": -0.08418606705932842,
          "xref": "x",
          "y": -0.13237240684014198,
          "yref": "y"
         },
         {
          "arrowhead": 4,
          "arrowsize": 1,
          "arrowwidth": 1,
          "ax": -0.1614307970645156,
          "axref": "x",
          "ay": -0.02764107473419914,
          "ayref": "y",
          "opacity": 0.6,
          "showarrow": true,
          "x": -0.14691268465584495,
          "xref": "x",
          "y": -0.07470405235203698,
          "yref": "y"
         },
         {
          "arrowhead": 4,
          "arrowsize": 1,
          "arrowwidth": 1,
          "ax": -0.1197238658623617,
          "axref": "x",
          "ay": -0.13810314348827113,
          "ayref": "y",
          "opacity": 0.6,
          "showarrow": true,
          "x": -0.12605921905476797,
          "xref": "x",
          "y": -0.12993508672907297,
          "yref": "y"
         },
         {
          "arrowhead": 4,
          "arrowsize": 1,
          "arrowwidth": 1,
          "ax": -0.07955640137865516,
          "axref": "x",
          "ay": -0.18262596745454374,
          "ayref": "y",
          "opacity": 0.6,
          "showarrow": true,
          "x": -0.033041060012862854,
          "xref": "x",
          "y": -0.15209087548101294,
          "yref": "y"
         },
         {
          "arrowhead": 4,
          "arrowsize": 1,
          "arrowwidth": 1,
          "ax": 0.0004293685990525214,
          "axref": "x",
          "ay": -0.053585955292108155,
          "ayref": "y",
          "opacity": 0.6,
          "showarrow": true,
          "x": 0.00695182497599099,
          "xref": "x",
          "y": -0.08757086939979514,
          "yref": "y"
         },
         {
          "arrowhead": 4,
          "arrowsize": 1,
          "arrowwidth": 1,
          "ax": 0.04688023248804089,
          "axref": "x",
          "ay": -0.01814007269023693,
          "ayref": "y",
          "opacity": 0.6,
          "showarrow": true,
          "x": 0.030177256920485177,
          "xref": "x",
          "y": -0.06984792809885954,
          "yref": "y"
         },
         {
          "arrowhead": 4,
          "arrowsize": 1,
          "arrowwidth": 1,
          "ax": -0.026906062858978095,
          "axref": "x",
          "ay": -0.11869443618479553,
          "ayref": "y",
          "opacity": 0.6,
          "showarrow": true,
          "x": -0.006715890753024319,
          "xref": "x",
          "y": -0.12012510984613883,
          "yref": "y"
         },
         {
          "arrowhead": 4,
          "arrowsize": 1,
          "arrowwidth": 1,
          "ax": -0.017321438469654143,
          "axref": "x",
          "ay": -0.1415359474550339,
          "ayref": "y",
          "opacity": 0.6,
          "showarrow": true,
          "x": -0.001923578558362343,
          "xref": "x",
          "y": -0.13154586548125802,
          "yref": "y"
         },
         {
          "arrowhead": 4,
          "arrowsize": 1,
          "arrowwidth": 1,
          "ax": -0.022004653714724442,
          "axref": "x",
          "ay": -0.0968064655932542,
          "ayref": "y",
          "opacity": 0.6,
          "showarrow": true,
          "x": -0.004265186180897492,
          "xref": "x",
          "y": -0.10918112455036817,
          "yref": "y"
         },
         {
          "arrowhead": 4,
          "arrowsize": 1,
          "arrowwidth": 1,
          "ax": -0.009218940772514828,
          "axref": "x",
          "ay": -0.11902703257500477,
          "ayref": "y",
          "opacity": 0.6,
          "showarrow": true,
          "x": 0.0021276702902073147,
          "xref": "x",
          "y": -0.12029140804124346,
          "yref": "y"
         },
         {
          "arrowhead": 4,
          "arrowsize": 1,
          "arrowwidth": 1,
          "ax": -0.025291176749888036,
          "axref": "x",
          "ay": -0.1644920450441437,
          "ayref": "y",
          "opacity": 0.6,
          "showarrow": true,
          "x": -0.005908447698479289,
          "xref": "x",
          "y": -0.1430239142758129,
          "yref": "y"
         },
         {
          "arrowhead": 4,
          "arrowsize": 1,
          "arrowwidth": 1,
          "ax": 0.07203489125048745,
          "axref": "x",
          "ay": -0.10394325447616302,
          "ayref": "y",
          "opacity": 0.6,
          "showarrow": true,
          "x": 0.042754586301708454,
          "xref": "x",
          "y": -0.11274951899182258,
          "yref": "y"
         },
         {
          "arrowhead": 4,
          "arrowsize": 1,
          "arrowwidth": 1,
          "ax": 0.05002152978677536,
          "axref": "x",
          "ay": -0.11825398197572767,
          "ayref": "y",
          "opacity": 0.6,
          "showarrow": true,
          "x": 0.03174790556985241,
          "xref": "x",
          "y": -0.1199048827416049,
          "yref": "y"
         },
         {
          "arrowhead": 4,
          "arrowsize": 1,
          "arrowwidth": 1,
          "ax": 0.005586791974684925,
          "axref": "x",
          "ay": -0.06740031271860276,
          "ayref": "y",
          "opacity": 0.6,
          "showarrow": true,
          "x": 0.009530536663807192,
          "xref": "x",
          "y": -0.09447804811304245,
          "yref": "y"
         },
         {
          "arrowhead": 4,
          "arrowsize": 1,
          "arrowwidth": 1,
          "ax": 0.15445810480840524,
          "axref": "x",
          "ay": -0.13905577444603842,
          "ayref": "y",
          "opacity": 0.6,
          "showarrow": true,
          "x": 0.08396619308066736,
          "xref": "x",
          "y": -0.13030577897676027,
          "yref": "y"
         },
         {
          "arrowhead": 4,
          "arrowsize": 1,
          "arrowwidth": 1,
          "ax": 0.16116909258021478,
          "axref": "x",
          "ay": -0.09758611047737153,
          "ayref": "y",
          "opacity": 0.6,
          "showarrow": true,
          "x": 0.08732168696657212,
          "xref": "x",
          "y": -0.10957094699242684,
          "yref": "y"
         },
         {
          "arrowhead": 4,
          "arrowsize": 1,
          "arrowwidth": 1,
          "ax": -0.07893367207887722,
          "axref": "x",
          "ay": -0.07751518121699368,
          "ayref": "y",
          "opacity": 0.6,
          "showarrow": true,
          "x": -0.03272969536297388,
          "xref": "x",
          "y": -0.0995354823622379,
          "yref": "y"
         },
         {
          "arrowhead": 4,
          "arrowsize": 1,
          "arrowwidth": 1,
          "ax": 0.0677471730630542,
          "axref": "x",
          "ay": -0.047143749619202195,
          "ayref": "y",
          "opacity": 0.6,
          "showarrow": true,
          "x": 0.040610727207991824,
          "xref": "x",
          "y": -0.08434976656334216,
          "yref": "y"
         },
         {
          "arrowhead": 4,
          "arrowsize": 1,
          "arrowwidth": 1,
          "ax": 0.027385013140550092,
          "axref": "x",
          "ay": -0.057105268340735184,
          "ayref": "y",
          "opacity": 0.6,
          "showarrow": true,
          "x": 0.020429647246739777,
          "xref": "x",
          "y": -0.08933052592410866,
          "yref": "y"
         },
         {
          "arrowhead": 4,
          "arrowsize": 1,
          "arrowwidth": 1,
          "ax": 0.04421713653636285,
          "axref": "x",
          "ay": -0.09679793860281748,
          "ayref": "y",
          "opacity": 0.6,
          "showarrow": true,
          "x": 0.028845708944646154,
          "xref": "x",
          "y": -0.1091768610551498,
          "yref": "y"
         },
         {
          "arrowhead": 4,
          "arrowsize": 1,
          "arrowwidth": 1,
          "ax": -0.07098220078727699,
          "axref": "x",
          "ay": -0.09446172148566345,
          "ayref": "y",
          "opacity": 0.6,
          "showarrow": true,
          "x": -0.028753959717173767,
          "xref": "x",
          "y": -0.10800875249657278,
          "yref": "y"
         },
         {
          "arrowhead": 4,
          "arrowsize": 1,
          "arrowwidth": 1,
          "ax": -0.0459900193710528,
          "axref": "x",
          "ay": -0.11003144045520752,
          "ayref": "y",
          "opacity": 0.6,
          "showarrow": true,
          "x": -0.01625786900906167,
          "xref": "x",
          "y": -0.11579361198134482,
          "yref": "y"
         },
         {
          "arrowhead": 4,
          "arrowsize": 1,
          "arrowwidth": 1,
          "ax": 0.016814060868345762,
          "axref": "x",
          "ay": -0.036571418163271446,
          "ayref": "y",
          "opacity": 0.6,
          "showarrow": true,
          "x": 0.015144171110637612,
          "xref": "x",
          "y": -0.07906360083537678,
          "yref": "y"
         },
         {
          "arrowhead": 4,
          "arrowsize": 1,
          "arrowwidth": 1,
          "ax": -0.023427234936122556,
          "axref": "x",
          "ay": -0.04931472238335928,
          "ayref": "y",
          "opacity": 0.6,
          "showarrow": true,
          "x": -0.004976476791596549,
          "xref": "x",
          "y": -0.0854352529454207,
          "yref": "y"
         },
         {
          "arrowhead": 4,
          "arrowsize": 1,
          "arrowwidth": 1,
          "ax": -0.04199358166891719,
          "axref": "x",
          "ay": -0.020867898787074547,
          "ayref": "y",
          "opacity": 0.6,
          "showarrow": true,
          "x": -0.014259650157993863,
          "xref": "x",
          "y": -0.07121184114727834,
          "yref": "y"
         },
         {
          "arrowhead": 4,
          "arrowsize": 1,
          "arrowwidth": 1,
          "ax": -0.07272657412397857,
          "axref": "x",
          "ay": -0.05996600174415684,
          "ayref": "y",
          "opacity": 0.6,
          "showarrow": true,
          "x": -0.029626146385524556,
          "xref": "x",
          "y": -0.09076089262581949,
          "yref": "y"
         },
         {
          "arrowhead": 4,
          "arrowsize": 1,
          "arrowwidth": 1,
          "ax": -0.048438518386834765,
          "axref": "x",
          "ay": -0.09011286146915466,
          "ayref": "y",
          "opacity": 0.6,
          "showarrow": true,
          "x": -0.017482118516952652,
          "xref": "x",
          "y": -0.1058343224883184,
          "yref": "y"
         },
         {
          "arrowhead": 4,
          "arrowsize": 1,
          "arrowwidth": 1,
          "ax": 0.048657138729754724,
          "axref": "x",
          "ay": -0.07485115648043639,
          "ayref": "y",
          "opacity": 0.6,
          "showarrow": true,
          "x": 0.031065710041342093,
          "xref": "x",
          "y": -0.09820346999395926,
          "yref": "y"
         },
         {
          "arrowhead": 4,
          "arrowsize": 1,
          "arrowwidth": 1,
          "ax": 0.07308555287122787,
          "axref": "x",
          "ay": -0.16755509884268988,
          "ayref": "y",
          "opacity": 0.6,
          "showarrow": true,
          "x": 0.04327991711207866,
          "xref": "x",
          "y": -0.144555441175086,
          "yref": "y"
         },
         {
          "arrowhead": 4,
          "arrowsize": 1,
          "arrowwidth": 1,
          "ax": 0.011022742260361588,
          "axref": "x",
          "ay": -0.17371439146754497,
          "ayref": "y",
          "opacity": 0.6,
          "showarrow": true,
          "x": 0.012248511806645523,
          "xref": "x",
          "y": -0.14763508748751353,
          "yref": "y"
         },
         {
          "arrowhead": 4,
          "arrowsize": 1,
          "arrowwidth": 1,
          "ax": -0.08849637026446373,
          "axref": "x",
          "ay": -0.0275354515030028,
          "ayref": "y",
          "opacity": 0.6,
          "showarrow": true,
          "x": -0.03751104445576714,
          "xref": "x",
          "y": -0.07454561750524247,
          "yref": "y"
         },
         {
          "arrowhead": 4,
          "arrowsize": 1,
          "arrowwidth": 1,
          "ax": -0.04678943906230983,
          "axref": "x",
          "ay": -0.1379975202570748,
          "ayref": "y",
          "opacity": 0.6,
          "showarrow": true,
          "x": -0.016657578854690186,
          "xref": "x",
          "y": -0.12977665188227847,
          "yref": "y"
         },
         {
          "arrowhead": 4,
          "arrowsize": 1,
          "arrowwidth": 1,
          "ax": 0.03695686492856929,
          "axref": "x",
          "ay": -0.1428721604792128,
          "ayref": "y",
          "opacity": 0.6,
          "showarrow": true,
          "x": 0.025215573140749376,
          "xref": "x",
          "y": -0.13221397199334747,
          "yref": "y"
         },
         {
          "arrowhead": 4,
          "arrowsize": 1,
          "arrowwidth": 1,
          "ax": 0.01820055477697229,
          "axref": "x",
          "ay": -0.15129280654333022,
          "ayref": "y",
          "opacity": 0.6,
          "showarrow": true,
          "x": 0.015837418064950873,
          "xref": "x",
          "y": -0.13642429502540618,
          "yref": "y"
         },
         {
          "arrowhead": 4,
          "arrowsize": 1,
          "arrowwidth": 1,
          "ax": -0.08108664400908476,
          "axref": "x",
          "ay": -0.11394596005426816,
          "ayref": "y",
          "opacity": 0.6,
          "showarrow": true,
          "x": -0.03380618132807765,
          "xref": "x",
          "y": -0.11775087178087515,
          "yref": "y"
         },
         {
          "arrowhead": 4,
          "arrowsize": 1,
          "arrowwidth": 1,
          "ax": 0.027328307661331076,
          "axref": "x",
          "ay": -0.11572523104325035,
          "ayref": "y",
          "opacity": 0.6,
          "showarrow": true,
          "x": 0.05694854294097618,
          "xref": "x",
          "y": -0.1153387057436118,
          "yref": "y"
         },
         {
          "arrowhead": 4,
          "arrowsize": 1,
          "arrowwidth": 1,
          "ax": 0.10963280130507377,
          "axref": "x",
          "ay": -0.16425329731093544,
          "ayref": "y",
          "opacity": 0.6,
          "showarrow": true,
          "x": 0.09810078976284753,
          "xref": "x",
          "y": -0.13960273887745434,
          "yref": "y"
         },
         {
          "arrowhead": 4,
          "arrowsize": 1,
          "arrowwidth": 1,
          "ax": 0.10858213968433336,
          "axref": "x",
          "ay": -0.1006414529444086,
          "ayref": "y",
          "opacity": 0.6,
          "showarrow": true,
          "x": 0.09757545895247732,
          "xref": "x",
          "y": -0.10779681669419092,
          "yref": "y"
         },
         {
          "arrowhead": 4,
          "arrowsize": 1,
          "arrowwidth": 1,
          "ax": 0.19100535324225115,
          "axref": "x",
          "ay": -0.13575397291428398,
          "ayref": "y",
          "opacity": 0.6,
          "showarrow": true,
          "x": 0.13878706573143623,
          "xref": "x",
          "y": -0.12535307667912862,
          "yref": "y"
         },
         {
          "arrowhead": 4,
          "arrowsize": 1,
          "arrowwidth": 1,
          "ax": 0.03697661703289842,
          "axref": "x",
          "ay": -0.05028415376035372,
          "ayref": "y",
          "opacity": 0.6,
          "showarrow": true,
          "x": 0.061772697626759854,
          "xref": "x",
          "y": -0.08261816710216348,
          "yref": "y"
         },
         {
          "arrowhead": 4,
          "arrowsize": 1,
          "arrowwidth": 1,
          "ax": 0.0834274809218868,
          "axref": "x",
          "ay": -0.014838271158482498,
          "ayref": "y",
          "opacity": 0.6,
          "showarrow": true,
          "x": 0.08499812957125404,
          "xref": "x",
          "y": -0.06489522580122786,
          "yref": "y"
         },
         {
          "arrowhead": 4,
          "arrowsize": 1,
          "arrowwidth": 1,
          "ax": 0.063932261574396,
          "axref": "x",
          "ay": -0.05380346680898075,
          "ayref": "y",
          "opacity": 0.6,
          "showarrow": true,
          "x": 0.07525051989750864,
          "xref": "x",
          "y": -0.084377823626477,
          "yref": "y"
         },
         {
          "arrowhead": 4,
          "arrowsize": 1,
          "arrowwidth": 1,
          "ax": 0.01922580996419176,
          "axref": "x",
          "ay": -0.13823414592327946,
          "ayref": "y",
          "opacity": 0.6,
          "showarrow": true,
          "x": 0.05289729409240652,
          "xref": "x",
          "y": -0.12659316318362634,
          "yref": "y"
         },
         {
          "arrowhead": 4,
          "arrowsize": 1,
          "arrowwidth": 1,
          "ax": 0.013120013497723348,
          "axref": "x",
          "ay": -0.04601292085160485,
          "ayref": "y",
          "opacity": 0.6,
          "showarrow": true,
          "x": 0.049844395859172316,
          "xref": "x",
          "y": -0.08048255064778904,
          "yref": "y"
         },
         {
          "arrowhead": 4,
          "arrowsize": 1,
          "arrowwidth": 1,
          "ax": 0.014542594719121463,
          "axref": "x",
          "ay": -0.09350466406149978,
          "ayref": "y",
          "opacity": 0.6,
          "showarrow": true,
          "x": 0.050555686469871366,
          "xref": "x",
          "y": -0.10422842225273651,
          "yref": "y"
         },
         {
          "arrowhead": 4,
          "arrowsize": 1,
          "arrowwidth": 1,
          "ax": -0.011891269952988857,
          "axref": "x",
          "ay": -0.08681105993740024,
          "ayref": "y",
          "opacity": 0.6,
          "showarrow": true,
          "x": 0.03733875413381621,
          "xref": "x",
          "y": -0.10088162019068674,
          "yref": "y"
         },
         {
          "arrowhead": 4,
          "arrowsize": 1,
          "arrowwidth": 1,
          "ax": 0.04213404040853083,
          "axref": "x",
          "ay": -0.06409851118684834,
          "ayref": "y",
          "opacity": 0.6,
          "showarrow": true,
          "x": 0.06435140931457606,
          "xref": "x",
          "y": -0.08952534581541079,
          "yref": "y"
         },
         {
          "arrowhead": 4,
          "arrowsize": 1,
          "arrowwidth": 1,
          "ax": 0.08076438497020876,
          "axref": "x",
          "ay": -0.09349613707106305,
          "ayref": "y",
          "opacity": 0.6,
          "showarrow": true,
          "x": 0.08366658159541501,
          "xref": "x",
          "y": -0.10422415875751814,
          "yref": "y"
         },
         {
          "arrowhead": 4,
          "arrowsize": 1,
          "arrowwidth": 1,
          "ax": -0.0054463332350712795,
          "axref": "x",
          "ay": -0.017566097255320115,
          "ayref": "y",
          "opacity": 0.6,
          "showarrow": true,
          "x": 0.040561222492774995,
          "xref": "x",
          "y": -0.06625913884964668,
          "yref": "y"
         },
         {
          "arrowhead": 4,
          "arrowsize": 1,
          "arrowwidth": 1,
          "ax": 0.1042944214969001,
          "axref": "x",
          "ay": -0.04384194808744776,
          "ayref": "y",
          "opacity": 0.6,
          "showarrow": true,
          "x": 0.09543159985876068,
          "xref": "x",
          "y": -0.0793970642657105,
          "yref": "y"
         },
         {
          "arrowhead": 4,
          "arrowsize": 1,
          "arrowwidth": 1,
          "ax": 0.1977163410140607,
          "axref": "x",
          "ay": -0.0942843089456171,
          "ayref": "y",
          "opacity": 0.6,
          "showarrow": true,
          "x": 0.14214255961734099,
          "xref": "x",
          "y": -0.10461824469479516,
          "yref": "y"
         },
         {
          "arrowhead": 4,
          "arrowsize": 1,
          "arrowwidth": 1,
          "ax": -0.04238642364503132,
          "axref": "x",
          "ay": -0.07421337968523925,
          "ayref": "y",
          "opacity": 0.6,
          "showarrow": true,
          "x": 0.02209117728779498,
          "xref": "x",
          "y": -0.09458278006460624,
          "yref": "y"
         },
         {
          "arrowhead": 4,
          "arrowsize": 1,
          "arrowwidth": 1,
          "ax": 0.00964118557486781,
          "axref": "x",
          "ay": -0.11539263465304109,
          "ayref": "y",
          "opacity": 0.6,
          "showarrow": true,
          "x": 0.04810498189774454,
          "xref": "x",
          "y": -0.11517240754850716,
          "yref": "y"
         },
         {
          "arrowhead": 4,
          "arrowsize": 1,
          "arrowwidth": 1,
          "ax": -0.023211783916787014,
          "axref": "x",
          "ay": 0.025709075468594987,
          "ayref": "y",
          "opacity": 0.6,
          "showarrow": true,
          "x": 0.03167849715191713,
          "xref": "x",
          "y": -0.04462155248768913,
          "yref": "y"
         },
         {
          "arrowhead": 4,
          "arrowsize": 1,
          "arrowwidth": 1,
          "ax": -0.036179325690132665,
          "axref": "x",
          "ay": -0.056664200212402406,
          "ayref": "y",
          "opacity": 0.6,
          "showarrow": true,
          "x": 0.025194726265244306,
          "xref": "x",
          "y": -0.08580819032818783,
          "yref": "y"
         },
         {
          "arrowhead": 4,
          "arrowsize": 1,
          "arrowwidth": 1,
          "ax": -0.04300915294480926,
          "axref": "x",
          "ay": -0.1793241659227893,
          "ayref": "y",
          "opacity": 0.6,
          "showarrow": true,
          "x": 0.02177981263790601,
          "xref": "x",
          "y": -0.14713817318338127,
          "yref": "y"
         },
         {
          "arrowhead": 4,
          "arrowsize": 1,
          "arrowwidth": 1,
          "ax": 0.08520438716360063,
          "axref": "x",
          "ay": -0.07154935494868196,
          "ayref": "y",
          "opacity": 0.6,
          "showarrow": true,
          "x": 0.08588658269211095,
          "xref": "x",
          "y": -0.0932507676963276,
          "yref": "y"
         },
         {
          "arrowhead": 4,
          "arrowsize": 1,
          "arrowwidth": 1,
          "ax": 0.011256071683957869,
          "axref": "x",
          "ay": -0.16119024351238925,
          "ayref": "y",
          "opacity": 0.6,
          "showarrow": true,
          "x": 0.04891242495228958,
          "xref": "x",
          "y": -0.13807121197818126,
          "yref": "y"
         },
         {
          "arrowhead": 4,
          "arrowsize": 1,
          "arrowwidth": 1,
          "ax": 0.05336130930219167,
          "axref": "x",
          "ay": -0.033269616631517014,
          "ayref": "y",
          "opacity": 0.6,
          "showarrow": true,
          "x": 0.06996504376140647,
          "xref": "x",
          "y": -0.07411089853774513,
          "yref": "y"
         },
         {
          "arrowhead": 4,
          "arrowsize": 1,
          "arrowwidth": 1,
          "ax": 0.04756999069420749,
          "axref": "x",
          "ay": -0.17041258993579053,
          "ayref": "y",
          "opacity": 0.6,
          "showarrow": true,
          "x": 0.06706938445741438,
          "xref": "x",
          "y": -0.14268238518988188,
          "yref": "y"
         },
         {
          "arrowhead": 4,
          "arrowsize": 1,
          "arrowwidth": 1,
          "ax": 0.11103423115313671,
          "axref": "x",
          "ay": -0.07558572343742755,
          "ayref": "y",
          "opacity": 0.6,
          "showarrow": true,
          "x": 0.098801504686879,
          "xref": "x",
          "y": -0.0952689519407004,
          "yref": "y"
         },
         {
          "arrowhead": 4,
          "arrowsize": 1,
          "arrowwidth": 1,
          "ax": 0.07350411336241519,
          "axref": "x",
          "ay": -0.13957035894745837,
          "ayref": "y",
          "opacity": 0.6,
          "showarrow": true,
          "x": 0.08003644579151824,
          "xref": "x",
          "y": -0.1272612696957158,
          "yref": "y"
         },
         {
          "arrowhead": 4,
          "arrowsize": 1,
          "arrowwidth": 1,
          "ax": -0.04469787584016873,
          "axref": "x",
          "ay": -0.09427771466077688,
          "ayref": "y",
          "opacity": 0.6,
          "showarrow": true,
          "x": -0.03830501936906393,
          "xref": "x",
          "y": -0.10538799815165216,
          "yref": "y"
         },
         {
          "arrowhead": 4,
          "arrowsize": 1,
          "arrowwidth": 1,
          "ax": -0.049599284984422384,
          "axref": "x",
          "ay": -0.11616568525231818,
          "ayref": "y",
          "opacity": 0.6,
          "showarrow": true,
          "x": -0.04075572394119075,
          "xref": "x",
          "y": -0.11633198344742282,
          "yref": "y"
         },
         {
          "arrowhead": 4,
          "arrowsize": 1,
          "arrowwidth": 1,
          "ax": -0.07113174051227905,
          "axref": "x",
          "ay": -0.08758411053667733,
          "ayref": "y",
          "opacity": 0.6,
          "showarrow": true,
          "x": -0.051521951705119085,
          "xref": "x",
          "y": -0.10204119608960238,
          "yref": "y"
         },
         {
          "arrowhead": 4,
          "arrowsize": 1,
          "arrowwidth": 1,
          "ax": -0.040014660595098436,
          "axref": "x",
          "ay": -0.13900719652255655,
          "ayref": "y",
          "opacity": 0.6,
          "showarrow": true,
          "x": -0.03596341174652878,
          "xref": "x",
          "y": -0.12775273908254198,
          "yref": "y"
         },
         {
          "arrowhead": 4,
          "arrowsize": 1,
          "arrowwidth": 1,
          "ax": -0.10224962350409945,
          "axref": "x",
          "ay": -0.1800972165220664,
          "ayref": "y",
          "opacity": 0.6,
          "showarrow": true,
          "x": -0.06708089320102928,
          "xref": "x",
          "y": -0.14829774908229693,
          "yref": "y"
         },
         {
          "arrowhead": 4,
          "arrowsize": 1,
          "arrowwidth": 1,
          "ax": -0.047984398875332325,
          "axref": "x",
          "ay": -0.16196329411166635,
          "ayref": "y",
          "opacity": 0.6,
          "showarrow": true,
          "x": -0.03994828088664572,
          "xref": "x",
          "y": -0.1392307878770969,
          "yref": "y"
         },
         {
          "arrowhead": 4,
          "arrowsize": 1,
          "arrowwidth": 1,
          "ax": -0.10162689420432151,
          "axref": "x",
          "ay": -0.07498643028451635,
          "ayref": "y",
          "opacity": 0.6,
          "showarrow": true,
          "x": -0.06676952855114032,
          "xref": "x",
          "y": -0.09574235596352189,
          "yref": "y"
         },
         {
          "arrowhead": 4,
          "arrowsize": 1,
          "arrowwidth": 1,
          "ax": -0.046120457061566845,
          "axref": "x",
          "ay": -0.046785971450881945,
          "ayref": "y",
          "opacity": 0.6,
          "showarrow": true,
          "x": -0.03901630997976298,
          "xref": "x",
          "y": -0.08164212654670469,
          "yref": "y"
         },
         {
          "arrowhead": 4,
          "arrowsize": 1,
          "arrowwidth": 1,
          "ax": -0.022263853526391767,
          "axref": "x",
          "ay": -0.05105720435963082,
          "ayref": "y",
          "opacity": 0.6,
          "showarrow": true,
          "x": -0.02708800821217544,
          "xref": "x",
          "y": -0.08377774300107912,
          "yref": "y"
         },
         {
          "arrowhead": 4,
          "arrowsize": 1,
          "arrowwidth": 1,
          "ax": -0.06948266118775412,
          "axref": "x",
          "ay": -0.13546876932459745,
          "ayref": "y",
          "opacity": 0.6,
          "showarrow": true,
          "x": -0.05069741204285662,
          "xref": "x",
          "y": -0.12598352548356245,
          "yref": "y"
         },
         {
          "arrowhead": 4,
          "arrowsize": 1,
          "arrowwidth": 1,
          "ax": -0.06868324149649709,
          "axref": "x",
          "ay": -0.10750268952273018,
          "ayref": "y",
          "opacity": 0.6,
          "showarrow": true,
          "x": -0.0502977021972281,
          "xref": "x",
          "y": -0.1120004855826288,
          "yref": "y"
         },
         {
          "arrowhead": 4,
          "arrowsize": 1,
          "arrowwidth": 1,
          "ax": -0.09541979624942286,
          "axref": "x",
          "ay": -0.057437250811679504,
          "ayref": "y",
          "opacity": 0.6,
          "showarrow": true,
          "x": -0.063665979573691,
          "xref": "x",
          "y": -0.08696776622710348,
          "yref": "y"
         },
         {
          "arrowhead": 4,
          "arrowsize": 1,
          "arrowwidth": 1,
          "ax": -0.16333957911280722,
          "axref": "x",
          "ay": -0.12371326635386848,
          "ayref": "y",
          "opacity": 0.6,
          "showarrow": true,
          "x": -0.09762587100538317,
          "xref": "x",
          "y": -0.12010577399819795,
          "yref": "y"
         },
         {
          "arrowhead": 4,
          "arrowsize": 1,
          "arrowwidth": 1,
          "ax": -0.09367542291272128,
          "axref": "x",
          "ay": -0.09193297055318611,
          "ayref": "y",
          "opacity": 0.6,
          "showarrow": true,
          "x": -0.0627937929053402,
          "xref": "x",
          "y": -0.10421562609785677,
          "yref": "y"
         },
         {
          "arrowhead": 4,
          "arrowsize": 1,
          "arrowwidth": 1,
          "ax": 0.014263642803125004,
          "axref": "x",
          "ay": -0.14034340954673546,
          "ayref": "y",
          "opacity": 0.6,
          "showarrow": true,
          "x": -0.008824260047417057,
          "xref": "x",
          "y": -0.12842084559463146,
          "yref": "y"
         },
         {
          "arrowhead": 4,
          "arrowsize": 1,
          "arrowwidth": 1,
          "ax": -0.06468680379436148,
          "axref": "x",
          "ay": -0.018339147854597213,
          "ayref": "y",
          "opacity": 0.6,
          "showarrow": true,
          "x": -0.0482994833461603,
          "xref": "x",
          "y": -0.06741871474856233,
          "yref": "y"
         },
         {
          "arrowhead": 4,
          "arrowsize": 1,
          "arrowwidth": 1,
          "ax": -0.10377986613452905,
          "axref": "x",
          "ay": -0.11141720912179082,
          "ayref": "y",
          "opacity": 0.6,
          "showarrow": true,
          "x": -0.06784601451624409,
          "xref": "x",
          "y": -0.11395774538215914,
          "yref": "y"
         },
         {
          "arrowhead": 4,
          "arrowsize": 1,
          "arrowwidth": 1,
          "ax": 0.004691791015105803,
          "axref": "x",
          "ay": -0.05457651740825785,
          "ayref": "y",
          "opacity": 0.6,
          "showarrow": true,
          "x": -0.013610185941426657,
          "xref": "x",
          "y": -0.08553739952539265,
          "yref": "y"
         },
         {
          "arrowhead": 4,
          "arrowsize": 1,
          "arrowwidth": 1,
          "ax": -0.11118959238990803,
          "axref": "x",
          "ay": -0.025006700570525467,
          "ayref": "y",
          "opacity": 0.6,
          "showarrow": true,
          "x": -0.07155087764393357,
          "xref": "x",
          "y": -0.07075249110652646,
          "yref": "y"
         },
         {
          "arrowhead": 4,
          "arrowsize": 1,
          "arrowwidth": 1,
          "ax": 0.02152391441091856,
          "axref": "x",
          "ay": -0.09426918767034015,
          "ayref": "y",
          "opacity": 0.6,
          "showarrow": true,
          "x": -0.005194124243520278,
          "xref": "x",
          "y": -0.10538373465643379,
          "yref": "y"
         },
         {
          "arrowhead": 4,
          "arrowsize": 1,
          "arrowwidth": 1,
          "ax": -0.017106430150759362,
          "axref": "x",
          "ay": -0.06487156178612544,
          "ayref": "y",
          "opacity": 0.6,
          "showarrow": true,
          "x": -0.02450929652435924,
          "xref": "x",
          "y": -0.09068492171432643,
          "yref": "y"
         },
         {
          "arrowhead": 4,
          "arrowsize": 1,
          "arrowwidth": 1,
          "ax": 0.02596391660431044,
          "axref": "x",
          "ay": -0.07232240554795906,
          "ayref": "y",
          "opacity": 0.6,
          "showarrow": true,
          "x": -0.0029741231468243395,
          "xref": "x",
          "y": -0.09441034359524325,
          "yref": "y"
         },
         {
          "arrowhead": 4,
          "arrowsize": 1,
          "arrowwidth": 1,
          "ax": 0.04934166912504316,
          "axref": "x",
          "ay": -0.1014145035436857,
          "ayref": "y",
          "opacity": 0.6,
          "showarrow": true,
          "x": 0.008714753113542022,
          "xref": "x",
          "y": -0.10895639259310656,
          "yref": "y"
         },
         {
          "arrowhead": 4,
          "arrowsize": 1,
          "arrowwidth": 1,
          "ax": 0.05039233074578357,
          "axref": "x",
          "ay": -0.16502634791021253,
          "ayref": "y",
          "opacity": 0.6,
          "showarrow": true,
          "x": 0.009240083923912228,
          "xref": "x",
          "y": -0.14076231477636997,
          "yref": "y"
         },
         {
          "arrowhead": 4,
          "arrowsize": 1,
          "arrowwidth": 1,
          "ax": -0.0058791612570985256,
          "axref": "x",
          "ay": -0.03404266723079411,
          "ayref": "y",
          "opacity": 0.6,
          "showarrow": true,
          "x": -0.01889566207752882,
          "xref": "x",
          "y": -0.07527047443666077,
          "yref": "y"
         },
         {
          "arrowhead": 4,
          "arrowsize": 1,
          "arrowwidth": 1,
          "ax": -0.011670479865082701,
          "axref": "x",
          "ay": -0.17118564053506763,
          "ayref": "y",
          "opacity": 0.6,
          "showarrow": true,
          "x": -0.021791321381520908,
          "xref": "x",
          "y": -0.14384196108879754,
          "yref": "y"
         },
         {
          "arrowhead": 4,
          "arrowsize": 1,
          "arrowwidth": 1,
          "ax": -0.004492667348472,
          "axref": "x",
          "ay": -0.1487640556108529,
          "ayref": "y",
          "opacity": 0.6,
          "showarrow": true,
          "x": -0.01820241512321556,
          "xref": "x",
          "y": -0.13263116862669017,
          "yref": "y"
         },
         {
          "arrowhead": 4,
          "arrowsize": 1,
          "arrowwidth": 1,
          "ax": 0.05179376059384652,
          "axref": "x",
          "ay": -0.07635877403670464,
          "ayref": "y",
          "opacity": 0.6,
          "showarrow": true,
          "x": 0.009940798847943702,
          "xref": "x",
          "y": -0.09642852783961604,
          "yref": "y"
         },
         {
          "arrowhead": 4,
          "arrowsize": 1,
          "arrowwidth": 1,
          "ax": 0.024187010362596607,
          "axref": "x",
          "ay": -0.015611321757759596,
          "ayref": "y",
          "opacity": 0.6,
          "showarrow": true,
          "x": -0.003862576267681255,
          "xref": "x",
          "y": -0.06605480170014352,
          "yref": "y"
         },
         {
          "arrowhead": 4,
          "arrowsize": 1,
          "arrowwidth": 1,
          "ax": 0.0450539509376099,
          "axref": "x",
          "ay": -0.04461499868672486,
          "ayref": "y",
          "opacity": 0.6,
          "showarrow": true,
          "x": 0.006570894019825392,
          "xref": "x",
          "y": -0.08055664016462614,
          "yref": "y"
         },
         {
          "arrowhead": 4,
          "arrowsize": 1,
          "arrowwidth": 1,
          "ax": -0.05890617000377646,
          "axref": "x",
          "ay": -0.02456540446913138,
          "ayref": "y",
          "opacity": 0.6,
          "showarrow": true,
          "x": -0.058194879393077395,
          "xref": "x",
          "y": -0.04831127607407884,
          "yref": "y"
         },
         {
          "arrowhead": 4,
          "arrowsize": 1,
          "arrowwidth": 1,
          "ax": -0.00809392192710381,
          "axref": "x",
          "ay": -0.03235595042650728,
          "ayref": "y",
          "opacity": 0.6,
          "showarrow": true,
          "x": -0.03278875535474107,
          "xref": "x",
          "y": -0.05220654905276679,
          "yref": "y"
         },
         {
          "arrowhead": 4,
          "arrowsize": 1,
          "arrowwidth": 1,
          "ax": -0.08391745345448867,
          "axref": "x",
          "ay": -0.06536354355492677,
          "ayref": "y",
          "opacity": 0.6,
          "showarrow": true,
          "x": -0.0707005211184335,
          "xref": "x",
          "y": -0.06871034561697653,
          "yref": "y"
         },
         {
          "arrowhead": 4,
          "arrowsize": 1,
          "arrowwidth": 1,
          "ax": -0.062384997926632,
          "axref": "x",
          "ay": -0.09394511827056762,
          "ayref": "y",
          "opacity": 0.6,
          "showarrow": true,
          "x": -0.05993429335450517,
          "xref": "x",
          "y": -0.08300113297479697,
          "yref": "y"
         },
         {
          "arrowhead": 4,
          "arrowsize": 1,
          "arrowwidth": 1,
          "ax": -0.035049566468601384,
          "axref": "x",
          "ay": -0.028836637377880253,
          "ayref": "y",
          "opacity": 0.6,
          "showarrow": true,
          "x": -0.04626657762548986,
          "xref": "x",
          "y": -0.050446892528453274,
          "yref": "y"
         },
         {
          "arrowhead": 4,
          "arrowsize": 1,
          "arrowwidth": 1,
          "ax": -0.11441260714653112,
          "axref": "x",
          "ay": -0.052765863302765774,
          "ayref": "y",
          "opacity": 0.6,
          "showarrow": true,
          "x": -0.08594809796445474,
          "xref": "x",
          "y": -0.06241150549089604,
          "yref": "y"
         },
         {
          "arrowhead": 4,
          "arrowsize": 1,
          "arrowwidth": 1,
          "ax": -0.05280037353730804,
          "axref": "x",
          "ay": -0.11678662954080599,
          "ayref": "y",
          "opacity": 0.6,
          "showarrow": true,
          "x": -0.055141981159843194,
          "xref": "x",
          "y": -0.09442188860991614,
          "yref": "y"
         },
         {
          "arrowhead": 4,
          "arrowsize": 1,
          "arrowwidth": 1,
          "ax": -0.06077011181754194,
          "axref": "x",
          "ay": -0.13974272712991578,
          "ayref": "y",
          "opacity": 0.6,
          "showarrow": true,
          "x": -0.059126850299960135,
          "xref": "x",
          "y": -0.10589993740447104,
          "yref": "y"
         },
         {
          "arrowhead": 4,
          "arrowsize": 1,
          "arrowwidth": 1,
          "ax": -0.017278380290681614,
          "axref": "x",
          "ay": -0.12654348862910234,
          "ayref": "y",
          "opacity": 0.6,
          "showarrow": true,
          "x": -0.03738098453652998,
          "xref": "x",
          "y": -0.09930031815406432,
          "yref": "y"
         },
         {
          "arrowhead": 4,
          "arrowsize": 1,
          "arrowwidth": 1,
          "ax": -0.08226837412996374,
          "axref": "x",
          "ay": -0.11324820234284688,
          "ayref": "y",
          "opacity": 0.6,
          "showarrow": true,
          "x": -0.06987598145617104,
          "xref": "x",
          "y": -0.0926526750109366,
          "yref": "y"
         },
         {
          "arrowhead": 4,
          "arrowsize": 1,
          "arrowwidth": 1,
          "ax": -0.10820550919163247,
          "axref": "x",
          "ay": -0.03521668382992894,
          "ayref": "y",
          "opacity": 0.6,
          "showarrow": true,
          "x": -0.08284454898700541,
          "xref": "x",
          "y": -0.05363691575447762,
          "yref": "y"
         },
         {
          "arrowhead": 4,
          "arrowsize": 1,
          "arrowwidth": 1,
          "ax": -0.17612529205501684,
          "axref": "x",
          "ay": -0.10149269937211791,
          "ayref": "y",
          "opacity": 0.6,
          "showarrow": true,
          "x": -0.11680444041869759,
          "xref": "x",
          "y": -0.0867749235255721,
          "yref": "y"
         },
         {
          "arrowhead": 4,
          "arrowsize": 1,
          "arrowwidth": 1,
          "ax": -0.10646113585493089,
          "axref": "x",
          "ay": -0.06971240357143554,
          "ayref": "y",
          "opacity": 0.6,
          "showarrow": true,
          "x": -0.08197236231865462,
          "xref": "x",
          "y": -0.07088477562523092,
          "yref": "y"
         },
         {
          "arrowhead": 4,
          "arrowsize": 1,
          "arrowwidth": 1,
          "ax": -0.11656557907673867,
          "axref": "x",
          "ay": -0.08919664214004025,
          "ayref": "y",
          "opacity": 0.6,
          "showarrow": true,
          "x": -0.0870245839295585,
          "xref": "x",
          "y": -0.08062689490953329,
          "yref": "y"
         },
         {
          "arrowhead": 4,
          "arrowsize": 1,
          "arrowwidth": 1,
          "ax": -0.07747251673657109,
          "axref": "x",
          "ay": 0.0038814191271533544,
          "ayref": "y",
          "opacity": 0.6,
          "showarrow": true,
          "x": -0.06747805275947472,
          "xref": "x",
          "y": -0.03408786427593648,
          "yref": "y"
         },
         {
          "arrowhead": 4,
          "arrowsize": 1,
          "arrowwidth": 1,
          "ax": -0.12397530533211765,
          "axref": "x",
          "ay": -0.0027861335887749,
          "ayref": "y",
          "opacity": 0.6,
          "showarrow": true,
          "x": -0.09072944705724799,
          "xref": "x",
          "y": -0.037421640633900605,
          "yref": "y"
         },
         {
          "arrowhead": 4,
          "arrowsize": 1,
          "arrowwidth": 1,
          "ax": 0.008738201468708948,
          "axref": "x",
          "ay": -0.07204862068858958,
          "ayref": "y",
          "opacity": 0.6,
          "showarrow": true,
          "x": -0.024372693656834695,
          "xref": "x",
          "y": -0.07205288418380794,
          "yref": "y"
         },
         {
          "arrowhead": 4,
          "arrowsize": 1,
          "arrowwidth": 1,
          "ax": -0.08146895443870669,
          "axref": "x",
          "ay": -0.08528212254097961,
          "ayref": "y",
          "opacity": 0.6,
          "showarrow": true,
          "x": -0.06947627161054251,
          "xref": "x",
          "y": -0.07866963511000295,
          "yref": "y"
         },
         {
          "arrowhead": 4,
          "arrowsize": 1,
          "arrowwidth": 1,
          "ax": 0.03226823799540029,
          "axref": "x",
          "ay": -0.022394431704974294,
          "ayref": "y",
          "opacity": 0.6,
          "showarrow": true,
          "x": -0.012607675393489025,
          "xref": "x",
          "y": -0.047225789692000295,
          "yref": "y"
         },
         {
          "arrowhead": 4,
          "arrowsize": 1,
          "arrowwidth": 1,
          "ax": 0.013178203662100825,
          "axref": "x",
          "ay": -0.05010183856620849,
          "ayref": "y",
          "opacity": 0.6,
          "showarrow": true,
          "x": -0.022152692560138756,
          "xref": "x",
          "y": -0.061079493122617394,
          "yref": "y"
         },
         {
          "arrowhead": 4,
          "arrowsize": 1,
          "arrowwidth": 1,
          "ax": -0.024456192807292314,
          "axref": "x",
          "ay": -0.14896507355331706,
          "ayref": "y",
          "opacity": 0.6,
          "showarrow": true,
          "x": -0.040969890794835324,
          "xref": "x",
          "y": -0.11051111061617168,
          "yref": "y"
         },
         {
          "arrowhead": 4,
          "arrowsize": 1,
          "arrowwidth": 1,
          "ax": -0.11503533644630906,
          "axref": "x",
          "ay": -0.15787664954031583,
          "ayref": "y",
          "opacity": 0.6,
          "showarrow": true,
          "x": -0.0862594626143437,
          "xref": "x",
          "y": -0.11496689860967108,
          "yref": "y"
         },
         {
          "arrowhead": 4,
          "arrowsize": 1,
          "arrowwidth": 1,
          "ax": 0.0014779298609153904,
          "axref": "x",
          "ay": -0.1181228425649849,
          "ayref": "y",
          "opacity": 0.6,
          "showarrow": true,
          "x": -0.028002829460731474,
          "xref": "x",
          "y": -0.09508999512200561,
          "yref": "y"
         },
         {
          "arrowhead": 4,
          "arrowsize": 1,
          "arrowwidth": 1,
          "ax": -0.018664874199308137,
          "axref": "x",
          "ay": -0.011822100249043545,
          "ayref": "y",
          "opacity": 0.6,
          "showarrow": true,
          "x": -0.03807423149084324,
          "xref": "x",
          "y": -0.041939623964034924,
          "yref": "y"
         },
         {
          "arrowhead": 4,
          "arrowsize": 1,
          "arrowwidth": 1,
          "ax": -0.029892143092968976,
          "axref": "x",
          "ay": -0.04265099480437487,
          "ayref": "y",
          "opacity": 0.6,
          "showarrow": true,
          "x": -0.04368786593767366,
          "xref": "x",
          "y": -0.05735407124170058,
          "yref": "y"
         },
         {
          "arrowhead": 4,
          "arrowsize": 1,
          "arrowwidth": 1,
          "ax": 0.03900804765163691,
          "axref": "x",
          "ay": -0.05413820705495408,
          "ayref": "y",
          "opacity": 0.6,
          "showarrow": true,
          "x": -0.009237770565370715,
          "xref": "x",
          "y": -0.06309767736699019,
          "yref": "y"
         },
         {
          "arrowhead": 4,
          "arrowsize": 1,
          "arrowwidth": 1,
          "ax": 0.03655595618283355,
          "axref": "x",
          "ay": -0.07919393656193513,
          "ayref": "y",
          "opacity": 0.6,
          "showarrow": true,
          "x": -0.010463816299772395,
          "xref": "x",
          "y": -0.07562554212048071,
          "yref": "y"
         },
         {
          "arrowhead": 4,
          "arrowsize": 1,
          "arrowwidth": 1,
          "ax": 0.011401297420386994,
          "axref": "x",
          "ay": 0.006609245223990971,
          "ayref": "y",
          "opacity": 0.6,
          "showarrow": true,
          "x": -0.023041145680995672,
          "xref": "x",
          "y": -0.032723951227517666,
          "yref": "y"
         },
         {
          "arrowhead": 4,
          "arrowsize": 1,
          "arrowwidth": 1,
          "ax": -0.009516503148501925,
          "axref": "x",
          "ay": 0.015135792783387648,
          "ayref": "y",
          "opacity": 0.6,
          "showarrow": true,
          "x": -0.03492262718683825,
          "xref": "x",
          "y": 0.019031065762075597,
          "yref": "y"
         },
         {
          "arrowhead": 4,
          "arrowsize": 1,
          "arrowwidth": 1,
          "ax": -0.08534003467588677,
          "axref": "x",
          "ay": -0.017871800345031837,
          "ayref": "y",
          "opacity": 0.6,
          "showarrow": true,
          "x": -0.07283439295053068,
          "xref": "x",
          "y": 0.002527269197865856,
          "yref": "y"
         },
         {
          "arrowhead": 4,
          "arrowsize": 1,
          "arrowwidth": 1,
          "ax": -0.11583518836792925,
          "axref": "x",
          "ay": -0.005274120092870845,
          "ayref": "y",
          "opacity": 0.6,
          "showarrow": true,
          "x": -0.08808196979655192,
          "xref": "x",
          "y": 0.008826109323946351,
          "yref": "y"
         },
         {
          "arrowhead": 4,
          "arrowsize": 1,
          "arrowwidth": 1,
          "ax": -0.0364721476899995,
          "axref": "x",
          "ay": 0.018655105832014678,
          "ayref": "y",
          "opacity": 0.6,
          "showarrow": true,
          "x": -0.048400449457587036,
          "xref": "x",
          "y": 0.02079072228638911,
          "yref": "y"
         },
         {
          "arrowhead": 4,
          "arrowsize": 1,
          "arrowwidth": 1,
          "ax": -0.06380757914803012,
          "axref": "x",
          "ay": -0.046453375060672694,
          "ayref": "y",
          "opacity": 0.6,
          "showarrow": true,
          "x": -0.062068165186602346,
          "xref": "x",
          "y": -0.011763518159954574,
          "yref": "y"
         },
         {
          "arrowhead": 4,
          "arrowsize": 1,
          "arrowwidth": 1,
          "ax": -0.05422295475870616,
          "axref": "x",
          "ay": -0.06929488633091105,
          "ayref": "y",
          "opacity": 0.6,
          "showarrow": true,
          "x": -0.05727585299194037,
          "xref": "x",
          "y": -0.02318427379507375,
          "yref": "y"
         },
         {
          "arrowhead": 4,
          "arrowsize": 1,
          "arrowwidth": 1,
          "ax": -0.0788950979579692,
          "axref": "x",
          "ay": 0.051373162337048285,
          "ayref": "y",
          "opacity": 0.6,
          "showarrow": true,
          "x": -0.0696119245915719,
          "xref": "x",
          "y": 0.037149750538905915,
          "yref": "y"
         },
         {
          "arrowhead": 4,
          "arrowsize": 1,
          "arrowwidth": 1,
          "ax": -0.12539788655351575,
          "axref": "x",
          "ay": 0.04470560962112003,
          "ayref": "y",
          "opacity": 0.6,
          "showarrow": true,
          "x": -0.09286331888934517,
          "xref": "x",
          "y": 0.03381597418094179,
          "yref": "y"
         },
         {
          "arrowhead": 4,
          "arrowsize": 1,
          "arrowwidth": 1,
          "ax": -0.08369095535136184,
          "axref": "x",
          "ay": -0.06575645913295196,
          "ayref": "y",
          "opacity": 0.6,
          "showarrow": true,
          "x": -0.07200985328826821,
          "xref": "x",
          "y": -0.021415060196094206,
          "yref": "y"
         },
         {
          "arrowhead": 4,
          "arrowsize": 1,
          "arrowwidth": 1,
          "ax": -0.10788371707632902,
          "axref": "x",
          "ay": -0.022220660361540613,
          "ayref": "y",
          "opacity": 0.6,
          "showarrow": true,
          "x": -0.0841062341507518,
          "xref": "x",
          "y": 0.00035283918961146604,
          "yref": "y"
         },
         {
          "arrowhead": 4,
          "arrowsize": 1,
          "arrowwidth": 1,
          "ax": 0.007315620247310833,
          "axref": "x",
          "ay": -0.024556877478694644,
          "ayref": "y",
          "opacity": 0.6,
          "showarrow": true,
          "x": -0.026506565488931873,
          "xref": "x",
          "y": -0.0008152693689655495,
          "yref": "y"
         },
         {
          "arrowhead": 4,
          "arrowsize": 1,
          "arrowwidth": 1,
          "ax": -0.11798816029813677,
          "axref": "x",
          "ay": -0.041704898930145326,
          "ayref": "y",
          "opacity": 0.6,
          "showarrow": true,
          "x": -0.08915845576165568,
          "xref": "x",
          "y": -0.00938928009469089,
          "yref": "y"
         },
         {
          "arrowhead": 4,
          "arrowsize": 1,
          "arrowwidth": 1,
          "ax": -0.1096280904130306,
          "axref": "x",
          "ay": 0.012275059379965992,
          "ayref": "y",
          "opacity": 0.6,
          "showarrow": true,
          "x": -0.08497842081910259,
          "xref": "x",
          "y": 0.01760069906036477,
          "yref": "y"
         },
         {
          "arrowhead": 4,
          "arrowsize": 1,
          "arrowwidth": 1,
          "ax": -0.02008745542070625,
          "axref": "x",
          "ay": 0.035669642960851386,
          "ayref": "y",
          "opacity": 0.6,
          "showarrow": true,
          "x": -0.04020810332294042,
          "xref": "x",
          "y": 0.029297990850807466,
          "yref": "y"
         },
         {
          "arrowhead": 4,
          "arrowsize": 1,
          "arrowwidth": 1,
          "ax": -0.03131472431436709,
          "axref": "x",
          "ay": 0.004840748405520061,
          "ayref": "y",
          "opacity": 0.6,
          "showarrow": true,
          "x": -0.04582173776977084,
          "xref": "x",
          "y": 0.013883543573141803,
          "yref": "y"
         },
         {
          "arrowhead": 4,
          "arrowsize": 1,
          "arrowwidth": 1,
          "ax": -0.08289153566010482,
          "axref": "x",
          "ay": -0.03779037933108468,
          "ayref": "y",
          "opacity": 0.6,
          "showarrow": true,
          "x": -0.07161014344263969,
          "xref": "x",
          "y": -0.007432020295160567,
          "yref": "y"
         },
         {
          "arrowhead": 4,
          "arrowsize": 1,
          "arrowwidth": 1,
          "ax": 0.03513337496143543,
          "axref": "x",
          "ay": -0.03170219335204019,
          "ayref": "y",
          "opacity": 0.6,
          "showarrow": true,
          "x": -0.012597688131869574,
          "xref": "x",
          "y": -0.0043879273056383235,
          "yref": "y"
         },
         {
          "arrowhead": 4,
          "arrowsize": 1,
          "arrowwidth": 1,
          "ax": 0.00997871619898888,
          "axref": "x",
          "ay": 0.0541009884338859,
          "ayref": "y",
          "opacity": 0.6,
          "showarrow": true,
          "x": -0.02517501751309285,
          "xref": "x",
          "y": 0.03851366358732472,
          "yref": "y"
         },
         {
          "arrowhead": 4,
          "arrowsize": 1,
          "arrowwidth": 1,
          "ax": 0.01175562244070271,
          "axref": "x",
          "ay": -0.0026100953563135618,
          "ayref": "y",
          "opacity": 0.6,
          "showarrow": true,
          "x": -0.024286564392235935,
          "xref": "x",
          "y": 0.010158121692224992,
          "yref": "y"
         },
         {
          "arrowhead": 4,
          "arrowsize": 1,
          "arrowwidth": 1,
          "ax": -0.06219269303894005,
          "axref": "x",
          "ay": -0.09225098392002086,
          "ayref": "y",
          "opacity": 0.6,
          "showarrow": true,
          "x": -0.06126072213205731,
          "xref": "x",
          "y": -0.03466232258962866,
          "yref": "y"
         },
         {
          "arrowhead": 4,
          "arrowsize": 1,
          "arrowwidth": 1,
          "ax": -0.09666054863968493,
          "axref": "x",
          "ay": 0.09464833506096339,
          "ayref": "y",
          "opacity": 0.6,
          "showarrow": true,
          "x": -0.07849464993242976,
          "xref": "x",
          "y": 0.05878733690086346,
          "yref": "y"
         },
         {
          "arrowhead": 4,
          "arrowsize": 1,
          "arrowwidth": 1,
          "ax": -0.018700961512079728,
          "axref": "x",
          "ay": -0.0790517454192074,
          "ayref": "y",
          "opacity": 0.6,
          "showarrow": true,
          "x": -0.03951485636862716,
          "xref": "x",
          "y": -0.028062703339221926,
          "yref": "y"
         },
         {
          "arrowhead": 4,
          "arrowsize": 1,
          "arrowwidth": 1,
          "ax": 0.037585466430238794,
          "axref": "x",
          "ay": -0.006646463845059151,
          "ayref": "y",
          "opacity": 0.6,
          "showarrow": true,
          "x": -0.011371642397467893,
          "xref": "x",
          "y": 0.008139937447852198,
          "yref": "y"
         },
         {
          "arrowhead": 4,
          "arrowsize": 1,
          "arrowwidth": 1,
          "ax": 0.000055348639517276144,
          "axref": "x",
          "ay": -0.07063109935508997,
          "ayref": "y",
          "opacity": 0.6,
          "showarrow": true,
          "x": -0.030136701292828652,
          "xref": "x",
          "y": -0.023852380307163214,
          "yref": "y"
         },
         {
          "arrowhead": 4,
          "arrowsize": 1,
          "arrowwidth": 1,
          "ax": -0.012995331071357464,
          "axref": "x",
          "ay": -0.0542439210180486,
          "ayref": "y",
          "opacity": 0.6,
          "showarrow": true,
          "x": 0.014150206928406628,
          "xref": "x",
          "y": -0.023449337096018423,
          "yref": "y"
         },
         {
          "arrowhead": 4,
          "arrowsize": 1,
          "arrowwidth": 1,
          "ax": -0.03452778659921413,
          "axref": "x",
          "ay": -0.025662346302407737,
          "ayref": "y",
          "opacity": 0.6,
          "showarrow": true,
          "x": 0.0033839791644782943,
          "xref": "x",
          "y": -0.009158549738197994,
          "yref": "y"
         },
         {
          "arrowhead": 4,
          "arrowsize": 1,
          "arrowwidth": 1,
          "ax": 0.1683688365960259,
          "axref": "x",
          "ay": -0.07460525927929149,
          "ayref": "y",
          "opacity": 0.6,
          "showarrow": true,
          "x": 0.1048322907620983,
          "xref": "x",
          "y": -0.03363000622663987,
          "yref": "y"
         },
         {
          "arrowhead": 4,
          "arrowsize": 1,
          "arrowwidth": 1,
          "ax": 0.060790964275661524,
          "axref": "x",
          "ay": 0.04631044247651,
          "ayref": "y",
          "opacity": 0.6,
          "showarrow": true,
          "x": 0.05104335460191613,
          "xref": "x",
          "y": 0.026827844651260875,
          "yref": "y"
         },
         {
          "arrowhead": 4,
          "arrowsize": 1,
          "arrowwidth": 1,
          "ax": 0.014340100386673153,
          "axref": "x",
          "ay": 0.010864559874638776,
          "ayref": "y",
          "opacity": 0.6,
          "showarrow": true,
          "x": 0.027817922657421938,
          "xref": "x",
          "y": 0.009104903350325261,
          "yref": "y"
         },
         {
          "arrowhead": 4,
          "arrowsize": 1,
          "arrowwidth": 1,
          "ax": -0.032878707274689195,
          "axref": "x",
          "ay": -0.07354700509032785,
          "ayref": "y",
          "opacity": 0.6,
          "showarrow": true,
          "x": 0.0042085188267407606,
          "xref": "x",
          "y": -0.033100879132158055,
          "yref": "y"
         },
         {
          "arrowhead": 4,
          "arrowsize": 1,
          "arrowwidth": 1,
          "ax": -0.0034107066820335125,
          "axref": "x",
          "ay": -0.07708543228828695,
          "ayref": "y",
          "opacity": 0.6,
          "showarrow": true,
          "x": 0.018942519123068602,
          "xref": "x",
          "y": -0.0348700927311376,
          "yref": "y"
         },
         {
          "arrowhead": 4,
          "arrowsize": 1,
          "arrowwidth": 1,
          "ax": -0.028082849881296553,
          "axref": "x",
          "ay": 0.04358261637967238,
          "ayref": "y",
          "opacity": 0.6,
          "showarrow": true,
          "x": 0.006606447523437083,
          "xref": "x",
          "y": 0.025463931602842063,
          "yref": "y"
         },
         {
          "arrowhead": 4,
          "arrowsize": 1,
          "arrowwidth": 1,
          "ax": -0.06717591222146413,
          "axref": "x",
          "ay": -0.04949544488752123,
          "ayref": "y",
          "opacity": 0.6,
          "showarrow": true,
          "x": -0.012940083646646706,
          "xref": "x",
          "y": -0.02107509903075474,
          "yref": "y"
         },
         {
          "arrowhead": 4,
          "arrowsize": 1,
          "arrowwidth": 1,
          "ax": 0.019497523762305555,
          "axref": "x",
          "ay": -0.00294979755185584,
          "ayref": "y",
          "opacity": 0.6,
          "showarrow": true,
          "x": 0.03039663434523814,
          "xref": "x",
          "y": 0.0021977246370779536,
          "yref": "y"
         },
         {
          "arrowhead": 4,
          "arrowsize": 1,
          "arrowwidth": 1,
          "ax": -0.058815842336357935,
          "axref": "x",
          "ay": 0.004484513422590091,
          "ayref": "y",
          "opacity": 0.6,
          "showarrow": true,
          "x": -0.00876004870409361,
          "xref": "x",
          "y": 0.005914880124300919,
          "yref": "y"
         },
         {
          "arrowhead": 4,
          "arrowsize": 1,
          "arrowwidth": 1,
          "ax": -0.03207928758343216,
          "axref": "x",
          "ay": -0.04558092528846058,
          "ayref": "y",
          "opacity": 0.6,
          "showarrow": true,
          "x": 0.004608228672369277,
          "xref": "x",
          "y": -0.01911783923122442,
          "yref": "y"
         },
         {
          "arrowhead": 4,
          "arrowsize": 1,
          "arrowwidth": 1,
          "ax": -0.0745856384768431,
          "axref": "x",
          "ay": 0.03691506366374413,
          "ayref": "y",
          "opacity": 0.6,
          "showarrow": true,
          "x": -0.016644946774336193,
          "xref": "x",
          "y": 0.022130155244877936,
          "yref": "y"
         },
         {
          "arrowhead": 4,
          "arrowsize": 1,
          "arrowwidth": 1,
          "ax": -0.06502294029125659,
          "axref": "x",
          "ay": -0.013064666050246747,
          "ayref": "y",
          "opacity": 0.6,
          "showarrow": true,
          "x": -0.011863597681542937,
          "xref": "x",
          "y": -0.0028597096121174993,
          "yref": "y"
         },
         {
          "arrowhead": 4,
          "arrowsize": 1,
          "arrowwidth": 1,
          "ax": 0.05812786832398348,
          "axref": "x",
          "ay": -0.03234742343607055,
          "ayref": "y",
          "opacity": 0.6,
          "showarrow": true,
          "x": 0.049711806626077104,
          "xref": "x",
          "y": -0.0125010883050294,
          "yref": "y"
         },
         {
          "arrowhead": 4,
          "arrowsize": 1,
          "arrowwidth": 1,
          "ax": -0.05707146899965636,
          "axref": "x",
          "ay": -0.030011206318916517,
          "ayref": "y",
          "opacity": 0.6,
          "showarrow": true,
          "x": -0.00788786203574282,
          "xref": "x",
          "y": -0.011332979746452384,
          "yref": "y"
         },
         {
          "arrowhead": 4,
          "arrowsize": 1,
          "arrowwidth": 1,
          "ax": 0.08839771450691145,
          "axref": "x",
          "ay": -0.014437009802435053,
          "ayref": "y",
          "opacity": 0.6,
          "showarrow": true,
          "x": 0.06484672971754107,
          "xref": "x",
          "y": -0.0035458814882116524,
          "yref": "y"
         },
         {
          "arrowhead": 4,
          "arrowsize": 1,
          "arrowwidth": 1,
          "ax": 0.05086759671618993,
          "axref": "x",
          "ay": -0.07842164531246587,
          "ayref": "y",
          "opacity": 0.6,
          "showarrow": true,
          "x": 0.04608167082218032,
          "xref": "x",
          "y": -0.03553819924322706,
          "yref": "y"
         },
         {
          "arrowhead": 4,
          "arrowsize": 1,
          "arrowwidth": 1,
          "ax": 0.030724792655966393,
          "axref": "x",
          "ay": 0.027879097003475482,
          "ayref": "y",
          "opacity": 0.6,
          "showarrow": true,
          "x": 0.036010268792068555,
          "xref": "x",
          "y": 0.017612171914743617,
          "yref": "y"
         },
         {
          "arrowhead": 4,
          "arrowsize": 1,
          "arrowwidth": 1,
          "ax": 0.08594562303810808,
          "axref": "x",
          "ay": -0.039492739309416096,
          "ayref": "y",
          "opacity": 0.6,
          "showarrow": true,
          "x": 0.0636206839831394,
          "xref": "x",
          "y": -0.016073746241702172,
          "yref": "y"
         },
         {
          "arrowhead": 4,
          "arrowsize": 1,
          "arrowwidth": 1,
          "ax": -0.011380444962267405,
          "axref": "x",
          "ay": -0.10004152987739676,
          "ayref": "y",
          "opacity": 0.6,
          "showarrow": true,
          "x": 0.014957649982951658,
          "xref": "x",
          "y": -0.046348141525692506,
          "yref": "y"
         },
         {
          "arrowhead": 4,
          "arrowsize": 1,
          "arrowwidth": 1,
          "ax": 0.06256787051737536,
          "axref": "x",
          "ay": -0.010400641313689462,
          "ayref": "y",
          "opacity": 0.6,
          "showarrow": true,
          "x": 0.05193180772277304,
          "xref": "x",
          "y": -0.0015276972438388577,
          "yref": "y"
         },
         {
          "arrowhead": 4,
          "arrowsize": 1,
          "arrowwidth": 1,
          "ax": 0.03211128656459292,
          "axref": "x",
          "ay": -0.0868422913765833,
          "ayref": "y",
          "opacity": 0.6,
          "showarrow": true,
          "x": 0.03670351574638182,
          "xref": "x",
          "y": -0.039748522275285775,
          "yref": "y"
         },
         {
          "arrowhead": 4,
          "arrowsize": 1,
          "arrowwidth": 1,
          "ax": 0.08165790485067483,
          "axref": "x",
          "ay": 0.017306765547544737,
          "ayref": "y",
          "opacity": 0.6,
          "showarrow": true,
          "x": 0.06147682488942277,
          "xref": "x",
          "y": 0.012326006186778243,
          "yref": "y"
         },
         {
          "arrowhead": 4,
          "arrowsize": 1,
          "arrowwidth": 1,
          "ax": -0.11035212120123877,
          "axref": "x",
          "ay": -0.2026061314020955,
          "ayref": "y",
          "opacity": 0.6,
          "showarrow": true,
          "x": -0.14146960265573927,
          "xref": "x",
          "y": -0.22315114140185044,
          "yref": "y"
         },
         {
          "arrowhead": 4,
          "arrowsize": 1,
          "arrowwidth": 1,
          "ax": -0.14146920111841937,
          "axref": "x",
          "ay": -0.1511830454162163,
          "ayref": "y",
          "opacity": 0.6,
          "showarrow": true,
          "x": -0.15702814261432957,
          "xref": "x",
          "y": -0.19743959840891082,
          "yref": "y"
         },
         {
          "arrowhead": 4,
          "arrowsize": 1,
          "arrowwidth": 1,
          "ax": -0.17196435481046185,
          "axref": "x",
          "ay": -0.13858536516405529,
          "ayref": "y",
          "opacity": 0.6,
          "showarrow": true,
          "x": -0.1722757194603508,
          "xref": "x",
          "y": -0.19114075828283034,
          "yref": "y"
         },
         {
          "arrowhead": 4,
          "arrowsize": 1,
          "arrowwidth": 1,
          "ax": -0.17411732674066938,
          "axref": "x",
          "ay": -0.17501614400132978,
          "ayref": "y",
          "opacity": 0.6,
          "showarrow": true,
          "x": -0.1733522054254546,
          "xref": "x",
          "y": -0.20935614770146757,
          "yref": "y"
         },
         {
          "arrowhead": 4,
          "arrowsize": 1,
          "arrowwidth": 1,
          "ax": -0.1657572568555632,
          "axref": "x",
          "ay": -0.12103618569121846,
          "ayref": "y",
          "opacity": 0.6,
          "showarrow": true,
          "x": -0.16917217048290148,
          "xref": "x",
          "y": -0.1823661685464119,
          "yref": "y"
         },
         {
          "arrowhead": 4,
          "arrowsize": 1,
          "arrowwidth": 1,
          "ax": -0.11993674559056272,
          "axref": "x",
          "ay": -0.17976462013185715,
          "ayref": "y",
          "opacity": 0.6,
          "showarrow": true,
          "x": -0.14626191485040124,
          "xref": "x",
          "y": -0.21173038576673125,
          "yref": "y"
         },
         {
          "arrowhead": 4,
          "arrowsize": 1,
          "arrowwidth": 1,
          "ax": 0.19457504371532622,
          "axref": "x",
          "ay": 0.005829600339873647,
          "ayref": "y",
          "opacity": 0.6,
          "showarrow": true,
          "x": 0.13743061366923928,
          "xref": "x",
          "y": 0.04555261923344096,
          "yref": "y"
         },
         {
          "arrowhead": 4,
          "arrowsize": 1,
          "arrowwidth": 1,
          "ax": 0.10544084238559889,
          "axref": "x",
          "ay": -0.0005275436589178423,
          "ayref": "y",
          "opacity": 0.6,
          "showarrow": true,
          "x": 0.09286351300437562,
          "xref": "x",
          "y": 0.04237404723404521,
          "yref": "y"
         },
         {
          "arrowhead": 4,
          "arrowsize": 1,
          "arrowwidth": 1,
          "ax": 0.016084512665457292,
          "axref": "x",
          "ay": -0.0381202366377887,
          "ayref": "y",
          "opacity": 0.6,
          "showarrow": true,
          "x": 0.048185348144304814,
          "xref": "x",
          "y": 0.023577700744609784,
          "yref": "y"
         },
         {
          "arrowhead": 4,
          "arrowsize": 1,
          "arrowwidth": 1,
          "ax": 0.18786405594351668,
          "axref": "x",
          "ay": -0.03564006362879324,
          "ayref": "y",
          "opacity": 0.6,
          "showarrow": true,
          "x": 0.13407511978333453,
          "xref": "x",
          "y": 0.024817787249107513,
          "yref": "y"
         },
         {
          "arrowhead": 4,
          "arrowsize": 1,
          "arrowwidth": 1,
          "ax": 0.006499888276133341,
          "axref": "x",
          "ay": -0.015278725367550344,
          "ayref": "y",
          "opacity": 0.6,
          "showarrow": true,
          "x": 0.04339303594964284,
          "xref": "x",
          "y": 0.03499845637972896,
          "yref": "y"
         },
         {
          "arrowhead": 4,
          "arrowsize": 1,
          "arrowwidth": 1,
          "ax": 0.033835319734163954,
          "axref": "x",
          "ay": 0.04982975552513703,
          "ayref": "y",
          "opacity": 0.6,
          "showarrow": true,
          "x": 0.05706075167865815,
          "xref": "x",
          "y": 0.06755269682607265,
          "yref": "y"
         },
         {
          "arrowhead": 4,
          "arrowsize": 1,
          "arrowwidth": 1,
          "ax": 0.03899274310979636,
          "axref": "x",
          "ay": 0.03601539809864241,
          "ayref": "y",
          "opacity": 0.6,
          "showarrow": true,
          "x": 0.05963946336647435,
          "xref": "x",
          "y": 0.06064551811282534,
          "yref": "y"
         },
         {
          "arrowhead": 4,
          "arrowsize": 1,
          "arrowwidth": 1,
          "ax": -0.039320622988867134,
          "axref": "x",
          "ay": 0.043449709073088344,
          "ayref": "y",
          "opacity": 0.6,
          "showarrow": true,
          "x": 0.020482780317142603,
          "xref": "x",
          "y": 0.0643626736000483,
          "yref": "y"
         },
         {
          "arrowhead": 4,
          "arrowsize": 1,
          "arrowwidth": 1,
          "ax": -0.015032567251723326,
          "axref": "x",
          "ay": 0.013302849348090517,
          "ayref": "y",
          "opacity": 0.6,
          "showarrow": true,
          "x": 0.032626808185714506,
          "xref": "x",
          "y": 0.04928924373754939,
          "yref": "y"
         },
         {
          "arrowhead": 4,
          "arrowsize": 1,
          "arrowwidth": 1,
          "ax": -0.04768069287397333,
          "axref": "x",
          "ay": -0.010530249237022976,
          "ayref": "y",
          "opacity": 0.6,
          "showarrow": true,
          "x": 0.016302745374589506,
          "xref": "x",
          "y": 0.037372694444992645,
          "yref": "y"
         },
         {
          "arrowhead": 4,
          "arrowsize": 1,
          "arrowwidth": 1,
          "ax": 0.0502200120034572,
          "axref": "x",
          "ay": 0.06684429265397374,
          "ayref": "y",
          "opacity": 0.6,
          "showarrow": true,
          "x": 0.06525309781330477,
          "xref": "x",
          "y": 0.07605996539049101,
          "yref": "y"
         },
         {
          "arrowhead": 4,
          "arrowsize": 1,
          "arrowwidth": 1,
          "ax": -0.01258406823594136,
          "axref": "x",
          "ay": -0.0066157296379623295,
          "ayref": "y",
          "opacity": 0.6,
          "showarrow": true,
          "x": 0.03385105769360549,
          "xref": "x",
          "y": 0.03932995424452297,
          "yref": "y"
         },
         {
          "arrowhead": 4,
          "arrowsize": 1,
          "arrowwidth": 1,
          "ax": -0.04552772094376579,
          "axref": "x",
          "ay": 0.025900529600251507,
          "ayref": "y",
          "opacity": 0.6,
          "showarrow": true,
          "x": 0.017379231339693275,
          "xref": "x",
          "y": 0.055588083863629886,
          "yref": "y"
         },
         {
          "arrowhead": 4,
          "arrowsize": 1,
          "arrowwidth": 1,
          "ax": -0.008587630533805748,
          "axref": "x",
          "ay": 0.08254781203017064,
          "ayref": "y",
          "opacity": 0.6,
          "showarrow": true,
          "x": 0.03584927654467329,
          "xref": "x",
          "y": 0.08391172507858945,
          "yref": "y"
         },
         {
          "arrowhead": 4,
          "arrowsize": 1,
          "arrowwidth": 1,
          "ax": -0.026353081215521483,
          "axref": "x",
          "ay": 0.12582298475408574,
          "ayref": "y",
          "opacity": 0.6,
          "showarrow": true,
          "x": 0.026966551203815428,
          "xref": "x",
          "y": 0.105549311440547,
          "yref": "y"
         },
         {
          "arrowhead": 4,
          "arrowsize": 1,
          "arrowwidth": 1,
          "ax": 0.07762308767147429,
          "axref": "x",
          "ay": 0.006617772214427706,
          "ayref": "y",
          "opacity": 0.6,
          "showarrow": true,
          "x": 0.07895463564731331,
          "xref": "x",
          "y": 0.045946705170717986,
          "yref": "y"
         },
         {
          "arrowhead": 4,
          "arrowsize": 1,
          "arrowwidth": 1,
          "ax": 0.2947453080278627,
          "axref": "x",
          "ay": 0.36721941627522653,
          "ayref": "y",
          "opacity": 0.6,
          "showarrow": true,
          "x": 0.1875157458255075,
          "xref": "x",
          "y": 0.2262475272011174,
          "yref": "y"
         },
         {
          "arrowhead": 4,
          "arrowsize": 1,
          "arrowwidth": 1,
          "ax": 0.07036281606368072,
          "axref": "x",
          "ay": -0.039456449661967624,
          "ayref": "y",
          "opacity": 0.6,
          "showarrow": true,
          "x": 0.07532449984341653,
          "xref": "x",
          "y": 0.02290959423252032,
          "yref": "y"
         },
         {
          "arrowhead": 4,
          "arrowsize": 1,
          "arrowwidth": 1,
          "ax": -0.03757624965216556,
          "axref": "x",
          "ay": 0.008953989331581737,
          "ayref": "y",
          "opacity": 0.6,
          "showarrow": true,
          "x": 0.02135496698549339,
          "xref": "x",
          "y": 0.047114813729295005,
          "yref": "y"
         },
         {
          "arrowhead": 4,
          "arrowsize": 1,
          "arrowwidth": 1,
          "ax": 0.10789293385440224,
          "axref": "x",
          "ay": 0.0245281858480632,
          "ayref": "y",
          "opacity": 0.6,
          "showarrow": true,
          "x": 0.09408955873877729,
          "xref": "x",
          "y": 0.05490191198753573,
          "yref": "y"
         },
         {
          "arrowhead": 4,
          "arrowsize": 1,
          "arrowwidth": 1,
          "ax": 0.10115312419816563,
          "axref": "x",
          "ay": 0.05627196119804299,
          "ayref": "y",
          "opacity": 0.6,
          "showarrow": true,
          "x": 0.09071965391065898,
          "xref": "x",
          "y": 0.07077379966252563,
          "yref": "y"
         },
         {
          "arrowhead": 4,
          "arrowsize": 1,
          "arrowwidth": 1,
          "ax": -0.11188236383166837,
          "axref": "x",
          "ay": -0.1339261240018199,
          "ayref": "y",
          "opacity": 0.6,
          "showarrow": true,
          "x": -0.14376496660138366,
          "xref": "x",
          "y": -0.12013113030143706,
          "yref": "y"
         },
         {
          "arrowhead": 4,
          "arrowsize": 1,
          "arrowwidth": 1,
          "ax": -0.142999443748849,
          "axref": "x",
          "ay": -0.08250303801594071,
          "ayref": "y",
          "opacity": 0.6,
          "showarrow": true,
          "x": -0.15932350655997396,
          "xref": "x",
          "y": -0.09441958730849745,
          "yref": "y"
         },
         {
          "arrowhead": 4,
          "arrowsize": 1,
          "arrowwidth": 1,
          "ax": -0.12146698822099232,
          "axref": "x",
          "ay": -0.11108461273158157,
          "ayref": "y",
          "opacity": 0.6,
          "showarrow": true,
          "x": -0.14855727879604563,
          "xref": "x",
          "y": -0.10871037466631789,
          "yref": "y"
         },
         {
          "arrowhead": 4,
          "arrowsize": 1,
          "arrowwidth": 1,
          "ax": -0.0941315567629617,
          "axref": "x",
          "ay": -0.0459761318388942,
          "ayref": "y",
          "opacity": 0.6,
          "showarrow": true,
          "x": -0.13488956306703034,
          "xref": "x",
          "y": -0.07615613421997419,
          "yref": "y"
         },
         {
          "arrowhead": 4,
          "arrowsize": 1,
          "arrowwidth": 1,
          "ax": -0.14135036442432405,
          "axref": "x",
          "ay": -0.13038769680386084,
          "ayref": "y",
          "opacity": 0.6,
          "showarrow": true,
          "x": -0.1584989668977115,
          "xref": "x",
          "y": -0.11836191670245752,
          "yref": "y"
         },
         {
          "arrowhead": 4,
          "arrowsize": 1,
          "arrowwidth": 1,
          "ax": -0.16554312614929123,
          "axref": "x",
          "ay": -0.0868518980324495,
          "ayref": "y",
          "opacity": 0.6,
          "showarrow": true,
          "x": -0.17059534776019508,
          "xref": "x",
          "y": -0.09659401731675184,
          "yref": "y"
         },
         {
          "arrowhead": 4,
          "arrowsize": 1,
          "arrowwidth": 1,
          "ax": -0.1672874994859928,
          "axref": "x",
          "ay": -0.052356178290942884,
          "ayref": "y",
          "opacity": 0.6,
          "showarrow": true,
          "x": -0.17146753442854587,
          "xref": "x",
          "y": -0.07934615744599854,
          "yref": "y"
         },
         {
          "arrowhead": 4,
          "arrowsize": 1,
          "arrowwidth": 1,
          "ax": -0.23520728234937716,
          "axref": "x",
          "ay": -0.11863219383313185,
          "ayref": "y",
          "opacity": 0.6,
          "showarrow": true,
          "x": -0.20542742586023804,
          "xref": "x",
          "y": -0.11248416521709302,
          "yref": "y"
         },
         {
          "arrowhead": 4,
          "arrowsize": 1,
          "arrowwidth": 1,
          "ax": -0.17349459744089146,
          "axref": "x",
          "ay": -0.06990535776377972,
          "ayref": "y",
          "opacity": 0.6,
          "showarrow": true,
          "x": -0.1745710834059952,
          "xref": "x",
          "y": -0.08812074718241696,
          "yref": "y"
         },
         {
          "arrowhead": 4,
          "arrowsize": 1,
          "arrowwidth": 1,
          "ax": -0.140550944733067,
          "axref": "x",
          "ay": -0.10242161700199356,
          "ayref": "y",
          "opacity": 0.6,
          "showarrow": true,
          "x": -0.158099257052083,
          "xref": "x",
          "y": -0.10437887680152387,
          "yref": "y"
         },
         {
          "arrowhead": 4,
          "arrowsize": 1,
          "arrowwidth": 1,
          "ax": -0.0459037866322595,
          "axref": "x",
          "ay": -0.06724133302722243,
          "ayref": "y",
          "opacity": 0.6,
          "showarrow": true,
          "x": -0.11077567800167923,
          "xref": "x",
          "y": -0.08678873481413832,
          "yref": "y"
         },
         {
          "arrowhead": 4,
          "arrowsize": 1,
          "arrowwidth": 1,
          "ax": -0.021475372490786362,
          "axref": "x",
          "ay": -0.1599452753894759,
          "ayref": "y",
          "opacity": 0.6,
          "showarrow": true,
          "x": -0.09856147093094267,
          "xref": "x",
          "y": -0.13314070599526506,
          "yref": "y"
         },
         {
          "arrowhead": 4,
          "arrowsize": 1,
          "arrowwidth": 1,
          "ax": -0.15431995771264714,
          "axref": "x",
          "ay": 0.03001709739005451,
          "ayref": "y",
          "opacity": 0.6,
          "showarrow": true,
          "x": -0.16498376354187305,
          "xref": "x",
          "y": -0.03815951960549984,
          "yref": "y"
         },
         {
          "arrowhead": 4,
          "arrowsize": 1,
          "arrowwidth": 1,
          "ax": -0.13655450703093142,
          "axref": "x",
          "ay": -0.013258075333860593,
          "ayref": "y",
          "opacity": 0.6,
          "showarrow": true,
          "x": -0.15610103820101517,
          "xref": "x",
          "y": -0.059797105967457395,
          "yref": "y"
         },
         {
          "arrowhead": 4,
          "arrowsize": 1,
          "arrowwidth": 1,
          "ax": -0.022526034111526774,
          "axref": "x",
          "ay": -0.09633343102294907,
          "ayref": "y",
          "opacity": 0.6,
          "showarrow": true,
          "x": -0.09908680174131287,
          "xref": "x",
          "y": -0.10133478381200163,
          "yref": "y"
         },
         {
          "arrowhead": 4,
          "arrowsize": 1,
          "arrowwidth": 1,
          "ax": -0.14084647181864146,
          "axref": "x",
          "ay": -0.046072259178666225,
          "ayref": "y",
          "opacity": 0.6,
          "showarrow": true,
          "x": -0.12559889497262022,
          "xref": "x",
          "y": -0.052371099304746725,
          "yref": "y"
         },
         {
          "arrowhead": 4,
          "arrowsize": 1,
          "arrowwidth": 1,
          "ax": -0.0614834311407117,
          "axref": "x",
          "ay": -0.022143033253780708,
          "ayref": "y",
          "opacity": 0.6,
          "showarrow": true,
          "x": -0.08591737463365534,
          "xref": "x",
          "y": -0.04040648634230396,
          "yref": "y"
         },
         {
          "arrowhead": 4,
          "arrowsize": 1,
          "arrowwidth": 1,
          "ax": -0.07923423820941837,
          "axref": "x",
          "ay": -0.11009302541670643,
          "ayref": "y",
          "opacity": 0.6,
          "showarrow": true,
          "x": -0.09479277816800867,
          "xref": "x",
          "y": -0.08438148242376683,
          "yref": "y"
         },
         {
          "arrowhead": 4,
          "arrowsize": 1,
          "arrowwidth": 1,
          "ax": -0.10390638140868141,
          "axref": "x",
          "ay": 0.0105750232512529,
          "ayref": "y",
          "opacity": 0.6,
          "showarrow": true,
          "x": -0.1071288497676402,
          "xref": "x",
          "y": -0.02404745808978716,
          "yref": "y"
         },
         {
          "arrowhead": 4,
          "arrowsize": 1,
          "arrowwidth": 1,
          "ax": -0.08881886259874232,
          "axref": "x",
          "ay": -0.08725151414646808,
          "ayref": "y",
          "opacity": 0.6,
          "showarrow": true,
          "x": -0.09958509036267066,
          "xref": "x",
          "y": -0.07296072678864765,
          "yref": "y"
         },
         {
          "arrowhead": 4,
          "arrowsize": 1,
          "arrowwidth": 1,
          "ax": -0.13289500052704123,
          "axref": "x",
          "ay": -0.063018799447336,
          "ayref": "y",
          "opacity": 0.6,
          "showarrow": true,
          "x": -0.12162315932682011,
          "xref": "x",
          "y": -0.060844369439081614,
          "yref": "y"
         },
         {
          "arrowhead": 4,
          "arrowsize": 1,
          "arrowwidth": 1,
          "ax": -0.1346393738637428,
          "axref": "x",
          "ay": -0.02852307970582939,
          "ayref": "y",
          "opacity": 0.6,
          "showarrow": true,
          "x": -0.1224953459951709,
          "xref": "x",
          "y": -0.04359650956832831,
          "yref": "y"
         },
         {
          "arrowhead": 4,
          "arrowsize": 1,
          "arrowwidth": 1,
          "ax": -0.10790281911081702,
          "axref": "x",
          "ay": -0.07858851841688007,
          "ayref": "y",
          "opacity": 0.6,
          "showarrow": true,
          "x": -0.109127068618708,
          "xref": "x",
          "y": -0.06862922892385365,
          "yref": "y"
         },
         {
          "arrowhead": 4,
          "arrowsize": 1,
          "arrowwidth": 1,
          "ax": -0.04509873887141846,
          "axref": "x",
          "ay": -0.005128496124943999,
          "ayref": "y",
          "opacity": 0.6,
          "showarrow": true,
          "x": -0.07772502849900872,
          "xref": "x",
          "y": -0.03189921777788561,
          "yref": "y"
         },
         {
          "arrowhead": 4,
          "arrowsize": 1,
          "arrowwidth": 1,
          "ax": -0.02495593481119493,
          "axref": "x",
          "ay": -0.11142923844088536,
          "ayref": "y",
          "opacity": 0.6,
          "showarrow": true,
          "x": -0.06765362646889696,
          "xref": "x",
          "y": -0.08504958893585629,
          "yref": "y"
         },
         {
          "arrowhead": 4,
          "arrowsize": 1,
          "arrowwidth": 1,
          "ax": -0.05089005747940263,
          "axref": "x",
          "ay": -0.1422714694292175,
          "ayref": "y",
          "opacity": 0.6,
          "showarrow": true,
          "x": -0.08062068780300082,
          "xref": "x",
          "y": -0.10047070443002237,
          "yref": "y"
         },
         {
          "arrowhead": 4,
          "arrowsize": 1,
          "arrowwidth": 1,
          "ax": 0.012574182979526588,
          "axref": "x",
          "ay": -0.047444602930854535,
          "ayref": "y",
          "opacity": 0.6,
          "showarrow": true,
          "x": -0.0488885675735362,
          "xref": "x",
          "y": -0.05305727118084088,
          "yref": "y"
         },
         {
          "arrowhead": 4,
          "arrowsize": 1,
          "arrowwidth": 1,
          "ax": -0.2600257247580384,
          "axref": "x",
          "ay": -0.054618346028227266,
          "ayref": "y",
          "opacity": 0.6,
          "showarrow": true,
          "x": -0.18518852144231873,
          "xref": "x",
          "y": -0.05664414272952724,
          "yref": "y"
         },
         {
          "arrowhead": 4,
          "arrowsize": 1,
          "arrowwidth": 1,
          "ax": -0.013255661010009495,
          "axref": "x",
          "ay": -0.043408234442108944,
          "ayref": "y",
          "opacity": 0.6,
          "showarrow": true,
          "x": -0.06180348956830424,
          "xref": "x",
          "y": -0.05103908693646808,
          "yref": "y"
         },
         {
          "arrowhead": 4,
          "arrowsize": 1,
          "arrowwidth": 1,
          "ax": -0.20255915672712715,
          "axref": "x",
          "ay": -0.09479909524801836,
          "ayref": "y",
          "opacity": 0.6,
          "showarrow": true,
          "x": -0.15645523742686307,
          "xref": "x",
          "y": -0.0767345173394228,
          "yref": "y"
         },
         {
          "arrowhead": 4,
          "arrowsize": 1,
          "arrowwidth": 1,
          "ax": -0.043712244962791934,
          "axref": "x",
          "ay": -0.11984988450500278,
          "ayref": "y",
          "opacity": 0.6,
          "showarrow": true,
          "x": -0.07703178154469546,
          "xref": "x",
          "y": -0.089259911967915,
          "yref": "y"
         },
         {
          "arrowhead": 4,
          "arrowsize": 1,
          "arrowwidth": 1,
          "ax": -0.10870223880207405,
          "axref": "x",
          "ay": -0.10655459821874734,
          "ayref": "y",
          "opacity": 0.6,
          "showarrow": true,
          "x": -0.10952677846433652,
          "xref": "x",
          "y": -0.08261226882478728,
          "yref": "y"
         },
         {
          "arrowhead": 4,
          "arrowsize": 1,
          "arrowwidth": 1,
          "ax": -0.15040917000422796,
          "axref": "x",
          "ay": 0.003907470535324645,
          "ayref": "y",
          "opacity": 0.6,
          "showarrow": true,
          "x": -0.1303802440654135,
          "xref": "x",
          "y": -0.027381234447751288,
          "yref": "y"
         },
         {
          "arrowhead": 4,
          "arrowsize": 1,
          "arrowwidth": 1,
          "ax": -0.056326007765079296,
          "axref": "x",
          "ay": -0.03595739068027532,
          "ayref": "y",
          "opacity": 0.6,
          "showarrow": true,
          "x": -0.08333866294583914,
          "xref": "x",
          "y": -0.04731366505555127,
          "yref": "y"
         },
         {
          "arrowhead": 4,
          "arrowsize": 1,
          "arrowwidth": 1,
          "ax": -0.017695663203401372,
          "axref": "x",
          "ay": -0.06535501656449003,
          "ayref": "y",
          "opacity": 0.6,
          "showarrow": true,
          "x": -0.06402349066500018,
          "xref": "x",
          "y": -0.062012477997658626,
          "yref": "y"
         },
         {
          "arrowhead": 4,
          "arrowsize": 1,
          "arrowwidth": 1,
          "ax": -0.12167183209039714,
          "axref": "x",
          "ay": 0.053850195975168005,
          "ayref": "y",
          "opacity": 0.6,
          "showarrow": true,
          "x": -0.11601157510849806,
          "xref": "x",
          "y": -0.00240987172782961,
          "yref": "y"
         },
         {
          "arrowhead": 4,
          "arrowsize": 1,
          "arrowwidth": 1,
          "ax": 0.21301871470596323,
          "axref": "x",
          "ay": -0.12144324541471933,
          "ayref": "y",
          "opacity": 0.6,
          "showarrow": true,
          "x": 0.25423032148492214,
          "xref": "x",
          "y": -0.13899950539965705,
          "yref": "y"
         },
         {
          "arrowhead": 4,
          "arrowsize": 1,
          "arrowwidth": 1,
          "ax": 0.3021529160356906,
          "axref": "x",
          "ay": -0.11508610141592784,
          "ayref": "y",
          "opacity": 0.6,
          "showarrow": true,
          "x": 0.29879742214978583,
          "xref": "x",
          "y": -0.1358209334002613,
          "yref": "y"
         },
         {
          "arrowhead": 4,
          "arrowsize": 1,
          "arrowwidth": 1,
          "ax": 0.21406937632670364,
          "axref": "x",
          "ay": -0.18505508978124618,
          "ayref": "y",
          "opacity": 0.6,
          "showarrow": true,
          "x": 0.25475565229529235,
          "xref": "x",
          "y": -0.17080542758292044,
          "yref": "y"
         },
         {
          "arrowhead": 4,
          "arrowsize": 1,
          "arrowwidth": 1,
          "ax": 0.2197297024777728,
          "axref": "x",
          "ay": -0.07997358144605245,
          "ayref": "y",
          "opacity": 0.6,
          "showarrow": true,
          "x": 0.1751626018129091,
          "xref": "x",
          "y": -0.08315215344544818,
          "yref": "y"
         },
         {
          "arrowhead": 4,
          "arrowsize": 1,
          "arrowwidth": 1,
          "ax": 0.07676116467453029,
          "axref": "x",
          "ay": -0.13368027751201114,
          "ayref": "y",
          "opacity": 0.6,
          "showarrow": true,
          "x": 0.10367833291128786,
          "xref": "x",
          "y": -0.11000550147842754,
          "yref": "y"
         },
         {
          "arrowhead": 4,
          "arrowsize": 1,
          "arrowwidth": 1,
          "ax": 0.10721774862731272,
          "axref": "x",
          "ay": -0.057238627449117306,
          "ayref": "y",
          "opacity": 0.6,
          "showarrow": true,
          "x": 0.11890662488767909,
          "xref": "x",
          "y": -0.07178467644698062,
          "yref": "y"
         },
         {
          "arrowhead": 4,
          "arrowsize": 1,
          "arrowwidth": 1,
          "ax": 0.13164616276878585,
          "axref": "x",
          "ay": -0.14994256981137077,
          "ayref": "y",
          "opacity": 0.6,
          "showarrow": true,
          "x": 0.13112083195841565,
          "xref": "x",
          "y": -0.11813664762810736,
          "yref": "y"
         },
         {
          "arrowhead": 4,
          "arrowsize": 1,
          "arrowwidth": 1,
          "ax": -0.020373062181319235,
          "axref": "x",
          "ay": -0.05990265218567459,
          "ayref": "y",
          "opacity": 0.6,
          "showarrow": true,
          "x": 0.05511121948336311,
          "xref": "x",
          "y": -0.07311668881525926,
          "yref": "y"
         },
         {
          "arrowhead": 4,
          "arrowsize": 1,
          "arrowwidth": 1,
          "ax": 0.12630778296061218,
          "axref": "x",
          "ay": -0.029531220587883107,
          "ayref": "y",
          "opacity": 0.6,
          "showarrow": true,
          "x": 0.12845164205432882,
          "xref": "x",
          "y": -0.05793097301636352,
          "yref": "y"
         },
         {
          "arrowhead": 4,
          "arrowsize": 1,
          "arrowwidth": 1,
          "ax": 0.058989978496610515,
          "axref": "x",
          "ay": -0.03597342626078907,
          "ayref": "y",
          "opacity": 0.6,
          "showarrow": true,
          "x": 0.09479273982232798,
          "xref": "x",
          "y": -0.0611520758528165,
          "yref": "y"
         },
         {
          "arrowhead": 4,
          "arrowsize": 1,
          "arrowwidth": 1,
          "ax": 0.04123917142790384,
          "axref": "x",
          "ay": -0.12392341842371479,
          "ayref": "y",
          "opacity": 0.6,
          "showarrow": true,
          "x": 0.08591733628797465,
          "xref": "x",
          "y": -0.10512707193427936,
          "yref": "y"
         },
         {
          "arrowhead": 4,
          "arrowsize": 1,
          "arrowwidth": 1,
          "ax": 0.033269433147669954,
          "axref": "x",
          "ay": -0.14687951601282462,
          "ayref": "y",
          "opacity": 0.6,
          "showarrow": true,
          "x": 0.08193246714785771,
          "xref": "x",
          "y": -0.11660512072883428,
          "yref": "y"
         },
         {
          "arrowhead": 4,
          "arrowsize": 1,
          "arrowwidth": 1,
          "ax": 0.06414740187224291,
          "axref": "x",
          "ay": -0.049787783687283683,
          "ayref": "y",
          "opacity": 0.6,
          "showarrow": true,
          "x": 0.09737145151014419,
          "xref": "x",
          "y": -0.0680592545660638,
          "yref": "y"
         },
         {
          "arrowhead": 4,
          "arrowsize": 1,
          "arrowwidth": 1,
          "ax": 0.07537467076590375,
          "axref": "x",
          "ay": -0.01895888913195236,
          "ayref": "y",
          "opacity": 0.6,
          "showarrow": true,
          "x": 0.1029850859569746,
          "xref": "x",
          "y": -0.05264480728839815,
          "yref": "y"
         },
         {
          "arrowhead": 4,
          "arrowsize": 1,
          "arrowwidth": 1,
          "ax": 0.2207803640985132,
          "axref": "x",
          "ay": -0.14358542581257927,
          "ayref": "y",
          "opacity": 0.6,
          "showarrow": true,
          "x": 0.2648221339530067,
          "xref": "x",
          "y": -0.10860093162992013,
          "yref": "y"
         },
         {
          "arrowhead": 4,
          "arrowsize": 1,
          "arrowwidth": 1,
          "ax": 0.053383412153797556,
          "axref": "x",
          "ay": -0.1045881795162845,
          "ayref": "y",
          "opacity": 0.6,
          "showarrow": true,
          "x": 0.06861170413018877,
          "xref": "x",
          "y": -0.06636735448483759,
          "yref": "y"
         },
         {
          "arrowhead": 4,
          "arrowsize": 1,
          "arrowwidth": 1,
          "ax": 0.10826841024805313,
          "axref": "x",
          "ay": -0.12085047181564414,
          "ayref": "y",
          "opacity": 0.6,
          "showarrow": true,
          "x": 0.09605420317731655,
          "xref": "x",
          "y": -0.0744985006345174,
          "yref": "y"
         },
         {
          "arrowhead": 4,
          "arrowsize": 1,
          "arrowwidth": 1,
          "ax": 0.07213972230539456,
          "axref": "x",
          "ay": -0.09616753345216708,
          "ayref": "y",
          "opacity": 0.6,
          "showarrow": true,
          "x": 0.07798985920598728,
          "xref": "x",
          "y": -0.06215703145277888,
          "yref": "y"
         },
         {
          "arrowhead": 4,
          "arrowsize": 1,
          "arrowwidth": 1,
          "ax": 0.040769649351510194,
          "axref": "x",
          "ay": -0.02069568569155705,
          "ayref": "y",
          "opacity": 0.6,
          "showarrow": true,
          "x": 0.06230482272904509,
          "xref": "x",
          "y": -0.02442110757247386,
          "yref": "y"
         },
         {
          "arrowhead": 4,
          "arrowsize": 1,
          "arrowwidth": 1,
          "ax": 0.10293003043987946,
          "axref": "x",
          "ay": -0.0004391225921564733,
          "ayref": "y",
          "opacity": 0.6,
          "showarrow": true,
          "x": 0.09338501327322973,
          "xref": "x",
          "y": -0.014292826022773573,
          "yref": "y"
         },
         {
          "arrowhead": 4,
          "arrowsize": 1,
          "arrowwidth": 1,
          "ax": 0.017861418907171123,
          "axref": "x",
          "ay": -0.09483132042798816,
          "ayref": "y",
          "opacity": 0.6,
          "showarrow": true,
          "x": 0.05085070750687556,
          "xref": "x",
          "y": -0.061488924940689416,
          "yref": "y"
         },
         {
          "arrowhead": 4,
          "arrowsize": 1,
          "arrowwidth": 1,
          "ax": 0.07939999391318811,
          "axref": "x",
          "ay": -0.05009331157577176,
          "ayref": "y",
          "opacity": 0.6,
          "showarrow": true,
          "x": 0.08161999500988405,
          "xref": "x",
          "y": -0.03911992051458121,
          "yref": "y"
         },
         {
          "arrowhead": 4,
          "arrowsize": 1,
          "arrowwidth": 1,
          "ax": 0.10966984009611608,
          "axref": "x",
          "ay": -0.03218289794213626,
          "ayref": "y",
          "opacity": 0.6,
          "showarrow": true,
          "x": 0.09675491810134804,
          "xref": "x",
          "y": -0.030164713697763468,
          "yref": "y"
         },
         {
          "arrowhead": 4,
          "arrowsize": 1,
          "arrowwidth": 1,
          "ax": 0.03561222597587779,
          "axref": "x",
          "ay": -0.006881328265062434,
          "ayref": "y",
          "opacity": 0.6,
          "showarrow": true,
          "x": 0.059726111041228894,
          "xref": "x",
          "y": -0.017513928859226553,
          "yref": "y"
         },
         {
          "arrowhead": 4,
          "arrowsize": 1,
          "arrowwidth": 1,
          "ax": 0.008276794517847172,
          "axref": "x",
          "ay": -0.0719898091577498,
          "ayref": "y",
          "opacity": 0.6,
          "showarrow": true,
          "x": 0.04605839531221358,
          "xref": "x",
          "y": -0.05006816930557024,
          "yref": "y"
         },
         {
          "arrowhead": 4,
          "arrowsize": 1,
          "arrowwidth": 1,
          "ax": -0.035799343410451726,
          "axref": "x",
          "ay": -0.04775709445861773,
          "ayref": "y",
          "opacity": 0.6,
          "showarrow": true,
          "x": 0.024020326348064135,
          "xref": "x",
          "y": -0.037951811956004194,
          "yref": "y"
         },
         {
          "arrowhead": 4,
          "arrowsize": 1,
          "arrowwidth": 1,
          "ax": -0.01080716199422753,
          "axref": "x",
          "ay": -0.0633268134281618,
          "ayref": "y",
          "opacity": 0.6,
          "showarrow": true,
          "x": 0.03651641705617623,
          "xref": "x",
          "y": -0.04573667144077623,
          "yref": "y"
         },
         {
          "arrowhead": 4,
          "arrowsize": 1,
          "arrowwidth": 1,
          "ax": 0.05199691824517103,
          "axref": "x",
          "ay": 0.010133208863774274,
          "ayref": "y",
          "opacity": 0.6,
          "showarrow": true,
          "x": 0.06791845717587551,
          "xref": "x",
          "y": -0.009006660294808198,
          "yref": "y"
         },
         {
          "arrowhead": 4,
          "arrowsize": 1,
          "arrowwidth": 1,
          "ax": -0.04375081470205196,
          "axref": "x",
          "ay": -0.030810554189947957,
          "ayref": "y",
          "opacity": 0.6,
          "showarrow": true,
          "x": 0.02004459070226402,
          "xref": "x",
          "y": -0.029478541821669313,
          "yref": "y"
         },
         {
          "arrowhead": 4,
          "arrowsize": 1,
          "arrowwidth": 1,
          "ax": 0.04620559963718686,
          "axref": "x",
          "ay": -0.12700976444049925,
          "ayref": "y",
          "opacity": 0.6,
          "showarrow": true,
          "x": 0.06502279787188342,
          "xref": "x",
          "y": -0.07757814694694495,
          "yref": "y"
         },
         {
          "arrowhead": 4,
          "arrowsize": 1,
          "arrowwidth": 1,
          "ax": -0.011606581685484563,
          "axref": "x",
          "ay": -0.09129289323002907,
          "ayref": "y",
          "opacity": 0.6,
          "showarrow": true,
          "x": 0.036116707210547716,
          "xref": "x",
          "y": -0.05971971134170987,
          "yref": "y"
         },
         {
          "arrowhead": 4,
          "arrowsize": 1,
          "arrowwidth": 1,
          "ax": 0.07247344648709703,
          "axref": "x",
          "ay": -0.0768807726550503,
          "ayref": "y",
          "opacity": 0.6,
          "showarrow": true,
          "x": 0.047700137344056065,
          "xref": "x",
          "y": -0.12895530111711434,
          "yref": "y"
         },
         {
          "arrowhead": 4,
          "arrowsize": 1,
          "arrowwidth": 1,
          "ax": 0.0051556420230953505,
          "axref": "x",
          "ay": -0.08332297832795627,
          "ayref": "y",
          "opacity": 0.6,
          "showarrow": true,
          "x": 0.014041235112055234,
          "xref": "x",
          "y": -0.1321764039535673,
          "yref": "y"
         },
         {
          "arrowhead": 4,
          "arrowsize": 1,
          "arrowwidth": 1,
          "ax": 0.015749015684404417,
          "axref": "x",
          "ay": -0.20345141450339307,
          "ayref": "y",
          "opacity": 0.6,
          "showarrow": true,
          "x": 0.019337921942709765,
          "xref": "x",
          "y": -0.19224062204128572,
          "yref": "y"
         },
         {
          "arrowhead": 4,
          "arrowsize": 1,
          "arrowwidth": 1,
          "ax": 0.021540334292388594,
          "axref": "x",
          "ay": -0.06630844119911956,
          "ayref": "y",
          "opacity": 0.6,
          "showarrow": true,
          "x": 0.022233581246701856,
          "xref": "x",
          "y": -0.12366913538914895,
          "yref": "y"
         },
         {
          "arrowhead": 4,
          "arrowsize": 1,
          "arrowwidth": 1,
          "ax": 0.0778118262952707,
          "axref": "x",
          "ay": -0.19729212187853798,
          "ayref": "y",
          "opacity": 0.6,
          "showarrow": true,
          "x": 0.0503693272481429,
          "xref": "x",
          "y": -0.18916097572885815,
          "yref": "y"
         },
         {
          "arrowhead": 4,
          "arrowsize": 1,
          "arrowwidth": 1,
          "ax": 0.04894340996040568,
          "axref": "x",
          "ay": -0.1265349616386656,
          "ayref": "y",
          "opacity": 0.6,
          "showarrow": true,
          "x": 0.0359351190807104,
          "xref": "x",
          "y": -0.15378239560892198,
          "yref": "y"
         },
         {
          "arrowhead": 4,
          "arrowsize": 1,
          "arrowwidth": 1,
          "ax": -0.012595165045611315,
          "axref": "x",
          "ay": -0.171272970490882,
          "ayref": "y",
          "opacity": 0.6,
          "showarrow": true,
          "x": 0.005165831577701901,
          "xref": "x",
          "y": -0.17615140003503016,
          "yref": "y"
         },
         {
          "arrowhead": 4,
          "arrowsize": 1,
          "arrowwidth": 1,
          "ax": 0.04168313835261212,
          "axref": "x",
          "ay": -0.17260918351506094,
          "ayref": "y",
          "opacity": 0.6,
          "showarrow": true,
          "x": 0.03230498327681362,
          "xref": "x",
          "y": -0.17681950654711964,
          "yref": "y"
         },
         {
          "arrowhead": 4,
          "arrowsize": 1,
          "arrowwidth": 1,
          "ax": 0.010313065398727754,
          "axref": "x",
          "ay": -0.09713733575445088,
          "ayref": "y",
          "opacity": 0.6,
          "showarrow": true,
          "x": 0.016619946799871436,
          "xref": "x",
          "y": -0.13908358266681461,
          "yref": "y"
         },
         {
          "arrowhead": 4,
          "arrowsize": 1,
          "arrowwidth": 1,
          "ax": 0.07921325614333363,
          "axref": "x",
          "ay": -0.1086245480050301,
          "ayref": "y",
          "opacity": 0.6,
          "showarrow": true,
          "x": 0.05107004217217438,
          "xref": "x",
          "y": -0.1448271887921042,
          "yref": "y"
         },
         {
          "arrowhead": 4,
          "arrowsize": 1,
          "arrowwidth": 1,
          "ax": -0.06625592736323416,
          "axref": "x",
          "ay": -0.12419874452151156,
          "ayref": "y",
          "opacity": 0.6,
          "showarrow": true,
          "x": -0.021664549581109523,
          "xref": "x",
          "y": -0.15261428705034497,
          "yref": "y"
         },
         {
          "arrowhead": 4,
          "arrowsize": 1,
          "arrowwidth": 1,
          "ax": -0.022179789434935267,
          "axref": "x",
          "ay": -0.14843145922064366,
          "ayref": "y",
          "opacity": 0.6,
          "showarrow": true,
          "x": 0.0003735193830399254,
          "xref": "x",
          "y": -0.164730644399911,
          "yref": "y"
         },
         {
          "arrowhead": 4,
          "arrowsize": 1,
          "arrowwidth": 1,
          "ax": -0.04126374594700997,
          "axref": "x",
          "ay": -0.13976846349105562,
          "ayref": "y",
          "opacity": 0.6,
          "showarrow": true,
          "x": -0.009168458872997425,
          "xref": "x",
          "y": -0.160399146535117,
          "yref": "y"
         },
         {
          "arrowhead": 4,
          "arrowsize": 1,
          "arrowwidth": 1,
          "ax": -0.042063165638267,
          "axref": "x",
          "ay": -0.16773454329292292,
          "ayref": "y",
          "opacity": 0.6,
          "showarrow": true,
          "x": -0.009568168718625942,
          "xref": "x",
          "y": -0.17438218643605063,
          "yref": "y"
         },
         {
          "arrowhead": 4,
          "arrowsize": 1,
          "arrowwidth": 1,
          "ax": -0.11310691833588613,
          "axref": "x",
          "ay": -0.05710465442147025,
          "ayref": "y",
          "opacity": 0.6,
          "showarrow": true,
          "x": -0.13601717396838636,
          "xref": "x",
          "y": -0.027740437201150908,
          "yref": "y"
         },
         {
          "arrowhead": 4,
          "arrowsize": 1,
          "arrowwidth": 1,
          "ax": -0.0857714868778555,
          "axref": "x",
          "ay": 0.00800382647121712,
          "ayref": "y",
          "opacity": 0.6,
          "showarrow": true,
          "x": -0.12234945823937106,
          "xref": "x",
          "y": 0.004813803245192778,
          "yref": "y"
         },
         {
          "arrowhead": 4,
          "arrowsize": 1,
          "arrowwidth": 1,
          "ax": -0.15718305626418502,
          "axref": "x",
          "ay": -0.03287193972233817,
          "ayref": "y",
          "opacity": 0.6,
          "showarrow": true,
          "x": -0.1580552429325358,
          "xref": "x",
          "y": -0.015624079851584868,
          "yref": "y"
         },
         {
          "arrowhead": 4,
          "arrowsize": 1,
          "arrowwidth": 1,
          "ax": -0.16513452755578525,
          "axref": "x",
          "ay": -0.0159253994536684,
          "ayref": "y",
          "opacity": 0.6,
          "showarrow": true,
          "x": -0.16203097857833593,
          "xref": "x",
          "y": -0.007150809717249983,
          "yref": "y"
         },
         {
          "arrowhead": 4,
          "arrowsize": 1,
          "arrowwidth": 1,
          "ax": -0.08061406350222311,
          "axref": "x",
          "ay": -0.0058105309552774955,
          "ayref": "y",
          "opacity": 0.6,
          "showarrow": true,
          "x": -0.11977074655155485,
          "xref": "x",
          "y": -0.0020933754680545298,
          "yref": "y"
         },
         {
          "arrowhead": 4,
          "arrowsize": 1,
          "arrowwidth": 1,
          "ax": -0.17469722574137175,
          "axref": "x",
          "ay": 0.03405433026032247,
          "ayref": "y",
          "opacity": 0.6,
          "showarrow": true,
          "x": -0.1668123276711292,
          "xref": "x",
          "y": 0.017839055139745454,
          "yref": "y"
         },
         {
          "arrowhead": 4,
          "arrowsize": 1,
          "arrowwidth": 1,
          "ax": -0.06938679460856227,
          "axref": "x",
          "ay": 0.025018363600053828,
          "ayref": "y",
          "opacity": 0.6,
          "showarrow": true,
          "x": -0.11415711210472444,
          "xref": "x",
          "y": 0.013321071809611132,
          "yref": "y"
         },
         {
          "arrowhead": 4,
          "arrowsize": 1,
          "arrowwidth": 1,
          "ax": -0.04198371894054518,
          "axref": "x",
          "ay": -0.0352081568394922,
          "ayref": "y",
          "opacity": 0.6,
          "showarrow": true,
          "x": -0.1004555742707159,
          "xref": "x",
          "y": -0.016792188410161883,
          "yref": "y"
         },
         {
          "arrowhead": 4,
          "arrowsize": 1,
          "arrowwidth": 1,
          "ax": -0.22684721246427098,
          "axref": "x",
          "ay": -0.06465223552302053,
          "ayref": "y",
          "opacity": 0.6,
          "showarrow": true,
          "x": -0.19288732103257877,
          "xref": "x",
          "y": -0.03151422775192605,
          "yref": "y"
         },
         {
          "arrowhead": 4,
          "arrowsize": 1,
          "arrowwidth": 1,
          "ax": -0.01845368241385384,
          "axref": "x",
          "ay": 0.01444603214412308,
          "ayref": "y",
          "opacity": 0.6,
          "showarrow": true,
          "x": -0.08869055600737022,
          "xref": "x",
          "y": 0.008034906081645758,
          "yref": "y"
         },
         {
          "arrowhead": 4,
          "arrowsize": 1,
          "arrowwidth": 1,
          "ax": -0.13219087484796083,
          "axref": "x",
          "ay": -0.04844165869188224,
          "ayref": "y",
          "opacity": 0.6,
          "showarrow": true,
          "x": -0.14555915222442373,
          "xref": "x",
          "y": -0.0234089393363569,
          "yref": "y"
         },
         {
          "arrowhead": 4,
          "arrowsize": 1,
          "arrowwidth": 1,
          "ax": -0.1281944371458252,
          "axref": "x",
          "ay": 0.04072188297625073,
          "ayref": "y",
          "opacity": 0.6,
          "showarrow": true,
          "x": -0.1435609333733559,
          "xref": "x",
          "y": 0.02117283149770958,
          "yref": "y"
         },
         {
          "arrowhead": 4,
          "arrowsize": 1,
          "arrowwidth": 1,
          "ax": -0.13299029453921785,
          "axref": "x",
          "ay": -0.07640773849374952,
          "ayref": "y",
          "opacity": 0.6,
          "showarrow": true,
          "x": -0.14595886207005224,
          "xref": "x",
          "y": -0.03739197923729054,
          "yref": "y"
         },
         {
          "arrowhead": 4,
          "arrowsize": 1,
          "arrowwidth": 1,
          "ax": -0.28431378049518224,
          "axref": "x",
          "ay": -0.024471486303229435,
          "ayref": "y",
          "opacity": 0.6,
          "showarrow": true,
          "x": -0.22162060504803444,
          "xref": "x",
          "y": -0.0114238531420305,
          "yref": "y"
         },
         {
          "arrowhead": 4,
          "arrowsize": 1,
          "arrowwidth": 1,
          "ax": -0.10352229394656218,
          "axref": "x",
          "ay": -0.0799461656917086,
          "ayref": "y",
          "opacity": 0.6,
          "showarrow": true,
          "x": -0.1312248617737244,
          "xref": "x",
          "y": -0.039161192836270085,
          "yref": "y"
         },
         {
          "arrowhead": 4,
          "arrowsize": 1,
          "arrowwidth": 1,
          "ax": -0.11149203222679607,
          "axref": "x",
          "ay": -0.10290226328081842,
          "ayref": "y",
          "opacity": 0.6,
          "showarrow": true,
          "x": -0.13520973091384134,
          "xref": "x",
          "y": -0.05063924163082499,
          "yref": "y"
         },
         {
          "arrowhead": 4,
          "arrowsize": 1,
          "arrowwidth": 1,
          "ax": -0.04924399054833874,
          "axref": "x",
          "ay": -0.08128237871588753,
          "ayref": "y",
          "opacity": 0.6,
          "showarrow": true,
          "x": -0.10408571007461268,
          "xref": "x",
          "y": -0.03982929934835955,
          "yref": "y"
         },
         {
          "arrowhead": 4,
          "arrowsize": 1,
          "arrowwidth": 1,
          "ax": -0.14595988782754094,
          "axref": "x",
          "ay": 0.08399705570016583,
          "ayref": "y",
          "opacity": 0.6,
          "showarrow": true,
          "x": -0.15244365871421378,
          "xref": "x",
          "y": 0.04281041785966713,
          "yref": "y"
         },
         {
          "arrowhead": 4,
          "arrowsize": 1,
          "arrowwidth": 1,
          "ax": -0.0656715209617956,
          "axref": "x",
          "ay": -0.1616306977214571,
          "ayref": "y",
          "opacity": 0.6,
          "showarrow": true,
          "x": -0.06647896401634062,
          "xref": "x",
          "y": -0.138731893291783,
          "yref": "y"
         },
         {
          "arrowhead": 4,
          "arrowsize": 1,
          "arrowwidth": 1,
          "ax": -0.0577017826815617,
          "axref": "x",
          "ay": -0.13867460013234728,
          "ayref": "y",
          "opacity": 0.6,
          "showarrow": true,
          "x": -0.06249409487622368,
          "xref": "x",
          "y": -0.1272538444972281,
          "yref": "y"
         },
         {
          "arrowhead": 4,
          "arrowsize": 1,
          "arrowwidth": 1,
          "ax": -0.03995097561285503,
          "axref": "x",
          "ay": -0.05072460796942157,
          "ayref": "y",
          "opacity": 0.6,
          "showarrow": true,
          "x": -0.05361869134187034,
          "xref": "x",
          "y": -0.08327884841576524,
          "yref": "y"
         },
         {
          "arrowhead": 4,
          "arrowsize": 1,
          "arrowwidth": 1,
          "ax": -0.11931401629078478,
          "axref": "x",
          "ay": -0.07465383389430709,
          "ayref": "y",
          "opacity": 0.6,
          "showarrow": true,
          "x": -0.09330021168083522,
          "xref": "x",
          "y": -0.09524346137820801,
          "yref": "y"
         },
         {
          "arrowhead": 4,
          "arrowsize": 1,
          "arrowwidth": 1,
          "ax": -0.08716978327421739,
          "axref": "x",
          "ay": -0.1351361729343882,
          "ayref": "y",
          "opacity": 0.6,
          "showarrow": true,
          "x": -0.07722809517255153,
          "xref": "x",
          "y": -0.12548463089824857,
          "yref": "y"
         },
         {
          "arrowhead": 4,
          "arrowsize": 1,
          "arrowwidth": 1,
          "ax": -0.1810267011992705,
          "axref": "x",
          "ay": -0.12338066996365922,
          "ayref": "y",
          "opacity": 0.6,
          "showarrow": true,
          "x": -0.12415655413507806,
          "xref": "x",
          "y": -0.11960687941288407,
          "yref": "y"
         },
         {
          "arrowhead": 4,
          "arrowsize": 1,
          "arrowwidth": 1,
          "ax": -0.11136254499918455,
          "axref": "x",
          "ay": -0.09160037416297687,
          "ayref": "y",
          "opacity": 0.6,
          "showarrow": true,
          "x": -0.0893244760350351,
          "xref": "x",
          "y": -0.10371673151254289,
          "yref": "y"
         },
         {
          "arrowhead": 4,
          "arrowsize": 1,
          "arrowwidth": 1,
          "ax": -0.08237392588082473,
          "axref": "x",
          "ay": -0.01800655146438796,
          "ayref": "y",
          "opacity": 0.6,
          "showarrow": true,
          "x": -0.07483016647585519,
          "xref": "x",
          "y": -0.06691982016324845,
          "yref": "y"
         },
         {
          "arrowhead": 4,
          "arrowsize": 1,
          "arrowwidth": 1,
          "ax": -0.12887671447637128,
          "axref": "x",
          "ay": -0.024674104180316216,
          "ayref": "y",
          "opacity": 0.6,
          "showarrow": true,
          "x": -0.09808156077362848,
          "xref": "x",
          "y": -0.07025359652121257,
          "yref": "y"
         },
         {
          "arrowhead": 4,
          "arrowsize": 1,
          "arrowwidth": 1,
          "ax": -0.08637036358296035,
          "axref": "x",
          "ay": -0.10717009313252093,
          "ayref": "y",
          "opacity": 0.6,
          "showarrow": true,
          "x": -0.076828385326923,
          "xref": "x",
          "y": -0.11150159099731492,
          "yref": "y"
         },
         {
          "arrowhead": 4,
          "arrowsize": 1,
          "arrowwidth": 1,
          "ax": -0.03479355223722263,
          "axref": "x",
          "ay": -0.06453896539591618,
          "ayref": "y",
          "opacity": 0.6,
          "showarrow": true,
          "x": -0.05103997965405414,
          "xref": "x",
          "y": -0.09018602712901255,
          "yref": "y"
         },
         {
          "arrowhead": 4,
          "arrowsize": 1,
          "arrowwidth": 1,
          "ax": 0.0038367923244552946,
          "axref": "x",
          "ay": -0.09393659128013089,
          "ayref": "y",
          "opacity": 0.6,
          "showarrow": true,
          "x": -0.031724807373215175,
          "xref": "x",
          "y": -0.10488484007111991,
          "yref": "y"
         },
         {
          "arrowhead": 4,
          "arrowsize": 1,
          "arrowwidth": 1,
          "ax": -0.02356628334356179,
          "axref": "x",
          "ay": -0.03371007084058486,
          "ayref": "y",
          "opacity": 0.6,
          "showarrow": true,
          "x": -0.045426345207223724,
          "xref": "x",
          "y": -0.07477157985134689,
          "yref": "y"
         },
         {
          "arrowhead": 4,
          "arrowsize": 1,
          "arrowwidth": 1,
          "ax": -0.0034234792833382627,
          "axref": "x",
          "ay": -0.14001081315652622,
          "ayref": "y",
          "opacity": 0.6,
          "showarrow": true,
          "x": -0.03535494317711196,
          "xref": "x",
          "y": -0.12792195100931758,
          "yref": "y"
         },
         {
          "arrowhead": 4,
          "arrowsize": 1,
          "arrowwidth": 1,
          "ax": 0.032705208659320306,
          "axref": "x",
          "ay": -0.16469375152000326,
          "ayref": "y",
          "opacity": 0.6,
          "showarrow": true,
          "x": -0.017290599205782672,
          "xref": "x",
          "y": -0.1402634201910561,
          "yref": "y"
         },
         {
          "arrowhead": 4,
          "arrowsize": 1,
          "arrowwidth": 1,
          "ax": 0.034106638507383255,
          "axref": "x",
          "ay": -0.0760261776464954,
          "ayref": "y",
          "opacity": 0.6,
          "showarrow": true,
          "x": -0.016589884281751198,
          "xref": "x",
          "y": -0.09592963325430216,
          "yref": "y"
         },
         {
          "arrowhead": 4,
          "arrowsize": 1,
          "arrowwidth": 1,
          "ax": 0.027366828851146635,
          "axref": "x",
          "ay": -0.04428240229651561,
          "ayref": "y",
          "opacity": 0.6,
          "showarrow": true,
          "x": -0.019959789109869508,
          "xref": "x",
          "y": -0.08005774557931226,
          "yref": "y"
         },
         {
          "arrowhead": 4,
          "arrowsize": 1,
          "arrowwidth": 1,
          "ax": 0.042289833048644254,
          "axref": "x",
          "ay": -0.18753526279024163,
          "ayref": "y",
          "opacity": 0.6,
          "showarrow": true,
          "x": 0.08749332871908527,
          "xref": "x",
          "y": -0.20054483848406962,
          "yref": "y"
         },
         {
          "arrowhead": 4,
          "arrowsize": 1,
          "arrowwidth": 1,
          "ax": 0.06004064011735093,
          "axref": "x",
          "ay": -0.0995852706273159,
          "ayref": "y",
          "opacity": 0.6,
          "showarrow": true,
          "x": 0.0963687322534386,
          "xref": "x",
          "y": -0.15656984240260677,
          "yref": "y"
         },
         {
          "arrowhead": 4,
          "arrowsize": 1,
          "arrowwidth": 1,
          "ax": -0.007458120779192013,
          "axref": "x",
          "ay": 0.0005695154967711889,
          "ayref": "y",
          "opacity": 0.6,
          "showarrow": true,
          "x": -0.010036832467008216,
          "xref": "x",
          "y": 0.007476694210018497,
          "yref": "y"
         },
         {
          "arrowhead": 4,
          "arrowsize": 1,
          "arrowwidth": 1,
          "ax": 0.054702260309177256,
          "axref": "x",
          "ay": 0.020826078596171766,
          "ayref": "y",
          "opacity": 0.6,
          "showarrow": true,
          "x": 0.021043358077176416,
          "xref": "x",
          "y": 0.017604975759718786,
          "yref": "y"
         },
         {
          "arrowhead": 4,
          "arrowsize": 1,
          "arrowwidth": 1,
          "ax": -0.030366351223531082,
          "axref": "x",
          "ay": -0.07356611923965992,
          "ayref": "y",
          "opacity": 0.6,
          "showarrow": true,
          "x": -0.02149094768917775,
          "xref": "x",
          "y": -0.029591123158197057,
          "yref": "y"
         },
         {
          "arrowhead": 4,
          "arrowsize": 1,
          "arrowwidth": 1,
          "ax": 0.003769148114468825,
          "axref": "x",
          "ay": 0.03139841005210251,
          "ayref": "y",
          "opacity": 0.6,
          "showarrow": true,
          "x": -0.004423198020177796,
          "xref": "x",
          "y": 0.02289114148768416,
          "yref": "y"
         },
         {
          "arrowhead": 4,
          "arrowsize": 1,
          "arrowwidth": 1,
          "ax": -0.03833608950376498,
          "axref": "x",
          "ay": -0.09652221682876973,
          "ayref": "y",
          "opacity": 0.6,
          "showarrow": true,
          "x": -0.025475816829294694,
          "xref": "x",
          "y": -0.04106917195275196,
          "yref": "y"
         },
         {
          "arrowhead": 4,
          "arrowsize": 1,
          "arrowwidth": 1,
          "ax": 0.031172223782485912,
          "axref": "x",
          "ay": -0.02882811038744352,
          "ayref": "y",
          "opacity": 0.6,
          "showarrow": true,
          "x": 0.009278339813830748,
          "xref": "x",
          "y": -0.007222118732088856,
          "yref": "y"
         },
         {
          "arrowhead": 4,
          "arrowsize": 1,
          "arrowwidth": 1,
          "ax": -0.05903493212492973,
          "axref": "x",
          "ay": -0.042061612239833554,
          "ayref": "y",
          "opacity": 0.6,
          "showarrow": true,
          "x": -0.03582523813987708,
          "xref": "x",
          "y": -0.013838869658283874,
          "yref": "y"
         },
         {
          "arrowhead": 4,
          "arrowsize": 1,
          "arrowwidth": 1,
          "ax": -0.08402711354115393,
          "axref": "x",
          "ay": -0.026491893270289488,
          "ayref": "y",
          "opacity": 0.6,
          "showarrow": true,
          "x": -0.048321328847989176,
          "xref": "x",
          "y": -0.006054010173511841,
          "yref": "y"
         },
         {
          "arrowhead": 4,
          "arrowsize": 1,
          "arrowwidth": 1,
          "ax": -0.055038494422794126,
          "axref": "x",
          "ay": 0.04710192942829941,
          "ayref": "y",
          "opacity": 0.6,
          "showarrow": true,
          "x": -0.03382701928880927,
          "xref": "x",
          "y": 0.030742901175782607,
          "yref": "y"
         },
         {
          "arrowhead": 4,
          "arrowsize": 1,
          "arrowwidth": 1,
          "ax": -0.0020221704935153503,
          "axref": "x",
          "ay": -0.10574456325217099,
          "ayref": "y",
          "opacity": 0.6,
          "showarrow": true,
          "x": -0.0073188573241698834,
          "xref": "x",
          "y": -0.045680345164452595,
          "yref": "y"
         },
         {
          "arrowhead": 4,
          "arrowsize": 1,
          "arrowwidth": 1,
          "ax": -0.059834351816186765,
          "axref": "x",
          "ay": -0.07002769204170083,
          "ayref": "y",
          "opacity": 0.6,
          "showarrow": true,
          "x": -0.036224947985505594,
          "xref": "x",
          "y": -0.02782190955921751,
          "yref": "y"
         },
         {
          "arrowhead": 4,
          "arrowsize": 1,
          "arrowwidth": 1,
          "ax": -0.09197858483275416,
          "axref": "x",
          "ay": -0.009545353001619718,
          "ayref": "y",
          "opacity": 0.6,
          "showarrow": true,
          "x": -0.05229706449378929,
          "xref": "x",
          "y": 0.0024192599608230444,
          "yref": "y"
         },
         {
          "arrowhead": 4,
          "arrowsize": 1,
          "arrowwidth": 1,
          "ax": 0.061442069965413876,
          "axref": "x",
          "ay": -0.010917696753808024,
          "ayref": "y",
          "opacity": 0.6,
          "showarrow": true,
          "x": 0.024413262905294726,
          "xref": "x",
          "y": 0.0017330880847288913,
          "yref": "y"
         },
         {
          "arrowhead": 4,
          "arrowsize": 1,
          "arrowwidth": 1,
          "ax": -0.10154128301834067,
          "axref": "x",
          "ay": 0.040434376712371156,
          "ayref": "y",
          "opacity": 0.6,
          "showarrow": true,
          "x": -0.05707841358658255,
          "xref": "x",
          "y": 0.02740912481781848,
          "yref": "y"
         },
         {
          "arrowhead": 4,
          "arrowsize": 1,
          "arrowwidth": 1,
          "ax": 0.023911952174692355,
          "axref": "x",
          "ay": -0.07490233226383884,
          "ayref": "y",
          "opacity": 0.6,
          "showarrow": true,
          "x": 0.005648204009933969,
          "xref": "x",
          "y": -0.03025922967028652,
          "yref": "y"
         },
         {
          "arrowhead": 4,
          "arrowsize": 1,
          "arrowwidth": 1,
          "ax": -0.07280394510450985,
          "axref": "x",
          "ay": 0.09037710215221452,
          "ayref": "y",
          "opacity": 0.6,
          "showarrow": true,
          "x": -0.04270974462966714,
          "xref": "x",
          "y": 0.05238048753774016,
          "yref": "y"
         },
         {
          "arrowhead": 4,
          "arrowsize": 1,
          "arrowwidth": 1,
          "ax": 0.05985968368480966,
          "axref": "x",
          "ay": 0.007011721169677149,
          "ayref": "y",
          "opacity": 0.6,
          "showarrow": true,
          "x": 0.028779493140625022,
          "xref": "x",
          "y": -0.003116560380023138,
          "yref": "y"
         },
         {
          "arrowhead": 4,
          "arrowsize": 1,
          "arrowwidth": 1,
          "ax": 0.008926571490101228,
          "axref": "x",
          "ay": 0.017584052625607895,
          "ayref": "y",
          "opacity": 0.6,
          "showarrow": true,
          "x": 0.003312937043270809,
          "xref": "x",
          "y": 0.0021696053479422356,
          "yref": "y"
         },
         {
          "arrowhead": 4,
          "arrowsize": 1,
          "arrowwidth": 1,
          "ax": 0.03632964715811832,
          "axref": "x",
          "ay": -0.042642467813938136,
          "ayref": "y",
          "opacity": 0.6,
          "showarrow": true,
          "x": 0.01701447487727935,
          "xref": "x",
          "y": -0.02794365487183078,
          "yref": "y"
         },
         {
          "arrowhead": 4,
          "arrowsize": 1,
          "arrowwidth": 1,
          "ax": -0.02520892784789868,
          "axref": "x",
          "ay": -0.08738047666615453,
          "ayref": "y",
          "opacity": 0.6,
          "showarrow": true,
          "x": -0.013754812625729144,
          "xref": "x",
          "y": -0.05031265929793898,
          "yref": "y"
         },
         {
          "arrowhead": 4,
          "arrowsize": 1,
          "arrowwidth": 1,
          "ax": 0.003135252882117053,
          "axref": "x",
          "ay": -0.11955892067866561,
          "ayref": "y",
          "opacity": 0.6,
          "showarrow": true,
          "x": 0.0004172777392787213,
          "xref": "x",
          "y": -0.06640188130419453,
          "yref": "y"
         },
         {
          "arrowhead": 4,
          "arrowsize": 1,
          "arrowwidth": 1,
          "ax": 0.06659949334104627,
          "axref": "x",
          "ay": -0.024732054180302637,
          "ayref": "y",
          "opacity": 0.6,
          "showarrow": true,
          "x": 0.03214939796874333,
          "xref": "x",
          "y": -0.018988448055013034,
          "yref": "y"
         },
         {
          "arrowhead": 4,
          "arrowsize": 1,
          "arrowwidth": 1,
          "ax": -0.08682116145712176,
          "axref": "x",
          "ay": -0.023359710428114334,
          "ayref": "y",
          "opacity": 0.6,
          "showarrow": true,
          "x": -0.044560929430340686,
          "xref": "x",
          "y": -0.01830227617891888,
          "yref": "y"
         },
         {
          "arrowhead": 4,
          "arrowsize": 1,
          "arrowwidth": 1,
          "ax": -0.04988107104716172,
          "axref": "x",
          "ay": 0.033287572001804794,
          "ayref": "y",
          "opacity": 0.6,
          "showarrow": true,
          "x": -0.026090884225360666,
          "xref": "x",
          "y": 0.010021365036040685,
          "yref": "y"
         },
         {
          "arrowhead": 4,
          "arrowsize": 1,
          "arrowwidth": 1,
          "ax": -0.07886969016552153,
          "axref": "x",
          "ay": -0.040306250696784104,
          "ayref": "y",
          "opacity": 0.6,
          "showarrow": true,
          "x": -0.04058519378454057,
          "xref": "x",
          "y": -0.026775546313253764,
          "yref": "y"
         },
         {
          "arrowhead": 4,
          "arrowsize": 1,
          "arrowwidth": 1,
          "ax": -0.05467692844055436,
          "axref": "x",
          "ay": -0.08384204946819544,
          "ayref": "y",
          "opacity": 0.6,
          "showarrow": true,
          "x": -0.02848881292205699,
          "xref": "x",
          "y": -0.048543445698959437,
          "yref": "y"
         },
         {
          "arrowhead": 4,
          "arrowsize": 1,
          "arrowwidth": 1,
          "ax": -0.06764652172887746,
          "axref": "x",
          "ay": 0.0765627447257199,
          "ayref": "y",
          "opacity": 0.6,
          "showarrow": true,
          "x": -0.03497360956621853,
          "xref": "x",
          "y": 0.031658951397998236,
          "yref": "y"
         },
         {
          "arrowhead": 4,
          "arrowsize": 1,
          "arrowwidth": 1,
          "ax": -0.03317866612813257,
          "axref": "x",
          "ay": -0.11033657425526434,
          "ayref": "y",
          "opacity": 0.6,
          "showarrow": true,
          "x": -0.01773968176584609,
          "xref": "x",
          "y": -0.06179070809249389,
          "yref": "y"
         },
         {
          "arrowhead": 4,
          "arrowsize": 1,
          "arrowwidth": 1,
          "ax": -0.05387750874929733,
          "axref": "x",
          "ay": -0.05587596966632817,
          "ayref": "y",
          "opacity": 0.6,
          "showarrow": true,
          "x": -0.028089103076428472,
          "xref": "x",
          "y": -0.0345604057980258,
          "yref": "y"
         },
         {
          "arrowhead": 4,
          "arrowsize": 1,
          "arrowwidth": 1,
          "ax": -0.09638385964270828,
          "axref": "x",
          "ay": 0.02662001928587654,
          "ayref": "y",
          "opacity": 0.6,
          "showarrow": true,
          "x": -0.04934227852313394,
          "xref": "x",
          "y": 0.006687588678076558,
          "yref": "y"
         },
         {
          "arrowhead": 4,
          "arrowsize": 1,
          "arrowwidth": 1,
          "ax": 0.02906937555032476,
          "axref": "x",
          "ay": -0.08871668969033346,
          "ayref": "y",
          "opacity": 0.6,
          "showarrow": true,
          "x": 0.013384339073382573,
          "xref": "x",
          "y": -0.050980765810028444,
          "yref": "y"
         },
         {
          "arrowhead": 4,
          "arrowsize": 1,
          "arrowwidth": 1,
          "ax": 0.03695145324047058,
          "axref": "x",
          "ay": -0.06712391356675396,
          "ayref": "y",
          "opacity": 0.6,
          "showarrow": true,
          "x": 0.07948575900682475,
          "xref": "x",
          "y": -0.019927814648838117,
          "yref": "y"
         },
         {
          "arrowhead": 4,
          "arrowsize": 1,
          "arrowwidth": 1,
          "ax": 0.07108695257847049,
          "axref": "x",
          "ay": 0.03784061572500847,
          "ayref": "y",
          "opacity": 0.6,
          "showarrow": true,
          "x": 0.0965535086758247,
          "xref": "x",
          "y": 0.0325544499970431,
          "yref": "y"
         },
         {
          "arrowhead": 4,
          "arrowsize": 1,
          "arrowwidth": 1,
          "ax": 0.09849002824648759,
          "axref": "x",
          "ay": -0.02238590471453756,
          "ayref": "y",
          "opacity": 0.6,
          "showarrow": true,
          "x": 0.11025504650983324,
          "xref": "x",
          "y": 0.002441189777270085,
          "yref": "y"
         },
         {
          "arrowhead": 4,
          "arrowsize": 1,
          "arrowwidth": 1,
          "ax": 0.06529563397048632,
          "axref": "x",
          "ay": -0.09930235757926503,
          "ayref": "y",
          "opacity": 0.6,
          "showarrow": true,
          "x": 0.09365784937183261,
          "xref": "x",
          "y": -0.036017036655093655,
          "yref": "y"
         },
         {
          "arrowhead": 4,
          "arrowsize": 1,
          "arrowwidth": 1,
          "ax": 0.12875987442941556,
          "axref": "x",
          "ay": -0.004475491080902063,
          "ayref": "y",
          "opacity": 0.6,
          "showarrow": true,
          "x": 0.12538996960129722,
          "xref": "x",
          "y": 0.011396396594087832,
          "yref": "y"
         },
         {
          "arrowhead": 4,
          "arrowsize": 1,
          "arrowwidth": 1,
          "ax": -0.05608689657247164,
          "axref": "x",
          "ay": -0.18447220899169547,
          "ayref": "y",
          "opacity": 0.6,
          "showarrow": true,
          "x": -0.06007176571258859,
          "xref": "x",
          "y": -0.19595025778625036,
          "yref": "y"
         },
         {
          "arrowhead": 4,
          "arrowsize": 1,
          "arrowwidth": 1,
          "ax": 0.005451678433545354,
          "axref": "x",
          "ay": -0.13973420013947907,
          "ayref": "y",
          "opacity": 0.6,
          "showarrow": true,
          "x": -0.029302478209580093,
          "xref": "x",
          "y": -0.17358125336014218,
          "yref": "y"
         },
         {
          "arrowhead": 4,
          "arrowsize": 1,
          "arrowwidth": 1,
          "ax": -0.0847554774738703,
          "axref": "x",
          "ay": -0.1529677019918691,
          "ayref": "y",
          "opacity": 0.6,
          "showarrow": true,
          "x": -0.07440605616328791,
          "xref": "x",
          "y": -0.1801980042863372,
          "yref": "y"
         },
         {
          "arrowhead": 4,
          "arrowsize": 1,
          "arrowwidth": 1,
          "ax": -0.08555489716512732,
          "axref": "x",
          "ay": -0.18093378179373637,
          "ayref": "y",
          "opacity": 0.6,
          "showarrow": true,
          "x": -0.07480576600891643,
          "xref": "x",
          "y": -0.19418104418727083,
          "yref": "y"
         },
         {
          "arrowhead": 4,
          "arrowsize": 1,
          "arrowwidth": 1,
          "ax": -0.0018085931742482034,
          "axref": "x",
          "ay": -0.18580842201587439,
          "ayref": "y",
          "opacity": 0.6,
          "showarrow": true,
          "x": -0.03293261401347687,
          "xref": "x",
          "y": -0.19661836429833984,
          "yref": "y"
         },
         {
          "arrowhead": 4,
          "arrowsize": 1,
          "arrowwidth": 1,
          "ax": -0.10972939190146083,
          "axref": "x",
          "ay": -0.09749534516454544,
          "ayref": "y",
          "opacity": 0.6,
          "showarrow": true,
          "x": -0.0789232750968493,
          "xref": "x",
          "y": -0.12950572828356555,
          "yref": "y"
         },
         {
          "arrowhead": 4,
          "arrowsize": 1,
          "arrowwidth": 1,
          "ax": -0.01398165895423784,
          "axref": "x",
          "ay": -0.056551582110823215,
          "ayref": "y",
          "opacity": 0.6,
          "showarrow": true,
          "x": -0.031049408623237792,
          "xref": "x",
          "y": -0.10903384675670444,
          "yref": "y"
         },
         {
          "arrowhead": 4,
          "arrowsize": 1,
          "arrowwidth": 1,
          "ax": 0.013421416713779246,
          "axref": "x",
          "ay": -0.11677810255036924,
          "ayref": "y",
          "opacity": 0.6,
          "showarrow": true,
          "x": -0.01734787078922925,
          "xref": "x",
          "y": -0.13914710697647745,
          "yref": "y"
         },
         {
          "arrowhead": 4,
          "arrowsize": 1,
          "arrowwidth": 1,
          "ax": -0.1017779206098606,
          "axref": "x",
          "ay": -0.1144418854332152,
          "ayref": "y",
          "opacity": 0.6,
          "showarrow": true,
          "x": -0.07494753945104918,
          "xref": "x",
          "y": -0.13797899841790043,
          "yref": "y"
         },
         {
          "arrowhead": 4,
          "arrowsize": 1,
          "arrowwidth": 1,
          "ax": -0.0767857391936364,
          "axref": "x",
          "ay": -0.13001160440275927,
          "ayref": "y",
          "opacity": 0.6,
          "showarrow": true,
          "x": -0.06245144874293707,
          "xref": "x",
          "y": -0.14576385790267246,
          "yref": "y"
         },
         {
          "arrowhead": 4,
          "arrowsize": 1,
          "arrowwidth": 1,
          "ax": -0.17144207680994653,
          "axref": "x",
          "ay": -0.14622218123389757,
          "ayref": "y",
          "opacity": 0.6,
          "showarrow": true,
          "x": -0.10977961755109214,
          "xref": "x",
          "y": -0.1538691463182416,
          "yref": "y"
         },
         {
          "arrowhead": 4,
          "arrowsize": 1,
          "arrowwidth": 1,
          "ax": -0.019772977562222016,
          "axref": "x",
          "ay": -0.19369455541509673,
          "ayref": "y",
          "opacity": 0.6,
          "showarrow": true,
          "x": -0.03394506792722988,
          "xref": "x",
          "y": -0.1776053334088412,
          "yref": "y"
         },
         {
          "arrowhead": 4,
          "arrowsize": 1,
          "arrowwidth": 1,
          "ax": -0.07758515888489344,
          "axref": "x",
          "ay": -0.15797768420462655,
          "ayref": "y",
          "opacity": 0.6,
          "showarrow": true,
          "x": -0.06285115858856559,
          "xref": "x",
          "y": -0.1597468978036061,
          "yref": "y"
         },
         {
          "arrowhead": 4,
          "arrowsize": 1,
          "arrowwidth": 1,
          "ax": -0.07278930149150079,
          "axref": "x",
          "ay": -0.040848062734626316,
          "ayref": "y",
          "opacity": 0.6,
          "showarrow": true,
          "x": -0.06045322989186927,
          "xref": "x",
          "y": -0.10118208706860599,
          "yref": "y"
         },
         {
          "arrowhead": 4,
          "arrowsize": 1,
          "arrowwidth": 1,
          "ax": -0.16339015421908368,
          "axref": "x",
          "ay": -0.05042111919517501,
          "ayref": "y",
          "opacity": 0.6,
          "showarrow": true,
          "x": -0.1673658898648838,
          "xref": "x",
          "y": -0.04194784906084012,
          "yref": "y"
         },
         {
          "arrowhead": 4,
          "arrowsize": 1,
          "arrowwidth": 1,
          "ax": -0.07559389256346093,
          "axref": "x",
          "ay": 0.007469184127216991,
          "ayref": "y",
          "opacity": 0.6,
          "showarrow": true,
          "x": -0.12346775903707242,
          "xref": "x",
          "y": -0.013002697399644124,
          "yref": "y"
         },
         {
          "arrowhead": 4,
          "arrowsize": 1,
          "arrowwidth": 1,
          "ax": -0.23305431041916963,
          "axref": "x",
          "ay": -0.08220141499585737,
          "ayref": "y",
          "opacity": 0.6,
          "showarrow": true,
          "x": -0.20219796796492678,
          "xref": "x",
          "y": -0.057837996961181304,
          "yref": "y"
         },
         {
          "arrowhead": 4,
          "arrowsize": 1,
          "arrowwidth": 1,
          "ax": -0.2905208784500809,
          "axref": "x",
          "ay": -0.04202066577606627,
          "ayref": "y",
          "opacity": 0.6,
          "showarrow": true,
          "x": -0.23093125198038242,
          "xref": "x",
          "y": -0.03774762235128576,
          "yref": "y"
         },
         {
          "arrowhead": 4,
          "arrowsize": 1,
          "arrowwidth": 1,
          "ax": -0.13839797280285948,
          "axref": "x",
          "ay": -0.06599083816471907,
          "ayref": "y",
          "opacity": 0.6,
          "showarrow": true,
          "x": -0.1548697991567717,
          "xref": "x",
          "y": -0.04973270854561215,
          "yref": "y"
         },
         {
          "arrowhead": 4,
          "arrowsize": 1,
          "arrowwidth": 1,
          "ax": -0.0813852111714451,
          "axref": "x",
          "ay": -0.12967378917705652,
          "ayref": "y",
          "opacity": 0.6,
          "showarrow": true,
          "x": -0.12636341834106452,
          "xref": "x",
          "y": -0.08157418405178088,
          "yref": "y"
         },
         {
          "arrowhead": 4,
          "arrowsize": 1,
          "arrowwidth": 1,
          "ax": -0.048190816895443835,
          "axref": "x",
          "ay": -0.05275733631232904,
          "ayref": "y",
          "opacity": 0.6,
          "showarrow": true,
          "x": -0.10976622120306388,
          "xref": "x",
          "y": -0.04311595761941714,
          "yref": "y"
         },
         {
          "arrowhead": 4,
          "arrowsize": 1,
          "arrowwidth": 1,
          "ax": -0.1391973924941165,
          "axref": "x",
          "ay": -0.09395691796658635,
          "ayref": "y",
          "opacity": 0.6,
          "showarrow": true,
          "x": -0.15526950900240022,
          "xref": "x",
          "y": -0.06371574844654579,
          "yref": "y"
         },
         {
          "arrowhead": 4,
          "arrowsize": 1,
          "arrowwidth": 1,
          "ax": -0.1521669857824396,
          "axref": "x",
          "ay": 0.06644787622732899,
          "ayref": "y",
          "opacity": 0.6,
          "showarrow": true,
          "x": -0.16175430564656176,
          "xref": "x",
          "y": 0.016486648650411877,
          "yref": "y"
         },
         {
          "arrowhead": 4,
          "arrowsize": 1,
          "arrowwidth": 1,
          "ax": -0.13440153510072386,
          "axref": "x",
          "ay": 0.02317270350341389,
          "ayref": "y",
          "opacity": 0.6,
          "showarrow": true,
          "x": -0.15287158030570389,
          "xref": "x",
          "y": -0.005150937711545674,
          "yref": "y"
         },
         {
          "arrowhead": 4,
          "arrowsize": 1,
          "arrowwidth": 1,
          "ax": -0.1809043236962704,
          "axref": "x",
          "ay": 0.016505150787485635,
          "ayref": "y",
          "opacity": 0.6,
          "showarrow": true,
          "x": -0.17612297460347717,
          "xref": "x",
          "y": -0.008484714069509802,
          "yref": "y"
         },
         {
          "arrowhead": 4,
          "arrowsize": 1,
          "arrowwidth": 1,
          "ax": 0.041765597443794975,
          "axref": "x",
          "ay": -0.14895654656288032,
          "ayref": "y",
          "opacity": 0.6,
          "showarrow": true,
          "x": 0.058362794581795614,
          "xref": "x",
          "y": -0.11049832013051658,
          "yref": "y"
         },
         {
          "arrowhead": 4,
          "arrowsize": 1,
          "arrowwidth": 1,
          "ax": 0.047556916051779155,
          "axref": "x",
          "ay": -0.01181357325860681,
          "ayref": "y",
          "opacity": 0.6,
          "showarrow": true,
          "x": 0.0612584538857877,
          "xref": "x",
          "y": -0.041926833478379825,
          "yref": "y"
         },
         {
          "arrowhead": 4,
          "arrowsize": 1,
          "arrowwidth": 1,
          "ax": 0.1052298379027242,
          "axref": "x",
          "ay": -0.05412968006451735,
          "ayref": "y",
          "opacity": 0.6,
          "showarrow": true,
          "x": 0.09009491481126022,
          "xref": "x",
          "y": -0.0630848868813351,
          "yref": "y"
         },
         {
          "arrowhead": 4,
          "arrowsize": 1,
          "arrowwidth": 1,
          "ax": -0.011250726485483795,
          "axref": "x",
          "ay": 0.0038899461175900887,
          "ayref": "y",
          "opacity": 0.6,
          "showarrow": true,
          "x": 0.03185463261715622,
          "xref": "x",
          "y": -0.03407507379028138,
          "yref": "y"
         },
         {
          "arrowhead": 4,
          "arrowsize": 1,
          "arrowwidth": 1,
          "ax": -0.015247164187619407,
          "axref": "x",
          "ay": -0.08527359555054287,
          "ayref": "y",
          "opacity": 0.6,
          "showarrow": true,
          "x": 0.02985641376608842,
          "xref": "x",
          "y": -0.07865684462434785,
          "yref": "y"
         },
         {
          "arrowhead": 4,
          "arrowsize": 1,
          "arrowwidth": 1,
          "ax": -0.01604658387887644,
          "axref": "x",
          "ay": -0.11323967535241015,
          "ayref": "y",
          "opacity": 0.6,
          "showarrow": true,
          "x": 0.029456703920459903,
          "xref": "x",
          "y": -0.09263988452528149,
          "yref": "y"
         },
         {
          "arrowhead": 4,
          "arrowsize": 1,
          "arrowwidth": 1,
          "ax": 0.06769972011200268,
          "axref": "x",
          "ay": -0.11811431557454817,
          "ayref": "y",
          "opacity": 0.6,
          "showarrow": true,
          "x": 0.07132985591589946,
          "xref": "x",
          "y": -0.0950772046363505,
          "yref": "y"
         },
         {
          "arrowhead": 4,
          "arrowsize": 1,
          "arrowwidth": 1,
          "ax": 0.014362521775777891,
          "axref": "x",
          "ay": -0.08873002612333429,
          "ayref": "y",
          "opacity": 0.6,
          "showarrow": true,
          "x": 0.01725818107976998,
          "xref": "x",
          "y": -0.020158539471197535,
          "yref": "y"
         },
         {
          "arrowhead": 4,
          "arrowsize": 1,
          "arrowwidth": 1,
          "ax": -0.04265023985563649,
          "axref": "x",
          "ay": -0.025047075110996846,
          "ayref": "y",
          "opacity": 0.6,
          "showarrow": true,
          "x": -0.011248199735937214,
          "xref": "x",
          "y": 0.011682936034971187,
          "yref": "y"
         },
         {
          "arrowhead": 4,
          "arrowsize": 1,
          "arrowwidth": 1,
          "ax": 0.07782676223470711,
          "axref": "x",
          "ay": 0.006096840375028684,
          "ayref": "y",
          "opacity": 0.6,
          "showarrow": true,
          "x": 0.04899030130923459,
          "xref": "x",
          "y": 0.02725489377798395,
          "yref": "y"
         },
         {
          "arrowhead": 4,
          "arrowsize": 1,
          "arrowwidth": 1,
          "ax": -0.0676424212718607,
          "axref": "x",
          "ay": -0.00947735614145278,
          "ayref": "y",
          "opacity": 0.6,
          "showarrow": true,
          "x": -0.023744290444049312,
          "xref": "x",
          "y": 0.01946779551974322,
          "yref": "y"
         },
         {
          "arrowhead": 4,
          "arrowsize": 1,
          "arrowwidth": 1,
          "ax": -0.03865380215350088,
          "axref": "x",
          "ay": 0.06411646655713613,
          "ayref": "y",
          "opacity": 0.6,
          "showarrow": true,
          "x": -0.009249980884869408,
          "xref": "x",
          "y": 0.05626470686903767,
          "yref": "y"
         },
         {
          "arrowhead": 4,
          "arrowsize": 1,
          "arrowwidth": 1,
          "ax": 0.0402966444439856,
          "axref": "x",
          "ay": -0.05788779513500214,
          "ayref": "y",
          "opacity": 0.6,
          "showarrow": true,
          "x": 0.03022524241387383,
          "xref": "x",
          "y": -0.00473742397703146,
          "yref": "y"
         },
         {
          "arrowhead": 4,
          "arrowsize": 1,
          "arrowwidth": 1,
          "ax": -0.043449659546893525,
          "axref": "x",
          "ay": -0.053013154912864124,
          "ayref": "y",
          "opacity": 0.6,
          "showarrow": true,
          "x": -0.011647909581565731,
          "xref": "x",
          "y": -0.0023001038659624523,
          "yref": "y"
         },
         {
          "arrowhead": 4,
          "arrowsize": 1,
          "arrowwidth": 1,
          "ax": -0.08515659074904744,
          "axref": "x",
          "ay": 0.057448913841207865,
          "ayref": "y",
          "opacity": 0.6,
          "showarrow": true,
          "x": -0.032501375182642685,
          "xref": "x",
          "y": 0.052930930511073546,
          "yref": "y"
         },
         {
          "arrowhead": 4,
          "arrowsize": 1,
          "arrowwidth": 1,
          "ax": -0.10625373978629209,
          "axref": "x",
          "ay": -0.1264731772048002,
          "ayref": "y",
          "opacity": 0.6,
          "showarrow": true,
          "x": -0.10585402994066356,
          "xref": "x",
          "y": -0.11249013730386656,
          "yref": "y"
         },
         {
          "arrowhead": 4,
          "arrowsize": 1,
          "arrowwidth": 1,
          "ax": -0.147960670988446,
          "axref": "x",
          "ay": -0.0160111084507282,
          "ayref": "y",
          "opacity": 0.6,
          "showarrow": true,
          "x": -0.12670749554174052,
          "xref": "x",
          "y": -0.05725910292683056,
          "yref": "y"
         },
         {
          "arrowhead": 4,
          "arrowsize": 1,
          "arrowwidth": 1,
          "ax": -0.048441558463620665,
          "axref": "x",
          "ay": -0.16219004841527035,
          "ayref": "y",
          "opacity": 0.6,
          "showarrow": true,
          "x": -0.07694793927932786,
          "xref": "x",
          "y": -0.13034857290910162,
          "yref": "y"
         },
         {
          "arrowhead": 4,
          "arrowsize": 1,
          "arrowwidth": 1,
          "ax": -0.022507435795412964,
          "axref": "x",
          "ay": -0.1313478174269382,
          "ayref": "y",
          "opacity": 0.6,
          "showarrow": true,
          "x": -0.063980877945224,
          "xref": "x",
          "y": -0.11492745741493557,
          "yref": "y"
         },
         {
          "arrowhead": 4,
          "arrowsize": 1,
          "arrowwidth": 1,
          "ax": -0.13044650151125925,
          "axref": "x",
          "ay": -0.08293737843338884,
          "ayref": "y",
          "opacity": 0.6,
          "showarrow": true,
          "x": -0.11795041080314714,
          "xref": "x",
          "y": -0.09072223791816088,
          "yref": "y"
         },
         {
          "arrowhead": 4,
          "arrowsize": 1,
          "arrowwidth": 1,
          "ax": -0.10145788239289943,
          "axref": "x",
          "ay": -0.009343555734799946,
          "ayref": "y",
          "opacity": 0.6,
          "showarrow": true,
          "x": -0.10345610124396724,
          "xref": "x",
          "y": -0.053925326568866436,
          "yref": "y"
         },
         {
          "arrowhead": 4,
          "arrowsize": 1,
          "arrowwidth": 1,
          "ax": 0.015022681995308554,
          "axref": "x",
          "ay": -0.06736318191690738,
          "ayref": "y",
          "opacity": 0.6,
          "showarrow": true,
          "x": -0.04521581904986324,
          "xref": "x",
          "y": -0.08293513965992015,
          "yref": "y"
         },
         {
          "arrowhead": 4,
          "arrowsize": 1,
          "arrowwidth": 1,
          "ax": -0.10225730208415648,
          "axref": "x",
          "ay": -0.037309635536667225,
          "ayref": "y",
          "opacity": 0.6,
          "showarrow": true,
          "x": -0.1046552307808528,
          "xref": "x",
          "y": -0.09587444627166734,
          "yref": "y"
         },
         {
          "arrowhead": 4,
          "arrowsize": 1,
          "arrowwidth": 1,
          "ax": -0.14876009067970303,
          "axref": "x",
          "ay": -0.04397718825259548,
          "ayref": "y",
          "opacity": 0.6,
          "showarrow": true,
          "x": -0.12790662507862607,
          "xref": "x",
          "y": -0.09920822262963147,
          "yref": "y"
         },
         {
          "arrowhead": 4,
          "arrowsize": 1,
          "arrowwidth": 1,
          "ax": -0.13124592120251627,
          "axref": "x",
          "ay": -0.11090345823525613,
          "ayref": "y",
          "opacity": 0.6,
          "showarrow": true,
          "x": -0.1191495403400327,
          "xref": "x",
          "y": -0.1326713576209618,
          "yref": "y"
         },
         {
          "arrowhead": 4,
          "arrowsize": 1,
          "arrowwidth": 1,
          "ax": 0.01422326230405152,
          "axref": "x",
          "ay": -0.09532926171877466,
          "ayref": "y",
          "opacity": 0.6,
          "showarrow": true,
          "x": -0.0464149485867488,
          "xref": "x",
          "y": -0.12488425936272106,
          "yref": "y"
         },
         {
          "arrowhead": 4,
          "arrowsize": 1,
          "arrowwidth": 1,
          "ax": -0.023306855486669997,
          "axref": "x",
          "ay": -0.15931389722880548,
          "ayref": "y",
          "opacity": 0.6,
          "showarrow": true,
          "x": -0.06518000748210956,
          "xref": "x",
          "y": -0.15687657711773648,
          "yref": "y"
         },
         {
          "arrowhead": 4,
          "arrowsize": 1,
          "arrowwidth": 1,
          "ax": -0.04749961721163716,
          "axref": "x",
          "ay": -0.11577809845739415,
          "ayref": "y",
          "opacity": 0.6,
          "showarrow": true,
          "x": -0.10146915006956031,
          "xref": "x",
          "y": -0.09157287896061947,
          "yref": "y"
         },
         {
          "arrowhead": 4,
          "arrowsize": 1,
          "arrowwidth": 1,
          "ax": -0.2251028391275694,
          "axref": "x",
          "ay": -0.09914795526452713,
          "ayref": "y",
          "opacity": 0.6,
          "showarrow": true,
          "x": -0.19027076102752644,
          "xref": "x",
          "y": -0.08325780736418596,
          "yref": "y"
         },
         {
          "arrowhead": 4,
          "arrowsize": 1,
          "arrowwidth": 1,
          "ax": -0.12645006380912363,
          "axref": "x",
          "ay": 0.00622616323474412,
          "ayref": "y",
          "opacity": 0.6,
          "showarrow": true,
          "x": -0.14094437336830354,
          "xref": "x",
          "y": -0.030570748114550333,
          "yref": "y"
         },
         {
          "arrowhead": 4,
          "arrowsize": 1,
          "arrowwidth": 1,
          "ax": -0.07343373987984486,
          "axref": "x",
          "ay": -0.14662032944572628,
          "ayref": "y",
          "opacity": 0.6,
          "showarrow": true,
          "x": -0.11443621140366417,
          "xref": "x",
          "y": -0.10699399445478554,
          "yref": "y"
         },
         {
          "arrowhead": 4,
          "arrowsize": 1,
          "arrowwidth": 1,
          "ax": -0.17295285240467018,
          "axref": "x",
          "ay": -0.00044138948118413457,
          "ayref": "y",
          "opacity": 0.6,
          "showarrow": true,
          "x": -0.16419576766607683,
          "xref": "x",
          "y": -0.03390452447251446,
          "yref": "y"
         },
         {
          "arrowhead": 4,
          "arrowsize": 1,
          "arrowwidth": 1,
          "ax": -0.009969499420915642,
          "axref": "x",
          "ay": -0.05179346294736331,
          "ayref": "y",
          "opacity": 0.6,
          "showarrow": true,
          "x": -0.08270409117419955,
          "xref": "x",
          "y": -0.05958056120560405,
          "yref": "y"
         },
         {
          "arrowhead": 4,
          "arrowsize": 1,
          "arrowwidth": 1,
          "ax": -0.14421551449083936,
          "axref": "x",
          "ay": 0.04950133595865922,
          "ayref": "y",
          "opacity": 0.6,
          "showarrow": true,
          "x": -0.14982709870916142,
          "xref": "x",
          "y": -0.008933161752592782,
          "yref": "y"
         },
         {
          "arrowhead": 4,
          "arrowsize": 1,
          "arrowwidth": 1,
          "ax": -0.3522335633585666,
          "axref": "x",
          "ay": -0.09074750184541841,
          "ayref": "y",
          "opacity": 0.6,
          "showarrow": true,
          "x": -0.323500279343111,
          "xref": "x",
          "y": -0.11083787645531396,
          "yref": "y"
         },
         {
          "arrowhead": 4,
          "arrowsize": 1,
          "arrowwidth": 1,
          "ax": 0.034505325836001424,
          "axref": "x",
          "ay": -0.19503076843927564,
          "ayref": "y",
          "opacity": 0.6,
          "showarrow": true,
          "x": 0.047472387170105275,
          "xref": "x",
          "y": -0.17960965294510955,
          "yref": "y"
         },
         {
          "arrowhead": 4,
          "arrowsize": 1,
          "arrowwidth": 1,
          "ax": 0.09796956629493064,
          "axref": "x",
          "ay": -0.10020390194091268,
          "ayref": "y",
          "opacity": 0.6,
          "showarrow": true,
          "x": 0.07920450739956988,
          "xref": "x",
          "y": -0.13219621969592807,
          "yref": "y"
         },
         {
          "arrowhead": 4,
          "arrowsize": 1,
          "arrowwidth": 1,
          "ax": 0.07203544362672294,
          "axref": "x",
          "ay": -0.13104613292924483,
          "ayref": "y",
          "opacity": 0.6,
          "showarrow": true,
          "x": 0.040303323397258325,
          "xref": "x",
          "y": -0.1784595661784263,
          "yref": "y"
         },
         {
          "arrowhead": 4,
          "arrowsize": 1,
          "arrowwidth": 1,
          "ax": -0.1439642332863104,
          "axref": "x",
          "ay": 0.07315243321740476,
          "ayref": "y",
          "opacity": 0.6,
          "showarrow": true,
          "x": -0.1207128389885371,
          "xref": "x",
          "y": 0.07648620957536889,
          "yref": "y"
         },
         {
          "arrowhead": 4,
          "arrowsize": 1,
          "arrowwidth": 1,
          "ax": 0.6527223865965914,
          "axref": "x",
          "ay": 0.7867478201882878,
          "ayref": "y",
          "opacity": 0.6,
          "showarrow": true,
          "x": 0.5809634095145823,
          "xref": "x",
          "y": 0.7179555073058663,
          "yref": "y"
         },
         {
          "arrowhead": 4,
          "arrowsize": 1,
          "arrowwidth": 1,
          "ax": 0.603347423671017,
          "axref": "x",
          "ay": 0.8245815972117224,
          "ayref": "y",
          "opacity": 0.6,
          "showarrow": true,
          "x": 0.556275928051795,
          "xref": "x",
          "y": 0.7368723958175836,
          "yref": "y"
         },
         {
          "arrowhead": 4,
          "arrowsize": 1,
          "arrowwidth": 1,
          "ax": 0.7468653778350354,
          "axref": "x",
          "ay": 0.9621662229765654,
          "ayref": "y",
          "opacity": 0.6,
          "showarrow": true,
          "x": 0.7715528592978226,
          "xref": "x",
          "y": 0.943249334464848,
          "yref": "y"
         }
        ],
        "autosize": false,
        "height": 800,
        "plot_bgcolor": "rgba(0,0,0,0)",
        "showlegend": false,
        "template": {
         "data": {
          "bar": [
           {
            "error_x": {
             "color": "#2a3f5f"
            },
            "error_y": {
             "color": "#2a3f5f"
            },
            "marker": {
             "line": {
              "color": "#E5ECF6",
              "width": 0.5
             },
             "pattern": {
              "fillmode": "overlay",
              "size": 10,
              "solidity": 0.2
             }
            },
            "type": "bar"
           }
          ],
          "barpolar": [
           {
            "marker": {
             "line": {
              "color": "#E5ECF6",
              "width": 0.5
             },
             "pattern": {
              "fillmode": "overlay",
              "size": 10,
              "solidity": 0.2
             }
            },
            "type": "barpolar"
           }
          ],
          "carpet": [
           {
            "aaxis": {
             "endlinecolor": "#2a3f5f",
             "gridcolor": "white",
             "linecolor": "white",
             "minorgridcolor": "white",
             "startlinecolor": "#2a3f5f"
            },
            "baxis": {
             "endlinecolor": "#2a3f5f",
             "gridcolor": "white",
             "linecolor": "white",
             "minorgridcolor": "white",
             "startlinecolor": "#2a3f5f"
            },
            "type": "carpet"
           }
          ],
          "choropleth": [
           {
            "colorbar": {
             "outlinewidth": 0,
             "ticks": ""
            },
            "type": "choropleth"
           }
          ],
          "contour": [
           {
            "colorbar": {
             "outlinewidth": 0,
             "ticks": ""
            },
            "colorscale": [
             [
              0,
              "#0d0887"
             ],
             [
              0.1111111111111111,
              "#46039f"
             ],
             [
              0.2222222222222222,
              "#7201a8"
             ],
             [
              0.3333333333333333,
              "#9c179e"
             ],
             [
              0.4444444444444444,
              "#bd3786"
             ],
             [
              0.5555555555555556,
              "#d8576b"
             ],
             [
              0.6666666666666666,
              "#ed7953"
             ],
             [
              0.7777777777777778,
              "#fb9f3a"
             ],
             [
              0.8888888888888888,
              "#fdca26"
             ],
             [
              1,
              "#f0f921"
             ]
            ],
            "type": "contour"
           }
          ],
          "contourcarpet": [
           {
            "colorbar": {
             "outlinewidth": 0,
             "ticks": ""
            },
            "type": "contourcarpet"
           }
          ],
          "heatmap": [
           {
            "colorbar": {
             "outlinewidth": 0,
             "ticks": ""
            },
            "colorscale": [
             [
              0,
              "#0d0887"
             ],
             [
              0.1111111111111111,
              "#46039f"
             ],
             [
              0.2222222222222222,
              "#7201a8"
             ],
             [
              0.3333333333333333,
              "#9c179e"
             ],
             [
              0.4444444444444444,
              "#bd3786"
             ],
             [
              0.5555555555555556,
              "#d8576b"
             ],
             [
              0.6666666666666666,
              "#ed7953"
             ],
             [
              0.7777777777777778,
              "#fb9f3a"
             ],
             [
              0.8888888888888888,
              "#fdca26"
             ],
             [
              1,
              "#f0f921"
             ]
            ],
            "type": "heatmap"
           }
          ],
          "heatmapgl": [
           {
            "colorbar": {
             "outlinewidth": 0,
             "ticks": ""
            },
            "colorscale": [
             [
              0,
              "#0d0887"
             ],
             [
              0.1111111111111111,
              "#46039f"
             ],
             [
              0.2222222222222222,
              "#7201a8"
             ],
             [
              0.3333333333333333,
              "#9c179e"
             ],
             [
              0.4444444444444444,
              "#bd3786"
             ],
             [
              0.5555555555555556,
              "#d8576b"
             ],
             [
              0.6666666666666666,
              "#ed7953"
             ],
             [
              0.7777777777777778,
              "#fb9f3a"
             ],
             [
              0.8888888888888888,
              "#fdca26"
             ],
             [
              1,
              "#f0f921"
             ]
            ],
            "type": "heatmapgl"
           }
          ],
          "histogram": [
           {
            "marker": {
             "pattern": {
              "fillmode": "overlay",
              "size": 10,
              "solidity": 0.2
             }
            },
            "type": "histogram"
           }
          ],
          "histogram2d": [
           {
            "colorbar": {
             "outlinewidth": 0,
             "ticks": ""
            },
            "colorscale": [
             [
              0,
              "#0d0887"
             ],
             [
              0.1111111111111111,
              "#46039f"
             ],
             [
              0.2222222222222222,
              "#7201a8"
             ],
             [
              0.3333333333333333,
              "#9c179e"
             ],
             [
              0.4444444444444444,
              "#bd3786"
             ],
             [
              0.5555555555555556,
              "#d8576b"
             ],
             [
              0.6666666666666666,
              "#ed7953"
             ],
             [
              0.7777777777777778,
              "#fb9f3a"
             ],
             [
              0.8888888888888888,
              "#fdca26"
             ],
             [
              1,
              "#f0f921"
             ]
            ],
            "type": "histogram2d"
           }
          ],
          "histogram2dcontour": [
           {
            "colorbar": {
             "outlinewidth": 0,
             "ticks": ""
            },
            "colorscale": [
             [
              0,
              "#0d0887"
             ],
             [
              0.1111111111111111,
              "#46039f"
             ],
             [
              0.2222222222222222,
              "#7201a8"
             ],
             [
              0.3333333333333333,
              "#9c179e"
             ],
             [
              0.4444444444444444,
              "#bd3786"
             ],
             [
              0.5555555555555556,
              "#d8576b"
             ],
             [
              0.6666666666666666,
              "#ed7953"
             ],
             [
              0.7777777777777778,
              "#fb9f3a"
             ],
             [
              0.8888888888888888,
              "#fdca26"
             ],
             [
              1,
              "#f0f921"
             ]
            ],
            "type": "histogram2dcontour"
           }
          ],
          "mesh3d": [
           {
            "colorbar": {
             "outlinewidth": 0,
             "ticks": ""
            },
            "type": "mesh3d"
           }
          ],
          "parcoords": [
           {
            "line": {
             "colorbar": {
              "outlinewidth": 0,
              "ticks": ""
             }
            },
            "type": "parcoords"
           }
          ],
          "pie": [
           {
            "automargin": true,
            "type": "pie"
           }
          ],
          "scatter": [
           {
            "fillpattern": {
             "fillmode": "overlay",
             "size": 10,
             "solidity": 0.2
            },
            "type": "scatter"
           }
          ],
          "scatter3d": [
           {
            "line": {
             "colorbar": {
              "outlinewidth": 0,
              "ticks": ""
             }
            },
            "marker": {
             "colorbar": {
              "outlinewidth": 0,
              "ticks": ""
             }
            },
            "type": "scatter3d"
           }
          ],
          "scattercarpet": [
           {
            "marker": {
             "colorbar": {
              "outlinewidth": 0,
              "ticks": ""
             }
            },
            "type": "scattercarpet"
           }
          ],
          "scattergeo": [
           {
            "marker": {
             "colorbar": {
              "outlinewidth": 0,
              "ticks": ""
             }
            },
            "type": "scattergeo"
           }
          ],
          "scattergl": [
           {
            "marker": {
             "colorbar": {
              "outlinewidth": 0,
              "ticks": ""
             }
            },
            "type": "scattergl"
           }
          ],
          "scattermapbox": [
           {
            "marker": {
             "colorbar": {
              "outlinewidth": 0,
              "ticks": ""
             }
            },
            "type": "scattermapbox"
           }
          ],
          "scatterpolar": [
           {
            "marker": {
             "colorbar": {
              "outlinewidth": 0,
              "ticks": ""
             }
            },
            "type": "scatterpolar"
           }
          ],
          "scatterpolargl": [
           {
            "marker": {
             "colorbar": {
              "outlinewidth": 0,
              "ticks": ""
             }
            },
            "type": "scatterpolargl"
           }
          ],
          "scatterternary": [
           {
            "marker": {
             "colorbar": {
              "outlinewidth": 0,
              "ticks": ""
             }
            },
            "type": "scatterternary"
           }
          ],
          "surface": [
           {
            "colorbar": {
             "outlinewidth": 0,
             "ticks": ""
            },
            "colorscale": [
             [
              0,
              "#0d0887"
             ],
             [
              0.1111111111111111,
              "#46039f"
             ],
             [
              0.2222222222222222,
              "#7201a8"
             ],
             [
              0.3333333333333333,
              "#9c179e"
             ],
             [
              0.4444444444444444,
              "#bd3786"
             ],
             [
              0.5555555555555556,
              "#d8576b"
             ],
             [
              0.6666666666666666,
              "#ed7953"
             ],
             [
              0.7777777777777778,
              "#fb9f3a"
             ],
             [
              0.8888888888888888,
              "#fdca26"
             ],
             [
              1,
              "#f0f921"
             ]
            ],
            "type": "surface"
           }
          ],
          "table": [
           {
            "cells": {
             "fill": {
              "color": "#EBF0F8"
             },
             "line": {
              "color": "white"
             }
            },
            "header": {
             "fill": {
              "color": "#C8D4E3"
             },
             "line": {
              "color": "white"
             }
            },
            "type": "table"
           }
          ]
         },
         "layout": {
          "annotationdefaults": {
           "arrowcolor": "#2a3f5f",
           "arrowhead": 0,
           "arrowwidth": 1
          },
          "autotypenumbers": "strict",
          "coloraxis": {
           "colorbar": {
            "outlinewidth": 0,
            "ticks": ""
           }
          },
          "colorscale": {
           "diverging": [
            [
             0,
             "#8e0152"
            ],
            [
             0.1,
             "#c51b7d"
            ],
            [
             0.2,
             "#de77ae"
            ],
            [
             0.3,
             "#f1b6da"
            ],
            [
             0.4,
             "#fde0ef"
            ],
            [
             0.5,
             "#f7f7f7"
            ],
            [
             0.6,
             "#e6f5d0"
            ],
            [
             0.7,
             "#b8e186"
            ],
            [
             0.8,
             "#7fbc41"
            ],
            [
             0.9,
             "#4d9221"
            ],
            [
             1,
             "#276419"
            ]
           ],
           "sequential": [
            [
             0,
             "#0d0887"
            ],
            [
             0.1111111111111111,
             "#46039f"
            ],
            [
             0.2222222222222222,
             "#7201a8"
            ],
            [
             0.3333333333333333,
             "#9c179e"
            ],
            [
             0.4444444444444444,
             "#bd3786"
            ],
            [
             0.5555555555555556,
             "#d8576b"
            ],
            [
             0.6666666666666666,
             "#ed7953"
            ],
            [
             0.7777777777777778,
             "#fb9f3a"
            ],
            [
             0.8888888888888888,
             "#fdca26"
            ],
            [
             1,
             "#f0f921"
            ]
           ],
           "sequentialminus": [
            [
             0,
             "#0d0887"
            ],
            [
             0.1111111111111111,
             "#46039f"
            ],
            [
             0.2222222222222222,
             "#7201a8"
            ],
            [
             0.3333333333333333,
             "#9c179e"
            ],
            [
             0.4444444444444444,
             "#bd3786"
            ],
            [
             0.5555555555555556,
             "#d8576b"
            ],
            [
             0.6666666666666666,
             "#ed7953"
            ],
            [
             0.7777777777777778,
             "#fb9f3a"
            ],
            [
             0.8888888888888888,
             "#fdca26"
            ],
            [
             1,
             "#f0f921"
            ]
           ]
          },
          "colorway": [
           "#636efa",
           "#EF553B",
           "#00cc96",
           "#ab63fa",
           "#FFA15A",
           "#19d3f3",
           "#FF6692",
           "#B6E880",
           "#FF97FF",
           "#FECB52"
          ],
          "font": {
           "color": "#2a3f5f"
          },
          "geo": {
           "bgcolor": "white",
           "lakecolor": "white",
           "landcolor": "#E5ECF6",
           "showlakes": true,
           "showland": true,
           "subunitcolor": "white"
          },
          "hoverlabel": {
           "align": "left"
          },
          "hovermode": "closest",
          "mapbox": {
           "style": "light"
          },
          "paper_bgcolor": "white",
          "plot_bgcolor": "#E5ECF6",
          "polar": {
           "angularaxis": {
            "gridcolor": "white",
            "linecolor": "white",
            "ticks": ""
           },
           "bgcolor": "#E5ECF6",
           "radialaxis": {
            "gridcolor": "white",
            "linecolor": "white",
            "ticks": ""
           }
          },
          "scene": {
           "xaxis": {
            "backgroundcolor": "#E5ECF6",
            "gridcolor": "white",
            "gridwidth": 2,
            "linecolor": "white",
            "showbackground": true,
            "ticks": "",
            "zerolinecolor": "white"
           },
           "yaxis": {
            "backgroundcolor": "#E5ECF6",
            "gridcolor": "white",
            "gridwidth": 2,
            "linecolor": "white",
            "showbackground": true,
            "ticks": "",
            "zerolinecolor": "white"
           },
           "zaxis": {
            "backgroundcolor": "#E5ECF6",
            "gridcolor": "white",
            "gridwidth": 2,
            "linecolor": "white",
            "showbackground": true,
            "ticks": "",
            "zerolinecolor": "white"
           }
          },
          "shapedefaults": {
           "line": {
            "color": "#2a3f5f"
           }
          },
          "ternary": {
           "aaxis": {
            "gridcolor": "white",
            "linecolor": "white",
            "ticks": ""
           },
           "baxis": {
            "gridcolor": "white",
            "linecolor": "white",
            "ticks": ""
           },
           "bgcolor": "#E5ECF6",
           "caxis": {
            "gridcolor": "white",
            "linecolor": "white",
            "ticks": ""
           }
          },
          "title": {
           "x": 0.05
          },
          "xaxis": {
           "automargin": true,
           "gridcolor": "white",
           "linecolor": "white",
           "ticks": "",
           "title": {
            "standoff": 15
           },
           "zerolinecolor": "white",
           "zerolinewidth": 2
          },
          "yaxis": {
           "automargin": true,
           "gridcolor": "white",
           "linecolor": "white",
           "ticks": "",
           "title": {
            "standoff": 15
           },
           "zerolinecolor": "white",
           "zerolinewidth": 2
          }
         }
        },
        "width": 800,
        "xaxis": {
         "showgrid": false,
         "showticklabels": false,
         "zeroline": false
        },
        "yaxis": {
         "showgrid": false,
         "showticklabels": false,
         "zeroline": false
        }
       }
      }
     },
     "metadata": {},
     "output_type": "display_data"
    }
   ],
   "source": [
    "pm = PM_Data(df)\n",
    "g = PlotGraph(pm.net())\n",
    "fig = g.draw_graph()\n",
    "fig.show()\n"
   ]
  },
  {
   "cell_type": "code",
   "execution_count": 70,
   "metadata": {},
   "outputs": [
    {
     "name": "stdout",
     "output_type": "stream",
     "text": [
      "1274.6583333333333\n"
     ]
    }
   ],
   "source": [
    "pm_net = pm.net()\n",
    "print(pm_net.edges()[('Create Picking', 'Material Availability Date passed')]['Weight'])"
   ]
  },
  {
   "cell_type": "code",
   "execution_count": 89,
   "metadata": {},
   "outputs": [
    {
     "data": {
      "text/plain": [
       "[['Material Availability Date passed',\n",
       "  'Create Sales Order',\n",
       "  'Create Sales Order Item'],\n",
       " ['Material Availability Date passed',\n",
       "  'Create Sales Order Item',\n",
       "  'Create Sales Order'],\n",
       " ['Material Availability Date passed',\n",
       "  'Create Sales Order',\n",
       "  'Create Sales Order Item'],\n",
       " ['Material Availability Date passed',\n",
       "  'Create Sales Order Item',\n",
       "  'Create Sales Order'],\n",
       " ['Material Availability Date passed',\n",
       "  'Create Sales Order Item',\n",
       "  'Create Sales Order'],\n",
       " ['Material Availability Date passed',\n",
       "  'Create Sales Order',\n",
       "  'Create Sales Order Item'],\n",
       " ['Material Availability Date passed',\n",
       "  'Create Sales Order Item',\n",
       "  'Create Sales Order'],\n",
       " ['Material Availability Date passed',\n",
       "  'Create Sales Order',\n",
       "  'Create Sales Order Item'],\n",
       " ['Material Availability Date passed',\n",
       "  'Create Sales Order Item',\n",
       "  'Create Sales Order'],\n",
       " ['Material Availability Date passed',\n",
       "  'Create Sales Order',\n",
       "  'Create Sales Order Item'],\n",
       " ['Material Availability Date passed',\n",
       "  'Create Sales Order',\n",
       "  'Create Sales Order Item'],\n",
       " ['Material Availability Date passed',\n",
       "  'Create Sales Order Item',\n",
       "  'Create Sales Order'],\n",
       " ['Material Availability Date passed',\n",
       "  'Create Sales Order',\n",
       "  'Create Sales Order Item'],\n",
       " ['Material Availability Date passed',\n",
       "  'Create Sales Order',\n",
       "  'Create Sales Order Item'],\n",
       " ['Material Availability Date passed',\n",
       "  'Create Sales Order Item',\n",
       "  'Create Sales Order'],\n",
       " ['Material Availability Date passed',\n",
       "  'Create Sales Order',\n",
       "  'Create Sales Order Item'],\n",
       " ['Material Availability Date passed',\n",
       "  'Create Sales Order',\n",
       "  'Create Sales Order Item'],\n",
       " ['Material Availability Date passed',\n",
       "  'Create Sales Order',\n",
       "  'Create Sales Order Item'],\n",
       " ['Material Availability Date passed',\n",
       "  'Create Sales Order',\n",
       "  'Create Sales Order Item'],\n",
       " ['Material Availability Date passed',\n",
       "  'Create Sales Order',\n",
       "  'Create Sales Order Item'],\n",
       " ['Material Availability Date passed',\n",
       "  'Create Sales Order',\n",
       "  'Create Sales Order Item'],\n",
       " ['Material Availability Date passed',\n",
       "  'Create Sales Order',\n",
       "  'Create Sales Order Item'],\n",
       " ['Material Availability Date passed',\n",
       "  'Create Sales Order',\n",
       "  'Create Sales Order Item'],\n",
       " ['Material Availability Date passed',\n",
       "  'Create Sales Order',\n",
       "  'Create Sales Order Item'],\n",
       " ['Material Availability Date passed',\n",
       "  'Create Sales Order',\n",
       "  'Create Sales Order Item'],\n",
       " ['Material Availability Date passed',\n",
       "  'Create Sales Order Item',\n",
       "  'Create Sales Order'],\n",
       " ['Material Availability Date passed',\n",
       "  'Create Sales Order Item',\n",
       "  'Create Sales Order'],\n",
       " ['Material Availability Date passed',\n",
       "  'Create Sales Order',\n",
       "  'Create Sales Order Item'],\n",
       " ['Material Availability Date passed',\n",
       "  'Create Sales Order',\n",
       "  'Create Sales Order Item'],\n",
       " ['Material Availability Date passed',\n",
       "  'Create Sales Order Item',\n",
       "  'Create Sales Order'],\n",
       " ['Material Availability Date passed',\n",
       "  'Create Sales Order',\n",
       "  'Create Sales Order Item'],\n",
       " ['Material Availability Date passed',\n",
       "  'Create Sales Order Item',\n",
       "  'Create Sales Order'],\n",
       " ['Material Availability Date passed',\n",
       "  'Create Sales Order',\n",
       "  'Create Sales Order Item'],\n",
       " ['Material Availability Date passed',\n",
       "  'Create Sales Order Item',\n",
       "  'Create Sales Order'],\n",
       " ['Material Availability Date passed',\n",
       "  'Create Sales Order',\n",
       "  'Create Sales Order Item'],\n",
       " ['Material Availability Date passed',\n",
       "  'Create Sales Order',\n",
       "  'Create Sales Order Item'],\n",
       " ['Material Availability Date passed',\n",
       "  'Create Sales Order Item',\n",
       "  'Create Sales Order'],\n",
       " ['Material Availability Date passed',\n",
       "  'Create Sales Order',\n",
       "  'Create Sales Order Item'],\n",
       " ['Material Availability Date passed',\n",
       "  'Create Sales Order Item',\n",
       "  'Create Sales Order'],\n",
       " ['Material Availability Date passed',\n",
       "  'Create Sales Order',\n",
       "  'Create Sales Order Item'],\n",
       " ['Material Availability Date passed',\n",
       "  'Create Sales Order',\n",
       "  'Create Sales Order Item'],\n",
       " ['Material Availability Date passed',\n",
       "  'Create Sales Order Item',\n",
       "  'Create Sales Order'],\n",
       " ['Material Availability Date passed',\n",
       "  'Create Sales Order',\n",
       "  'Create Sales Order Item'],\n",
       " ['Material Availability Date passed',\n",
       "  'Create Sales Order',\n",
       "  'Create Sales Order Item'],\n",
       " ['Material Availability Date passed',\n",
       "  'Create Sales Order Item',\n",
       "  'Create Sales Order'],\n",
       " ['Material Availability Date passed',\n",
       "  'Create Sales Order',\n",
       "  'Create Sales Order Item'],\n",
       " ['Material Availability Date passed',\n",
       "  'Create Sales Order Item',\n",
       "  'Create Sales Order'],\n",
       " ['Material Availability Date passed',\n",
       "  'Create Sales Order',\n",
       "  'Create Sales Order Item'],\n",
       " ['Material Availability Date passed',\n",
       "  'Create Sales Order',\n",
       "  'Create Sales Order Item'],\n",
       " ['Material Availability Date passed',\n",
       "  'Create Sales Order',\n",
       "  'Create Sales Order Item'],\n",
       " ['Material Availability Date passed',\n",
       "  'Create Sales Order',\n",
       "  'Create Sales Order Item'],\n",
       " ['Material Availability Date passed',\n",
       "  'Create Sales Order Item',\n",
       "  'Create Sales Order'],\n",
       " ['Material Availability Date passed',\n",
       "  'Create Sales Order Item',\n",
       "  'Create Sales Order'],\n",
       " ['Material Availability Date passed',\n",
       "  'Create Sales Order Item',\n",
       "  'Create Sales Order'],\n",
       " ['Material Availability Date passed',\n",
       "  'Create Sales Order',\n",
       "  'Create Sales Order Item'],\n",
       " ['Material Availability Date passed',\n",
       "  'Create Sales Order',\n",
       "  'Create Sales Order Item'],\n",
       " ['Material Availability Date passed',\n",
       "  'Create Sales Order',\n",
       "  'Create Sales Order Item'],\n",
       " ['Material Availability Date passed',\n",
       "  'Create Sales Order',\n",
       "  'Create Sales Order Item'],\n",
       " ['Material Availability Date passed',\n",
       "  'Create Sales Order',\n",
       "  'Create Sales Order Item'],\n",
       " ['Material Availability Date passed',\n",
       "  'Create Sales Order',\n",
       "  'Create Sales Order Item'],\n",
       " ['Material Availability Date passed',\n",
       "  'Create Sales Order',\n",
       "  'Create Sales Order Item'],\n",
       " ['Material Availability Date passed',\n",
       "  'Create Sales Order',\n",
       "  'Create Sales Order Item'],\n",
       " ['Material Availability Date passed',\n",
       "  'Create Sales Order',\n",
       "  'Create Sales Order Item'],\n",
       " ['Material Availability Date passed',\n",
       "  'Create Sales Order Item',\n",
       "  'Create Sales Order'],\n",
       " ['Material Availability Date passed',\n",
       "  'Create Sales Order',\n",
       "  'Create Sales Order Item'],\n",
       " ['Material Availability Date passed',\n",
       "  'Create Sales Order Item',\n",
       "  'Create Sales Order'],\n",
       " ['Material Availability Date passed',\n",
       "  'Create Sales Order Item',\n",
       "  'Create Sales Order'],\n",
       " ['Material Availability Date passed',\n",
       "  'Create Sales Order',\n",
       "  'Create Sales Order Item'],\n",
       " ['Material Availability Date passed',\n",
       "  'Create Sales Order',\n",
       "  'Create Sales Order Item'],\n",
       " ['Material Availability Date passed',\n",
       "  'Create Sales Order Item',\n",
       "  'Create Sales Order'],\n",
       " ['Material Availability Date passed',\n",
       "  'Create Sales Order',\n",
       "  'Create Sales Order Item'],\n",
       " ['Material Availability Date passed',\n",
       "  'Create Sales Order',\n",
       "  'Create Sales Order Item'],\n",
       " ['Material Availability Date passed',\n",
       "  'Create Sales Order Item',\n",
       "  'Create Sales Order'],\n",
       " ['Material Availability Date passed',\n",
       "  'Create Sales Order',\n",
       "  'Create Sales Order Item'],\n",
       " ['Material Availability Date passed',\n",
       "  'Create Sales Order',\n",
       "  'Create Sales Order Item'],\n",
       " ['Material Availability Date passed',\n",
       "  'Create Sales Order',\n",
       "  'Create Sales Order Item'],\n",
       " ['Material Availability Date passed',\n",
       "  'Create Sales Order',\n",
       "  'Create Sales Order Item'],\n",
       " ['Material Availability Date passed',\n",
       "  'Create Sales Order',\n",
       "  'Create Sales Order Item'],\n",
       " ['Material Availability Date passed',\n",
       "  'Create Sales Order',\n",
       "  'Create Sales Order Item'],\n",
       " ['Material Availability Date passed',\n",
       "  'Create Sales Order',\n",
       "  'Create Sales Order Item'],\n",
       " ['Material Availability Date passed',\n",
       "  'Create Sales Order',\n",
       "  'Create Sales Order Item'],\n",
       " ['Material Availability Date passed',\n",
       "  'Create Sales Order',\n",
       "  'Create Sales Order Item'],\n",
       " ['Material Availability Date passed',\n",
       "  'Create Sales Order Item',\n",
       "  'Create Sales Order'],\n",
       " ['Material Availability Date passed',\n",
       "  'Create Sales Order',\n",
       "  'Create Sales Order Item'],\n",
       " ['Material Availability Date passed',\n",
       "  'Create Sales Order',\n",
       "  'Create Sales Order Item'],\n",
       " ['Material Availability Date passed',\n",
       "  'Create Sales Order',\n",
       "  'Create Sales Order Item'],\n",
       " ['Material Availability Date passed',\n",
       "  'Create Sales Order Item',\n",
       "  'Create Sales Order'],\n",
       " ['Material Availability Date passed',\n",
       "  'Create Sales Order Item',\n",
       "  'Create Sales Order'],\n",
       " ['Material Availability Date passed',\n",
       "  'Create Sales Order',\n",
       "  'Create Sales Order Item'],\n",
       " ['Material Availability Date passed',\n",
       "  'Create Sales Order',\n",
       "  'Create Sales Order Item'],\n",
       " ['Material Availability Date passed',\n",
       "  'Create Sales Order',\n",
       "  'Create Sales Order Item'],\n",
       " ['Material Availability Date passed',\n",
       "  'Create Sales Order',\n",
       "  'Create Sales Order Item'],\n",
       " ['Material Availability Date passed',\n",
       "  'Create Sales Order',\n",
       "  'Create Sales Order Item'],\n",
       " ['Material Availability Date passed',\n",
       "  'Create Sales Order',\n",
       "  'Create Sales Order Item'],\n",
       " ['Material Availability Date passed',\n",
       "  'Create Sales Order',\n",
       "  'Create Sales Order Item'],\n",
       " ['Material Availability Date passed',\n",
       "  'Create Sales Order',\n",
       "  'Create Sales Order Item'],\n",
       " ['Material Availability Date passed',\n",
       "  'Create Sales Order Item',\n",
       "  'Create Sales Order'],\n",
       " ['Material Availability Date passed',\n",
       "  'Create Sales Order Item',\n",
       "  'Create Sales Order'],\n",
       " ['Material Availability Date passed',\n",
       "  'Create Sales Order',\n",
       "  'Create Sales Order Item'],\n",
       " ['Material Availability Date passed',\n",
       "  'Create Sales Order',\n",
       "  'Create Sales Order Item'],\n",
       " ['Material Availability Date passed',\n",
       "  'Create Sales Order Item',\n",
       "  'Create Sales Order'],\n",
       " ['Material Availability Date passed',\n",
       "  'Create Sales Order Item',\n",
       "  'Create Sales Order'],\n",
       " ['Material Availability Date passed',\n",
       "  'Create Sales Order Item',\n",
       "  'Create Sales Order'],\n",
       " ['Material Availability Date passed',\n",
       "  'Create Sales Order',\n",
       "  'Create Sales Order Item'],\n",
       " ['Material Availability Date passed',\n",
       "  'Create Sales Order Item',\n",
       "  'Create Sales Order'],\n",
       " ['Material Availability Date passed',\n",
       "  'Create Sales Order',\n",
       "  'Create Sales Order Item'],\n",
       " ['Material Availability Date passed',\n",
       "  'Create Sales Order',\n",
       "  'Create Sales Order Item'],\n",
       " ['Material Availability Date passed',\n",
       "  'Create Sales Order',\n",
       "  'Create Sales Order Item'],\n",
       " ['Material Availability Date passed',\n",
       "  'Create Sales Order',\n",
       "  'Create Sales Order Item'],\n",
       " ['Material Availability Date passed',\n",
       "  'Create Sales Order',\n",
       "  'Create Sales Order Item'],\n",
       " ['Material Availability Date passed',\n",
       "  'Create Sales Order',\n",
       "  'Create Sales Order Item'],\n",
       " ['Material Availability Date passed',\n",
       "  'Create Sales Order Item',\n",
       "  'Create Sales Order'],\n",
       " ['Material Availability Date passed',\n",
       "  'Create Sales Order',\n",
       "  'Create Sales Order Item'],\n",
       " ['Material Availability Date passed',\n",
       "  'Create Sales Order',\n",
       "  'Create Sales Order Item'],\n",
       " ['Material Availability Date passed',\n",
       "  'Create Sales Order Item',\n",
       "  'Create Sales Order'],\n",
       " ['Material Availability Date passed',\n",
       "  'Create Sales Order',\n",
       "  'Create Sales Order Item'],\n",
       " ['Material Availability Date passed',\n",
       "  'Create Sales Order',\n",
       "  'Create Sales Order Item'],\n",
       " ['Material Availability Date passed',\n",
       "  'Create Sales Order',\n",
       "  'Create Sales Order Item'],\n",
       " ['Material Availability Date passed',\n",
       "  'Create Sales Order Item',\n",
       "  'Create Sales Order'],\n",
       " ['Material Availability Date passed',\n",
       "  'Create Sales Order',\n",
       "  'Create Sales Order Item'],\n",
       " ['Material Availability Date passed',\n",
       "  'Create Sales Order',\n",
       "  'Create Sales Order Item'],\n",
       " ['Material Availability Date passed',\n",
       "  'Create Sales Order',\n",
       "  'Create Sales Order Item'],\n",
       " ['Material Availability Date passed',\n",
       "  'Create Sales Order',\n",
       "  'Create Sales Order Item'],\n",
       " ['Material Availability Date passed',\n",
       "  'Create Sales Order',\n",
       "  'Create Sales Order Item'],\n",
       " ['Material Availability Date passed',\n",
       "  'Create Sales Order',\n",
       "  'Create Sales Order Item'],\n",
       " ['Material Availability Date passed',\n",
       "  'Create Sales Order',\n",
       "  'Create Sales Order Item'],\n",
       " ['Material Availability Date passed',\n",
       "  'Create Sales Order',\n",
       "  'Create Sales Order Item'],\n",
       " ['Material Availability Date passed',\n",
       "  'Create Sales Order',\n",
       "  'Create Sales Order Item'],\n",
       " ['Material Availability Date passed',\n",
       "  'Create Sales Order',\n",
       "  'Create Sales Order Item'],\n",
       " ['Material Availability Date passed',\n",
       "  'Create Sales Order',\n",
       "  'Create Sales Order Item'],\n",
       " ['Material Availability Date passed',\n",
       "  'Create Sales Order',\n",
       "  'Create Sales Order Item'],\n",
       " ['Material Availability Date passed',\n",
       "  'Create Sales Order',\n",
       "  'Create Sales Order Item'],\n",
       " ['Material Availability Date passed',\n",
       "  'Create Sales Order',\n",
       "  'Create Sales Order Item'],\n",
       " ['Material Availability Date passed',\n",
       "  'Create Sales Order',\n",
       "  'Create Sales Order Item'],\n",
       " ['Material Availability Date passed',\n",
       "  'Create Sales Order',\n",
       "  'Create Sales Order Item'],\n",
       " ['Material Availability Date passed',\n",
       "  'Create Sales Order',\n",
       "  'Create Sales Order Item'],\n",
       " ['Material Availability Date passed',\n",
       "  'Create Sales Order Item',\n",
       "  'Create Sales Order'],\n",
       " ['Material Availability Date passed',\n",
       "  'Create Sales Order',\n",
       "  'Create Sales Order Item'],\n",
       " ['Material Availability Date passed',\n",
       "  'Create Sales Order',\n",
       "  'Create Sales Order Item'],\n",
       " ['Material Availability Date passed',\n",
       "  'Create Sales Order',\n",
       "  'Create Sales Order Item'],\n",
       " ['Material Availability Date passed',\n",
       "  'Create Sales Order',\n",
       "  'Create Sales Order Item'],\n",
       " ['Material Availability Date passed',\n",
       "  'Create Sales Order',\n",
       "  'Create Sales Order Item'],\n",
       " ['Material Availability Date passed',\n",
       "  'Create Sales Order Item',\n",
       "  'Create Sales Order'],\n",
       " ['Material Availability Date passed',\n",
       "  'Create Sales Order',\n",
       "  'Create Sales Order Item'],\n",
       " ['Material Availability Date passed',\n",
       "  'Create Sales Order',\n",
       "  'Create Sales Order Item'],\n",
       " ['Material Availability Date passed',\n",
       "  'Create Sales Order',\n",
       "  'Create Sales Order Item'],\n",
       " ['Material Availability Date passed',\n",
       "  'Create Sales Order Item',\n",
       "  'Create Sales Order'],\n",
       " ['Material Availability Date passed',\n",
       "  'Create Sales Order',\n",
       "  'Create Sales Order Item'],\n",
       " ['Material Availability Date passed',\n",
       "  'Create Sales Order Item',\n",
       "  'Create Sales Order'],\n",
       " ['Material Availability Date passed',\n",
       "  'Create Sales Order Item',\n",
       "  'Create Sales Order'],\n",
       " ['Material Availability Date passed',\n",
       "  'Create Sales Order Item',\n",
       "  'Create Sales Order'],\n",
       " ['Material Availability Date passed',\n",
       "  'Create Sales Order',\n",
       "  'Create Sales Order Item'],\n",
       " ['Material Availability Date passed',\n",
       "  'Create Sales Order',\n",
       "  'Create Sales Order Item'],\n",
       " ['Material Availability Date passed',\n",
       "  'Create Sales Order Item',\n",
       "  'Create Sales Order'],\n",
       " ['Material Availability Date passed',\n",
       "  'Create Sales Order',\n",
       "  'Create Sales Order Item'],\n",
       " ['Material Availability Date passed',\n",
       "  'Create Sales Order',\n",
       "  'Create Sales Order Item'],\n",
       " ['Material Availability Date passed',\n",
       "  'Create Sales Order Item',\n",
       "  'Create Sales Order'],\n",
       " ['Material Availability Date passed',\n",
       "  'Create Sales Order Item',\n",
       "  'Create Sales Order'],\n",
       " ['Material Availability Date passed',\n",
       "  'Create Sales Order Item',\n",
       "  'Create Sales Order'],\n",
       " ['Material Availability Date passed',\n",
       "  'Create Sales Order',\n",
       "  'Create Sales Order Item'],\n",
       " ['Material Availability Date passed',\n",
       "  'Create Sales Order',\n",
       "  'Create Sales Order Item'],\n",
       " ['Material Availability Date passed',\n",
       "  'Create Sales Order',\n",
       "  'Create Sales Order Item'],\n",
       " ['Material Availability Date passed',\n",
       "  'Create Sales Order',\n",
       "  'Create Sales Order Item'],\n",
       " ['Material Availability Date passed',\n",
       "  'Create Sales Order',\n",
       "  'Create Sales Order Item'],\n",
       " ['Material Availability Date passed',\n",
       "  'Create Sales Order',\n",
       "  'Create Sales Order Item'],\n",
       " ['Material Availability Date passed',\n",
       "  'Create Sales Order Item',\n",
       "  'Create Sales Order'],\n",
       " ['Material Availability Date passed',\n",
       "  'Create Sales Order',\n",
       "  'Create Sales Order Item'],\n",
       " ['Material Availability Date passed',\n",
       "  'Create Sales Order Item',\n",
       "  'Create Sales Order'],\n",
       " ['Material Availability Date passed',\n",
       "  'Create Sales Order Item',\n",
       "  'Create Sales Order'],\n",
       " ['Material Availability Date passed',\n",
       "  'Create Sales Order',\n",
       "  'Create Sales Order Item'],\n",
       " ['Material Availability Date passed',\n",
       "  'Create Sales Order',\n",
       "  'Create Sales Order Item'],\n",
       " ['Material Availability Date passed',\n",
       "  'Create Sales Order',\n",
       "  'Create Sales Order Item'],\n",
       " ['Material Availability Date passed',\n",
       "  'Create Sales Order',\n",
       "  'Create Sales Order Item'],\n",
       " ['Material Availability Date passed',\n",
       "  'Create Sales Order',\n",
       "  'Create Sales Order Item'],\n",
       " ['Material Availability Date passed',\n",
       "  'Create Sales Order Item',\n",
       "  'Create Sales Order'],\n",
       " ['Material Availability Date passed',\n",
       "  'Create Sales Order',\n",
       "  'Create Sales Order Item'],\n",
       " ['Material Availability Date passed',\n",
       "  'Create Sales Order',\n",
       "  'Create Sales Order Item'],\n",
       " ['Material Availability Date passed',\n",
       "  'Create Sales Order',\n",
       "  'Create Sales Order Item'],\n",
       " ['Material Availability Date passed',\n",
       "  'Create Sales Order',\n",
       "  'Create Sales Order Item'],\n",
       " ['Material Availability Date passed',\n",
       "  'Create Sales Order',\n",
       "  'Create Sales Order Item'],\n",
       " ['Material Availability Date passed',\n",
       "  'Create Sales Order',\n",
       "  'Create Sales Order Item'],\n",
       " ['Material Availability Date passed',\n",
       "  'Create Sales Order Item',\n",
       "  'Create Sales Order'],\n",
       " ['Material Availability Date passed',\n",
       "  'Create Sales Order',\n",
       "  'Create Sales Order Item'],\n",
       " ['Material Availability Date passed',\n",
       "  'Create Sales Order Item',\n",
       "  'Create Sales Order'],\n",
       " ['Material Availability Date passed',\n",
       "  'Create Sales Order Item',\n",
       "  'Create Sales Order'],\n",
       " ['Material Availability Date passed',\n",
       "  'Create Sales Order',\n",
       "  'Create Sales Order Item'],\n",
       " ['Material Availability Date passed',\n",
       "  'Create Sales Order Item',\n",
       "  'Create Sales Order'],\n",
       " ['Material Availability Date passed',\n",
       "  'Create Sales Order Item',\n",
       "  'Create Sales Order'],\n",
       " ['Material Availability Date passed',\n",
       "  'Create Sales Order',\n",
       "  'Create Sales Order Item'],\n",
       " ['Material Availability Date passed',\n",
       "  'Create Sales Order Item',\n",
       "  'Create Sales Order'],\n",
       " ['Material Availability Date passed',\n",
       "  'Create Sales Order',\n",
       "  'Create Sales Order Item'],\n",
       " ['Material Availability Date passed',\n",
       "  'Create Sales Order Item',\n",
       "  'Create Sales Order'],\n",
       " ['Material Availability Date passed',\n",
       "  'Create Sales Order Item',\n",
       "  'Create Sales Order'],\n",
       " ['Material Availability Date passed',\n",
       "  'Create Sales Order Item',\n",
       "  'Create Sales Order'],\n",
       " ['Material Availability Date passed',\n",
       "  'Create Sales Order',\n",
       "  'Create Sales Order Item'],\n",
       " ['Material Availability Date passed',\n",
       "  'Create Sales Order',\n",
       "  'Create Sales Order Item'],\n",
       " ['Material Availability Date passed',\n",
       "  'Create Sales Order Item',\n",
       "  'Create Sales Order'],\n",
       " ['Material Availability Date passed',\n",
       "  'Create Sales Order Item',\n",
       "  'Create Sales Order'],\n",
       " ['Material Availability Date passed',\n",
       "  'Create Sales Order Item',\n",
       "  'Create Sales Order'],\n",
       " ['Material Availability Date passed',\n",
       "  'Create Sales Order',\n",
       "  'Create Sales Order Item'],\n",
       " ['Material Availability Date passed',\n",
       "  'Create Sales Order',\n",
       "  'Create Sales Order Item'],\n",
       " ['Material Availability Date passed',\n",
       "  'Create Sales Order',\n",
       "  'Create Sales Order Item'],\n",
       " ['Material Availability Date passed',\n",
       "  'Create Sales Order Item',\n",
       "  'Create Sales Order'],\n",
       " ['Material Availability Date passed',\n",
       "  'Create Sales Order',\n",
       "  'Create Sales Order Item'],\n",
       " ['Material Availability Date passed',\n",
       "  'Create Sales Order',\n",
       "  'Create Sales Order Item'],\n",
       " ['Material Availability Date passed',\n",
       "  'Create Sales Order',\n",
       "  'Create Sales Order Item'],\n",
       " ['Material Availability Date passed',\n",
       "  'Create Sales Order',\n",
       "  'Create Sales Order Item'],\n",
       " ['Material Availability Date passed',\n",
       "  'Create Sales Order',\n",
       "  'Create Sales Order Item'],\n",
       " ['Material Availability Date passed',\n",
       "  'Create Sales Order',\n",
       "  'Create Sales Order Item'],\n",
       " ['Material Availability Date passed',\n",
       "  'Create Sales Order',\n",
       "  'Create Sales Order Item'],\n",
       " ['Material Availability Date passed',\n",
       "  'Create Sales Order',\n",
       "  'Create Sales Order Item'],\n",
       " ['Material Availability Date passed',\n",
       "  'Create Sales Order',\n",
       "  'Create Sales Order Item'],\n",
       " ['Material Availability Date passed',\n",
       "  'Create Sales Order Item',\n",
       "  'Create Sales Order'],\n",
       " ['Material Availability Date passed',\n",
       "  'Create Sales Order',\n",
       "  'Create Sales Order Item'],\n",
       " ['Material Availability Date passed',\n",
       "  'Create Sales Order',\n",
       "  'Create Sales Order Item'],\n",
       " ['Material Availability Date passed',\n",
       "  'Create Sales Order Item',\n",
       "  'Create Sales Order'],\n",
       " ['Material Availability Date passed',\n",
       "  'Create Sales Order',\n",
       "  'Create Sales Order Item'],\n",
       " ['Material Availability Date passed',\n",
       "  'Create Sales Order',\n",
       "  'Create Sales Order Item'],\n",
       " ['Material Availability Date passed',\n",
       "  'Create Sales Order',\n",
       "  'Create Sales Order Item'],\n",
       " ['Material Availability Date passed',\n",
       "  'Create Sales Order',\n",
       "  'Create Sales Order Item'],\n",
       " ['Material Availability Date passed',\n",
       "  'Create Sales Order',\n",
       "  'Create Sales Order Item'],\n",
       " ['Material Availability Date passed',\n",
       "  'Create Sales Order Item',\n",
       "  'Create Sales Order'],\n",
       " ['Material Availability Date passed',\n",
       "  'Create Sales Order',\n",
       "  'Create Sales Order Item'],\n",
       " ['Material Availability Date passed',\n",
       "  'Create Sales Order Item',\n",
       "  'Create Sales Order'],\n",
       " ['Material Availability Date passed',\n",
       "  'Create Sales Order Item',\n",
       "  'Create Sales Order'],\n",
       " ['Material Availability Date passed',\n",
       "  'Create Sales Order',\n",
       "  'Create Sales Order Item'],\n",
       " ['Material Availability Date passed',\n",
       "  'Create Sales Order',\n",
       "  'Create Sales Order Item'],\n",
       " ['Material Availability Date passed',\n",
       "  'Create Sales Order',\n",
       "  'Create Sales Order Item'],\n",
       " ['Material Availability Date passed',\n",
       "  'Create Sales Order Item',\n",
       "  'Create Sales Order'],\n",
       " ['Material Availability Date passed',\n",
       "  'Create Sales Order Item',\n",
       "  'Create Sales Order'],\n",
       " ['Material Availability Date passed',\n",
       "  'Create Sales Order Item',\n",
       "  'Create Sales Order'],\n",
       " ['Material Availability Date passed',\n",
       "  'Create Sales Order',\n",
       "  'Create Sales Order Item'],\n",
       " ['Material Availability Date passed',\n",
       "  'Create Sales Order',\n",
       "  'Create Sales Order Item'],\n",
       " ['Material Availability Date passed',\n",
       "  'Create Sales Order Item',\n",
       "  'Create Sales Order'],\n",
       " ['Material Availability Date passed',\n",
       "  'Create Sales Order',\n",
       "  'Create Sales Order Item'],\n",
       " ['Material Availability Date passed',\n",
       "  'Create Sales Order Item',\n",
       "  'Create Sales Order'],\n",
       " ['Material Availability Date passed',\n",
       "  'Create Sales Order',\n",
       "  'Create Sales Order Item'],\n",
       " ['Material Availability Date passed',\n",
       "  'Create Sales Order',\n",
       "  'Create Sales Order Item'],\n",
       " ['Material Availability Date passed',\n",
       "  'Create Sales Order',\n",
       "  'Create Sales Order Item'],\n",
       " ['Material Availability Date passed',\n",
       "  'Create Sales Order',\n",
       "  'Create Sales Order Item'],\n",
       " ['Material Availability Date passed',\n",
       "  'Create Sales Order Item',\n",
       "  'Create Sales Order'],\n",
       " ['Material Availability Date passed',\n",
       "  'Create Sales Order Item',\n",
       "  'Create Sales Order'],\n",
       " ['Material Availability Date passed',\n",
       "  'Create Sales Order',\n",
       "  'Create Sales Order Item'],\n",
       " ['Material Availability Date passed',\n",
       "  'Create Sales Order',\n",
       "  'Create Sales Order Item'],\n",
       " ['Material Availability Date passed',\n",
       "  'Create Sales Order',\n",
       "  'Create Sales Order Item'],\n",
       " ['Material Availability Date passed',\n",
       "  'Create Sales Order Item',\n",
       "  'Create Sales Order'],\n",
       " ['Material Availability Date passed',\n",
       "  'Create Sales Order Item',\n",
       "  'Create Sales Order'],\n",
       " ['Material Availability Date passed',\n",
       "  'Create Sales Order',\n",
       "  'Create Sales Order Item'],\n",
       " ['Material Availability Date passed',\n",
       "  'Create Sales Order',\n",
       "  'Create Sales Order Item'],\n",
       " ['Material Availability Date passed',\n",
       "  'Create Sales Order',\n",
       "  'Create Sales Order Item'],\n",
       " ['Material Availability Date passed',\n",
       "  'Create Sales Order',\n",
       "  'Create Sales Order Item'],\n",
       " ['Material Availability Date passed',\n",
       "  'Create Sales Order',\n",
       "  'Create Sales Order Item'],\n",
       " ['Material Availability Date passed',\n",
       "  'Create Sales Order Item',\n",
       "  'Create Sales Order'],\n",
       " ['Material Availability Date passed',\n",
       "  'Create Sales Order Item',\n",
       "  'Create Sales Order'],\n",
       " ['Material Availability Date passed',\n",
       "  'Create Sales Order Item',\n",
       "  'Create Sales Order'],\n",
       " ['Material Availability Date passed',\n",
       "  'Create Sales Order',\n",
       "  'Create Sales Order Item'],\n",
       " ['Material Availability Date passed',\n",
       "  'Create Sales Order',\n",
       "  'Create Sales Order Item'],\n",
       " ['Material Availability Date passed',\n",
       "  'Create Sales Order',\n",
       "  'Create Sales Order Item'],\n",
       " ['Material Availability Date passed',\n",
       "  'Create Sales Order',\n",
       "  'Create Sales Order Item'],\n",
       " ['Material Availability Date passed',\n",
       "  'Create Sales Order',\n",
       "  'Create Sales Order Item'],\n",
       " ['Material Availability Date passed',\n",
       "  'Create Sales Order',\n",
       "  'Create Sales Order Item'],\n",
       " ['Material Availability Date passed',\n",
       "  'Create Sales Order Item',\n",
       "  'Create Sales Order'],\n",
       " ['Material Availability Date passed',\n",
       "  'Create Sales Order Item',\n",
       "  'Create Sales Order'],\n",
       " ['Material Availability Date passed',\n",
       "  'Create Sales Order',\n",
       "  'Create Sales Order Item'],\n",
       " ['Material Availability Date passed',\n",
       "  'Create Sales Order',\n",
       "  'Create Sales Order Item'],\n",
       " ['Material Availability Date passed',\n",
       "  'Create Sales Order Item',\n",
       "  'Create Sales Order'],\n",
       " ['Material Availability Date passed',\n",
       "  'Create Sales Order',\n",
       "  'Create Sales Order Item'],\n",
       " ['Material Availability Date passed',\n",
       "  'Create Sales Order',\n",
       "  'Create Sales Order Item'],\n",
       " ['Material Availability Date passed',\n",
       "  'Create Sales Order',\n",
       "  'Create Sales Order Item'],\n",
       " ['Material Availability Date passed',\n",
       "  'Create Sales Order',\n",
       "  'Create Sales Order Item'],\n",
       " ['Material Availability Date passed',\n",
       "  'Create Sales Order',\n",
       "  'Create Sales Order Item'],\n",
       " ['Material Availability Date passed',\n",
       "  'Create Sales Order Item',\n",
       "  'Create Sales Order'],\n",
       " ['Material Availability Date passed',\n",
       "  'Create Sales Order',\n",
       "  'Create Sales Order Item'],\n",
       " ['Material Availability Date passed',\n",
       "  'Create Sales Order',\n",
       "  'Create Sales Order Item'],\n",
       " ['Material Availability Date passed',\n",
       "  'Create Sales Order',\n",
       "  'Create Sales Order Item'],\n",
       " ['Material Availability Date passed',\n",
       "  'Create Sales Order',\n",
       "  'Create Sales Order Item'],\n",
       " ['Material Availability Date passed',\n",
       "  'Create Sales Order',\n",
       "  'Create Sales Order Item'],\n",
       " ['Material Availability Date passed',\n",
       "  'Create Sales Order',\n",
       "  'Create Sales Order Item'],\n",
       " ['Material Availability Date passed',\n",
       "  'Create Sales Order',\n",
       "  'Create Sales Order Item'],\n",
       " ['Material Availability Date passed',\n",
       "  'Create Sales Order Item',\n",
       "  'Create Sales Order'],\n",
       " ['Material Availability Date passed',\n",
       "  'Create Sales Order',\n",
       "  'Create Sales Order Item'],\n",
       " ['Material Availability Date passed',\n",
       "  'Create Sales Order Item',\n",
       "  'Create Sales Order'],\n",
       " ['Material Availability Date passed',\n",
       "  'Create Sales Order Item',\n",
       "  'Create Sales Order'],\n",
       " ['Material Availability Date passed',\n",
       "  'Create Sales Order Item',\n",
       "  'Create Sales Order'],\n",
       " ['Material Availability Date passed',\n",
       "  'Create Sales Order',\n",
       "  'Create Sales Order Item'],\n",
       " ['Material Availability Date passed',\n",
       "  'Create Sales Order Item',\n",
       "  'Create Sales Order'],\n",
       " ['Material Availability Date passed',\n",
       "  'Create Sales Order',\n",
       "  'Create Sales Order Item'],\n",
       " ['Material Availability Date passed',\n",
       "  'Create Sales Order',\n",
       "  'Create Sales Order Item'],\n",
       " ['Material Availability Date passed',\n",
       "  'Create Sales Order Item',\n",
       "  'Create Sales Order'],\n",
       " ['Material Availability Date passed',\n",
       "  'Create Sales Order',\n",
       "  'Create Sales Order Item'],\n",
       " ['Material Availability Date passed',\n",
       "  'Create Sales Order',\n",
       "  'Create Sales Order Item'],\n",
       " ['Material Availability Date passed',\n",
       "  'Create Sales Order',\n",
       "  'Create Sales Order Item'],\n",
       " ['Material Availability Date passed',\n",
       "  'Create Sales Order Item',\n",
       "  'Create Sales Order'],\n",
       " ['Material Availability Date passed',\n",
       "  'Create Sales Order',\n",
       "  'Create Sales Order Item'],\n",
       " ['Material Availability Date passed',\n",
       "  'Create Sales Order',\n",
       "  'Create Sales Order Item'],\n",
       " ['Material Availability Date passed',\n",
       "  'Create Sales Order Item',\n",
       "  'Create Sales Order'],\n",
       " ['Material Availability Date passed',\n",
       "  'Create Sales Order Item',\n",
       "  'Create Sales Order'],\n",
       " ['Material Availability Date passed',\n",
       "  'Create Sales Order',\n",
       "  'Create Sales Order Item'],\n",
       " ['Material Availability Date passed',\n",
       "  'Create Sales Order',\n",
       "  'Create Sales Order Item'],\n",
       " ['Material Availability Date passed',\n",
       "  'Create Sales Order',\n",
       "  'Create Sales Order Item'],\n",
       " ['Material Availability Date passed',\n",
       "  'Create Sales Order Item',\n",
       "  'Create Sales Order'],\n",
       " ['Material Availability Date passed',\n",
       "  'Create Sales Order Item',\n",
       "  'Create Sales Order'],\n",
       " ['Material Availability Date passed',\n",
       "  'Create Sales Order Item',\n",
       "  'Create Sales Order'],\n",
       " ['Material Availability Date passed',\n",
       "  'Create Sales Order',\n",
       "  'Create Sales Order Item'],\n",
       " ['Material Availability Date passed',\n",
       "  'Create Sales Order Item',\n",
       "  'Create Sales Order'],\n",
       " ['Material Availability Date passed',\n",
       "  'Create Sales Order',\n",
       "  'Create Sales Order Item'],\n",
       " ['Material Availability Date passed',\n",
       "  'Create Sales Order Item',\n",
       "  'Create Sales Order'],\n",
       " ['Material Availability Date passed',\n",
       "  'Create Sales Order',\n",
       "  'Create Sales Order Item'],\n",
       " ['Material Availability Date passed',\n",
       "  'Create Sales Order Item',\n",
       "  'Create Sales Order'],\n",
       " ['Material Availability Date passed',\n",
       "  'Create Sales Order',\n",
       "  'Create Sales Order Item'],\n",
       " ['Material Availability Date passed',\n",
       "  'Create Sales Order Item',\n",
       "  'Create Sales Order'],\n",
       " ['Material Availability Date passed',\n",
       "  'Create Sales Order',\n",
       "  'Create Sales Order Item'],\n",
       " ['Material Availability Date passed',\n",
       "  'Create Sales Order',\n",
       "  'Create Sales Order Item'],\n",
       " ['Material Availability Date passed',\n",
       "  'Create Sales Order',\n",
       "  'Create Sales Order Item'],\n",
       " ['Material Availability Date passed',\n",
       "  'Create Sales Order',\n",
       "  'Create Sales Order Item'],\n",
       " ['Material Availability Date passed',\n",
       "  'Create Sales Order',\n",
       "  'Create Sales Order Item'],\n",
       " ['Material Availability Date passed',\n",
       "  'Create Sales Order',\n",
       "  'Create Sales Order Item'],\n",
       " ['Material Availability Date passed',\n",
       "  'Create Sales Order Item',\n",
       "  'Create Sales Order'],\n",
       " ['Material Availability Date passed',\n",
       "  'Create Sales Order',\n",
       "  'Create Sales Order Item'],\n",
       " ['Material Availability Date passed',\n",
       "  'Create Sales Order Item',\n",
       "  'Create Sales Order'],\n",
       " ['Material Availability Date passed',\n",
       "  'Create Sales Order Item',\n",
       "  'Create Sales Order'],\n",
       " ['Material Availability Date passed',\n",
       "  'Create Sales Order',\n",
       "  'Create Sales Order Item'],\n",
       " ['Material Availability Date passed',\n",
       "  'Create Sales Order Item',\n",
       "  'Create Sales Order'],\n",
       " ['Material Availability Date passed',\n",
       "  'Create Sales Order',\n",
       "  'Create Sales Order Item'],\n",
       " ['Material Availability Date passed',\n",
       "  'Create Sales Order',\n",
       "  'Create Sales Order Item'],\n",
       " ['Material Availability Date passed',\n",
       "  'Create Sales Order',\n",
       "  'Create Sales Order Item'],\n",
       " ['Material Availability Date passed',\n",
       "  'Create Sales Order Item',\n",
       "  'Create Sales Order'],\n",
       " ['Material Availability Date passed',\n",
       "  'Create Sales Order',\n",
       "  'Create Sales Order Item'],\n",
       " ['Material Availability Date passed',\n",
       "  'Create Sales Order',\n",
       "  'Create Sales Order Item'],\n",
       " ['Material Availability Date passed',\n",
       "  'Create Sales Order',\n",
       "  'Create Sales Order Item'],\n",
       " ['Material Availability Date passed',\n",
       "  'Create Sales Order',\n",
       "  'Create Sales Order Item'],\n",
       " ['Material Availability Date passed',\n",
       "  'Create Sales Order',\n",
       "  'Create Sales Order Item'],\n",
       " ['Material Availability Date passed',\n",
       "  'Create Sales Order',\n",
       "  'Create Sales Order Item'],\n",
       " ['Material Availability Date passed',\n",
       "  'Create Sales Order',\n",
       "  'Create Sales Order Item'],\n",
       " ['Material Availability Date passed',\n",
       "  'Create Sales Order Item',\n",
       "  'Create Sales Order'],\n",
       " ['Material Availability Date passed',\n",
       "  'Create Sales Order',\n",
       "  'Create Sales Order Item'],\n",
       " ['Material Availability Date passed',\n",
       "  'Create Sales Order',\n",
       "  'Create Sales Order Item'],\n",
       " ['Material Availability Date passed',\n",
       "  'Create Sales Order',\n",
       "  'Create Sales Order Item'],\n",
       " ['Material Availability Date passed',\n",
       "  'Create Sales Order',\n",
       "  'Create Sales Order Item'],\n",
       " ['Material Availability Date passed',\n",
       "  'Create Sales Order',\n",
       "  'Create Sales Order Item'],\n",
       " ['Material Availability Date passed',\n",
       "  'Create Sales Order',\n",
       "  'Create Sales Order Item'],\n",
       " ['Material Availability Date passed',\n",
       "  'Create Sales Order',\n",
       "  'Create Sales Order Item'],\n",
       " ['Material Availability Date passed',\n",
       "  'Create Sales Order',\n",
       "  'Create Sales Order Item'],\n",
       " ['Material Availability Date passed',\n",
       "  'Create Sales Order',\n",
       "  'Create Sales Order Item'],\n",
       " ['Material Availability Date passed',\n",
       "  'Create Sales Order Item',\n",
       "  'Create Sales Order'],\n",
       " ['Material Availability Date passed',\n",
       "  'Create Sales Order',\n",
       "  'Create Sales Order Item'],\n",
       " ['Material Availability Date passed',\n",
       "  'Create Sales Order Item',\n",
       "  'Create Sales Order'],\n",
       " ['Material Availability Date passed',\n",
       "  'Create Sales Order',\n",
       "  'Create Sales Order Item'],\n",
       " ['Material Availability Date passed',\n",
       "  'Create Sales Order Item',\n",
       "  'Create Sales Order'],\n",
       " ['Material Availability Date passed',\n",
       "  'Create Sales Order',\n",
       "  'Create Sales Order Item'],\n",
       " ['Material Availability Date passed',\n",
       "  'Create Sales Order',\n",
       "  'Create Sales Order Item'],\n",
       " ['Material Availability Date passed',\n",
       "  'Create Sales Order',\n",
       "  'Create Sales Order Item'],\n",
       " ['Material Availability Date passed',\n",
       "  'Create Sales Order',\n",
       "  'Create Sales Order Item'],\n",
       " ['Material Availability Date passed',\n",
       "  'Create Sales Order',\n",
       "  'Create Sales Order Item'],\n",
       " ['Material Availability Date passed',\n",
       "  'Create Sales Order',\n",
       "  'Create Sales Order Item'],\n",
       " ['Material Availability Date passed',\n",
       "  'Create Sales Order Item',\n",
       "  'Create Sales Order'],\n",
       " ['Material Availability Date passed',\n",
       "  'Create Sales Order Item',\n",
       "  'Create Sales Order'],\n",
       " ['Material Availability Date passed',\n",
       "  'Create Sales Order Item',\n",
       "  'Create Sales Order'],\n",
       " ['Material Availability Date passed',\n",
       "  'Create Sales Order Item',\n",
       "  'Create Sales Order'],\n",
       " ['Material Availability Date passed',\n",
       "  'Create Sales Order',\n",
       "  'Create Sales Order Item'],\n",
       " ['Material Availability Date passed',\n",
       "  'Create Sales Order',\n",
       "  'Create Sales Order Item'],\n",
       " ['Material Availability Date passed',\n",
       "  'Create Sales Order',\n",
       "  'Create Sales Order Item'],\n",
       " ['Material Availability Date passed',\n",
       "  'Create Sales Order Item',\n",
       "  'Create Sales Order'],\n",
       " ['Material Availability Date passed',\n",
       "  'Create Sales Order Item',\n",
       "  'Create Sales Order'],\n",
       " ['Material Availability Date passed',\n",
       "  'Create Sales Order',\n",
       "  'Create Sales Order Item'],\n",
       " ['Material Availability Date passed',\n",
       "  'Create Sales Order',\n",
       "  'Create Sales Order Item'],\n",
       " ['Material Availability Date passed',\n",
       "  'Create Sales Order',\n",
       "  'Create Sales Order Item'],\n",
       " ['Material Availability Date passed',\n",
       "  'Create Sales Order',\n",
       "  'Create Sales Order Item'],\n",
       " ['Material Availability Date passed',\n",
       "  'Create Sales Order',\n",
       "  'Create Sales Order Item'],\n",
       " ['Material Availability Date passed',\n",
       "  'Create Sales Order Item',\n",
       "  'Create Sales Order'],\n",
       " ['Material Availability Date passed',\n",
       "  'Create Sales Order',\n",
       "  'Create Sales Order Item'],\n",
       " ['Material Availability Date passed',\n",
       "  'Create Sales Order Item',\n",
       "  'Create Sales Order'],\n",
       " ['Material Availability Date passed',\n",
       "  'Create Sales Order',\n",
       "  'Create Sales Order Item'],\n",
       " ['Material Availability Date passed',\n",
       "  'Create Sales Order',\n",
       "  'Create Sales Order Item'],\n",
       " ['Material Availability Date passed',\n",
       "  'Create Sales Order',\n",
       "  'Create Sales Order Item'],\n",
       " ['Material Availability Date passed',\n",
       "  'Create Sales Order',\n",
       "  'Create Sales Order Item'],\n",
       " ['Material Availability Date passed',\n",
       "  'Create Sales Order',\n",
       "  'Create Sales Order Item'],\n",
       " ['Material Availability Date passed',\n",
       "  'Create Sales Order',\n",
       "  'Create Sales Order Item'],\n",
       " ['Material Availability Date passed',\n",
       "  'Create Sales Order',\n",
       "  'Create Sales Order Item'],\n",
       " ['Material Availability Date passed',\n",
       "  'Create Sales Order',\n",
       "  'Create Sales Order Item'],\n",
       " ['Material Availability Date passed',\n",
       "  'Create Sales Order',\n",
       "  'Create Sales Order Item'],\n",
       " ['Material Availability Date passed',\n",
       "  'Create Sales Order',\n",
       "  'Create Sales Order Item'],\n",
       " ['Material Availability Date passed',\n",
       "  'Create Sales Order',\n",
       "  'Create Sales Order Item'],\n",
       " ['Material Availability Date passed',\n",
       "  'Create Sales Order',\n",
       "  'Create Sales Order Item'],\n",
       " ['Material Availability Date passed',\n",
       "  'Create Sales Order',\n",
       "  'Create Sales Order Item'],\n",
       " ['Material Availability Date passed',\n",
       "  'Create Sales Order Item',\n",
       "  'Create Sales Order'],\n",
       " ['Material Availability Date passed',\n",
       "  'Create Sales Order',\n",
       "  'Create Sales Order Item'],\n",
       " ['Material Availability Date passed',\n",
       "  'Create Sales Order Item',\n",
       "  'Create Sales Order'],\n",
       " ['Material Availability Date passed',\n",
       "  'Create Sales Order',\n",
       "  'Create Sales Order Item'],\n",
       " ['Material Availability Date passed',\n",
       "  'Create Sales Order Item',\n",
       "  'Create Sales Order'],\n",
       " ['Material Availability Date passed',\n",
       "  'Create Sales Order',\n",
       "  'Create Sales Order Item'],\n",
       " ['Material Availability Date passed',\n",
       "  'Create Sales Order',\n",
       "  'Create Sales Order Item'],\n",
       " ['Material Availability Date passed',\n",
       "  'Create Sales Order Item',\n",
       "  'Create Sales Order'],\n",
       " ['Material Availability Date passed',\n",
       "  'Create Sales Order Item',\n",
       "  'Create Sales Order'],\n",
       " ['Material Availability Date passed',\n",
       "  'Create Sales Order Item',\n",
       "  'Create Sales Order'],\n",
       " ['Material Availability Date passed',\n",
       "  'Create Sales Order',\n",
       "  'Create Sales Order Item'],\n",
       " ['Material Availability Date passed',\n",
       "  'Create Sales Order Item',\n",
       "  'Create Sales Order'],\n",
       " ['Material Availability Date passed',\n",
       "  'Create Sales Order',\n",
       "  'Create Sales Order Item'],\n",
       " ['Material Availability Date passed',\n",
       "  'Create Sales Order Item',\n",
       "  'Create Sales Order'],\n",
       " ['Material Availability Date passed',\n",
       "  'Create Sales Order',\n",
       "  'Create Sales Order Item'],\n",
       " ['Material Availability Date passed',\n",
       "  'Create Sales Order',\n",
       "  'Create Sales Order Item'],\n",
       " ['Material Availability Date passed',\n",
       "  'Create Sales Order Item',\n",
       "  'Create Sales Order'],\n",
       " ['Material Availability Date passed',\n",
       "  'Create Sales Order',\n",
       "  'Create Sales Order Item'],\n",
       " ['Material Availability Date passed',\n",
       "  'Create Sales Order Item',\n",
       "  'Create Sales Order'],\n",
       " ['Material Availability Date passed',\n",
       "  'Create Sales Order Item',\n",
       "  'Create Sales Order'],\n",
       " ['Material Availability Date passed',\n",
       "  'Create Sales Order',\n",
       "  'Create Sales Order Item'],\n",
       " ['Material Availability Date passed',\n",
       "  'Create Sales Order',\n",
       "  'Create Sales Order Item'],\n",
       " ['Material Availability Date passed',\n",
       "  'Create Sales Order',\n",
       "  'Create Sales Order Item'],\n",
       " ['Material Availability Date passed',\n",
       "  'Create Sales Order Item',\n",
       "  'Create Sales Order'],\n",
       " ['Material Availability Date passed',\n",
       "  'Create Sales Order',\n",
       "  'Create Sales Order Item'],\n",
       " ['Material Availability Date passed',\n",
       "  'Create Sales Order',\n",
       "  'Create Sales Order Item'],\n",
       " ['Material Availability Date passed',\n",
       "  'Create Sales Order',\n",
       "  'Create Sales Order Item'],\n",
       " ['Material Availability Date passed',\n",
       "  'Create Sales Order Item',\n",
       "  'Create Sales Order'],\n",
       " ['Material Availability Date passed',\n",
       "  'Create Sales Order Item',\n",
       "  'Create Sales Order'],\n",
       " ['Material Availability Date passed',\n",
       "  'Create Sales Order Item',\n",
       "  'Create Sales Order'],\n",
       " ['Material Availability Date passed',\n",
       "  'Create Sales Order Item',\n",
       "  'Create Sales Order'],\n",
       " ['Material Availability Date passed',\n",
       "  'Create Sales Order',\n",
       "  'Create Sales Order Item'],\n",
       " ['Material Availability Date passed',\n",
       "  'Create Sales Order',\n",
       "  'Create Sales Order Item'],\n",
       " ['Material Availability Date passed',\n",
       "  'Create Sales Order Item',\n",
       "  'Create Sales Order'],\n",
       " ['Material Availability Date passed',\n",
       "  'Create Sales Order',\n",
       "  'Create Sales Order Item'],\n",
       " ['Material Availability Date passed',\n",
       "  'Create Sales Order',\n",
       "  'Create Sales Order Item'],\n",
       " ['Material Availability Date passed',\n",
       "  'Create Sales Order',\n",
       "  'Create Sales Order Item'],\n",
       " ['Material Availability Date passed',\n",
       "  'Create Sales Order',\n",
       "  'Create Sales Order Item'],\n",
       " ['Material Availability Date passed',\n",
       "  'Create Sales Order',\n",
       "  'Create Sales Order Item'],\n",
       " ['Material Availability Date passed',\n",
       "  'Create Sales Order',\n",
       "  'Create Sales Order Item'],\n",
       " ['Material Availability Date passed',\n",
       "  'Create Sales Order',\n",
       "  'Create Sales Order Item'],\n",
       " ['Material Availability Date passed',\n",
       "  'Create Sales Order',\n",
       "  'Create Sales Order Item'],\n",
       " ['Material Availability Date passed',\n",
       "  'Create Sales Order',\n",
       "  'Create Sales Order Item'],\n",
       " ['Material Availability Date passed',\n",
       "  'Create Sales Order',\n",
       "  'Create Sales Order Item'],\n",
       " ['Material Availability Date passed',\n",
       "  'Create Sales Order Item',\n",
       "  'Create Sales Order'],\n",
       " ['Material Availability Date passed',\n",
       "  'Create Sales Order Item',\n",
       "  'Create Sales Order'],\n",
       " ['Material Availability Date passed',\n",
       "  'Create Sales Order',\n",
       "  'Create Sales Order Item'],\n",
       " ['Material Availability Date passed',\n",
       "  'Create Sales Order',\n",
       "  'Create Sales Order Item'],\n",
       " ['Material Availability Date passed',\n",
       "  'Create Sales Order',\n",
       "  'Create Sales Order Item'],\n",
       " ['Material Availability Date passed',\n",
       "  'Create Sales Order',\n",
       "  'Create Sales Order Item'],\n",
       " ['Material Availability Date passed',\n",
       "  'Create Sales Order',\n",
       "  'Create Sales Order Item'],\n",
       " ['Material Availability Date passed',\n",
       "  'Create Sales Order',\n",
       "  'Create Sales Order Item'],\n",
       " ['Material Availability Date passed',\n",
       "  'Create Sales Order',\n",
       "  'Create Sales Order Item'],\n",
       " ['Material Availability Date passed',\n",
       "  'Create Sales Order',\n",
       "  'Create Sales Order Item'],\n",
       " ['Material Availability Date passed',\n",
       "  'Create Sales Order',\n",
       "  'Create Sales Order Item'],\n",
       " ['Material Availability Date passed',\n",
       "  'Create Sales Order',\n",
       "  'Create Sales Order Item'],\n",
       " ['Material Availability Date passed',\n",
       "  'Create Sales Order',\n",
       "  'Create Sales Order Item'],\n",
       " ['Material Availability Date passed',\n",
       "  'Create Sales Order',\n",
       "  'Create Sales Order Item'],\n",
       " ['Material Availability Date passed',\n",
       "  'Create Sales Order',\n",
       "  'Create Sales Order Item'],\n",
       " ['Material Availability Date passed',\n",
       "  'Create Sales Order',\n",
       "  'Create Sales Order Item'],\n",
       " ['Material Availability Date passed',\n",
       "  'Create Sales Order Item',\n",
       "  'Create Sales Order'],\n",
       " ['Material Availability Date passed',\n",
       "  'Create Sales Order',\n",
       "  'Create Sales Order Item'],\n",
       " ['Material Availability Date passed',\n",
       "  'Create Sales Order Item',\n",
       "  'Create Sales Order'],\n",
       " ['Material Availability Date passed',\n",
       "  'Create Sales Order',\n",
       "  'Create Sales Order Item'],\n",
       " ['Material Availability Date passed',\n",
       "  'Create Sales Order',\n",
       "  'Create Sales Order Item'],\n",
       " ['Material Availability Date passed',\n",
       "  'Create Sales Order',\n",
       "  'Create Sales Order Item'],\n",
       " ['Material Availability Date passed',\n",
       "  'Create Sales Order',\n",
       "  'Create Sales Order Item'],\n",
       " ['Material Availability Date passed',\n",
       "  'Create Sales Order',\n",
       "  'Create Sales Order Item'],\n",
       " ['Material Availability Date passed',\n",
       "  'Create Sales Order',\n",
       "  'Create Sales Order Item'],\n",
       " ['Material Availability Date passed',\n",
       "  'Create Sales Order',\n",
       "  'Create Sales Order Item'],\n",
       " ['Material Availability Date passed',\n",
       "  'Create Sales Order Item',\n",
       "  'Create Sales Order'],\n",
       " ['Material Availability Date passed',\n",
       "  'Create Sales Order',\n",
       "  'Create Sales Order Item'],\n",
       " ['Material Availability Date passed',\n",
       "  'Create Sales Order',\n",
       "  'Create Sales Order Item'],\n",
       " ['Material Availability Date passed',\n",
       "  'Create Sales Order',\n",
       "  'Create Sales Order Item'],\n",
       " ['Material Availability Date passed',\n",
       "  'Create Sales Order Item',\n",
       "  'Create Sales Order'],\n",
       " ['Material Availability Date passed',\n",
       "  'Create Sales Order Item',\n",
       "  'Create Sales Order'],\n",
       " ['Material Availability Date passed',\n",
       "  'Create Sales Order Item',\n",
       "  'Create Sales Order'],\n",
       " ['Material Availability Date passed',\n",
       "  'Create Sales Order',\n",
       "  'Create Sales Order Item'],\n",
       " ['Material Availability Date passed',\n",
       "  'Create Sales Order',\n",
       "  'Create Sales Order Item'],\n",
       " ['Material Availability Date passed',\n",
       "  'Create Sales Order',\n",
       "  'Create Sales Order Item'],\n",
       " ['Material Availability Date passed',\n",
       "  'Create Sales Order',\n",
       "  'Create Sales Order Item'],\n",
       " ['Material Availability Date passed',\n",
       "  'Create Sales Order Item',\n",
       "  'Create Sales Order'],\n",
       " ['Material Availability Date passed',\n",
       "  'Create Sales Order',\n",
       "  'Create Sales Order Item'],\n",
       " ['Material Availability Date passed',\n",
       "  'Create Sales Order',\n",
       "  'Create Sales Order Item'],\n",
       " ['Material Availability Date passed',\n",
       "  'Create Sales Order',\n",
       "  'Create Sales Order Item'],\n",
       " ['Material Availability Date passed',\n",
       "  'Create Sales Order Item',\n",
       "  'Create Sales Order'],\n",
       " ['Material Availability Date passed',\n",
       "  'Create Sales Order',\n",
       "  'Create Sales Order Item'],\n",
       " ['Material Availability Date passed',\n",
       "  'Create Sales Order',\n",
       "  'Create Sales Order Item'],\n",
       " ['Material Availability Date passed',\n",
       "  'Create Sales Order',\n",
       "  'Create Sales Order Item'],\n",
       " ['Material Availability Date passed',\n",
       "  'Create Sales Order Item',\n",
       "  'Create Sales Order'],\n",
       " ['Material Availability Date passed',\n",
       "  'Create Sales Order Item',\n",
       "  'Create Sales Order'],\n",
       " ['Material Availability Date passed',\n",
       "  'Create Sales Order',\n",
       "  'Create Sales Order Item'],\n",
       " ['Material Availability Date passed',\n",
       "  'Create Sales Order',\n",
       "  'Create Sales Order Item'],\n",
       " ['Material Availability Date passed',\n",
       "  'Create Sales Order',\n",
       "  'Create Sales Order Item'],\n",
       " ['Material Availability Date passed',\n",
       "  'Create Sales Order',\n",
       "  'Create Sales Order Item'],\n",
       " ['Material Availability Date passed',\n",
       "  'Create Sales Order',\n",
       "  'Create Sales Order Item'],\n",
       " ['Material Availability Date passed',\n",
       "  'Create Sales Order',\n",
       "  'Create Sales Order Item'],\n",
       " ['Material Availability Date passed',\n",
       "  'Create Sales Order',\n",
       "  'Create Sales Order Item'],\n",
       " ['Material Availability Date passed',\n",
       "  'Create Sales Order',\n",
       "  'Create Sales Order Item'],\n",
       " ['Material Availability Date passed',\n",
       "  'Create Sales Order',\n",
       "  'Create Sales Order Item'],\n",
       " ['Material Availability Date passed',\n",
       "  'Create Sales Order',\n",
       "  'Create Sales Order Item'],\n",
       " ['Material Availability Date passed',\n",
       "  'Create Sales Order',\n",
       "  'Create Sales Order Item'],\n",
       " ['Material Availability Date passed',\n",
       "  'Create Sales Order',\n",
       "  'Create Sales Order Item'],\n",
       " ['Material Availability Date passed',\n",
       "  'Create Sales Order',\n",
       "  'Create Sales Order Item'],\n",
       " ['Material Availability Date passed',\n",
       "  'Create Sales Order',\n",
       "  'Create Sales Order Item'],\n",
       " ['Material Availability Date passed',\n",
       "  'Create Sales Order',\n",
       "  'Create Sales Order Item'],\n",
       " ['Material Availability Date passed',\n",
       "  'Create Sales Order',\n",
       "  'Create Sales Order Item'],\n",
       " ['Material Availability Date passed',\n",
       "  'Create Sales Order',\n",
       "  'Create Sales Order Item'],\n",
       " ['Material Availability Date passed',\n",
       "  'Create Sales Order',\n",
       "  'Create Sales Order Item'],\n",
       " ['Material Availability Date passed',\n",
       "  'Create Sales Order',\n",
       "  'Create Sales Order Item'],\n",
       " ['Material Availability Date passed',\n",
       "  'Create Sales Order',\n",
       "  'Create Sales Order Item'],\n",
       " ['Material Availability Date passed',\n",
       "  'Create Sales Order',\n",
       "  'Create Sales Order Item'],\n",
       " ['Material Availability Date passed',\n",
       "  'Create Sales Order',\n",
       "  'Create Sales Order Item'],\n",
       " ['Material Availability Date passed',\n",
       "  'Create Sales Order',\n",
       "  'Create Sales Order Item'],\n",
       " ['Material Availability Date passed',\n",
       "  'Create Sales Order',\n",
       "  'Create Sales Order Item'],\n",
       " ['Material Availability Date passed',\n",
       "  'Create Sales Order Item',\n",
       "  'Create Sales Order'],\n",
       " ['Material Availability Date passed',\n",
       "  'Create Sales Order',\n",
       "  'Create Sales Order Item'],\n",
       " ['Material Availability Date passed',\n",
       "  'Create Sales Order',\n",
       "  'Create Sales Order Item'],\n",
       " ['Material Availability Date passed',\n",
       "  'Create Sales Order',\n",
       "  'Create Sales Order Item'],\n",
       " ['Material Availability Date passed',\n",
       "  'Create Sales Order',\n",
       "  'Create Sales Order Item'],\n",
       " ['Material Availability Date passed',\n",
       "  'Create Sales Order',\n",
       "  'Create Sales Order Item'],\n",
       " ['Material Availability Date passed',\n",
       "  'Create Sales Order',\n",
       "  'Create Sales Order Item'],\n",
       " ['Material Availability Date passed',\n",
       "  'Create Sales Order',\n",
       "  'Create Sales Order Item'],\n",
       " ['Material Availability Date passed',\n",
       "  'Create Sales Order',\n",
       "  'Create Sales Order Item'],\n",
       " ['Material Availability Date passed',\n",
       "  'Create Sales Order',\n",
       "  'Create Sales Order Item'],\n",
       " ['Material Availability Date passed',\n",
       "  'Create Sales Order',\n",
       "  'Create Sales Order Item'],\n",
       " ['Material Availability Date passed',\n",
       "  'Create Sales Order Item',\n",
       "  'Create Sales Order'],\n",
       " ['Material Availability Date passed',\n",
       "  'Create Sales Order Item',\n",
       "  'Create Sales Order'],\n",
       " ['Material Availability Date passed',\n",
       "  'Create Sales Order Item',\n",
       "  'Create Sales Order'],\n",
       " ['Material Availability Date passed',\n",
       "  'Create Sales Order',\n",
       "  'Create Sales Order Item'],\n",
       " ['Material Availability Date passed',\n",
       "  'Create Sales Order',\n",
       "  'Create Sales Order Item'],\n",
       " ['Material Availability Date passed',\n",
       "  'Create Sales Order',\n",
       "  'Create Sales Order Item'],\n",
       " ['Material Availability Date passed',\n",
       "  'Create Sales Order',\n",
       "  'Create Sales Order Item'],\n",
       " ['Material Availability Date passed',\n",
       "  'Create Sales Order',\n",
       "  'Create Sales Order Item'],\n",
       " ['Material Availability Date passed',\n",
       "  'Create Sales Order Item',\n",
       "  'Create Sales Order'],\n",
       " ['Material Availability Date passed',\n",
       "  'Create Sales Order',\n",
       "  'Create Sales Order Item'],\n",
       " ['Material Availability Date passed',\n",
       "  'Create Sales Order',\n",
       "  'Create Sales Order Item'],\n",
       " ['Material Availability Date passed',\n",
       "  'Create Sales Order',\n",
       "  'Create Sales Order Item'],\n",
       " ['Material Availability Date passed',\n",
       "  'Create Sales Order',\n",
       "  'Create Sales Order Item'],\n",
       " ['Material Availability Date passed',\n",
       "  'Create Sales Order',\n",
       "  'Create Sales Order Item'],\n",
       " ['Material Availability Date passed',\n",
       "  'Create Sales Order',\n",
       "  'Create Sales Order Item'],\n",
       " ['Material Availability Date passed',\n",
       "  'Create Sales Order',\n",
       "  'Create Sales Order Item'],\n",
       " ['Material Availability Date passed',\n",
       "  'Create Sales Order',\n",
       "  'Create Sales Order Item'],\n",
       " ['Material Availability Date passed',\n",
       "  'Create Sales Order',\n",
       "  'Create Sales Order Item'],\n",
       " ['Material Availability Date passed',\n",
       "  'Create Sales Order',\n",
       "  'Create Sales Order Item'],\n",
       " ['Material Availability Date passed',\n",
       "  'Create Sales Order',\n",
       "  'Create Sales Order Item'],\n",
       " ['Material Availability Date passed',\n",
       "  'Create Sales Order',\n",
       "  'Create Sales Order Item'],\n",
       " ['Material Availability Date passed',\n",
       "  'Create Sales Order Item',\n",
       "  'Create Sales Order'],\n",
       " ['Material Availability Date passed',\n",
       "  'Create Sales Order',\n",
       "  'Create Sales Order Item'],\n",
       " ['Material Availability Date passed',\n",
       "  'Create Sales Order',\n",
       "  'Create Sales Order Item'],\n",
       " ['Material Availability Date passed',\n",
       "  'Create Sales Order',\n",
       "  'Create Sales Order Item'],\n",
       " ['Material Availability Date passed',\n",
       "  'Create Sales Order Item',\n",
       "  'Create Sales Order'],\n",
       " ['Material Availability Date passed',\n",
       "  'Create Sales Order',\n",
       "  'Create Sales Order Item'],\n",
       " ['Material Availability Date passed',\n",
       "  'Create Sales Order Item',\n",
       "  'Create Sales Order'],\n",
       " ['Material Availability Date passed',\n",
       "  'Create Sales Order',\n",
       "  'Create Sales Order Item'],\n",
       " ['Material Availability Date passed',\n",
       "  'Create Sales Order',\n",
       "  'Create Sales Order Item'],\n",
       " ['Material Availability Date passed',\n",
       "  'Create Sales Order',\n",
       "  'Create Sales Order Item'],\n",
       " ['Material Availability Date passed',\n",
       "  'Create Sales Order Item',\n",
       "  'Create Sales Order'],\n",
       " ['Material Availability Date passed',\n",
       "  'Create Sales Order Item',\n",
       "  'Create Sales Order'],\n",
       " ['Material Availability Date passed',\n",
       "  'Create Sales Order Item',\n",
       "  'Create Sales Order'],\n",
       " ['Material Availability Date passed',\n",
       "  'Create Sales Order Item',\n",
       "  'Create Sales Order'],\n",
       " ['Material Availability Date passed',\n",
       "  'Create Sales Order',\n",
       "  'Create Sales Order Item'],\n",
       " ['Material Availability Date passed',\n",
       "  'Create Sales Order',\n",
       "  'Create Sales Order Item'],\n",
       " ['Material Availability Date passed',\n",
       "  'Create Sales Order',\n",
       "  'Create Sales Order Item'],\n",
       " ['Material Availability Date passed',\n",
       "  'Create Sales Order',\n",
       "  'Create Sales Order Item'],\n",
       " ['Material Availability Date passed',\n",
       "  'Create Sales Order',\n",
       "  'Create Sales Order Item'],\n",
       " ['Material Availability Date passed',\n",
       "  'Create Sales Order',\n",
       "  'Create Sales Order Item'],\n",
       " ['Material Availability Date passed',\n",
       "  'Create Sales Order',\n",
       "  'Create Sales Order Item'],\n",
       " ['Material Availability Date passed',\n",
       "  'Create Sales Order',\n",
       "  'Create Sales Order Item'],\n",
       " ['Material Availability Date passed',\n",
       "  'Create Sales Order',\n",
       "  'Create Sales Order Item'],\n",
       " ['Material Availability Date passed',\n",
       "  'Create Sales Order Item',\n",
       "  'Create Sales Order'],\n",
       " ['Material Availability Date passed',\n",
       "  'Create Sales Order',\n",
       "  'Create Sales Order Item'],\n",
       " ['Material Availability Date passed',\n",
       "  'Create Sales Order',\n",
       "  'Create Sales Order Item'],\n",
       " ['Material Availability Date passed',\n",
       "  'Create Sales Order',\n",
       "  'Create Sales Order Item'],\n",
       " ['Material Availability Date passed',\n",
       "  'Create Sales Order Item',\n",
       "  'Create Sales Order'],\n",
       " ['Material Availability Date passed',\n",
       "  'Create Sales Order',\n",
       "  'Create Sales Order Item'],\n",
       " ['Material Availability Date passed',\n",
       "  'Create Sales Order',\n",
       "  'Create Sales Order Item'],\n",
       " ['Material Availability Date passed',\n",
       "  'Create Sales Order',\n",
       "  'Create Sales Order Item'],\n",
       " ['Material Availability Date passed',\n",
       "  'Create Sales Order',\n",
       "  'Create Sales Order Item'],\n",
       " ['Material Availability Date passed',\n",
       "  'Create Sales Order',\n",
       "  'Create Sales Order Item'],\n",
       " ['Material Availability Date passed',\n",
       "  'Create Sales Order',\n",
       "  'Create Sales Order Item'],\n",
       " ['Material Availability Date passed',\n",
       "  'Create Sales Order Item',\n",
       "  'Create Sales Order'],\n",
       " ['Material Availability Date passed',\n",
       "  'Create Sales Order Item',\n",
       "  'Create Sales Order'],\n",
       " ['Material Availability Date passed',\n",
       "  'Create Sales Order Item',\n",
       "  'Create Sales Order'],\n",
       " ['Material Availability Date passed',\n",
       "  'Create Sales Order',\n",
       "  'Create Sales Order Item'],\n",
       " ['Material Availability Date passed',\n",
       "  'Create Sales Order',\n",
       "  'Create Sales Order Item'],\n",
       " ['Material Availability Date passed',\n",
       "  'Create Sales Order Item',\n",
       "  'Create Sales Order'],\n",
       " ['Material Availability Date passed',\n",
       "  'Create Sales Order',\n",
       "  'Create Sales Order Item'],\n",
       " ['Material Availability Date passed',\n",
       "  'Create Sales Order Item',\n",
       "  'Create Sales Order'],\n",
       " ['Material Availability Date passed',\n",
       "  'Create Sales Order Item',\n",
       "  'Create Sales Order'],\n",
       " ['Material Availability Date passed',\n",
       "  'Create Sales Order',\n",
       "  'Create Sales Order Item'],\n",
       " ['Material Availability Date passed',\n",
       "  'Create Sales Order',\n",
       "  'Create Sales Order Item'],\n",
       " ['Material Availability Date passed',\n",
       "  'Create Sales Order',\n",
       "  'Create Sales Order Item'],\n",
       " ['Material Availability Date passed',\n",
       "  'Create Sales Order',\n",
       "  'Create Sales Order Item'],\n",
       " ['Material Availability Date passed',\n",
       "  'Create Sales Order',\n",
       "  'Create Sales Order Item'],\n",
       " ['Material Availability Date passed',\n",
       "  'Create Sales Order Item',\n",
       "  'Create Sales Order'],\n",
       " ['Material Availability Date passed',\n",
       "  'Create Sales Order Item',\n",
       "  'Create Sales Order'],\n",
       " ['Material Availability Date passed',\n",
       "  'Create Sales Order',\n",
       "  'Create Sales Order Item'],\n",
       " ['Material Availability Date passed',\n",
       "  'Create Sales Order',\n",
       "  'Create Sales Order Item'],\n",
       " ['Material Availability Date passed',\n",
       "  'Create Sales Order Item',\n",
       "  'Create Sales Order'],\n",
       " ['Material Availability Date passed',\n",
       "  'Create Sales Order',\n",
       "  'Create Sales Order Item'],\n",
       " ['Material Availability Date passed',\n",
       "  'Create Sales Order Item',\n",
       "  'Create Sales Order'],\n",
       " ['Material Availability Date passed',\n",
       "  'Create Sales Order',\n",
       "  'Create Sales Order Item'],\n",
       " ['Material Availability Date passed',\n",
       "  'Create Sales Order Item',\n",
       "  'Create Sales Order'],\n",
       " ['Material Availability Date passed',\n",
       "  'Create Sales Order',\n",
       "  'Create Sales Order Item'],\n",
       " ['Material Availability Date passed',\n",
       "  'Create Sales Order',\n",
       "  'Create Sales Order Item'],\n",
       " ['Material Availability Date passed',\n",
       "  'Create Sales Order Item',\n",
       "  'Create Sales Order'],\n",
       " ['Material Availability Date passed',\n",
       "  'Create Sales Order',\n",
       "  'Create Sales Order Item'],\n",
       " ['Material Availability Date passed',\n",
       "  'Create Sales Order',\n",
       "  'Create Sales Order Item'],\n",
       " ['Material Availability Date passed',\n",
       "  'Create Sales Order',\n",
       "  'Create Sales Order Item'],\n",
       " ['Material Availability Date passed',\n",
       "  'Create Sales Order',\n",
       "  'Create Sales Order Item'],\n",
       " ['Material Availability Date passed',\n",
       "  'Create Sales Order',\n",
       "  'Create Sales Order Item'],\n",
       " ['Material Availability Date passed',\n",
       "  'Create Sales Order',\n",
       "  'Create Sales Order Item'],\n",
       " ['Material Availability Date passed',\n",
       "  'Create Sales Order',\n",
       "  'Create Sales Order Item'],\n",
       " ['Material Availability Date passed',\n",
       "  'Create Sales Order',\n",
       "  'Create Sales Order Item'],\n",
       " ['Material Availability Date passed',\n",
       "  'Create Sales Order Item',\n",
       "  'Create Sales Order'],\n",
       " ['Material Availability Date passed',\n",
       "  'Create Sales Order Item',\n",
       "  'Create Sales Order'],\n",
       " ['Material Availability Date passed',\n",
       "  'Create Sales Order',\n",
       "  'Create Sales Order Item'],\n",
       " ['Material Availability Date passed',\n",
       "  'Create Sales Order',\n",
       "  'Create Sales Order Item'],\n",
       " ['Material Availability Date passed',\n",
       "  'Create Sales Order',\n",
       "  'Create Sales Order Item'],\n",
       " ['Material Availability Date passed',\n",
       "  'Create Sales Order',\n",
       "  'Create Sales Order Item'],\n",
       " ['Material Availability Date passed',\n",
       "  'Create Sales Order',\n",
       "  'Create Sales Order Item'],\n",
       " ['Material Availability Date passed',\n",
       "  'Create Sales Order',\n",
       "  'Create Sales Order Item'],\n",
       " ['Material Availability Date passed',\n",
       "  'Create Sales Order',\n",
       "  'Create Sales Order Item'],\n",
       " ['Material Availability Date passed',\n",
       "  'Create Sales Order',\n",
       "  'Create Sales Order Item'],\n",
       " ['Material Availability Date passed',\n",
       "  'Create Sales Order Item',\n",
       "  'Create Sales Order'],\n",
       " ['Material Availability Date passed',\n",
       "  'Create Sales Order',\n",
       "  'Create Sales Order Item'],\n",
       " ['Material Availability Date passed',\n",
       "  'Create Sales Order Item',\n",
       "  'Create Sales Order'],\n",
       " ['Material Availability Date passed',\n",
       "  'Create Sales Order',\n",
       "  'Create Sales Order Item'],\n",
       " ['Material Availability Date passed',\n",
       "  'Create Sales Order',\n",
       "  'Create Sales Order Item'],\n",
       " ['Material Availability Date passed',\n",
       "  'Create Sales Order',\n",
       "  'Create Sales Order Item'],\n",
       " ['Material Availability Date passed',\n",
       "  'Create Sales Order Item',\n",
       "  'Create Sales Order'],\n",
       " ['Material Availability Date passed',\n",
       "  'Create Sales Order Item',\n",
       "  'Create Sales Order'],\n",
       " ['Material Availability Date passed',\n",
       "  'Create Sales Order',\n",
       "  'Create Sales Order Item'],\n",
       " ['Material Availability Date passed',\n",
       "  'Create Sales Order',\n",
       "  'Create Sales Order Item'],\n",
       " ['Material Availability Date passed',\n",
       "  'Create Sales Order',\n",
       "  'Create Sales Order Item'],\n",
       " ['Material Availability Date passed',\n",
       "  'Create Sales Order',\n",
       "  'Create Sales Order Item'],\n",
       " ['Material Availability Date passed',\n",
       "  'Create Sales Order',\n",
       "  'Create Sales Order Item'],\n",
       " ['Material Availability Date passed',\n",
       "  'Create Sales Order Item',\n",
       "  'Create Sales Order'],\n",
       " ['Material Availability Date passed',\n",
       "  'Create Sales Order',\n",
       "  'Create Sales Order Item'],\n",
       " ['Material Availability Date passed',\n",
       "  'Create Sales Order Item',\n",
       "  'Create Sales Order'],\n",
       " ['Material Availability Date passed',\n",
       "  'Create Sales Order',\n",
       "  'Create Sales Order Item'],\n",
       " ['Material Availability Date passed',\n",
       "  'Create Sales Order',\n",
       "  'Create Sales Order Item'],\n",
       " ['Material Availability Date passed',\n",
       "  'Create Sales Order',\n",
       "  'Create Sales Order Item'],\n",
       " ['Material Availability Date passed',\n",
       "  'Create Sales Order',\n",
       "  'Create Sales Order Item'],\n",
       " ['Material Availability Date passed',\n",
       "  'Create Sales Order Item',\n",
       "  'Create Sales Order'],\n",
       " ['Material Availability Date passed',\n",
       "  'Create Sales Order',\n",
       "  'Create Sales Order Item'],\n",
       " ['Material Availability Date passed',\n",
       "  'Create Sales Order',\n",
       "  'Create Sales Order Item'],\n",
       " ['Material Availability Date passed',\n",
       "  'Create Sales Order',\n",
       "  'Create Sales Order Item'],\n",
       " ['Material Availability Date passed',\n",
       "  'Create Sales Order',\n",
       "  'Create Sales Order Item'],\n",
       " ['Material Availability Date passed',\n",
       "  'Create Sales Order',\n",
       "  'Create Sales Order Item'],\n",
       " ['Material Availability Date passed',\n",
       "  'Create Sales Order',\n",
       "  'Create Sales Order Item'],\n",
       " ['Material Availability Date passed',\n",
       "  'Create Sales Order',\n",
       "  'Create Sales Order Item'],\n",
       " ['Material Availability Date passed',\n",
       "  'Create Sales Order',\n",
       "  'Create Sales Order Item'],\n",
       " ['Material Availability Date passed',\n",
       "  'Create Sales Order',\n",
       "  'Create Sales Order Item'],\n",
       " ['Material Availability Date passed',\n",
       "  'Create Sales Order',\n",
       "  'Create Sales Order Item'],\n",
       " ['Material Availability Date passed',\n",
       "  'Create Sales Order Item',\n",
       "  'Create Sales Order'],\n",
       " ['Material Availability Date passed',\n",
       "  'Create Sales Order',\n",
       "  'Create Sales Order Item'],\n",
       " ['Material Availability Date passed',\n",
       "  'Create Sales Order Item',\n",
       "  'Create Sales Order'],\n",
       " ['Material Availability Date passed',\n",
       "  'Create Sales Order',\n",
       "  'Create Sales Order Item'],\n",
       " ['Material Availability Date passed',\n",
       "  'Create Sales Order',\n",
       "  'Create Sales Order Item'],\n",
       " ['Material Availability Date passed',\n",
       "  'Create Sales Order',\n",
       "  'Create Sales Order Item'],\n",
       " ['Material Availability Date passed',\n",
       "  'Create Sales Order',\n",
       "  'Create Sales Order Item'],\n",
       " ['Material Availability Date passed',\n",
       "  'Create Sales Order Item',\n",
       "  'Create Sales Order'],\n",
       " ['Material Availability Date passed',\n",
       "  'Create Sales Order Item',\n",
       "  'Create Sales Order'],\n",
       " ['Material Availability Date passed',\n",
       "  'Create Sales Order',\n",
       "  'Create Sales Order Item'],\n",
       " ['Material Availability Date passed',\n",
       "  'Create Sales Order Item',\n",
       "  'Create Sales Order'],\n",
       " ['Material Availability Date passed',\n",
       "  'Create Sales Order',\n",
       "  'Create Sales Order Item'],\n",
       " ['Material Availability Date passed',\n",
       "  'Create Sales Order Item',\n",
       "  'Create Sales Order'],\n",
       " ['Material Availability Date passed',\n",
       "  'Create Sales Order Item',\n",
       "  'Create Sales Order'],\n",
       " ['Material Availability Date passed',\n",
       "  'Create Sales Order Item',\n",
       "  'Create Sales Order'],\n",
       " ['Material Availability Date passed',\n",
       "  'Create Sales Order',\n",
       "  'Create Sales Order Item'],\n",
       " ['Material Availability Date passed',\n",
       "  'Create Sales Order Item',\n",
       "  'Create Sales Order'],\n",
       " ['Material Availability Date passed',\n",
       "  'Create Sales Order',\n",
       "  'Create Sales Order Item'],\n",
       " ['Material Availability Date passed',\n",
       "  'Create Sales Order',\n",
       "  'Create Sales Order Item'],\n",
       " ['Material Availability Date passed',\n",
       "  'Create Sales Order',\n",
       "  'Create Sales Order Item'],\n",
       " ['Material Availability Date passed',\n",
       "  'Create Sales Order',\n",
       "  'Create Sales Order Item'],\n",
       " ['Material Availability Date passed',\n",
       "  'Create Sales Order',\n",
       "  'Create Sales Order Item'],\n",
       " ['Material Availability Date passed',\n",
       "  'Create Sales Order',\n",
       "  'Create Sales Order Item'],\n",
       " ['Material Availability Date passed',\n",
       "  'Create Sales Order',\n",
       "  'Create Sales Order Item'],\n",
       " ['Material Availability Date passed',\n",
       "  'Create Sales Order',\n",
       "  'Create Sales Order Item'],\n",
       " ['Material Availability Date passed',\n",
       "  'Create Sales Order',\n",
       "  'Create Sales Order Item'],\n",
       " ['Material Availability Date passed',\n",
       "  'Create Sales Order',\n",
       "  'Create Sales Order Item'],\n",
       " ['Material Availability Date passed',\n",
       "  'Create Sales Order',\n",
       "  'Create Sales Order Item'],\n",
       " ['Material Availability Date passed',\n",
       "  'Create Sales Order Item',\n",
       "  'Create Sales Order'],\n",
       " ['Material Availability Date passed',\n",
       "  'Create Sales Order Item',\n",
       "  'Create Sales Order'],\n",
       " ['Material Availability Date passed',\n",
       "  'Create Sales Order Item',\n",
       "  'Create Sales Order'],\n",
       " ['Material Availability Date passed',\n",
       "  'Create Sales Order Item',\n",
       "  'Create Sales Order'],\n",
       " ['Material Availability Date passed',\n",
       "  'Create Sales Order',\n",
       "  'Create Sales Order Item'],\n",
       " ['Material Availability Date passed',\n",
       "  'Create Sales Order',\n",
       "  'Create Sales Order Item'],\n",
       " ['Material Availability Date passed',\n",
       "  'Create Sales Order Item',\n",
       "  'Create Sales Order'],\n",
       " ['Material Availability Date passed',\n",
       "  'Create Sales Order',\n",
       "  'Create Sales Order Item'],\n",
       " ['Material Availability Date passed',\n",
       "  'Create Sales Order',\n",
       "  'Create Sales Order Item'],\n",
       " ['Material Availability Date passed',\n",
       "  'Create Sales Order',\n",
       "  'Create Sales Order Item'],\n",
       " ['Material Availability Date passed',\n",
       "  'Create Sales Order',\n",
       "  'Create Sales Order Item'],\n",
       " ['Material Availability Date passed',\n",
       "  'Create Sales Order',\n",
       "  'Create Sales Order Item'],\n",
       " ['Material Availability Date passed',\n",
       "  'Create Sales Order Item',\n",
       "  'Create Sales Order'],\n",
       " ['Material Availability Date passed',\n",
       "  'Create Sales Order Item',\n",
       "  'Create Sales Order'],\n",
       " ['Material Availability Date passed',\n",
       "  'Create Sales Order',\n",
       "  'Create Sales Order Item'],\n",
       " ['Material Availability Date passed',\n",
       "  'Create Sales Order',\n",
       "  'Create Sales Order Item'],\n",
       " ['Material Availability Date passed',\n",
       "  'Create Sales Order',\n",
       "  'Create Sales Order Item'],\n",
       " ['Material Availability Date passed',\n",
       "  'Create Sales Order',\n",
       "  'Create Sales Order Item'],\n",
       " ['Material Availability Date passed',\n",
       "  'Create Sales Order Item',\n",
       "  'Create Sales Order'],\n",
       " ['Material Availability Date passed',\n",
       "  'Create Sales Order',\n",
       "  'Create Sales Order Item'],\n",
       " ['Material Availability Date passed',\n",
       "  'Create Sales Order Item',\n",
       "  'Create Sales Order'],\n",
       " ['Material Availability Date passed',\n",
       "  'Create Sales Order',\n",
       "  'Create Sales Order Item'],\n",
       " ['Material Availability Date passed',\n",
       "  'Create Sales Order Item',\n",
       "  'Create Sales Order'],\n",
       " ['Material Availability Date passed',\n",
       "  'Create Sales Order',\n",
       "  'Create Sales Order Item'],\n",
       " ['Material Availability Date passed',\n",
       "  'Create Sales Order',\n",
       "  'Create Sales Order Item'],\n",
       " ['Material Availability Date passed',\n",
       "  'Create Sales Order',\n",
       "  'Create Sales Order Item'],\n",
       " ['Material Availability Date passed',\n",
       "  'Create Sales Order',\n",
       "  'Create Sales Order Item'],\n",
       " ['Material Availability Date passed',\n",
       "  'Create Sales Order',\n",
       "  'Create Sales Order Item'],\n",
       " ['Material Availability Date passed',\n",
       "  'Create Sales Order',\n",
       "  'Create Sales Order Item'],\n",
       " ['Material Availability Date passed',\n",
       "  'Create Sales Order',\n",
       "  'Create Sales Order Item'],\n",
       " ['Material Availability Date passed',\n",
       "  'Create Sales Order Item',\n",
       "  'Create Sales Order'],\n",
       " ['Material Availability Date passed',\n",
       "  'Create Sales Order',\n",
       "  'Create Sales Order Item'],\n",
       " ['Material Availability Date passed',\n",
       "  'Create Sales Order Item',\n",
       "  'Create Sales Order'],\n",
       " ['Material Availability Date passed',\n",
       "  'Create Sales Order',\n",
       "  'Create Sales Order Item'],\n",
       " ['Material Availability Date passed',\n",
       "  'Create Sales Order',\n",
       "  'Create Sales Order Item'],\n",
       " ['Material Availability Date passed',\n",
       "  'Create Sales Order',\n",
       "  'Create Sales Order Item'],\n",
       " ['Material Availability Date passed',\n",
       "  'Create Sales Order',\n",
       "  'Create Sales Order Item'],\n",
       " ['Material Availability Date passed',\n",
       "  'Create Sales Order',\n",
       "  'Create Sales Order Item'],\n",
       " ['Material Availability Date passed',\n",
       "  'Create Sales Order Item',\n",
       "  'Create Sales Order'],\n",
       " ['Material Availability Date passed',\n",
       "  'Create Sales Order',\n",
       "  'Create Sales Order Item'],\n",
       " ['Material Availability Date passed',\n",
       "  'Create Sales Order',\n",
       "  'Create Sales Order Item'],\n",
       " ['Material Availability Date passed',\n",
       "  'Create Sales Order',\n",
       "  'Create Sales Order Item'],\n",
       " ['Material Availability Date passed',\n",
       "  'Create Sales Order',\n",
       "  'Create Sales Order Item'],\n",
       " ['Material Availability Date passed',\n",
       "  'Create Sales Order',\n",
       "  'Create Sales Order Item'],\n",
       " ['Material Availability Date passed',\n",
       "  'Create Sales Order',\n",
       "  'Create Sales Order Item'],\n",
       " ['Material Availability Date passed',\n",
       "  'Create Sales Order',\n",
       "  'Create Sales Order Item'],\n",
       " ['Material Availability Date passed',\n",
       "  'Create Sales Order',\n",
       "  'Create Sales Order Item'],\n",
       " ['Material Availability Date passed',\n",
       "  'Create Sales Order Item',\n",
       "  'Create Sales Order'],\n",
       " ['Material Availability Date passed',\n",
       "  'Create Sales Order',\n",
       "  'Create Sales Order Item'],\n",
       " ['Material Availability Date passed',\n",
       "  'Create Sales Order Item',\n",
       "  'Create Sales Order'],\n",
       " ['Material Availability Date passed',\n",
       "  'Create Sales Order',\n",
       "  'Create Sales Order Item'],\n",
       " ['Material Availability Date passed',\n",
       "  'Create Sales Order',\n",
       "  'Create Sales Order Item'],\n",
       " ['Material Availability Date passed',\n",
       "  'Create Sales Order',\n",
       "  'Create Sales Order Item'],\n",
       " ['Material Availability Date passed',\n",
       "  'Create Sales Order',\n",
       "  'Create Sales Order Item'],\n",
       " ['Material Availability Date passed',\n",
       "  'Create Sales Order Item',\n",
       "  'Create Sales Order'],\n",
       " ['Material Availability Date passed',\n",
       "  'Create Sales Order',\n",
       "  'Create Sales Order Item'],\n",
       " ['Material Availability Date passed',\n",
       "  'Create Sales Order Item',\n",
       "  'Create Sales Order'],\n",
       " ['Material Availability Date passed',\n",
       "  'Create Sales Order',\n",
       "  'Create Sales Order Item'],\n",
       " ['Material Availability Date passed',\n",
       "  'Create Sales Order Item',\n",
       "  'Create Sales Order'],\n",
       " ['Material Availability Date passed',\n",
       "  'Create Sales Order Item',\n",
       "  'Create Sales Order'],\n",
       " ['Material Availability Date passed',\n",
       "  'Create Sales Order',\n",
       "  'Create Sales Order Item'],\n",
       " ['Material Availability Date passed',\n",
       "  'Create Sales Order Item',\n",
       "  'Create Sales Order'],\n",
       " ['Material Availability Date passed',\n",
       "  'Create Sales Order',\n",
       "  'Create Sales Order Item'],\n",
       " ['Material Availability Date passed',\n",
       "  'Create Sales Order Item',\n",
       "  'Create Sales Order'],\n",
       " ['Material Availability Date passed',\n",
       "  'Create Sales Order',\n",
       "  'Create Sales Order Item'],\n",
       " ['Material Availability Date passed',\n",
       "  'Create Sales Order',\n",
       "  'Create Sales Order Item'],\n",
       " ['Material Availability Date passed',\n",
       "  'Create Sales Order',\n",
       "  'Create Sales Order Item'],\n",
       " ['Material Availability Date passed',\n",
       "  'Create Sales Order',\n",
       "  'Create Sales Order Item'],\n",
       " ['Material Availability Date passed',\n",
       "  'Create Sales Order',\n",
       "  'Create Sales Order Item'],\n",
       " ['Material Availability Date passed',\n",
       "  'Create Sales Order Item',\n",
       "  'Create Sales Order'],\n",
       " ['Material Availability Date passed',\n",
       "  'Create Sales Order',\n",
       "  'Create Sales Order Item'],\n",
       " ['Material Availability Date passed',\n",
       "  'Create Sales Order',\n",
       "  'Create Sales Order Item'],\n",
       " ['Material Availability Date passed',\n",
       "  'Create Sales Order',\n",
       "  'Create Sales Order Item'],\n",
       " ['Material Availability Date passed',\n",
       "  'Create Sales Order',\n",
       "  'Create Sales Order Item'],\n",
       " ['Material Availability Date passed',\n",
       "  'Create Sales Order',\n",
       "  'Create Sales Order Item'],\n",
       " ['Material Availability Date passed',\n",
       "  'Create Sales Order Item',\n",
       "  'Create Sales Order'],\n",
       " ['Material Availability Date passed',\n",
       "  'Create Sales Order',\n",
       "  'Create Sales Order Item'],\n",
       " ['Material Availability Date passed',\n",
       "  'Create Sales Order Item',\n",
       "  'Create Sales Order'],\n",
       " ['Material Availability Date passed',\n",
       "  'Create Sales Order',\n",
       "  'Create Sales Order Item'],\n",
       " ['Material Availability Date passed',\n",
       "  'Create Sales Order',\n",
       "  'Create Sales Order Item'],\n",
       " ['Material Availability Date passed',\n",
       "  'Create Sales Order',\n",
       "  'Create Sales Order Item'],\n",
       " ['Material Availability Date passed',\n",
       "  'Create Sales Order',\n",
       "  'Create Sales Order Item'],\n",
       " ['Material Availability Date passed',\n",
       "  'Create Sales Order',\n",
       "  'Create Sales Order Item'],\n",
       " ['Material Availability Date passed',\n",
       "  'Create Sales Order Item',\n",
       "  'Create Sales Order'],\n",
       " ['Material Availability Date passed',\n",
       "  'Create Sales Order Item',\n",
       "  'Create Sales Order'],\n",
       " ['Material Availability Date passed',\n",
       "  'Create Sales Order',\n",
       "  'Create Sales Order Item'],\n",
       " ['Material Availability Date passed',\n",
       "  'Create Sales Order',\n",
       "  'Create Sales Order Item'],\n",
       " ['Material Availability Date passed',\n",
       "  'Create Sales Order Item',\n",
       "  'Create Sales Order'],\n",
       " ['Material Availability Date passed',\n",
       "  'Create Sales Order',\n",
       "  'Create Sales Order Item'],\n",
       " ['Material Availability Date passed',\n",
       "  'Create Sales Order',\n",
       "  'Create Sales Order Item'],\n",
       " ['Material Availability Date passed',\n",
       "  'Create Sales Order',\n",
       "  'Create Sales Order Item'],\n",
       " ['Material Availability Date passed',\n",
       "  'Create Sales Order',\n",
       "  'Create Sales Order Item'],\n",
       " ['Material Availability Date passed',\n",
       "  'Create Sales Order',\n",
       "  'Create Sales Order Item'],\n",
       " ['Material Availability Date passed',\n",
       "  'Create Sales Order',\n",
       "  'Create Sales Order Item'],\n",
       " ['Material Availability Date passed',\n",
       "  'Create Sales Order',\n",
       "  'Create Sales Order Item'],\n",
       " ['Material Availability Date passed',\n",
       "  'Create Sales Order',\n",
       "  'Create Sales Order Item'],\n",
       " ['Material Availability Date passed',\n",
       "  'Create Sales Order Item',\n",
       "  'Create Sales Order'],\n",
       " ['Material Availability Date passed',\n",
       "  'Create Sales Order',\n",
       "  'Create Sales Order Item'],\n",
       " ['Material Availability Date passed',\n",
       "  'Create Sales Order',\n",
       "  'Create Sales Order Item'],\n",
       " ['Material Availability Date passed',\n",
       "  'Create Sales Order Item',\n",
       "  'Create Sales Order'],\n",
       " ['Material Availability Date passed',\n",
       "  'Create Sales Order',\n",
       "  'Create Sales Order Item'],\n",
       " ['Material Availability Date passed',\n",
       "  'Create Sales Order',\n",
       "  'Create Sales Order Item'],\n",
       " ['Material Availability Date passed',\n",
       "  'Create Sales Order',\n",
       "  'Create Sales Order Item'],\n",
       " ['Material Availability Date passed',\n",
       "  'Create Sales Order Item',\n",
       "  'Create Sales Order'],\n",
       " ['Material Availability Date passed',\n",
       "  'Create Sales Order',\n",
       "  'Create Sales Order Item'],\n",
       " ['Material Availability Date passed',\n",
       "  'Create Sales Order Item',\n",
       "  'Create Sales Order'],\n",
       " ['Material Availability Date passed',\n",
       "  'Create Sales Order',\n",
       "  'Create Sales Order Item'],\n",
       " ['Material Availability Date passed',\n",
       "  'Create Sales Order Item',\n",
       "  'Create Sales Order'],\n",
       " ['Material Availability Date passed',\n",
       "  'Create Sales Order Item',\n",
       "  'Create Sales Order'],\n",
       " ['Material Availability Date passed',\n",
       "  'Create Sales Order',\n",
       "  'Create Sales Order Item'],\n",
       " ['Material Availability Date passed',\n",
       "  'Create Sales Order',\n",
       "  'Create Sales Order Item'],\n",
       " ['Material Availability Date passed',\n",
       "  'Create Sales Order Item',\n",
       "  'Create Sales Order'],\n",
       " ['Material Availability Date passed',\n",
       "  'Create Sales Order',\n",
       "  'Create Sales Order Item'],\n",
       " ['Material Availability Date passed',\n",
       "  'Create Sales Order',\n",
       "  'Create Sales Order Item'],\n",
       " ['Material Availability Date passed',\n",
       "  'Create Sales Order',\n",
       "  'Create Sales Order Item'],\n",
       " ['Material Availability Date passed',\n",
       "  'Create Sales Order Item',\n",
       "  'Create Sales Order'],\n",
       " ['Material Availability Date passed',\n",
       "  'Create Sales Order Item',\n",
       "  'Create Sales Order'],\n",
       " ['Material Availability Date passed',\n",
       "  'Create Sales Order',\n",
       "  'Create Sales Order Item'],\n",
       " ['Material Availability Date passed',\n",
       "  'Create Sales Order Item',\n",
       "  'Create Sales Order'],\n",
       " ['Material Availability Date passed',\n",
       "  'Create Sales Order Item',\n",
       "  'Create Sales Order'],\n",
       " ['Material Availability Date passed',\n",
       "  'Create Sales Order Item',\n",
       "  'Create Sales Order'],\n",
       " ['Material Availability Date passed',\n",
       "  'Create Sales Order',\n",
       "  'Create Sales Order Item'],\n",
       " ['Material Availability Date passed',\n",
       "  'Create Sales Order',\n",
       "  'Create Sales Order Item'],\n",
       " ['Material Availability Date passed',\n",
       "  'Create Sales Order',\n",
       "  'Create Sales Order Item'],\n",
       " ['Material Availability Date passed',\n",
       "  'Create Sales Order',\n",
       "  'Create Sales Order Item'],\n",
       " ['Material Availability Date passed',\n",
       "  'Create Sales Order',\n",
       "  'Create Sales Order Item'],\n",
       " ['Material Availability Date passed',\n",
       "  'Create Sales Order',\n",
       "  'Create Sales Order Item'],\n",
       " ['Material Availability Date passed',\n",
       "  'Create Sales Order',\n",
       "  'Create Sales Order Item'],\n",
       " ['Material Availability Date passed',\n",
       "  'Create Sales Order',\n",
       "  'Create Sales Order Item'],\n",
       " ['Material Availability Date passed',\n",
       "  'Create Sales Order',\n",
       "  'Create Sales Order Item'],\n",
       " ['Material Availability Date passed',\n",
       "  'Create Sales Order',\n",
       "  'Create Sales Order Item'],\n",
       " ['Material Availability Date passed',\n",
       "  'Create Sales Order',\n",
       "  'Create Sales Order Item'],\n",
       " ['Material Availability Date passed',\n",
       "  'Create Sales Order Item',\n",
       "  'Create Sales Order'],\n",
       " ['Material Availability Date passed',\n",
       "  'Create Sales Order',\n",
       "  'Create Sales Order Item'],\n",
       " ['Material Availability Date passed',\n",
       "  'Create Sales Order Item',\n",
       "  'Create Sales Order'],\n",
       " ['Material Availability Date passed',\n",
       "  'Create Sales Order',\n",
       "  'Create Sales Order Item'],\n",
       " ['Material Availability Date passed',\n",
       "  'Create Sales Order',\n",
       "  'Create Sales Order Item'],\n",
       " ['Material Availability Date passed',\n",
       "  'Create Sales Order',\n",
       "  'Create Sales Order Item'],\n",
       " ['Material Availability Date passed',\n",
       "  'Create Sales Order',\n",
       "  'Create Sales Order Item'],\n",
       " ['Material Availability Date passed',\n",
       "  'Create Sales Order',\n",
       "  'Create Sales Order Item'],\n",
       " ['Material Availability Date passed',\n",
       "  'Create Sales Order',\n",
       "  'Create Sales Order Item'],\n",
       " ['Material Availability Date passed',\n",
       "  'Create Sales Order',\n",
       "  'Create Sales Order Item'],\n",
       " ['Material Availability Date passed',\n",
       "  'Create Sales Order Item',\n",
       "  'Create Sales Order'],\n",
       " ['Material Availability Date passed',\n",
       "  'Create Sales Order Item',\n",
       "  'Create Sales Order'],\n",
       " ['Material Availability Date passed',\n",
       "  'Create Sales Order',\n",
       "  'Create Sales Order Item'],\n",
       " ['Material Availability Date passed',\n",
       "  'Create Sales Order',\n",
       "  'Create Sales Order Item'],\n",
       " ['Material Availability Date passed',\n",
       "  'Create Sales Order',\n",
       "  'Create Sales Order Item'],\n",
       " ['Material Availability Date passed',\n",
       "  'Create Sales Order',\n",
       "  'Create Sales Order Item'],\n",
       " ['Material Availability Date passed',\n",
       "  'Create Sales Order',\n",
       "  'Create Sales Order Item'],\n",
       " ['Material Availability Date passed',\n",
       "  'Create Sales Order',\n",
       "  'Create Sales Order Item'],\n",
       " ['Material Availability Date passed',\n",
       "  'Create Sales Order',\n",
       "  'Create Sales Order Item'],\n",
       " ['Material Availability Date passed',\n",
       "  'Create Sales Order',\n",
       "  'Create Sales Order Item'],\n",
       " ['Material Availability Date passed',\n",
       "  'Create Sales Order',\n",
       "  'Create Sales Order Item'],\n",
       " ['Material Availability Date passed',\n",
       "  'Create Sales Order',\n",
       "  'Create Sales Order Item'],\n",
       " ['Material Availability Date passed',\n",
       "  'Create Sales Order',\n",
       "  'Create Sales Order Item'],\n",
       " ['Material Availability Date passed',\n",
       "  'Create Sales Order',\n",
       "  'Create Sales Order Item'],\n",
       " ['Material Availability Date passed',\n",
       "  'Create Sales Order Item',\n",
       "  'Create Sales Order'],\n",
       " ['Material Availability Date passed',\n",
       "  'Create Sales Order',\n",
       "  'Create Sales Order Item'],\n",
       " ['Material Availability Date passed',\n",
       "  'Create Sales Order',\n",
       "  'Create Sales Order Item'],\n",
       " ['Material Availability Date passed',\n",
       "  'Create Sales Order Item',\n",
       "  'Create Sales Order'],\n",
       " ['Material Availability Date passed',\n",
       "  'Create Sales Order Item',\n",
       "  'Create Sales Order'],\n",
       " ['Material Availability Date passed',\n",
       "  'Create Sales Order',\n",
       "  'Create Sales Order Item'],\n",
       " ['Material Availability Date passed',\n",
       "  'Create Sales Order Item',\n",
       "  'Create Sales Order'],\n",
       " ['Material Availability Date passed',\n",
       "  'Create Sales Order',\n",
       "  'Create Sales Order Item'],\n",
       " ['Material Availability Date passed',\n",
       "  'Create Sales Order Item',\n",
       "  'Create Sales Order'],\n",
       " ['Material Availability Date passed',\n",
       "  'Create Sales Order Item',\n",
       "  'Create Sales Order'],\n",
       " ['Material Availability Date passed',\n",
       "  'Create Sales Order',\n",
       "  'Create Sales Order Item'],\n",
       " ['Material Availability Date passed',\n",
       "  'Create Sales Order',\n",
       "  'Create Sales Order Item'],\n",
       " ['Material Availability Date passed',\n",
       "  'Create Sales Order Item',\n",
       "  'Create Sales Order'],\n",
       " ['Material Availability Date passed',\n",
       "  'Create Sales Order Item',\n",
       "  'Create Sales Order'],\n",
       " ['Material Availability Date passed',\n",
       "  'Create Sales Order',\n",
       "  'Create Sales Order Item'],\n",
       " ['Material Availability Date passed',\n",
       "  'Create Sales Order Item',\n",
       "  'Create Sales Order'],\n",
       " ['Material Availability Date passed',\n",
       "  'Create Sales Order',\n",
       "  'Create Sales Order Item'],\n",
       " ['Material Availability Date passed',\n",
       "  'Create Sales Order Item',\n",
       "  'Create Sales Order'],\n",
       " ['Material Availability Date passed',\n",
       "  'Create Sales Order Item',\n",
       "  'Create Sales Order'],\n",
       " ['Material Availability Date passed',\n",
       "  'Create Sales Order Item',\n",
       "  'Create Sales Order'],\n",
       " ['Material Availability Date passed',\n",
       "  'Create Sales Order',\n",
       "  'Create Sales Order Item'],\n",
       " ['Material Availability Date passed',\n",
       "  'Create Sales Order Item',\n",
       "  'Create Sales Order'],\n",
       " ['Material Availability Date passed',\n",
       "  'Create Sales Order',\n",
       "  'Create Sales Order Item'],\n",
       " ['Material Availability Date passed',\n",
       "  'Create Sales Order Item',\n",
       "  'Create Sales Order'],\n",
       " ['Material Availability Date passed',\n",
       "  'Create Sales Order',\n",
       "  'Create Sales Order Item'],\n",
       " ['Material Availability Date passed',\n",
       "  'Create Sales Order',\n",
       "  'Create Sales Order Item'],\n",
       " ['Material Availability Date passed',\n",
       "  'Create Sales Order',\n",
       "  'Create Sales Order Item'],\n",
       " ['Material Availability Date passed',\n",
       "  'Create Sales Order Item',\n",
       "  'Create Sales Order'],\n",
       " ['Material Availability Date passed',\n",
       "  'Create Sales Order',\n",
       "  'Create Sales Order Item'],\n",
       " ['Material Availability Date passed',\n",
       "  'Create Sales Order',\n",
       "  'Create Sales Order Item'],\n",
       " ['Material Availability Date passed',\n",
       "  'Create Sales Order',\n",
       "  'Create Sales Order Item'],\n",
       " ['Material Availability Date passed',\n",
       "  'Create Sales Order',\n",
       "  'Create Sales Order Item'],\n",
       " ['Material Availability Date passed',\n",
       "  'Create Sales Order',\n",
       "  'Create Sales Order Item'],\n",
       " ['Material Availability Date passed',\n",
       "  'Create Sales Order',\n",
       "  'Create Sales Order Item'],\n",
       " ['Material Availability Date passed',\n",
       "  'Create Sales Order Item',\n",
       "  'Create Sales Order'],\n",
       " ['Material Availability Date passed',\n",
       "  'Create Sales Order',\n",
       "  'Create Sales Order Item'],\n",
       " ['Material Availability Date passed',\n",
       "  'Create Sales Order Item',\n",
       "  'Create Sales Order'],\n",
       " ['Material Availability Date passed',\n",
       "  'Create Sales Order',\n",
       "  'Create Sales Order Item'],\n",
       " ['Material Availability Date passed',\n",
       "  'Create Sales Order',\n",
       "  'Create Sales Order Item'],\n",
       " ['Material Availability Date passed',\n",
       "  'Create Sales Order',\n",
       "  'Create Sales Order Item'],\n",
       " ['Material Availability Date passed',\n",
       "  'Create Sales Order',\n",
       "  'Create Sales Order Item'],\n",
       " ['Material Availability Date passed',\n",
       "  'Create Sales Order',\n",
       "  'Create Sales Order Item'],\n",
       " ['Material Availability Date passed',\n",
       "  'Create Sales Order Item',\n",
       "  'Create Sales Order'],\n",
       " ['Material Availability Date passed',\n",
       "  'Create Sales Order',\n",
       "  'Create Sales Order Item'],\n",
       " ['Material Availability Date passed',\n",
       "  'Create Sales Order',\n",
       "  'Create Sales Order Item'],\n",
       " ['Material Availability Date passed',\n",
       "  'Create Sales Order Item',\n",
       "  'Create Sales Order'],\n",
       " ['Material Availability Date passed',\n",
       "  'Create Sales Order Item',\n",
       "  'Create Sales Order'],\n",
       " ['Material Availability Date passed',\n",
       "  'Create Sales Order',\n",
       "  'Create Sales Order Item'],\n",
       " ['Material Availability Date passed',\n",
       "  'Create Sales Order',\n",
       "  'Create Sales Order Item'],\n",
       " ['Material Availability Date passed',\n",
       "  'Create Sales Order',\n",
       "  'Create Sales Order Item'],\n",
       " ['Material Availability Date passed',\n",
       "  'Create Sales Order',\n",
       "  'Create Sales Order Item'],\n",
       " ['Material Availability Date passed',\n",
       "  'Create Sales Order',\n",
       "  'Create Sales Order Item'],\n",
       " ['Material Availability Date passed',\n",
       "  'Create Sales Order',\n",
       "  'Create Sales Order Item'],\n",
       " ['Material Availability Date passed',\n",
       "  'Create Sales Order',\n",
       "  'Create Sales Order Item'],\n",
       " ['Material Availability Date passed',\n",
       "  'Create Sales Order',\n",
       "  'Create Sales Order Item'],\n",
       " ['Material Availability Date passed',\n",
       "  'Create Sales Order',\n",
       "  'Create Sales Order Item'],\n",
       " ['Material Availability Date passed',\n",
       "  'Create Sales Order',\n",
       "  'Create Sales Order Item'],\n",
       " ['Material Availability Date passed',\n",
       "  'Create Sales Order',\n",
       "  'Create Sales Order Item'],\n",
       " ['Material Availability Date passed',\n",
       "  'Create Sales Order',\n",
       "  'Create Sales Order Item'],\n",
       " ['Material Availability Date passed',\n",
       "  'Create Sales Order',\n",
       "  'Create Sales Order Item'],\n",
       " ['Material Availability Date passed',\n",
       "  'Create Sales Order',\n",
       "  'Create Sales Order Item'],\n",
       " ['Material Availability Date passed',\n",
       "  'Create Sales Order',\n",
       "  'Create Sales Order Item'],\n",
       " ['Material Availability Date passed',\n",
       "  'Create Sales Order',\n",
       "  'Create Sales Order Item'],\n",
       " ['Material Availability Date passed',\n",
       "  'Create Sales Order',\n",
       "  'Create Sales Order Item'],\n",
       " ['Material Availability Date passed',\n",
       "  'Create Sales Order',\n",
       "  'Create Sales Order Item'],\n",
       " ['Material Availability Date passed',\n",
       "  'Create Sales Order',\n",
       "  'Create Sales Order Item'],\n",
       " ['Material Availability Date passed',\n",
       "  'Create Sales Order',\n",
       "  'Create Sales Order Item'],\n",
       " ['Material Availability Date passed',\n",
       "  'Create Sales Order',\n",
       "  'Create Sales Order Item'],\n",
       " ['Material Availability Date passed',\n",
       "  'Create Sales Order',\n",
       "  'Create Sales Order Item'],\n",
       " ['Material Availability Date passed',\n",
       "  'Create Sales Order',\n",
       "  'Create Sales Order Item'],\n",
       " ['Material Availability Date passed',\n",
       "  'Create Sales Order Item',\n",
       "  'Create Sales Order'],\n",
       " ['Material Availability Date passed',\n",
       "  'Create Sales Order',\n",
       "  'Create Sales Order Item'],\n",
       " ['Material Availability Date passed',\n",
       "  'Create Sales Order',\n",
       "  'Create Sales Order Item'],\n",
       " ['Material Availability Date passed',\n",
       "  'Create Sales Order',\n",
       "  'Create Sales Order Item'],\n",
       " ['Material Availability Date passed',\n",
       "  'Create Sales Order',\n",
       "  'Create Sales Order Item'],\n",
       " ['Material Availability Date passed',\n",
       "  'Create Sales Order',\n",
       "  'Create Sales Order Item'],\n",
       " ['Material Availability Date passed',\n",
       "  'Create Sales Order',\n",
       "  'Create Sales Order Item'],\n",
       " ['Material Availability Date passed',\n",
       "  'Create Sales Order',\n",
       "  'Create Sales Order Item'],\n",
       " ['Material Availability Date passed',\n",
       "  'Create Sales Order',\n",
       "  'Create Sales Order Item'],\n",
       " ['Material Availability Date passed',\n",
       "  'Create Sales Order Item',\n",
       "  'Create Sales Order'],\n",
       " ['Material Availability Date passed',\n",
       "  'Create Sales Order',\n",
       "  'Create Sales Order Item'],\n",
       " ['Material Availability Date passed',\n",
       "  'Create Sales Order',\n",
       "  'Create Sales Order Item'],\n",
       " ['Material Availability Date passed',\n",
       "  'Create Sales Order',\n",
       "  'Create Sales Order Item'],\n",
       " ['Material Availability Date passed',\n",
       "  'Create Sales Order',\n",
       "  'Create Sales Order Item'],\n",
       " ['Material Availability Date passed',\n",
       "  'Create Sales Order Item',\n",
       "  'Create Sales Order'],\n",
       " ['Material Availability Date passed',\n",
       "  'Create Sales Order',\n",
       "  'Create Sales Order Item'],\n",
       " ['Material Availability Date passed',\n",
       "  'Create Sales Order',\n",
       "  'Create Sales Order Item'],\n",
       " ['Material Availability Date passed',\n",
       "  'Create Sales Order',\n",
       "  'Create Sales Order Item'],\n",
       " ['Material Availability Date passed',\n",
       "  'Create Sales Order',\n",
       "  'Create Sales Order Item'],\n",
       " ['Material Availability Date passed',\n",
       "  'Create Sales Order',\n",
       "  'Create Sales Order Item'],\n",
       " ['Material Availability Date passed',\n",
       "  'Create Sales Order',\n",
       "  'Create Sales Order Item'],\n",
       " ['Material Availability Date passed',\n",
       "  'Create Sales Order',\n",
       "  'Create Sales Order Item'],\n",
       " ['Material Availability Date passed',\n",
       "  'Create Sales Order',\n",
       "  'Create Sales Order Item'],\n",
       " ['Material Availability Date passed',\n",
       "  'Create Sales Order',\n",
       "  'Create Sales Order Item'],\n",
       " ['Material Availability Date passed',\n",
       "  'Create Sales Order',\n",
       "  'Create Sales Order Item'],\n",
       " ['Material Availability Date passed',\n",
       "  'Create Sales Order',\n",
       "  'Create Sales Order Item'],\n",
       " ['Material Availability Date passed',\n",
       "  'Create Sales Order Item',\n",
       "  'Create Sales Order'],\n",
       " ['Material Availability Date passed',\n",
       "  'Create Sales Order',\n",
       "  'Create Sales Order Item'],\n",
       " ['Material Availability Date passed',\n",
       "  'Create Sales Order',\n",
       "  'Create Sales Order Item'],\n",
       " ['Material Availability Date passed',\n",
       "  'Create Sales Order',\n",
       "  'Create Sales Order Item'],\n",
       " ['Material Availability Date passed',\n",
       "  'Create Sales Order',\n",
       "  'Create Sales Order Item'],\n",
       " ['Material Availability Date passed',\n",
       "  'Create Sales Order',\n",
       "  'Create Sales Order Item'],\n",
       " ['Material Availability Date passed',\n",
       "  'Create Sales Order Item',\n",
       "  'Create Sales Order'],\n",
       " ['Material Availability Date passed',\n",
       "  'Create Sales Order',\n",
       "  'Create Sales Order Item'],\n",
       " ['Material Availability Date passed',\n",
       "  'Create Sales Order',\n",
       "  'Create Sales Order Item'],\n",
       " ['Material Availability Date passed',\n",
       "  'Create Sales Order',\n",
       "  'Create Sales Order Item'],\n",
       " ['Material Availability Date passed',\n",
       "  'Create Sales Order',\n",
       "  'Create Sales Order Item'],\n",
       " ['Material Availability Date passed',\n",
       "  'Create Sales Order Item',\n",
       "  'Create Sales Order'],\n",
       " ['Material Availability Date passed',\n",
       "  'Create Sales Order',\n",
       "  'Create Sales Order Item'],\n",
       " ['Material Availability Date passed',\n",
       "  'Create Sales Order',\n",
       "  'Create Sales Order Item'],\n",
       " ['Material Availability Date passed',\n",
       "  'Create Sales Order',\n",
       "  'Create Sales Order Item'],\n",
       " ['Material Availability Date passed',\n",
       "  'Create Sales Order',\n",
       "  'Create Sales Order Item'],\n",
       " ['Material Availability Date passed',\n",
       "  'Create Sales Order Item',\n",
       "  'Create Sales Order'],\n",
       " ['Material Availability Date passed',\n",
       "  'Create Sales Order',\n",
       "  'Create Sales Order Item'],\n",
       " ['Material Availability Date passed',\n",
       "  'Create Sales Order Item',\n",
       "  'Create Sales Order'],\n",
       " ['Material Availability Date passed',\n",
       "  'Create Sales Order',\n",
       "  'Create Sales Order Item'],\n",
       " ['Material Availability Date passed',\n",
       "  'Create Sales Order',\n",
       "  'Create Sales Order Item'],\n",
       " ['Material Availability Date passed',\n",
       "  'Create Sales Order',\n",
       "  'Create Sales Order Item'],\n",
       " ['Material Availability Date passed',\n",
       "  'Create Sales Order',\n",
       "  'Create Sales Order Item'],\n",
       " ['Material Availability Date passed',\n",
       "  'Create Sales Order Item',\n",
       "  'Create Sales Order'],\n",
       " ['Material Availability Date passed',\n",
       "  'Create Sales Order Item',\n",
       "  'Create Sales Order'],\n",
       " ['Material Availability Date passed',\n",
       "  'Create Sales Order',\n",
       "  'Create Sales Order Item'],\n",
       " ['Material Availability Date passed',\n",
       "  'Create Sales Order',\n",
       "  'Create Sales Order Item'],\n",
       " ['Material Availability Date passed',\n",
       "  'Create Sales Order',\n",
       "  'Create Sales Order Item'],\n",
       " ['Material Availability Date passed',\n",
       "  'Create Sales Order Item',\n",
       "  'Create Sales Order'],\n",
       " ['Material Availability Date passed',\n",
       "  'Create Sales Order',\n",
       "  'Create Sales Order Item'],\n",
       " ['Material Availability Date passed',\n",
       "  'Create Sales Order',\n",
       "  'Create Sales Order Item'],\n",
       " ['Material Availability Date passed',\n",
       "  'Create Sales Order',\n",
       "  'Create Sales Order Item'],\n",
       " ['Material Availability Date passed',\n",
       "  'Create Sales Order Item',\n",
       "  'Create Sales Order'],\n",
       " ['Material Availability Date passed',\n",
       "  'Create Sales Order Item',\n",
       "  'Create Sales Order'],\n",
       " ['Material Availability Date passed',\n",
       "  'Create Sales Order',\n",
       "  'Create Sales Order Item'],\n",
       " ['Material Availability Date passed',\n",
       "  'Create Sales Order',\n",
       "  'Create Sales Order Item'],\n",
       " ['Material Availability Date passed',\n",
       "  'Create Sales Order',\n",
       "  'Create Sales Order Item'],\n",
       " ['Material Availability Date passed',\n",
       "  'Create Sales Order',\n",
       "  'Create Sales Order Item'],\n",
       " ['Material Availability Date passed',\n",
       "  'Create Sales Order Item',\n",
       "  'Create Sales Order'],\n",
       " ['Material Availability Date passed',\n",
       "  'Create Sales Order Item',\n",
       "  'Create Sales Order'],\n",
       " ['Material Availability Date passed',\n",
       "  'Create Sales Order',\n",
       "  'Create Sales Order Item'],\n",
       " ['Material Availability Date passed',\n",
       "  'Create Sales Order Item',\n",
       "  'Create Sales Order'],\n",
       " ['Material Availability Date passed',\n",
       "  'Create Sales Order',\n",
       "  'Create Sales Order Item'],\n",
       " ['Material Availability Date passed',\n",
       "  'Create Sales Order',\n",
       "  'Create Sales Order Item'],\n",
       " ['Material Availability Date passed',\n",
       "  'Create Sales Order',\n",
       "  'Create Sales Order Item'],\n",
       " ['Material Availability Date passed',\n",
       "  'Create Sales Order Item',\n",
       "  'Create Sales Order'],\n",
       " ['Material Availability Date passed',\n",
       "  'Create Sales Order',\n",
       "  'Create Sales Order Item'],\n",
       " ['Material Availability Date passed',\n",
       "  'Create Sales Order Item',\n",
       "  'Create Sales Order'],\n",
       " ['Material Availability Date passed',\n",
       "  'Create Sales Order',\n",
       "  'Create Sales Order Item'],\n",
       " ['Material Availability Date passed',\n",
       "  'Create Sales Order',\n",
       "  'Create Sales Order Item'],\n",
       " ['Material Availability Date passed',\n",
       "  'Create Sales Order Item',\n",
       "  'Create Sales Order'],\n",
       " ['Material Availability Date passed',\n",
       "  'Create Sales Order',\n",
       "  'Create Sales Order Item'],\n",
       " ['Material Availability Date passed',\n",
       "  'Create Sales Order',\n",
       "  'Create Sales Order Item'],\n",
       " ['Material Availability Date passed',\n",
       "  'Create Sales Order',\n",
       "  'Create Sales Order Item'],\n",
       " ['Material Availability Date passed',\n",
       "  'Create Sales Order Item',\n",
       "  'Create Sales Order'],\n",
       " ['Material Availability Date passed',\n",
       "  'Create Sales Order',\n",
       "  'Create Sales Order Item'],\n",
       " ['Material Availability Date passed',\n",
       "  'Create Sales Order',\n",
       "  'Create Sales Order Item'],\n",
       " ['Material Availability Date passed',\n",
       "  'Create Sales Order',\n",
       "  'Create Sales Order Item'],\n",
       " ['Material Availability Date passed',\n",
       "  'Create Sales Order',\n",
       "  'Create Sales Order Item'],\n",
       " ['Material Availability Date passed',\n",
       "  'Create Sales Order',\n",
       "  'Create Sales Order Item'],\n",
       " ['Material Availability Date passed',\n",
       "  'Create Sales Order',\n",
       "  'Create Sales Order Item'],\n",
       " ['Material Availability Date passed',\n",
       "  'Create Sales Order',\n",
       "  'Create Sales Order Item'],\n",
       " ['Material Availability Date passed',\n",
       "  'Create Sales Order',\n",
       "  'Create Sales Order Item'],\n",
       " ['Material Availability Date passed',\n",
       "  'Create Sales Order',\n",
       "  'Create Sales Order Item'],\n",
       " ['Material Availability Date passed',\n",
       "  'Create Sales Order Item',\n",
       "  'Create Sales Order'],\n",
       " ['Material Availability Date passed',\n",
       "  'Create Sales Order',\n",
       "  'Create Sales Order Item'],\n",
       " ['Material Availability Date passed',\n",
       "  'Create Sales Order',\n",
       "  'Create Sales Order Item'],\n",
       " ['Material Availability Date passed',\n",
       "  'Create Sales Order Item',\n",
       "  'Create Sales Order'],\n",
       " ['Material Availability Date passed',\n",
       "  'Create Sales Order',\n",
       "  'Create Sales Order Item'],\n",
       " ['Material Availability Date passed',\n",
       "  'Create Sales Order',\n",
       "  'Create Sales Order Item'],\n",
       " ['Material Availability Date passed',\n",
       "  'Create Sales Order',\n",
       "  'Create Sales Order Item'],\n",
       " ['Material Availability Date passed',\n",
       "  'Create Sales Order',\n",
       "  'Create Sales Order Item'],\n",
       " ['Material Availability Date passed',\n",
       "  'Create Sales Order Item',\n",
       "  'Create Sales Order'],\n",
       " ['Material Availability Date passed',\n",
       "  'Create Sales Order',\n",
       "  'Create Sales Order Item'],\n",
       " ['Material Availability Date passed',\n",
       "  'Create Sales Order Item',\n",
       "  'Create Sales Order'],\n",
       " ['Material Availability Date passed',\n",
       "  'Create Sales Order Item',\n",
       "  'Create Sales Order'],\n",
       " ['Material Availability Date passed',\n",
       "  'Create Sales Order',\n",
       "  'Create Sales Order Item'],\n",
       " ['Material Availability Date passed',\n",
       "  'Create Sales Order',\n",
       "  'Create Sales Order Item'],\n",
       " ['Material Availability Date passed',\n",
       "  'Create Sales Order',\n",
       "  'Create Sales Order Item'],\n",
       " ...]"
      ]
     },
     "execution_count": 89,
     "metadata": {},
     "output_type": "execute_result"
    }
   ],
   "source": [
    "pm.from_df_to_path()"
   ]
  },
  {
   "cell_type": "code",
   "execution_count": null,
   "metadata": {},
   "outputs": [
    {
     "ename": "NameError",
     "evalue": "name 'header_level' is not defined",
     "output_type": "error",
     "traceback": [
      "\u001b[1;31m---------------------------------------------------------------------------\u001b[0m",
      "\u001b[1;31mNameError\u001b[0m                                 Traceback (most recent call last)",
      "Cell \u001b[1;32mIn[35], line 1\u001b[0m\n\u001b[1;32m----> 1\u001b[0m group \u001b[39m=\u001b[39m header_level\u001b[39m.\u001b[39msort_values([\u001b[39m'\u001b[39m\u001b[39mSALES_DOC\u001b[39m\u001b[39m'\u001b[39m,\u001b[39m'\u001b[39m\u001b[39mTIMESTAMP\u001b[39m\u001b[39m'\u001b[39m])\u001b[39m.\u001b[39mgroupby(\u001b[39m'\u001b[39m\u001b[39mSALES_DOC\u001b[39m\u001b[39m'\u001b[39m)\n\u001b[0;32m      3\u001b[0m variants \u001b[39m=\u001b[39m \u001b[39mlist\u001b[39m(group\u001b[39m.\u001b[39mapply(\u001b[39mlambda\u001b[39;00m x: x[\u001b[39m'\u001b[39m\u001b[39mACTIVITY\u001b[39m\u001b[39m'\u001b[39m]\u001b[39m.\u001b[39mtolist())\u001b[39m.\u001b[39mvalues)\n\u001b[0;32m      5\u001b[0m variants \u001b[39m=\u001b[39m variants[:\u001b[39m50\u001b[39m]\n",
      "\u001b[1;31mNameError\u001b[0m: name 'header_level' is not defined"
     ]
    }
   ],
   "source": [
    "group = header_level.sort_values(['SALES_DOC','TIMESTAMP']).groupby('SALES_DOC')\n",
    "\n",
    "variants = list(group.apply(lambda x: x['ACTIVITY'].tolist()).values)\n",
    "\n",
    "variants = variants[:50]\n",
    "\n",
    "variants"
   ]
  },
  {
   "cell_type": "code",
   "execution_count": null,
   "metadata": {},
   "outputs": [
    {
     "ename": "NameError",
     "evalue": "name 'variants' is not defined",
     "output_type": "error",
     "traceback": [
      "\u001b[1;31m---------------------------------------------------------------------------\u001b[0m",
      "\u001b[1;31mNameError\u001b[0m                                 Traceback (most recent call last)",
      "Cell \u001b[1;32mIn[36], line 2\u001b[0m\n\u001b[0;32m      1\u001b[0m G \u001b[39m=\u001b[39m nx\u001b[39m.\u001b[39mMultiDiGraph()\n\u001b[1;32m----> 2\u001b[0m \u001b[39mfor\u001b[39;00m path \u001b[39min\u001b[39;00m variants:\n\u001b[0;32m      3\u001b[0m     edges \u001b[39m=\u001b[39m [(path[i], path[i\u001b[39m+\u001b[39m\u001b[39m1\u001b[39m]) \u001b[39mfor\u001b[39;00m i \u001b[39min\u001b[39;00m \u001b[39mrange\u001b[39m(\u001b[39mlen\u001b[39m(path)\u001b[39m-\u001b[39m\u001b[39m1\u001b[39m)]\n\u001b[0;32m      4\u001b[0m     \u001b[39mprint\u001b[39m(edges)\n",
      "\u001b[1;31mNameError\u001b[0m: name 'variants' is not defined"
     ]
    }
   ],
   "source": [
    "G = nx.MultiDiGraph()\n",
    "for path in variants:\n",
    "    edges = [(path[i], path[i+1]) for i in range(len(path)-1)]\n",
    "    print(edges)\n",
    "    G.add_edges_from(edges)"
   ]
  },
  {
   "cell_type": "code",
   "execution_count": null,
   "metadata": {},
   "outputs": [
    {
     "data": {
      "application/vnd.plotly.v1+json": {
       "config": {
        "plotlyServerURL": "https://plot.ly"
       },
       "data": [
        {
         "hoverinfo": "text",
         "marker": {
          "color": [],
          "size": []
         },
         "mode": "markers",
         "text": [],
         "textfont": {
          "size": 10
         },
         "textposition": "top center",
         "type": "scatter",
         "x": [],
         "y": []
        }
       ],
       "layout": {
        "autosize": false,
        "height": 800,
        "plot_bgcolor": "rgba(0,0,0,0)",
        "showlegend": false,
        "template": {
         "data": {
          "bar": [
           {
            "error_x": {
             "color": "#2a3f5f"
            },
            "error_y": {
             "color": "#2a3f5f"
            },
            "marker": {
             "line": {
              "color": "#E5ECF6",
              "width": 0.5
             },
             "pattern": {
              "fillmode": "overlay",
              "size": 10,
              "solidity": 0.2
             }
            },
            "type": "bar"
           }
          ],
          "barpolar": [
           {
            "marker": {
             "line": {
              "color": "#E5ECF6",
              "width": 0.5
             },
             "pattern": {
              "fillmode": "overlay",
              "size": 10,
              "solidity": 0.2
             }
            },
            "type": "barpolar"
           }
          ],
          "carpet": [
           {
            "aaxis": {
             "endlinecolor": "#2a3f5f",
             "gridcolor": "white",
             "linecolor": "white",
             "minorgridcolor": "white",
             "startlinecolor": "#2a3f5f"
            },
            "baxis": {
             "endlinecolor": "#2a3f5f",
             "gridcolor": "white",
             "linecolor": "white",
             "minorgridcolor": "white",
             "startlinecolor": "#2a3f5f"
            },
            "type": "carpet"
           }
          ],
          "choropleth": [
           {
            "colorbar": {
             "outlinewidth": 0,
             "ticks": ""
            },
            "type": "choropleth"
           }
          ],
          "contour": [
           {
            "colorbar": {
             "outlinewidth": 0,
             "ticks": ""
            },
            "colorscale": [
             [
              0,
              "#0d0887"
             ],
             [
              0.1111111111111111,
              "#46039f"
             ],
             [
              0.2222222222222222,
              "#7201a8"
             ],
             [
              0.3333333333333333,
              "#9c179e"
             ],
             [
              0.4444444444444444,
              "#bd3786"
             ],
             [
              0.5555555555555556,
              "#d8576b"
             ],
             [
              0.6666666666666666,
              "#ed7953"
             ],
             [
              0.7777777777777778,
              "#fb9f3a"
             ],
             [
              0.8888888888888888,
              "#fdca26"
             ],
             [
              1,
              "#f0f921"
             ]
            ],
            "type": "contour"
           }
          ],
          "contourcarpet": [
           {
            "colorbar": {
             "outlinewidth": 0,
             "ticks": ""
            },
            "type": "contourcarpet"
           }
          ],
          "heatmap": [
           {
            "colorbar": {
             "outlinewidth": 0,
             "ticks": ""
            },
            "colorscale": [
             [
              0,
              "#0d0887"
             ],
             [
              0.1111111111111111,
              "#46039f"
             ],
             [
              0.2222222222222222,
              "#7201a8"
             ],
             [
              0.3333333333333333,
              "#9c179e"
             ],
             [
              0.4444444444444444,
              "#bd3786"
             ],
             [
              0.5555555555555556,
              "#d8576b"
             ],
             [
              0.6666666666666666,
              "#ed7953"
             ],
             [
              0.7777777777777778,
              "#fb9f3a"
             ],
             [
              0.8888888888888888,
              "#fdca26"
             ],
             [
              1,
              "#f0f921"
             ]
            ],
            "type": "heatmap"
           }
          ],
          "heatmapgl": [
           {
            "colorbar": {
             "outlinewidth": 0,
             "ticks": ""
            },
            "colorscale": [
             [
              0,
              "#0d0887"
             ],
             [
              0.1111111111111111,
              "#46039f"
             ],
             [
              0.2222222222222222,
              "#7201a8"
             ],
             [
              0.3333333333333333,
              "#9c179e"
             ],
             [
              0.4444444444444444,
              "#bd3786"
             ],
             [
              0.5555555555555556,
              "#d8576b"
             ],
             [
              0.6666666666666666,
              "#ed7953"
             ],
             [
              0.7777777777777778,
              "#fb9f3a"
             ],
             [
              0.8888888888888888,
              "#fdca26"
             ],
             [
              1,
              "#f0f921"
             ]
            ],
            "type": "heatmapgl"
           }
          ],
          "histogram": [
           {
            "marker": {
             "pattern": {
              "fillmode": "overlay",
              "size": 10,
              "solidity": 0.2
             }
            },
            "type": "histogram"
           }
          ],
          "histogram2d": [
           {
            "colorbar": {
             "outlinewidth": 0,
             "ticks": ""
            },
            "colorscale": [
             [
              0,
              "#0d0887"
             ],
             [
              0.1111111111111111,
              "#46039f"
             ],
             [
              0.2222222222222222,
              "#7201a8"
             ],
             [
              0.3333333333333333,
              "#9c179e"
             ],
             [
              0.4444444444444444,
              "#bd3786"
             ],
             [
              0.5555555555555556,
              "#d8576b"
             ],
             [
              0.6666666666666666,
              "#ed7953"
             ],
             [
              0.7777777777777778,
              "#fb9f3a"
             ],
             [
              0.8888888888888888,
              "#fdca26"
             ],
             [
              1,
              "#f0f921"
             ]
            ],
            "type": "histogram2d"
           }
          ],
          "histogram2dcontour": [
           {
            "colorbar": {
             "outlinewidth": 0,
             "ticks": ""
            },
            "colorscale": [
             [
              0,
              "#0d0887"
             ],
             [
              0.1111111111111111,
              "#46039f"
             ],
             [
              0.2222222222222222,
              "#7201a8"
             ],
             [
              0.3333333333333333,
              "#9c179e"
             ],
             [
              0.4444444444444444,
              "#bd3786"
             ],
             [
              0.5555555555555556,
              "#d8576b"
             ],
             [
              0.6666666666666666,
              "#ed7953"
             ],
             [
              0.7777777777777778,
              "#fb9f3a"
             ],
             [
              0.8888888888888888,
              "#fdca26"
             ],
             [
              1,
              "#f0f921"
             ]
            ],
            "type": "histogram2dcontour"
           }
          ],
          "mesh3d": [
           {
            "colorbar": {
             "outlinewidth": 0,
             "ticks": ""
            },
            "type": "mesh3d"
           }
          ],
          "parcoords": [
           {
            "line": {
             "colorbar": {
              "outlinewidth": 0,
              "ticks": ""
             }
            },
            "type": "parcoords"
           }
          ],
          "pie": [
           {
            "automargin": true,
            "type": "pie"
           }
          ],
          "scatter": [
           {
            "fillpattern": {
             "fillmode": "overlay",
             "size": 10,
             "solidity": 0.2
            },
            "type": "scatter"
           }
          ],
          "scatter3d": [
           {
            "line": {
             "colorbar": {
              "outlinewidth": 0,
              "ticks": ""
             }
            },
            "marker": {
             "colorbar": {
              "outlinewidth": 0,
              "ticks": ""
             }
            },
            "type": "scatter3d"
           }
          ],
          "scattercarpet": [
           {
            "marker": {
             "colorbar": {
              "outlinewidth": 0,
              "ticks": ""
             }
            },
            "type": "scattercarpet"
           }
          ],
          "scattergeo": [
           {
            "marker": {
             "colorbar": {
              "outlinewidth": 0,
              "ticks": ""
             }
            },
            "type": "scattergeo"
           }
          ],
          "scattergl": [
           {
            "marker": {
             "colorbar": {
              "outlinewidth": 0,
              "ticks": ""
             }
            },
            "type": "scattergl"
           }
          ],
          "scattermapbox": [
           {
            "marker": {
             "colorbar": {
              "outlinewidth": 0,
              "ticks": ""
             }
            },
            "type": "scattermapbox"
           }
          ],
          "scatterpolar": [
           {
            "marker": {
             "colorbar": {
              "outlinewidth": 0,
              "ticks": ""
             }
            },
            "type": "scatterpolar"
           }
          ],
          "scatterpolargl": [
           {
            "marker": {
             "colorbar": {
              "outlinewidth": 0,
              "ticks": ""
             }
            },
            "type": "scatterpolargl"
           }
          ],
          "scatterternary": [
           {
            "marker": {
             "colorbar": {
              "outlinewidth": 0,
              "ticks": ""
             }
            },
            "type": "scatterternary"
           }
          ],
          "surface": [
           {
            "colorbar": {
             "outlinewidth": 0,
             "ticks": ""
            },
            "colorscale": [
             [
              0,
              "#0d0887"
             ],
             [
              0.1111111111111111,
              "#46039f"
             ],
             [
              0.2222222222222222,
              "#7201a8"
             ],
             [
              0.3333333333333333,
              "#9c179e"
             ],
             [
              0.4444444444444444,
              "#bd3786"
             ],
             [
              0.5555555555555556,
              "#d8576b"
             ],
             [
              0.6666666666666666,
              "#ed7953"
             ],
             [
              0.7777777777777778,
              "#fb9f3a"
             ],
             [
              0.8888888888888888,
              "#fdca26"
             ],
             [
              1,
              "#f0f921"
             ]
            ],
            "type": "surface"
           }
          ],
          "table": [
           {
            "cells": {
             "fill": {
              "color": "#EBF0F8"
             },
             "line": {
              "color": "white"
             }
            },
            "header": {
             "fill": {
              "color": "#C8D4E3"
             },
             "line": {
              "color": "white"
             }
            },
            "type": "table"
           }
          ]
         },
         "layout": {
          "annotationdefaults": {
           "arrowcolor": "#2a3f5f",
           "arrowhead": 0,
           "arrowwidth": 1
          },
          "autotypenumbers": "strict",
          "coloraxis": {
           "colorbar": {
            "outlinewidth": 0,
            "ticks": ""
           }
          },
          "colorscale": {
           "diverging": [
            [
             0,
             "#8e0152"
            ],
            [
             0.1,
             "#c51b7d"
            ],
            [
             0.2,
             "#de77ae"
            ],
            [
             0.3,
             "#f1b6da"
            ],
            [
             0.4,
             "#fde0ef"
            ],
            [
             0.5,
             "#f7f7f7"
            ],
            [
             0.6,
             "#e6f5d0"
            ],
            [
             0.7,
             "#b8e186"
            ],
            [
             0.8,
             "#7fbc41"
            ],
            [
             0.9,
             "#4d9221"
            ],
            [
             1,
             "#276419"
            ]
           ],
           "sequential": [
            [
             0,
             "#0d0887"
            ],
            [
             0.1111111111111111,
             "#46039f"
            ],
            [
             0.2222222222222222,
             "#7201a8"
            ],
            [
             0.3333333333333333,
             "#9c179e"
            ],
            [
             0.4444444444444444,
             "#bd3786"
            ],
            [
             0.5555555555555556,
             "#d8576b"
            ],
            [
             0.6666666666666666,
             "#ed7953"
            ],
            [
             0.7777777777777778,
             "#fb9f3a"
            ],
            [
             0.8888888888888888,
             "#fdca26"
            ],
            [
             1,
             "#f0f921"
            ]
           ],
           "sequentialminus": [
            [
             0,
             "#0d0887"
            ],
            [
             0.1111111111111111,
             "#46039f"
            ],
            [
             0.2222222222222222,
             "#7201a8"
            ],
            [
             0.3333333333333333,
             "#9c179e"
            ],
            [
             0.4444444444444444,
             "#bd3786"
            ],
            [
             0.5555555555555556,
             "#d8576b"
            ],
            [
             0.6666666666666666,
             "#ed7953"
            ],
            [
             0.7777777777777778,
             "#fb9f3a"
            ],
            [
             0.8888888888888888,
             "#fdca26"
            ],
            [
             1,
             "#f0f921"
            ]
           ]
          },
          "colorway": [
           "#636efa",
           "#EF553B",
           "#00cc96",
           "#ab63fa",
           "#FFA15A",
           "#19d3f3",
           "#FF6692",
           "#B6E880",
           "#FF97FF",
           "#FECB52"
          ],
          "font": {
           "color": "#2a3f5f"
          },
          "geo": {
           "bgcolor": "white",
           "lakecolor": "white",
           "landcolor": "#E5ECF6",
           "showlakes": true,
           "showland": true,
           "subunitcolor": "white"
          },
          "hoverlabel": {
           "align": "left"
          },
          "hovermode": "closest",
          "mapbox": {
           "style": "light"
          },
          "paper_bgcolor": "white",
          "plot_bgcolor": "#E5ECF6",
          "polar": {
           "angularaxis": {
            "gridcolor": "white",
            "linecolor": "white",
            "ticks": ""
           },
           "bgcolor": "#E5ECF6",
           "radialaxis": {
            "gridcolor": "white",
            "linecolor": "white",
            "ticks": ""
           }
          },
          "scene": {
           "xaxis": {
            "backgroundcolor": "#E5ECF6",
            "gridcolor": "white",
            "gridwidth": 2,
            "linecolor": "white",
            "showbackground": true,
            "ticks": "",
            "zerolinecolor": "white"
           },
           "yaxis": {
            "backgroundcolor": "#E5ECF6",
            "gridcolor": "white",
            "gridwidth": 2,
            "linecolor": "white",
            "showbackground": true,
            "ticks": "",
            "zerolinecolor": "white"
           },
           "zaxis": {
            "backgroundcolor": "#E5ECF6",
            "gridcolor": "white",
            "gridwidth": 2,
            "linecolor": "white",
            "showbackground": true,
            "ticks": "",
            "zerolinecolor": "white"
           }
          },
          "shapedefaults": {
           "line": {
            "color": "#2a3f5f"
           }
          },
          "ternary": {
           "aaxis": {
            "gridcolor": "white",
            "linecolor": "white",
            "ticks": ""
           },
           "baxis": {
            "gridcolor": "white",
            "linecolor": "white",
            "ticks": ""
           },
           "bgcolor": "#E5ECF6",
           "caxis": {
            "gridcolor": "white",
            "linecolor": "white",
            "ticks": ""
           }
          },
          "title": {
           "x": 0.05
          },
          "xaxis": {
           "automargin": true,
           "gridcolor": "white",
           "linecolor": "white",
           "ticks": "",
           "title": {
            "standoff": 15
           },
           "zerolinecolor": "white",
           "zerolinewidth": 2
          },
          "yaxis": {
           "automargin": true,
           "gridcolor": "white",
           "linecolor": "white",
           "ticks": "",
           "title": {
            "standoff": 15
           },
           "zerolinecolor": "white",
           "zerolinewidth": 2
          }
         }
        },
        "width": 800,
        "xaxis": {
         "showgrid": false,
         "showticklabels": false,
         "zeroline": false
        },
        "yaxis": {
         "showgrid": false,
         "showticklabels": false,
         "zeroline": false
        }
       }
      }
     },
     "metadata": {},
     "output_type": "display_data"
    }
   ],
   "source": [
    "g = PlotGraph(G)\n",
    "fig = g.draw_graph()\n",
    "fig.show()\n"
   ]
  },
  {
   "attachments": {},
   "cell_type": "markdown",
   "metadata": {},
   "source": [
    "## Finding Cycles\n"
   ]
  },
  {
   "cell_type": "code",
   "execution_count": null,
   "metadata": {},
   "outputs": [
    {
     "data": {
      "text/plain": [
       "[('Material Availability Date passed', 'Create Sales Order', 'forward'),\n",
       " ('Create Sales Order', 'Create Sales Order Item', 'forward'),\n",
       " ('Create Sales Order Item', 'Material Availability Date passed', 'forward')]"
      ]
     },
     "execution_count": 38,
     "metadata": {},
     "output_type": "execute_result"
    }
   ],
   "source": [
    "cycle = nx.find_cycle(pm.net(), orientation = 'original')\n",
    "cycle\n"
   ]
  },
  {
   "cell_type": "code",
   "execution_count": null,
   "metadata": {},
   "outputs": [
    {
     "ename": "NetworkXNotImplemented",
     "evalue": "not implemented for undirected type",
     "output_type": "error",
     "traceback": [
      "\u001b[1;31m---------------------------------------------------------------------------\u001b[0m",
      "\u001b[1;31mNetworkXNotImplemented\u001b[0m                    Traceback (most recent call last)",
      "Cell \u001b[1;32mIn[39], line 1\u001b[0m\n\u001b[1;32m----> 1\u001b[0m simple_cycles \u001b[39m=\u001b[39m nx\u001b[39m.\u001b[39;49malgorithms\u001b[39m.\u001b[39;49msimple_cycles(pm\u001b[39m.\u001b[39;49mnet())\n",
      "File \u001b[1;32mc:\\Users\\nunod\\AppData\\Local\\Programs\\Python\\Python311\\Lib\\site-packages\\networkx\\utils\\decorators.py:766\u001b[0m, in \u001b[0;36margmap.__call__.<locals>.func\u001b[1;34m(_argmap__wrapper, *args, **kwargs)\u001b[0m\n\u001b[0;32m    765\u001b[0m \u001b[39mdef\u001b[39;00m \u001b[39mfunc\u001b[39m(\u001b[39m*\u001b[39margs, __wrapper\u001b[39m=\u001b[39m\u001b[39mNone\u001b[39;00m, \u001b[39m*\u001b[39m\u001b[39m*\u001b[39mkwargs):\n\u001b[1;32m--> 766\u001b[0m     \u001b[39mreturn\u001b[39;00m argmap\u001b[39m.\u001b[39;49m_lazy_compile(__wrapper)(\u001b[39m*\u001b[39;49margs, \u001b[39m*\u001b[39;49m\u001b[39m*\u001b[39;49mkwargs)\n",
      "File \u001b[1;32m<class 'networkx.utils.decorators.argmap'> compilation 16:3\u001b[0m, in \u001b[0;36margmap_simple_cycles_13\u001b[1;34m(G)\u001b[0m\n\u001b[0;32m      1\u001b[0m \u001b[39mimport\u001b[39;00m \u001b[39mbz2\u001b[39;00m\n\u001b[0;32m      2\u001b[0m \u001b[39mimport\u001b[39;00m \u001b[39mcollections\u001b[39;00m\n\u001b[1;32m----> 3\u001b[0m \u001b[39mimport\u001b[39;00m \u001b[39mgzip\u001b[39;00m\n\u001b[0;32m      4\u001b[0m \u001b[39mimport\u001b[39;00m \u001b[39minspect\u001b[39;00m\n\u001b[0;32m      5\u001b[0m \u001b[39mimport\u001b[39;00m \u001b[39mitertools\u001b[39;00m\n",
      "File \u001b[1;32mc:\\Users\\nunod\\AppData\\Local\\Programs\\Python\\Python311\\Lib\\site-packages\\networkx\\utils\\decorators.py:86\u001b[0m, in \u001b[0;36mnot_implemented_for.<locals>._not_implemented_for\u001b[1;34m(g)\u001b[0m\n\u001b[0;32m     82\u001b[0m \u001b[39mdef\u001b[39;00m \u001b[39m_not_implemented_for\u001b[39m(g):\n\u001b[0;32m     83\u001b[0m     \u001b[39mif\u001b[39;00m (mval \u001b[39mis\u001b[39;00m \u001b[39mNone\u001b[39;00m \u001b[39mor\u001b[39;00m mval \u001b[39m==\u001b[39m g\u001b[39m.\u001b[39mis_multigraph()) \u001b[39mand\u001b[39;00m (\n\u001b[0;32m     84\u001b[0m         dval \u001b[39mis\u001b[39;00m \u001b[39mNone\u001b[39;00m \u001b[39mor\u001b[39;00m dval \u001b[39m==\u001b[39m g\u001b[39m.\u001b[39mis_directed()\n\u001b[0;32m     85\u001b[0m     ):\n\u001b[1;32m---> 86\u001b[0m         \u001b[39mraise\u001b[39;00m nx\u001b[39m.\u001b[39mNetworkXNotImplemented(errmsg)\n\u001b[0;32m     88\u001b[0m     \u001b[39mreturn\u001b[39;00m g\n",
      "\u001b[1;31mNetworkXNotImplemented\u001b[0m: not implemented for undirected type"
     ]
    }
   ],
   "source": [
    "simple_cycles = nx.algorithms.simple_cycles(pm.net())\n"
   ]
  },
  {
   "cell_type": "code",
   "execution_count": null,
   "metadata": {},
   "outputs": [],
   "source": [
    "desired_nodes = ['Create Picking', 'Create Delivery']\n",
    "\n",
    "# Filter cycles that pass through the desired nodes\n",
    "filtered_cycles = [cycle for cycle in simple_cycles if set(desired_nodes).issubset(cycle)]"
   ]
  },
  {
   "cell_type": "code",
   "execution_count": null,
   "metadata": {},
   "outputs": [],
   "source": [
    "cycle_basis = nx.cycle_basis(pm.net().to_undirected())"
   ]
  },
  {
   "cell_type": "code",
   "execution_count": null,
   "metadata": {},
   "outputs": [],
   "source": [
    "cycle_basis\n"
   ]
  },
  {
   "cell_type": "code",
   "execution_count": null,
   "metadata": {},
   "outputs": [],
   "source": [
    "# Count the number of cycles\n",
    "cycle_count = sum(1 for _ in simple_cycles)\n",
    "\n",
    "# Print the number of cycles\n",
    "print(\"Number of simple cycles:\", cycle_count)"
   ]
  }
 ],
 "metadata": {
  "kernelspec": {
   "display_name": "Python 3 (ipykernel)",
   "language": "python",
   "name": "python3"
  },
  "language_info": {
   "codemirror_mode": {
    "name": "ipython",
    "version": 3
   },
   "file_extension": ".py",
   "mimetype": "text/x-python",
   "name": "python",
   "nbconvert_exporter": "python",
   "pygments_lexer": "ipython3",
   "version": "3.11.2"
  },
  "vscode": {
   "interpreter": {
    "hash": "093ca69aa4fbb6413b32cb40a6932c076a22059f232c70a22e4bf5da05c00e88"
   }
  }
 },
 "nbformat": 4,
 "nbformat_minor": 4
}
